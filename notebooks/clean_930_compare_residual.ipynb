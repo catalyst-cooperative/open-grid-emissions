{
 "cells": [
  {
   "cell_type": "markdown",
   "metadata": {},
   "source": [
    "# Cleaning of 930, analyze how cleaning affects residual profile"
   ]
  },
  {
   "cell_type": "code",
   "execution_count": null,
   "metadata": {},
   "outputs": [],
   "source": [
    "# data source https://gridemissions.s3.us-east-2.amazonaws.com/EBA_elec.csv.gz"
   ]
  },
  {
   "cell_type": "code",
   "execution_count": null,
   "metadata": {},
   "outputs": [],
   "source": [
    "import numpy as np\n",
    "import pandas as pd\n",
    "\n",
    "import plotly.express as px\n",
    "import plotly.graph_objects as go\n",
    "\n",
    "import datetime as dt"
   ]
  },
  {
   "cell_type": "code",
   "execution_count": null,
   "metadata": {},
   "outputs": [],
   "source": [
    "%reload_ext autoreload\n",
    "%autoreload 2\n",
    "\n",
    "# Tell python where to look for modules. \n",
    "# Depending on how your jupyter handles working directories, this may not be needed.\n",
    "import sys\n",
    "sys.path.append('../../hourly-egrid/')\n",
    "\n",
    "from src.visualization import day_hour_heatmap\n",
    "from src.eia930 import fuel_code_map, reformat_chalendar, load_chalendar\n",
    "from src.load_data import download_chalendar_files"
   ]
  },
  {
   "cell_type": "code",
   "execution_count": null,
   "metadata": {},
   "outputs": [],
   "source": [
    "year = 2020"
   ]
  },
  {
   "cell_type": "code",
   "execution_count": null,
   "metadata": {},
   "outputs": [],
   "source": [
    "# Download data if not exists\n",
    "download_chalendar_files()"
   ]
  },
  {
   "cell_type": "code",
   "execution_count": null,
   "metadata": {},
   "outputs": [],
   "source": [
    "# Note: cleaned file written by 930_lag.py\n",
    "original = load_chalendar(\"../data/outputs/EBA_adjusted_rolling.csv\", year=year)"
   ]
  },
  {
   "cell_type": "code",
   "execution_count": null,
   "metadata": {},
   "outputs": [],
   "source": [
    "cleaned = load_chalendar(\"../data/outputs/EBA_adjusted_elec.csv\", year=year)"
   ]
  },
  {
   "cell_type": "code",
   "execution_count": null,
   "metadata": {},
   "outputs": [],
   "source": [
    "cems = pd.read_csv(f\"../data/outputs/cems_{year}_cleaned_20220505.csv\", index_col=0, parse_dates=['operating_datetime_utc'])\n",
    "cems = cems.rename(columns={\"operating_datetime_utc\":\"datetime_utc\"})"
   ]
  },
  {
   "cell_type": "markdown",
   "metadata": {},
   "source": [
    "# Visualize residual in one large BA"
   ]
  },
  {
   "cell_type": "code",
   "execution_count": null,
   "metadata": {},
   "outputs": [],
   "source": [
    "cleaned.head()"
   ]
  },
  {
   "cell_type": "code",
   "execution_count": null,
   "metadata": {},
   "outputs": [],
   "source": [
    "ba = \"CISO\"\n",
    "\n",
    "ba_dat = cleaned.loc[cleaned[\"BA\"] == ba, [\"generation\",\"fuel\",\"datetime_utc\"]].copy().rename(columns={\"generation\":\"cleaned_gen\"})\n",
    "ba_dat = ba_dat.merge(\\\n",
    "    original.loc[original[\"BA\"]==ba, [\"generation\",\"fuel\",\"datetime_utc\"]].copy().rename(columns={\"generation\":\"original_gen\"}),\\\n",
    "    how='left', on=[\"fuel\",\"datetime_utc\"])"
   ]
  },
  {
   "cell_type": "code",
   "execution_count": null,
   "metadata": {},
   "outputs": [],
   "source": [
    "#px.line(ba_dat, x=\"datetime_utc\", y=[\"cleaned_gen\",\"original_gen\"], color=\"fuel\")"
   ]
  },
  {
   "cell_type": "code",
   "execution_count": null,
   "metadata": {},
   "outputs": [],
   "source": [
    "# 930 fuel types are COL, NG, OIL, WAT, SUN, WND, OTH\n",
    "# Chalendar adds two others: BIO, GEO in cleaned data, only in CISO\n",
    "cleaned.fuel.unique()"
   ]
  },
  {
   "cell_type": "code",
   "execution_count": null,
   "metadata": {},
   "outputs": [],
   "source": [
    "cems[\"fuel\"] = cems[\"energy_source_code\"].map(fuel_code_map)"
   ]
  },
  {
   "cell_type": "code",
   "execution_count": null,
   "metadata": {},
   "outputs": [],
   "source": [
    "\n",
    "# aggregate by either BA or physical BA, either way, make naming consistent\n",
    "cems_aggregated = cems.groupby([\"datetime_utc\",\"ba_code_physical\",\"fuel\"]).sum()[\"net_generation_mwh\"].reset_index().rename(columns={\"ba_code_physical\":\"ba_code\"})"
   ]
  },
  {
   "cell_type": "markdown",
   "metadata": {},
   "source": [
    "# Plot residual "
   ]
  },
  {
   "cell_type": "code",
   "execution_count": null,
   "metadata": {},
   "outputs": [],
   "source": [
    "#cems_fuels = cems_aggregated.fuel.unique() # includes SUN for some reason, dont' want that\n",
    "cems_fuels = [\"COL\",\"NG\",\"OIL\",\"OTH\"]"
   ]
  },
  {
   "cell_type": "code",
   "execution_count": null,
   "metadata": {},
   "outputs": [],
   "source": [
    "cleaned.BA.unique()"
   ]
  },
  {
   "cell_type": "code",
   "execution_count": null,
   "metadata": {},
   "outputs": [],
   "source": [
    "ba = \"PJM\"\n",
    "\n",
    "ba_dat = cleaned.loc[cleaned[\"BA\"] == ba, [\"generation\",\"fuel\",\"datetime_utc\"]].copy().rename(columns={\"generation\":\"cleaned_gen\"})\n",
    "ba_dat = ba_dat.merge(\\\n",
    "    original.loc[original[\"BA\"]==ba, [\"generation\",\"fuel\",\"datetime_utc\"]].copy().rename(columns={\"generation\":\"original_gen\"}),\\\n",
    "    how='left', on=[\"fuel\",\"datetime_utc\"])\n",
    "\n",
    "# add cems data\n",
    "cems_ba = cems_aggregated.loc[cems_aggregated[\"ba_code\"]==ba].copy()\\\n",
    "    .rename(columns={\"net_generation_mwh\":\"cems_gen\",\"operating_datetime_utc\":\"index\",\"ba_code\":\"BA\"})\n",
    "ba_dat = ba_dat.merge(cems_ba, how='left', on=['fuel','datetime_utc'])\n",
    "\n",
    "# Only want to show fuels in cems \n",
    "ba_dat = ba_dat[ba_dat.fuel.isin(cems_fuels)]\n",
    "\n",
    "px.line(ba_dat, x=\"datetime_utc\", y=[\"cleaned_gen\",\"original_gen\",\"cems_gen\"], facet_col=\"fuel\", facet_col_wrap=2)"
   ]
  },
  {
   "cell_type": "code",
   "execution_count": null,
   "metadata": {},
   "outputs": [],
   "source": [
    "ba = \"MISO\"\n",
    "use = cleaned\n",
    "\n",
    "toshow = []\n",
    "for fuel in cems_fuels:\n",
    "    cleaned_baf = use[(use.fuel==fuel) & (use.BA==ba)]\n",
    "    cleaned_cems = cems_aggregated[(cems_aggregated.fuel==fuel) & (cems_aggregated.ba_code==ba)]\n",
    "    dif = cleaned_baf.set_index(\"datetime_utc\").generation - cleaned_cems.set_index(\"datetime_utc\").net_generation_mwh\n",
    "    fig, times = day_hour_heatmap(dif, year=year)\n",
    "    toshow.append(fig)\n",
    "    # map, times = day_hour_heatmap(cleaned_baf - cems_baf)\n",
    "\n",
    "fig = px.imshow(np.stack(toshow), facet_col=0, facet_col_wrap=1,color_continuous_scale=\"RdBu\", \\\n",
    "    width=1000, height=600, x=times, color_continuous_midpoint=0, \\\n",
    "    title=f\"{ba}\", template='plotly_white')\n",
    "\n",
    "# Set facet names to fuels\n",
    "fig.for_each_annotation(lambda a: a.update(text=cems_fuels[int(a.text.split(\"=\")[-1])]))"
   ]
  },
  {
   "cell_type": "markdown",
   "metadata": {},
   "source": [
    "# Calculate all residuals"
   ]
  },
  {
   "cell_type": "code",
   "execution_count": null,
   "metadata": {},
   "outputs": [],
   "source": [
    "residuals = pd.DataFrame()\n",
    "\n",
    "# Calculate all residuals \n",
    "bas = np.union1d(cleaned.BA.unique(), cems_aggregated.ba_code.unique())\n",
    "for ba in bas:\n",
    "    print(f\"{ba}...\", end=\"\")\n",
    "    for fuel in cems_fuels:\n",
    "        cleaned_baf = cleaned[(cleaned.fuel==fuel) & (cleaned.BA==ba)]\n",
    "        cleaned_cems = cems_aggregated[(cems_aggregated.fuel==fuel) & (cems_aggregated.ba_code==ba)]\n",
    "        dif = cleaned_baf.set_index(\"datetime_utc\").generation - cleaned_cems.set_index(\"datetime_utc\").net_generation_mwh\n",
    "        dif = dif.rename(\"residual\").to_frame()\n",
    "        dif[\"BA\"] = ba\n",
    "        dif[\"fuel\"] = fuel\n",
    "        residuals = pd.concat([residuals,dif])"
   ]
  },
  {
   "cell_type": "code",
   "execution_count": null,
   "metadata": {},
   "outputs": [],
   "source": [
    "r = residuals.reset_index().set_index([\"BA\",\"fuel\",\"datetime_utc\"])\n",
    "r = r.dropna()"
   ]
  },
  {
   "cell_type": "markdown",
   "metadata": {},
   "source": [
    "# Metrics: \n",
    "\n",
    "* Number of sign changes in residual profile\n",
    "* Mean residual profile\n",
    "* % of days with negative residual\n",
    "* Generation we expect in residual, based on difference between BA's 923 generation and 930 generation "
   ]
  },
  {
   "cell_type": "code",
   "execution_count": null,
   "metadata": {},
   "outputs": [],
   "source": [
    "eia923 = pd.read_csv(f\"../data/outputs/eia923_clean_{year}_20220502\")"
   ]
  },
  {
   "cell_type": "code",
   "execution_count": null,
   "metadata": {},
   "outputs": [],
   "source": [
    "# Calculate difference between EIA-923 (expected annual 930 generation) and CEMS: this is the expected magnitude of the residual \n",
    "# group by fuel and BA\n",
    "eia923[\"fuel\"] = eia923[\"energy_source_code\"].map(fuel_code_map)\n",
    "net_gen_923 = (eia923.groupby([\"ba_code\",\"fuel\"]).sum()).reset_index()\n",
    "net_gen_923 = net_gen_923.pivot(index=\"ba_code\",columns=\"fuel\", values=\"net_generation_mwh\").drop(columns=[\"SUN\"])\n",
    "\n",
    "# difference from CEMS \n",
    "cems_by_fuel = cems_aggregated.groupby([\"ba_code\",\"fuel\"]).sum().reset_index().pivot(index=\"ba_code\",columns=\"fuel\",values=\"net_generation_mwh\").drop(columns=\"SUN\")\n",
    "\n",
    "expected_residual = net_gen_923 - cems_by_fuel\n",
    "\n",
    "expected_residual_as_percent = expected_residual/net_gen_923\n",
    "expected_residual_as_percent_of_total = expected_residual.div(net_gen_923.sum(axis='columns'), axis='index')"
   ]
  },
  {
   "cell_type": "code",
   "execution_count": null,
   "metadata": {},
   "outputs": [],
   "source": [
    "px.bar(expected_residual, x=expected_residual.index, y=[\"COL\",\"NG\",\"OIL\",\"OTH\"], title=\"Expected residual (annual MWh)\")"
   ]
  },
  {
   "cell_type": "code",
   "execution_count": null,
   "metadata": {},
   "outputs": [],
   "source": [
    "px.bar(expected_residual_as_percent, x=expected_residual_as_percent.index, y=[\"COL\",\"NG\",\"OIL\",\"OTH\"], title=\"Expected residual (percent of annual generation by fuel type)\")"
   ]
  },
  {
   "cell_type": "code",
   "execution_count": null,
   "metadata": {},
   "outputs": [],
   "source": [
    "px.bar(expected_residual_as_percent_of_total, x=expected_residual_as_percent_of_total.index,\n",
    "    y=[\"COL\",\"NG\",\"OIL\",\"OTH\"],title=\"Expected residual (percent of total annual generation)\")"
   ]
  },
  {
   "cell_type": "code",
   "execution_count": null,
   "metadata": {},
   "outputs": [],
   "source": [
    "# Compare expected and actual residuals\n",
    "total_residual = residuals.groupby([\"BA\",\"fuel\"]).sum().reset_index()\n",
    "total_residual[\"what\"] = \"Actual (930-CEMS)\"\n",
    "\n",
    "e = expected_residual.melt(ignore_index=False).reset_index().rename(columns={\"ba_code\":\"BA\",\"value\":\"residual\"})\n",
    "e[\"what\"] = \"Expected (923-CEMS)\"\n",
    "\n",
    "total_residual = pd.concat([total_residual, e])\n",
    "px.bar(total_residual, x=\"BA\",y=\"residual\",color=\"what\",facet_col=\"fuel\",facet_col_wrap=1, barmode='group', width=1500, height=1000)\n"
   ]
  },
  {
   "cell_type": "code",
   "execution_count": null,
   "metadata": {},
   "outputs": [],
   "source": [
    "ng = net_gen_923.melt(ignore_index=False).reset_index().rename(columns={\"value\":\"923_by_fuel\"})\n",
    "total_residual = total_residual.merge(ng, how='left',left_on=[\"BA\",\"fuel\"], right_on=[\"ba_code\",\"fuel\"])\n",
    "\n",
    "ng_tot = ng.groupby(\"ba_code\").sum().rename(columns={\"923_by_fuel\":\"923_total\"})\n",
    "total_residual = total_residual.merge(ng_tot, how='left', left_on='BA', right_index=True)\n",
    "\n",
    "total_residual"
   ]
  },
  {
   "cell_type": "code",
   "execution_count": null,
   "metadata": {},
   "outputs": [],
   "source": [
    "total_residual[\"residual_frac_of_fuel_gen\"]  = total_residual[\"residual\"]/total_residual[\"923_by_fuel\"]\n",
    "total_residual[\"residual_frac_of_gen\"]  = total_residual[\"residual\"]/total_residual[\"923_total\"]\n"
   ]
  },
  {
   "cell_type": "code",
   "execution_count": null,
   "metadata": {},
   "outputs": [],
   "source": [
    "# Compare expected and actual residuals as percent of  923 generation \n",
    "\n",
    "px.bar(total_residual, x=\"BA\",y=\"residual_frac_of_fuel_gen\",color=\"what\",facet_col=\"fuel\",facet_col_wrap=1, barmode='group', \n",
    "    width=1500, height=1000, title=\"Residual as percent of generation by fuel\")"
   ]
  },
  {
   "cell_type": "code",
   "execution_count": null,
   "metadata": {},
   "outputs": [],
   "source": [
    "# Compare expected and actual residuals as percent of  923 generation \n",
    "\n",
    "px.bar(total_residual, x=\"BA\",y=\"residual_frac_of_gen\",color=\"what\",facet_col=\"fuel\",facet_col_wrap=1, barmode='group', \n",
    "    width=1500, height=1000, title=\"Residual as percent of generation by fuel\")"
   ]
  },
  {
   "cell_type": "markdown",
   "metadata": {},
   "source": [
    "# Metrics per-BA and fuel"
   ]
  },
  {
   "cell_type": "code",
   "execution_count": null,
   "metadata": {},
   "outputs": [],
   "source": [
    "bas = r.index.get_level_values(0).unique()\n",
    "fuels = r.index.get_level_values(1).unique()\n",
    "\n",
    "summary_sign_change = pd.DataFrame(index=bas, columns=fuels) # df of ba, fuel\n",
    "\n",
    "for ba in bas:\n",
    "    for fuel in r.loc[(ba)].index.get_level_values(0).unique(): # some bas don't have all fuels\n",
    "        target = r.loc[(ba,fuel),:]\n",
    "        val = np.sign(target).diff().ne(0).sum()\n",
    "        summary_sign_change.loc[ba,fuel] = val.to_numpy()[0]\n",
    "\n",
    "summary_sign_change"
   ]
  },
  {
   "cell_type": "code",
   "execution_count": null,
   "metadata": {},
   "outputs": [],
   "source": [
    "bas = r.index.get_level_values(0).unique()\n",
    "fuels = r.index.get_level_values(1).unique()\n",
    "\n",
    "summary_mean = pd.DataFrame(index=bas, columns=fuels) # df of ba, fuel\n",
    "\n",
    "for ba in bas:\n",
    "    for fuel in r.loc[(ba)].index.get_level_values(0).unique(): # some bas don't have all fuels\n",
    "        target = r.loc[(ba,fuel),:]\n",
    "        val = target.mean()\n",
    "        summary_mean.loc[ba,fuel] = val.to_numpy()[0]\n",
    "\n",
    "summary_mean"
   ]
  },
  {
   "cell_type": "code",
   "execution_count": null,
   "metadata": {},
   "outputs": [],
   "source": [
    "bas = r.index.get_level_values(0).unique()\n",
    "fuels = r.index.get_level_values(1).unique()\n",
    "\n",
    "summary_lt_0 = pd.DataFrame(index=bas, columns=fuels) # df of ba, fuel\n",
    "\n",
    "for ba in bas:\n",
    "    for fuel in r.loc[(ba)].index.get_level_values(0).unique(): # some bas don't have all fuels\n",
    "        target = r.loc[(ba,fuel),:]\n",
    "        val = (target < 0).residual.sum()/len(target)\n",
    "        summary_lt_0.loc[ba,fuel] = val\n",
    "\n",
    "summary_lt_0"
   ]
  },
  {
   "cell_type": "markdown",
   "metadata": {},
   "source": [
    "# Plot some generation residuals"
   ]
  },
  {
   "cell_type": "code",
   "execution_count": null,
   "metadata": {},
   "outputs": [],
   "source": [
    "# Note: the figure created here is very large, so leave out of git commit by commenting.\n",
    "\n",
    "#px.line(residuals, x=residuals.index, y='residual', color='BA', facet_col='fuel', facet_col_wrap=1,width=1500, height=1000)"
   ]
  },
  {
   "cell_type": "code",
   "execution_count": null,
   "metadata": {},
   "outputs": [],
   "source": []
  }
 ],
 "metadata": {
  "interpreter": {
   "hash": "4103f3cd497821eca917ea303dbe10c590d787eb7d2dc3fd4e15dec0356e7931"
  },
  "kernelspec": {
   "display_name": "Python 3.9.12 ('hourly_egrid')",
   "language": "python",
   "name": "python3"
  },
  "language_info": {
   "codemirror_mode": {
    "name": "ipython",
    "version": 3
   },
   "file_extension": ".py",
   "mimetype": "text/x-python",
   "name": "python",
   "nbconvert_exporter": "python",
   "pygments_lexer": "ipython3",
   "version": "3.9.12"
  },
  "orig_nbformat": 4
 },
 "nbformat": 4,
 "nbformat_minor": 2
}
