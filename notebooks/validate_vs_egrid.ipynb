{
 "cells": [
  {
   "cell_type": "code",
   "execution_count": null,
   "metadata": {},
   "outputs": [],
   "source": [
    "# import packages\n",
    "import numpy as np\n",
    "import pandas as pd\n",
    "import os\n",
    "import plotly.express as px\n",
    "from IPython.display import display\n",
    "\n",
    "%reload_ext autoreload\n",
    "%autoreload 2\n",
    "\n",
    "# Tell python where to look for modules. \n",
    "import sys\n",
    "sys.path.append('../../hourly-egrid/')\n",
    "\n",
    "# import local modules\n",
    "import src.load_data as load_data\n",
    "import src.validation as validation\n",
    "\n",
    "from src.column_checks import get_dtypes"
   ]
  },
  {
   "cell_type": "markdown",
   "metadata": {},
   "source": [
    "# Specify the year for validation"
   ]
  },
  {
   "cell_type": "code",
   "execution_count": null,
   "metadata": {},
   "outputs": [],
   "source": [
    "year = 2020"
   ]
  },
  {
   "cell_type": "markdown",
   "metadata": {},
   "source": [
    "## Compare Our Results to eGRID"
   ]
  },
  {
   "cell_type": "code",
   "execution_count": null,
   "metadata": {},
   "outputs": [],
   "source": [
    "# load our annual plant level data\n",
    "annual_plant_results = pd.read_csv(\n",
    "    f\"../data/results/{year}/plant_data/annual/us_units/plant_data.csv\",\n",
    "    dtype=get_dtypes(),\n",
    ")\n",
    "plant_attributes = pd.read_csv(\n",
    "    f\"../data/outputs/{year}/plant_static_attributes_{year}.csv\", dtype=get_dtypes()\n",
    ")\n",
    "annual_plant_results = annual_plant_results.merge(\n",
    "    plant_attributes, how=\"left\", on=\"plant_id_eia\"\n",
    ")\n",
    "\n",
    "# add a egrid id\n",
    "annual_plant_results = validation.add_egrid_plant_id(\n",
    "    annual_plant_results, from_id=\"eia\", to_id=\"egrid\"\n",
    ")\n",
    "\n"
   ]
  },
  {
   "cell_type": "code",
   "execution_count": null,
   "metadata": {},
   "outputs": [],
   "source": [
    "# Load the eGRID plant table\n",
    "egrid_plant = validation.load_egrid_plant_file(year)\n"
   ]
  },
  {
   "cell_type": "markdown",
   "metadata": {},
   "source": [
    "### Identify plants missing from our results that exist in eGRID\n"
   ]
  },
  {
   "cell_type": "code",
   "execution_count": null,
   "metadata": {},
   "outputs": [],
   "source": [
    "missing_from_calc, PLANTS_MISSING_FROM_CALCULATION = validation.identify_plants_missing_from_our_calculations(egrid_plant, annual_plant_results, year)\n",
    "missing_from_calc"
   ]
  },
  {
   "cell_type": "markdown",
   "metadata": {},
   "source": [
    "### Identify plants missing from eGRID that are in our calculations"
   ]
  },
  {
   "cell_type": "code",
   "execution_count": null,
   "metadata": {},
   "outputs": [],
   "source": [
    "missing_from_egrid, PLANTS_MISSING_FROM_EGRID = validation.identify_plants_missing_from_egrid(egrid_plant, annual_plant_results)\n"
   ]
  },
  {
   "cell_type": "code",
   "execution_count": null,
   "metadata": {},
   "outputs": [],
   "source": [
    "# how many of the plants missing from egrid have non-zero data\n",
    "missing_from_egrid[missing_from_egrid[\"fuel_consumed_mmbtu\"] != 0]"
   ]
  },
  {
   "cell_type": "markdown",
   "metadata": {},
   "source": [
    "### Compare whether totals for plants with EPA IDs that differ from EIA IDs match"
   ]
  },
  {
   "cell_type": "code",
   "execution_count": null,
   "metadata": {},
   "outputs": [],
   "source": [
    "# identify where there is a single egrid plant id for multiple eia plant ids\n",
    "double_ids = annual_plant_results[\n",
    "    annual_plant_results[\"plant_id_egrid\"].duplicated(keep=False)\n",
    "]\n",
    "double_ids = (\n",
    "    double_ids.groupby(\"plant_id_egrid\").sum()[\"net_generation_mwh\"].reset_index()\n",
    ")  # focus on net generation for now\n",
    "# merge the egrid data\n",
    "double_ids = double_ids.merge(\n",
    "    egrid_plant[[\"plant_id_egrid\", \"net_generation_mwh\"]],\n",
    "    how=\"left\",\n",
    "    on=\"plant_id_egrid\",\n",
    "    suffixes=(\"_calc\", \"_egrid\"),\n",
    ")\n",
    "double_ids[\"percent_diff\"] = (\n",
    "    (double_ids[\"net_generation_mwh_calc\"] - double_ids[\"net_generation_mwh_egrid\"])\n",
    "    / double_ids[\"net_generation_mwh_egrid\"]\n",
    ").round(3)\n",
    "double_ids\n"
   ]
  },
  {
   "cell_type": "markdown",
   "metadata": {},
   "source": [
    "### Identify plants where our BA assignment does not match eGRID"
   ]
  },
  {
   "cell_type": "code",
   "execution_count": null,
   "metadata": {},
   "outputs": [],
   "source": [
    "ba_code_match = egrid_plant.set_index(\"plant_id_eia\")[[\"plant_name\", \"ba_code\"]].merge(\n",
    "    annual_plant_results.set_index(\"plant_id_eia\")[[\"ba_code\"]],\n",
    "    how=\"inner\",\n",
    "    left_index=True,\n",
    "    right_index=True,\n",
    "    suffixes=(\"_egrid\", \"_calc\"),\n",
    ")\n",
    "\n",
    "# plants with missing ba code\n",
    "# ba_code_match[(ba_code_match['ba_code_calc'].isna()) & ~(ba_code_match['ba_code_egrid'].isna())]\n",
    "ba_code_match[ba_code_match[\"ba_code_calc\"] != ba_code_match[\"ba_code_egrid\"]]\n",
    "\n"
   ]
  },
  {
   "cell_type": "code",
   "execution_count": null,
   "metadata": {},
   "outputs": [],
   "source": [
    "# how many of these mismatches are for non-missing bas\n",
    "ba_code_match[\n",
    "    (ba_code_match[\"ba_code_calc\"] != ba_code_match[\"ba_code_egrid\"])\n",
    "    & ~(ba_code_match[\"ba_code_egrid\"].isna())\n",
    "]"
   ]
  },
  {
   "cell_type": "markdown",
   "metadata": {},
   "source": [
    "### Identify whether the fuel codes of each plant match"
   ]
  },
  {
   "cell_type": "code",
   "execution_count": null,
   "metadata": {},
   "outputs": [],
   "source": [
    "fuel_match = egrid_plant.set_index(\"plant_id_eia\")[\n",
    "    [\"plant_name\", \"plant_primary_fuel\"]\n",
    "].merge(\n",
    "    annual_plant_results.set_index(\"plant_id_eia\")[[\"plant_primary_fuel\"]],\n",
    "    how=\"inner\",\n",
    "    left_index=True,\n",
    "    right_index=True,\n",
    "    suffixes=(\"_egrid\", \"_calc\"),\n",
    ")\n",
    "\n",
    "fuel_match[\n",
    "    fuel_match[\"plant_primary_fuel_egrid\"] != fuel_match[\"plant_primary_fuel_calc\"]\n",
    "]\n",
    "\n"
   ]
  },
  {
   "cell_type": "markdown",
   "metadata": {},
   "source": [
    "# Split data into different groups based on known discrepencies\n",
    "\n",
    "There are certain classes of plants where there are known issues that we know will prevent the totals from matching:\n",
    "- Nuclear power plants: eGRID is generally missing fuel consumption data\n",
    "- Geothermal power plants: EGRID sometimes has incorrect geotypes that may lead to different emissions estimates\n",
    "- There are certain power plants for which eGRID is missing fuel data from an entire prime mover\n",
    "- Plants that only report to CEMS during the ozone season\n",
    "- There are certain power plants that are missing altogether from eGRID\n",
    "- Fuel cells are assumed by eGRID to have zero emissions\n",
    "- plants where data is missing from the boiler fuel table in EIA-923\n",
    "\n",
    "\n",
    "We could identify plants where the total fuel doesn't match EIA-923, but matches the total fuel for a subset of prime movers"
   ]
  },
  {
   "cell_type": "code",
   "execution_count": null,
   "metadata": {},
   "outputs": [],
   "source": [
    "pudl_out = load_data.initialize_pudl_out(year)\n",
    "eia923_allocated = pd.read_csv(\n",
    "    f\"../data/outputs/{year}/eia923_allocated_{year}.csv\",\n",
    "    dtype=get_dtypes(),\n",
    "    parse_dates=[\"report_date\"],\n",
    ")\n",
    "\n",
    "missing_plants, geothermal_plants, nuclear_plants, fuel_cell_plants, ozone_season_plants, chp_plants, all_other_plants = validation.segment_plants_by_known_issues(annual_plant_results, egrid_plant, eia923_allocated, pudl_out, PLANTS_MISSING_FROM_EGRID)\n",
    "PLANTS_IN_ALL_OTHER_PLANTS = list(all_other_plants[\"plant_id_egrid\"].unique())"
   ]
  },
  {
   "cell_type": "markdown",
   "metadata": {},
   "source": [
    "## Identify where eGRID might be missing data\n",
    "It seems that there are quite a few generators where fuel consumption data is missing"
   ]
  },
  {
   "cell_type": "code",
   "execution_count": null,
   "metadata": {},
   "outputs": [],
   "source": [
    "# where is egrid missing data?\n",
    "\n",
    "egrid_eia_comparison = validation.identify_potential_missing_fuel_in_egrid(pudl_out, year, egrid_plant)\n",
    "\n",
    "plants_missing_more_than_1_percent_fuel = egrid_eia_comparison[\n",
    "    (egrid_eia_comparison[\"percent_difference\"] < -0.01)\n",
    "    & (egrid_eia_comparison[\"plant_primary_fuel\"] != \"NUC\")\n",
    "    & (egrid_eia_comparison[\"source\"] == \"both\")\n",
    "    & (egrid_eia_comparison[\"plant_id_egrid\"].isin(PLANTS_IN_ALL_OTHER_PLANTS))\n",
    "].sort_values(by=\"percent_difference\")\n",
    "plants_missing_more_than_1_percent_fuel\n"
   ]
  },
  {
   "cell_type": "code",
   "execution_count": null,
   "metadata": {},
   "outputs": [],
   "source": [
    "# how much emissions does this account for?\n",
    "# group by fuel code\n",
    "missing_emissions = (\n",
    "    plants_missing_more_than_1_percent_fuel.groupby(\"plant_primary_fuel\")\n",
    "    .sum()\n",
    "    .reset_index()\n",
    ")\n",
    "\n",
    "# get emission factors\n",
    "emission_factors = load_data.load_ghg_emission_factors()[\n",
    "    [\"energy_source_code\", \"co2_lb_per_mmbtu\"]\n",
    "]\n",
    "missing_emissions = missing_emissions.merge(\n",
    "    emission_factors,\n",
    "    how=\"left\",\n",
    "    left_on=\"plant_primary_fuel\",\n",
    "    right_on=\"energy_source_code\",\n",
    ")\n",
    "missing_emissions[\"co2_mass_lb\"] = (\n",
    "    missing_emissions[\"difference\"] * missing_emissions[\"co2_lb_per_mmbtu\"]\n",
    ")\n",
    "missing_emissions.sum()\n"
   ]
  },
  {
   "cell_type": "markdown",
   "metadata": {},
   "source": [
    "## Plant Metric"
   ]
  },
  {
   "cell_type": "code",
   "execution_count": null,
   "metadata": {},
   "outputs": [],
   "source": [
    "nuclear_comparison_count, compared_nuclear = validation.compare_plant_level_results_to_egrid(\n",
    "    nuclear_plants, egrid_plant, PLANTS_MISSING_FROM_EGRID\n",
    ")\n",
    "nuclear_comparison_count\n"
   ]
  },
  {
   "cell_type": "code",
   "execution_count": null,
   "metadata": {},
   "outputs": [],
   "source": [
    "geothermal_comparison_count, compared_geothermal = validation.compare_plant_level_results_to_egrid(\n",
    "    geothermal_plants, egrid_plant, PLANTS_MISSING_FROM_EGRID\n",
    ")\n",
    "geothermal_comparison_count\n"
   ]
  },
  {
   "cell_type": "code",
   "execution_count": null,
   "metadata": {},
   "outputs": [],
   "source": [
    "fuel_cell_comparison_count, compared_fuel_cell = validation.compare_plant_level_results_to_egrid(\n",
    "    fuel_cell_plants, egrid_plant, PLANTS_MISSING_FROM_EGRID\n",
    ")\n",
    "fuel_cell_comparison_count\n"
   ]
  },
  {
   "cell_type": "code",
   "execution_count": null,
   "metadata": {},
   "outputs": [],
   "source": [
    "missing_comparison_count, compared_missing = validation.compare_plant_level_results_to_egrid(\n",
    "    missing_plants, egrid_plant, PLANTS_MISSING_FROM_EGRID\n",
    ")\n",
    "missing_comparison_count\n"
   ]
  },
  {
   "cell_type": "code",
   "execution_count": null,
   "metadata": {},
   "outputs": [],
   "source": [
    "ozone_comparison_count, compared_ozone = validation.compare_plant_level_results_to_egrid(\n",
    "    ozone_season_plants, egrid_plant, PLANTS_MISSING_FROM_EGRID\n",
    ")\n",
    "ozone_comparison_count\n"
   ]
  },
  {
   "cell_type": "code",
   "execution_count": null,
   "metadata": {},
   "outputs": [],
   "source": [
    "chp_comparison_count, compared_chp = validation.compare_plant_level_results_to_egrid(\n",
    "    chp_plants, egrid_plant, PLANTS_MISSING_FROM_EGRID\n",
    ")\n",
    "chp_comparison_count"
   ]
  },
  {
   "cell_type": "code",
   "execution_count": null,
   "metadata": {},
   "outputs": [],
   "source": [
    "all_other_comparison_count, compared_all_other = validation.compare_plant_level_results_to_egrid(\n",
    "    all_other_plants, egrid_plant, PLANTS_MISSING_FROM_EGRID\n",
    ")\n",
    "all_other_comparison_count\n"
   ]
  },
  {
   "cell_type": "markdown",
   "metadata": {},
   "source": [
    "### Explore a specific set of plants"
   ]
  },
  {
   "cell_type": "code",
   "execution_count": null,
   "metadata": {},
   "outputs": [],
   "source": [
    "# specify the dataframe, metric, and status to explore\n",
    "comparison_df = compared_chp\n",
    "metric = \"fuel_consumed_for_electricity_mmbtu\"\n",
    "status = \"-50% to -10%\"\n",
    "\n",
    "# show the data\n",
    "columns_to_show = [\"plant_name\",\"ba_code\",\"state\", metric, f\"{metric}_status\"]\n",
    "comparison_df.loc[(comparison_df[f\"{metric}_status\"] == status), columns_to_show]"
   ]
  },
  {
   "cell_type": "markdown",
   "metadata": {},
   "source": [
    "## Compare Annual BA values to eGRID BA file"
   ]
  },
  {
   "cell_type": "code",
   "execution_count": null,
   "metadata": {},
   "outputs": [],
   "source": [
    "year = 2020\n",
    "path_prefix = year\n",
    "\n",
    "# Load the eGRID plant table\n",
    "egrid_plant = validation.load_egrid_plant_file(year)\n",
    "\n",
    "egrid_ba = validation.load_egrid_ba_file(year)\n",
    "\n",
    "# aggregate the plant data up to the BA level\n",
    "data_columns = [\n",
    "    \"net_generation_mwh\",\n",
    "    \"fuel_consumed_mmbtu\",\n",
    "    \"fuel_consumed_for_electricity_mmbtu\",\n",
    "    \"co2_mass_lb\",\n",
    "    \"co2_mass_lb_adjusted\",\n",
    "]\n",
    "egrid_plant_ba_agg = egrid_plant.groupby([\"ba_code\"]).sum()[data_columns].reset_index()\n",
    "\n"
   ]
  },
  {
   "cell_type": "code",
   "execution_count": null,
   "metadata": {},
   "outputs": [],
   "source": [
    "# load our annual ba data\n",
    "DATA_COLUMNS = [\n",
    "    \"net_generation_mwh\",\n",
    "    \"fuel_consumed_mmbtu\",\n",
    "    \"fuel_consumed_for_electricity_mmbtu\",\n",
    "    \"co2_mass_lb\",\n",
    "    \"co2_mass_lb_adjusted\",\n",
    "]\n",
    "\n",
    "calculated_ba = []\n",
    "\n",
    "for filename in os.listdir(\n",
    "    f\"../data/results/{path_prefix}/power_sector_data/annual/us_units/\"\n",
    "):\n",
    "    ba = filename.split(\".\")[0]\n",
    "    ba_data = pd.read_csv(\n",
    "        f\"../data/results/{path_prefix}/power_sector_data/annual/us_units/{filename}\",\n",
    "        usecols=([\"fuel_category\"] + DATA_COLUMNS),\n",
    "    )\n",
    "    ba_data = ba_data[ba_data[\"fuel_category\"] == \"total\"].drop(\n",
    "        columns=[\"fuel_category\"]\n",
    "    )\n",
    "    ba_data[\"ba_code\"] = ba\n",
    "    ba_data = ba_data[[\"ba_code\"] + DATA_COLUMNS]\n",
    "    calculated_ba.append(ba_data)\n",
    "\n",
    "calculated_ba = pd.concat(calculated_ba, axis=0)\n"
   ]
  },
  {
   "cell_type": "code",
   "execution_count": null,
   "metadata": {},
   "outputs": [],
   "source": [
    "percent_diff_from_egrid = (\n",
    "    (\n",
    "        calculated_ba.set_index(\"ba_code\").replace(0, 0.1)\n",
    "        - egrid_plant_ba_agg.set_index(\"ba_code\").replace(0, 0.1)\n",
    "    )\n",
    "    / egrid_plant_ba_agg.set_index(\"ba_code\").replace(0, 0.1)\n",
    ").round(2)"
   ]
  },
  {
   "cell_type": "code",
   "execution_count": null,
   "metadata": {},
   "outputs": [],
   "source": [
    "percent_diff_from_egrid.sort_values(by=\"net_generation_mwh\")"
   ]
  },
  {
   "cell_type": "code",
   "execution_count": null,
   "metadata": {},
   "outputs": [],
   "source": [
    "# divide our calculation by the BA totals from eGRID\n",
    "# if there are 0 values, replace with 0.1, so that div by zero doesn't return missing value\n",
    "ba_metric = (\n",
    "    calculated_ba.replace(0, 0.1)\n",
    "    .set_index(\"ba_code\")\n",
    "    .div(egrid_plant_ba_agg.set_index(\"ba_code\").replace(0, 0.1))\n",
    "    .sort_values(by=\"co2_mass_lb\")\n",
    "    .round(3)\n",
    ")\n",
    "\n",
    "total = pd.DataFrame(\n",
    "    calculated_ba[data_columns]\n",
    "    .sum()\n",
    "    .div(egrid_plant_ba_agg[data_columns].sum())\n",
    "    .rename(\"Total\")\n",
    ").T\n",
    "\n",
    "# calculate the difference in the number of plants in each region\n",
    "# plant_count = (plant_annual_total.groupby('ba_code', dropna=False).count()['plant_id_egrid'] - egrid_plant.groupby('ba_code', dropna=False).count()['plant_id_egrid']).rename('num_plants')\n",
    "# ba_metric = ba_metric.merge(plant_count, how='left', left_index=True, right_index=True).drop(columns=['plant_id_egrid']).sort_index()\n",
    "\n",
    "ba_metric = pd.concat([ba_metric, total], axis=0).round(2)\n",
    "\n",
    "ba_metric = ba_metric[data_columns]\n",
    "\n",
    "columns_to_check = [\n",
    "    \"net_generation_mwh\",\n",
    "    \"fuel_consumed_mmbtu\",\n",
    "    \"fuel_consumed_for_electricity_mmbtu\",\n",
    "    \"co2_mass_lb\",\n",
    "]\n",
    "\n",
    "with pd.option_context(\"display.max_rows\", None, \"display.max_columns\", None):\n",
    "    display(ba_metric[~(ba_metric[columns_to_check] == 1).all(axis=1)])\n"
   ]
  },
  {
   "cell_type": "markdown",
   "metadata": {},
   "source": [
    "## Explore specific plants\n",
    "\n",
    "### Notes\n",
    "\n",
    "Net generation < 50%:\n",
    " - 2617 has negative net generation\n",
    " - 10444, 59395: some plants are hybrid fossil / solar plants, but the primary energy source code is getting listed as PV for certain generators, which is causing an issue\n",
    "\n",
    "Net generation > 50%:\n",
    " - 335 has two extra units (CT1 and CT2) that report to CEMS but not EIA. Likely correct\n",
    " - 7288 reports DFO to CEMS, but NG to EIA - there's probably some generators not reporting\n",
    " - 60698 double counting generation from cEMS because of 90% heat threhshold in a month - might be fixed once we tackle heat input\n",
    " - 58256 is a solar/hybrid and in generators_entity_eia the battery portion is associated with a separate generator id (should only be 1)\n",
    "\n",
    "\n",
    "Other:\n",
    " - plant 3754 has heat input in cems and eia that don't match\n",
    " - 2401 has generation in both cems and eia\n",
    " - 50933 might have allocation issue (doesn't appear in CEMS)\n",
    "\n",
    "To check\n",
    " - 1404 reports generation to CEMS in December, but not to EIA. This is likely correct\n",
    " - plant 2504 has three units (120, 121, 122) that don't appear in EIA, and in CEMS only report steam. \n",
    "\n",
    "Fuel > 50%\n",
    " - Plant 3116 reports much more heat input to CEMS during ozone months than to EIA\n",
    "\n",
    "BA Totals\n",
    " - TEPC and SRP are off because the Gila River Generator is shared between SRP and TEPC, and eGRID reports all generation from this project belonging to TEPC\n"
   ]
  },
  {
   "cell_type": "code",
   "execution_count": null,
   "metadata": {},
   "outputs": [],
   "source": [
    "subplant_crosswalk = pd.read_csv(f\"../data/outputs/{year}/subplant_crosswalk.csv\")\n",
    "cems_unit_monthly = (\n",
    "    cems.groupby([\"plant_id_eia\", \"unitid\", \"report_date\"], dropna=False).sum().reset_index()\n",
    ")\n",
    "cems_unit = cems.groupby([\"plant_id_eia\", \"unitid\"], dropna=False).sum().reset_index()"
   ]
  },
  {
   "cell_type": "code",
   "execution_count": null,
   "metadata": {},
   "outputs": [],
   "source": [
    "plant_to_explore = 58223\n"
   ]
  },
  {
   "cell_type": "code",
   "execution_count": null,
   "metadata": {},
   "outputs": [],
   "source": [
    "egrid_plant[egrid_plant[\"plant_id_eia\"] == plant_to_explore]\n",
    "\n"
   ]
  },
  {
   "cell_type": "code",
   "execution_count": null,
   "metadata": {},
   "outputs": [],
   "source": [
    "annual_plant_results[annual_plant_results[\"plant_id_eia\"] == plant_to_explore]"
   ]
  },
  {
   "cell_type": "code",
   "execution_count": null,
   "metadata": {},
   "outputs": [],
   "source": [
    "eia923_allocated[eia923_allocated[\"plant_id_eia\"] == plant_to_explore]"
   ]
  },
  {
   "cell_type": "code",
   "execution_count": null,
   "metadata": {},
   "outputs": [],
   "source": [
    "eia923_allocated[eia923_allocated[\"plant_id_eia\"] == plant_to_explore].sum()"
   ]
  },
  {
   "cell_type": "code",
   "execution_count": null,
   "metadata": {},
   "outputs": [],
   "source": [
    "cems_unit[cems_unit[\"plant_id_eia\"] == plant_to_explore]"
   ]
  },
  {
   "cell_type": "code",
   "execution_count": null,
   "metadata": {},
   "outputs": [],
   "source": [
    "cems_unit_monthly[cems_unit_monthly[\"plant_id_eia\"] == plant_to_explore].sum()"
   ]
  },
  {
   "cell_type": "code",
   "execution_count": null,
   "metadata": {},
   "outputs": [],
   "source": [
    "cems[(cems[\"plant_id_eia\"] == plant_to_explore)]"
   ]
  },
  {
   "cell_type": "code",
   "execution_count": null,
   "metadata": {},
   "outputs": [],
   "source": [
    "cems[(cems[\"gross_generation_mwh\"] == 0) & (cems[\"fuel_consumed_mmbtu\"] == 0)]"
   ]
  },
  {
   "cell_type": "code",
   "execution_count": null,
   "metadata": {},
   "outputs": [],
   "source": [
    "subplant_crosswalk.loc[subplant_crosswalk[\"plant_id_eia\"] == plant_to_explore, [\"unitid\",\"generator_id\",\"subplant_id\"]].drop_duplicates()"
   ]
  },
  {
   "cell_type": "code",
   "execution_count": null,
   "metadata": {},
   "outputs": [],
   "source": [
    "eia923_allocated.loc[eia923_allocated[\"plant_id_eia\"] == plant_to_explore, [\"generator_id\",\"subplant_id\"]].drop_duplicates()"
   ]
  },
  {
   "cell_type": "code",
   "execution_count": null,
   "metadata": {},
   "outputs": [],
   "source": [
    "cems_unit_monthly.loc[cems_unit_monthly[\"plant_id_eia\"] == plant_to_explore, [\"unitid\",\"subplant_id\"]].drop_duplicates()"
   ]
  }
 ],
 "metadata": {
  "interpreter": {
   "hash": "4103f3cd497821eca917ea303dbe10c590d787eb7d2dc3fd4e15dec0356e7931"
  },
  "kernelspec": {
   "display_name": "Python 3.9.12 ('hourly_egrid')",
   "language": "python",
   "name": "python3"
  },
  "language_info": {
   "codemirror_mode": {
    "name": "ipython",
    "version": 3
   },
   "file_extension": ".py",
   "mimetype": "text/x-python",
   "name": "python",
   "nbconvert_exporter": "python",
   "pygments_lexer": "ipython3",
   "version": "3.9.12"
  }
 },
 "nbformat": 4,
 "nbformat_minor": 2
}
