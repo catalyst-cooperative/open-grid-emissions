{
 "cells": [
  {
   "cell_type": "code",
   "execution_count": null,
   "metadata": {},
   "outputs": [],
   "source": [
    "# import packages\n",
    "import numpy as np\n",
    "import pandas as pd\n",
    "import os\n",
    "import plotly.express as px\n",
    "from IPython.display import display\n",
    "\n",
    "%reload_ext autoreload\n",
    "%autoreload 2\n",
    "\n",
    "# Tell python where to look for modules. \n",
    "import sys\n",
    "sys.path.append('../../hourly-egrid/')\n",
    "\n",
    "# import local modules\n",
    "import src.load_data as load_data\n",
    "from src.data_cleaning import assign_ba_code_to_plant\n",
    "import src.validation as validation\n",
    "\n",
    "from src.column_checks import get_dtypes, apply_dtypes"
   ]
  },
  {
   "cell_type": "markdown",
   "metadata": {},
   "source": [
    "# Specify the year for validation"
   ]
  },
  {
   "cell_type": "code",
   "execution_count": null,
   "metadata": {},
   "outputs": [],
   "source": [
    "year = 2020"
   ]
  },
  {
   "cell_type": "markdown",
   "metadata": {},
   "source": [
    "## Compare Our Results to eGRID"
   ]
  },
  {
   "cell_type": "code",
   "execution_count": null,
   "metadata": {},
   "outputs": [],
   "source": [
    "# load our annual plant level data\n",
    "annual_plant_results = pd.read_csv(f\"../data/results/{year}/plant_data/annual/us_units/plant_data.csv\", dtype=get_dtypes())\n",
    "plant_attributes = pd.read_csv(f\"../data/outputs/{year}/plant_static_attributes_{year}.csv\", dtype=get_dtypes())\n",
    "annual_plant_results = annual_plant_results.merge(plant_attributes, how=\"left\", on=\"plant_id_eia\")\n",
    "\n",
    "# add a egrid id\n",
    "annual_plant_results = validation.add_egrid_plant_id(annual_plant_results, from_id='eia', to_id='egrid')"
   ]
  },
  {
   "cell_type": "code",
   "execution_count": null,
   "metadata": {},
   "outputs": [],
   "source": [
    "# Load the eGRID plant table\n",
    "egrid_plant = validation.load_egrid_plant_file(year)"
   ]
  },
  {
   "cell_type": "markdown",
   "metadata": {},
   "source": [
    "### Identify plants missing from our results that exist in eGRID\n"
   ]
  },
  {
   "cell_type": "code",
   "execution_count": null,
   "metadata": {},
   "outputs": [],
   "source": [
    "# identify any plants that are in egrid but not our totals, and any plants that are in our totals, but not egrid\n",
    "PLANTS_MISSING_FROM_CALCULATION = list(set(egrid_plant['plant_id_eia'].unique()) - set(annual_plant_results['plant_id_eia'].unique()))\n",
    "\n",
    "# Which plants are included in eGRID but are missing from our calculations?\n",
    "missing_from_calc = egrid_plant[egrid_plant['plant_id_egrid'].isin(PLANTS_MISSING_FROM_CALCULATION)]\n",
    "\n",
    "# see if any of these plants are retired\n",
    "generators_eia860 = load_data.load_pudl_table('generators_eia860', year=year)\n",
    "missing_from_calc.merge(generators_eia860[[\"plant_id_eia\",\"operational_status\",\"current_planned_operating_date\",'retirement_date']].drop_duplicates(), how='left', on='plant_id_eia')"
   ]
  },
  {
   "cell_type": "markdown",
   "metadata": {},
   "source": [
    "### Identify plants missing from eGRID that are in our calculations"
   ]
  },
  {
   "cell_type": "code",
   "execution_count": null,
   "metadata": {},
   "outputs": [],
   "source": [
    "# Which plants are in our calculations, but are missing from eGRID?\n",
    "PLANTS_MISSING_FROM_EGRID = list(set(annual_plant_results['plant_id_egrid'].unique()) - set(egrid_plant['plant_id_egrid'].unique()))\n",
    "\n",
    "plant_names = load_data.load_pudl_table('plants_entity_eia')[['plant_id_eia','plant_name_eia','sector_name_eia']]\n",
    "missing_from_egrid = annual_plant_results[annual_plant_results['plant_id_egrid'].isin(PLANTS_MISSING_FROM_EGRID)].merge(plant_names, how='left', on='plant_id_eia')\n",
    "\n",
    "missing_from_egrid"
   ]
  },
  {
   "cell_type": "code",
   "execution_count": null,
   "metadata": {},
   "outputs": [],
   "source": [
    "# how many of the plants missing from egrid have non-zero data\n",
    "missing_from_egrid[missing_from_egrid['fuel_consumed_mmbtu'] != 0]"
   ]
  },
  {
   "cell_type": "markdown",
   "metadata": {},
   "source": [
    "### Compare whether totals for plants with EPA IDs that differ from EIA IDs match"
   ]
  },
  {
   "cell_type": "code",
   "execution_count": null,
   "metadata": {},
   "outputs": [],
   "source": [
    "# identify where there is a single egrid plant id for multiple eia plant ids\n",
    "double_ids = annual_plant_results[annual_plant_results['plant_id_egrid'].duplicated(keep=False)]\n",
    "double_ids = double_ids.groupby('plant_id_egrid').sum()['net_generation_mwh'].reset_index() # focus on net generation for now\n",
    "# merge the egrid data\n",
    "double_ids = double_ids.merge(egrid_plant[['plant_id_egrid','net_generation_mwh']], how='left', on='plant_id_egrid', suffixes=('_calc','_egrid'))\n",
    "double_ids['percent_diff'] = ((double_ids['net_generation_mwh_calc'] - double_ids['net_generation_mwh_egrid']) / double_ids['net_generation_mwh_egrid']).round(3)\n",
    "double_ids"
   ]
  },
  {
   "cell_type": "markdown",
   "metadata": {},
   "source": [
    "### Identify plants where our BA assignment does not match eGRID"
   ]
  },
  {
   "cell_type": "code",
   "execution_count": null,
   "metadata": {},
   "outputs": [],
   "source": [
    "ba_code_match = egrid_plant.set_index('plant_id_eia')[['plant_name','ba_code']].merge(annual_plant_results.set_index('plant_id_eia')[['ba_code']], how='inner', left_index=True, right_index=True, suffixes=(\"_egrid\",'_calc'))\n",
    "\n",
    "# plants with missing ba code\n",
    "#ba_code_match[(ba_code_match['ba_code_calc'].isna()) & ~(ba_code_match['ba_code_egrid'].isna())]\n",
    "ba_code_match[ba_code_match['ba_code_calc'] != ba_code_match['ba_code_egrid']]"
   ]
  },
  {
   "cell_type": "code",
   "execution_count": null,
   "metadata": {},
   "outputs": [],
   "source": [
    "# how many of these mismatches are for non-missing bas\n",
    "ba_code_match[(ba_code_match['ba_code_calc'] != ba_code_match['ba_code_egrid']) & ~(ba_code_match['ba_code_egrid'].isna())]"
   ]
  },
  {
   "cell_type": "markdown",
   "metadata": {},
   "source": [
    "### Identify whether the fuel codes of each plant match"
   ]
  },
  {
   "cell_type": "code",
   "execution_count": null,
   "metadata": {},
   "outputs": [],
   "source": [
    "fuel_match = egrid_plant.set_index('plant_id_eia')[['plant_name','plant_primary_fuel']].merge(annual_plant_results.set_index('plant_id_eia')[['plant_primary_fuel']], how='inner', left_index=True, right_index=True, suffixes=(\"_egrid\",'_calc'))\n",
    "\n",
    "fuel_match[fuel_match['plant_primary_fuel_egrid'] != fuel_match['plant_primary_fuel_calc']]"
   ]
  },
  {
   "cell_type": "markdown",
   "metadata": {},
   "source": [
    "# Split data into different groups based on known discrepencies\n",
    "\n",
    "There are certain classes of plants where there are known issues that we know will prevent the totals from matching:\n",
    "- Nuclear power plants: eGRID is generally missing fuel consumption data\n",
    "- Geothermal power plants: EGRID sometimes has incorrect geotypes that may lead to different emissions estimates\n",
    "- There are certain power plants for which eGRID is missing fuel data from an entire prime mover\n",
    "- Plants that only report to CEMS during the ozone season\n",
    "- There are certain power plants that are missing altogether from eGRID\n",
    "- Fuel cells are assumed by eGRID to have zero emissions\n",
    "- plants where data is missing from the boiler fuel table in EIA-923\n",
    "\n",
    "\n",
    "We could identify plants where the total fuel doesn't match EIA-923, but matches the total fuel for a subset of prime movers"
   ]
  },
  {
   "cell_type": "code",
   "execution_count": null,
   "metadata": {},
   "outputs": [],
   "source": [
    "pudl_out = load_data.initialize_pudl_out(year)\n",
    "eia923_allocated = pd.read_csv(f'../data/outputs/{year}/eia923_allocated_{year}.csv', dtype=get_dtypes(), parse_dates=['report_date'])\n"
   ]
  },
  {
   "cell_type": "code",
   "execution_count": null,
   "metadata": {},
   "outputs": [],
   "source": [
    "all_other_plants = annual_plant_results.copy()\n",
    "\n",
    "# missing plants\n",
    "missing_plants = annual_plant_results[annual_plant_results[\"plant_id_eia\"].isin(PLANTS_MISSING_FROM_EGRID)]\n",
    "all_other_plants = all_other_plants[~all_other_plants[\"plant_id_eia\"].isin(list(missing_plants.plant_id_eia.unique()))]\n",
    "\n",
    "# geothermal\n",
    "geothermal_plants = annual_plant_results[annual_plant_results[\"plant_primary_fuel\"] == \"GEO\"]\n",
    "all_other_plants = all_other_plants[~all_other_plants[\"plant_id_eia\"].isin(list(geothermal_plants.plant_id_eia.unique()))]\n",
    "\n",
    "# nuclear\n",
    "nuclear_plants = annual_plant_results[annual_plant_results[\"plant_primary_fuel\"] == \"NUC\"]\n",
    "all_other_plants = all_other_plants[~all_other_plants[\"plant_id_eia\"].isin(list(nuclear_plants.plant_id_eia.unique()))]\n",
    "\n",
    "# fuel cells\n",
    "gens_eia860 = pudl_out.gens_eia860()\n",
    "PLANTS_WITH_FUEL_CELLS = list(gens_eia860.loc[gens_eia860[\"prime_mover_code\"] == \"FC\", \"plant_id_eia\"].unique())\n",
    "fuel_cell_plants = annual_plant_results[annual_plant_results[\"plant_id_eia\"].isin(PLANTS_WITH_FUEL_CELLS)]\n",
    "all_other_plants = all_other_plants[~all_other_plants[\"plant_id_eia\"].isin(list(fuel_cell_plants.plant_id_eia.unique()))]\n",
    "\n",
    "# ozone season reporters\n",
    "# identify all of the plants with generators that report data from both EIA and CEMS\n",
    "multi_source_reporters = eia923_allocated[[\"plant_id_eia\",\"generator_id\",\"hourly_data_source\"]].drop_duplicates()\n",
    "MULTI_SOURCE_PLANTS = list(multi_source_reporters.loc[multi_source_reporters.duplicated(subset=[\"plant_id_eia\",\"generator_id\"] ,keep=False), \"plant_id_eia\"].unique())\n",
    "ozone_season_plants = annual_plant_results[annual_plant_results[\"plant_id_eia\"].isin(MULTI_SOURCE_PLANTS)]\n",
    "all_other_plants = all_other_plants[~all_other_plants[\"plant_id_eia\"].isin(list(ozone_season_plants.plant_id_eia.unique()))]\n",
    "\n",
    "# missing prime movers\n",
    "\n"
   ]
  },
  {
   "cell_type": "markdown",
   "metadata": {},
   "source": [
    "## Identify where eGRID might be missing data\n",
    "It seems that there are quite a few generators where fuel consumption data is missing"
   ]
  },
  {
   "cell_type": "code",
   "execution_count": null,
   "metadata": {},
   "outputs": [],
   "source": [
    "egrid_plant[egrid_plant['energy_source_code'] == 'NUC']"
   ]
  },
  {
   "cell_type": "code",
   "execution_count": null,
   "metadata": {},
   "outputs": [],
   "source": [
    "pudl_out = load_data.initialize_pudl_out(year)\n",
    "\n",
    "# load the EIA generator fuel data\n",
    "IDX_PM_ESC = [\"report_date\", \"plant_id_eia\", \"energy_source_code\", \"prime_mover_code\"]\n",
    "gf = pudl_out.gf_eia923().loc[\n",
    "    :,\n",
    "    IDX_PM_ESC\n",
    "    + [\n",
    "        \"net_generation_mwh\",\n",
    "        \"fuel_consumed_mmbtu\",\n",
    "        \"fuel_consumed_for_electricity_mmbtu\",\n",
    "    ],\n",
    "]\n",
    "\n",
    "# add egrid plant ids\n",
    "egrid_crosswalk = pd.read_csv(\n",
    "    \"../data/manual/egrid_static_tables/table_C5_crosswalk_of_EIA_ID_to_EPA_ID.csv\"\n",
    ")\n",
    "eia_to_egrid_id = dict(\n",
    "    zip(list(egrid_crosswalk[\"plant_id_eia\"]), list(egrid_crosswalk[\"plant_id_egrid\"]))\n",
    ")\n",
    "gf[\"plant_id_egrid\"] = gf[\"plant_id_eia\"]\n",
    "gf[\"plant_id_egrid\"].update(gf[\"plant_id_egrid\"].map(eia_to_egrid_id))\n",
    "\n",
    "# calculate an annual total for each plant\n",
    "gf_total = gf.groupby([\"plant_id_egrid\"]).sum().reset_index()\n",
    "\n",
    "# choose a metric to compare\n",
    "metric = \"fuel_consumed_mmbtu\"\n",
    "\n",
    "# merge the annual EIA-923 data into the egrid data\n",
    "egrid_eia_comparison = (\n",
    "    egrid_plant[\n",
    "        [\"plant_id_egrid\", \"plant_name\", \"ba_code\", \"energy_source_code\", metric]\n",
    "    ]\n",
    "    .merge(\n",
    "        gf_total[[\"plant_id_egrid\", metric]],\n",
    "        how=\"outer\",\n",
    "        on=\"plant_id_egrid\",\n",
    "        suffixes=(\"_egrid\", \"_eia923\"),\n",
    "        indicator=\"source\",\n",
    "    )\n",
    "    .round(0)\n",
    ")\n",
    "egrid_eia_comparison[f\"{metric}_egrid\"] = egrid_eia_comparison[\n",
    "    f\"{metric}_egrid\"\n",
    "].fillna(0)\n",
    "# calculate an absolute difference and percent difference between the two values\n",
    "egrid_eia_comparison[\"difference\"] = (\n",
    "    egrid_eia_comparison[f\"{metric}_egrid\"] - egrid_eia_comparison[f\"{metric}_eia923\"]\n",
    ")\n",
    "egrid_eia_comparison[\"percent_difference\"] = (\n",
    "    egrid_eia_comparison[f\"{metric}_egrid\"] - egrid_eia_comparison[f\"{metric}_eia923\"]\n",
    ") / egrid_eia_comparison[f\"{metric}_eia923\"]\n",
    "egrid_eia_comparison.loc[\n",
    "    egrid_eia_comparison[\"difference\"] == 0, \"percent_difference\"\n",
    "] = 0\n",
    "\n",
    "\n"
   ]
  },
  {
   "cell_type": "code",
   "execution_count": null,
   "metadata": {},
   "outputs": [],
   "source": [
    "# add cems data\n",
    "cems_total = cems.copy()[['plant_id_eia',metric]]\n",
    "cems_total[\"plant_id_egrid\"] = cems_total[\"plant_id_eia\"]\n",
    "cems_total[\"plant_id_egrid\"].update(cems_total[\"plant_id_egrid\"].map(eia_to_egrid_id))\n",
    "cems_total = cems_total.groupby('plant_id_egrid').sum()[metric].reset_index().rename(columns={metric:f\"{metric}_cems\"})\n",
    "\n",
    "# merge cems data into egrid \n",
    "egrid_eia_comparison = egrid_eia_comparison.merge(cems_total, how='outer', on='plant_id_egrid')"
   ]
  },
  {
   "cell_type": "code",
   "execution_count": null,
   "metadata": {},
   "outputs": [],
   "source": [
    "egrid_eia_comparison[egrid_eia_comparison['source'] == 'left_only']"
   ]
  },
  {
   "cell_type": "code",
   "execution_count": null,
   "metadata": {},
   "outputs": [],
   "source": [
    "# egrid seems to be missing fuel consumption data for most nuclear power plants\n",
    "missing_nuclear = egrid_eia_comparison[egrid_eia_comparison['energy_source_code'] == 'NUC']\n",
    "missing_nuclear.sum()"
   ]
  },
  {
   "cell_type": "code",
   "execution_count": null,
   "metadata": {},
   "outputs": [],
   "source": [
    "egrid_eia_comparison[(egrid_eia_comparison['percent_difference']  < - 0.01)]"
   ]
  },
  {
   "cell_type": "code",
   "execution_count": null,
   "metadata": {},
   "outputs": [],
   "source": [
    "# where is egrid missing data?\n",
    "egrid_eia_comparison[(egrid_eia_comparison['percent_difference'] < -0.01) & (egrid_eia_comparison['energy_source_code'] != 'NUC')]#.sort_values(by='percent_difference').head(20)"
   ]
  },
  {
   "cell_type": "code",
   "execution_count": null,
   "metadata": {},
   "outputs": [],
   "source": [
    "# how much emissions does this account for?\n",
    "# group by fuel code\n",
    "missing_emissions = egrid_eia_comparison[(egrid_eia_comparison['percent_difference'] < -0.01) & (egrid_eia_comparison['energy_source_code'] != 'NUC')].groupby('energy_source_code').sum().reset_index()\n",
    "\n",
    "# get emission factors\n",
    "emission_factors = load_data.load_ghg_emission_factors()[['energy_source_code', 'co2_lb_per_mmbtu']]\n",
    "missing_emissions = missing_emissions.merge(emission_factors, how='left', on='energy_source_code')\n",
    "missing_emissions['co2_mass_lb'] = missing_emissions['difference'] * missing_emissions['co2_lb_per_mmbtu']\n",
    "missing_emissions.sum()"
   ]
  },
  {
   "cell_type": "markdown",
   "metadata": {},
   "source": [
    "## Plant Metric"
   ]
  },
  {
   "cell_type": "code",
   "execution_count": null,
   "metadata": {},
   "outputs": [],
   "source": [
    "def compare_plant_level_results(plant_data, egrid_plant, PLANTS_MISSING_FROM_EGRID):\n",
    "    # standardize column names and index so that the two dfs can be divided\n",
    "    calculated_to_compare = plant_data.groupby('plant_id_egrid', dropna=False).sum().drop(columns=['plant_id_eia'])\n",
    "\n",
    "    # drop the plants that have no data in eGRID\n",
    "    plants_with_no_data_in_egrid = list(egrid_plant[egrid_plant[['net_generation_mwh','fuel_consumed_mmbtu','fuel_consumed_for_electricity_mmbtu','co2_mass_lb','co2_mass_lb_adjusted']].sum(axis=1) == 0]['plant_id_egrid'])\n",
    "    egrid_plant = egrid_plant[~egrid_plant['plant_id_eia'].isin(plants_with_no_data_in_egrid)]\n",
    "\n",
    "    egrid_to_compare = egrid_plant.set_index(['plant_id_egrid']).drop(columns=['ba_code','state','plant_name','plant_id_eia'])\n",
    "    # only keep plants that are in the comparison data\n",
    "    egrid_to_compare = egrid_to_compare[egrid_to_compare.index.isin(list(calculated_to_compare.index.unique()))]\n",
    "\n",
    "    # divide calculated value by egrid value\n",
    "    compared = calculated_to_compare.div(egrid_to_compare).merge(egrid_plant[['plant_id_egrid','plant_name','ba_code', 'state']], how='left', left_index=True, right_on='plant_id_egrid').set_index('plant_id_egrid')\n",
    "    compared['plant_name'] = compared['plant_name'].fillna('unknown')\n",
    "\n",
    "    # create a dataframe that merges the two sources of data together\n",
    "    compared_merged = calculated_to_compare.merge(egrid_to_compare, how='left', on='plant_id_egrid', suffixes=('_calc','_egrid'))\n",
    "\n",
    "    # for each column, change missing values to zero if both values are zero (only nan b/c divide by zero)\n",
    "    for col in ['net_generation_mwh','fuel_consumed_mmbtu','fuel_consumed_for_electricity_mmbtu','co2_mass_lb_adjusted','co2_mass_lb']:\n",
    "        # identify plants with zero values for both\n",
    "        plant_ids = list(compared_merged[(compared_merged[f'{col}_calc'] == 0) & (compared_merged[f'{col}_egrid'] == 0)].index)\n",
    "        compared.loc[compared.index.isin(plant_ids), col] = 1\n",
    "\n",
    "    # for each column, categorize the data based on how far it is off from egrid\n",
    "    for col in ['net_generation_mwh','fuel_consumed_mmbtu','fuel_consumed_for_electricity_mmbtu','co2_mass_lb_adjusted','co2_mass_lb']:\n",
    "        # add a new column\n",
    "        compared[f'{col}_status'] = pd.cut(x=compared[col], \n",
    "                                        bins=[-999999999,0,0.5,0.9,0.99,0.9999,1,1.0001,1.01,1.1,1.5,999999999], \n",
    "                                        labels=['negative','<50%','+/-50%','+/-10%','+/-1%','!exact','!exact','+/-1%','+/-10%','+/-50%','>50%'], \n",
    "                                        ordered=False)\n",
    "        # replace any missing values with missing\n",
    "        compared[f'{col}_status'] = compared[f'{col}_status'].astype(str)  \n",
    "        compared[f'{col}_status'] = compared[f'{col}_status'].fillna('missing')\n",
    "        compared[f'{col}_status'] = compared[f'{col}_status'].replace('nan','missing')\n",
    "        compared.loc[(compared.index.isin(PLANTS_MISSING_FROM_EGRID)),f'{col}_status'] = 'not_in_egrid'\n",
    "\n",
    "        # identify which plants are missing from egrid vs calculated values\n",
    "    for col in ['net_generation_mwh','fuel_consumed_mmbtu','fuel_consumed_for_electricity_mmbtu','co2_mass_lb_adjusted','co2_mass_lb']:\n",
    "        # identify plants that are missing in egrid\n",
    "        plants_missing_egrid = list(compared_merged[(compared_merged[f'{col}_calc'] > 0) & (compared_merged[f'{col}_egrid'].isna())].index)\n",
    "        compared.loc[compared.index.isin(plants_missing_egrid), f'{col}_status'] = 'missing_in_egrid'\n",
    "        # identify plants that are missing from our calculations\n",
    "        plants_missing_calc = list(compared_merged[(compared_merged[f'{col}_calc'].isna()) & (compared_merged[f'{col}_egrid'] > 0)].index)\n",
    "        compared.loc[compared.index.isin(plants_missing_calc), f'{col}_status'] = 'missing_in_calc'\n",
    "        # identify where our calculations are missing a zero value\n",
    "        plants_missing_zero_calc = list(compared_merged[(compared_merged[f'{col}_calc'].isna()) & (compared_merged[f'{col}_egrid'] == 0)].index)\n",
    "        compared.loc[compared.index.isin(plants_missing_zero_calc), f'{col}_status'] = 'calc_missing_zero_value_from_egrid'\n",
    "        # identify where egrid has a missing value instead of a zero\n",
    "        plants_missing_zero_egrid = list(compared_merged[(compared_merged[f'{col}_calc'] == 0) & (compared_merged[f'{col}_egrid'].isna())].index)\n",
    "        compared.loc[compared.index.isin(plants_missing_zero_egrid), f'{col}_status'] = 'egrid_missing_zero_value_from_calc'\n",
    "        # identify where egrid has a zero value where we have a positive value\n",
    "        plants_incorrect_zero_egrid = list(compared_merged[(compared_merged[f'{col}_calc'] > 0) & (compared_merged[f'{col}_egrid'] == 0)].index)\n",
    "        compared.loc[compared.index.isin(plants_incorrect_zero_egrid), f'{col}_status'] = 'calc_positive_but_egrid_zero'\n",
    "\n",
    "    # create a dataframe that counts how many plants are in each category\n",
    "    comparison_count = []\n",
    "    for col in ['net_generation_mwh','fuel_consumed_mmbtu','fuel_consumed_for_electricity_mmbtu','co2_mass_lb_adjusted','co2_mass_lb']:\n",
    "        count = compared.groupby(f'{col}_status', dropna=False).count()['plant_name'].rename(col)\n",
    "        count.index = count.index.rename('status')\n",
    "        comparison_count.append(count)\n",
    "\n",
    "    comparison_count = pd.concat(comparison_count, axis=1).fillna(0).astype(int)\n",
    "    comparison_count = pd.concat([comparison_count, pd.DataFrame(comparison_count.sum().rename('Total')).T], axis=0)   \n",
    "    return comparison_count\n"
   ]
  },
  {
   "cell_type": "code",
   "execution_count": null,
   "metadata": {},
   "outputs": [],
   "source": [
    "compare_plant_level_results(nuclear_plants, egrid_plant, PLANTS_MISSING_FROM_EGRID)"
   ]
  },
  {
   "cell_type": "code",
   "execution_count": null,
   "metadata": {},
   "outputs": [],
   "source": [
    "compare_plant_level_results(geothermal_plants, egrid_plant, PLANTS_MISSING_FROM_EGRID)"
   ]
  },
  {
   "cell_type": "code",
   "execution_count": null,
   "metadata": {},
   "outputs": [],
   "source": [
    "compare_plant_level_results(fuel_cell_plants, egrid_plant, PLANTS_MISSING_FROM_EGRID)"
   ]
  },
  {
   "cell_type": "code",
   "execution_count": null,
   "metadata": {},
   "outputs": [],
   "source": [
    "compare_plant_level_results(missing_plants, egrid_plant, PLANTS_MISSING_FROM_EGRID)"
   ]
  },
  {
   "cell_type": "code",
   "execution_count": null,
   "metadata": {},
   "outputs": [],
   "source": [
    "compare_plant_level_results(ozone_season_plants, egrid_plant, PLANTS_MISSING_FROM_EGRID)"
   ]
  },
  {
   "cell_type": "code",
   "execution_count": null,
   "metadata": {},
   "outputs": [],
   "source": [
    "compare_plant_level_results(all_other_plants, egrid_plant, PLANTS_MISSING_FROM_EGRID)"
   ]
  },
  {
   "cell_type": "code",
   "execution_count": null,
   "metadata": {},
   "outputs": [],
   "source": [
    "print(comparison_count.to_markdown())"
   ]
  },
  {
   "cell_type": "markdown",
   "metadata": {},
   "source": [
    "## Compare Annual BA values to eGRID BA file"
   ]
  },
  {
   "cell_type": "code",
   "execution_count": null,
   "metadata": {},
   "outputs": [],
   "source": [
    "year = 2020\n",
    "path_prefix = year\n",
    "\n",
    "# Load the eGRID plant table\n",
    "egrid_plant = validation.load_egrid_plant_file(year)\n",
    "\n",
    "egrid_ba = validation.load_egrid_ba_file(year)\n",
    "\n",
    "#aggregate the plant data up to the BA level\n",
    "data_columns = ['net_generation_mwh','fuel_consumed_mmbtu','fuel_consumed_for_electricity_mmbtu','co2_mass_lb','co2_mass_lb_adjusted']\n",
    "egrid_plant_ba_agg = egrid_plant.groupby(['ba_code']).sum()[data_columns].reset_index()"
   ]
  },
  {
   "cell_type": "code",
   "execution_count": null,
   "metadata": {},
   "outputs": [],
   "source": [
    "egrid_plant_ba_agg"
   ]
  },
  {
   "cell_type": "code",
   "execution_count": null,
   "metadata": {},
   "outputs": [],
   "source": [
    "# load our annual ba data\n",
    "DATA_COLUMNS = ['net_generation_mwh','fuel_consumed_mmbtu','fuel_consumed_for_electricity_mmbtu','co2_mass_lb','co2_mass_lb_adjusted']\n",
    "\n",
    "calculated_ba = []\n",
    "\n",
    "for filename in os.listdir(f\"../data/results/{path_prefix}/power_sector_data/annual/us_units/\"):\n",
    "    ba= filename.split(\".\")[0]\n",
    "    ba_data = pd.read_csv(f\"../data/results/{path_prefix}/power_sector_data/annual/us_units/{filename}\", usecols=([\"fuel_category\"] + DATA_COLUMNS))\n",
    "    ba_data = ba_data[ba_data[\"fuel_category\"] == \"total\"].drop(columns=[\"fuel_category\"])\n",
    "    ba_data[\"ba_code\"] = ba\n",
    "    ba_data = ba_data[[\"ba_code\"] + DATA_COLUMNS]\n",
    "    calculated_ba.append(ba_data)\n",
    "\n",
    "calculated_ba = pd.concat(calculated_ba, axis=0)"
   ]
  },
  {
   "cell_type": "code",
   "execution_count": null,
   "metadata": {},
   "outputs": [],
   "source": [
    "percent_diff_from_egrid = ((calculated_ba.set_index(\"ba_code\").replace(0,0.1) - egrid_plant_ba_agg.set_index(\"ba_code\").replace(0,0.1)) / egrid_plant_ba_agg.set_index(\"ba_code\").replace(0,0.1)).round(2)"
   ]
  },
  {
   "cell_type": "code",
   "execution_count": null,
   "metadata": {},
   "outputs": [],
   "source": [
    "percent_diff_from_egrid.sort_values(by=\"net_generation_mwh\")"
   ]
  },
  {
   "cell_type": "code",
   "execution_count": null,
   "metadata": {},
   "outputs": [],
   "source": [
    "\n",
    "\n",
    "# divide our calculation by the BA totals from eGRID\n",
    "# if there are 0 values, replace with 0.1, so that div by zero doesn't return missing value\n",
    "ba_metric = plant_annual_total.groupby('ba_code', dropna=False).sum().drop(columns='plant_id_eia').replace(0,0.1).div(egrid_ba.set_index('ba_code').replace(0,0.1)).sort_values(by='co2_mass_lb').round(3)\n",
    "\n",
    "total = pd.DataFrame(plant_annual_total[data_columns].sum().div(egrid_ba[data_columns].sum()).rename('Total')).T\n",
    "\n",
    "# calculate the difference in the number of plants in each region\n",
    "plant_count = (plant_annual_total.groupby('ba_code', dropna=False).count()['plant_id_egrid'] - egrid_plant.groupby('ba_code', dropna=False).count()['plant_id_egrid']).rename('num_plants')\n",
    "ba_metric = ba_metric.merge(plant_count, how='left', left_index=True, right_index=True).drop(columns=['plant_id_egrid']).sort_index()\n",
    "\n",
    "ba_metric = pd.concat([ba_metric, total], axis=0).round(2) \n",
    "\n",
    "ba_metric = ba_metric[data_columns + ['num_plants']]\n",
    "\n",
    "columns_to_check = ['net_generation_mwh','fuel_consumed_mmbtu','fuel_consumed_for_electricity_mmbtu','co2_mass_lb']\n",
    "\n",
    "with pd.option_context('display.max_rows', None, 'display.max_columns', None):\n",
    "    display(ba_metric[~(ba_metric[columns_to_check] == 1).all(axis=1)])"
   ]
  },
  {
   "cell_type": "code",
   "execution_count": null,
   "metadata": {},
   "outputs": [],
   "source": [
    "# how much co2 comes from CEMS vs EIA\n",
    "data_source_by_ba = pd.pivot_table(eia923_allocated, values='co2_mass_lb', index='ba_code', columns='data_source', dropna=False, aggfunc=np.sum).replace(0,0.001)\n",
    "data_source_by_ba = data_source_by_ba.div(data_source_by_ba.sum(axis=1), axis=0)\n",
    "with pd.option_context('display.max_rows', None, 'display.max_columns', None):\n",
    "    display(data_source_by_ba.round(3).fillna(0).sort_values(by='cems'))"
   ]
  },
  {
   "cell_type": "code",
   "execution_count": null,
   "metadata": {},
   "outputs": [],
   "source": [
    "print(ba_metric.to_markdown())"
   ]
  },
  {
   "cell_type": "markdown",
   "metadata": {},
   "source": [
    "## Explore specific plants\n",
    "\n",
    "### Notes\n",
    "\n",
    "Net generation < 50%:\n",
    " - 2617 has negative net generation\n",
    " - 10444, 59395: some plants are hybrid fossil / solar plants, but the primary energy source code is getting listed as PV for certain generators, which is causing an issue\n",
    "\n",
    "Net generation > 50%:\n",
    " - 335 has two extra units (CT1 and CT2) that report to CEMS but not EIA. Likely correct\n",
    " - 7288 reports DFO to CEMS, but NG to EIA - there's probably some generators not reporting\n",
    " - 60698 double counting generation from cEMS because of 90% heat threhshold in a month - might be fixed once we tackle heat input\n",
    " - 58256 is a solar/hybrid and in generators_entity_eia the battery portion is associated with a separate generator id (should only be 1)\n",
    "\n",
    "\n",
    "Other:\n",
    " - plant 3754 has heat input in cems and eia that don't match\n",
    " - 2401 has generation in both cems and eia\n",
    " - 50933 might have allocation issue (doesn't appear in CEMS)\n",
    "\n",
    "To check\n",
    " - 1404 reports generation to CEMS in December, but not to EIA. This is likely correct\n",
    " - plant 2504 has three units (120, 121, 122) that don't appear in EIA, and in CEMS only report steam. \n",
    "\n",
    "Fuel > 50%\n",
    " - Plant 3116 reports much more heat input to CEMS during ozone months than to EIA\n",
    "\n",
    "BA Totals\n",
    " - TEPC and SRP are off because the Gila River Generator is shared between SRP and TEPC, and eGRID reports all generation from this project belonging to TEPC\n"
   ]
  },
  {
   "cell_type": "code",
   "execution_count": null,
   "metadata": {},
   "outputs": [],
   "source": [
    "# examine specific plants in a category\n",
    "value = 'net_generation_mwh'\n",
    "status = '>50%'\n",
    "\n",
    "#compared_merged.loc[64877,:]\n",
    "\n",
    "compared[compared[f'{value}_status'] == status].sort_values(by=value)"
   ]
  },
  {
   "cell_type": "code",
   "execution_count": null,
   "metadata": {},
   "outputs": [],
   "source": [
    "compared[compared[f'{value}_status'] == status].sort_values(by=value).sample(10)"
   ]
  },
  {
   "cell_type": "code",
   "execution_count": null,
   "metadata": {},
   "outputs": [],
   "source": [
    "plant_to_explore = 58380"
   ]
  },
  {
   "cell_type": "code",
   "execution_count": null,
   "metadata": {},
   "outputs": [],
   "source": [
    "egrid_plant[egrid_plant['plant_id_eia'] == plant_to_explore]"
   ]
  },
  {
   "cell_type": "code",
   "execution_count": null,
   "metadata": {},
   "outputs": [],
   "source": [
    "plant_annual_total[plant_annual_total['plant_id_eia'] == plant_to_explore]"
   ]
  },
  {
   "cell_type": "code",
   "execution_count": null,
   "metadata": {},
   "outputs": [],
   "source": [
    "eia923_allocated[eia923_allocated['plant_id_eia'] == plant_to_explore].sum()"
   ]
  },
  {
   "cell_type": "code",
   "execution_count": null,
   "metadata": {},
   "outputs": [],
   "source": [
    "cems_unit_monthly = cems.groupby(['plant_id_eia','unitid','report_date']).sum().reset_index()\n"
   ]
  },
  {
   "cell_type": "code",
   "execution_count": null,
   "metadata": {},
   "outputs": [],
   "source": [
    "cems_unit_monthly[cems_unit_monthly['plant_id_eia'] == plant_to_explore].sum()"
   ]
  },
  {
   "cell_type": "code",
   "execution_count": null,
   "metadata": {},
   "outputs": [],
   "source": [
    "cems[(cems['plant_id_eia'] == plant_to_explore) & (cems['operating_time_hours'] > 0)]"
   ]
  },
  {
   "cell_type": "code",
   "execution_count": null,
   "metadata": {},
   "outputs": [],
   "source": [
    "cems_plant_annual[cems_plant_annual['plant_id_eia'] == plant_to_explore]"
   ]
  },
  {
   "cell_type": "code",
   "execution_count": null,
   "metadata": {},
   "outputs": [],
   "source": [
    "# there are some plants that report heat input and co2 in CEMS, but are missing net generation data\n",
    "# TODO: we should maybe try and fill net generation data using EIA-923?\n",
    "cems_plant_annual[cems_plant_annual['net_generation_mwh'] == 0]"
   ]
  },
  {
   "cell_type": "markdown",
   "metadata": {},
   "source": [
    "## Explore BA Matching\n",
    "### Notes\n",
    "TEPC and SRP are off because the Gila River Generator is shared between SRP and TEPC, and eGRID reports all generation from this project belonging to TEPC"
   ]
  },
  {
   "cell_type": "code",
   "execution_count": null,
   "metadata": {},
   "outputs": [],
   "source": [
    "ba_plant_match = plant_annual_total[plant_annual_total['ba_code'].isna()].merge(egrid_plant[egrid_plant['ba_code'].isna()], how='left', on='plant_id_egrid', suffixes=(\"_calc\",'_egrid'))\n",
    "ba_plant_match[ba_plant_match['net_generation_mwh_calc'].round(0) != ba_plant_match['net_generation_mwh_egrid'].round(0)]"
   ]
  },
  {
   "cell_type": "code",
   "execution_count": null,
   "metadata": {},
   "outputs": [],
   "source": [
    "egrid_plant[egrid_plant['ba_code'] == 'CPLE']"
   ]
  },
  {
   "cell_type": "code",
   "execution_count": null,
   "metadata": {},
   "outputs": [],
   "source": [
    "compare_plants_in_ba = egrid_plant.merge(plant_annual_total, how='outer', on='plant_id_egrid', suffixes=('_egrid','_calc'))"
   ]
  },
  {
   "cell_type": "code",
   "execution_count": null,
   "metadata": {},
   "outputs": [],
   "source": [
    "ba = 'CPLE'\n",
    "metric = 'fuel_consumed_mmbtu'\n",
    "\n",
    "compare_plants_in_ba[((compare_plants_in_ba['ba_code_egrid'] == ba) | (compare_plants_in_ba['ba_code_calc'] == ba)) & (compare_plants_in_ba[f'{metric}_egrid'].round(0) != compare_plants_in_ba[f'{metric}_calc'].round(0))]"
   ]
  },
  {
   "cell_type": "code",
   "execution_count": null,
   "metadata": {},
   "outputs": [],
   "source": [
    "plant_annual_total[plant_annual_total['ba_code'] == 'AMPL']"
   ]
  }
 ],
 "metadata": {
  "interpreter": {
   "hash": "4103f3cd497821eca917ea303dbe10c590d787eb7d2dc3fd4e15dec0356e7931"
  },
  "kernelspec": {
   "display_name": "Python 3.9.12 ('hourly_egrid')",
   "language": "python",
   "name": "python3"
  },
  "language_info": {
   "codemirror_mode": {
    "name": "ipython",
    "version": 3
   },
   "file_extension": ".py",
   "mimetype": "text/x-python",
   "name": "python",
   "nbconvert_exporter": "python",
   "pygments_lexer": "ipython3",
   "version": "3.9.12"
  }
 },
 "nbformat": 4,
 "nbformat_minor": 2
}
