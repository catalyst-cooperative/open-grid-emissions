{
 "cells": [
  {
   "cell_type": "code",
   "execution_count": null,
   "metadata": {},
   "outputs": [],
   "source": [
    "# import packages\n",
    "import numpy as np\n",
    "import pandas as pd\n",
    "import argparse\n",
    "import os\n",
    "\n",
    "%reload_ext autoreload\n",
    "%autoreload 2\n",
    "\n",
    "# # Tell python where to look for modules.\n",
    "import sys\n",
    "\n",
    "sys.path.append(\"../../hourly-egrid/\")\n",
    "\n",
    "# import local modules\n",
    "import src.data_cleaning as data_cleaning\n",
    "import src.load_data as load_data\n",
    "import src.impute_hourly_profiles as impute_hourly_profiles\n",
    "import src.eia930 as eia930\n",
    "import src.output_data as output_data\n",
    "\n",
    "from src.column_checks import get_dtypes\n"
   ]
  },
  {
   "cell_type": "markdown",
   "metadata": {},
   "source": [
    "# Investigate CEMS plants that report steam load"
   ]
  },
  {
   "cell_type": "code",
   "execution_count": null,
   "metadata": {},
   "outputs": [],
   "source": [
    "# load data from csv\n",
    "year = 2020\n",
    "path_prefix = ''\n",
    "\n",
    "cems = pd.read_csv(f'../data/outputs/{path_prefix}{year}/cems_{year}.csv', dtype=get_dtypes())\n",
    "eia923_allocated = pd.read_csv(f'../data/outputs/{path_prefix}{year}/eia923_allocated_{year}.csv', dtype=get_dtypes())"
   ]
  },
  {
   "cell_type": "code",
   "execution_count": null,
   "metadata": {},
   "outputs": [],
   "source": [
    "cems_agg = cems.groupby([\"plant_id_eia\",\"subplant_id\",\"report_date\"]).sum()[[\"gross_generation_mwh\",\"net_generation_mwh\",\"steam_load_1000_lb\",\"fuel_consumed_mmbtu\", \"fuel_consumed_for_electricity_mmbtu\"]].reset_index()\n",
    "eia_agg = eia923_allocated.groupby([\"plant_id_eia\",\"subplant_id\",\"report_date\"]).sum()[[\"net_generation_mwh\",\"fuel_consumed_mmbtu\", \"fuel_consumed_for_electricity_mmbtu\"]].reset_index()\n",
    "\n",
    "cems_steam = cems_agg[cems_agg[\"steam_load_1000_lb\"] > 0]\n",
    "cems_steam = cems_steam.merge(eia_agg, how=\"left\", on=[\"plant_id_eia\",\"subplant_id\",\"report_date\"], suffixes=(\"_cems\",\"_eia\"))\n",
    "cems_steam"
   ]
  },
  {
   "cell_type": "markdown",
   "metadata": {},
   "source": [
    "# Get a list of all CHP plants"
   ]
  },
  {
   "cell_type": "code",
   "execution_count": null,
   "metadata": {},
   "outputs": [],
   "source": [
    "# get a list of all plants that are identified as CHP by sector in EIA-860\n",
    "pudl_out = load_data.initialize_pudl_out(year)\n",
    "chp_sectors = ['IPP CHP', 'Industrial CHP', 'Commercial CHP',]\n",
    "chp_plants = pudl_out.plants_eia860()[[\"plant_id_eia\",\"sector_name_eia\"]]\n",
    "chp_plants = chp_plants[chp_plants.sector_name_eia.isin(chp_sectors)]\n",
    "\n",
    "# get a list of all plants that have a CHP flag associated with the generator in EIA-860\n",
    "chp_gens = pudl_out.gens_eia860()[[\"plant_id_eia\",\"generator_id\",\"associated_combined_heat_power\"]]\n",
    "chp_gens = chp_gens[chp_gens[\"associated_combined_heat_power\"] == True]\n",
    "plants_with_chp_gens = chp_gens[[\"plant_id_eia\",\"associated_combined_heat_power\"]].drop_duplicates()\n"
   ]
  },
  {
   "cell_type": "code",
   "execution_count": null,
   "metadata": {},
   "outputs": [],
   "source": [
    "plants_with_chp_gens.merge(chp_plants, how=\"outer\", on=\"plant_id_eia\")"
   ]
  },
  {
   "cell_type": "markdown",
   "metadata": {},
   "source": [
    "# Fix CHP Allocation"
   ]
  },
  {
   "cell_type": "code",
   "execution_count": null,
   "metadata": {},
   "outputs": [],
   "source": [
    "eia923_allocated = data_cleaning.calculate_electric_allocation_factor(eia923_allocated)\n",
    "eia923_allocated"
   ]
  },
  {
   "cell_type": "code",
   "execution_count": null,
   "metadata": {},
   "outputs": [],
   "source": [
    "cems[(cems[\"plant_id_eia\"] == 126)]#.sum()"
   ]
  },
  {
   "cell_type": "code",
   "execution_count": null,
   "metadata": {},
   "outputs": [],
   "source": [
    "eia923_allocated[(eia923_allocated[\"plant_id_eia\"] == 126) & (eia923_allocated[\"prime_mover_code\"] == \"IC\")].sum() #& (eia923_allocated[\"hourly_data_source\"] == \"cems\")"
   ]
  },
  {
   "cell_type": "code",
   "execution_count": null,
   "metadata": {},
   "outputs": [],
   "source": [
    "plant_chp_allocation = eia923_allocated.groupby([\"plant_id_eia\",\"report_date\"], dropna=False).sum()[[\"net_generation_mwh\",\"fuel_consumed_mmbtu\",\"fuel_consumed_for_electricity_mmbtu\"]].reset_index()\n",
    "plant_chp_allocation[\"fuel_ratio\"] = plant_chp_allocation[\"fuel_consumed_for_electricity_mmbtu\"] / plant_chp_allocation[\"fuel_consumed_mmbtu\"]\n",
    "plant_chp_allocation.loc[(plant_chp_allocation[\"fuel_consumed_for_electricity_mmbtu\"] == 0) & (plant_chp_allocation[\"fuel_consumed_mmbtu\"] == 0),\"fuel_ratio\"] = 1\n",
    "plant_chp_allocation = data_cleaning.calculate_electric_allocation_factor(plant_chp_allocation)\n",
    "plant_chp_allocation"
   ]
  },
  {
   "cell_type": "code",
   "execution_count": null,
   "metadata": {},
   "outputs": [],
   "source": [
    "# calculate a subplant fuel ratio\n",
    "subplant_fuel_ratio = eia923_allocated.groupby([\"plant_id_eia\", \"subplant_id\",\"report_date\"], dropna=False).sum()[[\"fuel_consumed_mmbtu\",\"fuel_consumed_for_electricity_mmbtu\"]].reset_index()\n",
    "subplant_fuel_ratio[\"subplant_fuel_ratio\"] = subplant_fuel_ratio[\"fuel_consumed_for_electricity_mmbtu\"] / subplant_fuel_ratio[\"fuel_consumed_mmbtu\"]\n",
    "subplant_fuel_ratio.loc[(subplant_fuel_ratio[\"fuel_consumed_for_electricity_mmbtu\"] == 0) & (subplant_fuel_ratio[\"fuel_consumed_mmbtu\"] == 0),\"subplant_fuel_ratio\"] = 1\n",
    "# calculate a plant fuel ratio to fill missing values where there is not a matching subplant in CEMS\n",
    "plant_fuel_ratio = eia923_allocated.groupby([\"plant_id_eia\", \"report_date\"], dropna=False).sum()[[\"fuel_consumed_mmbtu\",\"fuel_consumed_for_electricity_mmbtu\"]].reset_index()\n",
    "plant_fuel_ratio[\"plant_fuel_ratio\"] = plant_fuel_ratio[\"fuel_consumed_for_electricity_mmbtu\"] / plant_fuel_ratio[\"fuel_consumed_mmbtu\"]\n",
    "plant_fuel_ratio.loc[(plant_fuel_ratio[\"fuel_consumed_for_electricity_mmbtu\"] == 0) & (plant_fuel_ratio[\"fuel_consumed_mmbtu\"] == 0),\"plant_fuel_ratio\"] = 1"
   ]
  },
  {
   "cell_type": "code",
   "execution_count": null,
   "metadata": {},
   "outputs": [],
   "source": [
    "subplant_fuel_ratio[subplant_fuel_ratio[\"plant_id_eia\"] == 7]"
   ]
  },
  {
   "cell_type": "code",
   "execution_count": null,
   "metadata": {},
   "outputs": [],
   "source": [
    "plant_fuel_ratio[plant_fuel_ratio[\"plant_id_eia\"] == 7]"
   ]
  },
  {
   "cell_type": "code",
   "execution_count": null,
   "metadata": {},
   "outputs": [],
   "source": [
    "def adjust_cems_for_chp(cems, eia923_allocated):\n",
    "    \"\"\"\n",
    "    Adjusts CEMS fuel consumption and emissions data for CHP.\n",
    "\n",
    "    Steps:\n",
    "        1. Calculate the ratio between `fuel_consumed_for_electricity_mmbtu` and `fuel_consumed_mmbtu` in EIA-923\n",
    "        2. Use this ratio to calculate a `fuel_consumed_for_electricity_mmbtu` from the `fuel_consumed_mmbtu` data reported in CEMS\n",
    "        3. Calculate an electric allocation factor using the fuel and net generation data\n",
    "        4. Use the allocation factor to adjust emissions\n",
    "    Args:\n",
    "        cems: dataframe of hourly cems data after cleaning and gross to net calculations\n",
    "        eia923_allocated: dataframe of EIA-923 data after allocation\n",
    "    \"\"\"\n",
    "    # calculate a subplant fuel ratio\n",
    "    subplant_fuel_ratio = eia923_allocated.groupby([\"plant_id_eia\", \"subplant_id\",\"report_date\"], dropna=False).sum()[[\"fuel_consumed_mmbtu\",\"fuel_consumed_for_electricity_mmbtu\"]].reset_index()\n",
    "    subplant_fuel_ratio[\"subplant_fuel_ratio\"] = subplant_fuel_ratio[\"fuel_consumed_for_electricity_mmbtu\"] / subplant_fuel_ratio[\"fuel_consumed_mmbtu\"]\n",
    "    subplant_fuel_ratio.loc[(subplant_fuel_ratio[\"fuel_consumed_for_electricity_mmbtu\"] == 0) & (subplant_fuel_ratio[\"fuel_consumed_mmbtu\"] == 0),\"subplant_fuel_ratio\"] = 1\n",
    "    # calculate a plant fuel ratio to fill missing values where there is not a matching subplant in CEMS\n",
    "    plant_fuel_ratio = eia923_allocated.groupby([\"plant_id_eia\", \"report_date\"], dropna=False).sum()[[\"fuel_consumed_mmbtu\",\"fuel_consumed_for_electricity_mmbtu\"]].reset_index()\n",
    "    plant_fuel_ratio[\"plant_fuel_ratio\"] = plant_fuel_ratio[\"fuel_consumed_for_electricity_mmbtu\"] / plant_fuel_ratio[\"fuel_consumed_mmbtu\"]\n",
    "    plant_fuel_ratio.loc[(plant_fuel_ratio[\"fuel_consumed_for_electricity_mmbtu\"] == 0) & (plant_fuel_ratio[\"fuel_consumed_mmbtu\"] == 0),\"plant_fuel_ratio\"] = 1\n",
    "\n",
    "    # merge the fuel ratios into cems and fill missing subplant ratios with plant ratios\n",
    "    cems = cems.merge(subplant_fuel_ratio[[\"plant_id_eia\", \"subplant_id\",\"report_date\", \"subplant_fuel_ratio\"]], how=\"left\", on=[\"plant_id_eia\", \"subplant_id\",\"report_date\"])\n",
    "    cems = cems.merge(plant_fuel_ratio[[\"plant_id_eia\", \"report_date\", \"plant_fuel_ratio\"]], how=\"left\", on=[\"plant_id_eia\", \"report_date\"])\n",
    "    cems[\"subplant_fuel_ratio\"] = cems[\"subplant_fuel_ratio\"].fillna(cems[\"plant_fuel_ratio\"])\n",
    "\n",
    "    # if there are any missing ratios, assume that the ratio is 1\n",
    "    cems[\"subplant_fuel_ratio\"] = cems[\"subplant_fuel_ratio\"].fillna(1)\n",
    "\n",
    "    # calculate fuel_consumed_for_electricity_mmbtu\n",
    "    cems[\"fuel_consumed_for_electricity_mmbtu\"] = cems[\"fuel_consumed_mmbtu\"] * cems[\"subplant_fuel_ratio\"]\n",
    "\n",
    "    # add adjusted emissions columns\n",
    "    # TODO: remove data_cleaning\n",
    "    cems = data_cleaning.adjust_emissions_for_CHP(cems)\n",
    "\n",
    "    return cems\n",
    "    \n"
   ]
  },
  {
   "cell_type": "code",
   "execution_count": null,
   "metadata": {},
   "outputs": [],
   "source": [
    "cems = cems.drop(columns=[\"fuel_consumed_for_electricity_mmbtu\",\"co2_mass_lb_for_electricity\",\"ch4_mass_lb_for_electricity\",\"n2o_mass_lb_for_electricity\",\"nox_mass_lb_for_electricity\",\"so2_mass_lb_for_electricity\",\"fuel_ratio\"])"
   ]
  },
  {
   "cell_type": "code",
   "execution_count": null,
   "metadata": {},
   "outputs": [],
   "source": [
    "cems = adjust_cems_for_chp(cems, eia923_allocated)"
   ]
  },
  {
   "cell_type": "code",
   "execution_count": null,
   "metadata": {},
   "outputs": [],
   "source": [
    "eia923_allocated[eia923_allocated[\"plant_id_eia\"] == 2018].sum()"
   ]
  },
  {
   "cell_type": "code",
   "execution_count": null,
   "metadata": {},
   "outputs": [],
   "source": [
    "cems[(cems[\"plant_id_eia\"] == 7)]#.sum()"
   ]
  },
  {
   "cell_type": "code",
   "execution_count": null,
   "metadata": {},
   "outputs": [],
   "source": [
    "plant_fuel_ratio = eia923_allocated.groupby([\"plant_id_eia\", \"report_date\"], dropna=False).sum()[[\"fuel_consumed_mmbtu\",\"fuel_consumed_for_electricity_mmbtu\"]].reset_index()\n",
    "plant_fuel_ratio[\"fuel_ratio\"] = plant_fuel_ratio[\"fuel_consumed_for_electricity_mmbtu\"] / plant_fuel_ratio[\"fuel_consumed_mmbtu\"]\n",
    "plant_fuel_ratio.loc[(plant_fuel_ratio[\"fuel_consumed_for_electricity_mmbtu\"] == 0) & (plant_fuel_ratio[\"fuel_consumed_mmbtu\"] == 0),\"fuel_ratio\"] = 1"
   ]
  }
 ],
 "metadata": {
  "kernelspec": {
   "display_name": "Python 3.9.12 ('hourly_egrid')",
   "language": "python",
   "name": "python3"
  },
  "language_info": {
   "codemirror_mode": {
    "name": "ipython",
    "version": 3
   },
   "file_extension": ".py",
   "mimetype": "text/x-python",
   "name": "python",
   "nbconvert_exporter": "python",
   "pygments_lexer": "ipython3",
   "version": "3.9.12"
  },
  "orig_nbformat": 4,
  "vscode": {
   "interpreter": {
    "hash": "4103f3cd497821eca917ea303dbe10c590d787eb7d2dc3fd4e15dec0356e7931"
   }
  }
 },
 "nbformat": 4,
 "nbformat_minor": 2
}
