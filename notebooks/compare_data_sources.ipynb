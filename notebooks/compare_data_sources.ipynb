{
 "cells": [
  {
   "cell_type": "code",
   "execution_count": null,
   "id": "cbedf91a",
   "metadata": {},
   "outputs": [],
   "source": [
    "# Tell python where to look for modules. \n",
    "# Depending on how your jupyter handles working directories, this may not be needed.\n",
    "import sys\n",
    "sys.path.append('../../hourly-egrid/')"
   ]
  },
  {
   "cell_type": "code",
   "execution_count": null,
   "id": "2da1fe5c",
   "metadata": {},
   "outputs": [],
   "source": [
    "# Third party packages\n",
    "import pandas as pd\n",
    "import matplotlib.pyplot as plt\n",
    "import numpy as np\n",
    "import sqlalchemy as sa\n",
    "\n",
    "from dateutil.parser import parse as parse_dt\n",
    "\n",
    "# Greg note: also adding plotly for interactive visualizations\n",
    "import plotly\n",
    "import plotly.express as px\n",
    "import missingno\n",
    "\n",
    "plotly.offline.init_notebook_mode()"
   ]
  },
  {
   "cell_type": "code",
   "execution_count": null,
   "id": "d5a3fed1",
   "metadata": {},
   "outputs": [],
   "source": [
    "# import our packages\n",
    "%reload_ext autoreload\n",
    "%autoreload 2\n",
    "\n",
    "import src.data_cleaning as data_cleaning"
   ]
  },
  {
   "cell_type": "code",
   "execution_count": null,
   "id": "64ebd7dc",
   "metadata": {},
   "outputs": [],
   "source": [
    "year = 2019"
   ]
  },
  {
   "cell_type": "markdown",
   "id": "46428e0b",
   "metadata": {},
   "source": [
    "# 1. Compare EIA-923 to EIA-930\n",
    "EIA-923 is our source of data for any generator heat input (and thus emissions) that are not reported to CEMS, and EIA-930 is our source of data for the hourly net generation profile for each BA. Our hope is that both 923 and 930 represent the complete set of generators in each BA, and thus the net generation reported by each should be the same. Our first step is to compare the consistency of these two data sources. \n",
    "\n",
    "Potential sources of discrepency:\n",
    "- bad data reported in EIA-930. To fix this we can try using the code from https://github.com/jdechalendar/gridemissions\n",
    "- Inconsistent assignment of fuel type\n",
    "- Inconsistent assignment to BA (try aggregating data at national level - it should be the same)"
   ]
  },
  {
   "cell_type": "markdown",
   "id": "7276eed2",
   "metadata": {},
   "source": [
    "### Load the EIA-930 data"
   ]
  },
  {
   "cell_type": "code",
   "execution_count": null,
   "id": "bff746cd",
   "metadata": {},
   "outputs": [],
   "source": [
    "# load EIA-930 data\n",
    "# there is also an \"unknown fuel sources\" column but it appears to be unused\n",
    "cols_to_use = ['Balancing Authority','Data Date', 'UTC Time at End of Hour',\n",
    "       'Net Generation (MW) from Coal', 'Net Generation (MW) from Natural Gas',\n",
    "       'Net Generation (MW) from Nuclear',\n",
    "       'Net Generation (MW) from All Petroleum Products',\n",
    "       'Net Generation (MW) from Hydropower and Pumped Storage',\n",
    "       'Net Generation (MW) from Solar', 'Net Generation (MW) from Wind',\n",
    "       'Net Generation (MW) from Other Fuel Sources']\n",
    "\n",
    "\n",
    "eia_930 = pd.concat([pd.read_csv(f'../data/downloads/eia930/EIA930_BALANCE_{year}_Jan_Jun.csv', thousands=',', usecols=cols_to_use, parse_dates=['UTC Time at End of Hour']),\n",
    "                     pd.read_csv(f'../data/downloads/eia930/EIA930_BALANCE_{year}_Jul_Dec.csv', thousands=',', usecols=cols_to_use, parse_dates=['UTC Time at End of Hour'])])\n",
    "\n",
    "# convert from end of hour timestamp to beginning of hour timestamp\n",
    "eia_930['UTC Time at End of Hour'] = eia_930['UTC Time at End of Hour'] - pd.Timedelta(hours=1)\n",
    "\n",
    "# localize the timezone as UTC time and rename the column\n",
    "eia_930['UTC Time at End of Hour'] = eia_930['UTC Time at End of Hour'].dt.tz_localize('UTC')\n",
    "eia_930 = eia_930.rename(columns={'UTC Time at End of Hour':'operating_datetime_utc'})\n",
    "\n",
    "# create a column for data month\n",
    "eia_930['data_month'] = eia_930['Data Date'].str.split('/', expand=True)[0]\n",
    "\n",
    "# shorten the column name to just be the name of the fuel type\n",
    "eia_930.columns = [col.replace(\"Net Generation (MW) from \",\"\") for col in eia_930.columns]\n",
    "\n",
    "eia_930.head(3)"
   ]
  },
  {
   "cell_type": "code",
   "execution_count": null,
   "id": "06973668",
   "metadata": {},
   "outputs": [],
   "source": [
    "# EIA-930 also includes categories for other and unknown. These are being included in the emitting fuel source category\n",
    "# TODO: check if fuel types always sum to net generation.\n",
    "\n",
    "net_gen_columns = ['Coal', 'Natural Gas','Nuclear',\n",
    "       'All Petroleum Products','Hydropower and Pumped Storage',\n",
    "       'Solar', 'Wind','Other Fuel Sources']\n",
    "\n",
    "emitting_gen_columns = ['Coal', 'Natural Gas',\n",
    "       'All Petroleum Products', 'Other Fuel Sources']"
   ]
  },
  {
   "cell_type": "code",
   "execution_count": null,
   "id": "87e454ac",
   "metadata": {},
   "outputs": [],
   "source": [
    "# Explore some data cleaning\n",
    "\n",
    "# replace negative values with NaN\n",
    "for col in emitting_gen_columns:\n",
    "    eia_930.loc[eia_930[col]<0, col] = np.nan"
   ]
  },
  {
   "cell_type": "code",
   "execution_count": null,
   "id": "2e2fc0fc",
   "metadata": {},
   "outputs": [],
   "source": [
    "# Calculate hourly EIA-930 non-renewable generation \n",
    "eia_930[\"emitting_net_generation\"] = eia_930[emitting_gen_columns].sum(axis=1)\n",
    "\n",
    "# Calculate hourly EIA-930 non-renewable generation \n",
    "eia_930[\"total_net_generation\"] = eia_930[net_gen_columns].sum(axis=1)\n",
    "\n",
    "eia_930.head(3)"
   ]
  },
  {
   "cell_type": "code",
   "execution_count": null,
   "id": "32f62ed5",
   "metadata": {},
   "outputs": [],
   "source": [
    "annual_930 = pd.DataFrame(eia_930.groupby('Balancing Authority').sum()['emitting_net_generation'])\n",
    "annual_930 = annual_930.rename(columns={'emitting_net_generation':'EIA-930'})\n",
    "annual_930.head()"
   ]
  },
  {
   "cell_type": "markdown",
   "id": "1f103cf1",
   "metadata": {},
   "source": [
    "### Load the EIA-923 data\n",
    "PUDL reports 923 monthly generation data across two tables, generation_eia923 and generation_fuel_eia923.  \n",
    "PUDL says that this only contains ~55% of reported generation (https://catalystcoop-pudl.readthedocs.io/en/latest/data_sources/eia923.html).  \n",
    "PUDL documentation identifies generation_fuel_eia923 as more complete. We will use this data table for now, but eventually we want to clean this data and ensure consistency."
   ]
  },
  {
   "cell_type": "code",
   "execution_count": null,
   "id": "f6802522",
   "metadata": {},
   "outputs": [],
   "source": [
    "# specify the relative path to the sqllite database, and create an sqalchemy engine\n",
    "pudl_db = 'sqlite:///../data/downloads/pudl/pudl_data/sqlite/pudl.sqlite'\n",
    "pudl_engine = sa.create_engine(pudl_db)\n",
    "\n",
    "# load fuel table, filter for year. Table is large so filter before loading into pandas\n",
    "gen_fuel_923 = pd.read_sql(f\"SELECT * FROM generation_fuel_eia923 \\\n",
    "                           WHERE report_date >= '{year}-01-01' \\\n",
    "                           AND report_date <= '{year}-12-30'\", pudl_engine)\n",
    "gen_fuel_923.head()"
   ]
  },
  {
   "cell_type": "code",
   "execution_count": null,
   "id": "354b60b2",
   "metadata": {},
   "outputs": [],
   "source": [
    "# identify the fuel code to fuel category mapping that pudl performed\n",
    "fuel_code_dict_pudl = gen_fuel_923.drop_duplicates(['energy_source_code','fuel_type_code_pudl'])\n",
    "fuel_code_dict_pudl = pd.Series(fuel_code_dict_pudl.fuel_type_code_pudl.values, index=fuel_code_dict_pudl.energy_source_code).to_dict()\n"
   ]
  },
  {
   "cell_type": "code",
   "execution_count": null,
   "id": "1235fab0",
   "metadata": {},
   "outputs": [],
   "source": [
    "# modify pudl's mapping to match EIA-930 fuel types\n",
    "fuel_code_dict_930 = {'DFO': 'oil',\n",
    " 'WND': 'wind',\n",
    " 'WAT': 'hydro',\n",
    " 'NG': 'natgas', # changed natural gas from gas to natgas\n",
    " 'BIT': 'coal',\n",
    " 'SUB': 'coal',\n",
    " 'LIG': 'coal',\n",
    " 'PG': 'other', # changed process gas from gas to other\n",
    " 'RC': 'coal',\n",
    " 'AB': 'other', # changed agricultural byproduct from waste to other\n",
    " 'WDS': 'other', # changed from waste to other\n",
    " 'RFO': 'oil',\n",
    " 'LFG': 'other', # changed landfill gas from waste to other\n",
    " 'PC': 'coal',\n",
    " 'SUN': 'solar',\n",
    " 'OBG': 'other', #changed other biobgas from waste to other\n",
    " 'GEO': 'other', # geothermal\n",
    " 'MWH': 'other', # batteries / energy storage - there is a change this also includes pumped storage hydro\n",
    " 'OG': 'other', # changed other gas from gas to other\n",
    " 'WO': 'oil',\n",
    " 'JF': 'oil',\n",
    " 'KER': 'oil',\n",
    " 'OTH': 'other',\n",
    " 'WC': 'coal',\n",
    " 'SGC': 'other', # changed from gas to other\n",
    " 'OBS': 'other', # changed from waste to other\n",
    " 'TDF': 'other', # changed from waste to other\n",
    " 'BFG': 'other', # changed from gas to other\n",
    " 'MSB': 'other', # changed from waste to other\n",
    " 'MSN': 'other', # changed from waste to other\n",
    " 'SC': 'coal',\n",
    " 'BLQ': 'other', # changed from waste to other\n",
    " 'WH': 'other',\n",
    " 'OBL': 'other', # changed from waste to other\n",
    " 'SLW': 'other', # changed from waste to other\n",
    " 'PUR': 'other', \n",
    " 'WDL': 'other', # changed from waste to other\n",
    " 'SGP': 'other'} # changed from gas to other\n",
    "\n",
    "# add a column for 930 fuel type\n",
    "gen_fuel_923['fuel_type_930'] = gen_fuel_923['energy_source_code'].map(fuel_code_dict_930)\n",
    "\n",
    "# Filter for emitting generation only \n",
    "gen_fuel_923 = gen_fuel_923[gen_fuel_923.fuel_type_930.isin(['oil', 'natgas', 'coal', 'other'])]\n",
    "\n",
    "# load the plants_entity_eia data\n",
    "plants_ba = pd.read_sql(\"SELECT balancing_authority_code_eia, plant_id_eia \\\n",
    "                            FROM plants_entity_eia\", pudl_engine)\n",
    "\n",
    "# Add ba code to generation_fuel_eia923\n",
    "gen_fuel_923 = gen_fuel_923.merge(plants_ba, how='left', on='plant_id_eia')\n",
    "\n",
    "gen_fuel_923.head()"
   ]
  },
  {
   "cell_type": "code",
   "execution_count": null,
   "id": "ed59dc39",
   "metadata": {},
   "outputs": [],
   "source": [
    "annual_923 = pd.DataFrame(gen_fuel_923.groupby(\"balancing_authority_code_eia\").sum()[\"net_generation_mwh\"])\n",
    "annual_923 = annual_923.rename(columns={'net_generation_mwh':'EIA-923'})\n",
    "annual_923.head()"
   ]
  },
  {
   "cell_type": "code",
   "execution_count": null,
   "id": "f5591b9b",
   "metadata": {},
   "outputs": [],
   "source": [
    "compare_annual_923_930 = annual_923.merge(annual_930, how='outer', left_index=True, right_index=True)"
   ]
  },
  {
   "cell_type": "code",
   "execution_count": null,
   "id": "2a382949",
   "metadata": {},
   "outputs": [],
   "source": [
    "# identify which BAs are missing from one or another dataset\n",
    "compare_annual_923_930[compare_annual_923_930.isna().any(axis=1)]"
   ]
  },
  {
   "cell_type": "code",
   "execution_count": null,
   "id": "a97a643a",
   "metadata": {},
   "outputs": [],
   "source": [
    "# let's compare each BA\n",
    "px.scatter(compare_annual_923_930)"
   ]
  },
  {
   "cell_type": "code",
   "execution_count": null,
   "id": "2eb514d7",
   "metadata": {},
   "outputs": [],
   "source": [
    "percent_diff_923_930 =(compare_annual_923_930['EIA-930'] - compare_annual_923_930['EIA-923']) / compare_annual_923_930['EIA-923'] * 100\n",
    "\n",
    "px.bar(percent_diff_923_930, title='percent difference between emitting net generation in EIA-930 and EIA-923', labels={'value':'% change from EIA-923'})\n"
   ]
  },
  {
   "cell_type": "markdown",
   "id": "3c48a5f8",
   "metadata": {},
   "source": [
    "### Let's explore these differences by fuel type"
   ]
  },
  {
   "cell_type": "code",
   "execution_count": null,
   "id": "5d7936d7",
   "metadata": {},
   "outputs": [],
   "source": [
    "annual_923_by_fuel = gen_fuel_923.groupby([\"balancing_authority_code_eia\",\"fuel_type_930\"]).sum()[\"net_generation_mwh\"].reset_index()\n",
    "annual_923_by_fuel = annual_923_by_fuel.rename(columns={'net_generation_mwh':'EIA-923'})\n",
    "annual_923_by_fuel.head(3)"
   ]
  },
  {
   "cell_type": "code",
   "execution_count": null,
   "id": "547056b0",
   "metadata": {},
   "outputs": [],
   "source": [
    "annual_930_by_fuel = eia_930.groupby('Balancing Authority').sum()[['Coal','Natural Gas','All Petroleum Products', 'Other Fuel Sources']]\n",
    "annual_930_by_fuel = annual_930_by_fuel.rename(columns={'Coal':'coal','Natural Gas':'natgas','All Petroleum Products':'oil', 'Other Fuel Sources':'other'})\n",
    "annual_930_by_fuel = annual_930_by_fuel.reset_index().melt(id_vars='Balancing Authority', var_name='fuel_type_930', value_name='EIA-930')\n",
    "annual_930_by_fuel = annual_930_by_fuel.rename(columns={'Balancing Authority':'balancing_authority_code_eia'})\n",
    "annual_930_by_fuel"
   ]
  },
  {
   "cell_type": "code",
   "execution_count": null,
   "id": "5822089d",
   "metadata": {},
   "outputs": [],
   "source": [
    "compare_annual_by_fuel = annual_923_by_fuel.merge(annual_930_by_fuel, \n",
    "                                                  how='outer', \n",
    "                                                  on=['balancing_authority_code_eia','fuel_type_930'])\n",
    "\n",
    "px.scatter(compare_annual_by_fuel, \n",
    "           x='balancing_authority_code_eia', \n",
    "           y=['EIA-923','EIA-930'], \n",
    "           facet_col='fuel_type_930', \n",
    "           facet_col_wrap=1, \n",
    "           height=1000,\n",
    "           title='comparison of net generation by fuel type for each BA')"
   ]
  },
  {
   "cell_type": "code",
   "execution_count": null,
   "id": "64e58a5f",
   "metadata": {},
   "outputs": [],
   "source": [
    "percent_error = compare_annual_by_fuel.groupby('fuel_type_930').sum()\n",
    "# add a total row\n",
    "total = pd.DataFrame(percent_error.sum(), columns=['total']).T\n",
    "percent_error = pd.concat([percent_error, total], axis=0)\n",
    "percent_error['percent_error'] = (percent_error['EIA-930'] - percent_error['EIA-923']) / percent_error['EIA-923']\n",
    "percent_error"
   ]
  },
  {
   "cell_type": "markdown",
   "id": "e60013b2",
   "metadata": {},
   "source": [
    "### Percent Error results\n",
    "Initial run with no data cleaning: EI-930 percent diff from EIA-923\n",
    " - coal:    -2.67%\n",
    " - natgas:  -8.38%\n",
    " - oil:     782.0%\n",
    " - other:   -28.77%\n",
    " - total:   -5.96%\n",
    "\n",
    "After replacing all negative values in EIA-930 with NaNs: (this seems to have slightly reduced errors)\n",
    " - coal:    -2.64%\n",
    " - natgas:  -8.22%\n",
    " - oil:     782.3%\n",
    " - other:   -28.68%\n",
    " - total:   -5.85%"
   ]
  },
  {
   "cell_type": "markdown",
   "id": "318b4b72",
   "metadata": {},
   "source": [
    "# 1. Compare hourly generation to EIA-930\n",
    "* Compare emisson rate\n",
    "* Compare total emission "
   ]
  },
  {
   "cell_type": "code",
   "execution_count": null,
   "id": "f4cba511",
   "metadata": {},
   "outputs": [],
   "source": [
    "hourly_emission_rate = pd.read_csv(\"../data/outputs/hourly_emission_rate.csv\", index_col=0, parse_dates=True)\n",
    "hourly_net_generation = pd.read_csv(\"../data/outputs/hourly_net_generation.csv\", index_col=0, parse_dates=True)\n",
    "hourly_net_emissions = pd.read_csv(\"../data/outputs/hourly_net_emission.csv\", index_col=0, parse_dates=True)\n",
    "hourly_emission_rate.head()"
   ]
  },
  {
   "cell_type": "code",
   "execution_count": null,
   "id": "d4b6d9fe",
   "metadata": {},
   "outputs": [],
   "source": [
    "eia_930.head()"
   ]
  },
  {
   "cell_type": "code",
   "execution_count": null,
   "id": "4b53424e",
   "metadata": {},
   "outputs": [],
   "source": [
    "# large BAs with significant discrepancies between eGRID and aggregated CEMS data: PJM, MISO, ERCO\n",
    "# BAs with bad 930 data: PGE, AVRN, BPAT, \"FPL\",\"IPCO\",\"NEVP\",\"SC\",\"TEC\",\"TVA\"\n",
    "ba = \"AVRN\"\n",
    "\n",
    "fig, (ax, ax2) = plt.subplots(1,2, figsize=(14,5))\n",
    "\n",
    "ax.plot(hourly_net_generation[ba], label=\"BA-aggregated CEMS\")\n",
    "ax.plot(eia_930[eia_930[\"Balancing Authority\"]==ba][\"operating_datetime_utc\"],\\\n",
    "        eia_930[eia_930[\"Balancing Authority\"]==ba][\"emitting_net_generation\"])\n",
    "ax.set_title(ba)\n",
    "\n",
    "ax2.plot(hourly_net_generation[ba], label=\"Hourly eGRID\")\n",
    "ax2.plot(eia_930[eia_930[\"Balancing Authority\"]==ba][\"operating_datetime_utc\"],\\\n",
    "         eia_930[eia_930[\"Balancing Authority\"]==ba][\"emitting_net_generation\"], label=\"EIA-930 emitting\")\n",
    "ax2.set_title(ba)\n",
    "ax2.legend()\n",
    "ax2.set_xlim(parse_dt(\"2019-08-01\"), parse_dt(\"2019-08-10\"))"
   ]
  },
  {
   "cell_type": "code",
   "execution_count": null,
   "id": "dd5f9669",
   "metadata": {},
   "outputs": [],
   "source": [
    "ba = \"PJM\"\n",
    "\n",
    "data_for_plot = eia_930.loc[eia_930[\"Balancing Authority\"]==ba, [\"930_generation_non_renewable\",\"930_generation_minus_renewable\"]]\n",
    "data_for_plot = data_for_plot.merge(hourly_net_generation[ba], how='left', left_index=True, right_index=True)\n",
    "data_for_plot = data_for_plot.rename(columns={ba:'CEMS'})\n",
    "\n",
    "px.line(data_for_plot, title=f'Net generation in {ba} EIA-930 vs CEMS')"
   ]
  },
  {
   "cell_type": "markdown",
   "id": "ee1829da",
   "metadata": {},
   "source": [
    "### Annual EIA-930\n",
    "\n",
    "Hourly EIA-930 appears to be in good agreement with hourly eGRID numbers, even in areas like PJM where hourly eGRID covers only 60% of actual eGRID non-renewable generation. Is this something about aggregation, or a difference between EIA-930 and actual eGRID? "
   ]
  },
  {
   "cell_type": "code",
   "execution_count": null,
   "id": "16605d9e",
   "metadata": {},
   "outputs": [],
   "source": [
    "# For annual comparison graphs, see below with eGRID\n",
    "annual_eia_930 = eia_930.groupby(\"Balancing Authority\").sum()[\"emitting_net_generation\"]\n",
    "annual_eia_930.head()"
   ]
  },
  {
   "cell_type": "markdown",
   "id": "ff62a83b",
   "metadata": {},
   "source": [
    "# 2. Compute annual generation from 923\n",
    "* Aggregate 923 generation to the BA level \n",
    "* In (3), compare aggregated 923 to aggregated hourly eGRID, annual eGRID, and 930"
   ]
  },
  {
   "cell_type": "code",
   "execution_count": null,
   "id": "96e1bdbb",
   "metadata": {},
   "outputs": [],
   "source": [
    "# PUDL reports 923 monthly generation data across two tables, generation_eia923 and generation_fuel_eia923\n",
    "\n",
    "# Load generation, filter for year. PUDL says that this only contains ~55% of reported generation \n",
    "# (https://catalystcoop-pudl.readthedocs.io/en/latest/data_sources/eia923.html)\n",
    "# Table is large, so filter before load\n",
    "gen_923 = pd.read_sql(f\"SELECT * FROM generation_eia923 \\\n",
    "                           WHERE report_date >= '{year}-01-01' \\\n",
    "                           AND report_date <= '{year}-12-30'\", pudl_engine)\n",
    "gen_923.head()"
   ]
  },
  {
   "cell_type": "code",
   "execution_count": null,
   "id": "acb52e34",
   "metadata": {},
   "outputs": [],
   "source": [
    "# Are all the plants in gen_923 also in gen_fuel_923?\n",
    "oneway = np.setdiff1d(gen_923[\"plant_id_eia\"].unique(), gen_fuel_923[\"plant_id_eia\"].unique())\n",
    "print(f\"{len(oneway)} plants in generation_eia923 are not in generation_fuel_eia923\")\n",
    "\n",
    "otherway = np.setdiff1d(gen_fuel_923[\"plant_id_eia\"].unique(),gen_923[\"plant_id_eia\"].unique())\n",
    "print(f\"{len(oneway)} plants in generation_fuel_eia923 are not in generation_eia923\")"
   ]
  },
  {
   "cell_type": "markdown",
   "id": "d8972ea6",
   "metadata": {},
   "source": [
    "Both PUDL tables appear to contain the same plants, but PUDL documentation identifies generation_fuel_eia923 as more complete. We use that table to aggregate..."
   ]
  },
  {
   "cell_type": "code",
   "execution_count": null,
   "id": "1b7dfed5",
   "metadata": {},
   "outputs": [],
   "source": []
  },
  {
   "cell_type": "code",
   "execution_count": null,
   "id": "b8643972",
   "metadata": {},
   "outputs": [],
   "source": []
  },
  {
   "cell_type": "markdown",
   "id": "23d9b3d6",
   "metadata": {},
   "source": [
    "# 2. Compare annually-aggregated generation to eGRID \n",
    "* Compare annual aggregated generation, emission, and emission rate"
   ]
  },
  {
   "cell_type": "code",
   "execution_count": null,
   "id": "6081cd96",
   "metadata": {},
   "outputs": [],
   "source": [
    "egrid = pd.read_excel(f\"../data/downloads/egrid/egrid{year}_data.xlsx\", sheet_name=f\"BA{year-2000}\", header=1, index_col=\"BACODE\")\n",
    "egrid.head()"
   ]
  },
  {
   "cell_type": "code",
   "execution_count": null,
   "id": "a61d6edb",
   "metadata": {},
   "outputs": [],
   "source": [
    "## Get names (row 0 of egrid) and codes (row 1) for each eGRID data type\n",
    "## We use data codes as columns (above), but mapping back to names is useful \n",
    "egrid_data_code_to_name = pd.read_excel(f\"../data/downloads/egrid/egrid{year}_data.xlsx\", sheet_name=f\"BA{year-2000}\", nrows=1)\n",
    "egrid_data_code_to_name = dict([(egrid_data_code_to_name.loc[0,name], name) for name in egrid_data_code_to_name.columns])"
   ]
  },
  {
   "cell_type": "code",
   "execution_count": null,
   "id": "c7ff273f",
   "metadata": {},
   "outputs": [],
   "source": [
    "# Merge summed hourly eGRID generation and annual eGRID non-renuable net generation\n",
    "annual_generation = hourly_net_generation.sum(axis=0).rename(\"hourly\")\n",
    "annual_generation = egrid.merge(annual_generation, how='right', left_index=True, right_index=True).loc[:,[\"hourly\",\"BAGENACY\"]]"
   ]
  },
  {
   "cell_type": "code",
   "execution_count": null,
   "id": "3c5c97e0",
   "metadata": {},
   "outputs": [],
   "source": [
    "# Merge aggregated 930, 923\n",
    "annual_generation = annual_generation.merge(annual_eia_930, how=\"left\", left_index=True, right_index=True)\n",
    "annual_generation = annual_generation.merge(annual_923, how=\"left\", left_index=True, right_index=True)"
   ]
  },
  {
   "cell_type": "code",
   "execution_count": null,
   "id": "f4a214c8",
   "metadata": {},
   "outputs": [],
   "source": [
    "annual_generation.head()"
   ]
  },
  {
   "cell_type": "code",
   "execution_count": null,
   "id": "42b05893",
   "metadata": {},
   "outputs": [],
   "source": [
    "fig, (ax, ax1, ax2, ax3) = plt.subplots(4, 1, figsize=(12,24))\n",
    "\n",
    "## Note: 923 and eGRID exactly agree, so points are on top of one another. \n",
    "ax.scatter(annual_generation.index, annual_generation[\"hourly\"].tolist(), label=\"Aggregated hourly eGRID\")\n",
    "ax.scatter(annual_generation.index, annual_generation[\"BAGENACY\"].tolist(), label=\"eGRID\")\n",
    "ax.scatter(annual_generation.index, annual_generation[\"930_generation_non_renewable\"].tolist(), label=\"930 non-renewables\")\n",
    "ax.scatter(annual_generation.index, annual_generation[\"annual_923_net_gen\"].tolist(), label=\"923\")\n",
    "ax.legend()\n",
    "ax.grid(axis='x')\n",
    "ax.set_title(f\"{egrid_data_code_to_name['BAGENACY']}\")\n",
    "ax.set_xticklabels(labels=annual_generation.index, rotation=90);\n",
    "ax.set_ylabel(\"MWh non-renewable generation\")\n",
    "\n",
    "small = annual_generation[annual_generation[\"BAGENACY\"] < 1e8]\n",
    "ax1.scatter(small.index, small[\"hourly\"].tolist())\n",
    "ax1.scatter(small.index, small[\"BAGENACY\"].tolist())\n",
    "ax1.scatter(small.index, small[\"930_generation_non_renewable\"].tolist(), label=\"930 non-renewables\")\n",
    "ax1.grid(axis='x')\n",
    "ax1.set_title(\"BAs under 100,000,000 MWh annual\")\n",
    "ax1.set_xticklabels(labels=small.index, rotation=90);\n",
    "\n",
    "ax2.bar(annual_generation.index, annual_generation[\"hourly\"]/annual_generation[\"BAGENACY\"])\n",
    "ax2.grid(axis='x')\n",
    "ax2.set_xticklabels(labels=annual_generation.index, rotation=90);\n",
    "ax2.hlines([1.0], -.5, len(annual_generation)-0.5, color='r')\n",
    "ax2.set_ylabel(\"Fraction of eGRID non-renewable generation captured by CEMS\");\n",
    "ax2.set_title(\"Annual vs Hourly eGRID\")\n",
    "\n",
    "ax3.bar(annual_generation.index, annual_generation[\"hourly\"]/annual_generation[\"930_generation_non_renewable\"])\n",
    "ax3.grid(axis='x')\n",
    "ax3.set_xticklabels(labels=annual_generation.index, rotation=90);\n",
    "ax3.hlines([1.0], -.5, len(annual_generation)-0.5, color='r')\n",
    "ax3.set_ylabel(\"Fraction of 930 generation captured by CEMS\");\n",
    "ax3.set_ylim(0,2)\n",
    "ax3.set_title(\"EIA-930 vs hourly eGRID\")"
   ]
  },
  {
   "cell_type": "code",
   "execution_count": null,
   "id": "162d5352",
   "metadata": {},
   "outputs": [],
   "source": [
    "# Many small BAs have terrible coverage of EIA-930 data, resulting in low annually aggregated 930 numbers.\n",
    "# The worst discrepencies between 930 and eGRID:\n",
    "annual_generation.loc[[\"FPL\",\"IPCO\",\"NEVP\",\"SC\",\"TEC\",\"TVA\"],:]"
   ]
  },
  {
   "cell_type": "markdown",
   "id": "657a4810",
   "metadata": {},
   "source": [
    "# 5. Compare eGRID to 923"
   ]
  },
  {
   "cell_type": "code",
   "execution_count": null,
   "id": "061ee368",
   "metadata": {},
   "outputs": [],
   "source": [
    "fig, (ax) = plt.subplots(1, figsize=(12, 6))\n",
    "\n",
    "ax.bar(annual_generation.index, annual_generation[\"annual_923_net_gen\"]/annual_generation[\"BAGENACY\"])\n",
    "ax.grid(axis='x')\n",
    "ax.set_xticklabels(labels=annual_generation.index, rotation=90);\n",
    "ax.hlines([1.0], -.5, len(annual_generation)-0.5, color='r')\n",
    "ax.set_ylabel(\"Fraction of eGRID non-renewable generation captured by 923\");\n",
    "ax.set_title(\"923 vs eGRID\")"
   ]
  },
  {
   "cell_type": "code",
   "execution_count": null,
   "id": "639d4c75",
   "metadata": {},
   "outputs": [],
   "source": []
  }
 ],
 "metadata": {
  "kernelspec": {
   "display_name": "Python 3 (ipykernel)",
   "language": "python",
   "name": "python3"
  },
  "language_info": {
   "codemirror_mode": {
    "name": "ipython",
    "version": 3
   },
   "file_extension": ".py",
   "mimetype": "text/x-python",
   "name": "python",
   "nbconvert_exporter": "python",
   "pygments_lexer": "ipython3",
   "version": "3.9.7"
  }
 },
 "nbformat": 4,
 "nbformat_minor": 5
}
