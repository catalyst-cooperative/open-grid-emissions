{
 "cells": [
  {
   "cell_type": "markdown",
   "metadata": {},
   "source": [
    "# About this notebook\n",
    "\n",
    "This notebook is for test running the data pipeline and  as a sandbox for testing new functions that we are adding to data pipeline."
   ]
  },
  {
   "cell_type": "code",
   "execution_count": 1,
   "metadata": {},
   "outputs": [],
   "source": [
    "# import packages\n",
    "import pandas as pd\n",
    "\n",
    "%reload_ext autoreload\n",
    "%autoreload 2\n",
    "\n",
    "# # Tell python where to look for modules.\n",
    "import sys\n",
    "sys.path.append(\"../../../open-grid-emissions/\")\n",
    "\n",
    "\n",
    "from src.column_checks import get_dtypes\n",
    "\n",
    "year = 2020"
   ]
  },
  {
   "cell_type": "markdown",
   "metadata": {},
   "source": [
    "# Run the Pipeline"
   ]
  },
  {
   "cell_type": "code",
   "execution_count": 3,
   "metadata": {},
   "outputs": [
    {
     "name": "stdout",
     "output_type": "stream",
     "text": [
      "a:\\GitHub\\open-grid-emissions\\src\n",
      "1. Downloading data\n",
      "    PUDL data already downloaded\n",
      "    egrid2018_data_v2.xlsx already downloaded\n",
      "    egrid2019_data.xlsx already downloaded\n",
      "    egrid2020_data.xlsx already downloaded\n",
      "    EBA_elec.csv already downloaded\n",
      "    EBA_raw.csv already downloaded\n",
      "    BALANCE_2020_Jan_Jun data already downloaded\n",
      "    BALANCE_2020_Jul_Dec data already downloaded\n",
      "    INTERCHANGE_2020_Jan_Jun data already downloaded\n",
      "    INTERCHANGE_2020_Jul_Dec data already downloaded\n",
      "    BALANCE_2019_Jan_Jun data already downloaded\n",
      "    BALANCE_2019_Jul_Dec data already downloaded\n",
      "    INTERCHANGE_2019_Jan_Jun data already downloaded\n",
      "    INTERCHANGE_2019_Jul_Dec data already downloaded\n",
      "    epa_eia_crosswalk.csv already downloaded\n",
      "    2020 EIA-860 already downloaded\n",
      "    2020 EIA-923 already downloaded\n",
      "2. Identifying subplant IDs\n",
      "    Subplant IDs already created\n",
      "3. Cleaning EIA-923 data\n"
     ]
    },
    {
     "name": "stderr",
     "output_type": "stream",
     "text": [
      "a:\\github\\pudl\\src\\pudl\\analysis\\allocate_net_gen.py:224: UserWarning: 1 generators are missing prime mover codes in gens_eia860. This will result in incorrect allocation.\n",
      "  warnings.warn(\n"
     ]
    },
    {
     "name": "stdout",
     "output_type": "stream",
     "text": [
      "    Checking that there are no missing energy source codes associated with non-zero fuel consumption...  OK\n",
      "    Checking that fuel and emissions values are positive...  OK\n",
      " \n",
      "Warning: NOx emission factors are missing for the following boiler types. An emission factor of zero will be used for these boilers.\n",
      "      prime_mover_code energy_source_code boiler_bottom_type boiler_firing_type\n",
      "20403               FC                LFG                NaN                NaN\n",
      "13248               FC                 NG                NaN                NaN\n",
      "19938               FC                OBG                NaN                NaN\n",
      " \n",
      " \n",
      "Warning: SO2 emission factors are missing for the following boiler types. An emission factor of zero will be used for these boilers.\n",
      "      prime_mover_code energy_source_code boiler_firing_type\n",
      "20403               FC                LFG                NaN\n",
      "13248               FC                 NG                NaN\n",
      "19938               FC                OBG                NaN\n",
      " \n",
      "    Checking that total fuel consumed >= fuel consumed for electricity...  OK\n",
      "    Checking that adjusted emission values are less than total emissions...  OK\n",
      "    Removing 0 plants that are not grid-connected\n",
      "    Removing 0 plants located in the following states: ['PR']\n",
      "    Checking that fuel and emissions values are positive...  OK\n",
      "4. Cleaning CEMS data\n",
      "    Removing 45 plants that are not grid-connected\n",
      "    Removing 0 plants located in the following states: ['PR']\n",
      "    Removing 3 units that only produce steam and do not report to EIA\n",
      "    Removing 275 unit-months with incomplete hourly data\n",
      " \n",
      "Warning: the following units are missing co2 data and energy source codes. This may be because they burn multiple fuels.\n",
      "          plant_id_eia  unitid\n",
      "25082682         10244    B002\n",
      "25087096         10244    B003\n",
      "26570789         50397      36\n",
      "27384028         50397      39\n",
      "28925524         50481  253-26\n",
      " \n",
      "    Removing 7315486 observations from cems for unit-months where no data reported\n",
      "    Checking that fuel and emissions values are positive...  OK\n",
      "    Checking that all data has an associated `subplant_id`...   \n",
      "Warning: There are 1058599 records for 72 plants without a subplant ID. See `missing_subplant_test` for details\n",
      "5. Loading plant static attributes\n",
      "    Exporting plant_static_attributes to data/outputs\n",
      "6. Identifying source for hourly data\n",
      "7. Aggregating CEMS data from unit to subplant\n",
      "8. Shaping partial CEMS data\n",
      "    Exporting eia923_allocated to data/outputs\n",
      "    Exporting partial_cems to data/outputs\n",
      "9. Converting CEMS gross generation to net generation\n",
      "    Checking that calculated net generation matches reported net generation in EIA-923...   \n",
      "Warning: There are 1 plants where calculated annual net generation does not match EIA annual net generation.\n",
      "              net_generation_mwh_eia  net_generation_mwh_calc  pct_error\n",
      "plant_id_eia                                                            \n",
      "1391                       3007931.9              3102248.237   0.031356\n",
      "    Exporting cems_gross_to_net_methods to data/results/2020/data_quality_metrics\n",
      "    Exporting gross_to_net_conversions to data/outputs\n",
      "10. Adjusting CEMS emissions for CHP\n",
      "    Checking that total fuel consumed >= fuel consumed for electricity...  OK\n",
      "    Checking that adjusted emission values are less than total emissions...  OK\n",
      "    Exporting cems to data/outputs\n"
     ]
    }
   ],
   "source": [
    "%cd ../../src\n",
    "%run data_pipeline --year 2020"
   ]
  },
  {
   "cell_type": "code",
   "execution_count": null,
   "metadata": {},
   "outputs": [],
   "source": [
    "%cd ../../src\n",
    "%run data_pipeline --small SMALL --year 2020"
   ]
  },
  {
   "cell_type": "markdown",
   "metadata": {},
   "source": [
    "# Functions for loading intermediate outputs"
   ]
  },
  {
   "cell_type": "code",
   "execution_count": null,
   "metadata": {},
   "outputs": [],
   "source": [
    "\n",
    "# load data from csv\n",
    "year = 2020\n",
    "path_prefix = ''\n",
    "\n",
    "cems = pd.read_csv(f'../data/outputs/{path_prefix}{year}/cems_{year}.csv', dtype=get_dtypes(), parse_dates=['datetime_utc', 'report_date'])\n",
    "partial_cems_scaled = pd.read_csv(f'../data/outputs/{path_prefix}{year}/partial_cems_scaled_{year}.csv', dtype=get_dtypes(), parse_dates=['datetime_utc', 'report_date'])\n",
    "eia923_allocated = pd.read_csv(f'../data/outputs/{path_prefix}{year}/eia923_allocated_{year}.csv', dtype=get_dtypes(), parse_dates=['report_date'])\n",
    "plant_attributes = pd.read_csv(f\"../data/outputs/{path_prefix}{year}/plant_static_attributes_{year}.csv\")\n",
    "primary_fuel_table = plant_attributes.drop_duplicates(subset=\"plant_id_eia\")[[\"plant_id_eia\", \"plant_primary_fuel\"]]\n",
    "residual_profiles = pd.read_csv(f\"../data/outputs/{path_prefix}{year}/residual_profiles_{year}.csv\")\n",
    "shaped_eia_data = pd.read_csv(f\"../data/outputs/{path_prefix}{year}/shaped_eia923_data_{year}.csv\")"
   ]
  },
  {
   "cell_type": "code",
   "execution_count": null,
   "metadata": {},
   "outputs": [],
   "source": [
    "# load data from csv\n",
    "year = 2020\n",
    "path_prefix = ''\n",
    "\n",
    "shaped_eia_data = pd.read_csv(f\"../data/outputs/{path_prefix}{year}/shaped_eia923_data_{year}.csv\")"
   ]
  },
  {
   "cell_type": "code",
   "execution_count": null,
   "metadata": {},
   "outputs": [],
   "source": [
    "shaped_eia_data[shaped_eia_data[\"ba_code\"] == \"CISO\"]"
   ]
  }
 ],
 "metadata": {
  "kernelspec": {
   "display_name": "Python 3.9.12 ('hourly_egrid')",
   "language": "python",
   "name": "python3"
  },
  "language_info": {
   "codemirror_mode": {
    "name": "ipython",
    "version": 3
   },
   "file_extension": ".py",
   "mimetype": "text/x-python",
   "name": "python",
   "nbconvert_exporter": "python",
   "pygments_lexer": "ipython3",
   "version": "3.10.5"
  },
  "orig_nbformat": 4,
  "vscode": {
   "interpreter": {
    "hash": "4103f3cd497821eca917ea303dbe10c590d787eb7d2dc3fd4e15dec0356e7931"
   }
  }
 },
 "nbformat": 4,
 "nbformat_minor": 2
}
