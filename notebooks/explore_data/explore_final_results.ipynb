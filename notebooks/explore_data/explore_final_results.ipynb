{
 "cells": [
  {
   "cell_type": "code",
   "execution_count": null,
   "metadata": {},
   "outputs": [],
   "source": [
    "import plotly.express as px\n",
    "import pandas as pd\n",
    "\n",
    "%reload_ext autoreload\n",
    "%autoreload 2\n",
    "\n",
    "# # Tell python where to look for modules.\n",
    "import sys\n",
    "sys.path.append('../../../open-grid-emissions/src/')\n",
    "\n",
    "from filepaths import *\n",
    "import validation"
   ]
  },
  {
   "cell_type": "markdown",
   "metadata": {},
   "source": [
    "# Visualize data for a single BA"
   ]
  },
  {
   "cell_type": "code",
   "execution_count": null,
   "metadata": {},
   "outputs": [],
   "source": [
    "ba = \"MISO\"\n",
    "year = 2020\n",
    "\n",
    "\n",
    "egrid_ba = pd.read_excel(\n",
    "    f\"{downloads_folder()}egrid/egrid{year}_data.xlsx\",\n",
    "    sheet_name=f\"BA{str(year)[-2:]}\",\n",
    "    header=1,\n",
    "    usecols=[\"BANAME\", \"BACODE\", \"BANOXRTO\",\"BASO2RTA\",\"BACO2RTA\",\"BAC2ERTA\"],\n",
    ").rename(\n",
    "    columns={\n",
    "        \"BANAME\": \"ba_name\",\n",
    "        \"BACODE\": \"ba_code\",\n",
    "        \"BANOXRTO\": \"generated_nox_rate_lb_per_mwh_for_electricity_adjusted\",\n",
    "        \"BASO2RTA\": \"generated_so2_rate_lb_per_mwh_for_electricity_adjusted\",\n",
    "        \"BACO2RTA\": \"generated_co2_rate_lb_per_mwh_for_electricity_adjusted\",\n",
    "        \"BAC2ERTA\":\"generated_co2e_rate_lb_per_mwh_for_electricity_adjusted\"\n",
    "    }\n",
    ")\n",
    "\n",
    "hourly_consumed = pd.read_csv(f\"{results_folder()}{year}/carbon_accounting/hourly/us_units/{ba}.csv\", parse_dates=[\"datetime_local\"]).set_index(\"datetime_local\")\n",
    "hourly_produced = pd.read_csv(f\"{results_folder()}{year}/power_sector_data/hourly/us_units/{ba}.csv\", parse_dates=[\"datetime_local\"]).set_index(\"datetime_local\")"
   ]
  },
  {
   "cell_type": "code",
   "execution_count": null,
   "metadata": {},
   "outputs": [],
   "source": [
    "pollutant = \"co2e\"\n",
    "rate_type = \"for_electricity_adjusted\"\n",
    "\n",
    "egrid_value = egrid_ba.loc[egrid_ba[\"ba_code\"] == ba, f\"generated_{pollutant}_rate_lb_per_mwh_{rate_type}\"].item()\n",
    "data_to_graph = hourly_consumed[[f\"consumed_{pollutant}_rate_lb_per_mwh_{rate_type}\"]].rename(columns={f\"consumed_{pollutant}_rate_lb_per_mwh_{rate_type}\":\"hourly_consumed\"})\n",
    "data_to_graph[\"month\"] = data_to_graph.index.astype(str).str[:7]\n",
    "data_to_graph[\"annual_consumed\"] = data_to_graph[[\"hourly_consumed\"]].mean().item()\n",
    "monthly_consumed = data_to_graph.groupby(\"month\")[\"hourly_consumed\"].mean().reset_index().rename(columns={\"hourly_consumed\":\"monthly_consumed\"})\n",
    "orig_index = data_to_graph.index\n",
    "data_to_graph = data_to_graph.merge(monthly_consumed, how=\"left\", on=\"month\", validate=\"m:1\").set_index(orig_index)\n",
    "data_to_graph = data_to_graph.merge(hourly_produced.loc[hourly_produced[\"fuel_category\"] == \"total\", f\"generated_{pollutant}_rate_lb_per_mwh_{rate_type}\"], how=\"inner\", left_index=True, right_index=True).rename(columns={f\"generated_{pollutant}_rate_lb_per_mwh_{rate_type}\":\"hourly_produced\"})\n",
    "data_to_graph[\"annual_produced\"] = data_to_graph[[\"hourly_produced\"]].mean().item()\n",
    "data_to_graph[\"egrid_value\"] = egrid_value\n",
    "data_to_graph"
   ]
  },
  {
   "cell_type": "code",
   "execution_count": null,
   "metadata": {},
   "outputs": [],
   "source": [
    "px.line(data_to_graph, x=data_to_graph.index, y=[\"hourly_produced\",\"hourly_consumed\",\"monthly_consumed\",\"egrid_value\",\"annual_produced\",\"annual_consumed\",], labels={\"value\":\"lbCO2e/MWh\"}, template=\"plotly_white\", title=ba)"
   ]
  },
  {
   "cell_type": "code",
   "execution_count": null,
   "metadata": {},
   "outputs": [],
   "source": [
    "px.line(data_to_graph, x=data_to_graph.index, y=[\"hourly_consumed\",\"monthly_consumed\",\"annual_consumed\",], labels={\"value\":\"lbCO2e/MWh\"}, template=\"plotly_white\", title=ba)"
   ]
  },
  {
   "cell_type": "code",
   "execution_count": null,
   "metadata": {},
   "outputs": [],
   "source": [
    "def graph_hourly_data_by_fuel_category(hourly_data, ba, column_name, fuel_category_name, plot_type):\n",
    "    fuel_color = {'natural_gas':'sienna',\n",
    "              'coal':'black',\n",
    "              'nuclear':'red',\n",
    "              'biomass':'green',\n",
    "              'geothermal':'orange',\n",
    "              'wind':'blue',\n",
    "              'solar':'gold',\n",
    "              'petroleum':'purple',\n",
    "              'hydro':'skyblue',\n",
    "              'other':'lightgrey',\n",
    "              'waste':'pink'}\n",
    "\n",
    "    fuel_order = ['nuclear','geothermal','hydro','other','coal','biomass','petroleum','waste','solar','wind','natural_gas']\n",
    "\n",
    "    data_to_graph = hourly_data[hourly_data['ba_code'] == ba]\n",
    "    #data_to_graph = data_to_graph.groupby(['datetime_utc','fuel_category','data_source']).sum().reset_index()\n",
    "\n",
    "    if plot_type == 'area':\n",
    "        plot = px.area(data_to_graph, \n",
    "                x='datetime_utc', \n",
    "                y=column_name, \n",
    "                color=fuel_category_name, \n",
    "                color_discrete_map=fuel_color, \n",
    "                facet_col='data_source', \n",
    "                template='plotly_white',\n",
    "                title=f'Hourly {column_name} data for {ba} by fuel type',\n",
    "                category_orders={fuel_category_name:fuel_order}).update_traces(line={'width':0})\n",
    "    elif plot_type == 'line':\n",
    "        plot = px.line(data_to_graph, \n",
    "                x='datetime_utc', \n",
    "                y=column_name, \n",
    "                color=fuel_category_name, \n",
    "                color_discrete_map=fuel_color, \n",
    "                facet_col='data_source', \n",
    "                template='plotly_white',\n",
    "                title=f'Hourly {column_name} data for {ba} by fuel type',\n",
    "                category_orders={fuel_category_name:fuel_order}).update_traces(line={'width':0})\n",
    "    \n",
    "    return plot\n",
    "        "
   ]
  },
  {
   "cell_type": "code",
   "execution_count": null,
   "metadata": {},
   "outputs": [],
   "source": [
    "ba = \"CISO\"\n",
    "\n",
    "graph_hourly_data_by_fuel_category(\n",
    "    hourly_data=combined_data,\n",
    "    ba=ba,\n",
    "    column_name=\"net_generation_mwh\",\n",
    "    fuel_category_name=\"fuel_category\",\n",
    "    plot_type=\"area\",\n",
    ")\n"
   ]
  },
  {
   "cell_type": "code",
   "execution_count": null,
   "metadata": {},
   "outputs": [],
   "source": [
    "graph_hourly_data_by_fuel_category(\n",
    "    hourly_data=combined_data,\n",
    "    ba=ba,\n",
    "    column_name=\"co2_mass_lb\",\n",
    "    fuel_category_name=\"fuel_category\",\n",
    "    plot_type=\"area\",\n",
    ")\n"
   ]
  }
 ],
 "metadata": {
  "kernelspec": {
   "display_name": "Python 3.10.5 ('hourly_egrid')",
   "language": "python",
   "name": "python3"
  },
  "language_info": {
   "codemirror_mode": {
    "name": "ipython",
    "version": 3
   },
   "file_extension": ".py",
   "mimetype": "text/x-python",
   "name": "python",
   "nbconvert_exporter": "python",
   "pygments_lexer": "ipython3",
   "version": "3.10.5"
  },
  "orig_nbformat": 4,
  "vscode": {
   "interpreter": {
    "hash": "4103f3cd497821eca917ea303dbe10c590d787eb7d2dc3fd4e15dec0356e7931"
   }
  }
 },
 "nbformat": 4,
 "nbformat_minor": 2
}
