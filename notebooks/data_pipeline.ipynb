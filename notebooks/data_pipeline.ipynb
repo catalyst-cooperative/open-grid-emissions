{
 "cells": [
  {
   "cell_type": "markdown",
   "metadata": {},
   "source": [
    "# Hourly eGRID Data Pipeline Overview\n",
    "\n",
    "## Data Used\n",
    "EPA Continuous Emissions Monitoring System (CEMS) data\n",
    " - What is it: Measured hourly gross generation, fuel consumption, and emissions data for emitting power generation units > 25MW\n",
    " - How we use it: Primary source for hourly emissions and generation data\n",
    "\n",
    "EIA Form 923\n",
    " - What is it: Reported monthly net generation and fuel consumption data for power generators > 1 MW\n",
    " - How we use it: To convert gross generation data from CEMS to net generation, and to calculate emissions that are not reported to CEMS\n",
    "\n",
    "EIA Form 860\n",
    " - What is it: Inventory of all generators and plants and their static characteristics\n",
    " - How we use it: to transform and aggregate the data reported in CEMS and EIA-923 based on plant and generator characteristics\n",
    "\n",
    "EPA-EIA Power Sector Data Crosswalk\n",
    " - What is it: Maps EPA plant IDs and unit IDs to EIA plant IDs and generator IDs\n",
    " - How we use it: To match data between CEMS and EIA-923\n",
    "\n",
    "EIA Form 930 / Hourly Electric Grid Monitor\n",
    " - What is it: Reported hourly net generation by fuel category, demand, and interchange for each Balancing Area in the U.S. \n",
    " - How we use it: To assign an hourly profile to the monthly generation and fuel data reported in EIA-923\n",
    "\n",
    "EPA eGRID database\n",
    " - What is it: Reports annual-level generation and emissions statistics at the plant and BA level \n",
    " - How we use it: to validate our outputs\n",
    "\n",
    "## Process\n",
    "1. Download data, including CEMS (via PUDL), EIA Forms 860 and 923 (via PUDL), EPA-EIA Power Sector Data Crosswalk, EIA-930 data\n",
    "2. Identify subplants and gross-to-net generation factors using multiple years of historical data.\n",
    "    - Using Power Sector Data Crosswalk, identify distinct subplant clusters of EPA units and EIA generators in each plant\n",
    "    - Using multiple years of generation data from CEMS and EIA-923, run linear regressions of net generation on gross generation at teh subplant and plant level\n",
    "    - Calculate simple monthly ratios between gross and net generation at teh subplant and plant level.\n",
    "3. Clean monthly generation and fuel data from EIA-923\n",
    "    - allocate monthly net generation and fuel consumption data reported for each plant prime mover to each plant generator\n",
    "    - Calculate monthly emissions for each generator based on its fuel consumption and fuel source\n",
    "    - Remove data for non grid-connected plants and plants in Puerto Rico\n",
    "    - Assign a primary fuel type and balancing authority location to each generator\n",
    "4. Clean hourly generation, fuel, and emissions data from CEMS\n",
    "    - Remove data for non grid-connected plants, plants in Puerto Rico, and certain steam-only units\n",
    "    - Assign a monthly \"report_date\" to each hourly observation based on the date of the local timestamp (this allows us to match the data to EIA-923 report dates)\n",
    "    - Assign a fuel type to each unit\n",
    "    - Fill in missing hourly emissions data using the assigned fuel type and reported hourly fuel consumption data\n",
    "    - Remove all observations for each unit-month when no operation is reported for that unit in that month\n",
    "    - Allocate hourly data for combined heat and power plants between electricity generation and steam production\n",
    "    - Remove data for units for which we are unable to fill missing emissions data\n",
    "5. Convert hourly gross generation in CEMS to hourly net generation\n",
    "    - aggregate CEMS gross generation to monthly level to match with monthly-reported net generation\n",
    "    - Apply several methodologies to calculate gross-to-net generation conversion factors\n",
    "    - apply GTN factors to convert hourly gross generation to hourly net generation\n",
    "6. Crosswalk the CEMS data to the EIA-923 data to identify for which generator-months there is no hourly data reported in CEMS\n",
    "    - Use the EPA-EIA Power Sector Data Crosswalk\n",
    "    - Assign subplant groupings to data\n",
    "7. Assign static plant characteristics to CEMS and EIA data to allow for data aggregation and matching with EIA-930\n",
    "    - assign generator and plant-level primary fuel\n",
    "    - assign Balancing Authority and State to each plant\n",
    "    - assign fuel categories to each plant that match EIA-930 categories\n",
    "8. Clean and reconcile EIA-930 data\n",
    "    - Fix timezone/timestamp issues with raw 930 data\n",
    "    - Perform physics-based reconciliation so that data satisfies conservation of energy equations\n",
    "9. Calculate residual net generation profiles for each BA-fuel category by comparing EIA-930 and CEMS hourly net generation data\n",
    "10. Assign monthly EIA-923 data an hourly profile based on the residual net generation profile\n",
    "11. Concatenate the shaped hourly EIA-923 data to the hourly CEMS data\n",
    "12. Run validation checks on processed data\n",
    "13. Aggregate the hourly data to the BA level and output\n",
    "\n",
    "\n",
    "## Outputs\n",
    " - Processed hourly subplant-level data\n",
    " - Aggregated hourly data for each BA (total emissions, total generation, generated carbon intensity)\n",
    "\n",
    "## Output Validation Checks\n",
    " - Aggregate data to annual level and compare with published eGRID results\n",
    " - Check that aggregated heat rates and emissions rates by fuel type are within reasonable ranges for each BA\n",
    " - Plant-level checks for anomolous data"
   ]
  },
  {
   "cell_type": "code",
   "execution_count": 1,
   "metadata": {},
   "outputs": [],
   "source": [
    "# import packages\n",
    "import numpy as np\n",
    "import pandas as pd\n",
    "import plotly.express as px\n",
    "from IPython.display import display"
   ]
  },
  {
   "cell_type": "code",
   "execution_count": 2,
   "metadata": {},
   "outputs": [],
   "source": [
    "%reload_ext autoreload\n",
    "%autoreload 2\n",
    "\n",
    "# Tell python where to look for modules. \n",
    "import sys\n",
    "sys.path.append('../../hourly-egrid/')\n",
    "\n",
    "# import local modules\n",
    "import src.data_cleaning as data_cleaning\n",
    "import src.gross_to_net_generation as gross_to_net_generation\n",
    "import src.load_data as load_data\n",
    "import src.validation as validation"
   ]
  },
  {
   "cell_type": "markdown",
   "metadata": {},
   "source": [
    "# Specify the year for analysis\n",
    "This data pipeline can only be run for a single year at a time"
   ]
  },
  {
   "cell_type": "code",
   "execution_count": 3,
   "metadata": {},
   "outputs": [],
   "source": [
    "year = 2020"
   ]
  },
  {
   "cell_type": "markdown",
   "metadata": {},
   "source": [
    "# 1. Download data\n",
    "Checks if all necessary files are already downloaded. If not, downloads them"
   ]
  },
  {
   "cell_type": "code",
   "execution_count": 9,
   "metadata": {},
   "outputs": [
    {
     "name": "stdout",
     "output_type": "stream",
     "text": [
      "PUDL data already downloaded\n",
      "egrid2019_data.xlsx already downloaded\n",
      "egrid2020_data.xlsx already downloaded\n",
      "2020_Jan_Jun data already downloaded\n",
      "2020_Jul_Dec data already downloaded\n",
      "EBA_elec.csv already downloaded\n",
      "EBA_raw.csv already downloaded\n",
      "epa_eia_crosswalk.csv already downloaded\n"
     ]
    }
   ],
   "source": [
    "############### PUDL Database ######################\n",
    "\n",
    "load_data.download_pudl_data(zenodo_url = 'https://zenodo.org/record/6349861/files/pudl-v0.6.0-2022-03-12.tgz')\n",
    "\n",
    "################# eGRID data #########################\n",
    "\n",
    "# the 2019 and 2020 data appear to be hosted on different urls\n",
    "egrid_files_to_download = ['https://www.epa.gov/sites/default/files/2021-02/egrid2019_data.xlsx', \n",
    "                           'https://www.epa.gov/system/files/documents/2022-01/egrid2020_data.xlsx']\n",
    "\n",
    "load_data.download_egrid_files(egrid_files_to_download)\n",
    "\n",
    "############# EIA-930 data #####################\n",
    "\n",
    "load_data.download_eia930_data(years_to_download=[year])\n",
    "load_data.download_chalendar_files()\n",
    "\n",
    "########## Power Sector Data Crosswalk #############\n",
    "# NOTE: Check for new releases at https://github.com/USEPA/camd-eia-crosswalk\n",
    "\n",
    "load_data.download_epa_psdc(psdc_url='https://github.com/USEPA/camd-eia-crosswalk/releases/download/v0.2.1/epa_eia_crosswalk.csv')\n"
   ]
  },
  {
   "cell_type": "markdown",
   "metadata": {},
   "source": [
    "# 2. Identify subplants and gross-to net ratios\n",
    "This is not yet integrated in the main data pipeline, but requires loading and cleaning EIA-923 and CEMS data for multiple years, recommended at least the most current three years of data. Not everyone may have the processing power to run this process, so we could also include these outputs in the data folder."
   ]
  },
  {
   "cell_type": "code",
   "execution_count": 5,
   "metadata": {},
   "outputs": [
    {
     "name": "stdout",
     "output_type": "stream",
     "text": [
      "loading 2016 CEMS data\n"
     ]
    },
    {
     "name": "stderr",
     "output_type": "stream",
     "text": [
      "a:\\miniconda3\\envs\\hourly_egrid\\lib\\site-packages\\pandas\\core\\arrays\\datetimes.py:1162: UserWarning: Converting to PeriodArray/Index representation will drop timezone information.\n",
      "  warnings.warn(\n"
     ]
    },
    {
     "name": "stdout",
     "output_type": "stream",
     "text": [
      "loading 2017 CEMS data\n"
     ]
    },
    {
     "name": "stderr",
     "output_type": "stream",
     "text": [
      "a:\\miniconda3\\envs\\hourly_egrid\\lib\\site-packages\\pandas\\core\\arrays\\datetimes.py:1162: UserWarning: Converting to PeriodArray/Index representation will drop timezone information.\n",
      "  warnings.warn(\n"
     ]
    },
    {
     "name": "stdout",
     "output_type": "stream",
     "text": [
      "loading 2018 CEMS data\n"
     ]
    },
    {
     "name": "stderr",
     "output_type": "stream",
     "text": [
      "a:\\miniconda3\\envs\\hourly_egrid\\lib\\site-packages\\pandas\\core\\arrays\\datetimes.py:1162: UserWarning: Converting to PeriodArray/Index representation will drop timezone information.\n",
      "  warnings.warn(\n"
     ]
    },
    {
     "name": "stdout",
     "output_type": "stream",
     "text": [
      "loading 2019 CEMS data\n"
     ]
    },
    {
     "name": "stderr",
     "output_type": "stream",
     "text": [
      "a:\\miniconda3\\envs\\hourly_egrid\\lib\\site-packages\\pandas\\core\\arrays\\datetimes.py:1162: UserWarning: Converting to PeriodArray/Index representation will drop timezone information.\n",
      "  warnings.warn(\n"
     ]
    },
    {
     "name": "stdout",
     "output_type": "stream",
     "text": [
      "loading 2020 CEMS data\n"
     ]
    },
    {
     "name": "stderr",
     "output_type": "stream",
     "text": [
      "a:\\miniconda3\\envs\\hourly_egrid\\lib\\site-packages\\pandas\\core\\arrays\\datetimes.py:1162: UserWarning: Converting to PeriodArray/Index representation will drop timezone information.\n",
      "  warnings.warn(\n"
     ]
    },
    {
     "name": "stdout",
     "output_type": "stream",
     "text": [
      "Allocating EIA-923 generation data\n"
     ]
    }
   ],
   "source": [
    "# specify the number of years of data to load to calculate gross to net regressions\n",
    "# this will load the x years ending at the `year` specified above\n",
    "number_of_years = 5\n",
    "\n",
    "# NOTE: This only needs to be run once, as outputs are saved to csv files\n",
    "gross_to_net_generation.identify_subplants_and_gtn_conversions(year, number_of_years)"
   ]
  },
  {
   "cell_type": "markdown",
   "metadata": {},
   "source": [
    "# 3. Clean EIA-923 Generation and Fuel Data at the Monthly Level"
   ]
  },
  {
   "cell_type": "code",
   "execution_count": 73,
   "metadata": {},
   "outputs": [
    {
     "name": "stderr",
     "output_type": "stream",
     "text": [
      "a:\\github\\pudl\\src\\pudl\\analysis\\allocate_net_gen.py:182: UserWarning: 91 generators are missing prime mover codes in gens_eia860. This will result in incorrect allocation.\n",
      "  warnings.warn(\n",
      "a:\\github\\pudl\\src\\pudl\\analysis\\allocate_net_gen.py:189: UserWarning: After manual cleaning, 65 generators are still missing prime mover codes in gens_eia860. This will result in incorrect allocation.\n",
      "  warnings.warn(\n"
     ]
    },
    {
     "name": "stdout",
     "output_type": "stream",
     "text": [
      "Removing 0 plants that are not grid-connected\n",
      "Removing 0 plants located in the following states: ['PR']\n"
     ]
    },
    {
     "data": {
      "text/html": [
       "<div>\n",
       "<style scoped>\n",
       "    .dataframe tbody tr th:only-of-type {\n",
       "        vertical-align: middle;\n",
       "    }\n",
       "\n",
       "    .dataframe tbody tr th {\n",
       "        vertical-align: top;\n",
       "    }\n",
       "\n",
       "    .dataframe thead th {\n",
       "        text-align: right;\n",
       "    }\n",
       "</style>\n",
       "<table border=\"1\" class=\"dataframe\">\n",
       "  <thead>\n",
       "    <tr style=\"text-align: right;\">\n",
       "      <th></th>\n",
       "      <th>report_date</th>\n",
       "      <th>plant_id_eia</th>\n",
       "      <th>generator_id</th>\n",
       "      <th>net_generation_mwh</th>\n",
       "      <th>fuel_consumed_mmbtu</th>\n",
       "      <th>fuel_consumed_for_electricity_mmbtu</th>\n",
       "      <th>co2_mass_tons</th>\n",
       "      <th>co2_mass_tons_adjusted</th>\n",
       "      <th>subplant_id</th>\n",
       "      <th>prime_mover_code</th>\n",
       "      <th>energy_source_code</th>\n",
       "      <th>plant_primary_fuel</th>\n",
       "    </tr>\n",
       "  </thead>\n",
       "  <tbody>\n",
       "    <tr>\n",
       "      <th>0</th>\n",
       "      <td>2020-01-01</td>\n",
       "      <td>1</td>\n",
       "      <td>1</td>\n",
       "      <td>NaN</td>\n",
       "      <td>NaN</td>\n",
       "      <td>NaN</td>\n",
       "      <td>NaN</td>\n",
       "      <td>NaN</td>\n",
       "      <td>NaN</td>\n",
       "      <td>IC</td>\n",
       "      <td>DFO</td>\n",
       "      <td>WND</td>\n",
       "    </tr>\n",
       "    <tr>\n",
       "      <th>1</th>\n",
       "      <td>2020-01-01</td>\n",
       "      <td>1</td>\n",
       "      <td>2</td>\n",
       "      <td>NaN</td>\n",
       "      <td>NaN</td>\n",
       "      <td>NaN</td>\n",
       "      <td>NaN</td>\n",
       "      <td>NaN</td>\n",
       "      <td>NaN</td>\n",
       "      <td>IC</td>\n",
       "      <td>DFO</td>\n",
       "      <td>WND</td>\n",
       "    </tr>\n",
       "    <tr>\n",
       "      <th>2</th>\n",
       "      <td>2020-01-01</td>\n",
       "      <td>1</td>\n",
       "      <td>3</td>\n",
       "      <td>NaN</td>\n",
       "      <td>NaN</td>\n",
       "      <td>NaN</td>\n",
       "      <td>NaN</td>\n",
       "      <td>NaN</td>\n",
       "      <td>NaN</td>\n",
       "      <td>IC</td>\n",
       "      <td>DFO</td>\n",
       "      <td>WND</td>\n",
       "    </tr>\n",
       "    <tr>\n",
       "      <th>3</th>\n",
       "      <td>2020-01-01</td>\n",
       "      <td>1</td>\n",
       "      <td>5</td>\n",
       "      <td>NaN</td>\n",
       "      <td>NaN</td>\n",
       "      <td>NaN</td>\n",
       "      <td>NaN</td>\n",
       "      <td>NaN</td>\n",
       "      <td>NaN</td>\n",
       "      <td>IC</td>\n",
       "      <td>DFO</td>\n",
       "      <td>WND</td>\n",
       "    </tr>\n",
       "    <tr>\n",
       "      <th>4</th>\n",
       "      <td>2020-01-01</td>\n",
       "      <td>1</td>\n",
       "      <td>WT1</td>\n",
       "      <td>15.2</td>\n",
       "      <td>133.0</td>\n",
       "      <td>133.0</td>\n",
       "      <td>0.0</td>\n",
       "      <td>0.0</td>\n",
       "      <td>NaN</td>\n",
       "      <td>WT</td>\n",
       "      <td>WND</td>\n",
       "      <td>WND</td>\n",
       "    </tr>\n",
       "    <tr>\n",
       "      <th>...</th>\n",
       "      <td>...</td>\n",
       "      <td>...</td>\n",
       "      <td>...</td>\n",
       "      <td>...</td>\n",
       "      <td>...</td>\n",
       "      <td>...</td>\n",
       "      <td>...</td>\n",
       "      <td>...</td>\n",
       "      <td>...</td>\n",
       "      <td>...</td>\n",
       "      <td>...</td>\n",
       "      <td>...</td>\n",
       "    </tr>\n",
       "    <tr>\n",
       "      <th>283172</th>\n",
       "      <td>2020-12-01</td>\n",
       "      <td>64816</td>\n",
       "      <td>GEN1</td>\n",
       "      <td>NaN</td>\n",
       "      <td>NaN</td>\n",
       "      <td>NaN</td>\n",
       "      <td>NaN</td>\n",
       "      <td>NaN</td>\n",
       "      <td>NaN</td>\n",
       "      <td>IC</td>\n",
       "      <td>NG</td>\n",
       "      <td>&lt;NA&gt;</td>\n",
       "    </tr>\n",
       "    <tr>\n",
       "      <th>283173</th>\n",
       "      <td>2020-12-01</td>\n",
       "      <td>64816</td>\n",
       "      <td>GEN2</td>\n",
       "      <td>NaN</td>\n",
       "      <td>NaN</td>\n",
       "      <td>NaN</td>\n",
       "      <td>NaN</td>\n",
       "      <td>NaN</td>\n",
       "      <td>NaN</td>\n",
       "      <td>IC</td>\n",
       "      <td>NG</td>\n",
       "      <td>&lt;NA&gt;</td>\n",
       "    </tr>\n",
       "    <tr>\n",
       "      <th>283174</th>\n",
       "      <td>2020-12-01</td>\n",
       "      <td>64816</td>\n",
       "      <td>GEN3</td>\n",
       "      <td>NaN</td>\n",
       "      <td>NaN</td>\n",
       "      <td>NaN</td>\n",
       "      <td>NaN</td>\n",
       "      <td>NaN</td>\n",
       "      <td>NaN</td>\n",
       "      <td>IC</td>\n",
       "      <td>NG</td>\n",
       "      <td>&lt;NA&gt;</td>\n",
       "    </tr>\n",
       "    <tr>\n",
       "      <th>283175</th>\n",
       "      <td>2020-12-01</td>\n",
       "      <td>64836</td>\n",
       "      <td>CATAL</td>\n",
       "      <td>NaN</td>\n",
       "      <td>NaN</td>\n",
       "      <td>NaN</td>\n",
       "      <td>NaN</td>\n",
       "      <td>NaN</td>\n",
       "      <td>NaN</td>\n",
       "      <td>PV</td>\n",
       "      <td>SUN</td>\n",
       "      <td>&lt;NA&gt;</td>\n",
       "    </tr>\n",
       "    <tr>\n",
       "      <th>283176</th>\n",
       "      <td>2020-12-01</td>\n",
       "      <td>64837</td>\n",
       "      <td>MARIN</td>\n",
       "      <td>NaN</td>\n",
       "      <td>NaN</td>\n",
       "      <td>NaN</td>\n",
       "      <td>NaN</td>\n",
       "      <td>NaN</td>\n",
       "      <td>NaN</td>\n",
       "      <td>PV</td>\n",
       "      <td>SUN</td>\n",
       "      <td>&lt;NA&gt;</td>\n",
       "    </tr>\n",
       "  </tbody>\n",
       "</table>\n",
       "<p>283177 rows × 12 columns</p>\n",
       "</div>"
      ],
      "text/plain": [
       "       report_date  plant_id_eia generator_id  net_generation_mwh  fuel_consumed_mmbtu  fuel_consumed_for_electricity_mmbtu  co2_mass_tons  co2_mass_tons_adjusted  subplant_id prime_mover_code energy_source_code plant_primary_fuel\n",
       "0       2020-01-01             1            1                 NaN                  NaN                                  NaN            NaN                     NaN          NaN               IC                DFO                WND\n",
       "1       2020-01-01             1            2                 NaN                  NaN                                  NaN            NaN                     NaN          NaN               IC                DFO                WND\n",
       "2       2020-01-01             1            3                 NaN                  NaN                                  NaN            NaN                     NaN          NaN               IC                DFO                WND\n",
       "3       2020-01-01             1            5                 NaN                  NaN                                  NaN            NaN                     NaN          NaN               IC                DFO                WND\n",
       "4       2020-01-01             1          WT1                15.2                133.0                                133.0            0.0                     0.0          NaN               WT                WND                WND\n",
       "...            ...           ...          ...                 ...                  ...                                  ...            ...                     ...          ...              ...                ...                ...\n",
       "283172  2020-12-01         64816         GEN1                 NaN                  NaN                                  NaN            NaN                     NaN          NaN               IC                 NG               <NA>\n",
       "283173  2020-12-01         64816         GEN2                 NaN                  NaN                                  NaN            NaN                     NaN          NaN               IC                 NG               <NA>\n",
       "283174  2020-12-01         64816         GEN3                 NaN                  NaN                                  NaN            NaN                     NaN          NaN               IC                 NG               <NA>\n",
       "283175  2020-12-01         64836        CATAL                 NaN                  NaN                                  NaN            NaN                     NaN          NaN               PV                SUN               <NA>\n",
       "283176  2020-12-01         64837        MARIN                 NaN                  NaN                                  NaN            NaN                     NaN          NaN               PV                SUN               <NA>\n",
       "\n",
       "[283177 rows x 12 columns]"
      ]
     },
     "execution_count": 73,
     "metadata": {},
     "output_type": "execute_result"
    }
   ],
   "source": [
    "eia923_allocated, primary_fuel_table = data_cleaning.clean_eia923(year)\n",
    "\n",
    "# Add primary fuel data to each generator\n",
    "eia923_allocated = eia923_allocated.merge(primary_fuel_table, how='left', on=['plant_id_eia','generator_id'])\n",
    "\n",
    "eia923_allocated"
   ]
  },
  {
   "cell_type": "markdown",
   "metadata": {},
   "source": [
    "### Run Validation Tests on Cleaned EIA-923 data\n",
    "Notes:\n",
    "- When net generation is positive but no fuel consumption is reported, this could be due to several reasons:\n",
    "    - The generator uses a clean fuel, like WAT, and reports 0 mmbtu per physical unit fuel consumed\n",
    "    - The generator is part of a combined cycle unit and all of the fuel is reported on the other cycle\n",
    "- Records where all data is zero could just mean that the generator didn't operate in that month"
   ]
  },
  {
   "cell_type": "code",
   "execution_count": 74,
   "metadata": {},
   "outputs": [
    {
     "name": "stdout",
     "output_type": "stream",
     "text": [
      "Warning: There are 3207 records where net_generation_mwh is positive but no fuel consumption is reported. Check `missing_fuel_test` for complete list\n",
      "Warning: There are 10366 records for which no data was reported. Check `missing_data_test` for complete list\n",
      "Warning: There are 14873 records where all operating data are zero. Check `zero_data_test` for complete list\n",
      "Heat Rate Test\n",
      "    Warning: 11 of 240 AB records have heat rate > 39.08 mmbtu/MWh (median = 13.61)\n",
      "    Warning: 9 of 252 BFG records have heat rate > 11.94 mmbtu/MWh (median = 4.15)\n",
      "    Warning: 223 of 3005 BIT records have heat rate > 21.96 mmbtu/MWh (median = 9.85)\n",
      "    Warning: 201 of 2059 BLQ records have heat rate > 11.66 mmbtu/MWh (median = 5.26)\n",
      "    Warning: 1797 of 42843 DFO records have heat rate > 20.77 mmbtu/MWh (median = 10.69)\n",
      "    Warning: 193 of 2048 GEO records have heat rate > 8.77 mmbtu/MWh (median = 8.77)\n",
      "    Warning: 12 of 120 JF records have heat rate > 17.99 mmbtu/MWh (median = 16.27)\n",
      "    Warning: 55 of 660 KER records have heat rate > 34.66 mmbtu/MWh (median = 15.0)\n",
      "    Warning: 1768 of 18688 LFG records have heat rate > 14.19 mmbtu/MWh (median = 11.95)\n",
      "    Warning: 20 of 156 LIG records have heat rate > 17.17 mmbtu/MWh (median = 11.8)\n",
      "    Warning: 91 of 996 MSW records have heat rate > 30.93 mmbtu/MWh (median = 19.37)\n",
      "    Warning: 2924 of 73752 NG records have heat rate > 20.88 mmbtu/MWh (median = 10.48)\n",
      "    Warning: 13 of 1143 NUC records have heat rate > 10.45 mmbtu/MWh (median = 10.45)\n",
      "    Warning: 58 of 2213 OBG records have heat rate > 19.34 mmbtu/MWh (median = 9.73)\n",
      "    Warning: 2 of 132 OBL records have heat rate > 10.61 mmbtu/MWh (median = 9.28)\n",
      "    Warning: 1 of 24 OBS records have heat rate > 18.7 mmbtu/MWh (median = 12.15)\n",
      "    Warning: 42 of 900 OG records have heat rate > 24.1 mmbtu/MWh (median = 5.67)\n",
      "    Warning: 15 of 252 PC records have heat rate > 23.5 mmbtu/MWh (median = 9.72)\n",
      "    Warning: 116 of 1407 RC records have heat rate > 19.31 mmbtu/MWh (median = 10.25)\n",
      "    Warning: 39 of 504 RFO records have heat rate > 33.16 mmbtu/MWh (median = 10.37)\n",
      "    Warning: 3 of 48 SGC records have heat rate > 42.85 mmbtu/MWh (median = 14.95)\n",
      "    Warning: 1 of 12 SGP records have heat rate > 5.9 mmbtu/MWh (median = 1.02)\n",
      "    Warning: 216 of 2904 SUB records have heat rate > 20.97 mmbtu/MWh (median = 10.36)\n",
      "    Warning: 5 of 180 WC records have heat rate > 18.69 mmbtu/MWh (median = 14.13)\n",
      "    Warning: 39 of 1971 WDS records have heat rate > 31.15 mmbtu/MWh (median = 11.61)\n",
      "    Warning: 1 of 132 WO records have heat rate > 17.02 mmbtu/MWh (median = 4.74)\n"
     ]
    }
   ],
   "source": [
    "# perform checks on allocated data\n",
    "# fuel consumption and co2 emissions should be positive\n",
    "negative_test = validation.test_for_negative_values(eia923_allocated, ['fuel_consumed_mmbtu','fuel_consumed_for_electricity_mmbtu','co2_mass_tons','co2_mass_tons_adjusted'])\n",
    "\n",
    "# if net generation is positive, fuel consumption should be non zero\n",
    "missing_fuel_test = validation.test_for_missing_fuel(eia923_allocated, 'net_generation_mwh')\n",
    "\n",
    "# fuel consumed for electricity should be less than fuel consumed\n",
    "chp_allocation_test = validation.test_chp_allocation(eia923_allocated)\n",
    "\n",
    "# check for missing co2 data\n",
    "missing_co2_test = validation.test_for_missing_co2(eia923_allocated)\n",
    "\n",
    "# check for generators with no data\n",
    "missing_data_test = validation.test_for_missing_data(eia923_allocated, ['net_generation_mwh','fuel_consumed_mmbtu','fuel_consumed_for_electricity_mmbtu','co2_mass_tons','co2_mass_tons_adjusted'])\n",
    "\n",
    "# check for generators with all data = 0\n",
    "zero_data_test = validation.test_for_zero_data(eia923_allocated, ['net_generation_mwh','fuel_consumed_mmbtu','fuel_consumed_for_electricity_mmbtu','co2_mass_tons','co2_mass_tons_adjusted'])\n",
    "\n",
    "# check for missing energy source code\n",
    "missing_esc_test = validation.test_for_missing_energy_source_code(eia923_allocated)\n",
    "\n",
    "# check heat rates\n",
    "validation.test_for_outlier_heat_rates(eia923_allocated)"
   ]
  },
  {
   "cell_type": "code",
   "execution_count": 32,
   "metadata": {},
   "outputs": [
    {
     "data": {
      "text/html": [
       "<div>\n",
       "<style scoped>\n",
       "    .dataframe tbody tr th:only-of-type {\n",
       "        vertical-align: middle;\n",
       "    }\n",
       "\n",
       "    .dataframe tbody tr th {\n",
       "        vertical-align: top;\n",
       "    }\n",
       "\n",
       "    .dataframe thead th {\n",
       "        text-align: right;\n",
       "    }\n",
       "</style>\n",
       "<table border=\"1\" class=\"dataframe\">\n",
       "  <thead>\n",
       "    <tr style=\"text-align: right;\">\n",
       "      <th></th>\n",
       "      <th>report_date</th>\n",
       "      <th>plant_id_eia</th>\n",
       "      <th>generator_id</th>\n",
       "      <th>net_generation_mwh</th>\n",
       "      <th>fuel_consumed_mmbtu</th>\n",
       "      <th>fuel_consumed_for_electricity_mmbtu</th>\n",
       "      <th>co2_mass_tons</th>\n",
       "      <th>co2_mass_tons_adjusted</th>\n",
       "      <th>subplant_id</th>\n",
       "      <th>prime_mover_code</th>\n",
       "      <th>energy_source_code</th>\n",
       "      <th>plant_primary_fuel</th>\n",
       "    </tr>\n",
       "  </thead>\n",
       "  <tbody>\n",
       "    <tr>\n",
       "      <th>2462</th>\n",
       "      <td>2020-01-01</td>\n",
       "      <td>1391</td>\n",
       "      <td>1A</td>\n",
       "      <td>NaN</td>\n",
       "      <td>NaN</td>\n",
       "      <td>NaN</td>\n",
       "      <td>NaN</td>\n",
       "      <td>NaN</td>\n",
       "      <td>0.0</td>\n",
       "      <td>&lt;NA&gt;</td>\n",
       "      <td>OG</td>\n",
       "      <td>&lt;NA&gt;</td>\n",
       "    </tr>\n",
       "    <tr>\n",
       "      <th>2463</th>\n",
       "      <td>2020-01-01</td>\n",
       "      <td>1391</td>\n",
       "      <td>2A</td>\n",
       "      <td>NaN</td>\n",
       "      <td>NaN</td>\n",
       "      <td>NaN</td>\n",
       "      <td>NaN</td>\n",
       "      <td>NaN</td>\n",
       "      <td>1.0</td>\n",
       "      <td>&lt;NA&gt;</td>\n",
       "      <td>OG</td>\n",
       "      <td>&lt;NA&gt;</td>\n",
       "    </tr>\n",
       "    <tr>\n",
       "      <th>2464</th>\n",
       "      <td>2020-01-01</td>\n",
       "      <td>1391</td>\n",
       "      <td>3A</td>\n",
       "      <td>NaN</td>\n",
       "      <td>NaN</td>\n",
       "      <td>NaN</td>\n",
       "      <td>NaN</td>\n",
       "      <td>NaN</td>\n",
       "      <td>2.0</td>\n",
       "      <td>&lt;NA&gt;</td>\n",
       "      <td>OG</td>\n",
       "      <td>&lt;NA&gt;</td>\n",
       "    </tr>\n",
       "    <tr>\n",
       "      <th>2465</th>\n",
       "      <td>2020-01-01</td>\n",
       "      <td>1391</td>\n",
       "      <td>4A</td>\n",
       "      <td>NaN</td>\n",
       "      <td>NaN</td>\n",
       "      <td>NaN</td>\n",
       "      <td>NaN</td>\n",
       "      <td>NaN</td>\n",
       "      <td>3.0</td>\n",
       "      <td>&lt;NA&gt;</td>\n",
       "      <td>OG</td>\n",
       "      <td>&lt;NA&gt;</td>\n",
       "    </tr>\n",
       "    <tr>\n",
       "      <th>2466</th>\n",
       "      <td>2020-01-01</td>\n",
       "      <td>1391</td>\n",
       "      <td>5A</td>\n",
       "      <td>NaN</td>\n",
       "      <td>NaN</td>\n",
       "      <td>NaN</td>\n",
       "      <td>NaN</td>\n",
       "      <td>NaN</td>\n",
       "      <td>NaN</td>\n",
       "      <td>&lt;NA&gt;</td>\n",
       "      <td>OG</td>\n",
       "      <td>&lt;NA&gt;</td>\n",
       "    </tr>\n",
       "    <tr>\n",
       "      <th>...</th>\n",
       "      <td>...</td>\n",
       "      <td>...</td>\n",
       "      <td>...</td>\n",
       "      <td>...</td>\n",
       "      <td>...</td>\n",
       "      <td>...</td>\n",
       "      <td>...</td>\n",
       "      <td>...</td>\n",
       "      <td>...</td>\n",
       "      <td>...</td>\n",
       "      <td>...</td>\n",
       "      <td>...</td>\n",
       "    </tr>\n",
       "    <tr>\n",
       "      <th>277617</th>\n",
       "      <td>2020-12-01</td>\n",
       "      <td>57854</td>\n",
       "      <td>1PT1</td>\n",
       "      <td>NaN</td>\n",
       "      <td>NaN</td>\n",
       "      <td>NaN</td>\n",
       "      <td>NaN</td>\n",
       "      <td>NaN</td>\n",
       "      <td>NaN</td>\n",
       "      <td>&lt;NA&gt;</td>\n",
       "      <td>WAT</td>\n",
       "      <td>WAT</td>\n",
       "    </tr>\n",
       "    <tr>\n",
       "      <th>277618</th>\n",
       "      <td>2020-12-01</td>\n",
       "      <td>57854</td>\n",
       "      <td>1PT2</td>\n",
       "      <td>NaN</td>\n",
       "      <td>NaN</td>\n",
       "      <td>NaN</td>\n",
       "      <td>NaN</td>\n",
       "      <td>NaN</td>\n",
       "      <td>NaN</td>\n",
       "      <td>&lt;NA&gt;</td>\n",
       "      <td>WAT</td>\n",
       "      <td>WAT</td>\n",
       "    </tr>\n",
       "    <tr>\n",
       "      <th>277619</th>\n",
       "      <td>2020-12-01</td>\n",
       "      <td>57854</td>\n",
       "      <td>1PT3</td>\n",
       "      <td>NaN</td>\n",
       "      <td>NaN</td>\n",
       "      <td>NaN</td>\n",
       "      <td>NaN</td>\n",
       "      <td>NaN</td>\n",
       "      <td>NaN</td>\n",
       "      <td>&lt;NA&gt;</td>\n",
       "      <td>WAT</td>\n",
       "      <td>WAT</td>\n",
       "    </tr>\n",
       "    <tr>\n",
       "      <th>278185</th>\n",
       "      <td>2020-12-01</td>\n",
       "      <td>58207</td>\n",
       "      <td>G9</td>\n",
       "      <td>NaN</td>\n",
       "      <td>NaN</td>\n",
       "      <td>NaN</td>\n",
       "      <td>NaN</td>\n",
       "      <td>NaN</td>\n",
       "      <td>NaN</td>\n",
       "      <td>&lt;NA&gt;</td>\n",
       "      <td>NG</td>\n",
       "      <td>NG</td>\n",
       "    </tr>\n",
       "    <tr>\n",
       "      <th>278815</th>\n",
       "      <td>2020-12-01</td>\n",
       "      <td>58638</td>\n",
       "      <td>1</td>\n",
       "      <td>NaN</td>\n",
       "      <td>NaN</td>\n",
       "      <td>NaN</td>\n",
       "      <td>NaN</td>\n",
       "      <td>NaN</td>\n",
       "      <td>NaN</td>\n",
       "      <td>&lt;NA&gt;</td>\n",
       "      <td>OBG</td>\n",
       "      <td>&lt;NA&gt;</td>\n",
       "    </tr>\n",
       "  </tbody>\n",
       "</table>\n",
       "<p>468 rows × 12 columns</p>\n",
       "</div>"
      ],
      "text/plain": [
       "       report_date  plant_id_eia generator_id  net_generation_mwh  fuel_consumed_mmbtu  fuel_consumed_for_electricity_mmbtu  co2_mass_tons  co2_mass_tons_adjusted  subplant_id prime_mover_code energy_source_code plant_primary_fuel\n",
       "2462    2020-01-01          1391           1A                 NaN                  NaN                                  NaN            NaN                     NaN          0.0             <NA>                 OG               <NA>\n",
       "2463    2020-01-01          1391           2A                 NaN                  NaN                                  NaN            NaN                     NaN          1.0             <NA>                 OG               <NA>\n",
       "2464    2020-01-01          1391           3A                 NaN                  NaN                                  NaN            NaN                     NaN          2.0             <NA>                 OG               <NA>\n",
       "2465    2020-01-01          1391           4A                 NaN                  NaN                                  NaN            NaN                     NaN          3.0             <NA>                 OG               <NA>\n",
       "2466    2020-01-01          1391           5A                 NaN                  NaN                                  NaN            NaN                     NaN          NaN             <NA>                 OG               <NA>\n",
       "...            ...           ...          ...                 ...                  ...                                  ...            ...                     ...          ...              ...                ...                ...\n",
       "277617  2020-12-01         57854         1PT1                 NaN                  NaN                                  NaN            NaN                     NaN          NaN             <NA>                WAT                WAT\n",
       "277618  2020-12-01         57854         1PT2                 NaN                  NaN                                  NaN            NaN                     NaN          NaN             <NA>                WAT                WAT\n",
       "277619  2020-12-01         57854         1PT3                 NaN                  NaN                                  NaN            NaN                     NaN          NaN             <NA>                WAT                WAT\n",
       "278185  2020-12-01         58207           G9                 NaN                  NaN                                  NaN            NaN                     NaN          NaN             <NA>                 NG                 NG\n",
       "278815  2020-12-01         58638            1                 NaN                  NaN                                  NaN            NaN                     NaN          NaN             <NA>                OBG               <NA>\n",
       "\n",
       "[468 rows x 12 columns]"
      ]
     },
     "execution_count": 32,
     "metadata": {},
     "output_type": "execute_result"
    }
   ],
   "source": [
    "# identify missing prime mover code issues\n",
    "missing_data_test[missing_data_test['prime_mover_code'].isna()]"
   ]
  },
  {
   "cell_type": "markdown",
   "metadata": {},
   "source": [
    "# 4. Clean Hourly Data from CEMS"
   ]
  },
  {
   "cell_type": "code",
   "execution_count": 57,
   "metadata": {},
   "outputs": [
    {
     "name": "stdout",
     "output_type": "stream",
     "text": [
      "Removing 45 plants that are not grid-connected\n",
      "Removing 0 plants located in the following states: ['PR']\n",
      "Removing 3 units that only produce steam and do not report to EIA\n"
     ]
    },
    {
     "name": "stderr",
     "output_type": "stream",
     "text": [
      "a:\\miniconda3\\envs\\hourly_egrid\\lib\\site-packages\\pandas\\core\\arrays\\datetimes.py:1162: UserWarning: Converting to PeriodArray/Index representation will drop timezone information.\n",
      "  warnings.warn(\n"
     ]
    },
    {
     "name": "stdout",
     "output_type": "stream",
     "text": [
      "removing 7325217 observations from cems for unit-months where no data reported\n",
      "Unable to calculate emissions for the following plants_units: []\n"
     ]
    }
   ],
   "source": [
    "cems = data_cleaning.clean_cems(year)"
   ]
  },
  {
   "cell_type": "code",
   "execution_count": 58,
   "metadata": {},
   "outputs": [
    {
     "name": "stdout",
     "output_type": "stream",
     "text": [
      "Warning: There are 10020 records where gross_generation_mwh is positive but no fuel consumption is reported. Check `missing_fuel_test` for complete list\n",
      "Warning: There are 91692 records where there is a missing energy source code. Check `missing_esc_test` for complete list\n"
     ]
    }
   ],
   "source": [
    "# fuel consumption and co2 emissions should be positive\n",
    "cems_negative_test = validation.test_for_negative_values(cems, ['fuel_consumed_mmbtu','fuel_consumed_for_electricity_mmbtu','co2_mass_tons','co2_mass_tons_adjusted', 'gross_generation_mwh'])\n",
    "\n",
    "# if net generation is positive, fuel consumption should be non zero\n",
    "cems_missing_fuel_test = validation.test_for_missing_fuel(cems,'gross_generation_mwh')\n",
    "\n",
    "# fuel consumed for electricity should be less than fuel consumed\n",
    "cems_chp_allocation_test = validation.test_chp_allocation(cems)\n",
    "\n",
    "# check for missing co2 data\n",
    "cems_missing_co2_test = validation.test_for_missing_co2(cems)\n",
    "\n",
    "# check for missing energy source code\n",
    "cems_missing_esc_test = validation.test_for_missing_energy_source_code(cems)"
   ]
  },
  {
   "cell_type": "code",
   "execution_count": 59,
   "metadata": {},
   "outputs": [
    {
     "data": {
      "text/plain": [
       "array(['54096_X026', '54096_Z007', '60698_D1', '60698_D7', '335_CT1',\n",
       "       '335_CT2', '7242_**1', '50240_5', '55088_GT2100', '55088_GT3100',\n",
       "       '7277_17', '10244_B002', '10244_B003', '50397_36', '50397_39',\n",
       "       '50481_253-26', '61241_CT1', '61241_CT2', '60925_CT1', '60925_CT2',\n",
       "       '3982_1', '3982_2', '4125_8', '55641_CT-03', '55641_CT-04'],\n",
       "      dtype=object)"
      ]
     },
     "execution_count": 59,
     "metadata": {},
     "output_type": "execute_result"
    }
   ],
   "source": [
    "cems_missing_esc_test.cems_id.unique()"
   ]
  },
  {
   "cell_type": "markdown",
   "metadata": {},
   "source": [
    "# 5. Convert CEMS Hourly Gross Generation to Hourly Net Generation\n",
    "Hierarchy\n",
    "1. Use regression value if regression has good r2\n",
    "2. If there is not a good regrssion, use monthly ratio unless ratio is outside of normal bounds (negative, >>1, missing)\n",
    "\n",
    "Where there are outliers (eg gross generation is very different from net generation), which number do we trust?\n",
    " - if EIA reported monthly and not distributed, maybe trust EIA (monthly ratio).\n",
    " - Otherwise, trust general regression\n"
   ]
  },
  {
   "cell_type": "code",
   "execution_count": 60,
   "metadata": {},
   "outputs": [
    {
     "data": {
      "text/plain": [
       "gtn_method\n",
       "assumed_value          0.033989\n",
       "plant_ratio            0.006415\n",
       "plant_regression       0.118712\n",
       "subplant_ratio         0.057691\n",
       "subplant_regression    0.783194\n",
       "Name: net_generation_mwh, dtype: float64"
      ]
     },
     "execution_count": 60,
     "metadata": {},
     "output_type": "execute_result"
    }
   ],
   "source": [
    "# merge the data back into cems and calculate net generation\n",
    "cems = data_cleaning.convert_gross_to_net_generation(cems)\n",
    "\n",
    "# for generators where there is heat input but no gross generation reported, impute hourly net generation based on reported EIA values\n",
    "# TODO: Need to match data on unit level rather than plant level\n",
    "# cems = data_cleaning.impute_missing_hourly_net_generation(cems, eia923_allocated)\n",
    "\n",
    "# what percent of net generation was allocated using each method?\n",
    "cems.groupby('gtn_method', dropna=False).sum()['net_generation_mwh'] / cems['net_generation_mwh'].sum()"
   ]
  },
  {
   "cell_type": "markdown",
   "metadata": {},
   "source": [
    "# 6. Crosswalk CEMS and EIA data\n",
    "\n",
    "The goal of this step is to identify for which subplant-months we have hourly data reported in CEMS (which will be considered the default source of data), and for which subplant-months we only have monthly data from EIA-923. \n",
    "\n",
    "Based on the data we have available, at this point we assign each subplant-month one of three potential data sources for the hourly data:\n",
    "1. `cems`: For subplant-months for which we have hourly CEMS data for all CEMS units that make up that subplant, we will use the hourly values reported in CEMS. (Add a validation check for the net generation and fuel consumption totals)\n",
    "2. `partial_cems`: For subplant-months for which we have hourly CEMS data for only some of the CEMS units that make up a subplant, we will use the reported EIA-923 values to scale the partial hourly CEMS data from the other units to match the total value for the entire subplant. This will also calculate a partial subplant scaling factor for each data column (e.g. net generation, fuel consumption) by comparing the total monthly CEMS data to the monthly EIA-923 data.\n",
    "3. `eia`: for subplant-months for which no hourly data is reported in CEMS, we will attempt to use EIA-930 data to assign an hourly profile to the monthly EIA-923 data\n"
   ]
  },
  {
   "cell_type": "code",
   "execution_count": 131,
   "metadata": {},
   "outputs": [
    {
     "data": {
      "text/plain": [
       "hourly_data_source\n",
       "cems            0.892\n",
       "eia             0.105\n",
       "partial_cems    0.003\n",
       "Name: co2_mass_tons_adjusted, dtype: float64"
      ]
     },
     "execution_count": 131,
     "metadata": {},
     "output_type": "execute_result"
    }
   ],
   "source": [
    "eia923_allocated = data_cleaning.identify_hourly_data_source(eia923_allocated, cems, year)\n",
    "\n",
    "# what percent of emissions is reported in CEMS vs EIA\n",
    "# NOTE: This does not include emissions only reported by CEMS, so the % may be higher\n",
    "(eia923_allocated.groupby('hourly_data_source')['co2_mass_tons_adjusted'].sum() / eia923_allocated.groupby('hourly_data_source')['co2_mass_tons_adjusted'].sum().sum(axis=0)).round(3)"
   ]
  },
  {
   "cell_type": "markdown",
   "metadata": {},
   "source": [
    "# 7. Assign static characteristics to CEMS and EIA data to aid in aggregation"
   ]
  },
  {
   "cell_type": "code",
   "execution_count": 132,
   "metadata": {},
   "outputs": [],
   "source": [
    "# assign a BA code and state code to each plant\n",
    "eia923_allocated = data_cleaning.assign_ba_code_to_plant(eia923_allocated, year)\n",
    "\n",
    "# assign a fuel category to each plant based on what is most likely to match with the category used in EIA-930\n",
    "# TODO: Add two different fuel categories (one for 930, one that is more specific)\n",
    "eia923_allocated = data_cleaning.assign_fuel_category_to_ESC(eia923_allocated, fuel_category_name='fuel_group_eia930', esc_column='plant_primary_fuel')"
   ]
  },
  {
   "cell_type": "code",
   "execution_count": null,
   "metadata": {},
   "outputs": [],
   "source": [
    "# add information that we need to aggregate the data and match to eia930\n",
    "#cems = cems.drop(columns=['ba_code','ba_code_physical','state'])\n",
    "#cems = cems.drop(columns=['distribution_flag'])\n",
    "#cems = cems.drop(columns=['plant_primary_fuel'])\n",
    "\n",
    "cems = data_cleaning.assign_ba_code_to_plant(cems, year)\n",
    "\n",
    "# add a flag about whether the plant is distribution connected\n",
    "cems = data_cleaning.identify_distribution_connected_plants(cems, year, voltage_threshold_kv=60)\n",
    "\n",
    "# add a plant primary fuel and a fuel category for eia930\n",
    "cems = cems.merge(primary_fuel_table.drop_duplicates(subset='plant_id_eia')[['plant_id_eia','plant_primary_fuel']], how='left', on='plant_id_eia')\n",
    "cems = data_cleaning.assign_fuel_category_to_ESC(cems, fuel_category_name='fuel_group_eia930', esc_column='plant_primary_fuel')\n",
    "cems = cems.rename(columns={'fuel_category':'fuel_category_eia930'})"
   ]
  },
  {
   "cell_type": "code",
   "execution_count": null,
   "metadata": {},
   "outputs": [],
   "source": [
    "# add a subplant id to each dataset\n",
    "subplant_crosswalk = pd.read_csv('../data/output/subplant_crosswalk.csv')\n",
    "cems = cems.merge(subplant_crosswalk[['plant_id_eia','unitid','subplant_id']], how='left', on=['plant_id_eia','unitid'])\n",
    "eia923_allocated = eia923_allocated.merge(subplant_crosswalk[['plant_id_eia','generator_id','subplant_id']], how='left', on=['plant_id_eia','generator_id'])"
   ]
  },
  {
   "cell_type": "code",
   "execution_count": null,
   "metadata": {},
   "outputs": [],
   "source": [
    "# test to make sure that there is a complete subplant mapping\n",
    "cems_missing_subplant_test = cems[cems['subplant_id'].isna()]\n",
    "if not cems_missing_subplant_test.empty:\n",
    "    print(f'Warning: There are {len(cems_missing_subplant_test)} CEMS records without a subplant ID. See `cems_missing_subplant_test` for details')\n",
    "    \n",
    "\n",
    "eia_missing_subplant_test = eia923_allocated[eia923_allocated['subplant_id'].isna()]\n",
    "if not eia_missing_subplant_test.empty:\n",
    "    print(f'Warning: There are {len(eia_missing_subplant_test)} EIA-923 records without a subplant ID. See `eia_missing_subplant_test` for details')\n",
    "    "
   ]
  },
  {
   "cell_type": "code",
   "execution_count": null,
   "metadata": {},
   "outputs": [],
   "source": [
    "columns_to_export = ['plant_id_eia', 'operating_datetime_utc', 'gross_generation_mwh', 'net_generation_mwh', 'fuel_consumed_mmbtu','fuel_consumed_for_electricity_mmbtu', 'co2_mass_tons','co2_mass_tons_adjusted']\n",
    "cems_output = cems[columns_to_export].groupby(['plant_id_eia','operating_datetime_utc']).sum().reset_index()\n",
    "cems_output.to_csv('../data/final_outputs/plant_files/hourly_plant_data_from_cems.csv', index=False)"
   ]
  },
  {
   "cell_type": "code",
   "execution_count": null,
   "metadata": {},
   "outputs": [],
   "source": [
    "# export plant frame\n",
    "plant_static_columns = ['plant_id_eia','plant_primary_fuel', 'fuel_category_eia930', 'ba_code', 'ba_code_physical', 'state', 'distribution_flag']\n",
    "plant_frame = cems[plant_static_columns].drop_duplicates(subset='plant_id_eia')\n",
    "plant_frame.to_csv('../data/final_outputs/plant_files/plant_static_attributes.csv', index=False)"
   ]
  },
  {
   "cell_type": "markdown",
   "metadata": {},
   "source": [
    "# 8. Clean and Reconcile EIA-930 data\n",
    "Load raw EIA-930 data, fix timestamp issues, perform physics-based reconciliation\n",
    "\n",
    "Currently implemented in `notebooks/930_lag` and the `gridemissions` repository\n",
    "\n",
    "Output: `data/eia930/chalendar/EBA_adjusted_elec.csv`"
   ]
  },
  {
   "cell_type": "code",
   "execution_count": null,
   "metadata": {},
   "outputs": [],
   "source": [
    "# not yet implemented here"
   ]
  },
  {
   "cell_type": "markdown",
   "metadata": {},
   "source": [
    "# 9. Calculate Residual Net Generation Profile\n",
    "\n",
    "Currently implemented in `notebooks/clean_930_compare_residual`"
   ]
  },
  {
   "cell_type": "code",
   "execution_count": null,
   "metadata": {},
   "outputs": [],
   "source": [
    "# save CEMS data as CSV to be used to calculate residual profile\n",
    "# NOTE: Once this code is integrated into the pipeline, this will not be necessary\n",
    "# filter the data to export only the data/columns that we need for the residual calculation\n",
    "cems_for_export = cems.loc[cems[['co2_mass_tons_adjusted','gross_generation_mwh','fuel_consumed_for_electricity_mmbtu']].sum(axis=1) > 0, ['ba_code', 'ba_code_physical',\n",
    "       'energy_source_code','plant_primary_fuel','fuel_category_eia930','distribution_flag',\n",
    "       'plant_id_eia', 'unitid', 'operating_datetime_utc',\n",
    "       'net_generation_mwh']]\n",
    "\n",
    "cems_for_export.to_csv(f'../data/output/cems_{year}_for_residual.csv', index=False)"
   ]
  },
  {
   "cell_type": "code",
   "execution_count": null,
   "metadata": {},
   "outputs": [],
   "source": [
    "# not yet implemented here"
   ]
  },
  {
   "cell_type": "markdown",
   "metadata": {},
   "source": [
    "# 10. Assign hourly profile to monthly data\n"
   ]
  },
  {
   "cell_type": "code",
   "execution_count": null,
   "metadata": {},
   "outputs": [],
   "source": [
    "# create a separate dataframe containing only the generators for which we do not have CEMS data\n",
    "monthly_eia_data_to_distribute = eia923_allocated[(eia923_allocated['data_source'] == 'eia_only') & ~(eia923_allocated['fuel_consumed_mmbtu'].isna())]"
   ]
  },
  {
   "cell_type": "code",
   "execution_count": null,
   "metadata": {},
   "outputs": [],
   "source": [
    "# load profile data and format for use in the pipeline\n",
    "#hourly_profiles = eia930.load_chalendar_for_pipeline('../data/eia930/chalendar/EBA_adjusted_elec.csv', year)\n",
    "hourly_profiles = pd.read_csv('../data/output/residual_profiles.csv', parse_dates=['report_date'])\n",
    "hourly_profiles"
   ]
  },
  {
   "cell_type": "code",
   "execution_count": null,
   "metadata": {},
   "outputs": [],
   "source": [
    "def create_flat_profile(year):\n",
    "    df_temp = pd.DataFrame(index=pd.date_range(start=f'{year-1}-12-31 00:00:00', end=f'{year+1}-01-01 23:00:00', freq='H', tz='UTC', name='datetime_utc'),\n",
    "                                columns=['ba_code','fuel_category']).reset_index()                  \n",
    "        \n",
    "    df_temp['net_generation_mwh_930'] = 1.0\n",
    "    df_temp['datetime_local'] = df_temp['datetime_utc']\n",
    "    df_temp['datetime_local'] = df_temp['datetime_utc'].dt.tz_convert(data_cleaning.ba_timezone(ba=ba, type='local'))\n",
    "    # create a report date column\n",
    "    df_temp['report_date'] = df_temp['datetime_local'].astype(str).str[:7]\n",
    "    df_temp['report_date'] = pd.to_datetime(df_temp['report_date'])\n",
    "\n",
    "    return df_temp"
   ]
  },
  {
   "cell_type": "code",
   "execution_count": null,
   "metadata": {},
   "outputs": [],
   "source": [
    "# for fuel categories that exist in the EIA-923 data but not in EIA-930, create flat profiles to add to the hourly profiles from 930\n",
    "# TODO: Identify for which BA-fuels a flat profile was created\n",
    "# TODO: Is there a better assumption than flat?\n",
    "ba_list = list(monthly_eia_data_to_distribute['ba_code'].dropna().unique())\n",
    "\n",
    "# create an hourly datetime series in local time for each ba/fuel type\n",
    "hourly_profiles_to_add = []\n",
    "\n",
    "# for each ba\n",
    "for ba in ba_list:\n",
    "    # get a list of fuels categories that exist in that BA\n",
    "    ba_fuel_list = list(monthly_eia_data_to_distribute.loc[monthly_eia_data_to_distribute['ba_code'] == ba,'fuel_category'].unique())\n",
    "    for fuel in ba_fuel_list:\n",
    "        # if there is no data for that fuel type in the eia930 data, create a flat profile\n",
    "        if len(hourly_profiles[(hourly_profiles['ba_code'] == ba) & (hourly_profiles['fuel_category'] == fuel)]) == 0:\n",
    "            print(f'Adding flat profile for {ba} {fuel}')\n",
    "            df_temp = create_flat_profile(year)\n",
    "            df_temp['ba_code'] = ba\n",
    "            df_temp['fuel_category'] = fuel\n",
    "            hourly_profiles_to_add.append(df_temp)\n",
    "\n",
    "hourly_profiles_to_add = pd.concat(hourly_profiles_to_add, axis=0, ignore_index=True)"
   ]
  },
  {
   "cell_type": "code",
   "execution_count": null,
   "metadata": {},
   "outputs": [],
   "source": [
    "# concat the flat profiles to the hourly profiles\n",
    "hourly_profiles = pd.concat([hourly_profiles,hourly_profiles_to_add], axis=0)"
   ]
  },
  {
   "cell_type": "code",
   "execution_count": null,
   "metadata": {},
   "outputs": [],
   "source": [
    "hourly_eia_data = data_cleaning.distribute_monthly_eia_data_to_hourly(monthly_eia_data_to_distribute, hourly_profiles, 'residual_scaled')"
   ]
  },
  {
   "cell_type": "code",
   "execution_count": null,
   "metadata": {},
   "outputs": [],
   "source": [
    "columns_for_output = ['ba_code', 'fuel_category', 'datetime_utc', 'net_generation_mwh', 'fuel_consumed_mmbtu', 'fuel_consumed_for_electricity_mmbtu', 'co2_mass_tons', 'co2_mass_tons_adjusted']\n",
    "hourly_eia_data[columns_for_output].to_csv('../data/final_outputs/plant_files/hourly_data_distributed_from_eia.csv', index=False)"
   ]
  },
  {
   "cell_type": "markdown",
   "metadata": {},
   "source": [
    "# 11. Aggregate CEMS data to BA-fuel and combine with hourly shaped EIA data\n"
   ]
  },
  {
   "cell_type": "code",
   "execution_count": null,
   "metadata": {},
   "outputs": [],
   "source": [
    "# aggregate cems data by BA and fuel type\n",
    "cems_ba_fuel = cems.groupby(['ba_code','fuel_category_eia930','operating_datetime_utc']).sum()[['gross_generation_mwh','net_generation_mwh','fuel_consumed_mmbtu','fuel_consumed_for_electricity_mmbtu','co2_mass_tons','co2_mass_tons_adjusted']].reset_index()\n",
    "cems_ba_fuel['data_source'] = 'CEMS'\n",
    "\n",
    "# rename the datetime_utc column\n",
    "cems_ba_fuel = cems_ba_fuel.rename(columns={'operating_datetime_utc':'datetime_utc','fuel_category_eia930':'fuel_category'})\n"
   ]
  },
  {
   "cell_type": "code",
   "execution_count": null,
   "metadata": {},
   "outputs": [],
   "source": [
    "combined_data = pd.concat([cems_ba_fuel, hourly_eia_data.drop(columns=['datetime_local','report_date'])], axis=0)\n",
    "# only keep relevant columns\n",
    "combined_data = combined_data[['ba_code','fuel_category','datetime_utc','net_generation_mwh','fuel_consumed_mmbtu','fuel_consumed_for_electricity_mmbtu','co2_mass_tons','co2_mass_tons_adjusted','data_source']]\n",
    "combined_data"
   ]
  },
  {
   "cell_type": "markdown",
   "metadata": {},
   "source": [
    "## Export hourly data to final CSVs (one for each BA)"
   ]
  },
  {
   "cell_type": "code",
   "execution_count": null,
   "metadata": {},
   "outputs": [],
   "source": [
    "for ba in list(combined_data.ba_code.unique()):\n",
    "\n",
    "    # filter the data for a single BA\n",
    "    ba_table = combined_data[combined_data['ba_code'] == ba].drop(columns='ba_code')\n",
    "\n",
    "    # convert the datetime_utc column back to a datetime\n",
    "    ba_table['datetime_utc'] = pd.to_datetime(ba_table['datetime_utc'], utc=True)\n",
    "\n",
    "    # combine the data from CEMS and EIA for each fuel-hour\n",
    "    ba_table = ba_table.groupby(['fuel_category', 'datetime_utc']).sum().reset_index()\n",
    "\n",
    "    # calculate a total for the BA\n",
    "    ba_total = ba_table.groupby(['datetime_utc']).sum()[['net_generation_mwh','fuel_consumed_mmbtu','fuel_consumed_for_electricity_mmbtu','co2_mass_tons','co2_mass_tons_adjusted']].reset_index()\n",
    "    ba_total['fuel_category'] = 'total'\n",
    "\n",
    "    # concat the totals to the fuel-specific totals\n",
    "    ba_table = pd.concat([ba_table,ba_total], axis=0, ignore_index=True)\n",
    "\n",
    "    # calculate a generated emission rate\n",
    "    ba_table['generated_co2_rate_lb_per_mwh'] = (ba_table['co2_mass_tons'] * 2000 / ba_table['net_generation_mwh']).fillna(0).replace(np.inf, np.NaN)\n",
    "    ba_table['adjusted_generated_co2_rate_lb_per_mwh'] = (ba_table['co2_mass_tons_adjusted'] * 2000 / ba_table['net_generation_mwh']).fillna(0).replace(np.inf, np.NaN)\n",
    "\n",
    "    ba_table = ba_table.pivot(index='datetime_utc', columns='fuel_category')\n",
    "\n",
    "    # round all values to one decimal place\n",
    "    ba_table = ba_table.round(1)\n",
    "\n",
    "    # flatten the multilevel column into a single column name like data_fuelname\n",
    "    ba_table.columns = ['_'.join(col) for col in ba_table.columns.values]\n",
    "\n",
    "    # export to a csv\n",
    "    ba_table.to_csv(f'../data/final_outputs/ba_files/{ba}.csv')"
   ]
  },
  {
   "cell_type": "code",
   "execution_count": null,
   "metadata": {},
   "outputs": [],
   "source": [
    "def graph_hourly_data_by_fuel_category(hourly_data, ba, column_name, fuel_category_name, plot_type):\n",
    "    fuel_color = {'natural_gas':'sienna',\n",
    "              'coal':'black',\n",
    "              'nuclear':'red',\n",
    "              'biomass':'green',\n",
    "              'geothermal':'orange',\n",
    "              'wind':'blue',\n",
    "              'solar':'gold',\n",
    "              'petroleum':'purple',\n",
    "              'hydro':'skyblue',\n",
    "              'other':'lightgrey',\n",
    "              'waste':'pink'}\n",
    "\n",
    "    fuel_order = ['nuclear','geothermal','hydro','other','coal','biomass','petroleum','waste','solar','wind','natural_gas']\n",
    "\n",
    "    data_to_graph = hourly_data[hourly_data['ba_code'] == ba]\n",
    "    #data_to_graph = data_to_graph.groupby(['datetime_utc','fuel_category','data_source']).sum().reset_index()\n",
    "\n",
    "    if plot_type == 'area':\n",
    "        plot = px.area(data_to_graph, \n",
    "                x='datetime_utc', \n",
    "                y=column_name, \n",
    "                color=fuel_category_name, \n",
    "                color_discrete_map=fuel_color, \n",
    "                facet_col='data_source', \n",
    "                template='plotly_white',\n",
    "                title=f'Hourly {column_name} data for {ba} by fuel type',\n",
    "                category_orders={fuel_category_name:fuel_order}).update_traces(line={'width':0})\n",
    "    elif plot_type == 'line':\n",
    "        plot = px.line(data_to_graph, \n",
    "                x='datetime_utc', \n",
    "                y=column_name, \n",
    "                color=fuel_category_name, \n",
    "                color_discrete_map=fuel_color, \n",
    "                facet_col='data_source', \n",
    "                template='plotly_white',\n",
    "                title=f'Hourly {column_name} data for {ba} by fuel type',\n",
    "                category_orders={fuel_category_name:fuel_order}).update_traces(line={'width':0})\n",
    "    \n",
    "    return plot\n",
    "        "
   ]
  },
  {
   "cell_type": "code",
   "execution_count": null,
   "metadata": {},
   "outputs": [],
   "source": [
    "ba = 'CISO'\n",
    "\n",
    "graph_hourly_data_by_fuel_category(hourly_data=combined_data, ba=ba, column_name='net_generation_mwh', fuel_category_name='fuel_category', plot_type='area')"
   ]
  },
  {
   "cell_type": "code",
   "execution_count": null,
   "metadata": {},
   "outputs": [],
   "source": [
    "graph_hourly_data_by_fuel_category(hourly_data=combined_data, ba=ba, column_name='co2_mass_tons', fuel_category_name='fuel_category', plot_type='area')"
   ]
  },
  {
   "cell_type": "code",
   "execution_count": null,
   "metadata": {},
   "outputs": [],
   "source": [
    "graph_hourly_data_by_fuel_category(hourly_data=combined_data, ba=ba, column_name='co2_rate_lb_per_mwh_generated', fuel_category_name='fuel_category', plot_type='line')"
   ]
  },
  {
   "cell_type": "markdown",
   "metadata": {},
   "source": [
    "# Data Quality Metrics"
   ]
  },
  {
   "cell_type": "markdown",
   "metadata": {},
   "source": [
    "### Compare monthly totals for each plant from each data source"
   ]
  },
  {
   "cell_type": "code",
   "execution_count": null,
   "metadata": {},
   "outputs": [],
   "source": [
    "# for plants where there is data reported in cems, see how off it is from data reported in eia\n",
    "cems_plant_monthly = cems.groupby(['plant_id_eia','subplant_id','report_date'], dropna=False).sum()[['gross_generation_mwh','net_generation_mwh','fuel_consumed_mmbtu','fuel_consumed_for_electricity_mmbtu','co2_mass_tons','co2_mass_tons_adjusted']].reset_index()\n",
    "gf_plant_monthly = eia923_allocated.groupby(['plant_id_eia','subplant_id','report_date'], dropna=False).sum().reset_index()\n",
    "compare_cems_eia = gf_plant_monthly.merge(cems_plant_monthly, how='inner', on=['plant_id_eia','subplant_id','report_date'], suffixes=(\"_eia\",'_cems'))\n",
    "\n",
    "\n",
    "for column in ['net_generation_mwh','fuel_consumed_mmbtu','fuel_consumed_for_electricity_mmbtu','co2_mass_tons','co2_mass_tons_adjusted']:\n",
    "    compare_cems_eia[f'{column}_pctdiff'] = ((compare_cems_eia[f'{column}_cems'].replace(0,0.1) - compare_cems_eia[f'{column}_eia'].replace(0,0.1)) / compare_cems_eia[f'{column}_eia'].replace(0,0.1)).round(3)\n",
    "\n",
    "compare_cems_eia = compare_cems_eia.set_index(['plant_id_eia','subplant_id','report_date'])\n",
    "compare_cems_eia = compare_cems_eia.reindex(sorted(compare_cems_eia.columns), axis=1)"
   ]
  },
  {
   "cell_type": "code",
   "execution_count": null,
   "metadata": {},
   "outputs": [],
   "source": [
    "# identify where there are differences between reported CEMS and EIA values for the same subplant-month\n",
    "compare_cems_eia[~compare_cems_eia.filter(like='pctdiff').sum(axis=1).between(-0.05,0.05)]"
   ]
  },
  {
   "cell_type": "markdown",
   "metadata": {},
   "source": [
    "## Compare Our Results to eGRID"
   ]
  },
  {
   "cell_type": "code",
   "execution_count": null,
   "metadata": {},
   "outputs": [],
   "source": [
    "# Aggregate total calculated values\n",
    "###################################\n",
    "\n",
    "# Aggregate cems and eia data by plant id, then combine\n",
    "cems_plant_annual = cems.groupby(['ba_code','state','plant_id_eia'], dropna=False).sum()[['net_generation_mwh','fuel_consumed_mmbtu','co2_mass_tons','co2_mass_tons_adjusted']].reset_index()\n",
    "eia_plant_annual = monthly_eia_data_to_distribute.groupby(['ba_code','state','plant_id_eia'], dropna=False).sum()[['net_generation_mwh','fuel_consumed_mmbtu','fuel_consumed_for_electricity_mmbtu','co2_mass_tons','co2_mass_tons_adjusted']].reset_index()\n",
    "plant_annual_total = pd.concat([cems_plant_annual,eia_plant_annual], axis=0)\n",
    "# group any plants that have records from both datasets\n",
    "plant_annual_total = plant_annual_total.groupby(['ba_code','state','plant_id_eia'], dropna=False).sum().reset_index()\n",
    "\n",
    "# add a egrid id\n",
    "plant_annual_total = validation.add_egrid_plant_id(plant_annual_total, from_id='eia', to_id='egrid')\n",
    "\n",
    "# Load the eGRID plant table\n",
    "egrid_plant = load_data.load_egrid_plant_file(year)"
   ]
  },
  {
   "cell_type": "markdown",
   "metadata": {},
   "source": [
    "### Identify plants in eGRID missing from our results\n",
    "\n",
    "These plants seem to have retired before 2020"
   ]
  },
  {
   "cell_type": "code",
   "execution_count": null,
   "metadata": {},
   "outputs": [],
   "source": [
    "# identify any plants that are in egrid but not our totals, and any plants that are in our totals, but not egrid\n",
    "plant_not_in_calc = list(set(egrid_plant['plant_id_eia'].unique()) - set(plant_annual_total['plant_id_eia'].unique()))\n",
    "\n",
    "# Which plants are included in eGRID but are missing from our calculations?\n",
    "missing_from_calc = egrid_plant[egrid_plant['plant_id_egrid'].isin(plant_not_in_calc)]\n",
    "\n",
    "# see if any of these plants are retired\n",
    "generators_eia860 = load_data.load_pudl_table('generators_eia860', year=year)\n",
    "missing_from_calc.merge(generators_eia860.groupby('plant_id_eia')['retirement_date'].unique().reset_index(), how='left', on='plant_id_eia')"
   ]
  },
  {
   "cell_type": "markdown",
   "metadata": {},
   "source": [
    "### Identify plants in our calculations that are missing from eGRID"
   ]
  },
  {
   "cell_type": "code",
   "execution_count": null,
   "metadata": {},
   "outputs": [],
   "source": [
    "# Which plants are in our calculations, but are missing from eGRID?\n",
    "plants_not_in_egrid = list(set(plant_annual_total['plant_id_egrid'].unique()) - set(egrid_plant['plant_id_egrid'].unique()))\n",
    "\n",
    "plant_names = load_data.load_pudl_table('plants_entity_eia')[['plant_id_eia','plant_name_eia','sector_name_eia']]\n",
    "missing_from_egrid = plant_annual_total[plant_annual_total['plant_id_egrid'].isin(plants_not_in_egrid)].merge(plant_names, how='left', on='plant_id_eia')\n",
    "\n",
    "missing_from_egrid"
   ]
  },
  {
   "cell_type": "code",
   "execution_count": null,
   "metadata": {},
   "outputs": [],
   "source": [
    "# how many of the plants missing from egrid have non-zero data\n",
    "missing_from_egrid[missing_from_egrid['fuel_consumed_mmbtu'] > 1]"
   ]
  },
  {
   "cell_type": "markdown",
   "metadata": {},
   "source": [
    "### Compare whether totals for plants with EPA IDs that differ from EIA IDs match"
   ]
  },
  {
   "cell_type": "code",
   "execution_count": null,
   "metadata": {},
   "outputs": [],
   "source": [
    "# identify where there is a single egrid plant id for multiple eia plant ids\n",
    "double_ids = plant_annual_total[plant_annual_total['plant_id_egrid'].duplicated(keep=False)]\n",
    "double_ids = double_ids.groupby('plant_id_egrid').sum()['net_generation_mwh'].reset_index() # focus on net generation for now\n",
    "# merge the egrid data\n",
    "double_ids = double_ids.merge(egrid_plant[['plant_id_egrid','net_generation_mwh']], how='left', on='plant_id_egrid', suffixes=('_calc','_egrid'))\n",
    "double_ids['percent_diff'] = ((double_ids['net_generation_mwh_calc'] - double_ids['net_generation_mwh_egrid']) / double_ids['net_generation_mwh_egrid']).round(3)\n",
    "double_ids"
   ]
  },
  {
   "cell_type": "markdown",
   "metadata": {},
   "source": [
    "### Identify plants where our BA assignment does not match eGRID"
   ]
  },
  {
   "cell_type": "code",
   "execution_count": null,
   "metadata": {},
   "outputs": [],
   "source": [
    "ba_code_match = egrid_plant.set_index('plant_id_eia')[['plant_name','ba_code']].merge(plant_annual_total.set_index('plant_id_eia')[['ba_code']], how='inner', left_index=True, right_index=True, suffixes=(\"_egrid\",'_calc'))\n",
    "\n",
    "# plants with missing ba code\n",
    "ba_code_match[(ba_code_match['ba_code_calc'].isna()) & ~(ba_code_match['ba_code_egrid'].isna())]"
   ]
  },
  {
   "cell_type": "code",
   "execution_count": null,
   "metadata": {},
   "outputs": [],
   "source": [
    "# plants with incorrect ba code\n",
    "ba_code_match[(ba_code_match['ba_code_calc'] != ba_code_match['ba_code_egrid']) & ~(ba_code_match['ba_code_calc'].isna())]"
   ]
  },
  {
   "cell_type": "markdown",
   "metadata": {},
   "source": [
    "## Identify where eGRID might be missing data\n",
    "It seems that there are quite a few generators where fuel consumption data is missing"
   ]
  },
  {
   "cell_type": "code",
   "execution_count": null,
   "metadata": {},
   "outputs": [],
   "source": [
    "pudl_out = load_data.initialize_pudl_out(year)\n",
    "\n",
    "# load the EIA generator fuel data\n",
    "IDX_PM_ESC = [\"report_date\", \"plant_id_eia\", \"energy_source_code\", \"prime_mover_code\"]\n",
    "gf = (pudl_out.gf_eia923().loc[:,IDX_PM_ESC + [\"net_generation_mwh\",\"fuel_consumed_mmbtu\",\"fuel_consumed_for_electricity_mmbtu\",],])\n",
    "\n",
    "# add egrid plant ids\n",
    "egrid_crosswalk = pd.read_csv('../data/egrid/egrid_static_tables/2020/table_C5_crosswalk_of_EIA_ID_to_EPA_ID.csv')\n",
    "eia_to_egrid_id = dict(zip(list(egrid_crosswalk['plant_id_eia']), list(egrid_crosswalk['plant_id_egrid'])))\n",
    "gf['plant_id_egrid'] = gf['plant_id_eia']\n",
    "gf['plant_id_egrid'].update(gf['plant_id_egrid'].map(eia_to_egrid_id))\n",
    "\n",
    "# calculate an annual total for each plant\n",
    "gf_total = gf.groupby(['plant_id_egrid']).sum().reset_index()\n",
    "\n",
    "# choose a metric to compare\n",
    "metric = 'fuel_consumed_mmbtu'\n",
    "\n",
    "egrid_eia_comparison = egrid_plant[['plant_id_egrid','plant_name','ba_code','energy_source_code',metric]].merge(gf_total[['plant_id_egrid',metric]], how='left', on='plant_id_egrid', suffixes=('_egrid','_eia923')).round(0)\n",
    "\n",
    "egrid_eia_comparison['difference'] = egrid_eia_comparison[f'{metric}_egrid'] - egrid_eia_comparison[f'{metric}_eia923']\n",
    "egrid_eia_comparison['percent_difference'] = (egrid_eia_comparison[f'{metric}_egrid'] - egrid_eia_comparison[f'{metric}_eia923']) / egrid_eia_comparison[f'{metric}_eia923']"
   ]
  },
  {
   "cell_type": "code",
   "execution_count": null,
   "metadata": {},
   "outputs": [],
   "source": [
    "# egrid seems to be missing fuel consumption data for most nuclear power plants\n",
    "missing_nuclear = egrid_eia_comparison[egrid_eia_comparison['energy_source_code'] == 'NUC']\n",
    "missing_nuclear.sum()"
   ]
  },
  {
   "cell_type": "code",
   "execution_count": null,
   "metadata": {},
   "outputs": [],
   "source": [
    "# where is egrid missing data?\n",
    "egrid_eia_comparison[(egrid_eia_comparison['percent_difference'] < -0.01) & (egrid_eia_comparison['energy_source_code'] != 'NUC')]"
   ]
  },
  {
   "cell_type": "code",
   "execution_count": null,
   "metadata": {},
   "outputs": [],
   "source": [
    "# how much emissions does this account for?\n",
    "# group by fuel code\n",
    "missing_emissions = egrid_eia_comparison[(egrid_eia_comparison['percent_difference'] < -0.01) & (egrid_eia_comparison['energy_source_code'] != 'NUC')].groupby('energy_source_code').sum().reset_index()\n",
    "\n",
    "# get emission factors\n",
    "emission_factors = load_data.load_emission_factors()[['energy_source_code', 'co2_tons_per_mmbtu']]\n",
    "missing_emissions = missing_emissions.merge(emission_factors, how='left', on='energy_source_code')\n",
    "missing_emissions['co2_mass_tons'] = missing_emissions['difference'] * missing_emissions['co2_tons_per_mmbtu']\n",
    "missing_emissions.sum()"
   ]
  },
  {
   "cell_type": "markdown",
   "metadata": {},
   "source": [
    "## Plant Metric"
   ]
  },
  {
   "cell_type": "code",
   "execution_count": null,
   "metadata": {},
   "outputs": [],
   "source": [
    "# standardize column names and index so that the two dfs can be divided\n",
    "calculated_to_compare = plant_annual_total.groupby('plant_id_egrid').sum().drop(columns=['plant_id_eia'])\n",
    "\n",
    "# drop the plants that have no data in eGRID\n",
    "plants_with_no_data_in_egrid = list(egrid_plant[egrid_plant[['net_generation_mwh','fuel_consumed_mmbtu','fuel_consumed_for_electricity_mmbtu','co2_mass_tons','co2_mass_tons_adjusted']].sum(axis=1) == 0]['plant_id_egrid'])\n",
    "egrid_plant = egrid_plant[~egrid_plant['plant_id_eia'].isin(plants_with_no_data_in_egrid)]\n",
    "\n",
    "egrid_to_compare = egrid_plant.set_index(['plant_id_egrid']).drop(columns=['ba_code','state','plant_name','plant_id_eia'])\n",
    "\n",
    "# divide calculated value by egrid value\n",
    "compared = calculated_to_compare.div(egrid_to_compare).merge(egrid_plant[['plant_id_egrid','plant_name','ba_code', 'state']], how='left', left_index=True, right_on='plant_id_egrid').set_index('plant_id_egrid')\n",
    "compared['plant_name'] = compared['plant_name'].fillna('unknown')\n",
    "\n",
    "# create a dataframe that merges the two sources of data together\n",
    "compared_merged = calculated_to_compare.merge(egrid_to_compare, how='outer', on='plant_id_egrid', suffixes=('_calc','_egrid'))\n",
    "\n",
    "# for each column, change missing values to zero if both values are zero (only nan b/c divide by zero)\n",
    "for col in ['net_generation_mwh','fuel_consumed_mmbtu','fuel_consumed_for_electricity_mmbtu','co2_mass_tons_adjusted','co2_mass_tons']:\n",
    "    # identify plants with zero values for both\n",
    "    plant_ids = list(compared_merged[(compared_merged[f'{col}_calc'] == 0) & (compared_merged[f'{col}_egrid'] == 0)].index)\n",
    "    compared.loc[compared.index.isin(plant_ids), col] = 1\n",
    "\n",
    "# for each column, categorize the data based on how far it is off from egrid\n",
    "for col in ['net_generation_mwh','fuel_consumed_mmbtu','fuel_consumed_for_electricity_mmbtu','co2_mass_tons_adjusted','co2_mass_tons']:\n",
    "    # add a new column\n",
    "    compared[f'{col}_status'] = pd.cut(x=compared[col], \n",
    "                                       bins=[-999999999,0,0.5,0.9,0.99,0.9999,1,1.0001,1.01,1.1,1.5,999999999], \n",
    "                                       labels=['negative','<50%','+/-50%','+/-10%','+/-1%','!exact','!exact','+/-1%','+/-10%','+/-50%','>50%'], \n",
    "                                       ordered=False)\n",
    "    # replace any missing values with missing\n",
    "    compared[f'{col}_status'] = compared[f'{col}_status'].astype(str)  \n",
    "    compared[f'{col}_status'] = compared[f'{col}_status'].fillna('missing')\n",
    "    compared[f'{col}_status'] = compared[f'{col}_status'].replace('nan','missing')\n",
    "    compared.loc[(compared.index.isin(plants_not_in_egrid)),f'{col}_status'] = 'not_in_egrid'\n",
    "\n",
    "# identify which plants are missing from egrid vs calculated values\n",
    "for col in ['net_generation_mwh','fuel_consumed_mmbtu','fuel_consumed_for_electricity_mmbtu','co2_mass_tons_adjusted','co2_mass_tons']:\n",
    "    # identify plants that are missing in egrid\n",
    "    plants_missing_egrid = list(compared_merged[(compared_merged[f'{col}_calc'] > 0) & (compared_merged[f'{col}_egrid'].isna())].index)\n",
    "    compared.loc[compared.index.isin(plants_missing_egrid), f'{col}_status'] = 'missing_in_egrid'\n",
    "    # identify plants that are missing from our calculations\n",
    "    plants_missing_calc = list(compared_merged[(compared_merged[f'{col}_calc'].isna()) & (compared_merged[f'{col}_egrid'] > 0)].index)\n",
    "    compared.loc[compared.index.isin(plants_missing_calc), f'{col}_status'] = 'missing_in_calc'\n",
    "    # identify where our calculations are missing a zero value\n",
    "    plants_missing_zero_calc = list(compared_merged[(compared_merged[f'{col}_calc'].isna()) & (compared_merged[f'{col}_egrid'] == 0)].index)\n",
    "    compared.loc[compared.index.isin(plants_missing_zero_calc), f'{col}_status'] = 'missing_zero_in_calc'\n",
    "    # identify where egrid has a missing value instead of a zero\n",
    "    plants_missing_zero_egrid = list(compared_merged[(compared_merged[f'{col}_calc'] == 0) & (compared_merged[f'{col}_egrid'].isna())].index)\n",
    "    compared.loc[compared.index.isin(plants_missing_zero_egrid), f'{col}_status'] = 'missing_zero_in_egrid'\n",
    "    # identify where egrid has a zero value where we have a positive value\n",
    "    plants_incorrect_zero_egrid = list(compared_merged[(compared_merged[f'{col}_calc'] > 0) & (compared_merged[f'{col}_egrid'] == 0)].index)\n",
    "    compared.loc[compared.index.isin(plants_incorrect_zero_egrid), f'{col}_status'] = '>50%'\n",
    "\n",
    "# create a dataframe that counts how many plants are in each category\n",
    "comparison_count = []\n",
    "for col in ['net_generation_mwh','fuel_consumed_mmbtu','fuel_consumed_for_electricity_mmbtu','co2_mass_tons_adjusted','co2_mass_tons']:\n",
    "    count = compared.groupby(f'{col}_status', dropna=False).count()['plant_name'].rename(col)\n",
    "    count.index = count.index.rename('status')\n",
    "    comparison_count.append(count)\n",
    "\n",
    "comparison_count = pd.concat(comparison_count, axis=1).fillna(0).astype(int)\n",
    "comparison_count = pd.concat([comparison_count, pd.DataFrame(comparison_count.sum().rename('Total')).T], axis=0)   \n",
    "comparison_count"
   ]
  },
  {
   "cell_type": "code",
   "execution_count": null,
   "metadata": {},
   "outputs": [],
   "source": [
    "print(comparison_count.to_markdown())"
   ]
  },
  {
   "cell_type": "markdown",
   "metadata": {},
   "source": [
    "## BA Metric"
   ]
  },
  {
   "cell_type": "code",
   "execution_count": null,
   "metadata": {},
   "outputs": [],
   "source": [
    "# load egrid BA totals\n",
    "\"\"\"egrid_ba = pd.read_excel(f'../data/egrid/egrid{year}_data.xlsx', sheet_name=f'BA{str(year)[-2:]}', header=1, usecols=['BANAME','BACODE','BAHTIANT','BANGENAN','BACO2AN'])\n",
    "# rename the columns\n",
    "egrid_ba = egrid_ba.rename(columns={'BANAME':'ba_name',\n",
    "                                    'BACODE':'ba_code',\n",
    "                                    'BAHTIANT':'fuel_consumed_mmbtu',\n",
    "                                    'BANGENAN':'net_generation_mwh',\n",
    "                                    'BACO2AN':'co2_mass_tons'})\"\"\"\n",
    "\n",
    "data_columns = ['net_generation_mwh','fuel_consumed_mmbtu','fuel_consumed_for_electricity_mmbtu','co2_mass_tons','co2_mass_tons_adjusted']\n",
    "\n",
    "#aggregate the plant data up to the BA level\n",
    "egrid_ba = egrid_plant.groupby(['ba_code']).sum()[data_columns].reset_index()\n",
    "\n",
    "# divide our calculation by the BA totals from eGRID\n",
    "# if there are 0 values, replace with 0.1, so that div by zero doesn't return missing value\n",
    "ba_metric = plant_annual_total.groupby('ba_code', dropna=False).sum().drop(columns='plant_id_eia').replace(0,0.1).div(egrid_ba.set_index('ba_code').replace(0,0.1)).sort_values(by='co2_mass_tons').round(3)\n",
    "\n",
    "total = pd.DataFrame(plant_annual_total[data_columns].sum().div(egrid_ba[data_columns].sum()).rename('Total')).T\n",
    "\n",
    "# calculate the difference in the number of plants in each region\n",
    "plant_count = (plant_annual_total.groupby('ba_code', dropna=False).count()['plant_id_egrid'] - egrid_plant.groupby('ba_code', dropna=False).count()['plant_id_egrid']).rename('num_plants')\n",
    "ba_metric = ba_metric.merge(plant_count, how='left', left_index=True, right_index=True).drop(columns=['plant_id_egrid']).sort_index()\n",
    "\n",
    "ba_metric = pd.concat([ba_metric, total], axis=0).round(2) \n",
    "\n",
    "ba_metric = ba_metric[data_columns + ['num_plants']]\n",
    "\n",
    "columns_to_check = ['net_generation_mwh','fuel_consumed_mmbtu','fuel_consumed_for_electricity_mmbtu','co2_mass_tons']\n",
    "\n",
    "with pd.option_context('display.max_rows', None, 'display.max_columns', None):\n",
    "    display(ba_metric[~(ba_metric[columns_to_check] == 1).all(axis=1)])"
   ]
  },
  {
   "cell_type": "code",
   "execution_count": null,
   "metadata": {},
   "outputs": [],
   "source": [
    "# how much co2 comes from CEMS vs EIA\n",
    "data_source_by_ba = pd.pivot_table(eia923_allocated, values='co2_mass_tons', index='ba_code', columns='data_source', dropna=False, aggfunc=np.sum).replace(0,0.001)\n",
    "data_source_by_ba = data_source_by_ba.div(data_source_by_ba.sum(axis=1), axis=0)\n",
    "with pd.option_context('display.max_rows', None, 'display.max_columns', None):\n",
    "    display(data_source_by_ba.round(3).fillna(0).sort_values(by='cems'))"
   ]
  },
  {
   "cell_type": "code",
   "execution_count": null,
   "metadata": {},
   "outputs": [],
   "source": [
    "print(ba_metric.to_markdown())"
   ]
  },
  {
   "cell_type": "markdown",
   "metadata": {},
   "source": [
    "## Explore specific plants\n",
    "\n",
    "### Notes\n",
    "\n",
    "Net generation < 50%:\n",
    " - 2617 has negative net generation\n",
    " - 10444, 59395: some plants are hybrid fossil / solar plants, but the primary energy source code is getting listed as PV for certain generators, which is causing an issue\n",
    "\n",
    "Net generation > 50%:\n",
    " - 335 has two extra units (CT1 and CT2) that report to CEMS but not EIA. Likely correct\n",
    " - 7288 reports DFO to CEMS, but NG to EIA - there's probably some generators not reporting\n",
    " - 60698 double counting generation from cEMS because of 90% heat threhshold in a month - might be fixed once we tackle heat input\n",
    " - 58256 is a solar/hybrid and in generators_entity_eia the battery portion is associated with a separate generator id (should only be 1)\n",
    "\n",
    "\n",
    "Other:\n",
    " - plant 3754 has heat input in cems and eia that don't match\n",
    " - 2401 has generation in both cems and eia\n",
    " - 50933 might have allocation issue (doesn't appear in CEMS)\n",
    "\n",
    "To check\n",
    " - 1404 reports generation to CEMS in December, but not to EIA. This is likely correct\n",
    " - plant 2504 has three units (120, 121, 122) that don't appear in EIA, and in CEMS only report steam. \n",
    "\n",
    "Fuel > 50%\n",
    " - Plant 3116 reports much more heat input to CEMS during ozone months than to EIA\n",
    "\n",
    "BA Totals\n",
    " - TEPC and SRP are off because the Gila River Generator is shared between SRP and TEPC, and eGRID reports all generation from this project belonging to TEPC\n"
   ]
  },
  {
   "cell_type": "code",
   "execution_count": null,
   "metadata": {},
   "outputs": [],
   "source": [
    "# examine specific plants in a category\n",
    "value = 'fuel_consumed_mmbtu'\n",
    "status = '>50%'\n",
    "\n",
    "#compared_merged.loc[64877,:]\n",
    "\n",
    "compared[compared[f'{value}_status'] == status].sort_values(by=value)"
   ]
  },
  {
   "cell_type": "code",
   "execution_count": null,
   "metadata": {},
   "outputs": [],
   "source": [
    "compared[compared[f'{value}_status'] == status].sort_values(by=value).sample(10)"
   ]
  },
  {
   "cell_type": "code",
   "execution_count": null,
   "metadata": {},
   "outputs": [],
   "source": [
    "plant_to_explore = 58380"
   ]
  },
  {
   "cell_type": "code",
   "execution_count": null,
   "metadata": {},
   "outputs": [],
   "source": [
    "egrid_plant[egrid_plant['plant_id_eia'] == plant_to_explore]"
   ]
  },
  {
   "cell_type": "code",
   "execution_count": null,
   "metadata": {},
   "outputs": [],
   "source": [
    "plant_annual_total[plant_annual_total['plant_id_eia'] == plant_to_explore]"
   ]
  },
  {
   "cell_type": "code",
   "execution_count": null,
   "metadata": {},
   "outputs": [],
   "source": [
    "eia923_allocated[eia923_allocated['plant_id_eia'] == plant_to_explore].sum()"
   ]
  },
  {
   "cell_type": "code",
   "execution_count": null,
   "metadata": {},
   "outputs": [],
   "source": [
    "cems_unit_monthly = cems.groupby(['plant_id_eia','unitid','report_date']).sum().reset_index()\n"
   ]
  },
  {
   "cell_type": "code",
   "execution_count": null,
   "metadata": {},
   "outputs": [],
   "source": [
    "cems_unit_monthly[cems_unit_monthly['plant_id_eia'] == plant_to_explore].sum()"
   ]
  },
  {
   "cell_type": "code",
   "execution_count": null,
   "metadata": {},
   "outputs": [],
   "source": [
    "cems[(cems['plant_id_eia'] == plant_to_explore) & (cems['operating_time_hours'] > 0)]"
   ]
  },
  {
   "cell_type": "code",
   "execution_count": null,
   "metadata": {},
   "outputs": [],
   "source": [
    "cems_plant_annual[cems_plant_annual['plant_id_eia'] == plant_to_explore]"
   ]
  },
  {
   "cell_type": "code",
   "execution_count": null,
   "metadata": {},
   "outputs": [],
   "source": [
    "# there are some plants that report heat input and co2 in CEMS, but are missing net generation data\n",
    "# TODO: we should maybe try and fill net generation data using EIA-923?\n",
    "cems_plant_annual[cems_plant_annual['net_generation_mwh'] == 0]"
   ]
  },
  {
   "cell_type": "markdown",
   "metadata": {},
   "source": [
    "## Explore BA Matching\n",
    "### Notes\n",
    "TEPC and SRP are off because the Gila River Generator is shared between SRP and TEPC, and eGRID reports all generation from this project belonging to TEPC"
   ]
  },
  {
   "cell_type": "code",
   "execution_count": null,
   "metadata": {},
   "outputs": [],
   "source": [
    "ba_plant_match = plant_annual_total[plant_annual_total['ba_code'].isna()].merge(egrid_plant[egrid_plant['ba_code'].isna()], how='left', on='plant_id_egrid', suffixes=(\"_calc\",'_egrid'))\n",
    "ba_plant_match[ba_plant_match['net_generation_mwh_calc'].round(0) != ba_plant_match['net_generation_mwh_egrid'].round(0)]"
   ]
  },
  {
   "cell_type": "code",
   "execution_count": null,
   "metadata": {},
   "outputs": [],
   "source": [
    "egrid_plant[egrid_plant['ba_code'] == 'CPLE']"
   ]
  },
  {
   "cell_type": "code",
   "execution_count": null,
   "metadata": {},
   "outputs": [],
   "source": [
    "compare_plants_in_ba = egrid_plant.merge(plant_annual_total, how='outer', on='plant_id_egrid', suffixes=('_egrid','_calc'))"
   ]
  },
  {
   "cell_type": "code",
   "execution_count": null,
   "metadata": {},
   "outputs": [],
   "source": [
    "ba = 'CPLE'\n",
    "metric = 'fuel_consumed_mmbtu'\n",
    "\n",
    "compare_plants_in_ba[((compare_plants_in_ba['ba_code_egrid'] == ba) | (compare_plants_in_ba['ba_code_calc'] == ba)) & (compare_plants_in_ba[f'{metric}_egrid'].round(0) != compare_plants_in_ba[f'{metric}_calc'].round(0))]"
   ]
  },
  {
   "cell_type": "code",
   "execution_count": null,
   "metadata": {},
   "outputs": [],
   "source": [
    "plant_annual_total[plant_annual_total['ba_code'] == 'AMPL']"
   ]
  }
 ],
 "metadata": {
  "interpreter": {
   "hash": "4103f3cd497821eca917ea303dbe10c590d787eb7d2dc3fd4e15dec0356e7931"
  },
  "kernelspec": {
   "display_name": "Python 3.9.12 ('hourly_egrid')",
   "language": "python",
   "name": "python3"
  },
  "language_info": {
   "codemirror_mode": {
    "name": "ipython",
    "version": 3
   },
   "file_extension": ".py",
   "mimetype": "text/x-python",
   "name": "python",
   "nbconvert_exporter": "python",
   "pygments_lexer": "ipython3",
   "version": "3.9.12"
  }
 },
 "nbformat": 4,
 "nbformat_minor": 2
}
