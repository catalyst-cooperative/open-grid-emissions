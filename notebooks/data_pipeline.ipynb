{
 "cells": [
  {
   "cell_type": "code",
   "execution_count": 1,
   "metadata": {},
   "outputs": [],
   "source": [
    "# Tell python where to look for modules. \n",
    "# Depending on how your jupyter handles working directories, this may not be needed.\n",
    "import sys\n",
    "sys.path.append('../../hourly-egrid/')\n",
    "\n",
    "# import the necessary packages\n",
    "%reload_ext autoreload\n",
    "%autoreload 2\n",
    "\n",
    "# import packages\n",
    "import os\n",
    "import requests\n",
    "import tarfile\n",
    "import sqlalchemy as sa\n",
    "from pathlib import Path\n",
    "import pandas as pd\n",
    "import plotly.express as px\n",
    "import numpy as np\n",
    "import pudl.analysis.allocate_net_gen as allocate_gen_fuel\n",
    "\n",
    "import src.data_cleaning as data_cleaning\n",
    "import src.gross_to_net_generation as gross_to_net_generation\n",
    "import src.load_data as load_data\n",
    "import src.eia930 as eia930\n",
    "#import src.distribute_eia923 as distribute_eia923"
   ]
  },
  {
   "cell_type": "markdown",
   "metadata": {},
   "source": [
    "# Specify the year for analysis"
   ]
  },
  {
   "cell_type": "code",
   "execution_count": 2,
   "metadata": {},
   "outputs": [],
   "source": [
    "year = 2020"
   ]
  },
  {
   "cell_type": "markdown",
   "metadata": {},
   "source": [
    "# 1. Download data\n",
    "\n",
    " - Downloads the pre-cleaned PUDL versions of EIA-923, EIA-860, and EPA CEMS data  \n",
    " - Downloads EPA eGRID data  \n",
    " - Downloads EIA-930 data  \n",
    " - Downloads the EPA Power Sector Data Crosswalk\n",
    "\n",
    "TODO\n",
    "- [x] The code for downloading the files could probably be made into functions\n",
    "- [ ] Investigate other packages besides `requests` that would download these files faster"
   ]
  },
  {
   "cell_type": "code",
   "execution_count": 3,
   "metadata": {},
   "outputs": [
    {
     "name": "stdout",
     "output_type": "stream",
     "text": [
      "PUDL data already downloaded\n",
      "egrid2019_data.xlsx already downloaded\n",
      "egrid2020_data.xlsx already downloaded\n",
      "2020_Jan_Jun data already downloaded\n",
      "2020_Jul_Dec data already downloaded\n",
      "EBA_elec.csv already downloaded\n",
      "EBA_raw.csv already downloaded\n",
      "epa_eia_crosswalk.csv already downloaded\n"
     ]
    }
   ],
   "source": [
    "############### PUDL Database ######################\n",
    "\n",
    "load_data.download_pudl_data(zenodo_url = 'https://zenodo.org/record/6349861/files/pudl-v0.6.0-2022-03-12.tgz')\n",
    "\n",
    "################# eGRID data #########################\n",
    "\n",
    "# the 2019 and 2020 data appear to be hosted on different urls\n",
    "egrid_files_to_download = ['https://www.epa.gov/sites/default/files/2021-02/egrid2019_data.xlsx', \n",
    "                           'https://www.epa.gov/system/files/documents/2022-01/egrid2020_data.xlsx']\n",
    "\n",
    "load_data.download_egrid_files(egrid_files_to_download)\n",
    "\n",
    "############# EIA-930 data #####################\n",
    "\n",
    "load_data.download_eia930_data(years_to_download=[year])\n",
    "load_data.download_chalendar_files()\n",
    "\n",
    "########## Power Sector Data Crosswalk #############\n",
    "# NOTE: Check for new releases at https://github.com/USEPA/camd-eia-crosswalk\n",
    "\n",
    "load_data.download_epa_psdc(psdc_url='https://github.com/USEPA/camd-eia-crosswalk/releases/download/v0.2.1/epa_eia_crosswalk.csv')\n"
   ]
  },
  {
   "cell_type": "markdown",
   "metadata": {},
   "source": [
    "# 1. Clean EIA-923 Generation and Fuel Data at the Monthly Level"
   ]
  },
  {
   "cell_type": "code",
   "execution_count": 4,
   "metadata": {},
   "outputs": [
    {
     "name": "stdout",
     "output_type": "stream",
     "text": [
      "Removing 0 plants that are not grid-connected\n",
      "Removing 0 plants located in the following states: ['PR']\n"
     ]
    },
    {
     "data": {
      "text/html": [
       "<div>\n",
       "<style scoped>\n",
       "    .dataframe tbody tr th:only-of-type {\n",
       "        vertical-align: middle;\n",
       "    }\n",
       "\n",
       "    .dataframe tbody tr th {\n",
       "        vertical-align: top;\n",
       "    }\n",
       "\n",
       "    .dataframe thead th {\n",
       "        text-align: right;\n",
       "    }\n",
       "</style>\n",
       "<table border=\"1\" class=\"dataframe\">\n",
       "  <thead>\n",
       "    <tr style=\"text-align: right;\">\n",
       "      <th></th>\n",
       "      <th>report_date</th>\n",
       "      <th>plant_id_eia</th>\n",
       "      <th>generator_id</th>\n",
       "      <th>net_generation_mwh</th>\n",
       "      <th>fuel_consumed_mmbtu</th>\n",
       "      <th>fuel_consumed_for_electricity_mmbtu</th>\n",
       "      <th>co2_mass_tons</th>\n",
       "      <th>co2_mass_tons_adjusted</th>\n",
       "      <th>energy_source_code</th>\n",
       "      <th>plant_primary_fuel</th>\n",
       "      <th>ba_code</th>\n",
       "      <th>ba_code_physical</th>\n",
       "      <th>state</th>\n",
       "    </tr>\n",
       "  </thead>\n",
       "  <tbody>\n",
       "    <tr>\n",
       "      <th>0</th>\n",
       "      <td>2020-01-01</td>\n",
       "      <td>1</td>\n",
       "      <td>1</td>\n",
       "      <td>NaN</td>\n",
       "      <td>NaN</td>\n",
       "      <td>NaN</td>\n",
       "      <td>NaN</td>\n",
       "      <td>NaN</td>\n",
       "      <td>DFO</td>\n",
       "      <td>WND</td>\n",
       "      <td>NaN</td>\n",
       "      <td>NaN</td>\n",
       "      <td>AK</td>\n",
       "    </tr>\n",
       "    <tr>\n",
       "      <th>1</th>\n",
       "      <td>2020-01-01</td>\n",
       "      <td>1</td>\n",
       "      <td>2</td>\n",
       "      <td>NaN</td>\n",
       "      <td>NaN</td>\n",
       "      <td>NaN</td>\n",
       "      <td>NaN</td>\n",
       "      <td>NaN</td>\n",
       "      <td>DFO</td>\n",
       "      <td>WND</td>\n",
       "      <td>NaN</td>\n",
       "      <td>NaN</td>\n",
       "      <td>AK</td>\n",
       "    </tr>\n",
       "    <tr>\n",
       "      <th>2</th>\n",
       "      <td>2020-01-01</td>\n",
       "      <td>1</td>\n",
       "      <td>3</td>\n",
       "      <td>NaN</td>\n",
       "      <td>NaN</td>\n",
       "      <td>NaN</td>\n",
       "      <td>NaN</td>\n",
       "      <td>NaN</td>\n",
       "      <td>DFO</td>\n",
       "      <td>WND</td>\n",
       "      <td>NaN</td>\n",
       "      <td>NaN</td>\n",
       "      <td>AK</td>\n",
       "    </tr>\n",
       "    <tr>\n",
       "      <th>3</th>\n",
       "      <td>2020-01-01</td>\n",
       "      <td>1</td>\n",
       "      <td>5</td>\n",
       "      <td>NaN</td>\n",
       "      <td>NaN</td>\n",
       "      <td>NaN</td>\n",
       "      <td>NaN</td>\n",
       "      <td>NaN</td>\n",
       "      <td>DFO</td>\n",
       "      <td>WND</td>\n",
       "      <td>NaN</td>\n",
       "      <td>NaN</td>\n",
       "      <td>AK</td>\n",
       "    </tr>\n",
       "    <tr>\n",
       "      <th>4</th>\n",
       "      <td>2020-01-01</td>\n",
       "      <td>1</td>\n",
       "      <td>WT1</td>\n",
       "      <td>15.1585</td>\n",
       "      <td>133.0</td>\n",
       "      <td>133.0</td>\n",
       "      <td>0.0</td>\n",
       "      <td>0.0</td>\n",
       "      <td>WND</td>\n",
       "      <td>WND</td>\n",
       "      <td>NaN</td>\n",
       "      <td>NaN</td>\n",
       "      <td>AK</td>\n",
       "    </tr>\n",
       "    <tr>\n",
       "      <th>...</th>\n",
       "      <td>...</td>\n",
       "      <td>...</td>\n",
       "      <td>...</td>\n",
       "      <td>...</td>\n",
       "      <td>...</td>\n",
       "      <td>...</td>\n",
       "      <td>...</td>\n",
       "      <td>...</td>\n",
       "      <td>...</td>\n",
       "      <td>...</td>\n",
       "      <td>...</td>\n",
       "      <td>...</td>\n",
       "      <td>...</td>\n",
       "    </tr>\n",
       "    <tr>\n",
       "      <th>286693</th>\n",
       "      <td>2020-12-01</td>\n",
       "      <td>64816</td>\n",
       "      <td>GEN1</td>\n",
       "      <td>NaN</td>\n",
       "      <td>NaN</td>\n",
       "      <td>NaN</td>\n",
       "      <td>NaN</td>\n",
       "      <td>NaN</td>\n",
       "      <td>NG</td>\n",
       "      <td>NG</td>\n",
       "      <td>ERCO</td>\n",
       "      <td>ERCO</td>\n",
       "      <td>TX</td>\n",
       "    </tr>\n",
       "    <tr>\n",
       "      <th>286694</th>\n",
       "      <td>2020-12-01</td>\n",
       "      <td>64816</td>\n",
       "      <td>GEN2</td>\n",
       "      <td>NaN</td>\n",
       "      <td>NaN</td>\n",
       "      <td>NaN</td>\n",
       "      <td>NaN</td>\n",
       "      <td>NaN</td>\n",
       "      <td>NG</td>\n",
       "      <td>NG</td>\n",
       "      <td>ERCO</td>\n",
       "      <td>ERCO</td>\n",
       "      <td>TX</td>\n",
       "    </tr>\n",
       "    <tr>\n",
       "      <th>286695</th>\n",
       "      <td>2020-12-01</td>\n",
       "      <td>64816</td>\n",
       "      <td>GEN3</td>\n",
       "      <td>NaN</td>\n",
       "      <td>NaN</td>\n",
       "      <td>NaN</td>\n",
       "      <td>NaN</td>\n",
       "      <td>NaN</td>\n",
       "      <td>NG</td>\n",
       "      <td>NG</td>\n",
       "      <td>ERCO</td>\n",
       "      <td>ERCO</td>\n",
       "      <td>TX</td>\n",
       "    </tr>\n",
       "    <tr>\n",
       "      <th>286696</th>\n",
       "      <td>2020-12-01</td>\n",
       "      <td>64836</td>\n",
       "      <td>CATAL</td>\n",
       "      <td>NaN</td>\n",
       "      <td>NaN</td>\n",
       "      <td>NaN</td>\n",
       "      <td>NaN</td>\n",
       "      <td>NaN</td>\n",
       "      <td>SUN</td>\n",
       "      <td>SUN</td>\n",
       "      <td>CISO</td>\n",
       "      <td>LDWP</td>\n",
       "      <td>CA</td>\n",
       "    </tr>\n",
       "    <tr>\n",
       "      <th>286697</th>\n",
       "      <td>2020-12-01</td>\n",
       "      <td>64837</td>\n",
       "      <td>MARIN</td>\n",
       "      <td>NaN</td>\n",
       "      <td>NaN</td>\n",
       "      <td>NaN</td>\n",
       "      <td>NaN</td>\n",
       "      <td>NaN</td>\n",
       "      <td>SUN</td>\n",
       "      <td>SUN</td>\n",
       "      <td>CISO</td>\n",
       "      <td>LDWP</td>\n",
       "      <td>CA</td>\n",
       "    </tr>\n",
       "  </tbody>\n",
       "</table>\n",
       "<p>286698 rows × 13 columns</p>\n",
       "</div>"
      ],
      "text/plain": [
       "       report_date  plant_id_eia generator_id  net_generation_mwh  fuel_consumed_mmbtu  fuel_consumed_for_electricity_mmbtu  co2_mass_tons  co2_mass_tons_adjusted energy_source_code plant_primary_fuel ba_code ba_code_physical state\n",
       "0       2020-01-01             1            1                 NaN                  NaN                                  NaN            NaN                     NaN                DFO                WND     NaN              NaN    AK\n",
       "1       2020-01-01             1            2                 NaN                  NaN                                  NaN            NaN                     NaN                DFO                WND     NaN              NaN    AK\n",
       "2       2020-01-01             1            3                 NaN                  NaN                                  NaN            NaN                     NaN                DFO                WND     NaN              NaN    AK\n",
       "3       2020-01-01             1            5                 NaN                  NaN                                  NaN            NaN                     NaN                DFO                WND     NaN              NaN    AK\n",
       "4       2020-01-01             1          WT1             15.1585                133.0                                133.0            0.0                     0.0                WND                WND     NaN              NaN    AK\n",
       "...            ...           ...          ...                 ...                  ...                                  ...            ...                     ...                ...                ...     ...              ...   ...\n",
       "286693  2020-12-01         64816         GEN1                 NaN                  NaN                                  NaN            NaN                     NaN                 NG                 NG    ERCO             ERCO    TX\n",
       "286694  2020-12-01         64816         GEN2                 NaN                  NaN                                  NaN            NaN                     NaN                 NG                 NG    ERCO             ERCO    TX\n",
       "286695  2020-12-01         64816         GEN3                 NaN                  NaN                                  NaN            NaN                     NaN                 NG                 NG    ERCO             ERCO    TX\n",
       "286696  2020-12-01         64836        CATAL                 NaN                  NaN                                  NaN            NaN                     NaN                SUN                SUN    CISO             LDWP    CA\n",
       "286697  2020-12-01         64837        MARIN                 NaN                  NaN                                  NaN            NaN                     NaN                SUN                SUN    CISO             LDWP    CA\n",
       "\n",
       "[286698 rows x 13 columns]"
      ]
     },
     "execution_count": 4,
     "metadata": {},
     "output_type": "execute_result"
    }
   ],
   "source": [
    "# Distribute net generation and heat input data reported by the three different EIA-923 tables\n",
    "# NOTE: this code allocates net generation based on the proportion of net generation reported, rather than by nameplate capacity (which eGRID does)\n",
    "\n",
    "# TODO: fix allocation of net generation when reported net generation is negative?\n",
    "\n",
    "pudl_out = load_data.initialize_pudl_out(year=2020)\n",
    "\n",
    "# allocate net generation and heat input to each generator-fuel grouping\n",
    "gen_fuel_allocated = allocate_gen_fuel.allocate_gen_fuel_by_generator_energy_source(pudl_out, drop_interim_cols=True)\n",
    "\n",
    "# create a table that identifies the primary fuel of each generator and plant\n",
    "primary_fuel_table = data_cleaning.create_primary_fuel_table(gen_fuel_allocated)\n",
    "\n",
    "# calculate co2 emissions for each generator-fuel based on allocated fuel consumption\n",
    "gen_fuel_allocated = data_cleaning.calculate_co2_from_fuel_consumption(gen_fuel_allocated, year)\n",
    "\n",
    "# aggregate the allocated data to the generator level\n",
    "gen_fuel_allocated = allocate_gen_fuel.agg_by_generator(gen_fuel_allocated, \n",
    "                                                        sum_cols=[\"net_generation_mwh\", \n",
    "                                                                  \"fuel_consumed_mmbtu\",\n",
    "                                                                  \"fuel_consumed_for_electricity_mmbtu\",\n",
    "                                                                  \"co2_mass_tons\",\n",
    "                                                                  \"co2_mass_tons_adjusted\"])\n",
    "\n",
    "# merge the primary fuel information into the allocated data\n",
    "gen_fuel_allocated = gen_fuel_allocated.merge(primary_fuel_table, how='left', on=['plant_id_eia','generator_id'])\n",
    "\n",
    "# remove any plants that we don't want in the data\n",
    "gen_fuel_allocated = data_cleaning.remove_plants(gen_fuel_allocated, \n",
    "                                                 non_grid_connected=True, \n",
    "                                                 remove_states=['PR'],\n",
    "                                                 steam_only_plants=False,\n",
    "                                                 distribution_connected_plants=False)\n",
    "\n",
    "gen_fuel_allocated = data_cleaning.assign_ba_code_to_plant(gen_fuel_allocated, year)\n",
    "\n",
    "gen_fuel_allocated"
   ]
  },
  {
   "cell_type": "markdown",
   "metadata": {},
   "source": [
    "# 2. Clean Hourly Data from CEMS\n",
    "There are three broad categories of plants based on their CAMD reporting status:\n",
    "1. Units that report to CAMD year-round (for these plants, emissions data is used directly from CEMS)\n",
    "2. Units that only report to CAMD during the ozone season (May-Sept) (for these units, non-ozone season data is taken from EIA 923)\n",
    "3. Units that do not report to CAMD (generally fossil units < 25MW and non-fossil generators)\n",
    "\n",
    "There are also certain plants that report to CAMD but do not procuce electricty for the grid, and need to be removed from the CEMS data:\n",
    "- Non grid connected plants\n",
    "- Steam-only plants\n"
   ]
  },
  {
   "cell_type": "code",
   "execution_count": null,
   "metadata": {},
   "outputs": [],
   "source": [
    "# NOTE: all of the functions in this section could be run by calling clean_cems()\n",
    "cems = data_cleaning.clean_cems(year)"
   ]
  },
  {
   "cell_type": "code",
   "execution_count": null,
   "metadata": {},
   "outputs": [],
   "source": [
    "## DATA CLEANING ##\n",
    "# identify which units are still missing a fuel type assignment\n",
    "# NOTE: we will need to fix this before matching to EIA-930 data\n",
    "# however, we should create a plant_primary_fuel column, which might be different than the unit-specific primary fuel\n",
    "cems[cems['energy_source_code'].isnull()]['cems_id'].unique()"
   ]
  },
  {
   "cell_type": "code",
   "execution_count": null,
   "metadata": {},
   "outputs": [],
   "source": [
    "# flag any generator-months for which we already have cems data\n",
    "# NOTE: there is still an issue identifying for which generators we have cems data because of incomplete mapping\n",
    "#gen_fuel_allocated = gen_fuel_allocated.drop(columns=['data_source'])\n",
    "gen_fuel_allocated = data_cleaning.identify_emissions_data_source(cems, gen_fuel_allocated, year)\n",
    "\n",
    "# create a separate dataframe containing only the generators for which we do not have CEMS data\n",
    "monthly_eia_data_to_distribute = gen_fuel_allocated[(gen_fuel_allocated['data_source'] == 'eia_only') & ~(gen_fuel_allocated['fuel_consumed_mmbtu'].isna())]\n",
    "\n",
    "# what percent of generators are in CEMS vs not\n",
    "(gen_fuel_allocated.groupby('data_source').sum() / gen_fuel_allocated.groupby('data_source').sum().sum(axis=0)).round(3)"
   ]
  },
  {
   "cell_type": "code",
   "execution_count": null,
   "metadata": {},
   "outputs": [],
   "source": [
    "# convert hourly gross generation to net generation\n",
    "#cems = cems.drop(columns=['net_generation_mwh','gross_to_net_ratio','net_gen_method'])\n",
    "cems = data_cleaning.convert_gross_to_net_generation(cems, gen_fuel_allocated)\n",
    "\n",
    "# for generators where there is heat input but no gross generation reported, impute hourly net generation based on reported EIA values\n",
    "# TODO: Maybe remove this \n",
    "cems = data_cleaning.impute_missing_hourly_net_generation(cems, gen_fuel_allocated)\n",
    "\n",
    "# what percent of net generation was allocated using each method?\n",
    "cems.groupby('net_gen_method', dropna=False).sum()['net_generation_mwh'] / cems['net_generation_mwh'].sum()"
   ]
  },
  {
   "cell_type": "code",
   "execution_count": null,
   "metadata": {},
   "outputs": [],
   "source": [
    "# add information that we need to aggregate the data and match to eia930\n",
    "#cems = cems.drop(columns=['ba_code','ba_code_physical','state'])\n",
    "#cems = cems.drop(columns=['distribution_flag'])\n",
    "#cems = cems.drop(columns=['plant_primary_fuel'])\n",
    "\n",
    "cems = data_cleaning.assign_ba_code_to_plant(cems, year)\n",
    "\n",
    "# add a flag about whether the plant is distribution connected\n",
    "cems = data_cleaning.identify_distribution_connected_plants(cems, year, voltage_threshold_kv=60)\n",
    "\n",
    "# add a plant primary fuel and a fuel category for eia930\n",
    "cems = cems.merge(primary_fuel_table.drop_duplicates(subset='plant_id_eia')[['plant_id_eia','plant_primary_fuel']], how='left', on='plant_id_eia')\n",
    "cems = data_cleaning.assign_fuel_category_to_ESC(cems, fuel_category_name='fuel_group_eia930', esc_column='plant_primary_fuel')\n",
    "cems = cems.rename(columns={'fuel_category':'fuel_category_eia930'})"
   ]
  },
  {
   "cell_type": "code",
   "execution_count": null,
   "metadata": {},
   "outputs": [],
   "source": [
    "cems.head(5)"
   ]
  },
  {
   "cell_type": "markdown",
   "metadata": {},
   "source": [
    "# Assign monthly data to hourly profile\n",
    "We now, in theory, have complete data on national-level heat input, net generation, and emissions, from a combination of two sources:\n",
    "    1. hourly data from CEMS\n",
    "    2. momthly data for generators that don't report to CEMS\n",
    "\n",
    "For the second category of monthly data, we need to figure out how to allocate the monthly level data to each hour. "
   ]
  },
  {
   "cell_type": "code",
   "execution_count": null,
   "metadata": {},
   "outputs": [],
   "source": [
    "fuel_group_name = 'fuel_group_custom'\n",
    "energy_source_groups = pd.read_csv('../data/manual/energy_source_groups.csv')[['energy_source_code',fuel_group_name]].rename(columns={fuel_group_name:'fuel_category'})\n",
    "# assign a fuel category to the monthly eia data\n",
    "monthly_eia_data_to_distribute = monthly_eia_data_to_distribute.merge(energy_source_groups[['energy_source_code','fuel_category']], how='left', on='energy_source_code')"
   ]
  },
  {
   "cell_type": "code",
   "execution_count": null,
   "metadata": {},
   "outputs": [],
   "source": [
    "hourly_profiles = eia930.load_chalendar_for_pipeline(year)"
   ]
  },
  {
   "cell_type": "code",
   "execution_count": null,
   "metadata": {},
   "outputs": [],
   "source": [
    "hourly_profiles"
   ]
  },
  {
   "cell_type": "code",
   "execution_count": null,
   "metadata": {},
   "outputs": [],
   "source": [
    "# for fuel categories that exist in the EIA data but not in EIA-930, create flat profiles to add to the hourly profiles from 930\n",
    "ba_list = list(monthly_eia_data_to_distribute['ba_code'].dropna().unique())\n",
    "\n",
    "# create an hourly datetime series in local time for each ba/fuel type\n",
    "hourly_profiles_to_add = []\n",
    "\n",
    "# for each ba\n",
    "for ba in ba_list:\n",
    "    # get a list of fuels categories that exist in that BA\n",
    "    ba_fuel_list = list(monthly_eia_data_to_distribute.loc[monthly_eia_data_to_distribute['ba_code'] == ba,'fuel_category'].unique())\n",
    "    for fuel in ba_fuel_list:\n",
    "        # if there is no data for that fuel type in the eia930 data, create a flat profile\n",
    "        if len(hourly_profiles[(hourly_profiles['ba_code'] == ba) & (hourly_profiles['fuel_category'] == fuel)]) == 0:\n",
    "            # create a dataframe\n",
    "            df_temp = pd.DataFrame(index=pd.date_range(start=f'{year-1}-12-31 00:00:00', end=f'{year+1}-01-01 23:00:00', freq='H', tz='UTC', name='datetime_utc'),\n",
    "                                    columns=['ba_code','fuel_category']).reset_index()                  \n",
    "            df_temp['ba_code'] = ba\n",
    "            df_temp['fuel_category'] = fuel\n",
    "            df_temp['net_generation_mwh_930'] = 1.0\n",
    "            df_temp['datetime_local'] = df_temp['datetime_utc']\n",
    "            df_temp['datetime_local'] = df_temp['datetime_utc'].dt.tz_convert(data_cleaning.ba_timezone(ba, 'GMT'))\n",
    "            # create a report date column\n",
    "            df_temp['report_date'] = df_temp['datetime_local'].astype(str).str[:7]\n",
    "            df_temp['report_date'] = pd.to_datetime(df_temp['report_date'])\n",
    "            hourly_profiles_to_add.append(df_temp)\n",
    "\n",
    "hourly_profiles_to_add = pd.concat(hourly_profiles_to_add, axis=0, ignore_index=True)"
   ]
  },
  {
   "cell_type": "code",
   "execution_count": null,
   "metadata": {},
   "outputs": [],
   "source": [
    "# concat the flat profiles to the hourly profiles\n",
    "hourly_profiles = pd.concat([hourly_profiles,hourly_profiles_to_add], axis=0)"
   ]
  },
  {
   "cell_type": "code",
   "execution_count": null,
   "metadata": {},
   "outputs": [],
   "source": [
    "hourly_eia_data = data_cleaning.distribute_monthly_eia_data_to_hourly(monthly_eia_data_to_distribute, hourly_profiles)"
   ]
  },
  {
   "cell_type": "markdown",
   "metadata": {},
   "source": [
    "# Output data \n",
    "\n",
    "Save data to a CSV so we can separate generation of and analysis of hourly e-grid numbers"
   ]
  },
  {
   "cell_type": "code",
   "execution_count": null,
   "metadata": {},
   "outputs": [],
   "source": [
    "# assign a fuel group to each observation in CEMS\n",
    "cems_ba_fuel = cems.merge(energy_source_groups[['energy_source_code','fuel_category']], how='left', on='energy_source_code')\n",
    "\n",
    "# rename the datetime_utc column\n",
    "cems_ba_fuel = cems_ba_fuel.rename(columns={'operating_datetime_utc':'datetime_utc'})\n",
    "\n",
    "# aggregate cems data by BA and fuel type\n",
    "cems_ba_fuel = cems_ba_fuel.groupby(['ba_code','fuel_category','datetime_utc']).sum()[['gross_generation_mwh','net_generation_mwh','fuel_consumed_mmbtu','co2_mass_tons','co2_mass_tons_adjusted']].reset_index()\n",
    "cems_ba_fuel['data_source'] = 'CEMS'"
   ]
  },
  {
   "cell_type": "code",
   "execution_count": null,
   "metadata": {},
   "outputs": [],
   "source": [
    "combined_data = pd.concat([cems_ba_fuel, hourly_eia_data.drop(columns=['datetime_local','net_generation_mwh_930','report_date'])], axis=0)\n",
    "# calculate a produced emission rate\n",
    "combined_data['co2_rate_lb_per_mwh_generated'] = (combined_data['co2_mass_tons'] * 2000 / combined_data['net_generation_mwh']).fillna(0).replace(np.inf, np.NaN)\n",
    "combined_data"
   ]
  },
  {
   "cell_type": "code",
   "execution_count": null,
   "metadata": {},
   "outputs": [],
   "source": [
    "ba = 'CISO'\n",
    "data = 'net_generation_mwh'\n",
    "\n",
    "fuel_color = {'natural_gas':'sienna',\n",
    "              'coal':'black',\n",
    "              'nuclear':'red',\n",
    "              'biomass':'green',\n",
    "              'geothermal':'orange',\n",
    "              'wind':'blue',\n",
    "              'solar':'gold',\n",
    "              'petroleum':'purple',\n",
    "              'hydro':'skyblue',\n",
    "              'other':'lightgrey',\n",
    "              'waste':'pink'}\n",
    "\n",
    "fuel_order = ['nuclear','geothermal','hydro','other','coal','biomass','petroleum','waste','solar','wind','natural_gas']\n",
    "\n",
    "data_to_graph = combined_data[combined_data['ba_code'] == ba]\n",
    "#data_to_graph = data_to_graph.groupby(['datetime_utc','fuel_category','data_source']).sum().reset_index()\n",
    "\n",
    "\n",
    "px.area(data_to_graph, \n",
    "        x='datetime_utc', \n",
    "        y=data, \n",
    "        color='fuel_category', \n",
    "        color_discrete_map=fuel_color, \n",
    "        facet_col='data_source', \n",
    "        template='plotly_white',\n",
    "        title=f'Hourly generation data for {ba} by fuel type',\n",
    "        category_orders={'fuel_category':fuel_order}).update_traces(line={'width':0})"
   ]
  },
  {
   "cell_type": "code",
   "execution_count": null,
   "metadata": {},
   "outputs": [],
   "source": [
    "ba = 'CISO'\n",
    "data = 'co2_mass_tons'\n",
    "\n",
    "fuel_color = {'natural_gas':'sienna',\n",
    "              'coal':'black',\n",
    "              'nuclear':'red',\n",
    "              'biomass':'green',\n",
    "              'geothermal':'orange',\n",
    "              'wind':'blue',\n",
    "              'solar':'gold',\n",
    "              'petroleum':'purple',\n",
    "              'hydro':'skyblue',\n",
    "              'other':'lightgrey',\n",
    "              'waste':'pink'}\n",
    "\n",
    "fuel_order = ['nuclear','geothermal','hydro','other','coal','biomass','natural_gas','petroleum','waste','solar','wind']\n",
    "\n",
    "data_to_graph = combined_data[combined_data['ba_code'] == ba]\n",
    "#data_to_graph = data_to_graph.groupby(['datetime_utc','fuel_category','data_source']).sum().reset_index()\n",
    "\n",
    "\n",
    "px.area(data_to_graph, \n",
    "        x='datetime_utc', \n",
    "        y=data, \n",
    "        color='fuel_category', \n",
    "        color_discrete_map=fuel_color, \n",
    "        facet_col='data_source', \n",
    "        template='plotly_white',\n",
    "        title=f'Hourly data for {ba} by fuel type',\n",
    "        category_orders={'fuel_category':fuel_order}).update_traces(line={'width':0})"
   ]
  },
  {
   "cell_type": "code",
   "execution_count": null,
   "metadata": {},
   "outputs": [],
   "source": [
    "ba = 'MISO'\n",
    "data = 'co2_rate_lb_per_mwh_generated'\n",
    "\n",
    "fuel_color = {'natural_gas':'sienna',\n",
    "              'coal':'black',\n",
    "              'nuclear':'red',\n",
    "              'biomass':'green',\n",
    "              'geothermal':'orange',\n",
    "              'wind':'blue',\n",
    "              'solar':'gold',\n",
    "              'petroleum':'purple',\n",
    "              'hydro':'skyblue',\n",
    "              'other':'lightgrey',\n",
    "              'waste':'pink'}\n",
    "\n",
    "fuel_order = ['nuclear','coal','natural_gas','petroleum','other','waste','biomass','geothermal','hydro','solar','wind']\n",
    "\n",
    "data_to_graph = combined_data[combined_data['ba_code'] == ba]\n",
    "#data_to_graph = data_to_graph.groupby(['datetime_utc','fuel_category','data_source']).sum().reset_index()\n",
    "\n",
    "\n",
    "px.line(data_to_graph, \n",
    "        x='datetime_utc', \n",
    "        y=data, \n",
    "        color='fuel_category', \n",
    "        color_discrete_map=fuel_color, \n",
    "        facet_col='data_source', \n",
    "        template='plotly_white',\n",
    "        title=f'Hourly data for {ba} by fuel type',\n",
    "        category_orders={'fuel_category':fuel_order})"
   ]
  },
  {
   "cell_type": "markdown",
   "metadata": {},
   "source": [
    "# Data Quality Metrics"
   ]
  },
  {
   "cell_type": "markdown",
   "metadata": {},
   "source": [
    "### Compare monthly totals for each plant from each data source"
   ]
  },
  {
   "cell_type": "code",
   "execution_count": null,
   "metadata": {},
   "outputs": [],
   "source": [
    "# TODO: Compare the data reported by both sources\n",
    "# for plants where there is data reported in cems, see how off it is from data reported in eia\n",
    "cems_plant_monthly = cems.groupby(['plant_id_eia','report_date']).sum()[['gross_generation_mwh','net_generation_mwh','fuel_consumed_mmbtu','co2_mass_tons']].reset_index()\n",
    "gf_plant_monthly = gen_fuel_allocated.groupby(['plant_id_eia','report_date']).sum().reset_index()\n",
    "gf_plant_monthly = gf_plant_monthly.merge(cems_plant_monthly, how='inner', on=['plant_id_eia','report_date'], suffixes=(\"_eia\",'_cems'))\n",
    "\n",
    "gf_plant_monthly['pctdiff_gen'] = ((gf_plant_monthly['net_generation_mwh_cems'].replace(0,0.1) - gf_plant_monthly['net_generation_mwh_eia'].replace(0,0.1)) / gf_plant_monthly['net_generation_mwh_eia'].replace(0,0.1)).round(3)\n",
    "gf_plant_monthly['pctdiff_fuel'] = ((gf_plant_monthly['fuel_consumed_mmbtu_cems'].replace(0,0.1) - gf_plant_monthly['fuel_consumed_mmbtu_eia'].replace(0,0.1)) / gf_plant_monthly['fuel_consumed_mmbtu_eia'].replace(0,0.1)).round(3)\n",
    "gf_plant_monthly['pctdiff_co2'] = ((gf_plant_monthly['co2_mass_tons_cems'].replace(0,0.1) - gf_plant_monthly['co2_mass_tons_eia'].replace(0,0.1)) / gf_plant_monthly['co2_mass_tons_eia'].replace(0,0.1)).round(3)\n",
    "\n",
    "gf_plant_monthly.sort_values(by='pctdiff_gen')"
   ]
  },
  {
   "cell_type": "code",
   "execution_count": null,
   "metadata": {},
   "outputs": [],
   "source": [
    "# investigate single plants\n",
    "gf_plant_monthly[gf_plant_monthly['plant_id_eia'] == 55641]"
   ]
  },
  {
   "cell_type": "markdown",
   "metadata": {},
   "source": [
    "## Compare Our Results to eGRID"
   ]
  },
  {
   "cell_type": "code",
   "execution_count": null,
   "metadata": {},
   "outputs": [],
   "source": [
    "# Aggregate total calculated values\n",
    "###################################\n",
    "\n",
    "# combine cems and eia data\n",
    "cems_plant_annual = cems.groupby(['ba_code','state','plant_id_eia'], dropna=False).sum()[['net_generation_mwh','fuel_consumed_mmbtu','co2_mass_tons','co2_mass_tons_adjusted']].reset_index()\n",
    "eia_plant_annual = monthly_eia_data_to_distribute.groupby(['ba_code','state','plant_id_eia'], dropna=False).sum()[['net_generation_mwh','fuel_consumed_mmbtu','fuel_consumed_for_electricity_mmbtu','co2_mass_tons','co2_mass_tons_adjusted']].reset_index()\n",
    "\n",
    "plant_annual_total = pd.concat([cems_plant_annual,eia_plant_annual], axis=0)\n",
    "\n",
    "# group any plants that have records from both datasets\n",
    "plant_annual_total = plant_annual_total.groupby(['ba_code','state','plant_id_eia'], dropna=False).sum().reset_index()\n",
    "\n",
    "# For plants that have different EPA and EIA plant IDs, the plant ID in eGRID is usually the EPA ID, but sometimes the EIA ID\n",
    "# however, there are sometime 2 EIA IDs for a single eGRID ID, so we need to group the data in the EIA table by the egrid id\n",
    "# We need to update all of the egrid plant IDs to the EIA plant IDs\n",
    "egrid_crosswalk = pd.read_csv('../data/egrid/egrid_static_tables/2020/table_C5_crosswalk_of_EIA_ID_to_EPA_ID.csv')\n",
    "eia_to_egrid_id = dict(zip(list(egrid_crosswalk['plant_id_eia']), list(egrid_crosswalk['plant_id_egrid'])))\n",
    "egrid_to_eia_id = dict(zip(list(egrid_crosswalk['plant_id_egrid']), list(egrid_crosswalk['plant_id_eia'])))\n",
    "plant_annual_total['plant_id_egrid'] = plant_annual_total['plant_id_eia']\n",
    "plant_annual_total['plant_id_egrid'].update(plant_annual_total['plant_id_egrid'].map(eia_to_egrid_id))\n",
    "\n",
    "# Load the eGRID plant table\n",
    "############################\n",
    "\n",
    "# load plant level data from egrid\n",
    "egrid_plant = pd.read_excel(f'../data/egrid/egrid{year}_data.xlsx', \n",
    "                            sheet_name=f'PLNT{str(year)[-2:]}', \n",
    "                            header=1, \n",
    "                            usecols=['BACODE','PSTATABB', 'PLPRMFL','ORISPL', 'PNAME','PLGENATN', 'PLGENATR', 'PLHTIANT','UNCO2','UNHTIT','PLCO2AN'])\n",
    "# calculate total net generation from reported renewable and nonrenewable generation\n",
    "egrid_plant['net_generation_mwh'] = egrid_plant['PLGENATN'] + egrid_plant['PLGENATR']\n",
    "egrid_plant = egrid_plant.drop(columns=['PLGENATN', 'PLGENATR'])\n",
    "# rename the columns\n",
    "egrid_plant = egrid_plant.rename(columns={'BACODE':'ba_code',\n",
    "                                          'PSTATABB':'state',\n",
    "                                          'PLPRMFL':'energy_source_code',\n",
    "                                          'ORISPL':'plant_id_egrid',\n",
    "                                          'PNAME':'plant_name',\n",
    "                                          'UNHTIT':'fuel_consumed_mmbtu',\n",
    "                                          'PLHTIANT':'fuel_consumed_for_electricity_mmbtu',\n",
    "                                          'UNCO2':'co2_mass_tons',\n",
    "                                          'PLCO2AN':'co2_mass_tons_adjusted'})\n",
    "\n",
    "# if egrid has a missing value for co2 for a clean plant, replace with zero\n",
    "clean_fuels = ['SUN','MWH','WND', 'WAT','WH','PUR','NUC']\n",
    "egrid_plant.loc[egrid_plant['energy_source_code'].isin(clean_fuels), 'co2_mass_tons_adjusted'] = egrid_plant.loc[egrid_plant['energy_source_code'].isin(clean_fuels), 'co2_mass_tons_adjusted'].fillna(0)\n",
    "egrid_plant.loc[egrid_plant['energy_source_code'].isin(clean_fuels), 'co2_mass_tons'] = egrid_plant.loc[egrid_plant['energy_source_code'].isin(clean_fuels), 'co2_mass_tons'].fillna(0)\n",
    "\n",
    "# reorder the columns                                         \n",
    "egrid_plant = egrid_plant[['ba_code', 'state', 'plant_id_egrid', 'plant_name','energy_source_code', 'net_generation_mwh', 'fuel_consumed_mmbtu','fuel_consumed_for_electricity_mmbtu', 'co2_mass_tons', 'co2_mass_tons_adjusted']]\n",
    "\n",
    "# remove any plants that habe no reported data\n",
    "# NOTE: it seems that egrid includes a lot of proposed projects that are not yet operating, but just has missing data for them\n",
    "plants_with_no_data_in_egrid = list(egrid_plant[egrid_plant[['net_generation_mwh','fuel_consumed_mmbtu','fuel_consumed_for_electricity_mmbtu','co2_mass_tons','co2_mass_tons_adjusted']].sum(axis=1) == 0]['plant_id_egrid'])\n",
    "egrid_plant = egrid_plant[~egrid_plant['plant_id_egrid'].isin(plants_with_no_data_in_egrid)]\n",
    "\n",
    "# We also want to remove any plants that are located in Puerto Rico\n",
    "egrid_plant = egrid_plant[(egrid_plant['state'] != 'PR')]\n",
    "\n",
    "# create a column for eia id\n",
    "egrid_plant['plant_id_eia'] = egrid_plant['plant_id_egrid']\n",
    "egrid_plant['plant_id_eia'].update(egrid_plant['plant_id_eia'].map(egrid_to_eia_id))"
   ]
  },
  {
   "cell_type": "markdown",
   "metadata": {},
   "source": [
    "### Identify plants in eGRID missing from our results\n",
    "\n",
    "Note: none of these plants have any co2 emissions, so we will not focus on fixing this for now"
   ]
  },
  {
   "cell_type": "code",
   "execution_count": null,
   "metadata": {},
   "outputs": [],
   "source": [
    "# identify any plants that are in egrid but not our totals, and any plants that are in our totals, but not egrid\n",
    "plant_not_in_calc = list(set(egrid_plant['plant_id_eia'].unique()) - set(plant_annual_total['plant_id_eia'].unique()))\n",
    "plants_not_in_egrid = list(set(plant_annual_total['plant_id_egrid'].unique()) - set(egrid_plant['plant_id_egrid'].unique()))\n",
    "\n",
    "# Which plants are included in eGRID but are missing from our calculations?\n",
    "missing_from_calc = egrid_plant[egrid_plant['plant_id_egrid'].isin(plant_not_in_calc)]\n",
    "\n",
    "#missing_from_calc.to_csv('../data/temp/plants_missing_from_calcs.csv', index=False)\n",
    "\n",
    "# see if any of these plants are retired\n",
    "generators_eia860 = load_data.load_pudl_table('generators_eia860', year=year)\n",
    "missing_from_calc.merge(generators_eia860.groupby('plant_id_eia')['retirement_date'].unique().reset_index(), how='left', on='plant_id_eia')"
   ]
  },
  {
   "cell_type": "markdown",
   "metadata": {},
   "source": [
    "### Identify plants in our calculations that are missing from eGRID"
   ]
  },
  {
   "cell_type": "code",
   "execution_count": null,
   "metadata": {},
   "outputs": [],
   "source": [
    "# Which plants are in our calculations, but are missing from eGRID?\n",
    "plant_names = load_data.load_pudl_table('plants_entity_eia')[['plant_id_eia','plant_name_eia','sector_name_eia']]\n",
    "missing_from_egrid = plant_annual_total[plant_annual_total['plant_id_eia'].isin(plants_not_in_egrid)].merge(plant_names, how='left', on='plant_id_eia')\n",
    "\n",
    "missing_from_egrid"
   ]
  },
  {
   "cell_type": "code",
   "execution_count": null,
   "metadata": {},
   "outputs": [],
   "source": [
    "# how many of the plants missing from egrid have non-zero data\n",
    "missing_from_egrid[missing_from_egrid['fuel_consumed_mmbtu'] > 1]"
   ]
  },
  {
   "cell_type": "markdown",
   "metadata": {},
   "source": [
    "### Compare whether totals for plants with EPA IDs that differ from EIA IDs match"
   ]
  },
  {
   "cell_type": "code",
   "execution_count": null,
   "metadata": {},
   "outputs": [],
   "source": [
    "# identify where there is a single egrid plant id for multiple eia plant ids\n",
    "double_ids = plant_annual_total[plant_annual_total['plant_id_egrid'].duplicated(keep=False)]\n",
    "double_ids = double_ids.groupby('plant_id_egrid').sum()['net_generation_mwh'].reset_index() # focus on net generation for now\n",
    "# merge the egrid data\n",
    "double_ids = double_ids.merge(egrid_plant[['plant_id_egrid','net_generation_mwh']], how='left', on='plant_id_egrid', suffixes=('_calc','_egrid'))\n",
    "double_ids['percent_diff'] = ((double_ids['net_generation_mwh_calc'] - double_ids['net_generation_mwh_egrid']) / double_ids['net_generation_mwh_egrid']).round(3)\n",
    "double_ids"
   ]
  },
  {
   "cell_type": "markdown",
   "metadata": {},
   "source": [
    "### Identify plants where our BA assignment does not match eGRID"
   ]
  },
  {
   "cell_type": "code",
   "execution_count": null,
   "metadata": {},
   "outputs": [],
   "source": [
    "ba_code_match = egrid_plant.set_index('plant_id_eia')[['plant_name','ba_code']].merge(plant_annual_total.set_index('plant_id_eia')[['ba_code']], how='inner', left_index=True, right_index=True, suffixes=(\"_egrid\",'_calc'))\n",
    "\n",
    "# plants with missing ba code\n",
    "ba_code_match[(ba_code_match['ba_code_calc'].isna()) & ~(ba_code_match['ba_code_egrid'].isna())]"
   ]
  },
  {
   "cell_type": "code",
   "execution_count": null,
   "metadata": {},
   "outputs": [],
   "source": [
    "# plants with incorrect ba code\n",
    "ba_code_match[(ba_code_match['ba_code_calc'] != ba_code_match['ba_code_egrid']) & ~(ba_code_match['ba_code_calc'].isna())]"
   ]
  },
  {
   "cell_type": "markdown",
   "metadata": {},
   "source": [
    "## Identify where eGRID might be missing data\n",
    "It seems that there are quite a few generators where fuel consumption data is missing"
   ]
  },
  {
   "cell_type": "code",
   "execution_count": null,
   "metadata": {},
   "outputs": [],
   "source": [
    "# load the EIA generator fuel data\n",
    "IDX_PM_ESC = [\"report_date\", \"plant_id_eia\", \"energy_source_code\", \"prime_mover_code\"]\n",
    "gf = (pudl_out.gf_eia923().loc[:,IDX_PM_ESC + [\"net_generation_mwh\",\"fuel_consumed_mmbtu\",\"fuel_consumed_for_electricity_mmbtu\",],])\n",
    "\n",
    "# add egrid plant ids\n",
    "egrid_crosswalk = pd.read_csv('../data/egrid/egrid_static_tables/2020/table_C5_crosswalk_of_EIA_ID_to_EPA_ID.csv')\n",
    "eia_to_egrid_id = dict(zip(list(egrid_crosswalk['plant_id_eia']), list(egrid_crosswalk['plant_id_egrid'])))\n",
    "gf['plant_id_egrid'] = gf['plant_id_eia']\n",
    "gf['plant_id_egrid'].update(gf['plant_id_egrid'].map(eia_to_egrid_id))\n",
    "\n",
    "# calculate an annual total for each plant\n",
    "gf_total = gf.groupby(['plant_id_egrid']).sum().reset_index()\n",
    "\n",
    "# choose a metric to compare\n",
    "metric = 'fuel_consumed_mmbtu'\n",
    "\n",
    "egrid_eia_comparison = egrid_plant[['plant_id_egrid','plant_name','ba_code','energy_source_code',metric]].merge(gf_total[['plant_id_egrid',metric]], how='left', on='plant_id_egrid', suffixes=('_egrid','_eia923')).round(0)\n",
    "\n",
    "\n",
    "egrid_eia_comparison['difference'] = egrid_eia_comparison[f'{metric}_egrid'] - egrid_eia_comparison[f'{metric}_eia923']\n",
    "egrid_eia_comparison['percent_difference'] = (egrid_eia_comparison[f'{metric}_egrid'] - egrid_eia_comparison[f'{metric}_eia923']) / egrid_eia_comparison[f'{metric}_eia923']"
   ]
  },
  {
   "cell_type": "code",
   "execution_count": null,
   "metadata": {},
   "outputs": [],
   "source": [
    "# egrid seems to be missing fuel consumption data for most nuclear power plants\n",
    "missing_nuclear = egrid_eia_comparison[egrid_eia_comparison['energy_source_code'] == 'NUC']\n",
    "missing_nuclear.sum()"
   ]
  },
  {
   "cell_type": "code",
   "execution_count": null,
   "metadata": {},
   "outputs": [],
   "source": [
    "# where is egrid missing data?\n",
    "egrid_eia_comparison[(egrid_eia_comparison['percent_difference'] < -0.01) & (egrid_eia_comparison['energy_source_code'] != 'NUC')]"
   ]
  },
  {
   "cell_type": "code",
   "execution_count": null,
   "metadata": {},
   "outputs": [],
   "source": [
    "# how much emissions does this account for?\n",
    "# group by fuel code\n",
    "missing_emissions = egrid_eia_comparison[(egrid_eia_comparison['percent_difference'] < -0.01) & (egrid_eia_comparison['energy_source_code'] != 'NUC')].groupby('energy_source_code').sum().reset_index()\n",
    "\n",
    "# get emission factors\n",
    "emission_factors = load_data.load_emission_factors()[['energy_source_code', 'co2_tons_per_mmbtu']]\n",
    "missing_emissions = missing_emissions.merge(emission_factors, how='left', on='energy_source_code')\n",
    "missing_emissions['co2_mass_tons'] = missing_emissions['difference'] * missing_emissions['co2_tons_per_mmbtu']\n",
    "missing_emissions.sum()"
   ]
  },
  {
   "cell_type": "code",
   "execution_count": null,
   "metadata": {},
   "outputs": [],
   "source": [
    "egrid_plant.sum()"
   ]
  },
  {
   "cell_type": "markdown",
   "metadata": {},
   "source": [
    "## Plant Metric"
   ]
  },
  {
   "cell_type": "code",
   "execution_count": null,
   "metadata": {},
   "outputs": [],
   "source": [
    "# standardize column names and index so that the two dfs can be divided\n",
    "calculated_to_compare = plant_annual_total.groupby('plant_id_egrid').sum().drop(columns=['plant_id_eia'])\n",
    "\n",
    "# create an adjusted co2 column\n",
    "# TODO: remove this once we calculate adjusted emissions\n",
    "#calculated_to_compare['co2_mass_tons_adjusted'] = calculated_to_compare['co2_mass_tons']\n",
    "\n",
    "# drop the plants that have no data in eGRID\n",
    "egrid_plant = egrid_plant[~egrid_plant['plant_id_eia'].isin(plants_with_no_data_in_egrid)]\n",
    "\n",
    "egrid_to_compare = egrid_plant.set_index(['plant_id_egrid']).drop(columns=['ba_code','state','plant_name','plant_id_eia'])\n",
    "\n",
    "# divide calculated value by egrid value\n",
    "compared = calculated_to_compare.div(egrid_to_compare).merge(egrid_plant[['plant_id_egrid','plant_name','ba_code', 'state']], how='left', left_index=True, right_on='plant_id_egrid').set_index('plant_id_egrid')\n",
    "compared['plant_name'] = compared['plant_name'].fillna('unknown')\n",
    "\n",
    "# create a dataframe that merges the two sources of data together\n",
    "compared_merged = calculated_to_compare.merge(egrid_to_compare, how='outer', on='plant_id_egrid', suffixes=('_calc','_egrid'))\n",
    "\n",
    "# for each column, change missing values to zero if both values are zero (only nan b/c divide by zero)\n",
    "for col in ['net_generation_mwh','fuel_consumed_mmbtu','fuel_consumed_for_electricity_mmbtu','co2_mass_tons_adjusted','co2_mass_tons']:\n",
    "    # identify plants with zero values for both\n",
    "    plant_ids = list(compared_merged[(compared_merged[f'{col}_calc'] == 0) & (compared_merged[f'{col}_egrid'] == 0)].index)\n",
    "    compared.loc[compared.index.isin(plant_ids), col] = 1\n",
    "\n",
    "# for each column, categorize the data based on how far it is off from egrid\n",
    "for col in ['net_generation_mwh','fuel_consumed_mmbtu','fuel_consumed_for_electricity_mmbtu','co2_mass_tons_adjusted','co2_mass_tons']:\n",
    "    # add a new column\n",
    "    compared[f'{col}_status'] = pd.cut(x=compared[col], \n",
    "                                       bins=[-999999999,0,0.5,0.9,0.99,0.9999,1,1.0001,1.01,1.1,1.5,999999999], \n",
    "                                       labels=['negative','<50%','+/-50%','+/-10%','+/-1%','!exact','!exact','+/-1%','+/-10%','+/-50%','>50%'], \n",
    "                                       ordered=False)\n",
    "    # replace any missing values with missing\n",
    "    compared[f'{col}_status'] = compared[f'{col}_status'].astype(str)  \n",
    "    compared[f'{col}_status'] = compared[f'{col}_status'].fillna('missing')\n",
    "    compared[f'{col}_status'] = compared[f'{col}_status'].replace('nan','missing')\n",
    "    compared.loc[(compared.index.isin(plants_not_in_egrid)),f'{col}_status'] = 'not_in_egrid'\n",
    "\n",
    "# identify which plants are missing from egrid vs calculated values\n",
    "for col in ['net_generation_mwh','fuel_consumed_mmbtu','fuel_consumed_for_electricity_mmbtu','co2_mass_tons_adjusted','co2_mass_tons']:\n",
    "    # identify plants that are missing in egrid\n",
    "    plants_missing_egrid = list(compared_merged[(compared_merged[f'{col}_calc'] > 0) & (compared_merged[f'{col}_egrid'].isna())].index)\n",
    "    compared.loc[compared.index.isin(plants_missing_egrid), f'{col}_status'] = 'missing_in_egrid'\n",
    "    # identify plants that are missing from our calculations\n",
    "    plants_missing_calc = list(compared_merged[(compared_merged[f'{col}_calc'].isna()) & (compared_merged[f'{col}_egrid'] > 0)].index)\n",
    "    compared.loc[compared.index.isin(plants_missing_calc), f'{col}_status'] = 'missing_in_calc'\n",
    "    # identify where our calculations are missing a zero value\n",
    "    plants_missing_zero_calc = list(compared_merged[(compared_merged[f'{col}_calc'].isna()) & (compared_merged[f'{col}_egrid'] == 0)].index)\n",
    "    compared.loc[compared.index.isin(plants_missing_zero_calc), f'{col}_status'] = 'missing_zero_in_calc'\n",
    "    # identify where egrid has a missing value instead of a zero\n",
    "    plants_missing_zero_egrid = list(compared_merged[(compared_merged[f'{col}_calc'] == 0) & (compared_merged[f'{col}_egrid'].isna())].index)\n",
    "    compared.loc[compared.index.isin(plants_missing_zero_egrid), f'{col}_status'] = 'missing_zero_in_egrid'\n",
    "    # identify where egrid has a zero value where we have a positive value\n",
    "    plants_incorrect_zero_egrid = list(compared_merged[(compared_merged[f'{col}_calc'] > 0) & (compared_merged[f'{col}_egrid'] == 0)].index)\n",
    "    compared.loc[compared.index.isin(plants_incorrect_zero_egrid), f'{col}_status'] = '>50%'\n",
    "\n",
    "# create a dataframe that counts how many plants are in each category\n",
    "comparison_count = []\n",
    "for col in ['net_generation_mwh','fuel_consumed_mmbtu','fuel_consumed_for_electricity_mmbtu','co2_mass_tons_adjusted','co2_mass_tons']:\n",
    "    count = compared.groupby(f'{col}_status', dropna=False).count()['plant_name'].rename(col)\n",
    "    count.index = count.index.rename('status')\n",
    "    comparison_count.append(count)\n",
    "\n",
    "comparison_count = pd.concat(comparison_count, axis=1).fillna(0).astype(int)\n",
    "comparison_count = pd.concat([comparison_count, pd.DataFrame(comparison_count.sum().rename('Total')).T], axis=0)   \n",
    "comparison_count"
   ]
  },
  {
   "cell_type": "code",
   "execution_count": null,
   "metadata": {},
   "outputs": [],
   "source": [
    "print(comparison_count.to_markdown())"
   ]
  },
  {
   "cell_type": "markdown",
   "metadata": {},
   "source": [
    "## BA Metric"
   ]
  },
  {
   "cell_type": "code",
   "execution_count": null,
   "metadata": {},
   "outputs": [],
   "source": [
    "# load egrid BA totals\n",
    "\"\"\"egrid_ba = pd.read_excel(f'../data/egrid/egrid{year}_data.xlsx', sheet_name=f'BA{str(year)[-2:]}', header=1, usecols=['BANAME','BACODE','BAHTIANT','BANGENAN','BACO2AN'])\n",
    "# rename the columns\n",
    "egrid_ba = egrid_ba.rename(columns={'BANAME':'ba_name',\n",
    "                                    'BACODE':'ba_code',\n",
    "                                    'BAHTIANT':'fuel_consumed_mmbtu',\n",
    "                                    'BANGENAN':'net_generation_mwh',\n",
    "                                    'BACO2AN':'co2_mass_tons'})\"\"\"\n",
    "\n",
    "data_columns = ['net_generation_mwh','fuel_consumed_mmbtu','fuel_consumed_for_electricity_mmbtu','co2_mass_tons','co2_mass_tons_adjusted']\n",
    "\n",
    "#aggregate the plant data up to the BA level\n",
    "egrid_ba = egrid_plant.groupby(['ba_code']).sum()[data_columns].reset_index()\n",
    "\n",
    "# divide our calculation by the BA totals from eGRID\n",
    "# if there are 0 values, replace with 0.1, so that div by zero doesn't return missing value\n",
    "ba_metric = plant_annual_total.groupby('ba_code', dropna=False).sum().drop(columns='plant_id_eia').replace(0,0.1).div(egrid_ba.set_index('ba_code').replace(0,0.1)).sort_values(by='co2_mass_tons').round(3)\n",
    "\n",
    "total = pd.DataFrame(plant_annual_total[data_columns].sum().div(egrid_ba[data_columns].sum()).rename('Total')).T\n",
    "\n",
    "# calculate the difference in the number of plants in each region\n",
    "plant_count = (plant_annual_total.groupby('ba_code', dropna=False).count()['plant_id_egrid'] - egrid_plant.groupby('ba_code', dropna=False).count()['plant_id_egrid']).rename('num_plants')\n",
    "ba_metric = ba_metric.merge(plant_count, how='left', left_index=True, right_index=True).drop(columns=['plant_id_egrid']).sort_index()\n",
    "\n",
    "ba_metric = pd.concat([ba_metric, total], axis=0) \n",
    "\n",
    "ba_metric = ba_metric[data_columns + ['num_plants']]\n",
    "\n",
    "with pd.option_context('display.max_rows', None, 'display.max_columns', None):\n",
    "    display(ba_metric)"
   ]
  },
  {
   "cell_type": "code",
   "execution_count": null,
   "metadata": {},
   "outputs": [],
   "source": [
    "# how much co2 comes from CEMS vs EIA\n",
    "data_source_by_ba = pd.pivot_table(gen_fuel_allocated, values='co2_mass_tons', index='ba_code', columns='data_source', dropna=False, aggfunc=np.sum).replace(0,0.001)\n",
    "data_source_by_ba = data_source_by_ba.div(data_source_by_ba.sum(axis=1), axis=0)\n",
    "with pd.option_context('display.max_rows', None, 'display.max_columns', None):\n",
    "    display(data_source_by_ba.round(3).fillna(0).sort_values(by='cems'))"
   ]
  },
  {
   "cell_type": "code",
   "execution_count": null,
   "metadata": {},
   "outputs": [],
   "source": [
    "print(ba_metric.to_markdown())"
   ]
  },
  {
   "cell_type": "markdown",
   "metadata": {},
   "source": [
    "## Explore specific plants\n",
    "\n",
    "### Notes\n",
    "\n",
    "Net generation < 50%:\n",
    " - 2617 has negative net generation\n",
    " - 10444, 59395: some plants are hybrid fossil / solar plants, but the primary energy source code is getting listed as PV for certain generators, which is causing an issue\n",
    "\n",
    "Net generation > 50%:\n",
    " - 335 has two extra units (CT1 and CT2) that report to CEMS but not EIA. Likely correct\n",
    " - 7288 reports DFO to CEMS, but NG to EIA - there's probably some generators not reporting\n",
    " - 60698 double counting generation from cEMS because of 90% heat threhshold in a month - might be fixed once we tackle heat input\n",
    " - 58256 is a solar/hybrid and in generators_entity_eia the battery portion is associated with a separate generator id (should only be 1)\n",
    "\n",
    "\n",
    "Other:\n",
    " - plant 3754 has heat input in cems and eia that don't match\n",
    " - 2401 has generation in both cems and eia\n",
    " - 50933 might have allocation issue (doesn't appear in CEMS)\n",
    "\n",
    "To check\n",
    " - 1404 reports generation to CEMS in December, but not to EIA. This is likely correct\n",
    " - plant 2504 has three units (120, 121, 122) that don't appear in EIA, and in CEMS only report steam. \n",
    "\n",
    "Fuel > 50%\n",
    " - Plant 3116 reports much more heat input to CEMS during ozone months than to EIA\n",
    "\n",
    "BA Totals\n",
    " - TEPC and SRP are off because the Gila River Generator is shared between SRP and TEPC, and eGRID reports all generation from this project belonging to TEPC\n"
   ]
  },
  {
   "cell_type": "code",
   "execution_count": null,
   "metadata": {},
   "outputs": [],
   "source": [
    "# examine specific plants in a category\n",
    "value = 'fuel_consumed_mmbtu'\n",
    "status = '>50%'\n",
    "\n",
    "#compared_merged.loc[64877,:]\n",
    "\n",
    "compared[compared[f'{value}_status'] == status].sort_values(by=value)"
   ]
  },
  {
   "cell_type": "code",
   "execution_count": null,
   "metadata": {},
   "outputs": [],
   "source": [
    "compared[compared[f'{value}_status'] == status].sort_values(by=value).sample(10)"
   ]
  },
  {
   "cell_type": "code",
   "execution_count": null,
   "metadata": {},
   "outputs": [],
   "source": [
    "plant_to_explore = 58380"
   ]
  },
  {
   "cell_type": "code",
   "execution_count": null,
   "metadata": {},
   "outputs": [],
   "source": [
    "egrid_plant[egrid_plant['plant_id_eia'] == plant_to_explore]"
   ]
  },
  {
   "cell_type": "code",
   "execution_count": null,
   "metadata": {},
   "outputs": [],
   "source": [
    "plant_annual_total[plant_annual_total['plant_id_eia'] == plant_to_explore]"
   ]
  },
  {
   "cell_type": "code",
   "execution_count": null,
   "metadata": {},
   "outputs": [],
   "source": [
    "gen_fuel_allocated[gen_fuel_allocated['plant_id_eia'] == plant_to_explore].sum()"
   ]
  },
  {
   "cell_type": "code",
   "execution_count": null,
   "metadata": {},
   "outputs": [],
   "source": [
    "cems_unit_monthly = cems.groupby(['plant_id_eia','unitid','report_date']).sum().reset_index()\n"
   ]
  },
  {
   "cell_type": "code",
   "execution_count": null,
   "metadata": {},
   "outputs": [],
   "source": [
    "cems_unit_monthly[cems_unit_monthly['plant_id_eia'] == plant_to_explore].sum()"
   ]
  },
  {
   "cell_type": "code",
   "execution_count": null,
   "metadata": {},
   "outputs": [],
   "source": [
    "cems[(cems['plant_id_eia'] == plant_to_explore) & (cems['operating_time_hours'] > 0)]"
   ]
  },
  {
   "cell_type": "code",
   "execution_count": null,
   "metadata": {},
   "outputs": [],
   "source": [
    "cems_plant_annual[cems_plant_annual['plant_id_eia'] == plant_to_explore]"
   ]
  },
  {
   "cell_type": "code",
   "execution_count": null,
   "metadata": {},
   "outputs": [],
   "source": [
    "# there are some plants that report heat input and co2 in CEMS, but are missing net generation data\n",
    "# TODO: we should maybe try and fill net generation data using EIA-923?\n",
    "cems_plant_annual[cems_plant_annual['net_generation_mwh'] == 0]"
   ]
  },
  {
   "cell_type": "markdown",
   "metadata": {},
   "source": [
    "## Explore BA Matching\n",
    "### Notes\n",
    "TEPC and SRP are off because the Gila River Generator is shared between SRP and TEPC, and eGRID reports all generation from this project belonging to TEPC"
   ]
  },
  {
   "cell_type": "code",
   "execution_count": null,
   "metadata": {},
   "outputs": [],
   "source": [
    "ba_plant_match = plant_annual_total[plant_annual_total['ba_code'].isna()].merge(egrid_plant[egrid_plant['ba_code'].isna()], how='left', on='plant_id_egrid', suffixes=(\"_calc\",'_egrid'))\n",
    "ba_plant_match[ba_plant_match['net_generation_mwh_calc'].round(0) != ba_plant_match['net_generation_mwh_egrid'].round(0)]"
   ]
  },
  {
   "cell_type": "code",
   "execution_count": null,
   "metadata": {},
   "outputs": [],
   "source": [
    "egrid_plant[egrid_plant['ba_code'] == 'CPLE']"
   ]
  },
  {
   "cell_type": "code",
   "execution_count": null,
   "metadata": {},
   "outputs": [],
   "source": [
    "compare_plants_in_ba = egrid_plant.merge(plant_annual_total, how='outer', on='plant_id_egrid', suffixes=('_egrid','_calc'))"
   ]
  },
  {
   "cell_type": "code",
   "execution_count": null,
   "metadata": {},
   "outputs": [],
   "source": [
    "ba = 'CPLE'\n",
    "metric = 'fuel_consumed_mmbtu'\n",
    "\n",
    "compare_plants_in_ba[((compare_plants_in_ba['ba_code_egrid'] == ba) | (compare_plants_in_ba['ba_code_calc'] == ba)) & (compare_plants_in_ba[f'{metric}_egrid'].round(0) != compare_plants_in_ba[f'{metric}_calc'].round(0))]"
   ]
  },
  {
   "cell_type": "code",
   "execution_count": null,
   "metadata": {},
   "outputs": [],
   "source": [
    "plant_annual_total[plant_annual_total['ba_code'] == 'AMPL']"
   ]
  }
 ],
 "metadata": {
  "interpreter": {
   "hash": "63ead4a831a0927b94476de0b94e8dbe43b96c6f2f397f09f5f56bace396c9f6"
  },
  "kernelspec": {
   "display_name": "Python 3 (ipykernel)",
   "language": "python",
   "name": "python3"
  },
  "language_info": {
   "codemirror_mode": {
    "name": "ipython",
    "version": 3
   },
   "file_extension": ".py",
   "mimetype": "text/x-python",
   "name": "python",
   "nbconvert_exporter": "python",
   "pygments_lexer": "ipython3",
   "version": "3.9.12"
  }
 },
 "nbformat": 4,
 "nbformat_minor": 2
}
