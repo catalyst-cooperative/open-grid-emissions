{
 "cells": [
  {
   "cell_type": "markdown",
   "metadata": {},
   "source": [
    "# Hourly eGRID Data Pipeline Overview\n",
    "\n",
    "## Data Used\n",
    "EPA Continuous Emissions Monitoring System (CEMS) data\n",
    " - What is it: Measured hourly gross generation, fuel consumption, and emissions data for emitting power generation units > 25MW\n",
    " - How we use it: Primary source for hourly emissions and generation data\n",
    "\n",
    "EIA Form 923\n",
    " - What is it: Reported monthly net generation and fuel consumption data for power generators > 1 MW\n",
    " - How we use it: To convert gross generation data from CEMS to net generation, and to calculate emissions that are not reported to CEMS\n",
    "\n",
    "EIA Form 860\n",
    " - What is it: Inventory of all generators and plants and their static characteristics\n",
    " - How we use it: to transform and aggregate the data reported in CEMS and EIA-923 based on plant and generator characteristics\n",
    "\n",
    "EPA-EIA Power Sector Data Crosswalk\n",
    " - What is it: Maps EPA plant IDs and unit IDs to EIA plant IDs and generator IDs\n",
    " - How we use it: To match data between CEMS and EIA-923\n",
    "\n",
    "EIA Form 930 / Hourly Electric Grid Monitor\n",
    " - What is it: Reported hourly net generation by fuel category, demand, and interchange for each Balancing Area in the U.S. \n",
    " - How we use it: To assign an hourly profile to the monthly generation and fuel data reported in EIA-923\n",
    "\n",
    "EPA eGRID database\n",
    " - What is it: Reports annual-level generation and emissions statistics at the plant and BA level \n",
    " - How we use it: to validate our outputs\n",
    "\n",
    "## Process\n",
    "1. Download data, including CEMS (via PUDL), EIA Forms 860 and 923 (via PUDL), EPA-EIA Power Sector Data Crosswalk, EIA-930 data\n",
    "2. Identify subplants and gross-to-net generation factors using multiple years of historical data.\n",
    "    - Using Power Sector Data Crosswalk, identify distinct subplant clusters of EPA units and EIA generators in each plant\n",
    "    - Using multiple years of generation data from CEMS and EIA-923, run linear regressions of net generation on gross generation at teh subplant and plant level\n",
    "    - Calculate simple monthly ratios between gross and net generation at teh subplant and plant level.\n",
    "3. Clean monthly generation and fuel data from EIA-923\n",
    "    - allocate monthly net generation and fuel consumption data reported for each plant prime mover to each plant generator\n",
    "    - Calculate monthly emissions for each generator based on its fuel consumption and fuel source\n",
    "    - Remove data for non grid-connected plants and plants in Puerto Rico\n",
    "    - Assign a primary fuel type and balancing authority location to each generator\n",
    "4. Clean hourly generation, fuel, and emissions data from CEMS\n",
    "    - Remove data for non grid-connected plants, plants in Puerto Rico, and certain steam-only units\n",
    "    - Assign a monthly \"report_date\" to each hourly observation based on the date of the local timestamp (this allows us to match the data to EIA-923 report dates)\n",
    "    - Assign a fuel type to each unit\n",
    "    - Fill in missing hourly emissions data using the assigned fuel type and reported hourly fuel consumption data\n",
    "    - Remove all observations for each unit-month when no operation is reported for that unit in that month\n",
    "    - Allocate hourly data for combined heat and power plants between electricity generation and steam production\n",
    "    - Remove data for units for which we are unable to fill missing emissions data\n",
    "5. Convert hourly gross generation in CEMS to hourly net generation\n",
    "    - aggregate CEMS gross generation to monthly level to match with monthly-reported net generation\n",
    "    - Apply several methodologies to calculate gross-to-net generation conversion factors\n",
    "    - apply GTN factors to convert hourly gross generation to hourly net generation\n",
    "6. Crosswalk the CEMS data to the EIA-923 data to identify for which generator-months there is no hourly data reported in CEMS\n",
    "    - Use the EPA-EIA Power Sector Data Crosswalk\n",
    "    - Assign subplant groupings to data\n",
    "7. Assign static plant characteristics to CEMS and EIA data to allow for data aggregation and matching with EIA-930\n",
    "    - assign generator and plant-level primary fuel\n",
    "    - assign Balancing Authority and State to each plant\n",
    "    - assign fuel categories to each plant that match EIA-930 categories\n",
    "8. Clean and reconcile EIA-930 data\n",
    "    - Fix timezone/timestamp issues with raw 930 data\n",
    "    - Perform physics-based reconciliation so that data satisfies conservation of energy equations\n",
    "9. Calculate residual net generation profiles for each BA-fuel category by comparing EIA-930 and CEMS hourly net generation data\n",
    "10. Assign monthly EIA-923 data an hourly profile based on the residual net generation profile\n",
    "11. Concatenate the shaped hourly EIA-923 data to the hourly CEMS data\n",
    "12. Run validation checks on processed data\n",
    "13. Aggregate the hourly data to the BA level and output\n",
    "\n",
    "\n",
    "## Outputs\n",
    " - Processed hourly subplant-level data\n",
    " - Aggregated hourly data for each BA (total emissions, total generation, generated carbon intensity)\n",
    "\n",
    "## Output Validation Checks\n",
    " - Aggregate data to annual level and compare with published eGRID results\n",
    " - Check that aggregated heat rates and emissions rates by fuel type are within reasonable ranges for each BA\n",
    " - Plant-level checks for anomolous data"
   ]
  },
  {
   "cell_type": "code",
   "execution_count": null,
   "metadata": {},
   "outputs": [],
   "source": [
    "# import packages\n",
    "import numpy as np\n",
    "import pandas as pd\n",
    "import plotly.express as px\n",
    "from IPython.display import display"
   ]
  },
  {
   "cell_type": "code",
   "execution_count": null,
   "metadata": {},
   "outputs": [],
   "source": [
    "%reload_ext autoreload\n",
    "%autoreload 2\n",
    "\n",
    "# Tell python where to look for modules. \n",
    "import sys\n",
    "sys.path.append('../../hourly-egrid/')\n",
    "\n",
    "# import local modules\n",
    "import src.data_cleaning as data_cleaning\n",
    "import src.gross_to_net_generation as gross_to_net_generation\n",
    "import src.load_data as load_data\n",
    "import src.validation as validation"
   ]
  },
  {
   "cell_type": "markdown",
   "metadata": {},
   "source": [
    "# Specify the year for analysis\n",
    "This data pipeline can only be run for a single year at a time"
   ]
  },
  {
   "cell_type": "code",
   "execution_count": null,
   "metadata": {},
   "outputs": [],
   "source": [
    "year = 2020"
   ]
  },
  {
   "cell_type": "markdown",
   "metadata": {},
   "source": [
    "# 1. Download data\n",
    "Checks if all necessary files are already downloaded. If not, downloads them"
   ]
  },
  {
   "cell_type": "code",
   "execution_count": null,
   "metadata": {},
   "outputs": [],
   "source": [
    "############### PUDL Database ######################\n",
    "\n",
    "load_data.download_pudl_data(zenodo_url = 'https://zenodo.org/record/6349861/files/pudl-v0.6.0-2022-03-12.tgz')\n",
    "load_data.download_updated_pudl_database(download=False)\n",
    "\n",
    "################# eGRID data #########################\n",
    "\n",
    "# the 2019 and 2020 data appear to be hosted on different urls\n",
    "egrid_files_to_download = ['https://www.epa.gov/sites/default/files/2021-02/egrid2019_data.xlsx', \n",
    "                           'https://www.epa.gov/system/files/documents/2022-01/egrid2020_data.xlsx']\n",
    "\n",
    "load_data.download_egrid_files(egrid_files_to_download)\n",
    "\n",
    "############# EIA-930 data #####################\n",
    "\n",
    "load_data.download_eia930_data(years_to_download=[year])\n",
    "load_data.download_chalendar_files()\n",
    "\n",
    "########## Power Sector Data Crosswalk #############\n",
    "# NOTE: Check for new releases at https://github.com/USEPA/camd-eia-crosswalk\n",
    "\n",
    "load_data.download_epa_psdc(psdc_url='https://github.com/USEPA/camd-eia-crosswalk/releases/download/v0.2.1/epa_eia_crosswalk.csv')\n"
   ]
  },
  {
   "cell_type": "markdown",
   "metadata": {},
   "source": [
    "# 2. Identify subplants and gross-to net ratios\n",
    "This is not yet integrated in the main data pipeline, but requires loading and cleaning EIA-923 and CEMS data for multiple years, recommended at least the most current three years of data. Not everyone may have the processing power to run this process, so we could also include these outputs in the data folder."
   ]
  },
  {
   "cell_type": "code",
   "execution_count": null,
   "metadata": {},
   "outputs": [],
   "source": [
    "# specify the number of years of data to load to calculate gross to net regressions\n",
    "# this will load the x years ending at the `year` specified above\n",
    "number_of_years = 5\n",
    "\n",
    "# NOTE: This only needs to be run once, as outputs are saved to csv files\n",
    "gross_to_net_generation.identify_subplants_and_gtn_conversions(year, number_of_years)"
   ]
  },
  {
   "cell_type": "markdown",
   "metadata": {},
   "source": [
    "# 3. Clean EIA-923 Generation and Fuel Data at the Monthly Level"
   ]
  },
  {
   "cell_type": "code",
   "execution_count": null,
   "metadata": {},
   "outputs": [],
   "source": [
    "eia923_allocated, primary_fuel_table = data_cleaning.clean_eia923(year)\n",
    "\n",
    "# Add primary fuel data to each generator\n",
    "eia923_allocated = eia923_allocated.merge(primary_fuel_table, how='left', on=['plant_id_eia','generator_id'], validate=\"m:1\")\n",
    "\n",
    "eia923_allocated"
   ]
  },
  {
   "cell_type": "markdown",
   "metadata": {},
   "source": [
    "# 4. Clean Hourly Data from CEMS"
   ]
  },
  {
   "cell_type": "code",
   "execution_count": null,
   "metadata": {},
   "outputs": [],
   "source": [
    "cems = data_cleaning.clean_cems(year)"
   ]
  },
  {
   "cell_type": "markdown",
   "metadata": {},
   "source": [
    "# 5. Convert CEMS Hourly Gross Generation to Hourly Net Generation\n",
    "Hierarchy\n",
    "1. Use regression value if regression has good r2\n",
    "2. If there is not a good regrssion, use monthly ratio unless ratio is outside of normal bounds (negative, >>1, missing)\n",
    "\n",
    "Where there are outliers (eg gross generation is very different from net generation), which number do we trust?\n",
    " - if EIA reported monthly and not distributed, maybe trust EIA (monthly ratio).\n",
    " - Otherwise, trust general regression\n"
   ]
  },
  {
   "cell_type": "code",
   "execution_count": null,
   "metadata": {},
   "outputs": [],
   "source": [
    "# merge the data back into cems and calculate net generation\n",
    "#cems = cems.drop(columns=['gtn_method','net_generation_mwh'])\n",
    "cems = data_cleaning.convert_gross_to_net_generation(cems)\n",
    "\n",
    "# for generators where there is heat input but no gross generation reported, impute hourly net generation based on reported EIA values\n",
    "# TODO: Need to match data on unit level rather than plant level\n",
    "# cems = data_cleaning.impute_missing_hourly_net_generation(cems, eia923_allocated)\n",
    "\n",
    "# what percent of net generation was allocated using each method?\n",
    "cems.groupby('gtn_method', dropna=False).sum()['net_generation_mwh'] / cems['net_generation_mwh'].sum()"
   ]
  },
  {
   "cell_type": "code",
   "execution_count": null,
   "metadata": {},
   "outputs": [],
   "source": []
  },
  {
   "cell_type": "markdown",
   "metadata": {},
   "source": [
    "# 6. Crosswalk CEMS and EIA data\n",
    "\n",
    "The goal of this step is to identify for which subplant-months we have hourly data reported in CEMS (which will be considered the default source of data), and for which subplant-months we only have monthly data from EIA-923. \n",
    "\n",
    "Based on the data we have available, at this point we assign each subplant-month one of three potential data sources for the hourly data:\n",
    "1. `cems`: For subplant-months for which we have hourly CEMS data for all CEMS units that make up that subplant, we will use the hourly values reported in CEMS. (Add a validation check for the net generation and fuel consumption totals)\n",
    "2. `partial_cems`: For subplant-months for which we have hourly CEMS data for only some of the CEMS units that make up a subplant, we will use the reported EIA-923 values to scale the partial hourly CEMS data from the other units to match the total value for the entire subplant. This will also calculate a partial subplant scaling factor for each data column (e.g. net generation, fuel consumption) by comparing the total monthly CEMS data to the monthly EIA-923 data.\n",
    "3. `eia`: for subplant-months for which no hourly data is reported in CEMS, we will attempt to use EIA-930 data to assign an hourly profile to the monthly EIA-923 data\n"
   ]
  },
  {
   "cell_type": "code",
   "execution_count": null,
   "metadata": {},
   "outputs": [],
   "source": [
    "eia923_allocated = data_cleaning.identify_hourly_data_source(eia923_allocated, cems, year)\n",
    "\n",
    "# what percent of emissions is reported in CEMS vs EIA\n",
    "# NOTE: This does not include emissions only reported by CEMS, so the % may be higher\n",
    "(eia923_allocated.groupby('hourly_data_source')['co2_mass_lb_adjusted'].sum() / eia923_allocated.groupby('hourly_data_source')['co2_mass_lb_adjusted'].sum().sum(axis=0)).round(3)"
   ]
  },
  {
   "cell_type": "markdown",
   "metadata": {},
   "source": [
    "## Export intermediate data files"
   ]
  },
  {
   "cell_type": "code",
   "execution_count": null,
   "metadata": {},
   "outputs": [],
   "source": [
    "cems.to_csv(f'../data/outputs/cems_{year}.csv', index=False)"
   ]
  },
  {
   "cell_type": "code",
   "execution_count": null,
   "metadata": {},
   "outputs": [],
   "source": [
    "eia923_allocated.to_csv(f'../data/outputs/eia923_allocated_{year}.csv', index=False)"
   ]
  },
  {
   "cell_type": "markdown",
   "metadata": {},
   "source": [
    "# 7. Assign static characteristics to CEMS and EIA data to aid in aggregation"
   ]
  },
  {
   "cell_type": "code",
   "execution_count": null,
   "metadata": {},
   "outputs": [],
   "source": [
    "# assign a BA code and state code to each plant\n",
    "eia923_allocated = data_cleaning.assign_ba_code_to_plant(eia923_allocated, year)\n",
    "\n",
    "# assign a fuel category to each plant based on what is most likely to match with the category used in EIA-930\n",
    "# TODO: Add two different fuel categories (one for 930, one that is more specific)\n",
    "eia923_allocated = data_cleaning.assign_fuel_category_to_ESC(eia923_allocated, fuel_category_name='fuel_group_eia930', esc_column='plant_primary_fuel')"
   ]
  },
  {
   "cell_type": "code",
   "execution_count": null,
   "metadata": {},
   "outputs": [],
   "source": [
    "# add information that we need to aggregate the data and match to eia930\n",
    "#cems = cems.drop(columns=['ba_code','ba_code_physical','state'])\n",
    "#cems = cems.drop(columns=['distribution_flag'])\n",
    "#cems = cems.drop(columns=['plant_primary_fuel'])\n",
    "\n",
    "cems = data_cleaning.assign_ba_code_to_plant(cems, year)\n",
    "\n",
    "# add a flag about whether the plant is distribution connected\n",
    "cems = data_cleaning.identify_distribution_connected_plants(cems, year, voltage_threshold_kv=60)\n",
    "\n",
    "# add a plant primary fuel and a fuel category for eia930\n",
    "cems = cems.merge(primary_fuel_table.drop_duplicates(subset='plant_id_eia')[['plant_id_eia','plant_primary_fuel']], how='left', on='plant_id_eia')\n",
    "cems = data_cleaning.assign_fuel_category_to_ESC(cems, fuel_category_name='fuel_group_eia930', esc_column='plant_primary_fuel')\n",
    "cems = cems.rename(columns={'fuel_category':'fuel_category_eia930'})"
   ]
  },
  {
   "cell_type": "code",
   "execution_count": null,
   "metadata": {},
   "outputs": [],
   "source": [
    "# export plant frame\n",
    "plant_static_columns = ['plant_id_eia','plant_primary_fuel', 'fuel_category_eia930', 'ba_code', 'ba_code_physical', 'state', 'distribution_flag']\n",
    "plant_frame = eia923_allocated[plant_static_columns].drop_duplicates(subset='plant_id_eia')\n",
    "plant_frame.to_csv('../data/final_outputs/plant_files/plant_static_attributes.csv', index=False)"
   ]
  },
  {
   "cell_type": "markdown",
   "metadata": {},
   "source": [
    "### Export plant-level houlry CEMS data\n",
    "We might want to move this step elsewhere in the pipeline"
   ]
  },
  {
   "cell_type": "code",
   "execution_count": null,
   "metadata": {},
   "outputs": [],
   "source": [
    "columns_to_export = ['plant_id_eia', 'operating_datetime_utc', 'gross_generation_mwh', 'net_generation_mwh', 'fuel_consumed_mmbtu','fuel_consumed_for_electricity_mmbtu', 'co2_mass_lb','co2_mass_lb_adjusted']\n",
    "cems_output = cems[columns_to_export].groupby(['plant_id_eia','operating_datetime_utc']).sum().reset_index()\n",
    "cems_output.to_csv('../data/final_outputs/plant_files/hourly_plant_data_from_cems.csv', index=False)"
   ]
  },
  {
   "cell_type": "code",
   "execution_count": null,
   "metadata": {},
   "outputs": [],
   "source": [
    "# export plant frame\n",
    "plant_static_columns = ['plant_id_eia','plant_primary_fuel', 'fuel_category_eia930', 'ba_code', 'ba_code_physical', 'state', 'distribution_flag']\n",
    "plant_frame = cems[plant_static_columns].drop_duplicates(subset='plant_id_eia')\n",
    "plant_frame.to_csv('../data/final_outputs/plant_files/plant_static_attributes.csv', index=False)"
   ]
  },
  {
   "cell_type": "markdown",
   "metadata": {},
   "source": [
    "# 8. Clean and Reconcile EIA-930 data\n",
    "Load raw EIA-930 data, fix timestamp issues, perform physics-based reconciliation\n",
    "\n",
    "Currently implemented in `notebooks/930_lag` and the `gridemissions` repository\n",
    "\n",
    "Output: `data/outputs/EBA_adjusted_elec.csv`"
   ]
  },
  {
   "cell_type": "code",
   "execution_count": null,
   "metadata": {},
   "outputs": [],
   "source": [
    "# not yet implemented here"
   ]
  },
  {
   "cell_type": "markdown",
   "metadata": {},
   "source": [
    "# 9. Calculate Residual Net Generation Profile\n",
    "\n",
    "Currently implemented in `notebooks/clean_930_compare_residual`"
   ]
  },
  {
   "cell_type": "code",
   "execution_count": null,
   "metadata": {},
   "outputs": [],
   "source": [
    "# save CEMS data as CSV to be used to calculate residual profile\n",
    "# NOTE: Once this code is integrated into the pipeline, this will not be necessary\n",
    "# filter the data to export only the data/columns that we need for the residual calculation\n",
    "cems_for_export = cems.loc[cems[['co2_mass_lb_adjusted','gross_generation_mwh','fuel_consumed_for_electricity_mmbtu']].sum(axis=1) > 0, ['ba_code', 'ba_code_physical',\n",
    "       'energy_source_code','plant_primary_fuel','fuel_category_eia930','distribution_flag',\n",
    "       'plant_id_eia', 'unitid', 'operating_datetime_utc',\n",
    "       'net_generation_mwh']]\n",
    "\n",
    "cems_for_export.to_csv(f'../data/outputs/cems_{year}_for_residual.csv', index=False)"
   ]
  },
  {
   "cell_type": "code",
   "execution_count": null,
   "metadata": {},
   "outputs": [],
   "source": [
    "# not yet implemented here"
   ]
  },
  {
   "cell_type": "markdown",
   "metadata": {},
   "source": [
    "# 10. Assign hourly profile to monthly data\n"
   ]
  },
  {
   "cell_type": "code",
   "execution_count": null,
   "metadata": {},
   "outputs": [],
   "source": [
    "eia923_allocated[eia923_allocated['hourly_data_source'] == 'partial_cems']"
   ]
  },
  {
   "cell_type": "code",
   "execution_count": null,
   "metadata": {},
   "outputs": [],
   "source": [
    "# create a separate dataframe containing only the generators for which we do not have CEMS data\n",
    "monthly_eia_data_to_distribute = eia923_allocated[(eia923_allocated['hourly_data_source'] == 'eia') & ~(eia923_allocated['fuel_consumed_mmbtu'].isna())]"
   ]
  },
  {
   "cell_type": "code",
   "execution_count": null,
   "metadata": {},
   "outputs": [],
   "source": [
    "# load profile data and format for use in the pipeline\n",
    "#hourly_profiles = eia930.load_chalendar_for_pipeline('../data/downloads/outputs/EBA_adjusted_elec.csv', year)\n",
    "hourly_profiles = pd.read_csv('../data/outputs/residual_profiles.csv', parse_dates=['report_date'])\n",
    "hourly_profiles"
   ]
  },
  {
   "cell_type": "code",
   "execution_count": null,
   "metadata": {},
   "outputs": [],
   "source": [
    "def create_flat_profile(year):\n",
    "    df_temp = pd.DataFrame(index=pd.date_range(start=f'{year-1}-12-31 00:00:00', end=f'{year+1}-01-01 23:00:00', freq='H', tz='UTC', name='datetime_utc'),\n",
    "                                columns=['ba_code','fuel_category']).reset_index()                  \n",
    "        \n",
    "    df_temp['net_generation_mwh_930'] = 1.0\n",
    "    df_temp['datetime_local'] = df_temp['datetime_utc']\n",
    "    df_temp['datetime_local'] = df_temp['datetime_utc'].dt.tz_convert(data_cleaning.ba_timezone(ba=ba, type='local'))\n",
    "    # create a report date column\n",
    "    df_temp['report_date'] = df_temp['datetime_local'].astype(str).str[:7]\n",
    "    df_temp['report_date'] = pd.to_datetime(df_temp['report_date'])\n",
    "\n",
    "    return df_temp"
   ]
  },
  {
   "cell_type": "code",
   "execution_count": null,
   "metadata": {},
   "outputs": [],
   "source": [
    "# for fuel categories that exist in the EIA-923 data but not in EIA-930, create flat profiles to add to the hourly profiles from 930\n",
    "# TODO: Identify for which BA-fuels a flat profile was created\n",
    "# TODO: Is there a better assumption than flat?\n",
    "ba_list = list(monthly_eia_data_to_distribute['ba_code'].dropna().unique())\n",
    "\n",
    "# create an hourly datetime series in local time for each ba/fuel type\n",
    "hourly_profiles_to_add = []\n",
    "\n",
    "# for each ba\n",
    "for ba in ba_list:\n",
    "    # get a list of fuels categories that exist in that BA\n",
    "    ba_fuel_list = list(monthly_eia_data_to_distribute.loc[monthly_eia_data_to_distribute['ba_code'] == ba,'fuel_category'].unique())\n",
    "    for fuel in ba_fuel_list:\n",
    "        # if there is no data for that fuel type in the eia930 data, create a flat profile\n",
    "        if len(hourly_profiles[(hourly_profiles['ba_code'] == ba) & (hourly_profiles['fuel_category'] == fuel)]) == 0:\n",
    "            print(f'Adding flat profile for {ba} {fuel}')\n",
    "            df_temp = create_flat_profile(year)\n",
    "            df_temp['ba_code'] = ba\n",
    "            df_temp['fuel_category'] = fuel\n",
    "            hourly_profiles_to_add.append(df_temp)\n",
    "\n",
    "hourly_profiles_to_add = pd.concat(hourly_profiles_to_add, axis=0, ignore_index=True)"
   ]
  },
  {
   "cell_type": "code",
   "execution_count": null,
   "metadata": {},
   "outputs": [],
   "source": [
    "# concat the flat profiles to the hourly profiles\n",
    "hourly_profiles = pd.concat([hourly_profiles,hourly_profiles_to_add], axis=0)"
   ]
  },
  {
   "cell_type": "code",
   "execution_count": null,
   "metadata": {},
   "outputs": [],
   "source": [
    "hourly_eia_data = data_cleaning.distribute_monthly_eia_data_to_hourly(monthly_eia_data_to_distribute, hourly_profiles, 'residual_scaled')"
   ]
  },
  {
   "cell_type": "code",
   "execution_count": null,
   "metadata": {},
   "outputs": [],
   "source": [
    "columns_for_output = ['ba_code', 'fuel_category', 'datetime_utc', 'net_generation_mwh', 'fuel_consumed_mmbtu', 'fuel_consumed_for_electricity_mmbtu', 'co2_mass_lb', 'co2_mass_lb_adjusted']\n",
    "hourly_eia_data[columns_for_output].to_csv('../data/final_outputs/plant_files/hourly_data_distributed_from_eia.csv', index=False)"
   ]
  },
  {
   "cell_type": "markdown",
   "metadata": {},
   "source": [
    "# 11. Aggregate CEMS data to BA-fuel and combine with hourly shaped EIA data\n"
   ]
  },
  {
   "cell_type": "code",
   "execution_count": null,
   "metadata": {},
   "outputs": [],
   "source": [
    "# aggregate cems data by BA and fuel type\n",
    "cems_ba_fuel = cems.groupby(['ba_code','fuel_category_eia930','operating_datetime_utc']).sum()[['gross_generation_mwh','net_generation_mwh','fuel_consumed_mmbtu','fuel_consumed_for_electricity_mmbtu','co2_mass_lb','co2_mass_lb_adjusted']].reset_index()\n",
    "cems_ba_fuel['data_source'] = 'CEMS'\n",
    "\n",
    "# rename the datetime_utc column\n",
    "cems_ba_fuel = cems_ba_fuel.rename(columns={'operating_datetime_utc':'datetime_utc','fuel_category_eia930':'fuel_category'})\n"
   ]
  },
  {
   "cell_type": "code",
   "execution_count": null,
   "metadata": {},
   "outputs": [],
   "source": [
    "combined_data = pd.concat([cems_ba_fuel, hourly_eia_data.drop(columns=['datetime_local','report_date'])], axis=0)\n",
    "# only keep relevant columns\n",
    "combined_data = combined_data[['ba_code','fuel_category','datetime_utc','net_generation_mwh','fuel_consumed_mmbtu','fuel_consumed_for_electricity_mmbtu','co2_mass_lb','co2_mass_lb_adjusted','data_source']]\n",
    "combined_data"
   ]
  },
  {
   "cell_type": "markdown",
   "metadata": {},
   "source": [
    "## Export hourly data to final CSVs (one for each BA)"
   ]
  },
  {
   "cell_type": "code",
   "execution_count": null,
   "metadata": {},
   "outputs": [],
   "source": [
    "for ba in list(combined_data.ba_code.unique()):\n",
    "\n",
    "    # filter the data for a single BA\n",
    "    ba_table = combined_data[combined_data['ba_code'] == ba].drop(columns='ba_code')\n",
    "\n",
    "    # convert the datetime_utc column back to a datetime\n",
    "    ba_table['datetime_utc'] = pd.to_datetime(ba_table['datetime_utc'], utc=True)\n",
    "\n",
    "    # combine the data from CEMS and EIA for each fuel-hour\n",
    "    ba_table = ba_table.groupby(['fuel_category', 'datetime_utc']).sum().reset_index()\n",
    "\n",
    "    # calculate a total for the BA\n",
    "    ba_total = ba_table.groupby(['datetime_utc']).sum()[['net_generation_mwh','fuel_consumed_mmbtu','fuel_consumed_for_electricity_mmbtu','co2_mass_lb','co2_mass_lb_adjusted']].reset_index()\n",
    "    ba_total['fuel_category'] = 'total'\n",
    "\n",
    "    # concat the totals to the fuel-specific totals\n",
    "    ba_table = pd.concat([ba_table,ba_total], axis=0, ignore_index=True)\n",
    "\n",
    "    # calculate a generated emission rate\n",
    "    ba_table['generated_co2_rate_lb_per_mwh'] = (ba_table['co2_mass_lb'] * 2000 / ba_table['net_generation_mwh']).fillna(0).replace(np.inf, np.NaN)\n",
    "    ba_table['adjusted_generated_co2_rate_lb_per_mwh'] = (ba_table['co2_mass_lb_adjusted'] * 2000 / ba_table['net_generation_mwh']).fillna(0).replace(np.inf, np.NaN)\n",
    "\n",
    "    ba_table = ba_table.pivot(index='datetime_utc', columns='fuel_category')\n",
    "\n",
    "    # round all values to one decimal place\n",
    "    ba_table = ba_table.round(1)\n",
    "\n",
    "    # flatten the multilevel column into a single column name like data_fuelname\n",
    "    ba_table.columns = ['_'.join(col) for col in ba_table.columns.values]\n",
    "\n",
    "    # export to a csv\n",
    "    ba_table.to_csv(f'../data/final_outputs/ba_files/{ba}.csv')"
   ]
  },
  {
   "cell_type": "code",
   "execution_count": null,
   "metadata": {},
   "outputs": [],
   "source": [
    "def graph_hourly_data_by_fuel_category(hourly_data, ba, column_name, fuel_category_name, plot_type):\n",
    "    fuel_color = {'natural_gas':'sienna',\n",
    "              'coal':'black',\n",
    "              'nuclear':'red',\n",
    "              'biomass':'green',\n",
    "              'geothermal':'orange',\n",
    "              'wind':'blue',\n",
    "              'solar':'gold',\n",
    "              'petroleum':'purple',\n",
    "              'hydro':'skyblue',\n",
    "              'other':'lightgrey',\n",
    "              'waste':'pink'}\n",
    "\n",
    "    fuel_order = ['nuclear','geothermal','hydro','other','coal','biomass','petroleum','waste','solar','wind','natural_gas']\n",
    "\n",
    "    data_to_graph = hourly_data[hourly_data['ba_code'] == ba]\n",
    "    #data_to_graph = data_to_graph.groupby(['datetime_utc','fuel_category','data_source']).sum().reset_index()\n",
    "\n",
    "    if plot_type == 'area':\n",
    "        plot = px.area(data_to_graph, \n",
    "                x='datetime_utc', \n",
    "                y=column_name, \n",
    "                color=fuel_category_name, \n",
    "                color_discrete_map=fuel_color, \n",
    "                facet_col='data_source', \n",
    "                template='plotly_white',\n",
    "                title=f'Hourly {column_name} data for {ba} by fuel type',\n",
    "                category_orders={fuel_category_name:fuel_order}).update_traces(line={'width':0})\n",
    "    elif plot_type == 'line':\n",
    "        plot = px.line(data_to_graph, \n",
    "                x='datetime_utc', \n",
    "                y=column_name, \n",
    "                color=fuel_category_name, \n",
    "                color_discrete_map=fuel_color, \n",
    "                facet_col='data_source', \n",
    "                template='plotly_white',\n",
    "                title=f'Hourly {column_name} data for {ba} by fuel type',\n",
    "                category_orders={fuel_category_name:fuel_order}).update_traces(line={'width':0})\n",
    "    \n",
    "    return plot\n",
    "        "
   ]
  },
  {
   "cell_type": "code",
   "execution_count": null,
   "metadata": {},
   "outputs": [],
   "source": [
    "ba = 'CISO'\n",
    "\n",
    "graph_hourly_data_by_fuel_category(hourly_data=combined_data, ba=ba, column_name='net_generation_mwh', fuel_category_name='fuel_category', plot_type='area')"
   ]
  },
  {
   "cell_type": "code",
   "execution_count": null,
   "metadata": {},
   "outputs": [],
   "source": [
    "graph_hourly_data_by_fuel_category(hourly_data=combined_data, ba=ba, column_name='co2_mass_lb', fuel_category_name='fuel_category', plot_type='area')"
   ]
  },
  {
   "cell_type": "code",
   "execution_count": null,
   "metadata": {},
   "outputs": [],
   "source": [
    "graph_hourly_data_by_fuel_category(hourly_data=combined_data, ba=ba, column_name='co2_rate_lb_per_mwh_generated', fuel_category_name='fuel_category', plot_type='line')"
   ]
  }
 ],
 "metadata": {
  "interpreter": {
   "hash": "4103f3cd497821eca917ea303dbe10c590d787eb7d2dc3fd4e15dec0356e7931"
  },
  "kernelspec": {
   "display_name": "Python 3.9.12 ('hourly_egrid')",
   "language": "python",
   "name": "python3"
  },
  "language_info": {
   "codemirror_mode": {
    "name": "ipython",
    "version": 3
   },
   "file_extension": ".py",
   "mimetype": "text/x-python",
   "name": "python",
   "nbconvert_exporter": "python",
   "pygments_lexer": "ipython3",
   "version": "3.9.12"
  }
 },
 "nbformat": 4,
 "nbformat_minor": 2
}
