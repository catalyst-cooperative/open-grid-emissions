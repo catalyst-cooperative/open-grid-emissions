{
 "cells": [
  {
   "cell_type": "markdown",
   "metadata": {},
   "source": [
    "# About\n",
    "This notebook is used to update `data/manual/ba_reference.csv` using the FERC allowable BA entries list, which is updated on a quarterly basis"
   ]
  },
  {
   "cell_type": "code",
   "execution_count": null,
   "metadata": {},
   "outputs": [],
   "source": [
    "import os\n",
    "import requests\n",
    "import pandas as pd\n",
    "import numpy as np"
   ]
  },
  {
   "cell_type": "code",
   "execution_count": null,
   "metadata": {},
   "outputs": [],
   "source": [
    "ba_reference = pd.read_csv('../data/manual/ba_reference.csv')\n",
    "ferc_bas = pd.read_csv(\"../data/downloads/ferc/ferc_bas.csv\")\n",
    "\n",
    "# merge the ferc data into the manual table\n",
    "ba_reference_updated = ba_reference.merge(ferc_bas, how='outer', on='ba_code', indicator='source', suffixes=(None,\"_ferc\"))\n",
    "\n",
    "# fill any missing data in the manual table with the data from ferc\n",
    "for col in ['ba_name', 'us_ba', 'activation_date', 'retirement_date',]:\n",
    "    ba_reference_updated[col] = ba_reference_updated[col].fillna(ba_reference_updated[f'{col}_ferc'])\n",
    "    \n",
    "    # wherever the ferc entry does not match the EIA entry, keep the ferc entry too\n",
    "    ba_reference_updated.loc[(ba_reference_updated[f'{col}_ferc'] == ba_reference_updated[col]), f'{col}_ferc'] = np.NaN\n",
    "\n",
    "\n",
    "ba_reference_updated['source'] = ba_reference_updated['source'].replace({'left_only':'EIA','right_only':'FERC','both':'EIA & FERC'})\n",
    "# drop the us_ba_ferc column\n",
    "ba_reference_updated = ba_reference_updated.drop(columns=['us_ba_ferc'])\n",
    "\n",
    "\n",
    "ba_reference_updated"
   ]
  },
  {
   "cell_type": "code",
   "execution_count": null,
   "metadata": {},
   "outputs": [],
   "source": [
    "ba_reference_updated.to_csv('../data/manual/ba_reference_updated.csv', index=False)"
   ]
  }
 ],
 "metadata": {
  "kernelspec": {
   "display_name": "Python 3.9.12 ('hourly_egrid')",
   "language": "python",
   "name": "python3"
  },
  "language_info": {
   "codemirror_mode": {
    "name": "ipython",
    "version": 3
   },
   "file_extension": ".py",
   "mimetype": "text/x-python",
   "name": "python",
   "nbconvert_exporter": "python",
   "pygments_lexer": "ipython3",
   "version": "3.9.12"
  },
  "orig_nbformat": 4,
  "vscode": {
   "interpreter": {
    "hash": "4103f3cd497821eca917ea303dbe10c590d787eb7d2dc3fd4e15dec0356e7931"
   }
  }
 },
 "nbformat": 4,
 "nbformat_minor": 2
}
