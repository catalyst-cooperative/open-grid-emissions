{
 "cells": [
  {
   "cell_type": "code",
   "execution_count": null,
   "metadata": {},
   "outputs": [],
   "source": [
    "# Tell python where to look for modules. \n",
    "# Depending on how your jupyter handles working directories, this may not be needed.\n",
    "import sys\n",
    "sys.path.append('../../hourly-egrid/')\n",
    "\n",
    "# import the necessary packages\n",
    "%reload_ext autoreload\n",
    "%autoreload 2\n",
    "\n",
    "# import packages\n",
    "import os\n",
    "import requests\n",
    "import tarfile\n",
    "import sqlalchemy as sa\n",
    "from pathlib import Path\n",
    "import pandas as pd\n",
    "import plotly.express as px\n",
    "import numpy as np\n",
    "\n",
    "import src.data_cleaning as data_cleaning\n",
    "import src.gross_to_net_generation as gross_to_net_generation\n",
    "import src.load_data as load_data\n",
    "import src.distribute_eia923 as distribute_eia923"
   ]
  },
  {
   "cell_type": "code",
   "execution_count": null,
   "metadata": {},
   "outputs": [],
   "source": [
    "# specify the year for which you want data\n",
    "\n",
    "year = 2020"
   ]
  },
  {
   "cell_type": "markdown",
   "metadata": {},
   "source": [
    "## Download the data"
   ]
  },
  {
   "cell_type": "code",
   "execution_count": null,
   "metadata": {},
   "outputs": [],
   "source": [
    "############### PUDL Database ######################\n",
    "\n",
    "load_data.download_pudl_data(zenodo_url = 'https://zenodo.org/record/6349861/files/pudl-v0.6.0-2022-03-12.tgz')\n",
    "\n",
    "################# eGRID data #########################\n",
    "\n",
    "# the 2019 and 2020 data appear to be hosted on different urls\n",
    "egrid_files_to_download = ['https://www.epa.gov/sites/default/files/2021-02/egrid2019_data.xlsx', \n",
    "                           'https://www.epa.gov/system/files/documents/2022-01/egrid2020_data.xlsx']\n",
    "\n",
    "load_data.download_egrid_files(egrid_files_to_download)\n",
    "\n",
    "############# EIA-930 data #####################\n",
    "\n",
    "load_data.download_eia930_data(years_to_download=[year])\n",
    "\n",
    "########## Power Sector Data Crosswalk #############\n",
    "# NOTE: Check for new releases at https://github.com/USEPA/camd-eia-crosswalk\n",
    "\n",
    "load_data.download_epa_psdc(psdc_url='https://github.com/USEPA/camd-eia-crosswalk/releases/download/v0.2.1/epa_eia_crosswalk.csv')\n"
   ]
  },
  {
   "cell_type": "markdown",
   "metadata": {},
   "source": [
    "## Load and clean the cems data"
   ]
  },
  {
   "cell_type": "code",
   "execution_count": null,
   "metadata": {},
   "outputs": [],
   "source": [
    "# clean generation and fuel data from EIA-923\n",
    "gen_fuel_allocated = distribute_eia923.allocate_gen_fuel_by_gen(year=year)\n",
    "\n",
    "# clean the cems data\n",
    "cems = data_cleaning.clean_cems(year)\n",
    "\n",
    "# flag any generator-months for which we already have cems data\n",
    "gen_fuel_allocated = data_cleaning.identify_emissions_data_source(cems, gen_fuel_allocated)\n",
    "\n",
    "# convert hourly gross generation to net generation\n",
    "cems = data_cleaning.convert_gross_to_net_generation(cems, gen_fuel_allocated)\n",
    "\n",
    "# for generators where there is heat input but no gross generation reported, impute hourly net generation based on reported EIA values\n",
    "cems = data_cleaning.impute_missing_hourly_net_generation(cems, gen_fuel_allocated)\n",
    "\n",
    "# add information about the balancing authority \n",
    "cems = data_cleaning.assign_ba_code_to_plant(cems, year)"
   ]
  },
  {
   "cell_type": "markdown",
   "metadata": {},
   "source": [
    "## Output data to CSV"
   ]
  },
  {
   "cell_type": "code",
   "execution_count": null,
   "metadata": {},
   "outputs": [],
   "source": [
    "# output the cems data to csv for others to use (update the date)\n",
    "# removes any hourly data where zero data is reported in order to keep the file size smaller\n",
    "cems_for_export = cems.loc[cems[['co2_mass_tons','gross_generation_mwh','heat_content_mmbtu']].sum() > 0, ['plant_id_eia', 'unitid', 'operating_datetime_utc',\n",
    "       'gross_generation_mwh','net_generation_mwh','steam_load_1000_lbs', 'heat_content_mmbtu', 'co2_mass_tons',\n",
    "       'report_date', 'cems_reporting_category', 'energy_source_code',\n",
    "       'ba_code', 'state']]\n",
    "\n",
    "date = '20220415'\n",
    "cems_for_export.to_csv(f'../data/output/cems_{year}_cleaned_{date}.csv')"
   ]
  }
 ],
 "metadata": {
  "language_info": {
   "name": "python"
  },
  "orig_nbformat": 4
 },
 "nbformat": 4,
 "nbformat_minor": 2
}
