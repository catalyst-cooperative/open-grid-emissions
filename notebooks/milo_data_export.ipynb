{
 "cells": [
  {
   "cell_type": "code",
   "execution_count": null,
   "metadata": {},
   "outputs": [],
   "source": [
    "# Tell python where to look for modules. \n",
    "# Depending on how your jupyter handles working directories, this may not be needed.\n",
    "import sys\n",
    "sys.path.append('../../hourly-egrid/')\n",
    "\n",
    "# import the necessary packages\n",
    "%reload_ext autoreload\n",
    "%autoreload 2\n",
    "\n",
    "# import packages\n",
    "import os\n",
    "import requests\n",
    "import tarfile\n",
    "import sqlalchemy as sa\n",
    "from pathlib import Path\n",
    "import pandas as pd\n",
    "import plotly.express as px\n",
    "import numpy as np\n",
    "import pudl.analysis.allocate_net_gen as allocate_gen_fuel\n",
    "\n",
    "import src.data_cleaning as data_cleaning\n",
    "import src.gross_to_net_generation as gross_to_net_generation\n",
    "import src.load_data as load_data\n",
    "import src.eia930 as eia930\n",
    "#import src.distribute_eia923 as distribute_eia923"
   ]
  },
  {
   "cell_type": "code",
   "execution_count": null,
   "metadata": {},
   "outputs": [],
   "source": [
    "# specify the year for which you want data\n",
    "\n",
    "year = 2020"
   ]
  },
  {
   "cell_type": "markdown",
   "metadata": {},
   "source": [
    "## Download the data"
   ]
  },
  {
   "cell_type": "code",
   "execution_count": null,
   "metadata": {},
   "outputs": [],
   "source": [
    "############### PUDL Database ######################\n",
    "\n",
    "load_data.download_pudl_data(zenodo_url = 'https://zenodo.org/record/6349861/files/pudl-v0.6.0-2022-03-12.tgz')\n",
    "\n",
    "################# eGRID data #########################\n",
    "\n",
    "# the 2019 and 2020 data appear to be hosted on different urls\n",
    "egrid_files_to_download = ['https://www.epa.gov/sites/default/files/2021-02/egrid2019_data.xlsx', \n",
    "                           'https://www.epa.gov/system/files/documents/2022-01/egrid2020_data.xlsx']\n",
    "\n",
    "load_data.download_egrid_files(egrid_files_to_download)\n",
    "\n",
    "############# EIA-930 data #####################\n",
    "\n",
    "load_data.download_eia930_data(years_to_download=[year])\n",
    "\n",
    "########## Power Sector Data Crosswalk #############\n",
    "# NOTE: Check for new releases at https://github.com/USEPA/camd-eia-crosswalk\n",
    "\n",
    "load_data.download_epa_psdc(psdc_url='https://github.com/USEPA/camd-eia-crosswalk/releases/download/v0.2.1/epa_eia_crosswalk.csv')\n"
   ]
  },
  {
   "cell_type": "markdown",
   "metadata": {},
   "source": [
    "## Load and clean the cems data"
   ]
  },
  {
   "cell_type": "code",
   "execution_count": null,
   "metadata": {},
   "outputs": [],
   "source": [
    "## CLEAN THE EIA-923 DATA ##\n",
    "\n",
    "pudl_out = load_data.initialize_pudl_out(year=2020)\n",
    "\n",
    "# allocate net generation and heat input to each generator-fuel grouping\n",
    "gen_fuel_allocated = allocate_gen_fuel.allocate_gen_fuel_by_generator_energy_source(pudl_out, drop_interim_cols=True)\n",
    "\n",
    "# create a table that identifies the primary fuel of each generator and plant\n",
    "primary_fuel_table = data_cleaning.create_primary_fuel_table(gen_fuel_allocated)\n",
    "\n",
    "# calculate co2 emissions for each generator-fuel based on allocated fuel consumption\n",
    "gen_fuel_allocated = data_cleaning.calculate_co2_from_fuel_consumption(gen_fuel_allocated, year)\n",
    "\n",
    "# aggregate the allocated data to the generator level\n",
    "gen_fuel_allocated = allocate_gen_fuel.agg_by_generator(gen_fuel_allocated, \n",
    "                                                        sum_cols=[\"net_generation_mwh\", \n",
    "                                                                  \"fuel_consumed_mmbtu\",\n",
    "                                                                  \"fuel_consumed_for_electricity_mmbtu\",\n",
    "                                                                  \"co2_mass_tons\",\n",
    "                                                                  \"co2_mass_tons_adjusted\"])\n",
    "\n",
    "# merge the primary fuel information into the allocated data\n",
    "gen_fuel_allocated = gen_fuel_allocated.merge(primary_fuel_table, how='left', on=['plant_id_eia','generator_id'])\n",
    "\n",
    "# remove any plants that we don't want in the data\n",
    "gen_fuel_allocated = data_cleaning.remove_plants(gen_fuel_allocated, \n",
    "                                                 non_grid_connected=True, \n",
    "                                                 remove_states=['PR'],\n",
    "                                                 steam_only_plants=False,\n",
    "                                                 distribution_connected_plants=False)\n",
    "\n",
    "gen_fuel_allocated = data_cleaning.assign_ba_code_to_plant(gen_fuel_allocated, year)"
   ]
  },
  {
   "cell_type": "code",
   "execution_count": null,
   "metadata": {},
   "outputs": [],
   "source": [
    "\n",
    "# clean the cems data\n",
    "cems = data_cleaning.clean_cems(year)\n",
    "\n",
    "# flag any generator-months for which we already have cems data\n",
    "gen_fuel_allocated = data_cleaning.identify_emissions_data_source(cems, gen_fuel_allocated)\n",
    "\n",
    "# convert hourly gross generation to net generation\n",
    "cems = data_cleaning.convert_gross_to_net_generation(cems, gen_fuel_allocated)\n",
    "\n",
    "# for generators where there is heat input but no gross generation reported, impute hourly net generation based on reported EIA values\n",
    "cems = data_cleaning.impute_missing_hourly_net_generation(cems, gen_fuel_allocated)\n",
    "\n",
    "# add information about the balancing authority \n",
    "cems = data_cleaning.assign_ba_code_to_plant(cems, year)\n",
    "\n",
    "# for now, let's just add a placeholder column\n",
    "cems['co2_mass_tons_adjusted'] = cems['co2_mass_tons']"
   ]
  },
  {
   "cell_type": "markdown",
   "metadata": {},
   "source": [
    "## Output data to CSV"
   ]
  },
  {
   "cell_type": "code",
   "execution_count": null,
   "metadata": {},
   "outputs": [],
   "source": [
    "# output the cems data to csv for others to use (update the date)\n",
    "# removes any hourly data where zero data is reported in order to keep the file size smaller\n",
    "cems_for_export = cems.loc[cems[['co2_mass_tons','gross_generation_mwh','fuel_consumed_mmbtu']].sum() > 0, ['plant_id_eia', 'unitid', 'operating_datetime_utc',\n",
    "       'gross_generation_mwh','net_generation_mwh','steam_load_1000_lbs', 'fuel_consumed_mmbtu', 'co2_mass_tons',\n",
    "       'report_date', 'cems_reporting_category', 'energy_source_code',\n",
    "       'ba_code', 'state']]\n",
    "\n",
    "date = '20220415'\n",
    "cems_for_export.to_csv(f'../data/output/cems_{year}_cleaned_{date}.csv')"
   ]
  }
 ],
 "metadata": {
  "kernelspec": {
   "display_name": "Python 3 (ipykernel)",
   "language": "python",
   "name": "python3"
  },
  "language_info": {
   "codemirror_mode": {
    "name": "ipython",
    "version": 3
   },
   "file_extension": ".py",
   "mimetype": "text/x-python",
   "name": "python",
   "nbconvert_exporter": "python",
   "pygments_lexer": "ipython3",
   "version": "3.10.1"
  }
 },
 "nbformat": 4,
 "nbformat_minor": 2
}
