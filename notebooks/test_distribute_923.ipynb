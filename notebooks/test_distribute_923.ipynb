{
 "cells": [
  {
   "cell_type": "markdown",
   "metadata": {},
   "source": [
    "# About this notebook\n",
    "This notebook is used for testing code related to allocating the EIA-923 data before integrating it into PUDL and the data pipeline. \n",
    "\n",
    "I've also been using this to simply load EIA tables from the PUDL database to explore the EIA data as it exists in PUDL."
   ]
  },
  {
   "cell_type": "code",
   "execution_count": null,
   "metadata": {},
   "outputs": [],
   "source": [
    "%reload_ext autoreload\n",
    "%autoreload 2\n",
    "\n",
    "import sys\n",
    "sys.path.append('../../hourly-egrid/')\n",
    "\n",
    "# Useful high-level external modules.\n",
    "import numpy as np\n",
    "import pandas as pd\n",
    "import sqlalchemy as sa\n",
    "\n",
    "import pudl\n",
    "\n",
    "import src.data_cleaning as data_cleaning\n"
   ]
  },
  {
   "cell_type": "code",
   "execution_count": null,
   "metadata": {},
   "outputs": [],
   "source": [
    "year = 2020\n",
    "\n",
    "pudl_db = 'sqlite:///../data/downloads/pudl/pudl_data/sqlite/pudl.sqlite'\n",
    "pudl_engine = sa.create_engine(pudl_db)\n",
    "\n",
    "pudl_out = pudl.output.pudltabl.PudlTabl(\n",
    "    pudl_engine,\n",
    "    freq='MS',\n",
    "    start_date=f'{year}-01-01',\n",
    "    end_date=f'{year}-12-31'\n",
    ")"
   ]
  },
  {
   "cell_type": "markdown",
   "metadata": {},
   "source": [
    "## Load EIA data"
   ]
  },
  {
   "cell_type": "code",
   "execution_count": null,
   "metadata": {},
   "outputs": [],
   "source": [
    "# extract all of the tables from pudl_out early in the process and select\n",
    "# only the columns we need. this is for speed and clarity.\n",
    "\n",
    "remove_this = pudl.analysis.allocate_net_gen\n",
    "drop_interim_cols = False\n",
    "\n",
    "IDX_GENS = [\"report_date\", \"plant_id_eia\", \"generator_id\"]\n",
    "\"\"\"Id columns for generators.\"\"\"\n",
    "\n",
    "IDX_PM_ESC = [\"report_date\", \"plant_id_eia\", \"energy_source_code\", \"prime_mover_code\"]\n",
    "\"\"\"Id columns for plant, prime mover & fuel type records.\"\"\"\n",
    "\n",
    "IDX_ESC = [\"report_date\", \"plant_id_eia\", \"energy_source_code\"]\n",
    "\n",
    "IDX_U_ESC = [\"report_date\", \"plant_id_eia\", \"energy_source_code\", \"unit_id_pudl\"]\n",
    "\n",
    "# extract all of the tables from pudl_out early in the process and select\n",
    "# only the columns we need. this is for speed and clarity.\n",
    "# extract all of the tables from pudl_out early in the process and select\n",
    "# only the columns we need. this is for speed and clarity.\n",
    "gf = (\n",
    "    pudl_out.gf_eia923()\n",
    "    .loc[\n",
    "        :,\n",
    "        IDX_PM_ESC\n",
    "        + [\n",
    "            \"net_generation_mwh\",\n",
    "            \"fuel_consumed_mmbtu\",\n",
    "            \"fuel_consumed_for_electricity_mmbtu\",\n",
    "        ],\n",
    "    ]\n",
    "    .pipe(remove_this.manually_fix_energy_source_codes)\n",
    ")\n",
    "bf = (\n",
    "    pudl_out.bf_eia923()\n",
    "    .merge(\n",
    "        pd.read_sql(\"boilers_entity_eia\", pudl_out.pudl_engine),\n",
    "        how=\"left\",\n",
    "        on=[\"plant_id_eia\", \"boiler_id\"],\n",
    "    )\n",
    "    .loc[:, IDX_PM_ESC + [\"fuel_consumed_mmbtu\"]]\n",
    ")\n",
    "gen = (\n",
    "    pudl_out.gen_original_eia923().loc[:, IDX_GENS + [\"net_generation_mwh\"]]\n",
    "    # removes 4 records with NaN generator_id as of pudl v0.5\n",
    "    .dropna(subset=IDX_GENS)\n",
    ")\n",
    "gens = pudl_out.gens_eia860().loc[\n",
    "    :,\n",
    "    IDX_GENS\n",
    "    + [\n",
    "        \"prime_mover_code\",\n",
    "        \"unit_id_pudl\",\n",
    "        \"capacity_mw\",\n",
    "        \"fuel_type_count\",\n",
    "        \"operational_status\",\n",
    "        \"retirement_date\",\n",
    "    ]\n",
    "    + list(pudl_out.gens_eia860().filter(like=\"energy_source_code\"))\n",
    "    + list(pudl_out.gens_eia860().filter(like=\"startup_source_code\")),\n",
    "]\n",
    "# add any startup energy source codes to the list of energy source codes\n",
    "gens = remove_this.add_startup_energy_sources_to_esc_columns(gens)\n"
   ]
  },
  {
   "cell_type": "code",
   "execution_count": null,
   "metadata": {},
   "outputs": [],
   "source": [
    "plant_id_to_investigate = 160"
   ]
  },
  {
   "cell_type": "code",
   "execution_count": null,
   "metadata": {},
   "outputs": [],
   "source": [
    "gens[gens['plant_id_eia'] == plant_id_to_investigate]"
   ]
  },
  {
   "cell_type": "code",
   "execution_count": null,
   "metadata": {},
   "outputs": [],
   "source": [
    "gens.loc[gens['prime_mover_code'].isna(), ['plant_id_eia','generator_id']].drop_duplicates()"
   ]
  },
  {
   "cell_type": "code",
   "execution_count": null,
   "metadata": {},
   "outputs": [],
   "source": [
    "gens[gens['generator_id'].str.contains('ST')]"
   ]
  },
  {
   "cell_type": "code",
   "execution_count": null,
   "metadata": {},
   "outputs": [],
   "source": [
    "gen[gen['plant_id_eia'] == plant_id_to_investigate]"
   ]
  },
  {
   "cell_type": "code",
   "execution_count": null,
   "metadata": {},
   "outputs": [],
   "source": [
    "gf[gf['plant_id_eia'] == plant_id_to_investigate]"
   ]
  }
 ],
 "metadata": {
  "interpreter": {
   "hash": "4103f3cd497821eca917ea303dbe10c590d787eb7d2dc3fd4e15dec0356e7931"
  },
  "kernelspec": {
   "display_name": "Python 3.9.12 ('hourly_egrid')",
   "language": "python",
   "name": "python3"
  },
  "language_info": {
   "codemirror_mode": {
    "name": "ipython",
    "version": 3
   },
   "file_extension": ".py",
   "mimetype": "text/x-python",
   "name": "python",
   "nbconvert_exporter": "python",
   "pygments_lexer": "ipython3",
   "version": "3.9.12"
  },
  "orig_nbformat": 4
 },
 "nbformat": 4,
 "nbformat_minor": 2
}
