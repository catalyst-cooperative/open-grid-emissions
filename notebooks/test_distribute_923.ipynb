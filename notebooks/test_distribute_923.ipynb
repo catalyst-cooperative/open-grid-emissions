{
 "cells": [
  {
   "cell_type": "markdown",
   "metadata": {},
   "source": [
    "# About this notebook\n",
    "This notebook is used for testing code related to allocating the EIA-923 data before integrating it into PUDL and the data pipeline. \n",
    "\n",
    "I've also been using this to simply load EIA tables from the PUDL database to explore the EIA data as it exists in PUDL."
   ]
  },
  {
   "cell_type": "code",
   "execution_count": null,
   "metadata": {},
   "outputs": [],
   "source": [
    "%reload_ext autoreload\n",
    "%autoreload 2\n",
    "\n",
    "import sys\n",
    "sys.path.append('../../hourly-egrid/')\n",
    "\n",
    "# Useful high-level external modules.\n",
    "import numpy as np\n",
    "import pandas as pd\n",
    "import sqlalchemy as sa\n",
    "import warnings\n",
    "import plotly.express as px\n",
    "\n",
    "import pudl\n",
    "\n",
    "import src.data_cleaning as data_cleaning\n",
    "import src.load_data as load_data\n",
    "import pudl.analysis.allocate_net_gen as allocate_gen_fuel\n"
   ]
  },
  {
   "cell_type": "code",
   "execution_count": null,
   "metadata": {},
   "outputs": [],
   "source": [
    "year = 2020\n",
    "\n",
    "pudl_db = 'sqlite:///../data/downloads/pudl/pudl_data/sqlite/pudl.sqlite'\n",
    "pudl_engine = sa.create_engine(pudl_db)\n",
    "\n",
    "pudl_out = pudl.output.pudltabl.PudlTabl(\n",
    "    pudl_engine,\n",
    "    freq='MS',\n",
    "    start_date=f'{year}-01-01',\n",
    "    end_date=f'{year}-12-31'\n",
    ")"
   ]
  },
  {
   "cell_type": "markdown",
   "metadata": {},
   "source": [
    "## Load EIA data"
   ]
  },
  {
   "cell_type": "code",
   "execution_count": null,
   "metadata": {},
   "outputs": [],
   "source": [
    "# extract all of the tables from pudl_out early in the process and select\n",
    "# only the columns we need. this is for speed and clarity.\n",
    "\n",
    "remove_this = pudl.analysis.allocate_net_gen\n",
    "drop_interim_cols = False\n",
    "\n",
    "IDX_GENS = [\"report_date\", \"plant_id_eia\", \"generator_id\"]\n",
    "\"\"\"Id columns for generators.\"\"\"\n",
    "\n",
    "IDX_PM_ESC = [\"report_date\", \"plant_id_eia\", \"energy_source_code\", \"prime_mover_code\"]\n",
    "\"\"\"Id columns for plant, prime mover & fuel type records.\"\"\"\n",
    "\n",
    "IDX_ESC = [\"report_date\", \"plant_id_eia\", \"energy_source_code\"]\n",
    "\n",
    "IDX_U_ESC = [\"report_date\", \"plant_id_eia\", \"energy_source_code\", \"unit_id_pudl\"]\n",
    "\n",
    "# extract all of the tables from pudl_out early in the process and select\n",
    "# only the columns we need. this is for speed and clarity.\n",
    "# extract all of the tables from pudl_out early in the process and select\n",
    "# only the columns we need. this is for speed and clarity.\n",
    "gf = (\n",
    "    pudl_out.gf_eia923()\n",
    "    .loc[\n",
    "        :,\n",
    "        IDX_PM_ESC\n",
    "        + [\n",
    "            \"net_generation_mwh\",\n",
    "            \"fuel_consumed_mmbtu\",\n",
    "            \"fuel_consumed_for_electricity_mmbtu\",\n",
    "        ],\n",
    "    ]\n",
    "    .pipe(remove_this.manually_fix_energy_source_codes)\n",
    ")\n",
    "bf = (\n",
    "    pudl_out.bf_eia923()\n",
    "    .merge(\n",
    "        pd.read_sql(\"boilers_entity_eia\", pudl_out.pudl_engine),\n",
    "        how=\"left\",\n",
    "        on=[\"plant_id_eia\", \"boiler_id\"],\n",
    "    )\n",
    "    .loc[:, IDX_PM_ESC + [\"fuel_consumed_mmbtu\"]]\n",
    ")\n",
    "gen = (\n",
    "    pudl_out.gen_original_eia923().loc[:, IDX_GENS + [\"net_generation_mwh\"]]\n",
    "    # removes 4 records with NaN generator_id as of pudl v0.5\n",
    "    .dropna(subset=IDX_GENS)\n",
    ")\n",
    "gens = pudl_out.gens_eia860().loc[\n",
    "    :,\n",
    "    IDX_GENS\n",
    "    + [\n",
    "        \"prime_mover_code\",\n",
    "        \"unit_id_pudl\",\n",
    "        \"capacity_mw\",\n",
    "        \"fuel_type_count\",\n",
    "        \"operational_status\",\n",
    "        \"retirement_date\",\n",
    "    ]\n",
    "    + list(pudl_out.gens_eia860().filter(like=\"energy_source_code\"))\n",
    "    + list(pudl_out.gens_eia860().filter(like=\"startup_source_code\")),\n",
    "]\n",
    "# add any startup energy source codes to the list of energy source codes\n",
    "# fix MSW codes\n",
    "gens = remove_this.adjust_energy_source_codes(gens, gf, bf)\n",
    "# fix prime mover codes in gens so that they match the codes in the gf table\n",
    "missing_pm = gens[gens[\"prime_mover_code\"].isna()]\n",
    "if not missing_pm.empty:\n",
    "    warnings.warn(\n",
    "        f\"{len(missing_pm)} generators are missing prime mover codes in gens_eia860. \"\n",
    "        \"This will result in incorrect allocation.\"\n",
    "    )"
   ]
  },
  {
   "cell_type": "code",
   "execution_count": null,
   "metadata": {},
   "outputs": [],
   "source": [
    "# duplicate each entry 12 times to create an entry for each month of the year\n",
    "gens = remove_this.create_monthly_gens_records(gens)\n",
    "\n",
    "# the gen table is missing some generator ids. Let's fill this using the gens table, leaving a missing value for net generation\n",
    "gen = gen.merge(\n",
    "    gens[[\"plant_id_eia\", \"generator_id\", \"report_date\"]],\n",
    "    how=\"outer\",\n",
    "    on=[\"plant_id_eia\", \"generator_id\", \"report_date\"],\n",
    ")"
   ]
  },
  {
   "cell_type": "code",
   "execution_count": null,
   "metadata": {},
   "outputs": [],
   "source": [
    "stack_gens = remove_this.stack_generators(\n",
    "    gens, cat_col=\"energy_source_code_num\", stacked_col=\"energy_source_code\"\n",
    ")\n",
    "\n",
    "bf_summed = (\n",
    "    bf.groupby(by=IDX_PM_ESC, dropna=False)\n",
    "    .sum(min_count=1)\n",
    "    .add_suffix(\"_bf_tbl\")\n",
    "    .reset_index()\n",
    "    .pipe(pudl.helpers.convert_cols_dtypes, \"eia\")\n",
    ")\n",
    "gf_pm_fuel_summed = (\n",
    "    gf.groupby(by=IDX_PM_ESC)\n",
    "    .sum(min_count=1)[\n",
    "        [\n",
    "            \"fuel_consumed_mmbtu\",\n",
    "            \"fuel_consumed_for_electricity_mmbtu\",\n",
    "            \"net_generation_mwh\",\n",
    "        ]\n",
    "    ]\n",
    "    .add_suffix(\"_gf_tbl\")\n",
    "    .reset_index()\n",
    ")\n",
    "gf_fuel_summed = (\n",
    "    gf.groupby(by=IDX_ESC)\n",
    "    .sum(min_count=1)[\n",
    "        [\"fuel_consumed_mmbtu\", \"fuel_consumed_for_electricity_mmbtu\"]\n",
    "    ]\n",
    "    .add_suffix(\"_gf_tbl_fuel\")\n",
    "    .reset_index()\n",
    ")"
   ]
  },
  {
   "cell_type": "code",
   "execution_count": null,
   "metadata": {},
   "outputs": [],
   "source": [
    "gen_assoc = (\n",
    "    pd.merge(stack_gens, gen, on=IDX_GENS, how=\"outer\")\n",
    "    .rename(columns={\"net_generation_mwh\": \"net_generation_mwh_g_tbl\"})\n",
    "    .merge(gf_pm_fuel_summed, on=IDX_PM_ESC, how=\"left\", validate=\"m:1\")\n",
    "\n",
    ")"
   ]
  },
  {
   "cell_type": "code",
   "execution_count": null,
   "metadata": {},
   "outputs": [],
   "source": [
    "gen_assoc"
   ]
  },
  {
   "cell_type": "code",
   "execution_count": null,
   "metadata": {},
   "outputs": [],
   "source": [
    "# Get a list of all of the plants with a retired generator and non-null/non-zero gf generation data reported after the retirement date\n",
    "retired_with_gf = list(\n",
    "        gen_assoc.loc[\n",
    "            (gen_assoc.operational_status == \"retired\")\n",
    "            & (gen_assoc.report_date > gen_assoc.retirement_date)\n",
    "            & (gen_assoc.net_generation_mwh_g_tbl.isnull())\n",
    "            & (gen_assoc.net_generation_mwh_gf_tbl.notnull())\n",
    "            & (gen_assoc.net_generation_mwh_gf_tbl != 0),\n",
    "            \"plant_id_eia\",\n",
    "        ].unique()\n",
    "    )\n",
    "\n",
    "# create a table for all of these plants that identifies all of the unique operational statuses\n",
    "plants_with_retired_generators = gen_assoc.loc[\n",
    "    gen_assoc[\"plant_id_eia\"].isin(retired_with_gf),\n",
    "    [\"plant_id_eia\", \"operational_status\",\"retirement_date\"],\n",
    "].drop_duplicates()\n",
    "\n",
    "# remove plants that have operational statuses other than retired\n",
    "plants_with_nonretired_generators = list(plants_with_retired_generators.loc[(plants_with_retired_generators[\"operational_status\"] != \"retired\"), \"plant_id_eia\"].unique())\n",
    "plants_with_retired_generators = plants_with_retired_generators[~plants_with_retired_generators[\"plant_id_eia\"].isin(plants_with_nonretired_generators)]\n",
    "\n",
    "# only keep the plants where all retirement dates are before the current year\n",
    "plants_retiring_after_start_date = list(plants_with_retired_generators.loc[plants_with_retired_generators[\"retirement_date\"] >= pudl_out.start_date, \"plant_id_eia\"].unique())\n",
    "entirely_retired_plants = plants_with_retired_generators[~plants_with_retired_generators[\"plant_id_eia\"].isin(plants_retiring_after_start_date)]\n",
    "\n",
    "entirely_retired_plants = list(entirely_retired_plants[\"plant_id_eia\"].unique())\n",
    "\n",
    "retired_plants = gen_assoc[\n",
    "        gen_assoc[\"plant_id_eia\"].isin(entirely_retired_plants)\n",
    "    ]\n",
    "retired_plants"
   ]
  },
  {
   "cell_type": "code",
   "execution_count": null,
   "metadata": {},
   "outputs": [],
   "source": []
  },
  {
   "cell_type": "code",
   "execution_count": null,
   "metadata": {},
   "outputs": [],
   "source": [
    "retiring = gen_assoc.loc[\n",
    "        (gen_assoc.operational_status == \"retired\")\n",
    "        & (\n",
    "            (gen_assoc.report_date <= gen_assoc.retirement_date)\n",
    "            | (gen_assoc.net_generation_mwh_g_tbl.notnull())\n",
    "        )\n",
    "    ]"
   ]
  },
  {
   "cell_type": "code",
   "execution_count": null,
   "metadata": {},
   "outputs": [],
   "source": [
    "retired_plants[retired_plants['plant_id_eia'] == 1555]"
   ]
  },
  {
   "cell_type": "code",
   "execution_count": null,
   "metadata": {},
   "outputs": [],
   "source": [
    "gen_assoc[gen_assoc['plant_id_eia'] == 6082]"
   ]
  },
  {
   "cell_type": "code",
   "execution_count": null,
   "metadata": {},
   "outputs": [],
   "source": [
    "def remove_inactive_generators(gen_assoc):\n",
    "    \"\"\"\n",
    "    Remove the retired generators.\n",
    "\n",
    "    We don't want to associate net generation to generators that are retired\n",
    "    (or proposed! or any other `operational_status` besides `existing`).\n",
    "\n",
    "    We do want to keep the generators that retire mid-year and have generator\n",
    "    specific data from the generation_eia923 table. Removing the generators\n",
    "    that retire mid-report year and don't report to the generation_eia923 table\n",
    "    is not exactly a great assumption. For now, we are removing them. We should\n",
    "    employ a strategy that allocates only a portion of the generation to them\n",
    "    based on their operational months (or by doing the allocation on a monthly\n",
    "    basis).\n",
    "\n",
    "    Args:\n",
    "        gen_assoc (pandas.DataFrame): table of generators with stacked fuel\n",
    "            types and broadcasted net generation data from the\n",
    "            generation_eia923 and generation_fuel_eia923 tables. Output of\n",
    "            `associate_generator_tables()`.\n",
    "    \"\"\"\n",
    "    existing = gen_assoc.loc[(gen_assoc.operational_status == \"existing\")]\n",
    "    # keep the gens that retired mid-report-year that have generator\n",
    "    # specific data\n",
    "    retiring = gen_assoc.loc[\n",
    "        (gen_assoc.operational_status == \"retired\")\n",
    "        & (\n",
    "            (gen_assoc.report_date <= gen_assoc.retirement_date)\n",
    "            | (gen_assoc.net_generation_mwh_g_tbl.notnull())\n",
    "        )\n",
    "    ]\n",
    "    # sometimes a plant will report generation data before its proposed operating date\n",
    "    # we want to keep any data that is reported for proposed generators\n",
    "    proposed_generators = gen_assoc.loc[\n",
    "        (gen_assoc.operational_status == \"proposed\")\n",
    "        & (gen_assoc.net_generation_mwh_g_tbl.notnull())\n",
    "    ]\n",
    "\n",
    "    # when we do not have generator-specific generation for a proposed generator, we can also\n",
    "    # look at whether there is generation reported from the gf table. However, if a proposed\n",
    "    # generator is part of an existing plant, it is possible that this gf generation belongs\n",
    "    # to one of the other existing generators. Thus, we want to identify those proposed generators\n",
    "    # where the entire plant is proposed (since the gf-reported generation could only come from\n",
    "    # one of the new generators).\n",
    "\n",
    "    # Get a list of all of the plants that have a proposed generator with non-null and non-zero gf generation\n",
    "    proposed_with_gf = list(\n",
    "        gen_assoc.loc[\n",
    "            (gen_assoc.operational_status == \"proposed\")\n",
    "            & (gen_assoc.net_generation_mwh_gf_tbl.notnull())\n",
    "            & (gen_assoc.net_generation_mwh_gf_tbl != 0),\n",
    "            \"plant_id_eia\",\n",
    "        ].unique()\n",
    "    )\n",
    "\n",
    "    # create a table for all of these plants that identifies all of the unique operational statuses\n",
    "    plants_with_proposed_generators = gen_assoc.loc[\n",
    "        gen_assoc[\"plant_id_eia\"].isin(proposed_with_gf),\n",
    "        [\"plant_id_eia\", \"operational_status\"],\n",
    "    ].drop_duplicates()\n",
    "\n",
    "    # filter this list to those plant ids where the only operational status is \"proposed\"\n",
    "    # i.e. where the entire plant is new\n",
    "    entirely_new_plants = plants_with_proposed_generators[\n",
    "        (~plants_with_proposed_generators.duplicated(subset=\"plant_id_eia\", keep=False))\n",
    "        & (plants_with_proposed_generators[\"operational_status\"] == \"proposed\")\n",
    "    ]\n",
    "    # convert this table into a list of these plant ids\n",
    "    entirely_new_plants = list(entirely_new_plants[\"plant_id_eia\"].unique())\n",
    "\n",
    "    # keep data for these proposed plants in months where there is reported data\n",
    "    proposed_plants = gen_assoc[\n",
    "        gen_assoc[\"plant_id_eia\"].isin(entirely_new_plants)\n",
    "        & gen_assoc[\"net_generation_mwh_gf_tbl\"].notnull()\n",
    "    ]\n",
    "\n",
    "    gen_assoc_removed = pd.concat([existing, retiring, proposed_generators, proposed_plants])\n",
    "    \n",
    "    return gen_assoc_removed"
   ]
  },
  {
   "cell_type": "code",
   "execution_count": null,
   "metadata": {},
   "outputs": [],
   "source": [
    "gen_assoc = (\n",
    "    pd.merge(stack_gens, gen, on=IDX_GENS, how=\"outer\")\n",
    "    .rename(columns={\"net_generation_mwh\": \"net_generation_mwh_g_tbl\"})\n",
    "    .merge(gf_pm_fuel_summed, on=IDX_PM_ESC, how=\"left\", validate=\"m:1\")\n",
    "    .pipe(remove_inactive_generators)\n",
    "    .merge(bf_summed, on=IDX_PM_ESC, how=\"left\", validate=\"m:1\")\n",
    "    .merge(\n",
    "        gf_fuel_summed,\n",
    "        on=IDX_ESC,\n",
    "        how=\"left\",\n",
    "        validate=\"m:1\",\n",
    "    )\n",
    ")\n",
    "\n",
    "\n",
    "\n",
    "# replace zeros with small number to avoid div by zero errors when calculating allocation fraction\n",
    "DATA_COLUMNS = [\"net_generation_mwh_g_tbl\",\"fuel_consumed_mmbtu_gf_tbl\",\"fuel_consumed_for_electricity_mmbtu_gf_tbl\",\"net_generation_mwh_gf_tbl\",\"fuel_consumed_mmbtu_bf_tbl\",\"fuel_consumed_mmbtu_gf_tbl_fuel\",\"fuel_consumed_for_electricity_mmbtu_gf_tbl_fuel\"]\n",
    "gen_assoc[DATA_COLUMNS] = gen_assoc[DATA_COLUMNS].replace(0,0.001)"
   ]
  },
  {
   "cell_type": "code",
   "execution_count": null,
   "metadata": {},
   "outputs": [],
   "source": [
    "gen_assoc"
   ]
  },
  {
   "cell_type": "code",
   "execution_count": null,
   "metadata": {},
   "outputs": [],
   "source": [
    "gen_assoc = (\n",
    "    pd.merge(stack_gens, gen, on=IDX_GENS, how=\"outer\")\n",
    "    .rename(columns={\"net_generation_mwh\": \"net_generation_mwh_g_tbl\"})\n",
    "    .merge(gf_pm_fuel_summed, on=IDX_PM_ESC, how=\"left\", validate=\"m:1\")\n",
    ")"
   ]
  },
  {
   "cell_type": "code",
   "execution_count": null,
   "metadata": {},
   "outputs": [],
   "source": [
    "# when we do not have generator-specific generation for a proposed generator, we can also\n",
    "# look at whether there is generation reported from the gf table. However, if a proposed\n",
    "# generator is part of an existing plant, it is possible that this gf generation belongs\n",
    "# to one of the other existing generators. Thus, we want to identify those proposed generators\n",
    "# where the entire plant is proposed (since the gf-reported generation could only come from\n",
    "# one of the new generators).\n",
    "\n",
    "# Get a list of all of the plants that have a proposed generator with non-null and non-zero gf generation\n",
    "proposed_with_gf = list(gen_assoc.loc[(gen_assoc.operational_status == \"proposed\") & (gen_assoc.net_generation_mwh_gf_tbl.notnull()) & (gen_assoc.net_generation_mwh_gf_tbl != 0), \"plant_id_eia\"].unique())\n",
    "\n",
    "# create a table for all of these plants that identifies all of the unique operational statuses\n",
    "plants_with_proposed_generators = gen_assoc.loc[gen_assoc[\"plant_id_eia\"].isin(proposed_with_gf), [\"plant_id_eia\",\"operational_status\"]].drop_duplicates()\n",
    "\n",
    "# filter this list to those plant ids where the only operational status is \"proposed\" \n",
    "# i.e. where the entire plant is new\n",
    "entirely_new_plants = plants_with_proposed_generators[(~plants_with_proposed_generators.duplicated(subset=\"plant_id_eia\", keep=False)) & (plants_with_proposed_generators[\"operational_status\"] == \"proposed\")]\n",
    "# convert this table into a list of these plant ids\n",
    "entirely_new_plants = list(entirely_new_plants['plant_id_eia'].unique())\n",
    "\n",
    "# keep data for these proposed plants in months where there is reported data\n",
    "proposed_plants = gen_assoc[gen_assoc['plant_id_eia'].isin(entirely_new_plants) & gen_assoc['net_generation_mwh_gf_tbl'].notnull()]"
   ]
  },
  {
   "cell_type": "code",
   "execution_count": null,
   "metadata": {},
   "outputs": [],
   "source": [
    "proposed_plants"
   ]
  },
  {
   "cell_type": "code",
   "execution_count": null,
   "metadata": {},
   "outputs": [],
   "source": []
  },
  {
   "cell_type": "code",
   "execution_count": null,
   "metadata": {},
   "outputs": [],
   "source": [
    "new_plants[(~new_plants.duplicated(subset=\"plant_id_eia\", keep=False)) & (new_plants[\"operational_status\"] == \"proposed\")]"
   ]
  },
  {
   "cell_type": "code",
   "execution_count": null,
   "metadata": {},
   "outputs": [],
   "source": [
    "plant_id_to_investigate = 62562"
   ]
  },
  {
   "cell_type": "code",
   "execution_count": null,
   "metadata": {},
   "outputs": [],
   "source": [
    "gens[gens['plant_id_eia'] == plant_id_to_investigate]"
   ]
  },
  {
   "cell_type": "code",
   "execution_count": null,
   "metadata": {},
   "outputs": [],
   "source": [
    "gens.loc[gens['prime_mover_code'].isna(), ['plant_id_eia','generator_id']].drop_duplicates()"
   ]
  },
  {
   "cell_type": "code",
   "execution_count": null,
   "metadata": {},
   "outputs": [],
   "source": [
    "gens[gens['generator_id'].str.contains('ST')]"
   ]
  },
  {
   "cell_type": "code",
   "execution_count": null,
   "metadata": {},
   "outputs": [],
   "source": [
    "gen[gen['plant_id_eia'] == plant_id_to_investigate]"
   ]
  },
  {
   "cell_type": "code",
   "execution_count": null,
   "metadata": {},
   "outputs": [],
   "source": [
    "gf[gf['plant_id_eia'] == plant_id_to_investigate]"
   ]
  }
 ],
 "metadata": {
  "interpreter": {
   "hash": "4103f3cd497821eca917ea303dbe10c590d787eb7d2dc3fd4e15dec0356e7931"
  },
  "kernelspec": {
   "display_name": "Python 3.9.12 ('hourly_egrid')",
   "language": "python",
   "name": "python3"
  },
  "language_info": {
   "codemirror_mode": {
    "name": "ipython",
    "version": 3
   },
   "file_extension": ".py",
   "mimetype": "text/x-python",
   "name": "python",
   "nbconvert_exporter": "python",
   "pygments_lexer": "ipython3",
   "version": "3.9.12"
  },
  "orig_nbformat": 4
 },
 "nbformat": 4,
 "nbformat_minor": 2
}
