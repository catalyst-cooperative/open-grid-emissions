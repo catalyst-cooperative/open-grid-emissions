{
 "cells": [
  {
   "cell_type": "markdown",
   "metadata": {},
   "source": [
    "# Explore Grid Gross Loss calculation"
   ]
  },
  {
   "cell_type": "code",
   "execution_count": 2,
   "metadata": {},
   "outputs": [],
   "source": [
    "import pandas as pd\n",
    "\n",
    "%reload_ext autoreload\n",
    "%autoreload 2\n",
    "\n",
    "\n",
    "# Tell python where to look for modules. \n",
    "import sys\n",
    "sys.path.append('../../hourly-egrid/')\n",
    "\n",
    "import src.download_data as download_data\n",
    "import src.grid_gross_loss as ggl"
   ]
  },
  {
   "cell_type": "code",
   "execution_count": 3,
   "metadata": {},
   "outputs": [],
   "source": [
    "year = 2020"
   ]
  },
  {
   "cell_type": "code",
   "execution_count": 3,
   "metadata": {},
   "outputs": [
    {
     "name": "stdout",
     "output_type": "stream",
     "text": [
      "    2020 EIA-861 already downloaded\n"
     ]
    }
   ],
   "source": [
    "download_data.download_raw_eia861(year)"
   ]
  },
  {
   "cell_type": "code",
   "execution_count": 4,
   "metadata": {},
   "outputs": [],
   "source": [
    "ba_disposition = ggl.calculate_ba_gross_loss(year)"
   ]
  },
  {
   "cell_type": "markdown",
   "metadata": {},
   "source": [
    "# Why doesn't this match eGRID?\n",
    "The average GGL for the entire countyr is 2.77%, but eGRID reports double this value: 5.3%"
   ]
  },
  {
   "cell_type": "code",
   "execution_count": 6,
   "metadata": {},
   "outputs": [
    {
     "name": "stderr",
     "output_type": "stream",
     "text": [
      "C:\\Users\\Greg\\AppData\\Local\\Temp\\ipykernel_16404\\3056343096.py:1: FutureWarning: Dropping of nuisance columns in DataFrame reductions (with 'numeric_only=None') is deprecated; in a future version this will raise TypeError.  Select only valid columns before calling the reduction.\n",
      "  ba_disposition.sum()[\"total_energy_losses_mwh\"] / ba_disposition.sum()[\"total_disposition_mwh\"]\n"
     ]
    },
    {
     "data": {
      "text/plain": [
       "0.027698850616695074"
      ]
     },
     "execution_count": 6,
     "metadata": {},
     "output_type": "execute_result"
    }
   ],
   "source": [
    "\n",
    "ba_disposition.sum()[\"total_energy_losses_mwh\"] / ba_disposition.sum()[\"total_disposition_mwh\"]"
   ]
  },
  {
   "cell_type": "code",
   "execution_count": 7,
   "metadata": {},
   "outputs": [
    {
     "data": {
      "text/html": [
       "<div>\n",
       "<style scoped>\n",
       "    .dataframe tbody tr th:only-of-type {\n",
       "        vertical-align: middle;\n",
       "    }\n",
       "\n",
       "    .dataframe tbody tr th {\n",
       "        vertical-align: top;\n",
       "    }\n",
       "\n",
       "    .dataframe thead th {\n",
       "        text-align: right;\n",
       "    }\n",
       "</style>\n",
       "<table border=\"1\" class=\"dataframe\">\n",
       "  <thead>\n",
       "    <tr style=\"text-align: right;\">\n",
       "      <th></th>\n",
       "      <th>ba_code</th>\n",
       "      <th>total_energy_losses_mwh</th>\n",
       "      <th>total_disposition_mwh</th>\n",
       "      <th>grid_gross_loss</th>\n",
       "    </tr>\n",
       "  </thead>\n",
       "  <tbody>\n",
       "    <tr>\n",
       "      <th>21</th>\n",
       "      <td>HECO</td>\n",
       "      <td>276888.0</td>\n",
       "      <td>6.651997e+06</td>\n",
       "      <td>0.041625</td>\n",
       "    </tr>\n",
       "    <tr>\n",
       "      <th>22</th>\n",
       "      <td>HIMS</td>\n",
       "      <td>129672.0</td>\n",
       "      <td>2.500285e+06</td>\n",
       "      <td>0.051863</td>\n",
       "    </tr>\n",
       "  </tbody>\n",
       "</table>\n",
       "</div>"
      ],
      "text/plain": [
       "   ba_code  total_energy_losses_mwh  total_disposition_mwh  grid_gross_loss\n",
       "21    HECO                 276888.0           6.651997e+06         0.041625\n",
       "22    HIMS                 129672.0           2.500285e+06         0.051863"
      ]
     },
     "execution_count": 7,
     "metadata": {},
     "output_type": "execute_result"
    }
   ],
   "source": [
    "hi_bas = [\"HECO\",\"HIMS\"]\n",
    "ba_disposition[ba_disposition[\"ba_code\"].isin(hi_bas)]"
   ]
  },
  {
   "cell_type": "code",
   "execution_count": 10,
   "metadata": {},
   "outputs": [
    {
     "data": {
      "text/html": [
       "<div>\n",
       "<style scoped>\n",
       "    .dataframe tbody tr th:only-of-type {\n",
       "        vertical-align: middle;\n",
       "    }\n",
       "\n",
       "    .dataframe tbody tr th {\n",
       "        vertical-align: top;\n",
       "    }\n",
       "\n",
       "    .dataframe thead th {\n",
       "        text-align: right;\n",
       "    }\n",
       "</style>\n",
       "<table border=\"1\" class=\"dataframe\">\n",
       "  <thead>\n",
       "    <tr style=\"text-align: right;\">\n",
       "      <th></th>\n",
       "      <th>ba_code</th>\n",
       "      <th>total_energy_losses_mwh</th>\n",
       "      <th>total_disposition_mwh</th>\n",
       "      <th>grid_gross_loss</th>\n",
       "    </tr>\n",
       "  </thead>\n",
       "  <tbody>\n",
       "    <tr>\n",
       "      <th>15</th>\n",
       "      <td>ERCO</td>\n",
       "      <td>1.309243e+07</td>\n",
       "      <td>6.344030e+08</td>\n",
       "      <td>0.020637</td>\n",
       "    </tr>\n",
       "  </tbody>\n",
       "</table>\n",
       "</div>"
      ],
      "text/plain": [
       "   ba_code  total_energy_losses_mwh  total_disposition_mwh  grid_gross_loss\n",
       "15    ERCO             1.309243e+07           6.344030e+08         0.020637"
      ]
     },
     "execution_count": 10,
     "metadata": {},
     "output_type": "execute_result"
    }
   ],
   "source": [
    "ba_disposition[ba_disposition[\"ba_code\"] == \"ERCO\"]"
   ]
  },
  {
   "cell_type": "code",
   "execution_count": 13,
   "metadata": {},
   "outputs": [
    {
     "data": {
      "text/html": [
       "<div>\n",
       "<style scoped>\n",
       "    .dataframe tbody tr th:only-of-type {\n",
       "        vertical-align: middle;\n",
       "    }\n",
       "\n",
       "    .dataframe tbody tr th {\n",
       "        vertical-align: top;\n",
       "    }\n",
       "\n",
       "    .dataframe thead th {\n",
       "        text-align: right;\n",
       "    }\n",
       "</style>\n",
       "<table border=\"1\" class=\"dataframe\">\n",
       "  <thead>\n",
       "    <tr style=\"text-align: right;\">\n",
       "      <th></th>\n",
       "      <th>ba_code</th>\n",
       "      <th>total_energy_losses_mwh</th>\n",
       "      <th>total_disposition_mwh</th>\n",
       "      <th>grid_gross_loss</th>\n",
       "    </tr>\n",
       "  </thead>\n",
       "  <tbody>\n",
       "    <tr>\n",
       "      <th>2</th>\n",
       "      <td>AKMS</td>\n",
       "      <td>156587.0</td>\n",
       "      <td>3605061.0</td>\n",
       "      <td>0.043435</td>\n",
       "    </tr>\n",
       "    <tr>\n",
       "      <th>3</th>\n",
       "      <td>AMPL</td>\n",
       "      <td>0.0</td>\n",
       "      <td>834120.0</td>\n",
       "      <td>0.000000</td>\n",
       "    </tr>\n",
       "    <tr>\n",
       "      <th>8</th>\n",
       "      <td>CEA</td>\n",
       "      <td>100514.0</td>\n",
       "      <td>1382154.0</td>\n",
       "      <td>0.072723</td>\n",
       "    </tr>\n",
       "  </tbody>\n",
       "</table>\n",
       "</div>"
      ],
      "text/plain": [
       "  ba_code  total_energy_losses_mwh  total_disposition_mwh  grid_gross_loss\n",
       "2    AKMS                 156587.0              3605061.0         0.043435\n",
       "3    AMPL                      0.0               834120.0         0.000000\n",
       "8     CEA                 100514.0              1382154.0         0.072723"
      ]
     },
     "execution_count": 13,
     "metadata": {},
     "output_type": "execute_result"
    }
   ],
   "source": [
    "ak_bas = [\"AMPL\",\"AKMS\",\"CEA\"]\n",
    "ba_disposition[ba_disposition[\"ba_code\"].isin(ak_bas)]"
   ]
  }
 ],
 "metadata": {
  "kernelspec": {
   "display_name": "Python 3.10.5 ('hourly_egrid')",
   "language": "python",
   "name": "python3"
  },
  "language_info": {
   "codemirror_mode": {
    "name": "ipython",
    "version": 3
   },
   "file_extension": ".py",
   "mimetype": "text/x-python",
   "name": "python",
   "nbconvert_exporter": "python",
   "pygments_lexer": "ipython3",
   "version": "3.10.5"
  },
  "orig_nbformat": 4,
  "vscode": {
   "interpreter": {
    "hash": "4103f3cd497821eca917ea303dbe10c590d787eb7d2dc3fd4e15dec0356e7931"
   }
  }
 },
 "nbformat": 4,
 "nbformat_minor": 2
}
