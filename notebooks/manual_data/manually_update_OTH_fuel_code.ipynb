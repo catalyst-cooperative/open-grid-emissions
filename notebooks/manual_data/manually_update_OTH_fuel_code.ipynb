{
 "cells": [
  {
   "cell_type": "code",
   "execution_count": null,
   "metadata": {},
   "outputs": [],
   "source": [
    "%reload_ext autoreload\n",
    "%autoreload 2\n",
    "\n",
    "# Useful high-level external modules.\n",
    "import numpy as np\n",
    "import pandas as pd\n",
    "import plotly.express as px\n",
    "\n",
    "import sys\n",
    "sys.path.append(\"../../../hourly-egrid/\")\n",
    "\n",
    "import src.data_cleaning as data_cleaning\n",
    "import src.load_data as load_data\n",
    "\n"
   ]
  },
  {
   "cell_type": "code",
   "execution_count": null,
   "metadata": {},
   "outputs": [],
   "source": [
    "year = 2020\n",
    "pudl_out = load_data.initialize_pudl_out(year=year)\n"
   ]
  },
  {
   "cell_type": "code",
   "execution_count": null,
   "metadata": {},
   "outputs": [],
   "source": [
    "# load the fuel content data and visualize the distribution by fuel\n",
    "fuel_heat_content = pudl_out.gf_eia923()[\n",
    "    [\"plant_id_eia\", \"report_date\", \"energy_source_code\", \"fuel_mmbtu_per_unit\"]\n",
    "]\n",
    "fuel_heat_content = fuel_heat_content.replace([np.inf, -np.inf], np.nan)\n",
    "fuel_heat_content = fuel_heat_content.dropna()\n",
    "px.box(\n",
    "    fuel_heat_content.sort_values(by=\"fuel_mmbtu_per_unit\"),\n",
    "    x=\"energy_source_code\",\n",
    "    y=\"fuel_mmbtu_per_unit\",\n",
    ")\n"
   ]
  },
  {
   "cell_type": "code",
   "execution_count": null,
   "metadata": {},
   "outputs": [],
   "source": [
    "fuel_heat_content[fuel_heat_content[\"plant_id_eia\"] == 902]\n"
   ]
  },
  {
   "cell_type": "code",
   "execution_count": null,
   "metadata": {},
   "outputs": [],
   "source": [
    "# load EPA fuel type data\n",
    "epa_fuel_types = data_cleaning.get_epa_unit_fuel_types(year)\n",
    "epa_fuel_types[epa_fuel_types[\"energy_source_code\"] == \"OTH\"]\n"
   ]
  },
  {
   "cell_type": "code",
   "execution_count": null,
   "metadata": {},
   "outputs": [],
   "source": [
    "# Load EIA-860 to examine whether a plant is retired\n",
    "gens_860 = pudl_out.gens_eia860()\n",
    "gens_860[gens_860[\"plant_id_eia\"] == 60670]\n"
   ]
  }
 ],
 "metadata": {
  "kernelspec": {
   "display_name": "Python 3.9.12 ('hourly_egrid')",
   "language": "python",
   "name": "python3"
  },
  "language_info": {
   "codemirror_mode": {
    "name": "ipython",
    "version": 3
   },
   "file_extension": ".py",
   "mimetype": "text/x-python",
   "name": "python",
   "nbconvert_exporter": "python",
   "pygments_lexer": "ipython3",
   "version": "3.10.5"
  },
  "orig_nbformat": 4,
  "vscode": {
   "interpreter": {
    "hash": "4103f3cd497821eca917ea303dbe10c590d787eb7d2dc3fd4e15dec0356e7931"
   }
  }
 },
 "nbformat": 4,
 "nbformat_minor": 2
}
