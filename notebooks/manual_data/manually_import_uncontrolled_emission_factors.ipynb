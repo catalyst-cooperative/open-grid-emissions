{
 "cells": [
  {
   "cell_type": "code",
   "execution_count": 11,
   "id": "b0de1a57",
   "metadata": {},
   "outputs": [],
   "source": [
    "import os\n",
    "import pandas as pd"
   ]
  },
  {
   "cell_type": "code",
   "execution_count": 9,
   "id": "fcd771a8",
   "metadata": {},
   "outputs": [],
   "source": [
    "import sys\n",
    "\n",
    "# NOTE(milo): Need to add 'src' to the path to fix import errors.\n",
    "sys.path.append(\"../../src\")\n",
    "\n",
    "import src.data_cleaning as data_cleaning\n",
    "import src.load_data as load_data\n",
    "import src.filepaths as filepaths"
   ]
  },
  {
   "cell_type": "code",
   "execution_count": 27,
   "id": "286bd311",
   "metadata": {},
   "outputs": [],
   "source": [
    "def load_so2_uncontrolled_efs(path_to_xlsx):\n",
    "    \"\"\"\n",
    "    https://catalystcoop-pudl.readthedocs.io/en/latest/data_dictionaries/codes_and_labels.html\n",
    "    \"\"\"\n",
    "    column_names = [\n",
    "        'readable_fuel_name',\n",
    "        'eia_fuel_code',\n",
    "        'source_and_tables',\n",
    "        'emissions_units',\n",
    "        'cyclone_firing_boiler',\n",
    "        'fluidized_bed_firing_boiler',\n",
    "        'stoker_boiler',\n",
    "        'tangential_firing_boiler',\n",
    "        'all_other_boiler_types',\n",
    "        'combustion_turbine',\n",
    "        'internal_combustion_engine'\n",
    "    ]\n",
    "\n",
    "    column_dtypes = {\n",
    "        'readable_fuel_name': 'str',\n",
    "        'eia_fuel_code': 'str',\n",
    "        'source_and_tables': 'str',\n",
    "        'emissions_units': 'str',\n",
    "    }\n",
    "    \n",
    "    # Every other column is a float.\n",
    "    for column_name in column_names:\n",
    "        if column_name not in column_dtypes:\n",
    "            column_dtypes[column_name] = 'float64'\n",
    "    \n",
    "    # NOTE(milo): Header starts on 2 for this one!\n",
    "    df = pd.read_excel(\n",
    "        io=path_to_xlsx,\n",
    "        sheet_name=\"epa_a_01\",\n",
    "        header=2,\n",
    "        names=column_names,\n",
    "        dtype=column_dtypes,\n",
    "        na_values=\".\",\n",
    "        skipfooter=1,\n",
    "    )\n",
    "\n",
    "    return df"
   ]
  },
  {
   "cell_type": "code",
   "execution_count": 28,
   "id": "1618e5c7",
   "metadata": {},
   "outputs": [],
   "source": [
    "def load_nox_uncontrolled_efs(path_to_xlsx):\n",
    "    \"\"\"\n",
    "    https://catalystcoop-pudl.readthedocs.io/en/latest/data_dictionaries/codes_and_labels.html\n",
    "    \"\"\"    \n",
    "    column_names = [\n",
    "        'readable_fuel_name',\n",
    "        'eia_fuel_code',\n",
    "        'source_and_tables',\n",
    "        'emissions_units',\n",
    "        'cyclone_firing_boiler',\n",
    "        'fluidized_bed_firing_boiler',\n",
    "        'stoker_boiler',\n",
    "        'tangential_firing_boiler_dry_bottom',\n",
    "        'tangential_firing_boiler_wet_bottom',\n",
    "        'all_other_boiler_types_dry_bottom',\n",
    "        'all_other_boiler_types_wet_bottom',\n",
    "        'combustion_turbine',\n",
    "        'internal_combustion_engine'\n",
    "    ]\n",
    "    \n",
    "    column_dtypes = {\n",
    "        'readable_fuel_name': 'str',\n",
    "        'eia_fuel_code': 'str',\n",
    "        'source_and_tables': 'str',\n",
    "        'emissions_units': 'str',\n",
    "    }\n",
    "\n",
    "    # Every other column is a float.\n",
    "    for column_name in column_names:\n",
    "        if column_name not in column_dtypes:\n",
    "            column_dtypes[column_name] = 'float64'\n",
    "    \n",
    "    # NOTE(milo): Header starts on 3 for this one!\n",
    "    df = pd.read_excel(\n",
    "        io=path_to_xlsx,\n",
    "        sheet_name=\"epa_a_02\",\n",
    "        header=3,\n",
    "        names=column_names,\n",
    "        dtype=column_dtypes,\n",
    "        na_values=\".\",\n",
    "        skipfooter=1,\n",
    "    )\n",
    "\n",
    "    return df"
   ]
  },
  {
   "cell_type": "code",
   "execution_count": 29,
   "id": "fbe7e194",
   "metadata": {},
   "outputs": [],
   "source": [
    "base_folder = filepaths.manual_folder('eia_electric_power_annual')\n",
    "so2_uncontrolled_efs_path = os.path.join(base_folder, 'epa_a_01_so2_uncontrolled_efs.xlsx')\n",
    "nox_uncontrolled_efs_path = os.path.join(base_folder, 'epa_a_02_nox_uncontrolled_efs.xlsx')"
   ]
  },
  {
   "cell_type": "code",
   "execution_count": 30,
   "id": "aa66e4d7",
   "metadata": {},
   "outputs": [],
   "source": [
    "so2_uncontrolled_efs = load_so2_uncontrolled_efs(so2_uncontrolled_efs_path)\n",
    "nox_uncontrolled_efs = load_nox_uncontrolled_efs(nox_uncontrolled_efs_path)"
   ]
  },
  {
   "cell_type": "code",
   "execution_count": null,
   "id": "dd7d6487",
   "metadata": {},
   "outputs": [],
   "source": []
  }
 ],
 "metadata": {
  "kernelspec": {
   "display_name": "Python 3 (ipykernel)",
   "language": "python",
   "name": "python3"
  },
  "language_info": {
   "codemirror_mode": {
    "name": "ipython",
    "version": 3
   },
   "file_extension": ".py",
   "mimetype": "text/x-python",
   "name": "python",
   "nbconvert_exporter": "python",
   "pygments_lexer": "ipython3",
   "version": "3.10.5"
  }
 },
 "nbformat": 4,
 "nbformat_minor": 5
}
