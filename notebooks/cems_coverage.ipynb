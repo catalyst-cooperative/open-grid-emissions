{
 "cells": [
  {
   "cell_type": "markdown",
   "metadata": {},
   "source": [
    "# Evaluate CEMS coverage\n",
    "\n",
    "1) What plant hours included in 923 are entirely missing from CEMS? \n",
    "2) What plant months have underreported CEMS generation compared to their 923-reported generation? \n",
    "3) Is the gap between 923 and CEMS consistent with 930 data? \n",
    "\n",
    "*Note: use processed CEMS data output by data_pipeline notebook.*"
   ]
  },
  {
   "cell_type": "code",
   "execution_count": null,
   "metadata": {},
   "outputs": [],
   "source": [
    "import pandas as pd\n",
    "import sqlalchemy as sa\n",
    "import numpy as np\n",
    "\n",
    "import plotly.express as px\n",
    "import plotly.graph_objects as go"
   ]
  },
  {
   "cell_type": "code",
   "execution_count": null,
   "metadata": {},
   "outputs": [],
   "source": [
    "year=2019"
   ]
  },
  {
   "cell_type": "code",
   "execution_count": null,
   "metadata": {},
   "outputs": [],
   "source": [
    "# Read data output by data_pipeline\n",
    "# Advantages over getting direct from PUDL: \n",
    "cems = pd.read_csv(f\"../data/outputs/cems{year}.csv\", parse_dates=[\"datetime_utc\"])"
   ]
  },
  {
   "cell_type": "code",
   "execution_count": null,
   "metadata": {},
   "outputs": [],
   "source": [
    "# specify the relative path to the sqllite database, and create an sqalchemy engine\n",
    "pudl_db = 'sqlite:///../data/downloads/pudl/pudl_data/sqlite/pudl.sqlite'\n",
    "pudl_engine = sa.create_engine(pudl_db)\n"
   ]
  },
  {
   "cell_type": "markdown",
   "metadata": {},
   "source": [
    "# 1. What plant months in 923 are entirely missing from CEMS? "
   ]
  },
  {
   "cell_type": "code",
   "execution_count": null,
   "metadata": {},
   "outputs": [],
   "source": [
    "cems.head()"
   ]
  },
  {
   "cell_type": "code",
   "execution_count": null,
   "metadata": {},
   "outputs": [],
   "source": [
    "# PUDL reports 923 monthly generation data across two tables, generation_eia923 and generation_fuel_eia923\n",
    "\n",
    "# Load generation, filter for year. PUDL says that this only contains ~55% of reported generation \n",
    "# (https://catalystcoop-pudl.readthedocs.io/en/latest/data_sources/eia923.html)\n",
    "# Table is large, so filter before load\n",
    "gen_923 = pd.read_sql(f\"SELECT * FROM generation_fuel_eia923 \\\n",
    "                           WHERE report_date >= '{year}-01-01' \\\n",
    "                           AND report_date <= '{year}-12-30'\", pudl_engine)\n",
    "gen_923.report_date = pd.to_datetime(gen_923.report_date)\n",
    "gen_923.report_date = gen_923.report_date.dt.tz_localize(\"UTC\")\n",
    "gen_923.head()"
   ]
  },
  {
   "cell_type": "code",
   "execution_count": null,
   "metadata": {},
   "outputs": [],
   "source": [
    "# Group 923 by plants because some plants report multiple fuel/prime mover combos in this table \n",
    "month_923 = gen_923.groupby([\"plant_id_eia\",\"report_date\"]).sum()"
   ]
  },
  {
   "cell_type": "code",
   "execution_count": null,
   "metadata": {},
   "outputs": [],
   "source": [
    "############################## IRRELEVANT: even annually reporting plants report monthly data. ###########################\n",
    "\n",
    "# Some 923 data is reported monthly, some annually. To aggregate CEMS correctly, assign report_date to each CEMS \n",
    "# I *think* that PUDL converts dates to beginning-of-month: https://catalystcoop-pudl.readthedocs.io/en/latest/_modules/pudl/transform/eia923.html#_yearly_to_monthly_records\n",
    "# TODO: this is slooooooooow, could maybe find a way to speed it up \n",
    "#       eg by assuming relationship between report date \n",
    "\n",
    "# cems[\"report_date\"] = np.nan\n",
    "# cems[\"report_date\"] = pd.to_datetime(cems[\"report_date\"])\n",
    "# i=0\n",
    "# for plant in cems.plant_id_eia.unique():\n",
    "#     if i%100 == 0:\n",
    "#         print(f\"{i/len(cems.plant_id_eia.unique())}...\",end=\"\")\n",
    "#     i += 1\n",
    "#     if plant not in gen_923.plant_id_eia.index: # 35 CEMS plants missing from EIA-923\n",
    "#         continue\n",
    "#     # Collect 923 report dates for this plant \n",
    "#     this_plant_dates = gen_923[gen_923.plant_id_eia==plant].report_date\n",
    "#     # At most we will have monthly resolution\n",
    "#     for month in cems[cems.plant_id_eia == plant].datetime_utc.dt.month.unique():\n",
    "        \n",
    "#         # What is the latest 923 report date before the CEMS report date month? \n",
    "#         if len(this_plant_dates[this_plant_dates.dt.month <= month])==0:\n",
    "#             print(f\"month {month}, plant {plant} has no matching report date\")\n",
    "#             continue\n",
    "#         target_date = max(this_plant_dates[this_plant_dates.dt.month <= month])\n",
    "\n",
    "#         # Set all rows with this plant and month \n",
    "#         cems.loc[(cems.plant_id_eia == plant) & (cems.datetime_utc.dt.month==month),\"923_report_date\"] = target_date"
   ]
  },
  {
   "cell_type": "code",
   "execution_count": null,
   "metadata": {},
   "outputs": [],
   "source": [
    "# Assign report date: first day of month in question\n",
    "cems[\"report_date\"] = pd.to_datetime({\"month\":cems.datetime_utc.dt.month, \"year\":cems.datetime_utc.dt.year,\"day\":1})\\\n",
    "    .dt.tz_localize(\"UTC\")\n",
    "month_cems = cems.groupby([\"plant_id_eia\",\"report_date\"]).sum()"
   ]
  },
  {
   "cell_type": "code",
   "execution_count": null,
   "metadata": {},
   "outputs": [],
   "source": [
    "# What plants are missing? \n",
    "print(f\"# plants in CEMS not in 923 = {len(np.setdiff1d(cems.plant_id_eia, gen_923.plant_id_eia))}\")\n",
    "print(f\"# plants in 923 not in CEMS = {len(np.setdiff1d(gen_923.plant_id_eia, cems.plant_id_eia))}\")\n",
    "print(f\"\\r\\nTotal plants in 923 = {len(gen_923.plant_id_eia.unique())}\")\n",
    "print(f\"Total plants in CEMS = {len(cems.plant_id_eia.unique())}\")"
   ]
  },
  {
   "cell_type": "code",
   "execution_count": null,
   "metadata": {},
   "outputs": [],
   "source": [
    "# Add CEMS generation numbers (allocated by month) to 932 numbers to compare month-by-month missing data\n",
    "month_cems_merge = month_cems[[\"co2_mass_tons\",\"heat_content_mmbtu\",\"gross_generation_mwh\",\"net_generation_mwh\"]].rename(columns={\\\n",
    "    \"co2_mass_tons\":\"co2_mass_tons_cems\",\\\n",
    "    \"heat_content_mmbtu\":\"heat_content_mmbtu_cems\",\\\n",
    "    \"gross_generation_mwh\":\"gross_generation_mwh_cems\",\\\n",
    "    \"net_generation_mwh\":\"net_generation_mwh_cems\"})\n",
    "month_923 = month_923.merge(month_cems_merge,how=\"left\", \\\n",
    "    left_index=True, right_index=True)\n",
    "month_923.head()"
   ]
  },
  {
   "cell_type": "code",
   "execution_count": null,
   "metadata": {},
   "outputs": [],
   "source": [
    "# Add helper column to indicate where data is missing from CEMS \n",
    "month_923[\"missing_cems\"] = month_923[\"heat_content_mmbtu_cems\"].isna()\n",
    "# 33 rows where fuel consumed in CEMS is 0 but not in 923\n",
    "month_923.loc[(month_923[\"heat_content_mmbtu_cems\"] == 0) & (month_923[\"fuel_consumed_mmbtu\"] != 0),[\"missing_cems\"]] = True"
   ]
  },
  {
   "cell_type": "code",
   "execution_count": null,
   "metadata": {},
   "outputs": [],
   "source": [
    "# What is the generation of plants not in CEMS? \n",
    "not_cems_ids = np.setdiff1d(gen_923.plant_id_eia, cems.plant_id_eia)\n",
    "shared_ids = np.intersect1d(cems.plant_id_eia, gen_923.plant_id_eia)\n",
    "\n",
    "fig = go.Figure()\n",
    "fig.add_trace(go.Histogram(x=month_923[~month_923.missing_cems][\"fuel_consumed_mmbtu\"], name=\"In CEMS and 923\"))\n",
    "fig.add_trace(go.Histogram(x=month_923[month_923.missing_cems][\"fuel_consumed_mmbtu\"],name=\"Not in CEMS\"))\n",
    "\n",
    "# Overlay both histograms\n",
    "fig.update_layout(barmode='overlay')\n",
    "# Make log \n",
    "fig.update_yaxes(type=\"log\", title_text=\"# of plant months\")\n",
    "fig.update_xaxes(title_text=\"Fuel consumed in 923 reporting period (mmbtu)\")\n",
    "# Reduce opacity to see both histograms\n",
    "fig.update_traces(opacity=0.75)\n",
    "fig.show()"
   ]
  },
  {
   "cell_type": "code",
   "execution_count": null,
   "metadata": {},
   "outputs": [],
   "source": [
    "# What percent of hours are in CEMS?\n",
    "print(f\"{sum(month_923.missing_cems)/len(month_923.missing_cems)} plant-months in 923 are entirely missing in CEMS\")"
   ]
  },
  {
   "cell_type": "markdown",
   "metadata": {},
   "source": [
    "# 2. What plant-months have some CEMS data, but less than they report in 923? \n",
    "\n",
    "I don't know if this matters: eGRID documentation says that CEMS reports are taken over 923 (section 3.1.1.1 in 2020 technical guide)"
   ]
  },
  {
   "cell_type": "code",
   "execution_count": null,
   "metadata": {},
   "outputs": [],
   "source": [
    "has_cems = month_923[~month_923.missing_cems].copy()\n",
    "has_cems[\"fraction_reported_cems\"] = (has_cems.fuel_consumed_mmbtu - has_cems.heat_content_mmbtu_cems)/has_cems.fuel_consumed_mmbtu\n",
    "px.histogram(has_cems.loc[has_cems[\"fraction_reported_cems\"].abs() < 3, \"fraction_reported_cems\"], log_y=False, range_x=(-1,1))"
   ]
  },
  {
   "cell_type": "code",
   "execution_count": null,
   "metadata": {},
   "outputs": [],
   "source": [
    "# How does the # of plants not reporting cems change over time? \n",
    "\n",
    "counts = month_923.groupby(\"report_date\").count()\n",
    "px.line(counts, x=counts.index, y=\"missing_cems\")"
   ]
  },
  {
   "cell_type": "code",
   "execution_count": null,
   "metadata": {},
   "outputs": [],
   "source": [
    "# How does the production of plants not reporting cems change over time? \n",
    "no_cems = month_923[month_923.missing_cems].groupby(\"report_date\").sum()\n",
    "\n",
    "px.line(no_cems, x=no_cems.index, y=\"fuel_consumed_mmbtu\")"
   ]
  },
  {
   "cell_type": "code",
   "execution_count": null,
   "metadata": {},
   "outputs": [],
   "source": [
    "# Side note: the 923 fuel consumption data is not internally consistent. \n",
    "\n",
    "px.histogram((month_923.fuel_consumed_mmbtu - (month_923.fuel_consumed_units * month_923.fuel_mmbtu_per_unit))/month_923.fuel_consumed_mmbtu, log_y=True, \\\n",
    "    labels={\"value\":\"mmBtu gap = (fuel_consumed_mmbtu - fuel_consumed_units*fuel_mmbtu_per_unit)/fuel_consumed_mmbtu\"}, \\\n",
    "        title=\"Inconsistencies in EIA-923 fuel consumption metrics\")"
   ]
  },
  {
   "cell_type": "code",
   "execution_count": null,
   "metadata": {},
   "outputs": [],
   "source": [
    "month_923"
   ]
  },
  {
   "cell_type": "markdown",
   "metadata": {},
   "source": [
    "# 3. Does availibility of CEMS data explain changes in CEMS relative to 930 over the year? "
   ]
  },
  {
   "cell_type": "markdown",
   "metadata": {},
   "source": []
  }
 ],
 "metadata": {
  "interpreter": {
   "hash": "92b0b2e6ebfed447d155e0cb5647230f92a19c4ba775addd42c9f077f0696b86"
  },
  "kernelspec": {
   "display_name": "Python 3.10.1 ('hourly-egrid')",
   "language": "python",
   "name": "python3"
  },
  "language_info": {
   "codemirror_mode": {
    "name": "ipython",
    "version": 3
   },
   "file_extension": ".py",
   "mimetype": "text/x-python",
   "name": "python",
   "nbconvert_exporter": "python",
   "pygments_lexer": "ipython3",
   "version": "3.10.1"
  },
  "orig_nbformat": 4
 },
 "nbformat": 4,
 "nbformat_minor": 2
}
