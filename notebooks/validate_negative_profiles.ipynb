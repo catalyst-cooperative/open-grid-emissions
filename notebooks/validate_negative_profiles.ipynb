{
 "cells": [
  {
   "cell_type": "code",
   "execution_count": null,
   "metadata": {},
   "outputs": [],
   "source": [
    "# import packages\n",
    "import numpy as np\n",
    "import pandas as pd\n",
    "import plotly.express as px\n",
    "\n",
    "%reload_ext autoreload\n",
    "%autoreload 2\n",
    "\n",
    "# # Tell python where to look for modules.\n",
    "import sys\n",
    "\n",
    "sys.path.append(\"../../hourly-egrid/\")\n",
    "\n",
    "# import local modules\n",
    "import src.load_data as load_data\n",
    "import src.data_cleaning as data_cleaning\n",
    "import src.gross_to_net_generation as gross_to_net_generation\n",
    "import src.impute_hourly_profiles as impute_hourly_profiles\n",
    "\n",
    "\n",
    "from src.column_checks import get_dtypes, apply_dtypes\n",
    "\n",
    "year = 2020"
   ]
  },
  {
   "cell_type": "code",
   "execution_count": null,
   "metadata": {},
   "outputs": [],
   "source": [
    "# validate method\n",
    "\n",
    "# merge together monthly subplant totals from EIA and calculated from CEMS\n",
    "eia_netgen = eia923_allocated.groupby(['plant_id_eia',\"subplant_id\",\"report_date\"], dropna=False).sum(min_count=1)['net_generation_mwh'].reset_index().dropna(subset=\"net_generation_mwh\")\n",
    "calculated_netgen = cems.groupby(['plant_id_eia',\"subplant_id\",\"report_date\"], dropna=False).sum()['net_generation_mwh'].reset_index()\n",
    "validated_ng = eia_netgen.merge(calculated_netgen, how=\"inner\", on=['plant_id_eia',\"subplant_id\",\"report_date\"], suffixes=(\"_eia\",\"_calc\"))\n",
    "\n",
    "validated_ng = validated_ng.groupby(\"plant_id_eia\").sum().reset_index()\n",
    "\n",
    "validated_ng = validated_ng.round(3)\n",
    "validated_ng = validated_ng[validated_ng[[\"net_generation_mwh_eia\",\"net_generation_mwh_calc\"]].sum(axis=1) != 0]\n",
    "\n",
    "validated_ng['pct_error'] = (validated_ng['net_generation_mwh_calc'] - validated_ng['net_generation_mwh_eia']) / validated_ng['net_generation_mwh_eia']\n",
    "validated_ng.sort_values(by=\"pct_error\")"
   ]
  },
  {
   "cell_type": "code",
   "execution_count": null,
   "metadata": {},
   "outputs": [],
   "source": [
    "validated_ng.sort_values(by=\"pct_error\").tail(20)"
   ]
  },
  {
   "cell_type": "code",
   "execution_count": null,
   "metadata": {},
   "outputs": [],
   "source": [
    "# what is the most negative\n",
    "negative_hourly = eia923_allocated.copy()[[\"plant_id_eia\",\"generator_id\",\"report_date\",\"net_generation_mwh\"]].dropna()\n",
    "negative_hourly[\"hours\"] = negative_hourly.report_date.dt.daysinmonth * 24\n",
    "negative_hourly[\"avg_generation_mw\"] = negative_hourly[\"net_generation_mwh\"] / negative_hourly[\"hours\"]\n",
    "negative_hourly.sort_values(by=\"avg_generation_mw\")"
   ]
  },
  {
   "cell_type": "code",
   "execution_count": null,
   "metadata": {},
   "outputs": [],
   "source": [
    "plant_to_test = 59073\n",
    "\n",
    "cems_subplant_test = cems[cems[\"plant_id_eia\"] == plant_to_test]\n",
    "eia_test = eia923_allocated[eia923_allocated[\"plant_id_eia\"] == plant_to_test]"
   ]
  },
  {
   "cell_type": "code",
   "execution_count": null,
   "metadata": {},
   "outputs": [],
   "source": [
    "# identify data source\n",
    "all_data = eia_test.copy()\n",
    "\n",
    "# create a binary column indicating whether data was reported in 923\n",
    "columns_to_test = [\n",
    "    \"net_generation_mwh\",\n",
    "    \"fuel_consumed_mmbtu\",\n",
    "    \"fuel_consumed_for_electricity_mmbtu\",\n",
    "    \"co2_mass_lb\",\n",
    "    \"co2_mass_lb_adjusted\",\n",
    "]\n",
    "all_data = all_data.assign(\n",
    "    reported_eia923=lambda x: np.where(\n",
    "        x[columns_to_test].notnull().all(axis=1), 1, 0\n",
    "    )\n",
    ")\n",
    "\n",
    "cems_monthly = (\n",
    "        cems_subplant_test.groupby(\n",
    "            [\"plant_id_eia\", \"subplant_id\",\"report_date\"], dropna=False\n",
    "        )\n",
    "        .count()[\"datetime_utc\"].reset_index())\n",
    "\n",
    "cems_monthly[\"hourly_data_source\"] = \"cems\"\n",
    "\n",
    "# merge in the data source column from CEMS\n",
    "all_data = all_data.merge(\n",
    "    cems_monthly[\n",
    "        [\"plant_id_eia\", \"subplant_id\", \"report_date\", \"hourly_data_source\"]\n",
    "    ],\n",
    "    how=\"left\",\n",
    "    on=[\"plant_id_eia\", \"subplant_id\", \"report_date\"],\n",
    "    validate=\"m:1\",\n",
    ")\n",
    "\n",
    "# for the remaining plants, identify the hourly data source as EIA\n",
    "all_data[\"hourly_data_source\"] = all_data[\"hourly_data_source\"].fillna(\"eia\")\n",
    "\n",
    "all_data.loc[(all_data[\"hourly_data_source\"] == \"cems\") & (~all_data[\"net_generation_mwh\"].isna()), \"hourly_data_source\"] = \"both\"\n",
    "\n",
    "all_data"
   ]
  },
  {
   "cell_type": "markdown",
   "metadata": {},
   "source": [
    "### Calculate GTN Conversions\n",
    "\n",
    "Hierarchy\n",
    "1. Subplant regression\n",
    "2. Plant regression\n",
    "3. Subplant shift\n",
    "4. Plant shift\n",
    "5. Subplant ratio\n",
    "6. Plant ratio\n",
    "\n",
    "\n",
    "When calculating annual totals, only want to use data that is inner joined. \n",
    "But I want to apply the factors to all cems data\n",
    "\n",
    "Because annual, I'll merge it back into cems on plant subplant"
   ]
  },
  {
   "cell_type": "code",
   "execution_count": null,
   "metadata": {},
   "outputs": [],
   "source": [
    "gtn_conversions = gross_to_net_generation.calculate_gross_to_net_conversion_factors(cems_subplant_test, eia_test, plant_attributes, year)\n",
    "\n",
    "factors_to_use = gross_to_net_generation.filter_gtn_conversion_factors(gtn_conversions)"
   ]
  },
  {
   "cell_type": "code",
   "execution_count": null,
   "metadata": {},
   "outputs": [],
   "source": [
    "cems_subplant_test = cems_subplant_test.merge(factors_to_use[[\"plant_id_eia\",\"subplant_id\",\"report_date\",\"data_source\",\"annual_subplant_shift_mw\",\"annual_plant_shift_mw\",\"annual_subplant_ratio\",\"annual_plant_ratio\",\"annual_fuel_ratio\"]], how=\"left\", on=[\"plant_id_eia\",\"subplant_id\",\"report_date\"])"
   ]
  },
  {
   "cell_type": "code",
   "execution_count": null,
   "metadata": {},
   "outputs": [],
   "source": [
    "#cems_subplant_test[\"net_generation_mwh\"] = cems_subplant_test[\"gross_generation_mwh\"] * cems_subplant_test[\"plant_regression_ratio\"] + cems_subplant_test[\"plant_regression_shift_mw\"]\n",
    "\n",
    "cems_subplant_test[\"gtn_method\"] = \"1_annual_subplant_shift_factor\"\n",
    "cems_subplant_test[\"net_generation_mwh\"] = cems_subplant_test[\"gross_generation_mwh\"] + cems_subplant_test[\"annual_subplant_shift_mw\"]\n",
    "\n",
    "cems_subplant_test.loc[cems_subplant_test[\"net_generation_mwh\"].isna(), \"gtn_method\"] = \"2_annual_subplant_ratio\"\n",
    "cems_subplant_test[\"net_generation_mwh\"] = cems_subplant_test[\"net_generation_mwh\"].fillna(cems_subplant_test[\"gross_generation_mwh\"] * cems_subplant_test[\"annual_subplant_ratio\"])\n",
    "\n",
    "cems_subplant_test.loc[cems_subplant_test[\"net_generation_mwh\"].isna(), \"gtn_method\"] = \"3_annual_plant_shift_factor\"\n",
    "cems_subplant_test[\"net_generation_mwh\"] = cems_subplant_test[\"net_generation_mwh\"].fillna(cems_subplant_test[\"gross_generation_mwh\"] + cems_subplant_test[\"annual_plant_shift_mw\"])\n",
    "\n",
    "cems_subplant_test.loc[cems_subplant_test[\"net_generation_mwh\"].isna(), \"gtn_method\"] = \"4_annual_plant_ratio\"\n",
    "cems_subplant_test[\"net_generation_mwh\"] = cems_subplant_test[\"net_generation_mwh\"].fillna(cems_subplant_test[\"gross_generation_mwh\"] * cems_subplant_test[\"annual_plant_ratio\"])\n",
    "\n",
    "cems_subplant_test.loc[cems_subplant_test[\"net_generation_mwh\"].isna(), \"gtn_method\"] = \"5_annual_fuel_ratio\"\n",
    "cems_subplant_test[\"net_generation_mwh\"] = cems_subplant_test[\"net_generation_mwh\"].fillna(cems_subplant_test[\"gross_generation_mwh\"] * cems_subplant_test[\"annual_fuel_ratio\"])\n",
    "\n",
    "# TODO: add \"data_source\",\n",
    "cems_subplant_test = cems_subplant_test.drop(columns=[\"annual_subplant_shift_mw\",\"annual_plant_shift_mw\",\"annual_subplant_ratio\",\"annual_plant_ratio\",\"annual_fuel_ratio\"])"
   ]
  },
  {
   "cell_type": "code",
   "execution_count": null,
   "metadata": {},
   "outputs": [],
   "source": [
    "# now, we want to check if there is complete subplant factors of at least one type\n",
    "incomplete_subplant_factors = factors_to_use.copy()[[\"plant_id_eia\", \"subplant_id\", \"data_source\",\"report_date\",\"annual_subplant_shift_mw\", \"annual_subplant_ratio\",\"net_generation_mwh\"]]\n",
    "# see if we have data in either column that is not missing for all months\n",
    "incomplete_subplant_factors[\"any_subplant_factor\"] = np.NaN\n",
    "incomplete_subplant_factors[\"any_subplant_factor\"] = incomplete_subplant_factors[\"any_subplant_factor\"].fillna(incomplete_subplant_factors[\"annual_subplant_shift_mw\"])\n",
    "incomplete_subplant_factors[\"any_subplant_factor\"] = incomplete_subplant_factors[\"any_subplant_factor\"].fillna(incomplete_subplant_factors[\"annual_subplant_ratio\"])\n",
    "\n",
    "\n",
    "incomplete_subplant_factors = incomplete_subplant_factors.groupby(\n",
    "            [\"plant_id_eia\", \"data_source\"], dropna=False\n",
    "        ).count()[[\"any_subplant_factor\", \"net_generation_mwh\"]].reset_index()\n",
    "\n",
    "incomplete_subplant_factors = incomplete_subplant_factors[\n",
    "        (\n",
    "            incomplete_subplant_factors[\"any_subplant_factor\"]\n",
    "            < incomplete_subplant_factors[\"net_generation_mwh\"]\n",
    "        )\n",
    "    ]\n",
    "\n",
    "incomplete_subplant_factors"
   ]
  },
  {
   "cell_type": "code",
   "execution_count": null,
   "metadata": {},
   "outputs": [],
   "source": [
    "# replace all of the subplant factors with NA for the entire year if some are missing\n",
    "factors_to_use = factors_to_use.merge(\n",
    "    incomplete_subplant_factors[[\"plant_id_eia\", \"data_source\"]],\n",
    "    how=\"outer\",\n",
    "    on=[\"plant_id_eia\", \"data_source\"],\n",
    "    indicator=\"incomplete_flag\",\n",
    ")\n",
    "factors_to_use.loc[\n",
    "    factors_to_use[\"incomplete_flag\"] == \"both\",\n",
    "    [\"annual_subplant_shift_mw\", \"annual_subplant_ratio\"],\n",
    "] = np.NaN\n",
    "factors_to_use = factors_to_use.drop(columns=[\"incomplete_flag\"])\n"
   ]
  },
  {
   "cell_type": "code",
   "execution_count": null,
   "metadata": {},
   "outputs": [],
   "source": [
    "factors_to_use"
   ]
  },
  {
   "cell_type": "code",
   "execution_count": null,
   "metadata": {},
   "outputs": [],
   "source": [
    "factors_to_use.groupby([\"data_source\",\"subplant_id\"], dropna=False).sum()[\"net_generation_mwh\"].reset_index()"
   ]
  },
  {
   "cell_type": "code",
   "execution_count": null,
   "metadata": {},
   "outputs": [],
   "source": [
    "px.line(cems_subplant_test[(cems_subplant_test[\"subplant_id\"] == 1)], x=\"datetime_utc\", y=[\"gross_generation_mwh\", \"net_generation_mwh\"])"
   ]
  },
  {
   "cell_type": "code",
   "execution_count": null,
   "metadata": {},
   "outputs": [],
   "source": [
    "px.line(cems[(cems[\"plant_id_eia\"] == 60903) & (cems[\"unitid\"] == \"1\")], x=\"datetime_utc\", y=[\"gross_generation_mwh\", \"fuel_consumed_mmbtu\"])"
   ]
  },
  {
   "cell_type": "code",
   "execution_count": null,
   "metadata": {},
   "outputs": [],
   "source": [
    "factors_to_use[factors_to_use[\"net_generation_mwh\"].isna()]"
   ]
  },
  {
   "cell_type": "code",
   "execution_count": null,
   "metadata": {},
   "outputs": [],
   "source": [
    "\"\"\"\n",
    "We want to filter out incomplete conversion factors so that we are not using a mix of factors for a single subplant.\n",
    "If there are any monthly subplant shift factors missing, then we want to default to using the annual subplant shift factor for all months\n",
    "If there are any annual subplant shift factors missing, then we \n",
    "\n",
    "If there are any subplants in a plant that can't use a subplant-specific factor, then all subplants should use a plant-specific factor\n",
    "\n",
    "However we might want to filter out records where the factor is missing because the net generation is missing\n",
    "\n",
    "\n",
    "If a month is missing both shift factor and scaling factor, then we want to use the annual factor \n",
    "\n",
    "\n",
    "Order of factors:\n",
    "1. Monthly subplant shift factor\n",
    "2. Monthly subplant scaling factor\n",
    "\n",
    "3. Annual subplant shift factor\n",
    "4. Annual subplant scaling factor\n",
    "\n",
    "5. Monthly plant scaling factor\n",
    "6. Annual plant scaling factor\n",
    "\n",
    "7. Annual Fuel ratio\n",
    "8. Gross = net\n",
    "\"\"\"\n",
    "\n",
    "for factor in ['hourly_shift_mw_monthly',\"monthly_subplant_ratio\",\"hourly_shift_mw_annual\",\"annual_subplant_ratio\"]:\n",
    "\n",
    "    # get a list of subplants where the number of annual factors is less than the total number of records\n",
    "    incomplete_factors = factors_to_use.groupby([\"plant_id_eia\", \"subplant_id\"]).count()[[factor,\"net_generation_mwh\"]].reset_index()\n",
    "    incomplete_factors = incomplete_factors[(incomplete_factors[factor] < incomplete_factors['net_generation_mwh'])]\n",
    "\n",
    "    # replace all of the monthly factors with NA for these incomplete factors\n",
    "    factors_to_use = factors_to_use.merge(incomplete_factors[[\"plant_id_eia\",\"subplant_id\"]], how=\"outer\", on=[\"plant_id_eia\",\"subplant_id\"], indicator=\"source\")\n",
    "    factors_to_use.loc[factors_to_use[\"source\"] == \"both\", factor] = np.NaN\n",
    "    factors_to_use = factors_to_use.drop(columns=[\"source\"])"
   ]
  },
  {
   "cell_type": "code",
   "execution_count": null,
   "metadata": {},
   "outputs": [],
   "source": [
    "cems = cems.drop(columns=[\"gross_generation_mwh_y\",\"minimum_gross_generation_mwh\",\"net_generation_mwh\",\"hourly_shift_mw_monthly\",\"hourly_shift_mw_annual\",\"monthly_subplant_ratio\",\"annual_subplant_ratio\",\"monthly_plant_ratio\",\"annual_plant_ratio\",\"annual_fuel_ratio\",\"units_in_subplant\",\"gtn_method\"])\n",
    "cems = cems.rename(columns={\"gross_generation_mwh_x\":\"gross_generation_mwh\"})"
   ]
  },
  {
   "cell_type": "code",
   "execution_count": null,
   "metadata": {},
   "outputs": [],
   "source": [
    "cems = cems.merge(\n",
    "        factors_to_use, how=\"left\", on=[\"plant_id_eia\", \"subplant_id\", \"report_date\"]\n",
    "    )"
   ]
  },
  {
   "cell_type": "code",
   "execution_count": null,
   "metadata": {},
   "outputs": [],
   "source": [
    "# calculate net generation using the monthly subplant shift factors where available\n",
    "cems[\"gtn_method\"] = \"1_monthly_subplant_shift_factor\"\n",
    "cems[\"net_generation_mwh\"] = cems[\"gross_generation_mwh\"] + (\n",
    "    cems[\"hourly_shift_mw_monthly\"] / cems[\"units_in_subplant\"]\n",
    ")\n",
    "\n",
    "# next use the monthly subplant scaling factor\n",
    "cems.loc[cems[\"net_generation_mwh\"].isna(), \"gtn_method\"] = \"2_monthly_subplant_scaling_factor\"\n",
    "cems[\"net_generation_mwh\"] = cems[\"net_generation_mwh\"].fillna(\n",
    "    cems[\"gross_generation_mwh\"] * cems[\"monthly_subplant_ratio\"]\n",
    ")\n",
    "\n",
    "# next use the annual shift factor where available\n",
    "cems.loc[cems[\"net_generation_mwh\"].isna(), \"gtn_method\"] = \"3_annual_subplant_shift_factor\"\n",
    "cems[\"net_generation_mwh\"] = cems[\"net_generation_mwh\"].fillna(\n",
    "    cems[\"gross_generation_mwh\"]\n",
    "    + (cems[\"hourly_shift_mw_annual\"] / cems[\"units_in_subplant\"])\n",
    ")\n",
    "\n",
    "# next use the monthly subplant scaling factor\n",
    "cems.loc[cems[\"net_generation_mwh\"].isna(), \"gtn_method\"] = \"4_annual_subplant_scaling_factor\"\n",
    "cems[\"net_generation_mwh\"] = cems[\"net_generation_mwh\"].fillna(\n",
    "    cems[\"gross_generation_mwh\"] * cems[\"annual_subplant_ratio\"]\n",
    ")\n",
    "\n",
    "# next use the annual plant ratio\n",
    "cems.loc[cems[\"net_generation_mwh\"].isna(), \"gtn_method\"] = \"5_monthly_plant_scaling_factor\"\n",
    "cems[\"net_generation_mwh\"] = cems[\"net_generation_mwh\"].fillna(\n",
    "    cems[\"gross_generation_mwh\"] * cems[\"monthly_plant_ratio\"]\n",
    ")\n",
    "\n",
    "# next use the annual plant ratio\n",
    "cems.loc[cems[\"net_generation_mwh\"].isna(), \"gtn_method\"] = \"6_annual_plant_scaling_factor\"\n",
    "cems[\"net_generation_mwh\"] = cems[\"net_generation_mwh\"].fillna(\n",
    "    cems[\"gross_generation_mwh\"] * cems[\"annual_plant_ratio\"]\n",
    ")\n",
    "\n",
    "# next use the annual fuel ratio\n",
    "cems.loc[cems[\"net_generation_mwh\"].isna(), \"gtn_method\"] = \"7_annual_fuel_scaling_factor\"\n",
    "cems[\"net_generation_mwh\"] = cems[\"net_generation_mwh\"].fillna(\n",
    "    cems[\"gross_generation_mwh\"] * cems[\"annual_fuel_ratio\"]\n",
    ")\n",
    "\n",
    "# if nothing else is abailable, use the gross generation value\n",
    "cems.loc[cems[\"net_generation_mwh\"].isna(), \"gtn_method\"] = \"8_gross_as_net\"\n",
    "cems[\"net_generation_mwh\"] = cems[\"net_generation_mwh\"].fillna(\n",
    "    cems[\"gross_generation_mwh\"]\n",
    ")"
   ]
  },
  {
   "cell_type": "code",
   "execution_count": null,
   "metadata": {},
   "outputs": [],
   "source": []
  },
  {
   "cell_type": "code",
   "execution_count": null,
   "metadata": {},
   "outputs": [],
   "source": [
    "# whenever there is not a full 12 monthly factors, we should use the annual factors for all values. \n",
    "factors_to_use['hourly_shift_mw_monthly'].isna().groupby(factors_to_use[\"plant_id_eia\"],factors_to_use[\"subplant_id\"], factors_to_use[\"report_date\"]).sum()"
   ]
  },
  {
   "cell_type": "code",
   "execution_count": null,
   "metadata": {},
   "outputs": [],
   "source": [
    "factors_to_use"
   ]
  },
  {
   "cell_type": "code",
   "execution_count": null,
   "metadata": {},
   "outputs": [],
   "source": [
    "# filter out factors that appear to be incorrect"
   ]
  },
  {
   "cell_type": "code",
   "execution_count": null,
   "metadata": {},
   "outputs": [],
   "source": [
    "gtn_conversions[gtn_conversions[\"hourly_shift_mw_monthly\"] > 500]"
   ]
  },
  {
   "cell_type": "code",
   "execution_count": null,
   "metadata": {},
   "outputs": [],
   "source": [
    "data_to_graph = cems.loc[(cems[\"plant_id_eia\"] == 2712) & (cems[\"subplant_id\"] == 2), [\"datetime_utc\",\"gross_generation_mwh\",\"fuel_consumed_mmbtu\"]]\n",
    "px.line(data_to_graph, x=\"datetime_utc\", y=[\"gross_generation_mwh\",\"fuel_consumed_mmbtu\"])"
   ]
  },
  {
   "cell_type": "code",
   "execution_count": null,
   "metadata": {},
   "outputs": [],
   "source": [
    "# 6. Convert CEMS Hourly Gross Generation to Hourly Net Generation\n",
    "####################################################################################\n",
    "print(\"6. Converting CEMS gross generation to net generation\")\n",
    "cems, gtn_conversions = data_cleaning.convert_gross_to_net_generation(\n",
    "    cems, eia923_allocated, plant_attributes\n",
    ")"
   ]
  },
  {
   "cell_type": "markdown",
   "metadata": {},
   "source": [
    "# Examine hourly profiles"
   ]
  },
  {
   "cell_type": "code",
   "execution_count": null,
   "metadata": {},
   "outputs": [],
   "source": [
    "hourly_profiles = pd.read_csv(f\"../data/outputs/{year}/hourly_profiles_{year}.csv\")"
   ]
  },
  {
   "cell_type": "code",
   "execution_count": null,
   "metadata": {},
   "outputs": [],
   "source": [
    "cems = pd.read_csv(f\"../data/outputs/{year}/cems_{year}.csv\")"
   ]
  },
  {
   "cell_type": "code",
   "execution_count": null,
   "metadata": {},
   "outputs": [],
   "source": [
    "year = 2020\n",
    "eia923_allocated = pd.read_csv(f'../data/outputs/{year}/eia923_allocated_{year}.csv', dtype=get_dtypes())"
   ]
  },
  {
   "cell_type": "code",
   "execution_count": null,
   "metadata": {},
   "outputs": [],
   "source": [
    "hourly_profiles[hourly_profiles[\"profile\"] < 0]"
   ]
  },
  {
   "cell_type": "code",
   "execution_count": null,
   "metadata": {},
   "outputs": [],
   "source": [
    "data_to_graph = hourly_profiles[(hourly_profiles[\"fuel_category\"] == \"petroleum\") & (hourly_profiles[\"ba_code\"] == \"TVA\")]\n",
    "\n",
    "px.line(data_to_graph, x=\"datetime_utc\", y=[\"eia930_profile\",\"cems_profile\",\"residual_profile\",\"scaled_residual_profile\",\"shifted_residual_profile\",\"imputed_profile\",\"profile\"])"
   ]
  },
  {
   "cell_type": "code",
   "execution_count": null,
   "metadata": {},
   "outputs": [],
   "source": [
    "cems[cems[\"net_generation_mwh\"] < -200]"
   ]
  },
  {
   "cell_type": "code",
   "execution_count": null,
   "metadata": {},
   "outputs": [],
   "source": [
    "px.line(cems[(cems[\"plant_id_eia\"] == 3399) & (cems[\"unitid\"] == \"1\")], x=\"datetime_utc\", y=[\"gross_generation_mwh\",\"net_generation_mwh\"])"
   ]
  },
  {
   "cell_type": "code",
   "execution_count": null,
   "metadata": {},
   "outputs": [],
   "source": [
    "eia923_allocated[eia923_allocated.net_generation_mwh == eia923_allocated.net_generation_mwh.min()]"
   ]
  },
  {
   "cell_type": "code",
   "execution_count": null,
   "metadata": {},
   "outputs": [],
   "source": [
    "eia923_allocated[eia923_allocated[\"plant_id_eia\"] == 3]"
   ]
  }
 ],
 "metadata": {
  "kernelspec": {
   "display_name": "Python 3.10.5 ('hourly_egrid')",
   "language": "python",
   "name": "python3"
  },
  "language_info": {
   "codemirror_mode": {
    "name": "ipython",
    "version": 3
   },
   "file_extension": ".py",
   "mimetype": "text/x-python",
   "name": "python",
   "nbconvert_exporter": "python",
   "pygments_lexer": "ipython3",
   "version": "3.10.5"
  },
  "orig_nbformat": 4,
  "vscode": {
   "interpreter": {
    "hash": "4103f3cd497821eca917ea303dbe10c590d787eb7d2dc3fd4e15dec0356e7931"
   }
  }
 },
 "nbformat": 4,
 "nbformat_minor": 2
}
