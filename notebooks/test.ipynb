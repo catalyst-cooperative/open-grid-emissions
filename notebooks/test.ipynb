{
 "cells": [
  {
   "cell_type": "markdown",
   "metadata": {},
   "source": [
    "This notebook is a temporary holding place for code that we are testing but not ready to implement immediately"
   ]
  },
  {
   "cell_type": "code",
   "execution_count": null,
   "metadata": {},
   "outputs": [],
   "source": [
    "# test gtn calculation using generator id\n",
    "\n",
    "# load the allocated eia data for each month where there is corresponding cems data\n",
    "eia_plant_month_net_gen = gen_fuel_allocated[(gen_fuel_allocated['data_source'] == 'cems') & ~(gen_fuel_allocated['net_generation_mwh'].isna())]\n",
    "# crosswalk the generator_id into the cems data\n",
    "generator_crosswalk = data_cleaning.get_epa_eia_crosswalk()\n",
    "unique_unit_to_generator = generator_crosswalk.groupby(['plant_id_eia','unitid'])['generator_id'].count().reset_index()\n",
    "unique_unit_to_generator = unique_unit_to_generator[unique_unit_to_generator['generator_id'] == 1].drop(columns='generator_id')\n",
    "\n",
    "unique_unit_to_generator = unique_unit_to_generator.merge(generator_crosswalk[['plant_id_eia','unitid','generator_id']], how='left', on=['plant_id_eia','unitid'])\n",
    "\n",
    "cems_plant_month_gross_gen = cems.merge(unique_unit_to_generator, how='inner', on=['plant_id_eia','unitid'])\n",
    "cems_plant_month_gross_gen = cems_plant_month_gross_gen.groupby(['plant_id_eia','generator_id','report_date']).sum()['gross_generation_mwh'].reset_index()\n",
    "\n",
    "# merge the net generation data into the gross generation data\n",
    "monthly_gtn_ratio = cems_plant_month_gross_gen.merge(eia_plant_month_net_gen, how='left', on=['plant_id_eia','report_date'])\n",
    "\n",
    "# calculate the gtn\n",
    "monthly_gtn_ratio['gross_to_net_ratio'] = monthly_gtn_ratio['net_generation_mwh'] / monthly_gtn_ratio['gross_generation_mwh']"
   ]
  },
  {
   "cell_type": "markdown",
   "metadata": {},
   "source": [
    "## Outlier Detection"
   ]
  },
  {
   "cell_type": "code",
   "execution_count": null,
   "metadata": {},
   "outputs": [],
   "source": [
    "max = cems.replace(0, np.NaN).groupby(['cems_id'])['heat_content_mmbtu'].max()\n",
    "mean = cems.replace(0, np.NaN).groupby(['cems_id'])['heat_content_mmbtu'].mean()\n",
    "stdev = cems.replace(0, np.NaN).groupby(['cems_id'])['heat_content_mmbtu'].std()\n",
    "\n",
    "max[max > mean + (3 * stdev)]\n",
    "\n",
    "px.line(cems[cems['cems_id'] == '10298_CG803'], x='operating_datetime_utc', y='heat_content_mmbtu')\n",
    "\n",
    "px.line(cems[cems['cems_id'] == '1012_2'], x='operating_datetime_utc', y='heat_content_mmbtu')"
   ]
  }
 ],
 "metadata": {
  "language_info": {
   "name": "python"
  },
  "orig_nbformat": 4
 },
 "nbformat": 4,
 "nbformat_minor": 2
}
