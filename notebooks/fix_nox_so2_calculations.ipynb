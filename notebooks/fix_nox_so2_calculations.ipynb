{
 "cells": [
  {
   "cell_type": "code",
   "execution_count": null,
   "metadata": {},
   "outputs": [],
   "source": [
    "import pandas as pd\n",
    "\n",
    "%reload_ext autoreload\n",
    "%autoreload 2\n",
    "\n",
    "# # Tell python where to look for modules.\n",
    "import sys\n",
    "\n",
    "sys.path.append(\"../../hourly-egrid/\")\n",
    "from src.column_checks import get_dtypes\n",
    "import src.load_data as load_data"
   ]
  },
  {
   "cell_type": "markdown",
   "metadata": {},
   "source": [
    "# NOX\n",
    "\n",
    "Control-specific emission rates:\n",
    "- [x] Load control-specific nox rates from EIA-923 8C\n",
    "- [x] Load control-boiler associations\n",
    "- [ ] Load control attributes\n",
    "- [ ] Map controls to boilers\n",
    "- [ ] Map boilers to generators \n",
    "- [ ] Calculate generator-specific emission rates\n",
    "\n",
    "Boiler firing types"
   ]
  },
  {
   "cell_type": "code",
   "execution_count": null,
   "metadata": {},
   "outputs": [],
   "source": [
    "year = 2020\n",
    "eia_filepath = \"../../../EIA Data/\"\n",
    "\n",
    "emissions_controls_eia923_names = [\n",
    "    \"report_date\",\n",
    "    \"plant_id_eia\",\n",
    "    \"equipment_tech_description\",\n",
    "    \"pm_control_id\",\n",
    "    \"so2_control_id\",\n",
    "    \"nox_control_id\",\n",
    "    \"mercury_control_id\",\n",
    "    \"operational_status\",\n",
    "    \"hours_in_service\",\n",
    "    \"annual_nox_emission_rate_lb_per_mmbtu\",\n",
    "    \"ozone_season_nox_emission_rate_lb_per_mmbtu\",\n",
    "    \"pm_emission_rate_lb_per_mmbtu\",\n",
    "    \"pm_removal_efficiency_annual\",\n",
    "    \"pm_removal_efficiency_at_full_load\",\n",
    "    \"pm_test_date\",\n",
    "    \"so2_removal_efficiency_annual\",\n",
    "    \"so2_removal_efficiency_at_full_load\",\n",
    "    \"so2_test_date\",\n",
    "    \"fgd_sorbent_consumption_1000_tons\",\n",
    "    \"fgd_electricity_consumption_mwh\",\n",
    "    \"hg_removal_efficiency\",\n",
    "    \"hg_emission_rate_lb_per_trillion_btu\",\n",
    "    \"acid_gas_removal_efficiency\",\n",
    "]\n",
    "\n",
    "emissions_controls_eia923 = pd.read_excel(\n",
    "    io=(\n",
    "        eia_filepath\n",
    "        + f\"f923_{year}/EIA923_Schedule_8_Annual_Environmental_Information_{year}_Final_Revision.xlsx\"\n",
    "    ),\n",
    "    sheet_name=\"8C Air Emissions Control Info\",\n",
    "    header=4,\n",
    "    names=emissions_controls_eia923_names,\n",
    "    dtype=get_dtypes(),\n",
    "    na_values=\".\",\n",
    "    parse_dates=[\"report_date\",\"pm_test_date\",\"so2_test_date\"]\n",
    ")\n",
    "\n",
    "emissions_controls_eia923"
   ]
  },
  {
   "cell_type": "code",
   "execution_count": null,
   "metadata": {},
   "outputs": [],
   "source": [
    "boiler_nox_association_eia860_names = [\n",
    "    \"utility_id_eia\",\n",
    "    \"utility_name_eia\",\n",
    "    \"plant_id_eia\",\n",
    "    \"plant_name_eia\",\n",
    "    \"boiler_id\",\n",
    "    \"nox_control_id\",\n",
    "    \"steam_plant_type\",\n",
    "]\n",
    "\n",
    "boiler_nox_association_eia860 = pd.read_excel(\n",
    "    io=(\n",
    "        eia_filepath\n",
    "        + f\"eia860{year}/6_1_EnviroAssoc_Y{year}.xlsx\"\n",
    "    ),\n",
    "    sheet_name=\"Boiler NOx\",\n",
    "    header=1,\n",
    "    names=boiler_nox_association_eia860_names,\n",
    "    dtype=get_dtypes(),\n",
    "    na_values=\".\",\n",
    "    skipfooter=1\n",
    ")\n",
    "\n",
    "boiler_nox_association_eia860"
   ]
  },
  {
   "cell_type": "code",
   "execution_count": null,
   "metadata": {},
   "outputs": [],
   "source": [
    "pudl_out = load_data.initialize_pudl_out(year)"
   ]
  },
  {
   "cell_type": "code",
   "execution_count": null,
   "metadata": {},
   "outputs": [],
   "source": [
    "bga = pudl_out.bga_eia860()"
   ]
  },
  {
   "cell_type": "markdown",
   "metadata": {},
   "source": [
    "### Combine data"
   ]
  },
  {
   "cell_type": "code",
   "execution_count": null,
   "metadata": {},
   "outputs": [],
   "source": [
    "nox_rates = emissions_controls_eia923[[\"plant_id_eia\",\"nox_control_id\",\"annual_nox_emission_rate_lb_per_mmbtu\",\"ozone_season_nox_emission_rate_lb_per_mmbtu\",]].dropna(thresh=2)\n",
    "nox_rates"
   ]
  },
  {
   "cell_type": "code",
   "execution_count": null,
   "metadata": {},
   "outputs": [],
   "source": [
    "boiler_nox_rate = boiler_nox_association_eia860[[\"plant_id_eia\",\"boiler_id\",\"nox_control_id\"]]\n",
    "boiler_nox_rate.merge(nox_rates, how=\"left\", on=[\"plant_id_eia\",\"nox_control_id\"]).head(20)"
   ]
  }
 ],
 "metadata": {
  "kernelspec": {
   "display_name": "Python 3.9.12 ('hourly_egrid')",
   "language": "python",
   "name": "python3"
  },
  "language_info": {
   "codemirror_mode": {
    "name": "ipython",
    "version": 3
   },
   "file_extension": ".py",
   "mimetype": "text/x-python",
   "name": "python",
   "nbconvert_exporter": "python",
   "pygments_lexer": "ipython3",
   "version": "3.9.12"
  },
  "orig_nbformat": 4,
  "vscode": {
   "interpreter": {
    "hash": "4103f3cd497821eca917ea303dbe10c590d787eb7d2dc3fd4e15dec0356e7931"
   }
  }
 },
 "nbformat": 4,
 "nbformat_minor": 2
}
