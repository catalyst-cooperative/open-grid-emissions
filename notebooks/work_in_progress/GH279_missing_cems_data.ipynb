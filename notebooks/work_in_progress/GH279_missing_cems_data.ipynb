{
 "cells": [
  {
   "cell_type": "code",
   "execution_count": null,
   "metadata": {},
   "outputs": [],
   "source": [
    "# import packages\n",
    "import pandas as pd\n",
    "\n",
    "%reload_ext autoreload\n",
    "%autoreload 2\n",
    "\n",
    "# # Tell python where to look for modules.\n",
    "import sys\n",
    "sys.path.append('../../../open-grid-emissions/src/')\n",
    "\n",
    "from column_checks import get_dtypes\n",
    "from filepaths import *\n",
    "import load_data\n",
    "from data_cleaning import *\n",
    "import validation\n",
    "import emissions\n",
    "\n",
    "year = 2021"
   ]
  },
  {
   "attachments": {},
   "cell_type": "markdown",
   "metadata": {},
   "source": [
    "## What does the cleaned CEMS data look like"
   ]
  },
  {
   "cell_type": "code",
   "execution_count": null,
   "metadata": {},
   "outputs": [],
   "source": [
    "# load data from csv\n",
    "year = 2021\n",
    "path_prefix = f\"{year}/\"\n",
    "\n",
    "cems = pd.read_csv(outputs_folder(f\"{path_prefix}/cems_cleaned_{year}.csv\"), dtype=get_dtypes())"
   ]
  },
  {
   "cell_type": "code",
   "execution_count": null,
   "metadata": {},
   "outputs": [],
   "source": [
    "cems[cems[\"plant_id_eia\"] == 3].groupby([\"plant_id_eia\",\"emissions_unit_id_epa\",]).sum(numeric_only=True)"
   ]
  },
  {
   "cell_type": "code",
   "execution_count": null,
   "metadata": {},
   "outputs": [],
   "source": [
    "cems[cems[\"plant_id_eia\"] == 3].sum(numeric_only=True)"
   ]
  },
  {
   "cell_type": "code",
   "execution_count": null,
   "metadata": {},
   "outputs": [],
   "source": [
    "eia923_allocated = pd.read_csv(outputs_folder(f\"{path_prefix}/eia923_allocated_{year}.csv\"), dtype=get_dtypes())\n",
    "eia923_allocated[eia923_allocated[\"plant_id_eia\"] == 3].groupby([\"plant_id_eia\",\"subplant_id\",\"report_date\"]).sum(numeric_only=True).head(20)"
   ]
  },
  {
   "attachments": {},
   "cell_type": "markdown",
   "metadata": {},
   "source": [
    "## Test where data is being dropped"
   ]
  },
  {
   "cell_type": "code",
   "execution_count": null,
   "metadata": {},
   "outputs": [],
   "source": [
    "(\n",
    "    eia923_allocated,\n",
    "    primary_fuel_table,\n",
    "    subplant_emission_factors,\n",
    ") = clean_eia923(year, False)"
   ]
  },
  {
   "cell_type": "code",
   "execution_count": null,
   "metadata": {},
   "outputs": [],
   "source": [
    "# does the raw cems match this?\n",
    "cems_raw = load_data.load_cems_data(year)"
   ]
  },
  {
   "cell_type": "code",
   "execution_count": null,
   "metadata": {},
   "outputs": [],
   "source": [
    "cems_raw[cems_raw[\"plant_id_eia\"] == 3].groupby([\"plant_id_eia\",\"emissions_unit_id_epa\",]).sum(numeric_only=True)"
   ]
  },
  {
   "cell_type": "code",
   "execution_count": null,
   "metadata": {},
   "outputs": [],
   "source": []
  },
  {
   "cell_type": "code",
   "execution_count": null,
   "metadata": {},
   "outputs": [],
   "source": [
    "barry.sum(numeric_only=True)"
   ]
  },
  {
   "cell_type": "code",
   "execution_count": null,
   "metadata": {},
   "outputs": [],
   "source": [
    "# remove non-grid connected plants\n",
    "cems_raw = remove_plants(\n",
    "    cems_raw,\n",
    "    non_grid_connected=True,\n",
    "    remove_states=[\"PR\"],\n",
    "    steam_only_plants=False,\n",
    "    distribution_connected_plants=False,\n",
    ")"
   ]
  },
  {
   "cell_type": "code",
   "execution_count": null,
   "metadata": {},
   "outputs": [],
   "source": [
    "cems_raw[cems_raw[\"plant_id_eia\"] == 3].groupby([\"plant_id_eia\",\"emissions_unit_id_epa\",]).sum(numeric_only=True)"
   ]
  },
  {
   "cell_type": "code",
   "execution_count": null,
   "metadata": {},
   "outputs": [],
   "source": [
    "# manually remove steam-only units\n",
    "cems_raw = manually_remove_steam_units(cems_raw)"
   ]
  },
  {
   "cell_type": "code",
   "execution_count": null,
   "metadata": {},
   "outputs": [],
   "source": [
    "cems_raw[cems_raw[\"plant_id_eia\"] == 3].groupby([\"plant_id_eia\",\"emissions_unit_id_epa\",]).sum(numeric_only=True)"
   ]
  },
  {
   "cell_type": "code",
   "execution_count": null,
   "metadata": {},
   "outputs": [],
   "source": [
    "# add a report date\n",
    "cems_raw = load_data.add_report_date(cems_raw)"
   ]
  },
  {
   "cell_type": "code",
   "execution_count": null,
   "metadata": {},
   "outputs": [],
   "source": [
    "cems_raw[cems_raw[\"plant_id_eia\"] == 3].groupby([\"plant_id_eia\",\"emissions_unit_id_epa\",]).sum(numeric_only=True)"
   ]
  },
  {
   "cell_type": "code",
   "execution_count": null,
   "metadata": {},
   "outputs": [],
   "source": [
    "# remove data for any unit-months where there are incomplete data reported\n",
    "# this is generally when there is a single observation reported for an entire month\n",
    "cems_raw = remove_incomplete_unit_months(cems_raw)"
   ]
  },
  {
   "cell_type": "code",
   "execution_count": null,
   "metadata": {},
   "outputs": [],
   "source": [
    "cems_raw[cems_raw[\"plant_id_eia\"] == 3].groupby([\"plant_id_eia\",\"emissions_unit_id_epa\",]).sum(numeric_only=True)"
   ]
  },
  {
   "cell_type": "code",
   "execution_count": null,
   "metadata": {},
   "outputs": [],
   "source": [
    "# add subplant id\n",
    "subplant_crosswalk = (\n",
    "    pd.read_csv(\n",
    "        outputs_folder(f\"{year}/subplant_crosswalk_{year}.csv\"),\n",
    "        dtype=get_dtypes(),\n",
    "    )[[\"plant_id_eia\", \"emissions_unit_id_epa\", \"subplant_id\"]]\n",
    "    .drop_duplicates()\n",
    "    .dropna(subset=\"emissions_unit_id_epa\")\n",
    ")\n",
    "cems_raw = cems_raw.merge(\n",
    "    subplant_crosswalk,\n",
    "    how=\"left\",\n",
    "    on=[\"plant_id_eia\", \"emissions_unit_id_epa\"],\n",
    "    validate=\"m:1\",\n",
    ")\n",
    "validation.test_for_missing_subplant_id(cems_raw)"
   ]
  },
  {
   "cell_type": "code",
   "execution_count": null,
   "metadata": {},
   "outputs": [],
   "source": [
    "cems_raw[cems_raw[\"plant_id_eia\"] == 3].groupby([\"plant_id_eia\",\"emissions_unit_id_epa\",]).sum(numeric_only=True)"
   ]
  },
  {
   "cell_type": "code",
   "execution_count": null,
   "metadata": {},
   "outputs": [],
   "source": [
    "# add a fuel type to each observation\n",
    "cems_raw = assign_fuel_type_to_cems(cems_raw, year, primary_fuel_table)"
   ]
  },
  {
   "cell_type": "code",
   "execution_count": null,
   "metadata": {},
   "outputs": [],
   "source": [
    "cems_raw[cems_raw[\"plant_id_eia\"] == 3].groupby([\"plant_id_eia\",\"emissions_unit_id_epa\",]).sum(numeric_only=True)"
   ]
  },
  {
   "cell_type": "code",
   "execution_count": null,
   "metadata": {},
   "outputs": [],
   "source": [
    "# fill in missing hourly emissions data using the fuel type and heat input\n",
    "validation.test_for_missing_energy_source_code(cems_raw)"
   ]
  },
  {
   "cell_type": "code",
   "execution_count": null,
   "metadata": {},
   "outputs": [],
   "source": [
    "cems_raw[cems_raw[\"plant_id_eia\"] == 3].groupby([\"plant_id_eia\",\"emissions_unit_id_epa\",]).sum(numeric_only=True)"
   ]
  },
  {
   "cell_type": "code",
   "execution_count": null,
   "metadata": {},
   "outputs": [],
   "source": [
    "# save a copy of the cems data at this point to test later\n",
    "cems_test = cems_raw.copy()"
   ]
  },
  {
   "cell_type": "code",
   "execution_count": null,
   "metadata": {},
   "outputs": [],
   "source": [
    "cems_raw = emissions.fill_cems_missing_co2(cems_test, year, subplant_emission_factors)"
   ]
  },
  {
   "cell_type": "code",
   "execution_count": null,
   "metadata": {},
   "outputs": [],
   "source": [
    "cems_raw[cems_raw[\"plant_id_eia\"] == 3].groupby([\"plant_id_eia\",\"emissions_unit_id_epa\",]).sum(numeric_only=True)"
   ]
  },
  {
   "cell_type": "code",
   "execution_count": null,
   "metadata": {},
   "outputs": [],
   "source": [
    "cems_raw = emissions.calculate_ghg_emissions_from_fuel_consumption(\n",
    "        df=cems_raw, year=year, include_co2=False, include_ch4=True, include_n2o=True\n",
    "    )"
   ]
  },
  {
   "cell_type": "code",
   "execution_count": null,
   "metadata": {},
   "outputs": [],
   "source": [
    "cems_raw[cems_raw[\"plant_id_eia\"] == 3].groupby([\"plant_id_eia\",\"emissions_unit_id_epa\",]).sum(numeric_only=True)"
   ]
  },
  {
   "cell_type": "code",
   "execution_count": null,
   "metadata": {},
   "outputs": [],
   "source": [
    "cems_raw = remove_cems_with_zero_monthly_data(cems_raw)"
   ]
  },
  {
   "cell_type": "code",
   "execution_count": null,
   "metadata": {},
   "outputs": [],
   "source": [
    "cems_raw[cems_raw[\"plant_id_eia\"] == 3].groupby([\"plant_id_eia\",\"emissions_unit_id_epa\",]).sum(numeric_only=True)"
   ]
  },
  {
   "attachments": {},
   "cell_type": "markdown",
   "metadata": {},
   "source": [
    "## Investigate emissions filling"
   ]
  },
  {
   "cell_type": "code",
   "execution_count": null,
   "metadata": {},
   "outputs": [],
   "source": [
    "cems_test[cems_test[\"plant_id_eia\"] == 3].groupby([\"plant_id_eia\",\"emissions_unit_id_epa\",]).sum(numeric_only=True)"
   ]
  },
  {
   "cell_type": "code",
   "execution_count": null,
   "metadata": {},
   "outputs": [],
   "source": [
    "barry = cems_test.copy() #[(cems_test[\"plant_id_eia\"] == 3)]\n",
    "barry"
   ]
  },
  {
   "cell_type": "code",
   "execution_count": null,
   "metadata": {},
   "outputs": [],
   "source": [
    "import numpy as np"
   ]
  },
  {
   "cell_type": "code",
   "execution_count": null,
   "metadata": {},
   "outputs": [],
   "source": [
    "# add a new categorical option to the mass measurement code\n",
    "barry[\"co2_mass_measurement_code\"] = barry[\n",
    "    \"co2_mass_measurement_code\"\n",
    "].cat.add_categories(\"Imputed\")\n",
    "\n",
    "# replace all \"missing\" CO2 values with zero\n",
    "barry[\"co2_mass_lb\"] = barry[\"co2_mass_lb\"].fillna(0)\n",
    "\n"
   ]
  },
  {
   "cell_type": "code",
   "execution_count": null,
   "metadata": {},
   "outputs": [],
   "source": [
    "# replace 0 reported CO2 values with missing values, if there was reported heat input\n",
    "barry.loc[\n",
    "    (barry[\"co2_mass_lb\"] == 0) & (barry[\"fuel_consumed_mmbtu\"] > 0),\n",
    "]"
   ]
  },
  {
   "cell_type": "code",
   "execution_count": null,
   "metadata": {},
   "outputs": [],
   "source": [
    "# replace 0 reported CO2 values with missing values, if there was reported heat input\n",
    "barry.loc[\n",
    "    (barry[\"co2_mass_lb\"] == 0) & (barry[\"fuel_consumed_mmbtu\"] > 0),\n",
    "    \"co2_mass_lb\",\n",
    "] = np.NaN"
   ]
  },
  {
   "cell_type": "code",
   "execution_count": null,
   "metadata": {},
   "outputs": [],
   "source": [
    "# create a new df with all observations with missing co2 data\n",
    "missing_co2 = barry[barry[\"co2_mass_lb\"].isnull()]\n",
    "missing_co2"
   ]
  },
  {
   "cell_type": "code",
   "execution_count": null,
   "metadata": {},
   "outputs": [],
   "source": [
    "unit_months_missing_co2 = missing_co2[\n",
    "        [\"plant_id_eia\", \"emissions_unit_id_epa\", \"report_date\"]\n",
    "    ].drop_duplicates()\n",
    "unit_months_missing_co2"
   ]
  },
  {
   "cell_type": "code",
   "execution_count": null,
   "metadata": {},
   "outputs": [],
   "source": [
    "# get non-missing data from cems for these unit months\n",
    "unit_months_missing_co2 = unit_months_missing_co2.merge(\n",
    "    barry[\n",
    "        [\n",
    "            \"plant_id_eia\",\n",
    "            \"emissions_unit_id_epa\",\n",
    "            \"report_date\",\n",
    "            \"co2_mass_lb\",\n",
    "            \"fuel_consumed_mmbtu\",\n",
    "        ]\n",
    "    ],\n",
    "    how=\"left\",\n",
    "    on=[\"plant_id_eia\", \"emissions_unit_id_epa\", \"report_date\"],\n",
    "    validate=\"1:m\",\n",
    ")\n",
    "unit_months_missing_co2"
   ]
  },
  {
   "cell_type": "code",
   "execution_count": null,
   "metadata": {},
   "outputs": [],
   "source": [
    "unit_months_missing_co2 = unit_months_missing_co2[\n",
    "        (unit_months_missing_co2[\"co2_mass_lb\"] > 0)\n",
    "        & (unit_months_missing_co2[\"fuel_consumed_mmbtu\"] > 0)\n",
    "    ]\n",
    "unit_months_missing_co2"
   ]
  },
  {
   "cell_type": "code",
   "execution_count": null,
   "metadata": {},
   "outputs": [],
   "source": [
    "# calculate total fuel consumption and emissions by month\n",
    "unit_month_efs = (\n",
    "    unit_months_missing_co2.groupby(\n",
    "        [\"plant_id_eia\", \"emissions_unit_id_epa\", \"report_date\"], dropna=False\n",
    "    )\n",
    "    .sum()\n",
    "    .reset_index()\n",
    ")\n",
    "unit_month_efs[\"co2_lb_per_mmbtu\"] = (\n",
    "    unit_month_efs[\"co2_mass_lb\"] / unit_month_efs[\"fuel_consumed_mmbtu\"]\n",
    ")\n",
    "unit_month_efs"
   ]
  },
  {
   "cell_type": "code",
   "execution_count": null,
   "metadata": {},
   "outputs": [],
   "source": [
    "# merge these EFs into the missing cems data\n",
    "missing_co2 = missing_co2.merge(\n",
    "    unit_month_efs[\n",
    "        [\"plant_id_eia\", \"report_date\", \"emissions_unit_id_epa\", \"co2_lb_per_mmbtu\"]\n",
    "    ],\n",
    "    how=\"left\",\n",
    "    on=[\"plant_id_eia\", \"report_date\", \"emissions_unit_id_epa\"],\n",
    "    validate=\"m:1\",\n",
    ").set_index(missing_co2.index)\n",
    "missing_co2"
   ]
  },
  {
   "cell_type": "code",
   "execution_count": null,
   "metadata": {},
   "outputs": [],
   "source": [
    "# only keep observations where there is a non-missing ef\n",
    "missing_co2 = missing_co2[~missing_co2[\"co2_lb_per_mmbtu\"].isna()]\n",
    "\n",
    "# calculate missing co2 data\n",
    "missing_co2[\"co2_mass_lb\"] = (\n",
    "    missing_co2[\"fuel_consumed_mmbtu\"] * missing_co2[\"co2_lb_per_mmbtu\"]\n",
    ")\n",
    "missing_co2"
   ]
  },
  {
   "cell_type": "code",
   "execution_count": null,
   "metadata": {},
   "outputs": [],
   "source": [
    "# update in CEMS table\n",
    "barry.update(missing_co2[[\"co2_mass_lb\"]])"
   ]
  },
  {
   "cell_type": "code",
   "execution_count": null,
   "metadata": {},
   "outputs": [],
   "source": [
    "# update the co2 mass measurement code\n",
    "barry.loc[missing_co2.index, \"co2_mass_measurement_code\"] = \"Imputed\"\n",
    "\n",
    "# identify all observations that are still missing co2 data\n",
    "missing_co2 = barry[barry[\"co2_mass_lb\"].isnull()]\n",
    "missing_co2"
   ]
  },
  {
   "cell_type": "code",
   "execution_count": null,
   "metadata": {},
   "outputs": [],
   "source": [
    "# merge the weighted ef into the missing data\n",
    "missing_co2 = missing_co2.merge(\n",
    "    subplant_emission_factors[\n",
    "        [\"plant_id_eia\", \"report_date\", \"subplant_id\", \"co2_lb_per_mmbtu\"]\n",
    "    ],\n",
    "    how=\"left\",\n",
    "    on=[\"plant_id_eia\", \"report_date\", \"subplant_id\"],\n",
    "    validate=\"m:1\",\n",
    ").set_index(missing_co2.index)\n",
    "missing_co2"
   ]
  },
  {
   "cell_type": "code",
   "execution_count": null,
   "metadata": {},
   "outputs": [],
   "source": [
    "# only keep observations where there is a non-missing ef\n",
    "missing_co2 = missing_co2[~missing_co2[\"co2_lb_per_mmbtu\"].isna()]\n",
    "\n",
    "# calculate missing co2 data\n",
    "missing_co2[\"co2_mass_lb\"] = (\n",
    "    missing_co2[\"fuel_consumed_mmbtu\"] * missing_co2[\"co2_lb_per_mmbtu\"]\n",
    ")\n",
    "missing_co2"
   ]
  },
  {
   "cell_type": "code",
   "execution_count": null,
   "metadata": {},
   "outputs": [],
   "source": [
    "# update in barry table\n",
    "barry.update(missing_co2[[\"co2_mass_lb\"]])\n",
    "\n",
    "# update the co2 mass measurement code\n",
    "barry.loc[missing_co2.index, \"co2_mass_measurement_code\"] = \"Imputed\"\n",
    "\n",
    "# identify all observations that are still missing co2 data\n",
    "missing_co2 = barry[barry[\"co2_mass_lb\"].isnull()]"
   ]
  },
  {
   "cell_type": "code",
   "execution_count": null,
   "metadata": {},
   "outputs": [],
   "source": [
    "missing_co2"
   ]
  },
  {
   "cell_type": "code",
   "execution_count": null,
   "metadata": {},
   "outputs": [],
   "source": [
    "# for rows that have a successful fuel code match, move to a temporary dataframe to hold the data\n",
    "co2_to_fill = missing_co2.copy()[~missing_co2[\"energy_source_code\"].isna()]\n",
    "fill_index = co2_to_fill.index\n",
    "co2_to_fill"
   ]
  },
  {
   "cell_type": "code",
   "execution_count": null,
   "metadata": {},
   "outputs": [],
   "source": [
    "# calculate emissions based on fuel type\n",
    "co2_to_fill = emissions.calculate_ghg_emissions_from_fuel_consumption(\n",
    "    df=co2_to_fill,\n",
    "    year=year,\n",
    "    include_co2=True,\n",
    "    include_ch4=False,\n",
    "    include_n2o=False,\n",
    ").set_index(fill_index)\n",
    "\n",
    "co2_to_fill"
   ]
  },
  {
   "cell_type": "code",
   "execution_count": null,
   "metadata": {},
   "outputs": [],
   "source": [
    "# fill this data into the original cems data\n",
    "barry.update(co2_to_fill[[\"co2_mass_lb\"]])"
   ]
  },
  {
   "cell_type": "code",
   "execution_count": null,
   "metadata": {},
   "outputs": [],
   "source": [
    "barry[[\"plant_id_eia\",\"emissions_unit_id_epa\",\"datetime_utc\", \"co2_mass_lb\"]]"
   ]
  },
  {
   "cell_type": "code",
   "execution_count": null,
   "metadata": {},
   "outputs": [],
   "source": [
    "test_fill = cems_test.loc[cems_test[\"co2_mass_lb\"] > 0,[\"plant_id_eia\",\"emissions_unit_id_epa\",\"datetime_utc\", \"co2_mass_lb\"]]\n",
    "test_fill = test_fill.merge(barry[[\"plant_id_eia\",\"emissions_unit_id_epa\",\"datetime_utc\", \"co2_mass_lb\"]], how=\"left\", on=[\"plant_id_eia\",\"emissions_unit_id_epa\",\"datetime_utc\"], validate=\"1:1\", suffixes=(\"_original\",\"_postfill\"))\n",
    "test_fill[\"diff\"] = test_fill[\"co2_mass_lb_postfill\"] - test_fill[\"co2_mass_lb_original\"]\n",
    "test_fill[test_fill[\"diff\"] != 0]"
   ]
  },
  {
   "attachments": {},
   "cell_type": "markdown",
   "metadata": {},
   "source": [
    "## Why are non-missing values being removed?"
   ]
  },
  {
   "cell_type": "code",
   "execution_count": null,
   "metadata": {},
   "outputs": [],
   "source": [
    "(\n",
    "    eia923_allocated,\n",
    "    primary_fuel_table,\n",
    "    subplant_emission_factors,\n",
    ") = clean_eia923(year, False)\n",
    "\n",
    "# load the CEMS data\n",
    "cems = load_data.load_cems_data(year)\n",
    "\n",
    "\n",
    "# remove non-grid connected plants\n",
    "cems = remove_plants(\n",
    "    cems,\n",
    "    non_grid_connected=True,\n",
    "    remove_states=[\"PR\"],\n",
    "    steam_only_plants=False,\n",
    "    distribution_connected_plants=False,\n",
    ")\n",
    "\n",
    "# manually remove steam-only units\n",
    "cems = manually_remove_steam_units(cems)\n",
    "\n",
    "# add a report date\n",
    "cems = load_data.add_report_date(cems)\n",
    "\n",
    "# remove data for any unit-months where there are incomplete data reported\n",
    "# this is generally when there is a single observation reported for an entire month\n",
    "cems = remove_incomplete_unit_months(cems)\n",
    "\n",
    "# TODO: identify and remove any hourly values that appear to be outliers\n",
    "# See: https://github.com/singularity-energy/open-grid-emissions/issues/50\n",
    "\n",
    "# add subplant id\n",
    "subplant_crosswalk = (\n",
    "    pd.read_csv(\n",
    "        outputs_folder(f\"{year}/subplant_crosswalk_{year}.csv\"),\n",
    "        dtype=get_dtypes(),\n",
    "    )[[\"plant_id_eia\", \"emissions_unit_id_epa\", \"subplant_id\"]]\n",
    "    .drop_duplicates()\n",
    "    .dropna(subset=\"emissions_unit_id_epa\")\n",
    ")\n",
    "cems = cems.merge(\n",
    "    subplant_crosswalk,\n",
    "    how=\"left\",\n",
    "    on=[\"plant_id_eia\", \"emissions_unit_id_epa\"],\n",
    "    validate=\"m:1\",\n",
    ")\n",
    "validation.test_for_missing_subplant_id(cems)\n",
    "\n",
    "# add a fuel type to each observation\n",
    "cems = assign_fuel_type_to_cems(cems, year, primary_fuel_table)\n",
    "\n",
    "# fill in missing hourly emissions data using the fuel type and heat input\n",
    "validation.test_for_missing_energy_source_code(cems)"
   ]
  },
  {
   "cell_type": "code",
   "execution_count": null,
   "metadata": {},
   "outputs": [],
   "source": [
    "cems_test = cems.copy()"
   ]
  },
  {
   "cell_type": "code",
   "execution_count": null,
   "metadata": {},
   "outputs": [],
   "source": [
    "cems_test = emissions.fill_cems_missing_co2(cems_test, year, subplant_emission_factors)"
   ]
  }
 ],
 "metadata": {
  "kernelspec": {
   "display_name": "open_grid_emissions",
   "language": "python",
   "name": "python3"
  },
  "language_info": {
   "codemirror_mode": {
    "name": "ipython",
    "version": 3
   },
   "file_extension": ".py",
   "mimetype": "text/x-python",
   "name": "python",
   "nbconvert_exporter": "python",
   "pygments_lexer": "ipython3",
   "version": "3.10.9"
  },
  "orig_nbformat": 4,
  "vscode": {
   "interpreter": {
    "hash": "25e36f192ecdbe5da57d9bea009812e7b11ef0e0053366a845a2802aae1b29d2"
   }
  }
 },
 "nbformat": 4,
 "nbformat_minor": 2
}
