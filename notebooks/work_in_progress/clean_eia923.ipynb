{
 "cells": [
  {
   "cell_type": "markdown",
   "metadata": {},
   "source": [
    "## About this notebook\n",
    "This notebook is used for testing the EIA-923 data cleaning process for historical years"
   ]
  },
  {
   "cell_type": "code",
   "execution_count": 1,
   "metadata": {},
   "outputs": [],
   "source": [
    "# # Tell python where to look for modules.\n",
    "import sys\n",
    "import os\n",
    "\n",
    "sys.path.append(\"../../src\")\n",
    "import download_data\n",
    "import validation\n",
    "from filepaths import *\n",
    "import data_cleaning\n"
   ]
  },
  {
   "cell_type": "code",
   "execution_count": 4,
   "metadata": {},
   "outputs": [
    {
     "name": "stdout",
     "output_type": "stream",
     "text": [
      "\n",
      "        ################################################################################\n",
      "        Warning: The data pipeline has only been validated to work for years 2019-2020.\n",
      "        Running the pipeline for 2012 may cause it to fail or may lead to poor-quality\n",
      "        or anomalous results. To check on the progress of validating additional years of\n",
      "        data, see: https://github.com/singularity-energy/open-grid-emissions/issues/117\n",
      "        ################################################################################\n",
      "        \n",
      "    Downloading 2012 EIA-860 data\n",
      "    Downloading 2012 EIA-923 data\n",
      "Cleaning EIA-923 data\n"
     ]
    },
    {
     "name": "stderr",
     "output_type": "stream",
     "text": [
      "a:\\github\\pudl\\src\\pudl\\analysis\\allocate_net_gen.py:224: UserWarning: 7 generators are missing prime mover codes in gens_eia860. This will result in incorrect allocation.\n",
      "  warnings.warn(\n"
     ]
    },
    {
     "name": "stdout",
     "output_type": "stream",
     "text": [
      "WARNING: After cleaning energy source codes, some fuel consumption is still associated with an 'OTH' fuel type.\n",
      "This will lead to incorrect emissions calculations.\n",
      "Check the following plants: [50274, 50509, 52006, 52063, 52064, 52065, 54789, 55419, 56294, 57842, 54144]\n",
      "Assign a fuel type in `data_cleaning.update_energy_source_codes`\n",
      "    Checking that there are no missing energy source codes associated with non-zero fuel consumption...  OK\n",
      "    Checking that fuel and emissions values are positive...  OK\n",
      "Warning: Boiler Design data prior to 2013 have not been integrated into the data pipeline.\n",
      "This may result in less accurate NOx and SO2 emissions calculations.\n",
      " \n",
      "Warning: NOx emission factors are missing for the following boiler types. A prime mover-fuel level factor will be used if available.\n",
      "      prime_mover_code energy_source_code boiler_bottom_type boiler_firing_type\n",
      "16301               CA                BFG                NaN                NaN\n",
      "9237                CA                BIT                NaN                NaN\n",
      "8657                CA                 JF                NaN                NaN\n",
      "8658                CT                 JF                NaN                NaN\n",
      "5541                CA                KER                NaN                NaN\n",
      "20937               FC                LFG                NaN                NaN\n",
      "13948               OT                LFG                NaN                NaN\n",
      "18935               FC                 NG                NaN                NaN\n",
      "18936               FC                OBG                NaN                NaN\n",
      "13995               CS                 OG                NaN                NaN\n",
      "12953               CA                 PC                NaN                NaN\n",
      "9248                CA                SGC                NaN                NaN\n",
      "9249                CT                SGC                NaN                NaN\n",
      " \n",
      " \n",
      "Warning: After filling with PM-fuel factors, NOx emission factors are still missing for the following boiler types. An emission factor of zero will be used for these boilers.\n",
      "      prime_mover_code energy_source_code boiler_bottom_type boiler_firing_type\n",
      "16301               CA                BFG                NaN                NaN\n",
      "9237                CA                BIT                NaN                NaN\n",
      "8657                CA                 JF                NaN                NaN\n",
      "8658                CT                 JF                NaN                NaN\n",
      "20937               FC                LFG                NaN                NaN\n",
      "13948               OT                LFG                NaN                NaN\n",
      "18935               FC                 NG                NaN                NaN\n",
      "18936               FC                OBG                NaN                NaN\n",
      "13995               CS                 OG                NaN                NaN\n",
      " \n"
     ]
    },
    {
     "ename": "UserWarning",
     "evalue": "Warning: The heat content for the following fuels is missing and NOx emissions will not be calculated for this fuel:['SGC', 'RC']",
     "output_type": "error",
     "traceback": [
      "\u001b[1;31m---------------------------------------------------------------------------\u001b[0m",
      "\u001b[1;31mUserWarning\u001b[0m                               Traceback (most recent call last)",
      "\u001b[1;32ma:\\GitHub\\open-grid-emissions\\notebooks\\work_in_progress\\clean_eia923.ipynb Cell 3\u001b[0m in \u001b[0;36m<cell line: 16>\u001b[1;34m()\u001b[0m\n\u001b[0;32m     <a href='vscode-notebook-cell:/a%3A/GitHub/open-grid-emissions/notebooks/work_in_progress/clean_eia923.ipynb#W1sZmlsZQ%3D%3D?line=12'>13</a>\u001b[0m download_data\u001b[39m.\u001b[39mdownload_raw_eia923(year)\n\u001b[0;32m     <a href='vscode-notebook-cell:/a%3A/GitHub/open-grid-emissions/notebooks/work_in_progress/clean_eia923.ipynb#W1sZmlsZQ%3D%3D?line=14'>15</a>\u001b[0m \u001b[39mprint\u001b[39m(\u001b[39m\"\u001b[39m\u001b[39mCleaning EIA-923 data\u001b[39m\u001b[39m\"\u001b[39m)\n\u001b[1;32m---> <a href='vscode-notebook-cell:/a%3A/GitHub/open-grid-emissions/notebooks/work_in_progress/clean_eia923.ipynb#W1sZmlsZQ%3D%3D?line=15'>16</a>\u001b[0m eia923_allocated, primary_fuel_table \u001b[39m=\u001b[39m data_cleaning\u001b[39m.\u001b[39;49mclean_eia923(year, \u001b[39mFalse\u001b[39;49;00m)\n",
      "File \u001b[1;32ma:\\GitHub\\open-grid-emissions\\notebooks\\work_in_progress\\../../src\\data_cleaning.py:312\u001b[0m, in \u001b[0;36mclean_eia923\u001b[1;34m(year, small)\u001b[0m\n\u001b[0;32m    303\u001b[0m gen_fuel_allocated \u001b[39m=\u001b[39m emissions\u001b[39m.\u001b[39mcalculate_ghg_emissions_from_fuel_consumption(\n\u001b[0;32m    304\u001b[0m     df\u001b[39m=\u001b[39mgen_fuel_allocated,\n\u001b[0;32m    305\u001b[0m     year\u001b[39m=\u001b[39myear,\n\u001b[1;32m   (...)\u001b[0m\n\u001b[0;32m    308\u001b[0m     include_n2o\u001b[39m=\u001b[39m\u001b[39mTrue\u001b[39;00m,\n\u001b[0;32m    309\u001b[0m )\n\u001b[0;32m    311\u001b[0m \u001b[39m# Calculate NOx and SO2 emissions\u001b[39;00m\n\u001b[1;32m--> 312\u001b[0m gen_fuel_allocated \u001b[39m=\u001b[39m emissions\u001b[39m.\u001b[39;49mcalculate_nox_from_fuel_consumption(\n\u001b[0;32m    313\u001b[0m     gen_fuel_allocated, pudl_out, year\n\u001b[0;32m    314\u001b[0m )\n\u001b[0;32m    315\u001b[0m gen_fuel_allocated \u001b[39m=\u001b[39m emissions\u001b[39m.\u001b[39mcalculate_so2_from_fuel_consumption(\n\u001b[0;32m    316\u001b[0m     gen_fuel_allocated, pudl_out, year\n\u001b[0;32m    317\u001b[0m )\n\u001b[0;32m    319\u001b[0m \u001b[39m# adjust total emissions for biomass\u001b[39;00m\n",
      "File \u001b[1;32ma:\\GitHub\\open-grid-emissions\\notebooks\\work_in_progress\\../../src\\emissions.py:450\u001b[0m, in \u001b[0;36mcalculate_nox_from_fuel_consumption\u001b[1;34m(gen_fuel_allocated, pudl_out, year)\u001b[0m\n\u001b[0;32m    446\u001b[0m \u001b[39m# calculate uncontrolled nox emission factors based on boiler design parameters\u001b[39;00m\n\u001b[0;32m    447\u001b[0m uncontrolled_nox_factors \u001b[39m=\u001b[39m calculate_generator_nox_ef_per_unit_from_boiler_type(\n\u001b[0;32m    448\u001b[0m     gen_fuel_allocated, year, pudl_out\n\u001b[0;32m    449\u001b[0m )\n\u001b[1;32m--> 450\u001b[0m uncontrolled_nox_factors \u001b[39m=\u001b[39m convert_ef_to_lb_per_mmbtu(\n\u001b[0;32m    451\u001b[0m     uncontrolled_nox_factors, pudl_out, \u001b[39m\"\u001b[39;49m\u001b[39mnox\u001b[39;49m\u001b[39m\"\u001b[39;49m\n\u001b[0;32m    452\u001b[0m )\n\u001b[0;32m    454\u001b[0m \u001b[39m# merge nox efs into the gen_fuel_allocated\u001b[39;00m\n\u001b[0;32m    455\u001b[0m gen_fuel_allocated \u001b[39m=\u001b[39m gen_fuel_allocated\u001b[39m.\u001b[39mmerge(\n\u001b[0;32m    456\u001b[0m     uncontrolled_nox_factors,\n\u001b[0;32m    457\u001b[0m     how\u001b[39m=\u001b[39m\u001b[39m\"\u001b[39m\u001b[39mleft\u001b[39m\u001b[39m\"\u001b[39m,\n\u001b[1;32m   (...)\u001b[0m\n\u001b[0;32m    465\u001b[0m     validate\u001b[39m=\u001b[39m\u001b[39m\"\u001b[39m\u001b[39mm:1\u001b[39m\u001b[39m\"\u001b[39m,\n\u001b[0;32m    466\u001b[0m )\n",
      "File \u001b[1;32ma:\\GitHub\\open-grid-emissions\\notebooks\\work_in_progress\\../../src\\emissions.py:819\u001b[0m, in \u001b[0;36mconvert_ef_to_lb_per_mmbtu\u001b[1;34m(gen_emission_factors, pudl_out, pollutant)\u001b[0m\n\u001b[0;32m    814\u001b[0m missing_fuel_content \u001b[39m=\u001b[39m gen_emission_factors[\n\u001b[0;32m    815\u001b[0m     gen_emission_factors[\u001b[39m\"\u001b[39m\u001b[39mfuel_mmbtu_per_unit\u001b[39m\u001b[39m\"\u001b[39m]\u001b[39m.\u001b[39misna()\n\u001b[0;32m    816\u001b[0m     \u001b[39m&\u001b[39m (gen_emission_factors[\u001b[39m\"\u001b[39m\u001b[39memission_factor_denominator\u001b[39m\u001b[39m\"\u001b[39m] \u001b[39m!=\u001b[39m \u001b[39m\"\u001b[39m\u001b[39mmmbtu\u001b[39m\u001b[39m\"\u001b[39m)\n\u001b[0;32m    817\u001b[0m ]\n\u001b[0;32m    818\u001b[0m \u001b[39mif\u001b[39;00m \u001b[39mlen\u001b[39m(missing_fuel_content) \u001b[39m>\u001b[39m \u001b[39m0\u001b[39m:\n\u001b[1;32m--> 819\u001b[0m     \u001b[39mraise\u001b[39;00m \u001b[39mUserWarning\u001b[39;00m(\n\u001b[0;32m    820\u001b[0m         \u001b[39mf\u001b[39m\u001b[39m\"\u001b[39m\u001b[39mWarning: The heat content for the following fuels is missing and NOx emissions will not be calculated for this fuel:\u001b[39m\u001b[39m{\u001b[39;00m\u001b[39mlist\u001b[39m(missing_fuel_content\u001b[39m.\u001b[39menergy_source_code\u001b[39m.\u001b[39munique())\u001b[39m}\u001b[39;00m\u001b[39m\"\u001b[39m\n\u001b[0;32m    821\u001b[0m     )\n\u001b[0;32m    823\u001b[0m \u001b[39m# convert emission factors from lb per unit to lb per mmbtu if the factor is not already in units of lb/mmbtu\u001b[39;00m\n\u001b[0;32m    824\u001b[0m \u001b[39mif\u001b[39;00m pollutant \u001b[39m==\u001b[39m \u001b[39m\"\u001b[39m\u001b[39mnox\u001b[39m\u001b[39m\"\u001b[39m:\n",
      "\u001b[1;31mUserWarning\u001b[0m: Warning: The heat content for the following fuels is missing and NOx emissions will not be calculated for this fuel:['SGC', 'RC']"
     ]
    }
   ],
   "source": [
    "year = 2012\n",
    "\n",
    "validation.validate_year(year)\n",
    "\n",
    "# 0. Set up directory structure\n",
    "path_prefix = \"\" \n",
    "path_prefix += f\"{year}/\"\n",
    "os.makedirs(downloads_folder(), exist_ok=True)\n",
    "os.makedirs(f\"{outputs_folder()}{path_prefix}\", exist_ok=True)\n",
    "\n",
    "# download the raw EIA-923 and EIA-860 files for use in NOx/SO2 calculations until integrated into pudl\n",
    "download_data.download_raw_eia860(year)\n",
    "download_data.download_raw_eia923(year)\n",
    "\n",
    "print(\"Cleaning EIA-923 data\")\n",
    "eia923_allocated, primary_fuel_table = data_cleaning.clean_eia923(year, False)"
   ]
  },
  {
   "cell_type": "code",
   "execution_count": null,
   "metadata": {},
   "outputs": [],
   "source": [
    "import pudl\n",
    "import sqlalchemy as sa\n",
    "import logging\n",
    "import warnings\n",
    "import pandas as pd\n",
    "logger = logging.getLogger(__name__)"
   ]
  },
  {
   "cell_type": "code",
   "execution_count": null,
   "metadata": {},
   "outputs": [],
   "source": [
    "pudl_db = 'sqlite:///../../data/downloads/pudl/pudl_data/sqlite/pudl.sqlite'\n",
    "pudl_engine = sa.create_engine(pudl_db)\n",
    "\n",
    "pudl_out = pudl.output.pudltabl.PudlTabl(\n",
    "    pudl_engine,\n",
    "    freq='MS',\n",
    "    start_date=f'{year}-01-01',\n",
    "    end_date=f'{year}-12-31'\n",
    ")"
   ]
  },
  {
   "cell_type": "code",
   "execution_count": null,
   "metadata": {},
   "outputs": [],
   "source": [
    "remove_this = pudl.analysis.allocate_net_gen\n",
    "drop_interim_cols = False\n",
    "\n",
    "IDX_GENS = [\"report_date\", \"plant_id_eia\", \"generator_id\"]\n",
    "\"\"\"Id columns for generators.\"\"\"\n",
    "\n",
    "IDX_GENS_PM_ESC = [\n",
    "    \"report_date\",\n",
    "    \"plant_id_eia\",\n",
    "    \"generator_id\",\n",
    "    \"prime_mover_code\",\n",
    "    \"energy_source_code\",\n",
    "]\n",
    "\n",
    "IDX_PM_ESC = [\"report_date\", \"plant_id_eia\", \"energy_source_code\", \"prime_mover_code\"]\n",
    "\"\"\"Id columns for plant, prime mover & fuel type records.\"\"\"\n",
    "\n",
    "IDX_B_PM_ESC = [\n",
    "    \"report_date\",\n",
    "    \"plant_id_eia\",\n",
    "    \"boiler_id\",\n",
    "    \"energy_source_code\",\n",
    "    \"prime_mover_code\",\n",
    "]\n",
    "\"\"\"Id columns for plant, boiler, prime mover & fuel type records.\"\"\"\n",
    "\n",
    "IDX_ESC = [\"report_date\", \"plant_id_eia\", \"energy_source_code\"]\n",
    "\n",
    "IDX_U_ESC = [\"report_date\", \"plant_id_eia\", \"energy_source_code\", \"unit_id_pudl\"]\n",
    "\n",
    "# extract all of the tables from pudl_out early in the process and select\n",
    "# only the columns we need. this is for speed and clarity.\n",
    "gens = pudl_out.gens_eia860().loc[\n",
    "    :,\n",
    "    IDX_GENS\n",
    "    + [\n",
    "        \"prime_mover_code\",\n",
    "        \"unit_id_pudl\",\n",
    "        \"capacity_mw\",\n",
    "        \"fuel_type_count\",\n",
    "        \"operational_status\",\n",
    "        \"retirement_date\",\n",
    "    ]\n",
    "    + list(pudl_out.gens_eia860().filter(like=\"energy_source_code\"))\n",
    "    + list(pudl_out.gens_eia860().filter(like=\"startup_source_code\")),\n",
    "]\n",
    "gf = (\n",
    "    pudl_out.gf_eia923()\n",
    "    .loc[\n",
    "        :,\n",
    "        IDX_PM_ESC\n",
    "        + [\n",
    "            \"net_generation_mwh\",\n",
    "            \"fuel_consumed_mmbtu\",\n",
    "            \"fuel_consumed_for_electricity_mmbtu\",\n",
    "        ],\n",
    "    ]\n",
    "    .pipe(remove_this.manually_fix_energy_source_codes)\n",
    ")\n",
    "bf = (\n",
    "    pudl_out.bf_eia923()\n",
    "    .merge(\n",
    "        pd.read_sql(\"boilers_entity_eia\", pudl_out.pudl_engine),\n",
    "        how=\"left\",\n",
    "        on=[\"plant_id_eia\", \"boiler_id\"],\n",
    "    )\n",
    "    .loc[:, IDX_B_PM_ESC + [\"fuel_consumed_mmbtu\"]]\n",
    ").pipe(\n",
    "    remove_this.distribute_annually_reported_data_to_months,\n",
    "    key_columns=[\"plant_id_eia\", \"boiler_id\", \"energy_source_code\"],\n",
    "    data_column_name=\"fuel_consumed_mmbtu\",\n",
    ")\n",
    "# allocate the boiler fuel data to generators\n",
    "bf = remove_this.allocate_bf_data_to_gens(bf, gens, pudl_out)\n",
    "\n",
    "# add any startup energy source codes to the list of energy source codes\n",
    "# fix MSW codes\n",
    "gens = remove_this.adjust_energy_source_codes(gens, gf, bf)\n",
    "# fix prime mover codes in gens so that they match the codes in the gf table\n",
    "missing_pm = gens[gens[\"prime_mover_code\"].isna()]\n",
    "if not missing_pm.empty:\n",
    "    warnings.warn(\n",
    "        f\"{len(missing_pm)} generators are missing prime mover codes in gens_eia860. \"\n",
    "        \"This will result in incorrect allocation.\"\n",
    "    )\n",
    "    logger.info(\n",
    "        missing_pm[\n",
    "            [\n",
    "                \"report_date\",\n",
    "                \"plant_id_eia\",\n",
    "                \"generator_id\",\n",
    "                \"prime_mover_code\",\n",
    "                \"unit_id_pudl\",\n",
    "                \"operational_status\",\n",
    "                \"energy_source_code_1\",\n",
    "            ]\n",
    "        ]\n",
    "    )\n",
    "# duplicate each entry in the gens table 12 times to create an entry for each month of the year\n",
    "if pudl_out.freq == \"MS\":\n",
    "    gens = pudl.helpers.expand_timeseries(\n",
    "        df=gens, key_cols=[\"plant_id_eia\", \"generator_id\"], freq=\"MS\"\n",
    "    )\n",
    "\n",
    "gen = (\n",
    "    pudl_out.gen_original_eia923().loc[:, IDX_GENS + [\"net_generation_mwh\"]]\n",
    "    # removes 4 records with NaN generator_id as of pudl v0.5\n",
    "    .dropna(subset=IDX_GENS)\n",
    ").pipe(\n",
    "    remove_this.distribute_annually_reported_data_to_months,\n",
    "    key_columns=[\"plant_id_eia\", \"generator_id\"],\n",
    "    data_column_name=\"net_generation_mwh\",\n",
    ")\n",
    "\n",
    "# the gen table is missing some generator ids. Let's fill this using the gens table, leaving a missing value for net generation\n",
    "gen = gen.merge(\n",
    "    gens[[\"plant_id_eia\", \"generator_id\", \"report_date\"]],\n",
    "    how=\"outer\",\n",
    "    on=[\"plant_id_eia\", \"generator_id\", \"report_date\"],\n",
    ")\n",
    "\n",
    "# do the association!\n",
    "gen_assoc = remove_this.associate_generator_tables(\n",
    "    gf=gf, gen=gen, gens=gens, bf=bf, pudl_out=pudl_out\n",
    ")\n",
    "\n",
    "# Generate a fraction to use to allocate net generation and fuel consumption by.\n",
    "# These two methods create a column called `frac`, which will be a fraction\n",
    "# to allocate net generation from the gf table for each `IDX_PM_ESC` group\n",
    "gen_pm_fuel = remove_this.prep_alloction_fraction(gen_assoc)\n",
    "\n",
    "# Net gen allocation\n",
    "net_gen_alloc = remove_this.allocate_net_gen_by_gen_esc(gen_pm_fuel).pipe(\n",
    "    remove_this._test_gen_pm_fuel_output, gf=gf, gen=gen\n",
    ")\n",
    "\n",
    "remove_this._test_gen_fuel_allocation(gen, net_gen_alloc)\n",
    "\n",
    "# drop all of the columns we needed to get to the `frac` column\n",
    "if drop_interim_cols:\n",
    "    net_gen_alloc = net_gen_alloc.loc[\n",
    "        :,\n",
    "        IDX_PM_ESC\n",
    "        + [\n",
    "            \"generator_id\",\n",
    "            \"energy_source_code_num\",\n",
    "            \"net_generation_mwh\",\n",
    "        ],\n",
    "    ]\n",
    "\n",
    "# fuel allocation\n",
    "fuel_alloc = remove_this.allocate_fuel_by_gen_esc(gen_pm_fuel)\n",
    "if drop_interim_cols:\n",
    "    fuel_alloc = fuel_alloc.loc[\n",
    "        :,\n",
    "        IDX_PM_ESC\n",
    "        + [\n",
    "            \"generator_id\",\n",
    "            \"energy_source_code_num\",\n",
    "            \"fuel_consumed_mmbtu\",\n",
    "            \"fuel_consumed_for_electricity_mmbtu\",\n",
    "        ],\n",
    "    ]"
   ]
  },
  {
   "cell_type": "code",
   "execution_count": null,
   "metadata": {},
   "outputs": [],
   "source": [
    "net_gen_alloc[net_gen_alloc.duplicated(subset=(IDX_PM_ESC + [\"generator_id\", \"energy_source_code_num\"]), keep=False)]"
   ]
  },
  {
   "cell_type": "code",
   "execution_count": null,
   "metadata": {},
   "outputs": [],
   "source": [
    "fuel_alloc[fuel_alloc.duplicated(subset=(IDX_PM_ESC + [\"generator_id\", \"energy_source_code_num\"]), keep=False)]"
   ]
  },
  {
   "cell_type": "code",
   "execution_count": null,
   "metadata": {},
   "outputs": [],
   "source": [
    "# load boiler generator associations\n",
    "bga = pudl_out.bga_eia860().loc[\n",
    "    :,\n",
    "    [\n",
    "        \"plant_id_eia\",\n",
    "        \"boiler_id\",\n",
    "        \"generator_id\",\n",
    "        \"report_date\",\n",
    "    ],\n",
    "]\n",
    "\n",
    "# merge generator capacity information into the BGA\n",
    "bga = bga.merge(\n",
    "    gens[[\"plant_id_eia\", \"generator_id\", \"capacity_mw\", \"report_date\", \"prime_mover_code\"]],\n",
    "    how=\"left\",\n",
    "    on=[\"plant_id_eia\", \"generator_id\", \"report_date\"],\n",
    "    validate=\"m:1\",\n",
    ")#.set_index([\"plant_id_eia\", \"boiler_id\", \"report_date\", \"generator_id\"])\n",
    "bga[bga[\"plant_id_eia\"] == 59220]"
   ]
  },
  {
   "cell_type": "code",
   "execution_count": null,
   "metadata": {},
   "outputs": [],
   "source": [
    "# calculate an allocation fraction based on the capacity of each generator with which\n",
    "# a boiler is connected\n",
    "bga[\"cap_frac\"] = (\n",
    "    bga / bga.groupby([\"plant_id_eia\", \"boiler_id\", \"report_date\"]).sum()\n",
    ")\n",
    "bga = bga.reset_index()"
   ]
  },
  {
   "cell_type": "code",
   "execution_count": null,
   "metadata": {},
   "outputs": [],
   "source": [
    "gf[gf[\"plant_id_eia\"] == 59220]"
   ]
  },
  {
   "cell_type": "code",
   "execution_count": null,
   "metadata": {},
   "outputs": [],
   "source": [
    "bga[bga[\"plant_id_eia\"] == 59220]"
   ]
  },
  {
   "cell_type": "code",
   "execution_count": null,
   "metadata": {},
   "outputs": [],
   "source": [
    "bf[bf[\"plant_id_eia\"] == 59220]"
   ]
  },
  {
   "cell_type": "code",
   "execution_count": null,
   "metadata": {},
   "outputs": [],
   "source": [
    "bf_test = (\n",
    "    pudl_out.bf_eia923()\n",
    "    .merge(\n",
    "        pd.read_sql(\"boilers_entity_eia\", pudl_out.pudl_engine),\n",
    "        how=\"left\",\n",
    "        on=[\"plant_id_eia\", \"boiler_id\"],\n",
    "    )\n",
    "    .loc[:, IDX_B_PM_ESC + [\"fuel_consumed_mmbtu\"]]\n",
    ")"
   ]
  },
  {
   "cell_type": "code",
   "execution_count": null,
   "metadata": {},
   "outputs": [],
   "source": [
    "bf_test[bf_test[\"plant_id_eia\"] == 59220]"
   ]
  }
 ],
 "metadata": {
  "kernelspec": {
   "display_name": "Python 3.10.5 ('hourly_egrid')",
   "language": "python",
   "name": "python3"
  },
  "language_info": {
   "codemirror_mode": {
    "name": "ipython",
    "version": 3
   },
   "file_extension": ".py",
   "mimetype": "text/x-python",
   "name": "python",
   "nbconvert_exporter": "python",
   "pygments_lexer": "ipython3",
   "version": "3.10.5"
  },
  "orig_nbformat": 4,
  "vscode": {
   "interpreter": {
    "hash": "4103f3cd497821eca917ea303dbe10c590d787eb7d2dc3fd4e15dec0356e7931"
   }
  }
 },
 "nbformat": 4,
 "nbformat_minor": 2
}
