{
 "cells": [
  {
   "cell_type": "code",
   "execution_count": null,
   "metadata": {},
   "outputs": [],
   "source": [
    "# import packages\n",
    "import pandas as pd\n",
    "import numpy as np\n",
    "import os\n",
    "import plotly.express as px\n",
    "\n",
    "%reload_ext autoreload\n",
    "%autoreload 2\n",
    "\n",
    "import pudl.analysis.allocate_net_gen as allocate_gen_fuel\n",
    "import pudl.analysis.epacamd_eia as epacamd_eia_crosswalk\n",
    "import pudl.output.pudltabl\n",
    "\n",
    "# # Tell python where to look for modules.\n",
    "import sys\n",
    "sys.path.append('../../../open-grid-emissions/src/')\n",
    "\n",
    "import download_data\n",
    "import load_data\n",
    "from column_checks import get_dtypes\n",
    "from filepaths import *\n",
    "import impute_hourly_profiles\n",
    "import data_cleaning\n",
    "import output_data\n",
    "import emissions\n",
    "import validation\n",
    "import gross_to_net_generation\n",
    "import eia930\n",
    "\n",
    "year = 2021\n",
    "path_prefix = f\"{year}/\""
   ]
  },
  {
   "cell_type": "code",
   "execution_count": null,
   "metadata": {},
   "outputs": [],
   "source": [
    "pudl_out = load_data.initialize_pudl_out(year=year)\n",
    "gf, bf, bga, gens, gen = allocate_gen_fuel.extract_input_tables(pudl_out)"
   ]
  },
  {
   "cell_type": "code",
   "execution_count": null,
   "metadata": {},
   "outputs": [],
   "source": [
    "(\n",
    "    eia923_allocated,\n",
    "    primary_fuel_table,\n",
    "    subplant_emission_factors,\n",
    ") = data_cleaning.clean_eia923(year, False)"
   ]
  },
  {
   "cell_type": "code",
   "execution_count": null,
   "metadata": {},
   "outputs": [],
   "source": [
    "gens[gens[\"plant_id_eia\"] == 59825]"
   ]
  },
  {
   "cell_type": "code",
   "execution_count": null,
   "metadata": {},
   "outputs": [],
   "source": [
    "gf[gf[\"plant_id_eia\"] == 59825]"
   ]
  },
  {
   "cell_type": "code",
   "execution_count": null,
   "metadata": {},
   "outputs": [],
   "source": [
    "eia923_allocated[eia923_allocated[\"plant_id_eia\"] == 59825]"
   ]
  },
  {
   "cell_type": "code",
   "execution_count": null,
   "metadata": {},
   "outputs": [],
   "source": [
    "gens_at_freq.loc[\n",
    "                    ~(gens_at_freq[\"retirement_date\"] < gens_at_freq[\"report_date\"]),\n",
    "                    :,\n",
    "                ]"
   ]
  },
  {
   "cell_type": "code",
   "execution_count": null,
   "metadata": {},
   "outputs": [],
   "source": [
    "def add_missing_energy_source_codes_to_gens(gens_at_freq, gf):\n",
    "    \"\"\"Adds energy_source_codes that appear in the `gf` table but not `gens` to `gens`.\n",
    "\n",
    "    In some cases, non-zero fuel consumption and net generation is reported\n",
    "    in the EIA-923 generation and fuel table that is associated with an\n",
    "    energy_source_code that is not associated with that plant-prime mover\n",
    "    in the gens table, which would cause these data to get dropped when\n",
    "    these two tables are merged. To fix this, for each plant-pm, this function\n",
    "    identifies such esc, and adds them to the `gens_at_freq` table as new\n",
    "    energy_source_code columns.\n",
    "    \"\"\"\n",
    "\n",
    "    gf_missing_escs = identify_missing_gf_escs_in_gens(gens_at_freq, gf)\n",
    "\n",
    "    # pivot these data to become new numbered energy_source_code_n columns starting at 7\n",
    "    gf_missing_escs[\"num\"] = (\n",
    "        gf_missing_escs.groupby([\"plant_id_eia\", \"prime_mover_code\"]).cumcount() + 7\n",
    "    )\n",
    "    gf_missing_escs[\"num\"] = gf_missing_escs[\"num\"].astype(str)\n",
    "    gf_missing_escs = gf_missing_escs.pivot(\n",
    "        index=[\"plant_id_eia\", \"prime_mover_code\"], columns=\"num\"\n",
    "    )[[\"energy_source_code\"]]\n",
    "    gf_missing_escs.columns = [\"_\".join(col) for col in gf_missing_escs.columns.values]\n",
    "    gf_missing_escs = gf_missing_escs.reset_index()\n",
    "\n",
    "    # merge these missing fuel columns into the gens data\n",
    "    gens_at_freq = gens_at_freq.merge(\n",
    "        gf_missing_escs, how=\"left\", on=[\"plant_id_eia\", \"prime_mover_code\"]\n",
    "    )\n",
    "\n",
    "    return gens_at_freq\n",
    "\n",
    "\n",
    "def identify_missing_gf_escs_in_gens(gens_at_freq, gf):\n",
    "    \"\"\"For each plant, identifies energy_source_codes that exist in gf but not gens\"\"\"\n",
    "    # identify where there is a missing fuel code in gen\n",
    "    gf_missing_escs = []\n",
    "    esc_columns = list(gens_at_freq.filter(like=\"_source_code\").columns)\n",
    "    # create a filtered version of gf that only includes rows with non-zero data\n",
    "    gf_filtered = gf.loc[\n",
    "        ((gf[\"fuel_consumed_mmbtu\"] > 0) | (gf[\"net_generation_mwh\"] != 0))\n",
    "    ].copy()\n",
    "    # create filtered version of gens to iterate through\n",
    "    gens_filtered = (\n",
    "        gens_at_freq.loc[\n",
    "            ~(gens_at_freq[\"retirement_date\"] < gens_at_freq[\"report_date\"]),\n",
    "            [\"plant_id_eia\", \"prime_mover_code\"] + esc_columns,\n",
    "        ]\n",
    "        .drop_duplicates()\n",
    "        .replace(np.NaN, \"N/A\")\n",
    "    )\n",
    "    for plant in list(gf_filtered.plant_id_eia.unique()):  # get a list of all plants\n",
    "        # get a list of unique prime movers at the plant\n",
    "        pms_at_plant = list(\n",
    "            gf_filtered.loc[\n",
    "                gf_filtered[\"plant_id_eia\"] == plant, \"prime_mover_code\"\n",
    "            ].unique()\n",
    "        )\n",
    "        for pm in pms_at_plant:\n",
    "            # get a list of escs that exist for the plant-pm in the gf data\n",
    "            gf_esc = list(\n",
    "                gf_filtered.loc[\n",
    "                    (gf_filtered[\"plant_id_eia\"] == plant)\n",
    "                    & (gf_filtered[\"prime_mover_code\"] == pm),\n",
    "                    \"energy_source_code\",\n",
    "                ].unique()\n",
    "            )\n",
    "            # get a list of ESCs that exist for that plant in the gens data\n",
    "            # get unique values from all source code columns\n",
    "            esc_in_gens = np.unique(\n",
    "                gens_filtered.loc[\n",
    "                    (gens_at_freq[\"plant_id_eia\"] == plant)\n",
    "                    & (gens_filtered[\"prime_mover_code\"] == pm),\n",
    "                    esc_columns,\n",
    "                ].values  # create an array\n",
    "            )\n",
    "            # get rid of the string placeholder if it exists\n",
    "            esc_in_gens = list(np.delete(esc_in_gens, np.where(esc_in_gens == \"N/A\")))\n",
    "\n",
    "            # get a list of fuels that exist in gf but not gens\n",
    "            esc_misisng_from_gens = list(set(gf_esc) - set(esc_in_gens))\n",
    "\n",
    "            if len(esc_misisng_from_gens) > 0:\n",
    "                gf_missing_escs.append(\n",
    "                    gf_filtered.loc[\n",
    "                        (gf_filtered[\"plant_id_eia\"] == plant)\n",
    "                        & (gf_filtered[\"prime_mover_code\"] == pm)\n",
    "                        & (\n",
    "                            gf_filtered[\"energy_source_code\"].isin(\n",
    "                                esc_misisng_from_gens\n",
    "                            )\n",
    "                        ),\n",
    "                        [\"plant_id_eia\", \"prime_mover_code\", \"energy_source_code\"],\n",
    "                    ]\n",
    "                )\n",
    "\n",
    "    gf_missing_escs = pd.concat(gf_missing_escs, axis=0)\n",
    "\n",
    "    # remove duplicate esc entries for each plant-pm\n",
    "    gf_missing_escs = gf_missing_escs.drop_duplicates()\n",
    "\n",
    "    return gf_missing_escs\n"
   ]
  },
  {
   "cell_type": "code",
   "execution_count": null,
   "metadata": {},
   "outputs": [],
   "source": [
    "pudl_out = load_data.initialize_pudl_out(year=year)\n",
    "\n",
    "gf, bf, bga, gens, gen = allocate_gen_fuel.extract_input_tables(pudl_out)\n",
    "bf, gens_at_freq, gen = allocate_gen_fuel.standardize_input_frequency(\n",
    "        bf, gens, gen, freq=pudl_out.freq\n",
    "    )\n",
    "gens_at_freq = allocate_gen_fuel.adjust_msw_energy_source_codes(gens_at_freq, gf, bf)"
   ]
  },
  {
   "cell_type": "code",
   "execution_count": null,
   "metadata": {},
   "outputs": [],
   "source": [
    "gens_at_freq = add_missing_energy_source_codes_to_gens(gens_at_freq, gf)"
   ]
  },
  {
   "cell_type": "code",
   "execution_count": null,
   "metadata": {},
   "outputs": [],
   "source": [
    "gens_at_freq[gens_at_freq[\"plant_id_eia\"] == 10633] # check 1004, 56798, 10633"
   ]
  },
  {
   "cell_type": "code",
   "execution_count": null,
   "metadata": {},
   "outputs": [],
   "source": [
    "# do the association!\n",
    "gen_assoc = allocate_gen_fuel.associate_generator_tables(\n",
    "    gens=gens_at_freq, gf=gf, gen=gen, bf=bf, bga=bga\n",
    ")\n",
    "\n",
    "# Generate a fraction to use to allocate net generation and fuel consumption by.\n",
    "# These two methods create a column called `frac`, which will be a fraction\n",
    "# to allocate net generation from the gf table for each `IDX_PM_ESC` group\n",
    "gen_pm_fuel = allocate_gen_fuel.prep_alloction_fraction(gen_assoc)\n",
    "\n",
    "# Net gen allocation\n",
    "net_gen_alloc = allocate_gen_fuel.allocate_net_gen_by_gen_esc(gen_pm_fuel).pipe(\n",
    "    allocate_gen_fuel._test_gen_pm_fuel_output, gf=gf, gen=gen\n",
    ")\n",
    "allocate_gen_fuel.test_gen_fuel_allocation(gen, net_gen_alloc)\n",
    "\n",
    "# fuel allocation\n",
    "fuel_alloc = allocate_gen_fuel.allocate_fuel_by_gen_esc(gen_pm_fuel)\n",
    "\n",
    "# ensure that the allocated data has unique merge keys\n",
    "net_gen_alloc_agg = allocate_gen_fuel.group_duplicate_keys(net_gen_alloc)\n",
    "fuel_alloc_agg = allocate_gen_fuel.group_duplicate_keys(fuel_alloc)\n",
    "\n",
    "# squish net gen and fuel allocation together\n",
    "net_gen_fuel_alloc = pd.merge(\n",
    "    net_gen_alloc_agg,\n",
    "    fuel_alloc_agg,\n",
    "    on=allocate_gen_fuel.IDX_GENS_PM_ESC + [\"energy_source_code_num\"],\n",
    "    how=\"outer\",\n",
    "    validate=\"1:1\",\n",
    "    suffixes=(\"_net_gen_alloc\", \"_fuel_alloc\"),\n",
    ").sort_values(allocate_gen_fuel.IDX_GENS_PM_ESC)\n",
    "_ = allocate_gen_fuel.test_original_gf_vs_the_allocated_by_gens_gf(\n",
    "    gf=gf, gf_allocated=net_gen_fuel_alloc\n",
    ")\n",
    "\n",
    "net_gen_fuel_alloc = net_gen_fuel_alloc.loc[\n",
    "    :,\n",
    "    allocate_gen_fuel.IDX_GENS_PM_ESC + [\"energy_source_code_num\"] + allocate_gen_fuel.DATA_COLUMNS,\n",
    "]"
   ]
  },
  {
   "cell_type": "code",
   "execution_count": null,
   "metadata": {},
   "outputs": [],
   "source": [
    "plant_total_gf = gf.groupby(\"plant_id_eia\")[\n",
    "    [\"net_generation_mwh\", \"fuel_consumed_mmbtu\", \"fuel_consumed_for_electricity_mmbtu\"]\n",
    "].sum()\n",
    "plant_total_alloc = net_gen_fuel_alloc.groupby(\"plant_id_eia\")[\n",
    "    [\"net_generation_mwh\", \"fuel_consumed_mmbtu\", \"fuel_consumed_for_electricity_mmbtu\"]\n",
    "].sum()\n",
    "\n",
    "plant_total_diff = abs(plant_total_gf - plant_total_alloc)\n",
    "plant_total_diff[(plant_total_diff[\"fuel_consumed_mmbtu\"] > 10) | (plant_total_diff[\"net_generation_mwh\"] > 10)]\n"
   ]
  },
  {
   "cell_type": "code",
   "execution_count": null,
   "metadata": {},
   "outputs": [],
   "source": [
    "gens[gens[\"plant_id_eia\"] == 3406]"
   ]
  },
  {
   "cell_type": "code",
   "execution_count": null,
   "metadata": {},
   "outputs": [],
   "source": [
    "gf[gf[\"plant_id_eia\"] == 3406]"
   ]
  },
  {
   "cell_type": "code",
   "execution_count": null,
   "metadata": {},
   "outputs": [],
   "source": [
    "net_gen_alloc[net_gen_alloc[\"plant_id_eia\"] == 2935]"
   ]
  },
  {
   "cell_type": "code",
   "execution_count": null,
   "metadata": {},
   "outputs": [],
   "source": [
    "# check 1004, 56798, 10633"
   ]
  },
  {
   "cell_type": "code",
   "execution_count": null,
   "metadata": {},
   "outputs": [],
   "source": [
    "gf[[\"fuel_consumed_mmbtu\"]].sum()"
   ]
  },
  {
   "cell_type": "code",
   "execution_count": null,
   "metadata": {},
   "outputs": [],
   "source": [
    "net_gen_fuel_alloc[[\"fuel_consumed_mmbtu\"]].sum()"
   ]
  },
  {
   "cell_type": "code",
   "execution_count": null,
   "metadata": {},
   "outputs": [],
   "source": []
  },
  {
   "cell_type": "code",
   "execution_count": null,
   "metadata": {},
   "outputs": [],
   "source": [
    "gen_fuel_allocated = net_gen_fuel_alloc"
   ]
  },
  {
   "cell_type": "code",
   "execution_count": null,
   "metadata": {},
   "outputs": [],
   "source": [
    "# manually update energy source code when OTH\n",
    "gen_fuel_allocated = data_cleaning.update_energy_source_codes(gen_fuel_allocated)\n",
    "\n",
    "# round all values to the nearest tenth of a unit\n",
    "gen_fuel_allocated.loc[\n",
    "    :,\n",
    "    [\n",
    "        \"net_generation_mwh\",\n",
    "        \"fuel_consumed_mmbtu\",\n",
    "        \"fuel_consumed_for_electricity_mmbtu\",\n",
    "    ],\n",
    "] = gen_fuel_allocated.loc[\n",
    "    :,\n",
    "    [\n",
    "        \"net_generation_mwh\",\n",
    "        \"fuel_consumed_mmbtu\",\n",
    "        \"fuel_consumed_for_electricity_mmbtu\",\n",
    "    ],\n",
    "].round(\n",
    "    1\n",
    ")\n",
    "\n",
    "validation.test_for_missing_energy_source_code(gen_fuel_allocated)\n",
    "validation.test_for_negative_values(gen_fuel_allocated)\n",
    "\n"
   ]
  },
  {
   "cell_type": "code",
   "execution_count": null,
   "metadata": {},
   "outputs": [],
   "source": [
    "# create a table that identifies the primary fuel of each generator and plant\n",
    "primary_fuel_table = data_cleaning.create_primary_fuel_table(\n",
    "    gen_fuel_allocated, pudl_out, True, year\n",
    ")"
   ]
  },
  {
   "cell_type": "code",
   "execution_count": null,
   "metadata": {},
   "outputs": [],
   "source": [
    "primary_fuel_table[primary_fuel_table[\"plant_id_eia\"] == 8023]"
   ]
  },
  {
   "cell_type": "code",
   "execution_count": null,
   "metadata": {},
   "outputs": [],
   "source": [
    "def add_missing_energy_source_codes_to_gens(gens_at_freq, gf):\n",
    "\n",
    "    gf_missing_escs = identify_missing_gf_escs_in_gens(gens_at_freq, gf)\n",
    "\n",
    "    # pivot these data to become new numbered energy_source_code_n columns starting at 7\n",
    "    gf_missing_escs[\"num\"] = (\n",
    "        gf_missing_escs.groupby([\"plant_id_eia\", \"prime_mover_code\"]).cumcount() + 7\n",
    "    )\n",
    "    gf_missing_escs[\"num\"] = gf_missing_escs[\"num\"].astype(str)\n",
    "    gf_missing_escs = gf_missing_escs.pivot(\n",
    "        index=[\"plant_id_eia\", \"prime_mover_code\"], columns=\"num\"\n",
    "    )[[\"energy_source_code\"]]\n",
    "    gf_missing_escs.columns = [\"_\".join(col) for col in gf_missing_escs.columns.values]\n",
    "    gf_missing_escs = gf_missing_escs.reset_index()\n",
    "\n",
    "    # merge these missing fuel columns into the gens data\n",
    "    gens_at_freq = gens_at_freq.merge(\n",
    "        gf_missing_escs, how=\"left\", on=[\"plant_id_eia\", \"prime_mover_code\"]\n",
    "    )\n",
    "\n",
    "    return gens_at_freq\n",
    "\n",
    "def identify_missing_gf_escs_in_gens(gens_at_freq, gf):\n",
    "    # identify where there is a missing fuel code in gen\n",
    "    gf_missing_escs = []\n",
    "    esc_columns = list(gens_at_freq.filter(like=\"_source_code\").columns)\n",
    "    for plant in list(gens.plant_id_eia.unique()):  # get a list of all plants\n",
    "        # get a list of escs that exist for the plant in the gf data\n",
    "        # that have non-zero fuel or generation\n",
    "        gf_esc = list(\n",
    "            gf.loc[\n",
    "                (gf[\"plant_id_eia\"] == plant)\n",
    "                & ((gf[\"fuel_consumed_mmbtu\"] > 0) | (gf[\"net_generation_mwh\"] != 0)),\n",
    "                \"energy_source_code\",\n",
    "            ].unique()\n",
    "        )\n",
    "        # get a list of ESCs that exist for that plant in the gens data\n",
    "        # get unique values from all source code columns\n",
    "        esc_in_gens = np.unique(\n",
    "            gens_at_freq.loc[gens_at_freq[\"plant_id_eia\"] == plant, esc_columns]\n",
    "            .replace(np.NaN, \"N/A\")  # replace NaN with string so we can use np.unique\n",
    "            .values  # create an array\n",
    "        )\n",
    "        # get rid of the string placeholder if it exists\n",
    "        esc_in_gens = list(np.delete(esc_in_gens, np.where(esc_in_gens == \"N/A\")))\n",
    "\n",
    "        # get a list of fuels that exist in gf but not gens\n",
    "        esc_misisng_from_gens = list(set(gf_esc) - set(esc_in_gens))\n",
    "        if len(esc_misisng_from_gens) > 0:\n",
    "            print(f\"plant {plant} missing {esc_misisng_from_gens} from gens\")\n",
    "            gf_missing_escs.append(\n",
    "                gf.loc[\n",
    "                    (gf[\"plant_id_eia\"] == plant)\n",
    "                    & (gf[\"energy_source_code\"].isin(esc_misisng_from_gens)),\n",
    "                    [\"plant_id_eia\", \"prime_mover_code\", \"energy_source_code\"],\n",
    "                ]\n",
    "            )\n",
    "\n",
    "    gf_missing_escs = pd.concat(gf_missing_escs, axis=0)\n",
    "\n",
    "    # remove duplicate esc entries for each plant-pm\n",
    "    gf_missing_escs = gf_missing_escs.drop_duplicates()\n",
    "\n",
    "    return gf_missing_escs\n",
    "\n"
   ]
  },
  {
   "attachments": {},
   "cell_type": "markdown",
   "metadata": {},
   "source": [
    "### Rest of pipeline"
   ]
  },
  {
   "cell_type": "code",
   "execution_count": null,
   "metadata": {},
   "outputs": [],
   "source": [
    "gens_at_freq[gens_at_freq[\"plant_id_eia\"] == 8023]"
   ]
  },
  {
   "cell_type": "code",
   "execution_count": null,
   "metadata": {},
   "outputs": [],
   "source": [
    "stack_gens = allocate_gen_fuel.stack_generators(\n",
    "        gens_at_freq, cat_col=\"energy_source_code_num\", stacked_col=\"energy_source_code\"\n",
    "    )"
   ]
  },
  {
   "cell_type": "code",
   "execution_count": null,
   "metadata": {},
   "outputs": [],
   "source": [
    "stack_gens[stack_gens[\"plant_id_eia\"] == 8023]"
   ]
  },
  {
   "cell_type": "code",
   "execution_count": null,
   "metadata": {},
   "outputs": [],
   "source": [
    "# identify where there is a missing fuel code in gens\n",
    "gf_missing_data = []\n",
    "for plant in list(stack_gens.plant_id_eia.unique()):\n",
    "    gf_esc = list(gf.loc[(gf[\"plant_id_eia\"] == plant) & (gf[\"fuel_consumed_mmbtu\"] > 0), \"energy_source_code\"].unique())\n",
    "    gens_esc = list(stack_gens.loc[stack_gens[\"plant_id_eia\"] == plant, \"energy_source_code\"].unique())\n",
    "    missing_fuels = list(set(gf_esc) - set(gens_esc))\n",
    "    if len(missing_fuels) > 0:\n",
    "        print(f\"plant {plant} missing {missing_fuels} from gens\")\n",
    "        gf_missing_data.append(gf[(gf[\"plant_id_eia\"] == plant) & (gf[\"energy_source_code\"].isin(missing_fuels))])\n",
    "\n",
    "gf_missing_data = pd.concat(gf_missing_data, axis=0)"
   ]
  },
  {
   "cell_type": "code",
   "execution_count": null,
   "metadata": {},
   "outputs": [],
   "source": [
    "gf_missing_data.to_csv(outputs_folder(f\"{year}_missing_fuel.csv\"))"
   ]
  },
  {
   "cell_type": "code",
   "execution_count": null,
   "metadata": {},
   "outputs": [],
   "source": [
    "# allocate the boiler fuel data to generators\n",
    "bf_by_gens = allocate_gen_fuel.allocate_bf_data_to_gens(bf, gens_at_freq, bga)\n",
    "bf_by_gens = (\n",
    "    bf_by_gens.set_index(allocate_gen_fuel.IDX_GENS_PM_ESC).add_suffix(\"_bf_tbl\").reset_index()\n",
    ")\n",
    "gf = gf.set_index(allocate_gen_fuel.IDX_PM_ESC)[allocate_gen_fuel.DATA_COLUMNS].add_suffix(\"_gf_tbl\").reset_index()"
   ]
  },
  {
   "cell_type": "code",
   "execution_count": null,
   "metadata": {},
   "outputs": [],
   "source": [
    "gen_assoc = (\n",
    "    pd.merge(\n",
    "        stack_gens,\n",
    "        gen.rename(columns={\"net_generation_mwh\": \"net_generation_mwh_g_tbl\"}),\n",
    "        on=allocate_gen_fuel.IDX_GENS,\n",
    "        how=\"outer\",\n",
    "    )\n",
    "    .merge(\n",
    "        gf,\n",
    "        on=allocate_gen_fuel.IDX_PM_ESC,\n",
    "        how=\"outer\",\n",
    "        validate=\"m:1\",\n",
    "        indicator=True,  # used in _allocate_unassociated_records to find unassocited\n",
    "    ))"
   ]
  },
  {
   "cell_type": "code",
   "execution_count": null,
   "metadata": {},
   "outputs": [],
   "source": [
    "gen_assoc = gen_assoc.pipe(allocate_gen_fuel.remove_inactive_generators)"
   ]
  },
  {
   "cell_type": "code",
   "execution_count": null,
   "metadata": {},
   "outputs": [],
   "source": [
    "gen_assoc = gen_assoc.pipe(\n",
    "            allocate_gen_fuel._allocate_unassociated_records,\n",
    "            idx_cols=allocate_gen_fuel.IDX_PM_ESC,\n",
    "            col_w_unexpected_codes=\"prime_mover_code\",\n",
    "            data_columns=[f\"{col}_gf_tbl\" for col in allocate_gen_fuel.DATA_COLUMNS],\n",
    "        ).drop(columns=[\"_merge\"])  # drop do we can do this again in the bf_summed merge"
   ]
  },
  {
   "cell_type": "code",
   "execution_count": null,
   "metadata": {},
   "outputs": [],
   "source": [
    "gen_assoc = gen_assoc.drop_duplicates(subset=[\"plant_id_eia\", \"energy_source_code\"], keep=\"last\")"
   ]
  },
  {
   "cell_type": "code",
   "execution_count": null,
   "metadata": {},
   "outputs": [],
   "source": [
    "gen_assoc[gen_assoc[\"plant_id_eia\"] == 63365]"
   ]
  },
  {
   "cell_type": "code",
   "execution_count": null,
   "metadata": {},
   "outputs": [],
   "source": [
    "gf[gf[\"plant_id_eia\"] == 8023].head(5)"
   ]
  },
  {
   "cell_type": "code",
   "execution_count": null,
   "metadata": {},
   "outputs": [],
   "source": [
    "bf[bf[\"plant_id_eia\"] == 8023]"
   ]
  },
  {
   "cell_type": "code",
   "execution_count": null,
   "metadata": {},
   "outputs": [],
   "source": [
    "bga[bga[\"plant_id_eia\"] == 8023].head(5)"
   ]
  },
  {
   "cell_type": "code",
   "execution_count": null,
   "metadata": {},
   "outputs": [],
   "source": [
    "gens[gens[\"plant_id_eia\"] == 8023].head(5)"
   ]
  },
  {
   "cell_type": "code",
   "execution_count": null,
   "metadata": {},
   "outputs": [],
   "source": [
    "gen[gen[\"plant_id_eia\"] == 8023]"
   ]
  }
 ],
 "metadata": {
  "kernelspec": {
   "display_name": "open_grid_emissions",
   "language": "python",
   "name": "python3"
  },
  "language_info": {
   "codemirror_mode": {
    "name": "ipython",
    "version": 3
   },
   "file_extension": ".py",
   "mimetype": "text/x-python",
   "name": "python",
   "nbconvert_exporter": "python",
   "pygments_lexer": "ipython3",
   "version": "3.10.9"
  },
  "orig_nbformat": 4,
  "vscode": {
   "interpreter": {
    "hash": "b893a8d8fbb165be288531947168b3b06bdb1508177327a21c265e0400df3100"
   }
  }
 },
 "nbformat": 4,
 "nbformat_minor": 2
}
