{
 "cells": [
  {
   "cell_type": "code",
   "execution_count": null,
   "metadata": {},
   "outputs": [],
   "source": [
    "# import packages\n",
    "import pandas as pd\n",
    "import numpy as np\n",
    "import os\n",
    "import plotly.express as px\n",
    "\n",
    "\n",
    "\n",
    "# import packages\n",
    "import argparse\n",
    "import shutil\n",
    "\n",
    "%reload_ext autoreload\n",
    "%autoreload 2\n",
    "\n",
    "# import local modules\n",
    "import sys\n",
    "sys.path.append('../../../open-grid-emissions/src/')\n",
    "# import local modules\n",
    "# # # Tell python where to look for modules.\n",
    "import download_data\n",
    "import load_data\n",
    "import data_cleaning\n",
    "import emissions\n",
    "import gross_to_net_generation\n",
    "import impute_hourly_profiles\n",
    "import eia930\n",
    "import validation\n",
    "import output_data\n",
    "import consumed\n",
    "from filepaths import downloads_folder, outputs_folder, results_folder"
   ]
  },
  {
   "cell_type": "code",
   "execution_count": null,
   "metadata": {},
   "outputs": [],
   "source": [
    "year = 2019\n",
    "number_of_years = 2"
   ]
  },
  {
   "cell_type": "code",
   "execution_count": null,
   "metadata": {},
   "outputs": [],
   "source": [
    "# 3. Clean EIA-923 Generation and Fuel Data at the Monthly Level\n",
    "####################################################################################\n",
    "print(\"3. Cleaning EIA-923 data\")\n",
    "(\n",
    "    eia923_allocated,\n",
    "    primary_fuel_table,\n",
    "    subplant_emission_factors,\n",
    ") = data_cleaning.clean_eia923(year, False)\n",
    "# Add primary fuel data to each generator\n",
    "eia923_allocated = eia923_allocated.merge(\n",
    "    primary_fuel_table,\n",
    "    how=\"left\",\n",
    "    on=[\"plant_id_eia\", \"subplant_id\", \"generator_id\"],\n",
    "    validate=\"m:1\",\n",
    ")\n",
    "\n",
    "# 4. Clean Hourly Data from CEMS\n",
    "####################################################################################\n",
    "print(\"4. Cleaning CEMS data\")\n",
    "cems = data_cleaning.clean_cems(\n",
    "    year, False, primary_fuel_table, subplant_emission_factors\n",
    ")"
   ]
  },
  {
   "cell_type": "code",
   "execution_count": null,
   "metadata": {},
   "outputs": [],
   "source": [
    "cems.to_csv(outputs_folder(f\"{year}/cems_cleaned.csv\"), index=False)"
   ]
  },
  {
   "cell_type": "code",
   "execution_count": null,
   "metadata": {},
   "outputs": [],
   "source": [
    "year = 2021\n",
    "cems = pd.read_csv(outputs_folder(f\"{year}/cems_cleaned_{year}.csv\"))\n"
   ]
  },
  {
   "cell_type": "code",
   "execution_count": null,
   "metadata": {},
   "outputs": [],
   "source": [
    "px.line(cems[cems[\"plant_id_eia\"] == 57865], x=\"datetime_utc\", y=\"gross_generation_mwh\", color=\"emissions_unit_id_epa\")"
   ]
  },
  {
   "cell_type": "code",
   "execution_count": null,
   "metadata": {},
   "outputs": [],
   "source": [
    "start_year = year - (number_of_years - 1)\n",
    "end_year = year\n",
    "\n",
    "# load 5 years of monthly data from CEMS\n",
    "print(\"    loading CEMS ids\")\n",
    "cems_ids = load_data.load_cems_ids(start_year, end_year)"
   ]
  },
  {
   "cell_type": "code",
   "execution_count": null,
   "metadata": {},
   "outputs": [],
   "source": [
    "import pudl.analysis.epacamd_eia as epacamd_eia_crosswalk"
   ]
  },
  {
   "cell_type": "code",
   "execution_count": null,
   "metadata": {},
   "outputs": [],
   "source": [
    "# load the crosswalk and filter it by the data that actually exists in cems\n",
    "crosswalk = load_data.load_epa_eia_crosswalk(end_year)\n",
    "\n",
    "# filter the crosswalk to drop any units that don't exist in CEMS\n",
    "filtered_crosswalk = epacamd_eia_crosswalk.filter_crosswalk(crosswalk, cems_ids)\n",
    "\n",
    "# use graph analysis to identify subplants\n",
    "crosswalk_with_subplant_ids = epacamd_eia_crosswalk.make_subplant_ids(\n",
    "    filtered_crosswalk\n",
    ")"
   ]
  },
  {
   "cell_type": "code",
   "execution_count": null,
   "metadata": {},
   "outputs": [],
   "source": [
    "crosswalk_with_subplant_ids"
   ]
  },
  {
   "cell_type": "code",
   "execution_count": null,
   "metadata": {},
   "outputs": [],
   "source": [
    "# [x] test subplant assignment\n",
    "data_cleaning.identify_subplants(year, number_of_years)"
   ]
  },
  {
   "cell_type": "code",
   "execution_count": null,
   "metadata": {},
   "outputs": [],
   "source": [
    "primary_fuel_table"
   ]
  },
  {
   "cell_type": "code",
   "execution_count": null,
   "metadata": {},
   "outputs": [],
   "source": [
    "# [x] test eia923 cleaning\n",
    "(\n",
    "    eia923_allocated,\n",
    "    primary_fuel_table,\n",
    "    subplant_emission_factors,\n",
    ") = data_cleaning.clean_eia923(year, False)\n",
    "# Add primary fuel data to each generator\n",
    "eia923_allocated = eia923_allocated.merge(\n",
    "    primary_fuel_table,\n",
    "    how=\"left\",\n",
    "    on=[\"plant_id_eia\", \"subplant_id\", \"generator_id\"],\n",
    "    validate=\"m:1\",\n",
    ")"
   ]
  },
  {
   "cell_type": "code",
   "execution_count": null,
   "metadata": {},
   "outputs": [],
   "source": [
    "from column_checks import get_dtypes, apply_dtypes"
   ]
  },
  {
   "cell_type": "code",
   "execution_count": null,
   "metadata": {},
   "outputs": [],
   "source": [
    "# load the CEMS data\n",
    "cems = load_data.load_cems_data(year)\n",
    "\n",
    "# remove non-grid connected plants\n",
    "cems = data_cleaning.remove_plants(\n",
    "    cems,\n",
    "    non_grid_connected=True,\n",
    "    remove_states=[\"PR\"],\n",
    "    steam_only_plants=False,\n",
    "    distribution_connected_plants=False,\n",
    ")\n",
    "\n",
    "# manually remove steam-only units\n",
    "cems = data_cleaning.manually_remove_steam_units(cems)\n",
    "\n",
    "# add a report date\n",
    "cems = load_data.add_report_date(cems)\n",
    "\n",
    "# remove data for any unit-months where there are incomplete data reported\n",
    "# this is generally when there is a single observation reported for an entire month\n",
    "cems = data_cleaning.remove_incomplete_unit_months(cems)\n",
    "\n",
    "# TODO: identify and remove any hourly values that appear to be outliers\n",
    "\n",
    "# add subplant id\n",
    "subplant_crosswalk = (\n",
    "    pd.read_csv(\n",
    "        outputs_folder(f\"{year}/subplant_crosswalk_{year}.csv\"),\n",
    "        dtype=get_dtypes(),\n",
    "    )[[\"plant_id_eia\", \"emissions_unit_id_epa\", \"subplant_id\"]]\n",
    "    .drop_duplicates()\n",
    "    .dropna(subset=\"emissions_unit_id_epa\")\n",
    ")\n",
    "cems = cems.merge(\n",
    "    subplant_crosswalk,\n",
    "    how=\"left\",\n",
    "    on=[\"plant_id_eia\", \"emissions_unit_id_epa\"],\n",
    "    validate=\"m:1\",\n",
    ")\n",
    "validation.test_for_missing_subplant_id(cems)\n",
    "\n",
    "# add a fuel type to each observation\n",
    "cems = data_cleaning.assign_fuel_type_to_cems(cems, year, primary_fuel_table)\n",
    "\n",
    "test = validation.test_for_missing_energy_source_code(cems)\n",
    "test[[\"plant_id_eia\", \"emissions_unit_id_epa\"]].drop_duplicates()"
   ]
  },
  {
   "cell_type": "code",
   "execution_count": null,
   "metadata": {},
   "outputs": [],
   "source": [
    "sc = pd.read_csv(outputs_folder(f\"{year}/subplant_crosswalk_{year}.csv\"))\n",
    "sc"
   ]
  },
  {
   "cell_type": "code",
   "execution_count": null,
   "metadata": {},
   "outputs": [],
   "source": [
    "crosswalk = load_data.load_epa_eia_crosswalk_from_raw(year)[\n",
    "        [\"plant_id_eia\", \"emissions_unit_id_epa\", \"energy_source_code_epa\"]\n",
    "    ].drop_duplicates(subset=[\"plant_id_eia\", \"emissions_unit_id_epa\"])"
   ]
  },
  {
   "cell_type": "code",
   "execution_count": null,
   "metadata": {},
   "outputs": [],
   "source": [
    "crosswalk[crosswalk[\"plant_id_eia\"] == 59073]"
   ]
  },
  {
   "cell_type": "code",
   "execution_count": null,
   "metadata": {},
   "outputs": [],
   "source": [
    "# fill in missing hourly emissions data using the fuel type and heat input\n",
    "cems = emissions.fill_cems_missing_co2(cems, year, subplant_emission_factors)"
   ]
  },
  {
   "cell_type": "code",
   "execution_count": null,
   "metadata": {},
   "outputs": [],
   "source": [
    "# calculate ch4 and n2o emissions\n",
    "cems = emissions.calculate_ghg_emissions_from_fuel_consumption(\n",
    "    df=cems, year=year, include_co2=False, include_ch4=True, include_n2o=True\n",
    ")\n",
    "\n",
    "# remove any observations from cems where zero operation is reported for an entire month\n",
    "# although this data could be considered to be accurately reported, let's remove it so that we can double check against the eia data\n",
    "# TODO: check if any of these observations are from geothermal generators\n",
    "cems = data_cleaning.remove_cems_with_zero_monthly_data(cems)\n",
    "\n",
    "validation.test_for_negative_values(cems)\n",
    "\n",
    "cems = apply_dtypes(cems)"
   ]
  },
  {
   "cell_type": "code",
   "execution_count": null,
   "metadata": {},
   "outputs": [],
   "source": [
    "# calculate biomass-adjusted emissions while cems data is at the unit level\n",
    "cems = emissions.adjust_emissions_for_biomass(cems)"
   ]
  },
  {
   "cell_type": "code",
   "execution_count": null,
   "metadata": {},
   "outputs": [],
   "source": [
    "plant_attributes = data_cleaning.create_plant_attributes_table(\n",
    "    cems, eia923_allocated, year, primary_fuel_table\n",
    ")"
   ]
  },
  {
   "cell_type": "code",
   "execution_count": null,
   "metadata": {},
   "outputs": [],
   "source": [
    "# 6. Crosswalk CEMS and EIA data\n",
    "####################################################################################\n",
    "print(\"6. Identifying source for hourly data\")\n",
    "eia923_allocated = data_cleaning.identify_hourly_data_source(\n",
    "    eia923_allocated, cems, year\n",
    ")\n"
   ]
  },
  {
   "cell_type": "code",
   "execution_count": null,
   "metadata": {},
   "outputs": [],
   "source": [
    "print(\"7. Aggregating CEMS data from unit to subplant\")\n",
    "# aggregate cems data to subplant level\n",
    "cems = data_cleaning.aggregate_cems_to_subplant(cems)"
   ]
  },
  {
   "cell_type": "code",
   "execution_count": null,
   "metadata": {},
   "outputs": [],
   "source": [
    "partial_cems_plant = impute_hourly_profiles.shape_partial_cems_plants(\n",
    "    cems, eia923_allocated\n",
    ")\n",
    "validation.validate_unique_datetimes(\n",
    "    df=partial_cems_plant,\n",
    "    df_name=\"partial_cems_plant\",\n",
    "    keys=[\"plant_id_eia\", \"subplant_id\"],\n",
    ")\n",
    "# shape partial CEMS subplant data\n",
    "(\n",
    "    cems,\n",
    "    partial_cems_subplant,\n",
    ") = impute_hourly_profiles.shape_partial_cems_subplants(cems, eia923_allocated)\n",
    "\n",
    "validation.validate_unique_datetimes(\n",
    "    df=partial_cems_subplant,\n",
    "    df_name=\"partial_cems_subplant\",\n",
    "    keys=[\"plant_id_eia\", \"subplant_id\"],\n",
    ")"
   ]
  },
  {
   "cell_type": "code",
   "execution_count": null,
   "metadata": {},
   "outputs": [],
   "source": [
    "print(\"9. Converting CEMS gross generation to net generation\")\n",
    "cems, gtn_conversions = gross_to_net_generation.convert_gross_to_net_generation(\n",
    "    cems, eia923_allocated, plant_attributes, year\n",
    ")"
   ]
  },
  {
   "cell_type": "code",
   "execution_count": null,
   "metadata": {},
   "outputs": [],
   "source": [
    "print(\"10. Adjusting CEMS emissions for CHP\")\n",
    "cems = data_cleaning.adjust_cems_for_chp(cems, eia923_allocated)\n",
    "cems = emissions.calculate_co2e_mass(\n",
    "    cems, year, gwp_horizon=100, ar5_climate_carbon_feedback=True\n",
    ")\n",
    "validation.test_emissions_adjustments(cems)\n",
    "validation.validate_unique_datetimes(\n",
    "    df=cems,\n",
    "    df_name=\"cems\",\n",
    "    keys=[\"plant_id_eia\", \"subplant_id\"],\n",
    ")\n"
   ]
  },
  {
   "cell_type": "code",
   "execution_count": null,
   "metadata": {},
   "outputs": [],
   "source": []
  },
  {
   "cell_type": "code",
   "execution_count": null,
   "metadata": {},
   "outputs": [],
   "source": [
    "import cvxpy"
   ]
  },
  {
   "cell_type": "code",
   "execution_count": null,
   "metadata": {},
   "outputs": [],
   "source": [
    "cvxpy.settings.SOLVERS"
   ]
  },
  {
   "cell_type": "code",
   "execution_count": null,
   "metadata": {},
   "outputs": [],
   "source": [
    "cvxpy.installed_solvers()"
   ]
  },
  {
   "cell_type": "code",
   "execution_count": null,
   "metadata": {},
   "outputs": [],
   "source": [
    "cvxpy"
   ]
  },
  {
   "cell_type": "code",
   "execution_count": null,
   "metadata": {},
   "outputs": [],
   "source": []
  },
  {
   "cell_type": "code",
   "execution_count": null,
   "metadata": {},
   "outputs": [],
   "source": [
    "%reload_ext autoreload\n",
    "%autoreload 2\n",
    "\n",
    "# import local modules\n",
    "import sys\n",
    "sys.path.append('../../../open-grid-emissions/src/')\n",
    "# import local modules\n",
    "# # # Tell python where to look for modules.\n",
    "import eia930\n"
   ]
  },
  {
   "cell_type": "code",
   "execution_count": null,
   "metadata": {},
   "outputs": [],
   "source": [
    "year = 2020\n",
    "path_prefix = f\"{year}/\"\n",
    "eia930.clean_930(year, small=False, path_prefix=path_prefix)\n"
   ]
  },
  {
   "cell_type": "code",
   "execution_count": null,
   "metadata": {},
   "outputs": [],
   "source": [
    "year = 2019\n",
    "path_prefix = f\"{year}/\"\n",
    "\n",
    "clean_930_file = outputs_folder(f\"{path_prefix}/eia930/eia930_elec.csv\")\n",
    "\n",
    "hourly_consumed_calc = consumed.HourlyConsumed(\n",
    "    clean_930_file,\n",
    "    path_prefix,\n",
    "    year,\n",
    "    small=False,\n",
    "    skip_outputs=True,\n",
    ")\n",
    "hourly_consumed_calc.run()"
   ]
  }
 ],
 "metadata": {
  "kernelspec": {
   "display_name": "oge_update",
   "language": "python",
   "name": "python3"
  },
  "language_info": {
   "codemirror_mode": {
    "name": "ipython",
    "version": 3
   },
   "file_extension": ".py",
   "mimetype": "text/x-python",
   "name": "python",
   "nbconvert_exporter": "python",
   "pygments_lexer": "ipython3",
   "version": "3.10.8"
  },
  "orig_nbformat": 4,
  "vscode": {
   "interpreter": {
    "hash": "a6b598b31fc646bdc0acd5c2004810e407b47ff3b1550e1d461e8498c70ba381"
   }
  }
 },
 "nbformat": 4,
 "nbformat_minor": 2
}
