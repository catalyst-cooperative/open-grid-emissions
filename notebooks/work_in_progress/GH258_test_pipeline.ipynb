{
 "cells": [
  {
   "cell_type": "code",
   "execution_count": 1,
   "metadata": {},
   "outputs": [
    {
     "name": "stdout",
     "output_type": "stream",
     "text": [
      "(CVXPY) Dec 10 01:53:42 PM: Encountered unexpected exception importing solver OSQP:\n",
      "ImportError('DLL load failed while importing qdldl: The specified module could not be found.')\n"
     ]
    }
   ],
   "source": [
    "# import packages\n",
    "import pandas as pd\n",
    "import numpy as np\n",
    "import os\n",
    "import plotly.express as px\n",
    "\n",
    "\n",
    "\n",
    "# import packages\n",
    "import argparse\n",
    "import shutil\n",
    "\n",
    "%reload_ext autoreload\n",
    "%autoreload 2\n",
    "\n",
    "# import local modules\n",
    "import sys\n",
    "sys.path.append('../../../open-grid-emissions/src/')\n",
    "# import local modules\n",
    "# # # Tell python where to look for modules.\n",
    "import download_data\n",
    "import load_data\n",
    "import data_cleaning\n",
    "import emissions\n",
    "import gross_to_net_generation\n",
    "import impute_hourly_profiles\n",
    "import eia930\n",
    "import validation\n",
    "import output_data\n",
    "import consumed\n",
    "from filepaths import downloads_folder, outputs_folder, results_folder"
   ]
  },
  {
   "cell_type": "code",
   "execution_count": 2,
   "metadata": {},
   "outputs": [],
   "source": [
    "year = 2020\n",
    "number_of_years = 2"
   ]
  },
  {
   "cell_type": "code",
   "execution_count": 4,
   "metadata": {},
   "outputs": [
    {
     "name": "stdout",
     "output_type": "stream",
     "text": [
      "    loading CEMS ids\n",
      "    identifying unique subplants\n"
     ]
    }
   ],
   "source": [
    "# [x] test subplant assignment\n",
    "data_cleaning.identify_subplants(year, number_of_years)"
   ]
  },
  {
   "cell_type": "code",
   "execution_count": 35,
   "metadata": {},
   "outputs": [
    {
     "data": {
      "text/html": [
       "<div>\n",
       "<style scoped>\n",
       "    .dataframe tbody tr th:only-of-type {\n",
       "        vertical-align: middle;\n",
       "    }\n",
       "\n",
       "    .dataframe tbody tr th {\n",
       "        vertical-align: top;\n",
       "    }\n",
       "\n",
       "    .dataframe thead th {\n",
       "        text-align: right;\n",
       "    }\n",
       "</style>\n",
       "<table border=\"1\" class=\"dataframe\">\n",
       "  <thead>\n",
       "    <tr style=\"text-align: right;\">\n",
       "      <th></th>\n",
       "      <th>plant_id_eia</th>\n",
       "      <th>generator_id</th>\n",
       "      <th>subplant_id</th>\n",
       "      <th>energy_source_code</th>\n",
       "      <th>plant_primary_fuel</th>\n",
       "      <th>subplant_primary_fuel</th>\n",
       "    </tr>\n",
       "  </thead>\n",
       "  <tbody>\n",
       "    <tr>\n",
       "      <th>0</th>\n",
       "      <td>1</td>\n",
       "      <td>1</td>\n",
       "      <td>0</td>\n",
       "      <td>DFO</td>\n",
       "      <td>WND</td>\n",
       "      <td>DFO</td>\n",
       "    </tr>\n",
       "    <tr>\n",
       "      <th>1</th>\n",
       "      <td>1</td>\n",
       "      <td>2</td>\n",
       "      <td>1</td>\n",
       "      <td>DFO</td>\n",
       "      <td>WND</td>\n",
       "      <td>DFO</td>\n",
       "    </tr>\n",
       "    <tr>\n",
       "      <th>2</th>\n",
       "      <td>1</td>\n",
       "      <td>3</td>\n",
       "      <td>2</td>\n",
       "      <td>DFO</td>\n",
       "      <td>WND</td>\n",
       "      <td>DFO</td>\n",
       "    </tr>\n",
       "    <tr>\n",
       "      <th>3</th>\n",
       "      <td>1</td>\n",
       "      <td>5</td>\n",
       "      <td>3</td>\n",
       "      <td>DFO</td>\n",
       "      <td>WND</td>\n",
       "      <td>DFO</td>\n",
       "    </tr>\n",
       "    <tr>\n",
       "      <th>4</th>\n",
       "      <td>1</td>\n",
       "      <td>WT1</td>\n",
       "      <td>4</td>\n",
       "      <td>WND</td>\n",
       "      <td>WND</td>\n",
       "      <td>WND</td>\n",
       "    </tr>\n",
       "    <tr>\n",
       "      <th>...</th>\n",
       "      <td>...</td>\n",
       "      <td>...</td>\n",
       "      <td>...</td>\n",
       "      <td>...</td>\n",
       "      <td>...</td>\n",
       "      <td>...</td>\n",
       "    </tr>\n",
       "    <tr>\n",
       "      <th>23716</th>\n",
       "      <td>62620</td>\n",
       "      <td>SD</td>\n",
       "      <td>0</td>\n",
       "      <td>WND</td>\n",
       "      <td>WND</td>\n",
       "      <td>WND</td>\n",
       "    </tr>\n",
       "    <tr>\n",
       "      <th>23717</th>\n",
       "      <td>62562</td>\n",
       "      <td>HILO</td>\n",
       "      <td>1</td>\n",
       "      <td>WND</td>\n",
       "      <td>WND</td>\n",
       "      <td>WND</td>\n",
       "    </tr>\n",
       "    <tr>\n",
       "      <th>23718</th>\n",
       "      <td>62562</td>\n",
       "      <td>HILO2</td>\n",
       "      <td>2</td>\n",
       "      <td>WND</td>\n",
       "      <td>WND</td>\n",
       "      <td>WND</td>\n",
       "    </tr>\n",
       "    <tr>\n",
       "      <th>23719</th>\n",
       "      <td>63258</td>\n",
       "      <td>AURWP</td>\n",
       "      <td>0</td>\n",
       "      <td>WND</td>\n",
       "      <td>WND</td>\n",
       "      <td>WND</td>\n",
       "    </tr>\n",
       "    <tr>\n",
       "      <th>23720</th>\n",
       "      <td>64074</td>\n",
       "      <td>3</td>\n",
       "      <td>0</td>\n",
       "      <td>WND</td>\n",
       "      <td>WND</td>\n",
       "      <td>WND</td>\n",
       "    </tr>\n",
       "  </tbody>\n",
       "</table>\n",
       "<p>23721 rows × 6 columns</p>\n",
       "</div>"
      ],
      "text/plain": [
       "       plant_id_eia generator_id  subplant_id energy_source_code plant_primary_fuel subplant_primary_fuel\n",
       "0                 1            1            0                DFO                WND                   DFO\n",
       "1                 1            2            1                DFO                WND                   DFO\n",
       "2                 1            3            2                DFO                WND                   DFO\n",
       "3                 1            5            3                DFO                WND                   DFO\n",
       "4                 1          WT1            4                WND                WND                   WND\n",
       "...             ...          ...          ...                ...                ...                   ...\n",
       "23716         62620           SD            0                WND                WND                   WND\n",
       "23717         62562         HILO            1                WND                WND                   WND\n",
       "23718         62562        HILO2            2                WND                WND                   WND\n",
       "23719         63258        AURWP            0                WND                WND                   WND\n",
       "23720         64074            3            0                WND                WND                   WND\n",
       "\n",
       "[23721 rows x 6 columns]"
      ]
     },
     "execution_count": 35,
     "metadata": {},
     "output_type": "execute_result"
    }
   ],
   "source": [
    "primary_fuel_table"
   ]
  },
  {
   "cell_type": "code",
   "execution_count": 5,
   "metadata": {},
   "outputs": [
    {
     "name": "stdout",
     "output_type": "stream",
     "text": [
      "    Checking that there are no missing energy source codes associated with non-zero fuel consumption...  OK\n",
      "    Checking that fuel and emissions values are positive...  OK\n",
      " \n",
      "WARNING: NOx emission factors are missing for the following boiler types. A prime mover-fuel level factor will be used if available.\n",
      "Missing factors for FC prime movers are currently expected\n",
      "      prime_mover_code energy_source_code boiler_bottom_type boiler_firing_type\n",
      "20404               FC                LFG                NaN                NaN\n",
      "13250               FC                 NG                NaN                NaN\n",
      "19929               FC                OBG                NaN                NaN\n",
      " \n",
      " \n",
      "WARNING: After filling with PM-fuel factors, NOx emission factors are still missing for the following boiler types. An emission factor of zero will be used for these boilers.\n",
      "Missing factors for FC prime movers are currently expected\n",
      "      prime_mover_code energy_source_code boiler_bottom_type boiler_firing_type\n",
      "20404               FC                LFG                NaN                NaN\n",
      "13250               FC                 NG                NaN                NaN\n",
      "19929               FC                OBG                NaN                NaN\n",
      " \n",
      " \n",
      "WARNING: SO2 emission factors are missing for the following boiler types. A prime mover-fuel level factor will be used if available.\n",
      "Missing factors for FC prime movers are currently expected\n",
      "      prime_mover_code energy_source_code boiler_firing_type\n",
      "20404               FC                LFG                NaN\n",
      "13250               FC                 NG                NaN\n",
      "19929               FC                OBG                NaN\n",
      " \n",
      " \n",
      "WARNING: SO2 emission factors are missing for the following boiler types. An emission factor of zero will be used for these boilers.\n",
      "Missing factors for FC prime movers are currently expected\n",
      "      prime_mover_code energy_source_code boiler_firing_type\n",
      "20404               FC                LFG                NaN\n",
      "13250               FC                 NG                NaN\n",
      "19929               FC                OBG                NaN\n",
      " \n",
      "    Checking that total fuel consumed >= fuel consumed for electricity...  OK\n",
      "    Checking that adjusted emission values are less than total emissions...  OK\n",
      "    Removing 0 plants that are not grid-connected\n",
      "    Removing 0 plants located in the following states: ['PR']\n",
      "    Checking that all data has an associated `subplant_id`...  OK\n",
      "WARNING: The following columns do not have dtypes assigned in `column_checks.get_dtypes()`\n",
      "['subplant_primary_fuel']\n",
      "    Checking that fuel and emissions values are positive...  OK\n"
     ]
    }
   ],
   "source": [
    "# [x] test eia923 cleaning\n",
    "(\n",
    "    eia923_allocated,\n",
    "    primary_fuel_table,\n",
    "    subplant_emission_factors,\n",
    ") = data_cleaning.clean_eia923(year, False)\n",
    "# Add primary fuel data to each generator\n",
    "eia923_allocated = eia923_allocated.merge(\n",
    "    primary_fuel_table,\n",
    "    how=\"left\",\n",
    "    on=[\"plant_id_eia\", \"subplant_id\", \"generator_id\"],\n",
    "    validate=\"m:1\",\n",
    ")"
   ]
  },
  {
   "cell_type": "code",
   "execution_count": 30,
   "metadata": {},
   "outputs": [],
   "source": [
    "from column_checks import get_dtypes, apply_dtypes"
   ]
  },
  {
   "cell_type": "code",
   "execution_count": 7,
   "metadata": {},
   "outputs": [
    {
     "name": "stdout",
     "output_type": "stream",
     "text": [
      "    Removing 46 plants that are not grid-connected\n",
      "    Removing 0 plants located in the following states: ['PR']\n",
      "    Removing 3 units that only produce steam and do not report to EIA\n",
      "    Removing 273 unit-months with incomplete hourly data\n",
      "    Checking that all data has an associated `subplant_id`...  OK\n"
     ]
    },
    {
     "data": {
      "text/html": [
       "<div>\n",
       "<style scoped>\n",
       "    .dataframe tbody tr th:only-of-type {\n",
       "        vertical-align: middle;\n",
       "    }\n",
       "\n",
       "    .dataframe tbody tr th {\n",
       "        vertical-align: top;\n",
       "    }\n",
       "\n",
       "    .dataframe thead th {\n",
       "        text-align: right;\n",
       "    }\n",
       "</style>\n",
       "<table border=\"1\" class=\"dataframe\">\n",
       "  <thead>\n",
       "    <tr style=\"text-align: right;\">\n",
       "      <th></th>\n",
       "      <th>plant_id_eia</th>\n",
       "      <th>emissions_unit_id_epa</th>\n",
       "      <th>datetime_utc</th>\n",
       "      <th>operating_time_hours</th>\n",
       "      <th>gross_generation_mwh</th>\n",
       "      <th>steam_load_1000_lb</th>\n",
       "      <th>fuel_consumed_mmbtu</th>\n",
       "      <th>co2_mass_lb</th>\n",
       "      <th>nox_mass_lb</th>\n",
       "      <th>so2_mass_lb</th>\n",
       "      <th>plant_id_epa</th>\n",
       "      <th>co2_mass_measurement_code</th>\n",
       "      <th>nox_mass_measurement_code</th>\n",
       "      <th>so2_mass_measurement_code</th>\n",
       "      <th>report_date</th>\n",
       "      <th>subplant_id</th>\n",
       "    </tr>\n",
       "  </thead>\n",
       "  <tbody>\n",
       "  </tbody>\n",
       "</table>\n",
       "</div>"
      ],
      "text/plain": [
       "Empty DataFrame\n",
       "Columns: [plant_id_eia, emissions_unit_id_epa, datetime_utc, operating_time_hours, gross_generation_mwh, steam_load_1000_lb, fuel_consumed_mmbtu, co2_mass_lb, nox_mass_lb, so2_mass_lb, plant_id_epa, co2_mass_measurement_code, nox_mass_measurement_code, so2_mass_measurement_code, report_date, subplant_id]\n",
       "Index: []"
      ]
     },
     "execution_count": 7,
     "metadata": {},
     "output_type": "execute_result"
    }
   ],
   "source": [
    "# load the CEMS data\n",
    "cems = load_data.load_cems_data(year)\n",
    "\n",
    "# remove non-grid connected plants\n",
    "cems = data_cleaning.remove_plants(\n",
    "    cems,\n",
    "    non_grid_connected=True,\n",
    "    remove_states=[\"PR\"],\n",
    "    steam_only_plants=False,\n",
    "    distribution_connected_plants=False,\n",
    ")\n",
    "\n",
    "# manually remove steam-only units\n",
    "cems = data_cleaning.manually_remove_steam_units(cems)\n",
    "\n",
    "# add a report date\n",
    "cems = load_data.add_report_date(cems)\n",
    "\n",
    "# remove data for any unit-months where there are incomplete data reported\n",
    "# this is generally when there is a single observation reported for an entire month\n",
    "cems = data_cleaning.remove_incomplete_unit_months(cems)\n",
    "\n",
    "# TODO: identify and remove any hourly values that appear to be outliers\n",
    "\n",
    "# add subplant id\n",
    "subplant_crosswalk = (\n",
    "    pd.read_csv(\n",
    "        outputs_folder(f\"{year}/subplant_crosswalk_{year}.csv\"),\n",
    "        dtype=get_dtypes(),\n",
    "    )[[\"plant_id_eia\", \"emissions_unit_id_epa\", \"subplant_id\"]]\n",
    "    .drop_duplicates()\n",
    "    .dropna(subset=\"emissions_unit_id_epa\")\n",
    ")\n",
    "cems = cems.merge(\n",
    "    subplant_crosswalk,\n",
    "    how=\"left\",\n",
    "    on=[\"plant_id_eia\", \"emissions_unit_id_epa\"],\n",
    "    validate=\"m:1\",\n",
    ")\n",
    "validation.test_for_missing_subplant_id(cems)"
   ]
  },
  {
   "cell_type": "code",
   "execution_count": 25,
   "metadata": {},
   "outputs": [],
   "source": [
    "# add a fuel type to each observation\n",
    "cems = data_cleaning.assign_fuel_type_to_cems(cems, year, primary_fuel_table)\n"
   ]
  },
  {
   "cell_type": "code",
   "execution_count": 26,
   "metadata": {},
   "outputs": [
    {
     "name": "stdout",
     "output_type": "stream",
     "text": [
      "    Checking that there are no missing energy source codes associated with non-zero fuel consumption...  OK\n"
     ]
    },
    {
     "data": {
      "text/html": [
       "<div>\n",
       "<style scoped>\n",
       "    .dataframe tbody tr th:only-of-type {\n",
       "        vertical-align: middle;\n",
       "    }\n",
       "\n",
       "    .dataframe tbody tr th {\n",
       "        vertical-align: top;\n",
       "    }\n",
       "\n",
       "    .dataframe thead th {\n",
       "        text-align: right;\n",
       "    }\n",
       "</style>\n",
       "<table border=\"1\" class=\"dataframe\">\n",
       "  <thead>\n",
       "    <tr style=\"text-align: right;\">\n",
       "      <th></th>\n",
       "      <th>plant_id_eia</th>\n",
       "      <th>emissions_unit_id_epa</th>\n",
       "    </tr>\n",
       "  </thead>\n",
       "  <tbody>\n",
       "  </tbody>\n",
       "</table>\n",
       "</div>"
      ],
      "text/plain": [
       "Empty DataFrame\n",
       "Columns: [plant_id_eia, emissions_unit_id_epa]\n",
       "Index: []"
      ]
     },
     "execution_count": 26,
     "metadata": {},
     "output_type": "execute_result"
    }
   ],
   "source": [
    "test = validation.test_for_missing_energy_source_code(cems)\n",
    "test[[\"plant_id_eia\", \"emissions_unit_id_epa\"]].drop_duplicates()"
   ]
  },
  {
   "cell_type": "code",
   "execution_count": 29,
   "metadata": {},
   "outputs": [],
   "source": [
    "# fill in missing hourly emissions data using the fuel type and heat input\n",
    "cems = emissions.fill_cems_missing_co2(cems, year, subplant_emission_factors)"
   ]
  },
  {
   "cell_type": "code",
   "execution_count": 31,
   "metadata": {},
   "outputs": [
    {
     "name": "stdout",
     "output_type": "stream",
     "text": [
      "    Removing 7286205 observations from cems for unit-months where no data reported\n",
      "    Checking that fuel and emissions values are positive...  OK\n"
     ]
    }
   ],
   "source": [
    "# calculate ch4 and n2o emissions\n",
    "cems = emissions.calculate_ghg_emissions_from_fuel_consumption(\n",
    "    df=cems, year=year, include_co2=False, include_ch4=True, include_n2o=True\n",
    ")\n",
    "\n",
    "# remove any observations from cems where zero operation is reported for an entire month\n",
    "# although this data could be considered to be accurately reported, let's remove it so that we can double check against the eia data\n",
    "# TODO: check if any of these observations are from geothermal generators\n",
    "cems = data_cleaning.remove_cems_with_zero_monthly_data(cems)\n",
    "\n",
    "validation.test_for_negative_values(cems)\n",
    "\n",
    "cems = apply_dtypes(cems)"
   ]
  },
  {
   "cell_type": "code",
   "execution_count": 32,
   "metadata": {},
   "outputs": [],
   "source": [
    "# calculate biomass-adjusted emissions while cems data is at the unit level\n",
    "cems = emissions.adjust_emissions_for_biomass(cems)"
   ]
  },
  {
   "cell_type": "code",
   "execution_count": 33,
   "metadata": {},
   "outputs": [],
   "source": [
    "plant_attributes = data_cleaning.create_plant_attributes_table(\n",
    "    cems, eia923_allocated, year, primary_fuel_table\n",
    ")"
   ]
  },
  {
   "cell_type": "code",
   "execution_count": 39,
   "metadata": {},
   "outputs": [
    {
     "name": "stdout",
     "output_type": "stream",
     "text": [
      "6. Identifying source for hourly data\n"
     ]
    }
   ],
   "source": [
    "# 6. Crosswalk CEMS and EIA data\n",
    "####################################################################################\n",
    "print(\"6. Identifying source for hourly data\")\n",
    "eia923_allocated = data_cleaning.identify_hourly_data_source(\n",
    "    eia923_allocated, cems, year\n",
    ")\n"
   ]
  },
  {
   "cell_type": "code",
   "execution_count": 40,
   "metadata": {},
   "outputs": [
    {
     "name": "stdout",
     "output_type": "stream",
     "text": [
      "7. Aggregating CEMS data from unit to subplant\n"
     ]
    }
   ],
   "source": [
    "print(\"7. Aggregating CEMS data from unit to subplant\")\n",
    "# aggregate cems data to subplant level\n",
    "cems = data_cleaning.aggregate_cems_to_subplant(cems)"
   ]
  },
  {
   "cell_type": "code",
   "execution_count": 41,
   "metadata": {},
   "outputs": [
    {
     "name": "stdout",
     "output_type": "stream",
     "text": [
      "    Checking that shaped hourly data matches monthly totals...  OK\n",
      "    Checking that shaped hourly data matches monthly totals...  OK\n"
     ]
    }
   ],
   "source": [
    "partial_cems_plant = impute_hourly_profiles.shape_partial_cems_plants(\n",
    "    cems, eia923_allocated\n",
    ")\n",
    "validation.validate_unique_datetimes(\n",
    "    df=partial_cems_plant,\n",
    "    df_name=\"partial_cems_plant\",\n",
    "    keys=[\"plant_id_eia\", \"subplant_id\"],\n",
    ")\n",
    "# shape partial CEMS subplant data\n",
    "(\n",
    "    cems,\n",
    "    partial_cems_subplant,\n",
    ") = impute_hourly_profiles.shape_partial_cems_subplants(cems, eia923_allocated)\n",
    "\n",
    "validation.validate_unique_datetimes(\n",
    "    df=partial_cems_subplant,\n",
    "    df_name=\"partial_cems_subplant\",\n",
    "    keys=[\"plant_id_eia\", \"subplant_id\"],\n",
    ")"
   ]
  },
  {
   "cell_type": "code",
   "execution_count": 42,
   "metadata": {},
   "outputs": [
    {
     "name": "stdout",
     "output_type": "stream",
     "text": [
      "9. Converting CEMS gross generation to net generation\n",
      "    Checking that calculated net generation matches reported net generation in EIA-923...   \n",
      "WARNING: There are 1 plants where calculated annual net generation does not match EIA annual net generation.\n",
      "              net_generation_mwh_eia  net_generation_mwh_calc  pct_error\n",
      "plant_id_eia                                                            \n",
      "1391                       3007932.0              3154707.385   0.048796\n"
     ]
    }
   ],
   "source": [
    "print(\"9. Converting CEMS gross generation to net generation\")\n",
    "cems, gtn_conversions = gross_to_net_generation.convert_gross_to_net_generation(\n",
    "    cems, eia923_allocated, plant_attributes, year\n",
    ")"
   ]
  },
  {
   "cell_type": "code",
   "execution_count": 43,
   "metadata": {},
   "outputs": [
    {
     "name": "stdout",
     "output_type": "stream",
     "text": [
      "10. Adjusting CEMS emissions for CHP\n",
      "    Checking that total fuel consumed >= fuel consumed for electricity...  OK\n",
      "    Checking that adjusted emission values are less than total emissions...  OK\n"
     ]
    }
   ],
   "source": [
    "print(\"10. Adjusting CEMS emissions for CHP\")\n",
    "cems = data_cleaning.adjust_cems_for_chp(cems, eia923_allocated)\n",
    "cems = emissions.calculate_co2e_mass(\n",
    "    cems, year, gwp_horizon=100, ar5_climate_carbon_feedback=True\n",
    ")\n",
    "validation.test_emissions_adjustments(cems)\n",
    "validation.validate_unique_datetimes(\n",
    "    df=cems,\n",
    "    df_name=\"cems\",\n",
    "    keys=[\"plant_id_eia\", \"subplant_id\"],\n",
    ")\n"
   ]
  }
 ],
 "metadata": {
  "kernelspec": {
   "display_name": "oge_update",
   "language": "python",
   "name": "python3"
  },
  "language_info": {
   "codemirror_mode": {
    "name": "ipython",
    "version": 3
   },
   "file_extension": ".py",
   "mimetype": "text/x-python",
   "name": "python",
   "nbconvert_exporter": "python",
   "pygments_lexer": "ipython3",
   "version": "3.10.8"
  },
  "orig_nbformat": 4,
  "vscode": {
   "interpreter": {
    "hash": "a6b598b31fc646bdc0acd5c2004810e407b47ff3b1550e1d461e8498c70ba381"
   }
  }
 },
 "nbformat": 4,
 "nbformat_minor": 2
}
