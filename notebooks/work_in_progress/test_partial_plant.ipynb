{
 "cells": [
  {
   "cell_type": "code",
   "execution_count": null,
   "metadata": {},
   "outputs": [],
   "source": [
    "# import packages\n",
    "import pandas as pd\n",
    "import numpy as np\n",
    "\n",
    "%reload_ext autoreload\n",
    "%autoreload 2\n",
    "\n",
    "# # Tell python where to look for modules.\n",
    "import sys\n",
    "sys.path.append('../../../open-grid-emissions/src/')\n",
    "\n",
    "import data_cleaning\n",
    "import emissions\n",
    "import output_data\n",
    "from column_checks import get_dtypes\n",
    "from filepaths import *\n",
    "\n",
    "year = 2020\n",
    "path_prefix = f\"{year}/\""
   ]
  },
  {
   "cell_type": "code",
   "execution_count": null,
   "metadata": {},
   "outputs": [],
   "source": [
    "# 3. Clean EIA-923 Generation and Fuel Data at the Monthly Level\n",
    "####################################################################################\n",
    "print(\"3. Cleaning EIA-923 data\")\n",
    "eia923_allocated, primary_fuel_table = data_cleaning.clean_eia923(year, False)\n",
    "# Add primary fuel data to each generator\n",
    "eia923_allocated = eia923_allocated.merge(\n",
    "    primary_fuel_table,\n",
    "    how=\"left\",\n",
    "    on=[\"plant_id_eia\", \"generator_id\"],\n",
    "    validate=\"m:1\",\n",
    ")\n",
    "\n",
    "# 4. Clean Hourly Data from CEMS\n",
    "####################################################################################\n",
    "print(\"4. Cleaning CEMS data\")\n",
    "cems = data_cleaning.clean_cems(year, False)\n",
    "\n",
    "# calculate biomass-adjusted emissions while cems data is at the unit level\n",
    "cems = emissions.adjust_emissions_for_biomass(cems)\n",
    "\n",
    "# 5. Assign static characteristics to CEMS and EIA data to aid in aggregation\n",
    "####################################################################################\n",
    "print(\"5. Loading plant static attributes\")\n",
    "plant_attributes = data_cleaning.create_plant_attributes_table(\n",
    "    cems, eia923_allocated, year, primary_fuel_table\n",
    ")\n"
   ]
  },
  {
   "cell_type": "code",
   "execution_count": null,
   "metadata": {},
   "outputs": [],
   "source": [
    "all_data = eia923_allocated.copy()\n",
    "\n",
    "# create a binary column indicating whether any data was reported in 923\n",
    "columns_to_test = [\n",
    "    \"net_generation_mwh\",\n",
    "    \"fuel_consumed_mmbtu\",\n",
    "    \"fuel_consumed_for_electricity_mmbtu\",\n",
    "    \"co2_mass_lb\",\n",
    "]\n",
    "all_data = all_data.assign(\n",
    "    reported_eia923=lambda x: np.where(\n",
    "        x[columns_to_test].notnull().all(axis=1), 1, 0\n",
    "    )\n",
    ")\n",
    "\n",
    "# identify which cems data only represents part of a subplant\n",
    "cems_status = data_cleaning.identify_partial_cems_subplants(year, cems, eia923_allocated)\n",
    "\n",
    "# merge in the data source column from CEMS\n",
    "all_data = all_data.merge(\n",
    "    cems_status,\n",
    "    how=\"left\",\n",
    "    on=[\"plant_id_eia\", \"subplant_id\", \"report_date\"],\n",
    "    validate=\"m:1\",\n",
    ")\n",
    "\n",
    "# for the remaining plants, identify the hourly data source as EIA\n",
    "all_data[\"hourly_data_source\"] = all_data[\"hourly_data_source\"].fillna(\"eia\")\n",
    "\n",
    "# remove any generator-months for which there is no data reported in either data source\n",
    "all_data = all_data[\n",
    "    ~(\n",
    "        (all_data[\"reported_eia923\"] == 0)\n",
    "        & (all_data[\"hourly_data_source\"] == \"eia\")\n",
    "    )\n",
    "]\n",
    "\n",
    "all_data = all_data.drop(columns=[\"reported_eia923\"])\n",
    "\n"
   ]
  },
  {
   "cell_type": "code",
   "execution_count": null,
   "metadata": {},
   "outputs": [],
   "source": [
    "all_data[all_data[\"hourly_data_source\"] == \"partial_cems_subplant\"]"
   ]
  },
  {
   "cell_type": "code",
   "execution_count": null,
   "metadata": {},
   "outputs": [],
   "source": [
    "# identify the partial cems plants\n",
    "all_data = data_cleaning.identify_partial_cems_plants(all_data)"
   ]
  },
  {
   "cell_type": "code",
   "execution_count": null,
   "metadata": {},
   "outputs": [],
   "source": [
    "all_data[all_data[\"hourly_data_source\"] == \"partial_cems_plant\"]"
   ]
  },
  {
   "cell_type": "code",
   "execution_count": null,
   "metadata": {},
   "outputs": [],
   "source": [
    "all_data[all_data[\"plant_id_eia\"] == 60926]"
   ]
  }
 ],
 "metadata": {
  "kernelspec": {
   "display_name": "Python 3.10.5 ('hourly_egrid')",
   "language": "python",
   "name": "python3"
  },
  "language_info": {
   "codemirror_mode": {
    "name": "ipython",
    "version": 3
   },
   "file_extension": ".py",
   "mimetype": "text/x-python",
   "name": "python",
   "nbconvert_exporter": "python",
   "pygments_lexer": "ipython3",
   "version": "3.10.5"
  },
  "orig_nbformat": 4,
  "vscode": {
   "interpreter": {
    "hash": "4103f3cd497821eca917ea303dbe10c590d787eb7d2dc3fd4e15dec0356e7931"
   }
  }
 },
 "nbformat": 4,
 "nbformat_minor": 2
}
