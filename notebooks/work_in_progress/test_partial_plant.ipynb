{
 "cells": [
  {
   "cell_type": "code",
   "execution_count": 1,
   "metadata": {},
   "outputs": [],
   "source": [
    "# import packages\n",
    "import pandas as pd\n",
    "import numpy as np\n",
    "\n",
    "%reload_ext autoreload\n",
    "%autoreload 2\n",
    "\n",
    "# # Tell python where to look for modules.\n",
    "import sys\n",
    "sys.path.append('../../../open-grid-emissions/src/')\n",
    "\n",
    "import data_cleaning\n",
    "import emissions\n",
    "import output_data\n",
    "from column_checks import get_dtypes\n",
    "from filepaths import *\n",
    "\n",
    "year = 2020\n",
    "path_prefix = f\"{year}/\""
   ]
  },
  {
   "cell_type": "code",
   "execution_count": 3,
   "metadata": {},
   "outputs": [
    {
     "name": "stdout",
     "output_type": "stream",
     "text": [
      "3. Cleaning EIA-923 data\n"
     ]
    },
    {
     "name": "stderr",
     "output_type": "stream",
     "text": [
      "a:\\github\\pudl\\src\\pudl\\analysis\\allocate_net_gen.py:224: UserWarning: 1 generators are missing prime mover codes in gens_eia860. This will result in incorrect allocation.\n",
      "  warnings.warn(\n"
     ]
    },
    {
     "name": "stdout",
     "output_type": "stream",
     "text": [
      "    Checking that there are no missing energy source codes associated with non-zero fuel consumption...  OK\n",
      "    Checking that fuel and emissions values are positive...  OK\n",
      " \n",
      "WARNING: NOx emission factors are missing for the following boiler types. A prime mover-fuel level factor will be used if available.\n",
      "      prime_mover_code energy_source_code boiler_bottom_type boiler_firing_type\n",
      "20403               FC                LFG                NaN                NaN\n",
      "13248               FC                 NG                NaN                NaN\n",
      "19938               FC                OBG                NaN                NaN\n",
      " \n",
      " \n",
      "WARNING: After filling with PM-fuel factors, NOx emission factors are still missing for the following boiler types. An emission factor of zero will be used for these boilers.\n",
      "      prime_mover_code energy_source_code boiler_bottom_type boiler_firing_type\n",
      "20403               FC                LFG                NaN                NaN\n",
      "13248               FC                 NG                NaN                NaN\n",
      "19938               FC                OBG                NaN                NaN\n",
      " \n",
      " \n",
      "WARNING: SO2 emission factors are missing for the following boiler types. A prime mover-fuel level factor will be used if available.\n",
      "      prime_mover_code energy_source_code boiler_firing_type\n",
      "20403               FC                LFG                NaN\n",
      "13248               FC                 NG                NaN\n",
      "19938               FC                OBG                NaN\n",
      " \n",
      " \n",
      "WARNING: SO2 emission factors are missing for the following boiler types. An emission factor of zero will be used for these boilers.\n",
      "      prime_mover_code energy_source_code boiler_firing_type\n",
      "20403               FC                LFG                NaN\n",
      "13248               FC                 NG                NaN\n",
      "19938               FC                OBG                NaN\n",
      " \n",
      "    Checking that total fuel consumed >= fuel consumed for electricity...  OK\n",
      "    Checking that adjusted emission values are less than total emissions...  OK\n",
      "    Removing 0 plants that are not grid-connected\n",
      "    Removing 0 plants located in the following states: ['PR']\n",
      "    Checking that fuel and emissions values are positive...  OK\n",
      "4. Cleaning CEMS data\n",
      "    Removing 46 plants that are not grid-connected\n",
      "    Removing 0 plants located in the following states: ['PR']\n",
      "    Removing 3 units that only produce steam and do not report to EIA\n",
      "    Removing 275 unit-months with incomplete hourly data\n",
      " \n",
      "WARNING: the following units are missing co2 data and energy source codes. This may be because they burn multiple fuels.\n",
      "          plant_id_eia  unitid\n",
      "25082682         10244    B002\n",
      "25087096         10244    B003\n",
      "26570789         50397      36\n",
      "27340108         50397      39\n",
      "28881604         50481  253-26\n",
      " \n",
      "    Removing 7288390 observations from cems for unit-months where no data reported\n",
      "    Checking that fuel and emissions values are positive...  OK\n",
      "    Checking that all data has an associated `subplant_id`...   \n",
      "WARNING: There are 1041775 records for 71 plants without a subplant ID. See `missing_subplant_test` for details\n",
      "5. Loading plant static attributes\n"
     ]
    }
   ],
   "source": [
    "# 3. Clean EIA-923 Generation and Fuel Data at the Monthly Level\n",
    "####################################################################################\n",
    "print(\"3. Cleaning EIA-923 data\")\n",
    "eia923_allocated, primary_fuel_table = data_cleaning.clean_eia923(year, False)\n",
    "# Add primary fuel data to each generator\n",
    "eia923_allocated = eia923_allocated.merge(\n",
    "    primary_fuel_table,\n",
    "    how=\"left\",\n",
    "    on=[\"plant_id_eia\", \"generator_id\"],\n",
    "    validate=\"m:1\",\n",
    ")\n",
    "\n",
    "# 4. Clean Hourly Data from CEMS\n",
    "####################################################################################\n",
    "print(\"4. Cleaning CEMS data\")\n",
    "cems = data_cleaning.clean_cems(year, False)\n",
    "\n",
    "# calculate biomass-adjusted emissions while cems data is at the unit level\n",
    "cems = emissions.adjust_emissions_for_biomass(cems)\n",
    "\n",
    "# 5. Assign static characteristics to CEMS and EIA data to aid in aggregation\n",
    "####################################################################################\n",
    "print(\"5. Loading plant static attributes\")\n",
    "plant_attributes = data_cleaning.create_plant_attributes_table(\n",
    "    cems, eia923_allocated, year, primary_fuel_table\n",
    ")\n"
   ]
  },
  {
   "cell_type": "code",
   "execution_count": 6,
   "metadata": {},
   "outputs": [
    {
     "name": "stdout",
     "output_type": "stream",
     "text": [
      "6. Identifying source for hourly data\n",
      "7. Aggregating CEMS data from unit to subplant\n"
     ]
    }
   ],
   "source": [
    "# 6. Crosswalk CEMS and EIA data\n",
    "####################################################################################\n",
    "print(\"6. Identifying source for hourly data\")\n",
    "eia923_allocated = data_cleaning.identify_hourly_data_source(\n",
    "    eia923_allocated, cems, year\n",
    ")\n",
    "\n",
    "# 7. Aggregating CEMS data to subplant\n",
    "####################################################################################\n",
    "print(\"7. Aggregating CEMS data from unit to subplant\")\n",
    "# aggregate cems data to subplant level\n",
    "cems = data_cleaning.aggregate_cems_to_subplant(cems)"
   ]
  },
  {
   "cell_type": "code",
   "execution_count": 24,
   "metadata": {},
   "outputs": [],
   "source": [
    "import impute_hourly_profiles"
   ]
  },
  {
   "cell_type": "code",
   "execution_count": 8,
   "metadata": {},
   "outputs": [],
   "source": [
    "from impute_hourly_profiles import DATA_COLUMNS"
   ]
  },
  {
   "cell_type": "code",
   "execution_count": 47,
   "metadata": {},
   "outputs": [],
   "source": [
    "SUBPLANT_KEYS = [\"report_date\", \"plant_id_eia\", \"subplant_id\"]\n",
    "\n",
    "# identify all of the partial cems plants and group by subplant-month\n",
    "eia_data_to_shape = eia923_allocated.copy().loc[\n",
    "    eia923_allocated.hourly_data_source == \"partial_cems_plant\"\n",
    "]\n",
    "\n",
    "# if there is no data in the partial cems dataframe, skip.\n",
    "if len(eia_data_to_shape) > 0:\n",
    "\n",
    "    # group the eia data by subplant\n",
    "    eia_data_to_shape = (\n",
    "        eia_data_to_shape.groupby(SUBPLANT_KEYS, dropna=False)\n",
    "        .sum()[DATA_COLUMNS]\n",
    "        .reset_index()\n",
    "    )\n",
    "    \n",
    "    # get a list of plant ids for plants with partial plant data in CEMS\n",
    "    partial_cems_plant_ids = list(eia_data_to_shape.plant_id_eia.unique())\n",
    "\n",
    "    # get the hourly cems data for the partial plants and aggregate by plant-hour to use for shaping\n",
    "    partial_cems_profiles = (\n",
    "        cems[cems[\"plant_id_eia\"].isin(partial_cems_plant_ids)]\n",
    "        .groupby([\"plant_id_eia\", \"report_date\", \"datetime_utc\"], dropna=False)\n",
    "        .sum()[[\"gross_generation_mwh\",\"fuel_consumed_mmbtu\"]]\n",
    "        .reset_index()\n",
    "    )\n",
    "    # add a column for flat profiles\n",
    "    partial_cems_profiles[\"flat_profile\"] = 1\n",
    "    # convert the profiles to a percent\n",
    "    partial_cems_profiles = impute_hourly_profiles.convert_profile_to_percent(partial_cems_profiles, group_keys = [\"plant_id_eia\"], columns_to_convert = [\"gross_generation_mwh\",\"fuel_consumed_mmbtu\",\"flat_profile\"])\n",
    "    partial_cems_profiles = partial_cems_profiles.rename(columns={\"gross_generation_mwh\":\"generation_profile\",\"fuel_consumed_mmbtu\":\"fuel_profile\"})\n",
    "    \n",
    "    # prepare the profiles\n",
    "    # generation or fuel profiles will be missing for a month if there was zero generation or fuel reported for that month\n",
    "    # if we are missing a profile, try filling it with the other profile (e.g. fill generation with fuel profile)\n",
    "    partial_cems_profiles[\"generation_profile\"] = partial_cems_profiles[\"generation_profile\"].fillna(partial_cems_profiles[\"fuel_profile\"])\n",
    "    partial_cems_profiles[\"fuel_profile\"] = partial_cems_profiles[\"fuel_profile\"].fillna(partial_cems_profiles[\"generation_profile\"])\n",
    "    # if the profile is still missing, fill it using a flat profile\n",
    "    partial_cems_profiles[\"generation_profile\"] = partial_cems_profiles[\"generation_profile\"].fillna(partial_cems_profiles[\"flat_profile\"])\n",
    "    partial_cems_profiles[\"fuel_profile\"] = partial_cems_profiles[\"fuel_profile\"].fillna(partial_cems_profiles[\"flat_profile\"])\n",
    "\n",
    "    # merge the profiles into the monthly data\n",
    "    shaped_partial_plants = eia_data_to_shape.merge(partial_cems_profiles, how=\"left\", on=[\"plant_id_eia\",\"report_date\"], validate=\"m:m\")\n",
    "\n",
    "    # where monthly net generation is negative, replace the generation profile with a flat profile\n",
    "    shaped_partial_plants.loc[shaped_partial_plants[\"net_generation_mwh\"] < 0, \"generation_profile\"] = shaped_partial_plants.loc[shaped_partial_plants[\"net_generation_mwh\"] < 0, \"flat_profile\"]\n",
    "\n",
    "    # check that no profiles contain NA values\n",
    "    missing_profiles = shaped_partial_plants[shaped_partial_plants[\"generation_profile\"].isna() | shaped_partial_plants[\"fuel_profile\"].isna()]\n",
    "    if len(missing_profiles) > 0:\n",
    "        print(\"WARNING: Certain partial CEMS plants are missing hourly profile data. This will result in inaccurate results\")\n",
    "    # check that all profiles add to 1 for each month\n",
    "    incorrect_profiles = shaped_partial_plants.groupby(SUBPLANT_KEYS)[[\"generation_profile\",\"fuel_profile\"]].sum().reset_index()\n",
    "    incorrect_profiles = incorrect_profiles[(~np.isclose(incorrect_profiles[\"generation_profile\"], 1)) | (~np.isclose(incorrect_profiles[\"fuel_profile\"], 1))]\n",
    "    if len(incorrect_profiles) > 0:\n",
    "        print(\"WARNING: Certain partial CEMS profiles do not add to 100%. This will result in inaccurate results\")\n",
    "\n",
    "    # shape the profiles\n",
    "    for col in DATA_COLUMNS:\n",
    "        # use the generation profile to shape net generation data, otherwise use the fuel profile\n",
    "        if col == \"net_generation_mwh\":\n",
    "            profile_to_use = \"generation_profile\"\n",
    "        else:\n",
    "            profile_to_use = \"fuel_profile\"\n",
    "\n",
    "        shaped_partial_plants[col] = shaped_partial_plants[col] * shaped_partial_plants[profile_to_use]\n",
    "\n",
    "    # remove the intermediate columns\n",
    "    shaped_partial_plants = shaped_partial_plants.drop(columns=[\"generation_profile\",\"fuel_profile\",\"flat_profile\"])\n",
    "\n"
   ]
  }
 ],
 "metadata": {
  "kernelspec": {
   "display_name": "Python 3.10.5 ('hourly_egrid')",
   "language": "python",
   "name": "python3"
  },
  "language_info": {
   "codemirror_mode": {
    "name": "ipython",
    "version": 3
   },
   "file_extension": ".py",
   "mimetype": "text/x-python",
   "name": "python",
   "nbconvert_exporter": "python",
   "pygments_lexer": "ipython3",
   "version": "3.10.5"
  },
  "orig_nbformat": 4,
  "vscode": {
   "interpreter": {
    "hash": "4103f3cd497821eca917ea303dbe10c590d787eb7d2dc3fd4e15dec0356e7931"
   }
  }
 },
 "nbformat": 4,
 "nbformat_minor": 2
}
