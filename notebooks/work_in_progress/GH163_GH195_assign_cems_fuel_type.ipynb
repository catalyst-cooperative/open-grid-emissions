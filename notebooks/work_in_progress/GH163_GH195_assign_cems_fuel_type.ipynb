{
 "cells": [
  {
   "cell_type": "markdown",
   "metadata": {},
   "source": [
    "## About\n",
    "This notebook is a work in progress to fix https://github.com/singularity-energy/open-grid-emissions/issues/195 and https://github.com/singularity-energy/open-grid-emissions/issues/163"
   ]
  },
  {
   "cell_type": "code",
   "execution_count": null,
   "metadata": {},
   "outputs": [],
   "source": [
    "# import packages\n",
    "import pandas as pd\n",
    "import os\n",
    "\n",
    "%reload_ext autoreload\n",
    "%autoreload 2\n",
    "\n",
    "# # Tell python where to look for modules.\n",
    "import sys\n",
    "sys.path.append('../../../open-grid-emissions/src/')\n",
    "\n",
    "import load_data\n",
    "from column_checks import get_dtypes\n",
    "from filepaths import *\n",
    "import impute_hourly_profiles\n",
    "import data_cleaning\n",
    "import output_data\n",
    "import emissions\n",
    "import validation\n",
    "import gross_to_net_generation\n",
    "import eia930\n",
    "\n",
    "year = 2020\n",
    "path_prefix = f\"{year}/\""
   ]
  },
  {
   "cell_type": "markdown",
   "metadata": {},
   "source": [
    "## The plan\n",
    "1. Create primary fuel table\n",
    "2. Assign subplant id to primary fuel table\n",
    "3. Calculate fuel weighted emission factor for each subplant_id\n",
    "4. fill missing using fuel weight\n",
    "\n",
    "\n",
    "We still need to assign a fuel code to each observation in CEMS\n",
    "1. Calculate a subplant primary fuel as well (based on allocated EIA-923)\n",
    "2. Then use PSDC\n",
    "3. Then fill based on single fuel plants\n",
    "\n",
    "Assign "
   ]
  },
  {
   "cell_type": "code",
   "execution_count": null,
   "metadata": {},
   "outputs": [],
   "source": [
    "# 3. Clean EIA-923 Generation and Fuel Data at the Monthly Level\n",
    "####################################################################################\n",
    "print(\"3. Cleaning EIA-923 data\")\n",
    "eia923_allocated, primary_fuel_table = data_cleaning.clean_eia923(year, False)"
   ]
  },
  {
   "cell_type": "code",
   "execution_count": null,
   "metadata": {},
   "outputs": [],
   "source": [
    "subplant_crosswalk = pd.read_csv(\n",
    "            outputs_folder(f\"{year}/subplant_crosswalk.csv\"),\n",
    "            dtype=get_dtypes(),\n",
    "        )\n",
    "\n",
    "subplant_crosswalk"
   ]
  },
  {
   "cell_type": "code",
   "execution_count": null,
   "metadata": {},
   "outputs": [],
   "source": []
  },
  {
   "cell_type": "code",
   "execution_count": null,
   "metadata": {},
   "outputs": [],
   "source": [
    "# calculate subplant weighted emission factor\n",
    "weighted_ef = eia923_allocated.groupby([\"plant_id_eia\",\"subplant_id\",\"report_date\",], dropna=False)[[\"fuel_consumed_mmbtu\",\"co2_mass_lb\",\"ch4_mass_lb\",\"n2o_mass_lb\",\"nox_mass_lb\",\"so2_mass_lb\"]].sum().reset_index()\n",
    "\n",
    "# drop any observations with zero fuel consumption\n",
    "weighted_ef = weighted_ef[weighted_ef[\"fuel_consumed_mmbtu\"] > 0]\n",
    "\n",
    "\n",
    "for pollutant in [\"co2\",\"ch4\",\"n2o\",\"nox\",\"so2\"]:\n",
    "    weighted_ef[f\"{pollutant}_ef_lb_per_mmbtu\"] = weighted_ef[f\"{pollutant}_mass_lb\"] / weighted_ef[\"fuel_consumed_mmbtu\"]\n",
    "weighted_ef\n"
   ]
  },
  {
   "cell_type": "code",
   "execution_count": null,
   "metadata": {},
   "outputs": [],
   "source": [
    "weighted_ef[weighted_ef[\"plant_id_eia\"] == 3]"
   ]
  }
 ],
 "metadata": {
  "kernelspec": {
   "display_name": "Python 3.10.4 ('open_grid_emissions')",
   "language": "python",
   "name": "python3"
  },
  "language_info": {
   "codemirror_mode": {
    "name": "ipython",
    "version": 3
   },
   "file_extension": ".py",
   "mimetype": "text/x-python",
   "name": "python",
   "nbconvert_exporter": "python",
   "pygments_lexer": "ipython3",
   "version": "3.10.4"
  },
  "orig_nbformat": 4,
  "vscode": {
   "interpreter": {
    "hash": "25e36f192ecdbe5da57d9bea009812e7b11ef0e0053366a845a2802aae1b29d2"
   }
  }
 },
 "nbformat": 4,
 "nbformat_minor": 2
}
