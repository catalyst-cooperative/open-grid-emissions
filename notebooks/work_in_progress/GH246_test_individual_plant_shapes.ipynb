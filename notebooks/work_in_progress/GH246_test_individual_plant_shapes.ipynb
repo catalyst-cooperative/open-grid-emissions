{
 "cells": [
  {
   "cell_type": "markdown",
   "metadata": {},
   "source": [
    "This notebook is set up to test code as needed."
   ]
  },
  {
   "cell_type": "code",
   "execution_count": null,
   "metadata": {},
   "outputs": [],
   "source": [
    "# import packages\n",
    "import pandas as pd\n",
    "import os\n",
    "\n",
    "%reload_ext autoreload\n",
    "%autoreload 2\n",
    "\n",
    "# # Tell python where to look for modules.\n",
    "import sys\n",
    "sys.path.append('../../../open-grid-emissions/src/')\n",
    "\n",
    "import download_data\n",
    "import load_data\n",
    "from column_checks import get_dtypes\n",
    "from filepaths import *\n",
    "import impute_hourly_profiles\n",
    "import data_cleaning\n",
    "import output_data\n",
    "import emissions\n",
    "import validation\n",
    "import gross_to_net_generation\n",
    "import eia930\n",
    "\n",
    "year = 2020\n",
    "path_prefix = f\"{year}/\""
   ]
  },
  {
   "cell_type": "code",
   "execution_count": null,
   "metadata": {},
   "outputs": [],
   "source": [
    "eia923_allocated = pd.read_csv(f'{outputs_folder()}{path_prefix}/eia923_allocated_{year}.csv', dtype=get_dtypes(), parse_dates=['report_date'])\n",
    "plant_attributes = pd.read_csv(f\"{outputs_folder()}{path_prefix}/plant_static_attributes_{year}.csv\")\n",
    "hourly_profiles = pd.read_csv(f'{outputs_folder()}{path_prefix}/hourly_profiles_{year}.csv', dtype=get_dtypes(), parse_dates=['report_date'])\n",
    "\n",
    "\n",
    "#cems = pd.read_csv(f'{outputs_folder()}{path_prefix}/cems_{year}.csv', dtype=get_dtypes(), parse_dates=['datetime_utc', 'report_date'])\n",
    "#partial_cems_scaled = pd.read_csv(f'{outputs_folder()}{path_prefix}/partial_cems_scaled_{year}.csv', dtype=get_dtypes(), parse_dates=['datetime_utc', 'report_date'])"
   ]
  },
  {
   "cell_type": "code",
   "execution_count": null,
   "metadata": {},
   "outputs": [],
   "source": [
    "print(\"11. Exporting monthly and annual plant-level results\")\n",
    "# create a separate dataframe containing only the EIA data that is missing from cems\n",
    "monthly_eia_data_to_shape = eia923_allocated[\n",
    "    (eia923_allocated[\"hourly_data_source\"] == \"eia\")\n",
    "    & ~(eia923_allocated[\"fuel_consumed_mmbtu\"].isna())\n",
    "]\n",
    "\n",
    "hourly_profiles = impute_hourly_profiles.convert_profile_to_percent(\n",
    "    hourly_profiles,\n",
    "    group_keys=[\"ba_code\", \"fuel_category\", \"profile_method\"],\n",
    "    columns_to_convert=[\"profile\", \"flat_profile\"],\n",
    ")"
   ]
  },
  {
   "cell_type": "code",
   "execution_count": null,
   "metadata": {},
   "outputs": [],
   "source": [
    "plant_attributes"
   ]
  },
  {
   "cell_type": "code",
   "execution_count": null,
   "metadata": {},
   "outputs": [],
   "source": [
    "monthly_eia_data_to_shape"
   ]
  },
  {
   "cell_type": "code",
   "execution_count": null,
   "metadata": {},
   "outputs": [],
   "source": [
    "# aggregate data to plant level and add plant metadata\n",
    "monthly_eia_data_to_shape = monthly_eia_data_to_shape.groupby(\n",
    "    [\"plant_id_eia\", \"report_date\"], dropna=False\n",
    ").sum().reset_index().merge(\n",
    "    plant_attributes[[\"plant_id_eia\", \"fuel_category\", \"ba_code\", \"state\"]]\n",
    ")\n"
   ]
  },
  {
   "cell_type": "code",
   "execution_count": null,
   "metadata": {},
   "outputs": [],
   "source": [
    "# for each ba, split data and shape\n",
    "for ba in list(monthly_eia_data_to_shape.ba_code.unique()):\n",
    "    # filter the data to the ba\n",
    "    ba_data_to_shape = monthly_eia_data_to_shape[monthly_eia_data_to_shape[\"ba_code\"] == ba].copy()\n",
    "\n",
    "    shaped_eia_data = impute_hourly_profiles.shape_monthly_eia_data_as_hourly(\n",
    "        ba_data_to_shape, hourly_profiles\n",
    "    )\n",
    "\n",
    "    combined_plant_data = data_cleaning.combine_plant_data(\n",
    "        cems, partial_cems_subplant, partial_cems_plant, shaped_eia_data, \"hourly\"\n",
    "    )"
   ]
  }
 ],
 "metadata": {
  "kernelspec": {
   "display_name": "Python 3.10.4 ('open_grid_emissions')",
   "language": "python",
   "name": "python3"
  },
  "language_info": {
   "codemirror_mode": {
    "name": "ipython",
    "version": 3
   },
   "file_extension": ".py",
   "mimetype": "text/x-python",
   "name": "python",
   "nbconvert_exporter": "python",
   "pygments_lexer": "ipython3",
   "version": "3.10.4"
  },
  "orig_nbformat": 4,
  "vscode": {
   "interpreter": {
    "hash": "25e36f192ecdbe5da57d9bea009812e7b11ef0e0053366a845a2802aae1b29d2"
   }
  }
 },
 "nbformat": 4,
 "nbformat_minor": 2
}
