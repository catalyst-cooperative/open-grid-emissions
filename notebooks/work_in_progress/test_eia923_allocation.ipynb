{
 "cells": [
  {
   "cell_type": "markdown",
   "metadata": {},
   "source": [
    "# About this notebook\n",
    "This notebook is used for testing code related to allocating the EIA-923 data before integrating it into PUDL and the data pipeline. \n",
    "\n",
    "I've also been using this to simply load EIA tables from the PUDL database to explore the EIA data as it exists in PUDL."
   ]
  },
  {
   "cell_type": "code",
   "execution_count": 1,
   "metadata": {},
   "outputs": [],
   "source": [
    "%reload_ext autoreload\n",
    "%autoreload 2\n",
    "\n",
    "import sys\n",
    "sys.path.append('../../../hourly-egrid/')\n",
    "\n",
    "# Useful high-level external modules.\n",
    "import numpy as np\n",
    "import pandas as pd\n",
    "import sqlalchemy as sa\n",
    "import warnings\n",
    "import plotly.express as px\n",
    "\n",
    "import pudl\n",
    "\n",
    "import src.data_cleaning as data_cleaning\n",
    "import src.load_data as load_data\n",
    "import pudl.analysis.allocate_net_gen as allocate_gen_fuel\n"
   ]
  },
  {
   "cell_type": "code",
   "execution_count": 23,
   "metadata": {},
   "outputs": [],
   "source": [
    "year = 2020\n",
    "\n",
    "pudl_db = 'sqlite:///../data/downloads/pudl/pudl_data/sqlite/pudl.sqlite'\n",
    "pudl_engine = sa.create_engine(pudl_db)\n",
    "\n",
    "pudl_out = pudl.output.pudltabl.PudlTabl(\n",
    "    pudl_engine,\n",
    "    freq='MS',\n",
    "    start_date=f'{year}-01-01',\n",
    "    end_date=f'{year}-12-31'\n",
    ")"
   ]
  },
  {
   "cell_type": "markdown",
   "metadata": {},
   "source": [
    "## Load EIA data"
   ]
  },
  {
   "cell_type": "code",
   "execution_count": null,
   "metadata": {},
   "outputs": [],
   "source": [
    "# extract all of the tables from pudl_out early in the process and select\n",
    "# only the columns we need. this is for speed and clarity.\n",
    "\n",
    "remove_this = pudl.analysis.allocate_net_gen\n",
    "drop_interim_cols = False\n",
    "\n",
    "IDX_GENS = [\"report_date\", \"plant_id_eia\", \"generator_id\"]\n",
    "\"\"\"Id columns for generators.\"\"\"\n",
    "\n",
    "IDX_GENS_PM_ESC = [\n",
    "    \"report_date\",\n",
    "    \"plant_id_eia\",\n",
    "    \"generator_id\",\n",
    "    \"prime_mover_code\",\n",
    "    \"energy_source_code\",\n",
    "]\n",
    "\n",
    "IDX_PM_ESC = [\"report_date\", \"plant_id_eia\", \"energy_source_code\", \"prime_mover_code\"]\n",
    "\"\"\"Id columns for plant, prime mover & fuel type records.\"\"\"\n",
    "\n",
    "IDX_B_PM_ESC = [\n",
    "    \"report_date\",\n",
    "    \"plant_id_eia\",\n",
    "    \"boiler_id\",\n",
    "    \"energy_source_code\",\n",
    "    \"prime_mover_code\",\n",
    "]\n",
    "\"\"\"Id columns for plant, boiler, prime mover & fuel type records.\"\"\"\n",
    "\n",
    "IDX_ESC = [\"report_date\", \"plant_id_eia\", \"energy_source_code\"]\n",
    "\n",
    "IDX_U_ESC = [\"report_date\", \"plant_id_eia\", \"energy_source_code\", \"unit_id_pudl\"]\n",
    "\n",
    "# extract all of the tables from pudl_out early in the process and select\n",
    "# only the columns we need. this is for speed and clarity.\n",
    "gens = pudl_out.gens_eia860().loc[\n",
    "    :,\n",
    "    IDX_GENS\n",
    "    + [\n",
    "        \"prime_mover_code\",\n",
    "        \"unit_id_pudl\",\n",
    "        \"capacity_mw\",\n",
    "        \"fuel_type_count\",\n",
    "        \"operational_status\",\n",
    "        \"retirement_date\",\n",
    "    ]\n",
    "    + list(pudl_out.gens_eia860().filter(like=\"energy_source_code\"))\n",
    "    + list(pudl_out.gens_eia860().filter(like=\"startup_source_code\")),\n",
    "]\n",
    "gf = (\n",
    "    pudl_out.gf_eia923()\n",
    "    .loc[\n",
    "        :,\n",
    "        IDX_PM_ESC\n",
    "        + [\n",
    "            \"net_generation_mwh\",\n",
    "            \"fuel_consumed_mmbtu\",\n",
    "            \"fuel_consumed_for_electricity_mmbtu\",\n",
    "        ],\n",
    "    ]\n",
    "    .pipe(remove_this.manually_fix_energy_source_codes)\n",
    ")\n",
    "bf = (\n",
    "    pudl_out.bf_eia923()\n",
    "    .merge(\n",
    "        pd.read_sql(\"boilers_entity_eia\", pudl_out.pudl_engine),\n",
    "        how=\"left\",\n",
    "        on=[\"plant_id_eia\", \"boiler_id\"],\n",
    "    )\n",
    "    .loc[:, IDX_B_PM_ESC + [\"fuel_consumed_mmbtu\"]]\n",
    ").pipe(\n",
    "    remove_this.distribute_annually_reported_data_to_months,\n",
    "    key_columns=[\"plant_id_eia\", \"boiler_id\", \"energy_source_code\"],\n",
    "    data_column_name=\"fuel_consumed_mmbtu\",\n",
    ")\n",
    "# allocate the boiler fuel data to generators\n",
    "bf = remove_this.allocate_bf_data_to_gens(bf, gens, pudl_out)\n",
    "\n",
    "# add any startup energy source codes to the list of energy source codes\n",
    "# fix MSW codes\n",
    "gens = remove_this.adjust_energy_source_codes(gens, gf, bf)\n",
    "# fix prime mover codes in gens so that they match the codes in the gf table\n",
    "missing_pm = gens[gens[\"prime_mover_code\"].isna()]\n",
    "if not missing_pm.empty:\n",
    "    warnings.warn(\n",
    "        f\"{len(missing_pm)} generators are missing prime mover codes in gens_eia860. \"\n",
    "        \"This will result in incorrect allocation.\"\n",
    "    )\n",
    "# duplicate each entry in the gens table 12 times to create an entry for each month of the year\n",
    "gens = remove_this.create_monthly_gens_records(gens)\n",
    "\n",
    "gen = (\n",
    "    pudl_out.gen_original_eia923().loc[:, IDX_GENS + [\"net_generation_mwh\"]]\n",
    "    # removes 4 records with NaN generator_id as of pudl v0.5\n",
    "    .dropna(subset=IDX_GENS)\n",
    ").pipe(\n",
    "    remove_this.distribute_annually_reported_data_to_months,\n",
    "    key_columns=[\"plant_id_eia\", \"generator_id\"],\n",
    "    data_column_name=\"net_generation_mwh\",\n",
    ")\n",
    "\n",
    "# the gen table is missing some generator ids. Let's fill this using the gens table, leaving a missing value for net generation\n",
    "gen = gen.merge(\n",
    "    gens[[\"plant_id_eia\", \"generator_id\", \"report_date\"]],\n",
    "    how=\"outer\",\n",
    "    on=[\"plant_id_eia\", \"generator_id\", \"report_date\"],\n",
    ")"
   ]
  },
  {
   "cell_type": "code",
   "execution_count": null,
   "metadata": {},
   "outputs": [],
   "source": [
    "# do the association!\n",
    "gen_assoc = remove_this.associate_generator_tables(\n",
    "    gf=gf, gen=gen, gens=gens, bf=bf, pudl_out=pudl_out\n",
    ")"
   ]
  },
  {
   "cell_type": "code",
   "execution_count": null,
   "metadata": {},
   "outputs": [],
   "source": [
    "gen_assoc[(gen_assoc[[\"fuel_consumed_mmbtu_gf_tbl\",\"fuel_consumed_for_electricity_mmbtu_gf_tbl\",\"fuel_consumed_mmbtu_bf_tbl\",\"fuel_consumed_mmbtu_gf_tbl_fuel\",\"fuel_consumed_for_electricity_mmbtu_gf_tbl_fuel\"]] < 0).any(axis=1)]"
   ]
  },
  {
   "cell_type": "code",
   "execution_count": null,
   "metadata": {},
   "outputs": [],
   "source": [
    "# Generate a fraction to use to allocate net generation and fuel consumption by.\n",
    "# These two methods create a column called `frac`, which will be a fraction\n",
    "# to allocate net generation from the gf table for each `IDX_PM_ESC` group\n",
    "gen_pm_fuel = remove_this.prep_alloction_fraction(gen_assoc)"
   ]
  },
  {
   "cell_type": "code",
   "execution_count": null,
   "metadata": {},
   "outputs": [],
   "source": [
    "gen_pm_fuel"
   ]
  },
  {
   "cell_type": "code",
   "execution_count": null,
   "metadata": {},
   "outputs": [],
   "source": [
    "gen_pm_fuel[(gen_pm_fuel[[\"fuel_consumed_mmbtu_gf_tbl\",\"fuel_consumed_for_electricity_mmbtu_gf_tbl\",\"fuel_consumed_mmbtu_bf_tbl\",\"fuel_consumed_mmbtu_gf_tbl_fuel\",\"fuel_consumed_for_electricity_mmbtu_gf_tbl_fuel\",\"fuel_consumed_mmbtu_bf_tbl_pm_fuel\",\"fuel_consumed_mmbtu_bf_tbl_unit_fuel\"]] < 0).any(axis=1)]"
   ]
  },
  {
   "cell_type": "code",
   "execution_count": null,
   "metadata": {},
   "outputs": [],
   "source": [
    "# fuel allocation\n",
    "fuel_alloc = remove_this.allocate_fuel_by_gen_esc(gen_pm_fuel)"
   ]
  },
  {
   "cell_type": "code",
   "execution_count": null,
   "metadata": {},
   "outputs": [],
   "source": [
    "plant_id_to_investigate = 3399"
   ]
  },
  {
   "cell_type": "code",
   "execution_count": null,
   "metadata": {},
   "outputs": [],
   "source": [
    "gen_assoc[gen_assoc['plant_id_eia'] == plant_id_to_investigate]"
   ]
  },
  {
   "cell_type": "code",
   "execution_count": null,
   "metadata": {},
   "outputs": [],
   "source": [
    "gens[gens['plant_id_eia'] == plant_id_to_investigate]"
   ]
  },
  {
   "cell_type": "code",
   "execution_count": null,
   "metadata": {},
   "outputs": [],
   "source": [
    "gens.loc[gens['prime_mover_code'].isna(), ['plant_id_eia','generator_id']].drop_duplicates()"
   ]
  },
  {
   "cell_type": "code",
   "execution_count": null,
   "metadata": {},
   "outputs": [],
   "source": [
    "gens[gens['generator_id'].str.contains('ST')]"
   ]
  },
  {
   "cell_type": "code",
   "execution_count": null,
   "metadata": {},
   "outputs": [],
   "source": [
    "gen[gen['plant_id_eia'] == plant_id_to_investigate]"
   ]
  },
  {
   "cell_type": "code",
   "execution_count": null,
   "metadata": {},
   "outputs": [],
   "source": [
    "gf[gf['plant_id_eia'] == plant_id_to_investigate]"
   ]
  },
  {
   "cell_type": "code",
   "execution_count": null,
   "metadata": {},
   "outputs": [],
   "source": [
    "bf[(bf['plant_id_eia'] == plant_id_to_investigate) & (bf[\"report_date\"] == \"2020-01-01\")]"
   ]
  }
 ],
 "metadata": {
  "interpreter": {
   "hash": "4103f3cd497821eca917ea303dbe10c590d787eb7d2dc3fd4e15dec0356e7931"
  },
  "kernelspec": {
   "display_name": "Python 3.9.12 ('hourly_egrid')",
   "language": "python",
   "name": "python3"
  },
  "language_info": {
   "codemirror_mode": {
    "name": "ipython",
    "version": 3
   },
   "file_extension": ".py",
   "mimetype": "text/x-python",
   "name": "python",
   "nbconvert_exporter": "python",
   "pygments_lexer": "ipython3",
   "version": "3.10.5"
  },
  "orig_nbformat": 4
 },
 "nbformat": 4,
 "nbformat_minor": 2
}
