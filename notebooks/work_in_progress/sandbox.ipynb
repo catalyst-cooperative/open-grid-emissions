{
 "cells": [
  {
   "cell_type": "markdown",
   "metadata": {},
   "source": [
    "This notebook is set up to test code as needed."
   ]
  },
  {
   "cell_type": "code",
   "execution_count": 2,
   "metadata": {},
   "outputs": [],
   "source": [
    "# import packages\n",
    "import pandas as pd\n",
    "import os\n",
    "\n",
    "%reload_ext autoreload\n",
    "%autoreload 2\n",
    "\n",
    "# # Tell python where to look for modules.\n",
    "import sys\n",
    "sys.path.append('../../../open-grid-emissions/src/')\n",
    "\n",
    "import download_data\n",
    "import load_data\n",
    "from column_checks import get_dtypes\n",
    "from filepaths import *\n",
    "import impute_hourly_profiles\n",
    "import data_cleaning\n",
    "import output_data\n",
    "import emissions\n",
    "import validation\n",
    "import gross_to_net_generation\n",
    "import eia930\n",
    "\n",
    "year = 2020\n",
    "path_prefix = f\"{year}/\""
   ]
  },
  {
   "cell_type": "code",
   "execution_count": 6,
   "metadata": {},
   "outputs": [],
   "source": [
    "import shutil"
   ]
  },
  {
   "cell_type": "code",
   "execution_count": 9,
   "metadata": {},
   "outputs": [
    {
     "name": "stdout",
     "output_type": "stream",
     "text": [
      "    Downloading pudl\n"
     ]
    },
    {
     "ename": "PermissionError",
     "evalue": "[WinError 5] Access is denied: 'A:\\\\GitHub\\\\open-grid-emissions\\\\data\\\\downloads\\\\pudl/pudl_data/sqlite/pudl'",
     "output_type": "error",
     "traceback": [
      "\u001b[1;31m---------------------------------------------------------------------------\u001b[0m",
      "\u001b[1;31mPermissionError\u001b[0m                           Traceback (most recent call last)",
      "\u001b[1;32ma:\\GitHub\\open-grid-emissions\\notebooks\\work_in_progress\\sandbox.ipynb Cell 4\u001b[0m in \u001b[0;36m<cell line: 10>\u001b[1;34m()\u001b[0m\n\u001b[0;32m      <a href='vscode-notebook-cell:/a%3A/GitHub/open-grid-emissions/notebooks/work_in_progress/sandbox.ipynb#W2sZmlsZQ%3D%3D?line=5'>6</a>\u001b[0m download_data\u001b[39m.\u001b[39mdownload_helper(\n\u001b[0;32m      <a href='vscode-notebook-cell:/a%3A/GitHub/open-grid-emissions/notebooks/work_in_progress/sandbox.ipynb#W2sZmlsZQ%3D%3D?line=6'>7</a>\u001b[0m     url, download_filepath, output_filepath, requires_unzip\u001b[39m=\u001b[39m\u001b[39mTrue\u001b[39;00m, should_clean\u001b[39m=\u001b[39m\u001b[39mTrue\u001b[39;00m\n\u001b[0;32m      <a href='vscode-notebook-cell:/a%3A/GitHub/open-grid-emissions/notebooks/work_in_progress/sandbox.ipynb#W2sZmlsZQ%3D%3D?line=7'>8</a>\u001b[0m )\n\u001b[0;32m      <a href='vscode-notebook-cell:/a%3A/GitHub/open-grid-emissions/notebooks/work_in_progress/sandbox.ipynb#W2sZmlsZQ%3D%3D?line=8'>9</a>\u001b[0m shutil\u001b[39m.\u001b[39mmove(downloads_folder(\u001b[39m\"\u001b[39m\u001b[39mpudl/pudl_data/sqlite/pudl/pudl.sqlite\u001b[39m\u001b[39m\"\u001b[39m), downloads_folder(\u001b[39m\"\u001b[39m\u001b[39mpudl/pudl_data/sqlite/pudl.sqlite\u001b[39m\u001b[39m\"\u001b[39m))\n\u001b[1;32m---> <a href='vscode-notebook-cell:/a%3A/GitHub/open-grid-emissions/notebooks/work_in_progress/sandbox.ipynb#W2sZmlsZQ%3D%3D?line=9'>10</a>\u001b[0m os\u001b[39m.\u001b[39;49mremove(downloads_folder(\u001b[39m\"\u001b[39;49m\u001b[39mpudl/pudl_data/sqlite/pudl\u001b[39;49m\u001b[39m\"\u001b[39;49m))\n",
      "\u001b[1;31mPermissionError\u001b[0m: [WinError 5] Access is denied: 'A:\\\\GitHub\\\\open-grid-emissions\\\\data\\\\downloads\\\\pudl/pudl_data/sqlite/pudl'"
     ]
    }
   ],
   "source": [
    "#os.remove(downloads_folder(\"pudl/pudl_data/sqlite/pudl.sqlite\"))\n",
    "\n",
    "url = \"https://zenodo.org/record/7063072/files/pudl_data.zip?download=1\"\n",
    "download_filepath = downloads_folder(\"pudl/pudl_data/sqlite/pudl_data.zip\")\n",
    "output_filepath = downloads_folder(\"pudl/pudl_data/sqlite/pudl\")\n",
    "download_data.download_helper(\n",
    "    url, download_filepath, output_filepath, requires_unzip=True, should_clean=True\n",
    ")\n",
    "shutil.move(downloads_folder(\"pudl/pudl_data/sqlite/pudl/pudl.sqlite\"), downloads_folder(\"pudl/pudl_data/sqlite/pudl.sqlite\"))\n",
    "os.rmdir(downloads_folder(\"pudl/pudl_data/sqlite/pudl/\"))"
   ]
  },
  {
   "cell_type": "code",
   "execution_count": 11,
   "metadata": {},
   "outputs": [],
   "source": []
  }
 ],
 "metadata": {
  "kernelspec": {
   "display_name": "Python 3.10.4 ('open_grid_emissions')",
   "language": "python",
   "name": "python3"
  },
  "language_info": {
   "codemirror_mode": {
    "name": "ipython",
    "version": 3
   },
   "file_extension": ".py",
   "mimetype": "text/x-python",
   "name": "python",
   "nbconvert_exporter": "python",
   "pygments_lexer": "ipython3",
   "version": "3.10.4"
  },
  "orig_nbformat": 4,
  "vscode": {
   "interpreter": {
    "hash": "25e36f192ecdbe5da57d9bea009812e7b11ef0e0053366a845a2802aae1b29d2"
   }
  }
 },
 "nbformat": 4,
 "nbformat_minor": 2
}
