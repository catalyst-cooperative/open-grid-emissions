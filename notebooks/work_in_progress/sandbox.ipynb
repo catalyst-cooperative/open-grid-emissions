{
 "cells": [
  {
   "cell_type": "markdown",
   "metadata": {},
   "source": [
    "This notebook is set up to test code as needed."
   ]
  },
  {
   "cell_type": "code",
   "execution_count": 1,
   "metadata": {},
   "outputs": [],
   "source": [
    "# import packages\n",
    "import pandas as pd\n",
    "import os\n",
    "\n",
    "%reload_ext autoreload\n",
    "%autoreload 2\n",
    "\n",
    "# # Tell python where to look for modules.\n",
    "import sys\n",
    "sys.path.append('../../../open-grid-emissions/src/')\n",
    "\n",
    "import load_data\n",
    "from column_checks import get_dtypes\n",
    "from filepaths import *\n",
    "import impute_hourly_profiles\n",
    "import data_cleaning\n",
    "import output_data\n",
    "import emissions\n",
    "import validation\n",
    "import gross_to_net_generation\n",
    "import eia930\n",
    "\n",
    "year = 2019\n",
    "path_prefix = f\"{year}/\""
   ]
  }
 ],
 "metadata": {
  "kernelspec": {
   "display_name": "Python 3.10.5 ('hourly_egrid')",
   "language": "python",
   "name": "python3"
  },
  "language_info": {
   "codemirror_mode": {
    "name": "ipython",
    "version": 3
   },
   "file_extension": ".py",
   "mimetype": "text/x-python",
   "name": "python",
   "nbconvert_exporter": "python",
   "pygments_lexer": "ipython3",
   "version": "3.10.5"
  },
  "orig_nbformat": 4,
  "vscode": {
   "interpreter": {
    "hash": "4103f3cd497821eca917ea303dbe10c590d787eb7d2dc3fd4e15dec0356e7931"
   }
  }
 },
 "nbformat": 4,
 "nbformat_minor": 2
}
