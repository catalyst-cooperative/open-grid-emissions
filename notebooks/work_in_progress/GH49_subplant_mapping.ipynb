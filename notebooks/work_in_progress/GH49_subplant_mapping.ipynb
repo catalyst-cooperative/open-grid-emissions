{
 "cells": [
  {
   "cell_type": "markdown",
   "metadata": {},
   "source": [
    "This notebook is set up to test code as needed."
   ]
  },
  {
   "cell_type": "code",
   "execution_count": null,
   "metadata": {},
   "outputs": [],
   "source": [
    "# import packages\n",
    "import pandas as pd\n",
    "import numpy as np\n",
    "import os\n",
    "\n",
    "%reload_ext autoreload\n",
    "%autoreload 2\n",
    "\n",
    "# # Tell python where to look for modules.\n",
    "import sys\n",
    "sys.path.append('../../../open-grid-emissions/src/')\n",
    "\n",
    "import download_data\n",
    "import load_data\n",
    "from column_checks import get_dtypes\n",
    "from filepaths import *\n",
    "import impute_hourly_profiles\n",
    "import data_cleaning\n",
    "import output_data\n",
    "import emissions\n",
    "import validation\n",
    "import gross_to_net_generation\n",
    "import eia930\n",
    "\n",
    "year = 2020\n",
    "path_prefix = f\"{year}/\""
   ]
  },
  {
   "cell_type": "markdown",
   "metadata": {},
   "source": [
    "# NOTES\n",
    "- plant 1391 is an example of where a single `unit_id_pudl` is assigned multiple subplants\n",
    "- plant 10745 is an example of where a `unit_id_pudl` overlaps multiple `subplant_id`       \n",
    "\n",
    "## The goal\n",
    "Make sure that there are no NA subplant IDs\n",
    "Ensure some harmonization between subplant_id and unit_id_pudl\n",
    "\n",
    "TODO:\n",
    " - I've now created code that updates the subplant id of units in the EIA-923 table, but now I need to incorporate this into the pipeline. I don't necessarily need to use EIA-923 allocated except that it should include all generators. Maybe I want to start with an EIA-860 table and do an outer join with the existing subplant table"
   ]
  },
  {
   "cell_type": "code",
   "execution_count": null,
   "metadata": {},
   "outputs": [],
   "source": [
    "pudl_out = load_data.initialize_pudl_out(year)"
   ]
  },
  {
   "cell_type": "code",
   "execution_count": null,
   "metadata": {},
   "outputs": [],
   "source": [
    "# load data\n",
    "pudl_out = load_data.initialize_pudl_out(year)\n",
    "#bga = pudl_out.bga_eia860()\n",
    "#complete_generator_ids = pudl_out.gens_eia860()[[\"plant_id_eia\",\"generator_id\",\"unit_id_pudl\"]]\n",
    "\n",
    "subplant_crosswalk = pd.read_csv(f'{outputs_folder()}{path_prefix}/subplant_crosswalk.csv', dtype=get_dtypes())\n",
    "\n"
   ]
  },
  {
   "cell_type": "code",
   "execution_count": null,
   "metadata": {},
   "outputs": [],
   "source": [
    "def update_subplant_ids(subplant_crosswalk):\n",
    "    \"\"\"\n",
    "    Ensures a complete and accurate subplant_id mapping for all generators.\n",
    "\n",
    "    NOTE:\n",
    "        1. This function is a temporary placeholder until the `pudl.analysis.epa_crosswalk` code is updated.\n",
    "        2. This function is meant to be applied using a .groupby(\"plant_id_eia\").apply() function. This function\n",
    "        will only properly work when applied to a single plant_id_eia at a time.\n",
    "\n",
    "    Data Preparation\n",
    "        Because the existing subplant_id crosswalk was only meant to map CAMD units to EIA generators, it\n",
    "        is missing a large number of subplant_ids for generators that do not report to CEMS. Before applying this\n",
    "        function to the subplant crosswalk, the crosswalk must be completed with all generators by outer\n",
    "        merging in the complete list of generators from EIA-860 (specifically the gens_eia860 table from pudl).\n",
    "        This dataframe also contains the complete list of `unit_id_pudl` mappings that will be necessary.\n",
    "\n",
    "    This function follows several steps:\n",
    "        1. Because the current subplant_id code does not take boiler-generator associations into account,\n",
    "        there may be instances where the code assigns generators to different subplants when in fact, according\n",
    "        to the boiler-generator association table, these generators are grouped into a single unit based on their\n",
    "        boiler associations. The first step of this function is thus to identify if multiple subplant_id have\n",
    "        been assigned to a single unit_id_pudl. If so, we replace the existing subplant_ids with a single subplant_id.\n",
    "        For example, if a generator A was assigned subplant_id 0 and generator B was assigned subplant_id 1, but\n",
    "        both generators A and B are part of unit_id_pudl 1, we would re-assign the subplant_id to both generators to\n",
    "        0 (we always use the lowest number subplant_id in each unit_id_pudl group). This may result in some subplant_id\n",
    "        being skipped, but this is okay because we will later renumber all subplant ids (i.e. if there were also a\n",
    "        generator C with subplant_id 2, there would no be no subplant_id 1 at the plant)\n",
    "        3. The second issue is that there are many NA subplant_id that we should fill. To do this, we first look at\n",
    "        unit_id_pudl. If a group of generators are assigned a unit_id_pudl but have NA subplant_ids, we assign a single\n",
    "        new subplant_id to this group of generators. If there are still generators at a plant that have both NA subplant_id\n",
    "        and NA unit_id_pudl, we for now assume that each of these generators consitutes its own subplant. We thus assign a unique\n",
    "        subplant_id to each generator that is unique from any existing subplant_id already at the plant.\n",
    "\n",
    "        Args:\n",
    "            subplant_crosswalk: a dataframe containing the output of `epa_crosswalk.make_subplant_ids` with\n",
    "    \"\"\"\n",
    "    # Step 1: Create corrected versions of subplant_id and unit_id_pudl\n",
    "    # if multiple unit_id_pudl are connected by a single subplant_id, unit_id_pudl_connected groups these unit_id_pudl together\n",
    "    subplant_crosswalk = connect_ids(\n",
    "        subplant_crosswalk, id_to_update=\"unit_id_pudl\", connecting_id=\"subplant_id\"\n",
    "    )\n",
    "    # if multiple subplant_id are connected by a single unit_id_pudl, group these subplant_id together\n",
    "    subplant_crosswalk = connect_ids(\n",
    "        subplant_crosswalk, id_to_update=\"subplant_id\", connecting_id=\"unit_id_pudl\"\n",
    "    )\n",
    "\n",
    "    # Step 2: Fill missing subplant_id\n",
    "    # We will use unit_id_pudl to fill missing subplant ids, so first we need to fill any missing unit_id_pudl\n",
    "    # We do this by assigning a new unit_id_pudl to each generator that isn't already grouped into a unit\n",
    "\n",
    "    # create a numeric version of each generator_id\n",
    "    # ngroup() creates a unique number for each element in the group\n",
    "    subplant_crosswalk[\"numeric_generator_id\"] = subplant_crosswalk.groupby(\n",
    "        [\"plant_id_eia\", \"generator_id\"], dropna=False\n",
    "    ).ngroup()\n",
    "    # when filling in missing unit_id_pudl, we don't want these numeric_generator_id to overlap existing unit_id\n",
    "    # to ensure this, we will add 1000 to each of these numeric generator ids to ensure they are unique\n",
    "    subplant_crosswalk[\"numeric_generator_id\"] = (\n",
    "        subplant_crosswalk[\"numeric_generator_id\"] + 1000\n",
    "    )\n",
    "    # fill any missing unit_id_pudl with a number for each unique generator\n",
    "    subplant_crosswalk[\"unit_id_pudl_filled\"] = subplant_crosswalk[\n",
    "        \"unit_id_pudl_connected\"\n",
    "    ].fillna(subplant_crosswalk[\"subplant_id_connected\"] + 100).fillna(\n",
    "        subplant_crosswalk[\"numeric_generator_id\"]\n",
    "    )\n",
    "    # create a new unique subplant_id based on the connected subplant ids and the filled unit_id\n",
    "    subplant_crosswalk[\"new_subplant\"] = subplant_crosswalk.groupby(\n",
    "        [\"plant_id_eia\", \"subplant_id_connected\", \"unit_id_pudl_filled\"],\n",
    "        dropna=False,\n",
    "    ).ngroup()\n",
    "\n",
    "    return subplant_crosswalk\n",
    "\n",
    "\n",
    "def connect_ids(df, id_to_update, connecting_id):\n",
    "    \"\"\"Corrects an id value if it is connected by an id value in another column.\n",
    "\n",
    "    if multiple subplant_id are connected by a single unit_id_pudl, this groups these subplant_id together\n",
    "    if multiple unit_id_pudl are connected by a single subplant_id, this groups these unit_id_pudl together\n",
    "\n",
    "    Args:\n",
    "        df: dataframe containing columns with id_to_update and connecting_id columns\n",
    "        subplant_unit_pairs\n",
    "    \"\"\"\n",
    "\n",
    "    # get a table with all unique subplant to unit pairs\n",
    "    subplant_unit_pairs = df[\n",
    "        [\"plant_id_eia\", \"subplant_id\", \"unit_id_pudl\"]\n",
    "    ].drop_duplicates()\n",
    "\n",
    "    # identify if any non-NA id_to_update are duplicated, indicated that it is associated with multiple connecting_id\n",
    "    duplicates = subplant_unit_pairs[\n",
    "        (subplant_unit_pairs.duplicated(subset=id_to_update, keep=False))\n",
    "        & (~subplant_unit_pairs[id_to_update].isna())\n",
    "    ].copy()\n",
    "\n",
    "    # if there are any duplicate units, indicating an incorrect id_to_update, fix the id_to_update\n",
    "    df[f\"{connecting_id}_connected\"] = df[connecting_id]\n",
    "    if len(duplicates) > 0:\n",
    "        # find the lowest number subplant id associated with each duplicated unit_id_pudl\n",
    "        duplicates.loc[:, f\"{connecting_id}_to_replace\"] = (\n",
    "            duplicates.groupby([\"plant_id_eia\", id_to_update])[connecting_id]\n",
    "            .min()\n",
    "            .iloc[0]\n",
    "        )\n",
    "        # merge this replacement subplant_id into the dataframe and use it to update the existing subplant id\n",
    "        df = df.merge(\n",
    "            duplicates,\n",
    "            how=\"left\",\n",
    "            on=[\"plant_id_eia\", id_to_update, connecting_id],\n",
    "        )\n",
    "        df[f\"{connecting_id}_connected\"].update(df[f\"{connecting_id}_to_replace\"])\n",
    "    return df"
   ]
  },
  {
   "cell_type": "code",
   "execution_count": null,
   "metadata": {},
   "outputs": [],
   "source": [
    "# prepare the subplant crosswalk by adding a complete list of generators and adding the unit_id_pudl column\n",
    "complete_generator_ids = pudl_out.gens_eia860()[\n",
    "    [\"plant_id_eia\", \"generator_id\", \"unit_id_pudl\"]\n",
    "]\n",
    "test = subplant_crosswalk.merge(\n",
    "    complete_generator_ids, how=\"outer\", on=[\"plant_id_eia\", \"generator_id\"]\n",
    ")\n",
    "\n",
    "# test with a small subset\n",
    "#test = test[test[\"plant_id_eia\"].isin([613])].copy()\n",
    "test = test.groupby(\"plant_id_eia\").apply(update_subplant_ids)\n",
    "\n",
    "test"
   ]
  },
  {
   "cell_type": "code",
   "execution_count": null,
   "metadata": {},
   "outputs": [],
   "source": [
    "v = test[[\"plant_id_eia\",\"unit_id_pudl\",\"new_subplant\"]].drop_duplicates()\n",
    "v[v.duplicated(subset=[\"plant_id_eia\",\"unit_id_pudl\"], keep=False) & (~v.unit_id_pudl.isna())]"
   ]
  },
  {
   "cell_type": "code",
   "execution_count": null,
   "metadata": {},
   "outputs": [],
   "source": [
    "test"
   ]
  },
  {
   "cell_type": "code",
   "execution_count": null,
   "metadata": {},
   "outputs": [],
   "source": [
    "test[\"subplant_id\"].update(\n",
    "        test[\"new_subplant\"]\n",
    "    )\n",
    "test.reset_index(drop=True)[\n",
    "        [\n",
    "            \"plant_id_epa\",\n",
    "            \"unitid\",\n",
    "            \"plant_id_eia\",\n",
    "            \"generator_id\",\n",
    "            \"subplant_id\",\n",
    "            \"unit_id_pudl\",\n",
    "        ]\n",
    "    ]"
   ]
  },
  {
   "cell_type": "code",
   "execution_count": null,
   "metadata": {},
   "outputs": [],
   "source": [
    "test[test.plant_id_eia == 2379]"
   ]
  },
  {
   "cell_type": "code",
   "execution_count": null,
   "metadata": {},
   "outputs": [],
   "source": [
    "# prepare the subplant crosswalk by adding a complete list of generators and adding the unit_id_pudl column\n",
    "complete_generator_ids = pudl_out.gens_eia860()[\n",
    "    [\"plant_id_eia\", \"generator_id\", \"unit_id_pudl\"]\n",
    "]\n",
    "test = subplant_crosswalk.merge(\n",
    "    complete_generator_ids, how=\"outer\", on=[\"plant_id_eia\", \"generator_id\"]\n",
    ")\n",
    "\n",
    "# get a table with all unique subplant to unit pairs\n",
    "subplant_unit_pairs = test[\n",
    "    [\"plant_id_eia\", \"subplant_id\", \"unit_id_pudl\"]\n",
    "].drop_duplicates()\n",
    "# identify if any non-NA unit_id_pudl are duplicated, indicated that it is associated with multiple subplant_id\n",
    "duplicate_unit = subplant_unit_pairs[\n",
    "    (subplant_unit_pairs.duplicated(subset=[\"plant_id_eia\",\"subplant_id\"], keep=False))\n",
    "    & (~subplant_unit_pairs[\"subplant_id\"].isna())\n",
    "]\n",
    "duplicate_unit"
   ]
  },
  {
   "cell_type": "code",
   "execution_count": null,
   "metadata": {},
   "outputs": [],
   "source": [
    "# TODO: Figure out how to ensure new subplant matches subplant ID when split across unit with NA\n",
    "# Plant 613 issue"
   ]
  },
  {
   "cell_type": "code",
   "execution_count": null,
   "metadata": {},
   "outputs": [],
   "source": [
    "# update the subplant_id with the new_subplant\n",
    "test[\"subplant_id\"].update(test[\"new_subplant\"])\n",
    "\n",
    "# remove intermediate columns, keeping the unit_id_pudl column\n",
    "test = test.reset_index(drop=True)[[\"plant_id_epa\",\"unitid\",\"plant_id_eia\",\"generator_id\",\"subplant_id\",\"unit_id_pudl\"]]"
   ]
  },
  {
   "cell_type": "code",
   "execution_count": null,
   "metadata": {},
   "outputs": [],
   "source": [
    "# how many subplant_id have changed?\n",
    "test[(~test[\"subplant_id\"].isna()) & (test[\"subplant_id\"] != test[\"new_subplant\"])]"
   ]
  },
  {
   "cell_type": "code",
   "execution_count": null,
   "metadata": {},
   "outputs": [],
   "source": [
    "test[test.plant_id_eia == 1]"
   ]
  },
  {
   "cell_type": "markdown",
   "metadata": {},
   "source": [
    "# Test in pipeline"
   ]
  },
  {
   "cell_type": "code",
   "execution_count": null,
   "metadata": {},
   "outputs": [],
   "source": [
    "number_of_years = 2\n",
    "data_cleaning.identify_subplants(year, number_of_years)"
   ]
  },
  {
   "cell_type": "code",
   "execution_count": null,
   "metadata": {},
   "outputs": [],
   "source": [
    "subplant_crosswalk = pd.read_csv(f'{outputs_folder()}{path_prefix}/subplant_crosswalk_{year}.csv', dtype=get_dtypes())"
   ]
  },
  {
   "cell_type": "code",
   "execution_count": null,
   "metadata": {},
   "outputs": [],
   "source": [
    "print(\"3. Cleaning EIA-923 data\")\n",
    "eia923_allocated, primary_fuel_table = data_cleaning.clean_eia923(year, False)"
   ]
  },
  {
   "cell_type": "code",
   "execution_count": null,
   "metadata": {},
   "outputs": [],
   "source": [
    "eia923_allocated[eia923_allocated.subplant_id.isna()]"
   ]
  },
  {
   "cell_type": "code",
   "execution_count": null,
   "metadata": {},
   "outputs": [],
   "source": [
    "validation.test_for_missing_subplant_id(eia923_allocated)"
   ]
  },
  {
   "cell_type": "code",
   "execution_count": null,
   "metadata": {},
   "outputs": [],
   "source": [
    "start_year = year - (number_of_years - 1)\n",
    "end_year = year\n",
    "\n",
    "print(\"    Creating subplant IDs\")\n",
    "# load 5 years of monthly data from CEMS\n",
    "cems_ids = load_data.load_cems_ids(start_year, end_year)"
   ]
  },
  {
   "cell_type": "code",
   "execution_count": null,
   "metadata": {},
   "outputs": [],
   "source": [
    "cems_ids[cems_ids[\"plant_id_eia\"] == 8]"
   ]
  },
  {
   "cell_type": "code",
   "execution_count": null,
   "metadata": {},
   "outputs": [],
   "source": [
    "import pudl.analysis.allocate_net_gen as allocate_gen_fuel\n",
    "import pudl.analysis.epa_crosswalk as epa_crosswalk\n",
    "import pudl.output.pudltabl"
   ]
  },
  {
   "cell_type": "code",
   "execution_count": null,
   "metadata": {},
   "outputs": [],
   "source": [
    "# load the crosswalk and filter it by the data that actually exists in cems\n",
    "crosswalk = pudl.output.epacems.epa_crosswalk()\n",
    "\n",
    "# update the crosswalk with manual matches\n",
    "crosswalk = data_cleaning.manual_crosswalk_updates(crosswalk)\n",
    "\n",
    "# strip leading zeros\n",
    "crosswalk[\"CAMD_UNIT_ID\"] = crosswalk[\"CAMD_UNIT_ID\"].str.lstrip(\"0\")\n",
    "crosswalk[\"EIA_GENERATOR_ID\"] = crosswalk[\"EIA_GENERATOR_ID\"].str.lstrip(\"0\")\n",
    "\n",
    "# filter the crosswalk to drop any units that don't exist in CEMS\n",
    "filtered_crosswalk = epa_crosswalk.filter_crosswalk(crosswalk, cems_ids)[\n",
    "    [\n",
    "        \"plant_id_eia\",\n",
    "        \"unitid\",\n",
    "        \"CAMD_PLANT_ID\",\n",
    "        \"CAMD_UNIT_ID\",\n",
    "        \"CAMD_GENERATOR_ID\",\n",
    "        \"EIA_PLANT_ID\",\n",
    "        \"EIA_GENERATOR_ID\",\n",
    "    ]\n",
    "]\n",
    "\n",
    "# change the plant id to an int\n",
    "filtered_crosswalk[\"EIA_PLANT_ID\"] = filtered_crosswalk[\"EIA_PLANT_ID\"].astype(int)\n",
    "\n",
    "# filter to generators that exist in the EIA data\n",
    "# load a list of unique generator ids that exist in EIA\n",
    "pudl_out = load_data.initialize_pudl_out(year=None)\n",
    "gens_eia860 = pudl_out.gens_eia860()\n",
    "unique_eia_ids = gens_eia860[[\"plant_id_eia\", \"generator_id\"]].drop_duplicates()\n",
    "filtered_crosswalk = unique_eia_ids.merge(\n",
    "    filtered_crosswalk,\n",
    "    left_on=[\"plant_id_eia\", \"generator_id\"],\n",
    "    right_on=[\"EIA_PLANT_ID\", \"EIA_GENERATOR_ID\"],\n",
    "    how=\"inner\",\n",
    "    suffixes=(\"_actual\", None),\n",
    "    validate=\"1:m\",\n",
    ").drop(columns=[\"plant_id_eia_actual\", \"generator_id\"])"
   ]
  },
  {
   "cell_type": "code",
   "execution_count": null,
   "metadata": {},
   "outputs": [],
   "source": [
    "filtered_crosswalk[filtered_crosswalk[\"plant_id_eia\"] == 8]"
   ]
  },
  {
   "cell_type": "code",
   "execution_count": null,
   "metadata": {},
   "outputs": [],
   "source": [
    "crosswalk_with_subplant_ids = epa_crosswalk.make_subplant_ids(filtered_crosswalk)\n",
    "\n",
    "# fix the column names\n",
    "crosswalk_with_subplant_ids = crosswalk_with_subplant_ids.drop(\n",
    "    columns=[\"plant_id_eia\", \"unitid\", \"CAMD_GENERATOR_ID\"]\n",
    ")\n",
    "crosswalk_with_subplant_ids = crosswalk_with_subplant_ids.rename(\n",
    "    columns={\n",
    "        \"CAMD_PLANT_ID\": \"plant_id_epa\",\n",
    "        \"EIA_PLANT_ID\": \"plant_id_eia\",\n",
    "        \"CAMD_UNIT_ID\": \"unitid\",\n",
    "        \"EIA_GENERATOR_ID\": \"generator_id\",\n",
    "    }\n",
    ")\n",
    "# change the eia plant id to int\n",
    "crosswalk_with_subplant_ids[\"plant_id_eia\"] = crosswalk_with_subplant_ids[\n",
    "    \"plant_id_eia\"\n",
    "].astype(int)\n",
    "\n",
    "# change the order of the columns\n",
    "crosswalk_with_subplant_ids = crosswalk_with_subplant_ids[\n",
    "    [\"plant_id_epa\", \"unitid\", \"plant_id_eia\", \"generator_id\", \"subplant_id\"]\n",
    "]"
   ]
  },
  {
   "cell_type": "code",
   "execution_count": null,
   "metadata": {},
   "outputs": [],
   "source": [
    "crosswalk_with_subplant_ids[crosswalk_with_subplant_ids[\"plant_id_eia\"] == 8]"
   ]
  },
  {
   "cell_type": "code",
   "execution_count": null,
   "metadata": {},
   "outputs": [],
   "source": [
    "# update the subplant_crosswalk to ensure completeness\n",
    "# prepare the subplant crosswalk by adding a complete list of generators and adding the unit_id_pudl column\n",
    "complete_generator_ids = pudl_out.gens_eia860()[\n",
    "    [\"plant_id_eia\", \"generator_id\", \"unit_id_pudl\"]\n",
    "].drop_duplicates()\n",
    "subplant_crosswalk_complete = crosswalk_with_subplant_ids.merge(\n",
    "    complete_generator_ids, how=\"outer\", on=[\"plant_id_eia\", \"generator_id\"]\n",
    ")"
   ]
  },
  {
   "cell_type": "code",
   "execution_count": null,
   "metadata": {},
   "outputs": [],
   "source": [
    "subplant_crosswalk_complete[subplant_crosswalk_complete[\"plant_id_eia\"] == 8]"
   ]
  },
  {
   "cell_type": "code",
   "execution_count": null,
   "metadata": {},
   "outputs": [],
   "source": [
    "complete_generator_ids[complete_generator_ids[\"plant_id_eia\"] == 8]"
   ]
  },
  {
   "cell_type": "code",
   "execution_count": null,
   "metadata": {},
   "outputs": [],
   "source": [
    "gens = pudl_out.gens_eia860()"
   ]
  },
  {
   "cell_type": "code",
   "execution_count": null,
   "metadata": {},
   "outputs": [],
   "source": [
    "gens[gens[\"plant_id_eia\"] == 8]"
   ]
  },
  {
   "cell_type": "code",
   "execution_count": null,
   "metadata": {},
   "outputs": [],
   "source": [
    "subplant_crosswalk = pd.read_csv(\n",
    "        outputs_folder(f\"{year}/subplant_crosswalk_{year}.csv\"),\n",
    "        dtype=get_dtypes(),\n",
    "    )[[\"plant_id_eia\", \"unitid\", \"subplant_id\"]].drop_duplicates().dropna()"
   ]
  },
  {
   "cell_type": "code",
   "execution_count": null,
   "metadata": {},
   "outputs": [],
   "source": [
    "subplant_crosswalk"
   ]
  },
  {
   "cell_type": "code",
   "execution_count": null,
   "metadata": {},
   "outputs": [],
   "source": [
    "test1[test1.duplicated(subset=[\"plant_id_eia\",\"unitid\"])]"
   ]
  }
 ],
 "metadata": {
  "kernelspec": {
   "display_name": "Python 3.10.4 ('open_grid_emissions')",
   "language": "python",
   "name": "python3"
  },
  "language_info": {
   "codemirror_mode": {
    "name": "ipython",
    "version": 3
   },
   "file_extension": ".py",
   "mimetype": "text/x-python",
   "name": "python",
   "nbconvert_exporter": "python",
   "pygments_lexer": "ipython3",
   "version": "3.10.4"
  },
  "orig_nbformat": 4,
  "vscode": {
   "interpreter": {
    "hash": "25e36f192ecdbe5da57d9bea009812e7b11ef0e0053366a845a2802aae1b29d2"
   }
  }
 },
 "nbformat": 4,
 "nbformat_minor": 2
}
