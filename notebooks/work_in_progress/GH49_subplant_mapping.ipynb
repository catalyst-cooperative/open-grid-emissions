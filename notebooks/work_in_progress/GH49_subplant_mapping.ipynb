{
 "cells": [
  {
   "cell_type": "markdown",
   "metadata": {},
   "source": [
    "This notebook is set up to test code as needed."
   ]
  },
  {
   "cell_type": "code",
   "execution_count": null,
   "metadata": {},
   "outputs": [],
   "source": [
    "# import packages\n",
    "import pandas as pd\n",
    "import numpy as np\n",
    "import os\n",
    "\n",
    "%reload_ext autoreload\n",
    "%autoreload 2\n",
    "\n",
    "# # Tell python where to look for modules.\n",
    "import sys\n",
    "sys.path.append('../../../open-grid-emissions/src/')\n",
    "\n",
    "import download_data\n",
    "import load_data\n",
    "from column_checks import get_dtypes\n",
    "from filepaths import *\n",
    "import impute_hourly_profiles\n",
    "import data_cleaning\n",
    "import output_data\n",
    "import emissions\n",
    "import validation\n",
    "import gross_to_net_generation\n",
    "import eia930\n",
    "\n",
    "year = 2020\n",
    "path_prefix = f\"{year}/\""
   ]
  },
  {
   "cell_type": "markdown",
   "metadata": {},
   "source": [
    "# NOTES\n",
    "- plant 1391 is an example of where a single `unit_id_pudl` is assigned multiple subplants\n",
    "- plant 10745 is an example of where a `unit_id_pudl` overlaps multiple `subplant_id`       \n",
    "\n",
    "## The goal\n",
    "Make sure that there are no NA subplant IDs\n",
    "Ensure some harmonization between subplant_id and unit_id_pudl\n",
    "\n",
    "TODO:\n",
    " - I've now created code that updates the subplant id of units in the EIA-923 table, but now I need to incorporate this into the pipeline. I don't necessarily need to use EIA-923 allocated except that it should include all generators. Maybe I want to start with an EIA-860 table and do an outer join with the existing subplant table"
   ]
  },
  {
   "cell_type": "code",
   "execution_count": null,
   "metadata": {},
   "outputs": [],
   "source": [
    "import sqlalchemy as sa\n",
    "import pudl.output.pudltabl"
   ]
  },
  {
   "cell_type": "code",
   "execution_count": null,
   "metadata": {},
   "outputs": [],
   "source": [
    "year = 2020\n",
    "number_of_years = 1\n",
    "start_year = year - (number_of_years - 1)\n",
    "end_year = year\n",
    "\n",
    "print(\"    Creating subplant IDs\")\n",
    "# load 5 years of monthly data from CEMS\n",
    "cems_monthly = load_data.load_cems_gross_generation(start_year, end_year)"
   ]
  },
  {
   "cell_type": "code",
   "execution_count": null,
   "metadata": {},
   "outputs": [],
   "source": [
    "# load data\n",
    "pudl_out = load_data.initialize_pudl_out(year)\n",
    "bga = pudl_out.bga_eia860()\n",
    "gens = pudl_out.gens_eia860()\n",
    "\n",
    "eia923_allocated = pd.read_csv(f'{outputs_folder()}{path_prefix}/eia923_allocated_{year}.csv', dtype=get_dtypes())\n",
    "\n",
    "# add unit ids to the allocated EIA-923 data\n",
    "eia923_allocated = eia923_allocated.merge(bga[[\"plant_id_eia\",\"generator_id\",\"unit_id_pudl\"]].drop_duplicates(), how=\"left\", on=[\"plant_id_eia\",\"generator_id\"], validate=\"m:1\")\n",
    "#gens[[\"plant_id_eia\",\"generator_id\",\"unit_id_pudl\"]]"
   ]
  },
  {
   "cell_type": "code",
   "execution_count": null,
   "metadata": {},
   "outputs": [],
   "source": [
    "gens.columns"
   ]
  },
  {
   "cell_type": "code",
   "execution_count": null,
   "metadata": {},
   "outputs": [],
   "source": [
    "bga[[\"plant_id_eia\",\"generator_id\",\"unit_id_pudl\"]].drop_duplicates()"
   ]
  },
  {
   "cell_type": "code",
   "execution_count": null,
   "metadata": {},
   "outputs": [],
   "source": [
    "eia923_allocated[eia923_allocated[\"subplant_id\"].isna() & ~eia923_allocated[\"unit_id_pudl\"].isna()].sample(20)"
   ]
  },
  {
   "cell_type": "code",
   "execution_count": null,
   "metadata": {},
   "outputs": [],
   "source": [
    "test = eia923_allocated[eia923_allocated[\"plant_id_eia\"] == 10745].copy()\n",
    "test"
   ]
  },
  {
   "cell_type": "code",
   "execution_count": null,
   "metadata": {},
   "outputs": [],
   "source": [
    "test = eia923_allocated[eia923_allocated[\"plant_id_eia\"] == 10]\n",
    "subplant_unit_overlap = test[[\"plant_id_eia\",\"subplant_id\",\"unit_id_pudl\"]].drop_duplicates()\n",
    "duplicate_unit = subplant_unit_overlap[(subplant_unit_overlap.duplicated(subset=\"unit_id_pudl\", keep=False)) & (~subplant_unit_overlap[\"unit_id_pudl\"].isna())]\n",
    "duplicate_unit"
   ]
  },
  {
   "cell_type": "code",
   "execution_count": null,
   "metadata": {},
   "outputs": [],
   "source": [
    "def create_updated_subplant_id(test):\n",
    "    \"\"\"\n",
    "    Updates the subplant id.\n",
    "        1. Because the current subplant_id code does not take boiler-generator associations into account, \n",
    "        there may be instances where the code assigns generators to different subplants when in fact, according\n",
    "        to the boiler-generator association table, these generators are grouped into a single unit based on their\n",
    "        boiler associations. The first step of this function is thus to identify if multiple subplant_id have \n",
    "        been assigned to a single unit_id_pudl. If so, we replace the existing subplant_ids with a single subplant_id.\n",
    "        For example, if a generator A was assigned subplant_id 0 and generator B was assigned subplant_id 1, but \n",
    "        both generators A and B are part of unit_id_pudl 1, we would re-assign the subplant_id to both generators to\n",
    "        0 (we always use the lowest number subplant_id in each unit_id_pudl group). This may result in some subplant_id\n",
    "        being skipped, but this is okay because we will later renumber all subplant ids (i.e. if there were also a\n",
    "        generator C with subplant_id 2, there would no be no subplant_id 1 at the plant)\n",
    "        2. The second issue is that there are many NA subplant_id that we should fill. To do this, we first look at \n",
    "        unit_id_pudl. If a group of generators are assigned a unit_id_pudl but have NA subplant_ids, we assign a single \n",
    "        new subplant_id to this group of generators. If there are still generators at a plant that have both NA subplant_id\n",
    "        and NA unit_id_pudl, we for now assume that each of these generators consitutes its own subplant. We thus assign a unique\n",
    "        subplant_id to each generator that is unique from any existing subplant_id already at the plant. \n",
    "\n",
    "        Args:\n",
    "            test: a dataframe with columns for [\"plant_id_eia\",\"subplant_id\",\"unit_id_pudl\", \"generator_id]\n",
    "    \"\"\"\n",
    "    # Step 1: check whether we need to use unit_id_pudl to update any grouped generators that had \n",
    "    # been mistakenly separated into separate subplants\n",
    "\n",
    "    # get a table with all unique subplant to unit pairs\n",
    "    subplant_unit_pairs = test[[\"plant_id_eia\",\"subplant_id\",\"unit_id_pudl\"]].drop_duplicates()\n",
    "    # identify if any non-NA unit_id_pudl are duplicated, indicated that it is associated with multiple subplant_id\n",
    "    duplicate_unit = subplant_unit_pairs[(subplant_unit_pairs.duplicated(subset=\"unit_id_pudl\", keep=False)) & (~subplant_unit_pairs[\"unit_id_pudl\"].isna())]\n",
    "    # if there are any duplicate units, indicating an incorrect subplant id, fix the subplant id\n",
    "    test[\"subplant_id_unit_corrected\"] = test[\"subplant_id\"]\n",
    "    if len(duplicate_unit) > 0:\n",
    "        # TODO: Remove this print statement\n",
    "        #print(duplicate_unit)\n",
    "        # find the lowest number subplant id associated with each duplicated unit_id_pudl\n",
    "        replacement_subplant_id = duplicate_unit.groupby([\"plant_id_eia\",\"unit_id_pudl\"])[\"subplant_id\"].min().reset_index()\n",
    "        # merge this replacement subplant_id into the dataframe and use it to update the existing subplant id\n",
    "        test = test.merge(replacement_subplant_id, how=\"left\", on=[\"plant_id_eia\",\"unit_id_pudl\"], suffixes=(None,\"_to_replace\"))\n",
    "        test[\"subplant_id_unit_corrected\"].update(test[\"subplant_id_to_replace\"])\n",
    "    \n",
    "    # Step 2: Fill missing subplant_id\n",
    "    # We will use unit_id_pudl to fill missing subplant ids, so first we need to fill any missing unit_id_pudl\n",
    "    # We do this by assigning a new unit_id_pudl to each generator that isn't already grouped into a unit\n",
    "    \n",
    "    # create a numeric version of each generator_id\n",
    "    # ngroup() creates a unique number for each element in the group\n",
    "    test[\"numeric_generator_id\"] = test.groupby([\"plant_id_eia\",\"generator_id\"], dropna=False).ngroup()\n",
    "    # when filling in missing unit_id_pudl, we don't want these numeric_generator_id to overlap existing unit_id\n",
    "    # to ensure this, we will add 1000 to each of these numeric generator ids to ensure they are unique\n",
    "    test[\"numeric_generator_id\"] = test[\"numeric_generator_id\"] + 1000\n",
    "    # fill any missing unit_id_pudl with a number for each unique generator\n",
    "    test[\"unit_id_pudl_filled\"] = test[\"unit_id_pudl\"].fillna(test[\"numeric_generator_id\"]) # - numeric_generator_id_shift\n",
    "    # create a new unique subplant_id based on the corrected subplant ids and the filled unit_id\n",
    "    test[\"new_subplant\"] = test.groupby([\"plant_id_eia\",\"subplant_id_unit_corrected\",\"unit_id_pudl_filled\"], dropna=False).ngroup()\n",
    "\n",
    "    # test that the subplant_id assignment is stably assigned to the same generator_id for the entire year\n",
    "    validate_stable_id = test[[\"plant_id_eia\",\"new_subplant\",\"generator_id\"]].drop_duplicates()\n",
    "    validate_stable_id = validate_stable_id[validate_stable_id.duplicated(keep=False)]\n",
    "    if len(validate_stable_id) > 0:\n",
    "        print(\"WARNING: ID NOT STABLE\")\n",
    "        print(validate_stable_id)\n",
    "\n",
    "    return test"
   ]
  },
  {
   "cell_type": "code",
   "execution_count": null,
   "metadata": {},
   "outputs": [],
   "source": [
    "# test with a small subset\n",
    "test = eia923_allocated#[eia923_allocated[\"plant_id_eia\"].isin([2410])].copy()\n",
    "test = test.groupby(\"plant_id_eia\").apply(create_updated_subplant_id)\n",
    "test"
   ]
  },
  {
   "cell_type": "code",
   "execution_count": null,
   "metadata": {},
   "outputs": [],
   "source": [
    "test[(test[\"plant_id_eia\"] == 57185) & (test[\"report_date\"] == \"2020-06-01\")]"
   ]
  },
  {
   "cell_type": "code",
   "execution_count": null,
   "metadata": {},
   "outputs": [],
   "source": [
    "validate_stable_id = test[[\"new_subplant\",\"generator_id\"]].drop_duplicates()\n",
    "validate_stable_id[validate_stable_id.duplicated(keep=False)]"
   ]
  },
  {
   "cell_type": "code",
   "execution_count": null,
   "metadata": {},
   "outputs": [],
   "source": [
    "test.head(20)"
   ]
  },
  {
   "cell_type": "code",
   "execution_count": null,
   "metadata": {},
   "outputs": [],
   "source": [
    "# test with a small subset\n",
    "test = eia923_allocated[eia923_allocated[\"plant_id_eia\"].isin([7242])].copy()\n",
    "test = test.groupby(\"plant_id_eia\").apply(create_updated_subplant_id)\n",
    "test"
   ]
  },
  {
   "cell_type": "code",
   "execution_count": null,
   "metadata": {},
   "outputs": [],
   "source": [
    "# test for a single plant\n",
    "create_updated_subplant_id(eia923_allocated[eia923_allocated[\"plant_id_eia\"] == 10745].copy())"
   ]
  },
  {
   "cell_type": "code",
   "execution_count": null,
   "metadata": {},
   "outputs": [],
   "source": [
    "# test for a single plant\n",
    "create_updated_subplant_id(eia923_allocated[eia923_allocated[\"plant_id_eia\"] == 10745].copy())"
   ]
  },
  {
   "cell_type": "code",
   "execution_count": null,
   "metadata": {},
   "outputs": [],
   "source": [
    "test = eia923_allocated[eia923_allocated[\"plant_id_eia\"] == 10745].copy()\n",
    "\n",
    "# check whether there are multiple subplants associated with a single unit id\n",
    "subplant_unit_overlap = test[[\"plant_id_eia\",\"subplant_id\",\"unit_id_pudl\"]].drop_duplicates()\n",
    "duplicate_unit = subplant_unit_overlap[(subplant_unit_overlap.duplicated(subset=\"unit_id_pudl\", keep=False)) & (~subplant_unit_overlap[\"unit_id_pudl\"].isna())]\n",
    "duplicate_unit"
   ]
  },
  {
   "cell_type": "code",
   "execution_count": null,
   "metadata": {},
   "outputs": [],
   "source": []
  },
  {
   "cell_type": "code",
   "execution_count": null,
   "metadata": {},
   "outputs": [],
   "source": [
    "test"
   ]
  },
  {
   "cell_type": "code",
   "execution_count": null,
   "metadata": {},
   "outputs": [],
   "source": [
    "smallest_filled_unit_id.fillna(0)"
   ]
  },
  {
   "cell_type": "code",
   "execution_count": null,
   "metadata": {},
   "outputs": [],
   "source": [
    "pd.isna(smallest_filled_unit_id)"
   ]
  }
 ],
 "metadata": {
  "kernelspec": {
   "display_name": "Python 3.10.4 ('open_grid_emissions')",
   "language": "python",
   "name": "python3"
  },
  "language_info": {
   "codemirror_mode": {
    "name": "ipython",
    "version": 3
   },
   "file_extension": ".py",
   "mimetype": "text/x-python",
   "name": "python",
   "nbconvert_exporter": "python",
   "pygments_lexer": "ipython3",
   "version": "3.10.4"
  },
  "orig_nbformat": 4,
  "vscode": {
   "interpreter": {
    "hash": "25e36f192ecdbe5da57d9bea009812e7b11ef0e0053366a845a2802aae1b29d2"
   }
  }
 },
 "nbformat": 4,
 "nbformat_minor": 2
}
