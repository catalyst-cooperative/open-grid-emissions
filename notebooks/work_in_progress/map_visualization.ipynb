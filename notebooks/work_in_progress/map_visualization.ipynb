{
 "cells": [
  {
   "cell_type": "markdown",
   "metadata": {},
   "source": [
    "# Maps for announcement blog post\n",
    "\n",
    "Visualization 2: The carbon intensity of consumed electricity differs from generated electricity\n",
    "* Show a static carbon flow map focused on a single BA plus all directly-interconnected BAs\n",
    "* Pick an hour when there is some particularly dirty electricity getting imported\n",
    "* Each BA would be represented by a bubble, where the color changes based on carbon intensity, and carbon flows would be represented by colored arrows between the bubbles. \n",
    "* To illustrate the difference between produced and consumed, we might want to have a pair of bubbles for each BA - one that shows the produced CI and one that shows the consumed CI. If we do this, we probably don’t want to vary the size of each bubble based on total generation. Or maybe we could do a split bubble - the top half shows produced CI and the bottom shows consumed CI.\n",
    "\n",
    "\n",
    "Visualization 3: Animating hourly and consumed emissions for the whole county\n",
    "* This animation should put the previous two concepts together and show how carbon flows and how CI changes across the entire country for a single day (or a week?)\n",
    "* We could also potentially have two maps side by side: one that shows annual averages in bubbles (with no carbon flow), and one that shows the animated hourly flow (to really draw the distinction between annual and hourly datasets)\n"
   ]
  },
  {
   "cell_type": "code",
   "execution_count": 1,
   "metadata": {},
   "outputs": [],
   "source": [
    "import plotly.express as px\n",
    "import plotly.graph_objects as go\n",
    "import plotly.io as pio\n",
    "import os\n",
    "import pandas as pd\n",
    "import numpy as np\n"
   ]
  },
  {
   "cell_type": "code",
   "execution_count": 2,
   "metadata": {},
   "outputs": [],
   "source": [
    "%reload_ext autoreload\n",
    "%autoreload 2\n",
    "\n",
    "# # Tell python where to look for modules.\n",
    "import sys\n",
    "\n",
    "sys.path.append(\"../../src/\")\n",
    "\n",
    "import output_data"
   ]
  },
  {
   "cell_type": "code",
   "execution_count": 3,
   "metadata": {},
   "outputs": [],
   "source": [
    "ba_coords = pd.read_csv(\"../../data/manual/ba_coords.csv\", index_col=0, dtype={\"cx\":np.float64, \"cy\":np.float64})\n",
    "ba_meta = pd.read_csv(\"../../data/manual/ba_reference.csv\", index_col=0)"
   ]
  },
  {
   "cell_type": "code",
   "execution_count": 4,
   "metadata": {},
   "outputs": [],
   "source": [
    "# Note: 150+ BAs are not in ba_coords\n",
    "ba_list = ba_meta[(ba_meta.ba_category != \"misellaneous\") & (ba_meta.us_ba) & (ba_meta.index.isin(ba_coords.index))].index\n",
    "ba_list = [ba for ba in ba_list if (f\"{ba}.csv\" in os.listdir(\"../../data/results/2020/power_sector_data/hourly/us_units/\"))]"
   ]
  },
  {
   "cell_type": "code",
   "execution_count": 5,
   "metadata": {},
   "outputs": [],
   "source": [
    "hour = \"2020-08-01T00:00+00\"\n",
    "range_start = \"2020-08-01T00:00+00\"\n",
    "range_end = \"2020-08-7T23:00+00\""
   ]
  },
  {
   "cell_type": "code",
   "execution_count": 6,
   "metadata": {},
   "outputs": [],
   "source": [
    "cleaned_io = pd.read_csv(\"../../data/outputs/2020/eia930/eia930_elec.csv\", index_col=0, parse_dates=True)\n",
    "cleaned_io = cleaned_io[[c for c in cleaned_io.columns if \".ID.\" in c]]"
   ]
  },
  {
   "cell_type": "code",
   "execution_count": 7,
   "metadata": {},
   "outputs": [],
   "source": [
    "ID_COL = \"EBA.%s-%s.ID.H\""
   ]
  },
  {
   "cell_type": "code",
   "execution_count": 8,
   "metadata": {},
   "outputs": [],
   "source": [
    "all = []\n",
    "for ba in ba_list:\n",
    "    produced = pd.read_csv(f\"../../data/results/2020/power_sector_data/hourly/us_units/{ba}.csv\", index_col=\"datetime_utc\", parse_dates=True, usecols=[\"datetime_utc\",\"fuel_category\", \"net_generation_mwh\", \"generated_co2_rate_lb_per_mwh_for_electricity\"])\n",
    "    produced = produced[produced.fuel_category == \"total\"]\n",
    "    produced = produced.drop(columns=[\"fuel_category\"])\n",
    "    \n",
    "    if ba_meta.loc[ba,\"ba_category\"] == \"generation_only\":\n",
    "        consumed = pd.DataFrame(index=produced.index, columns=[[\"consumed_co2_rate_lb_per_mwh_for_electricity\"]], dtype=np.float64)\n",
    "    else:\n",
    "        consumed = pd.read_csv(f\"../../data/results/2020/carbon_accounting/hourly/us_units/{ba}.csv\", index_col=\"datetime_utc\", parse_dates=True, usecols=[\"datetime_utc\", \"consumed_co2_rate_lb_per_mwh_for_electricity\"])\n",
    "    consumed.columns = consumed.columns.get_level_values(0)\n",
    "\n",
    "    both = pd.concat([produced, consumed], axis='columns')\n",
    "    #both = both.loc[range_start:range_end]\n",
    "    both = both.reset_index()\n",
    "    both[\"BA\"] = ba\n",
    "    all.append(both)\n",
    "\n",
    "all = pd.concat(all)"
   ]
  },
  {
   "cell_type": "code",
   "execution_count": 9,
   "metadata": {},
   "outputs": [],
   "source": [
    "# Add coordinates\n",
    "all = all.merge(ba_coords, how='left', validate='many_to_one', left_on=\"BA\", right_index=True)"
   ]
  },
  {
   "cell_type": "code",
   "execution_count": 10,
   "metadata": {},
   "outputs": [
    {
     "data": {
      "text/html": [
       "<div>\n",
       "<style scoped>\n",
       "    .dataframe tbody tr th:only-of-type {\n",
       "        vertical-align: middle;\n",
       "    }\n",
       "\n",
       "    .dataframe tbody tr th {\n",
       "        vertical-align: top;\n",
       "    }\n",
       "\n",
       "    .dataframe thead th {\n",
       "        text-align: right;\n",
       "    }\n",
       "</style>\n",
       "<table border=\"1\" class=\"dataframe\">\n",
       "  <thead>\n",
       "    <tr style=\"text-align: right;\">\n",
       "      <th></th>\n",
       "      <th>datetime_utc</th>\n",
       "      <th>net_generation_mwh</th>\n",
       "      <th>generated_co2_rate_lb_per_mwh_for_electricity</th>\n",
       "      <th>consumed_co2_rate_lb_per_mwh_for_electricity</th>\n",
       "      <th>BA</th>\n",
       "      <th>cx</th>\n",
       "      <th>cy</th>\n",
       "      <th>difference</th>\n",
       "    </tr>\n",
       "  </thead>\n",
       "  <tbody>\n",
       "    <tr>\n",
       "      <th>6440</th>\n",
       "      <td>2020-09-25 12:00:00+00:00</td>\n",
       "      <td>13300.68</td>\n",
       "      <td>486.697194</td>\n",
       "      <td>627.992661</td>\n",
       "      <td>CISO</td>\n",
       "      <td>60.0</td>\n",
       "      <td>270.0</td>\n",
       "      <td>141.295467</td>\n",
       "    </tr>\n",
       "  </tbody>\n",
       "</table>\n",
       "</div>"
      ],
      "text/plain": [
       "                  datetime_utc  net_generation_mwh  generated_co2_rate_lb_per_mwh_for_electricity  consumed_co2_rate_lb_per_mwh_for_electricity    BA    cx     cy  difference\n",
       "6440 2020-09-25 12:00:00+00:00            13300.68                                     486.697194                                    627.992661  CISO  60.0  270.0  141.295467"
      ]
     },
     "execution_count": 10,
     "metadata": {},
     "output_type": "execute_result"
    }
   ],
   "source": [
    "tester = (all[all.BA==\"CISO\"]).copy()\n",
    "tester[\"difference\"] = tester.consumed_co2_rate_lb_per_mwh_for_electricity - tester.generated_co2_rate_lb_per_mwh_for_electricity\n",
    "tester.difference.abs().max()\n",
    "tester[tester.difference == tester.difference.abs().max()]"
   ]
  },
  {
   "cell_type": "code",
   "execution_count": 11,
   "metadata": {},
   "outputs": [],
   "source": [
    "# Hour with max CISO difference \n",
    "hour = '2020-09-25 12:00:00+00:00'"
   ]
  },
  {
   "cell_type": "code",
   "execution_count": 12,
   "metadata": {},
   "outputs": [
    {
     "name": "stdout",
     "output_type": "stream",
     "text": [
      "2020-08-01 01:00:00+00:00...2020-08-01 02:00:00+00:00...2020-08-01 03:00:00+00:00...2020-08-01 04:00:00+00:00...2020-08-01 05:00:00+00:00...2020-08-01 06:00:00+00:00...2020-08-01 07:00:00+00:00...2020-08-01 08:00:00+00:00...2020-08-01 09:00:00+00:00...2020-08-01 10:00:00+00:00...2020-08-01 11:00:00+00:00...2020-08-01 12:00:00+00:00...2020-08-01 13:00:00+00:00...2020-08-01 14:00:00+00:00...2020-08-01 15:00:00+00:00...2020-08-01 16:00:00+00:00...2020-08-01 17:00:00+00:00...2020-08-01 18:00:00+00:00...2020-08-01 19:00:00+00:00...2020-08-01 20:00:00+00:00...2020-08-01 21:00:00+00:00...2020-08-01 22:00:00+00:00...2020-08-01 23:00:00+00:00...2020-08-02 00:00:00+00:00...2020-08-02 01:00:00+00:00...2020-08-02 02:00:00+00:00...2020-08-02 03:00:00+00:00...2020-08-02 04:00:00+00:00...2020-08-02 05:00:00+00:00...2020-08-02 06:00:00+00:00...2020-08-02 07:00:00+00:00...2020-08-02 08:00:00+00:00...2020-08-02 09:00:00+00:00...2020-08-02 10:00:00+00:00...2020-08-02 11:00:00+00:00...2020-08-02 12:00:00+00:00...2020-08-02 13:00:00+00:00...2020-08-02 14:00:00+00:00...2020-08-02 15:00:00+00:00...2020-08-02 16:00:00+00:00...2020-08-02 17:00:00+00:00...2020-08-02 18:00:00+00:00...2020-08-02 19:00:00+00:00...2020-08-02 20:00:00+00:00...2020-08-02 21:00:00+00:00...2020-08-02 22:00:00+00:00...2020-08-02 23:00:00+00:00...2020-08-03 00:00:00+00:00...2020-08-03 01:00:00+00:00...2020-08-03 02:00:00+00:00...2020-08-03 03:00:00+00:00...2020-08-03 04:00:00+00:00...2020-08-03 05:00:00+00:00...2020-08-03 06:00:00+00:00...2020-08-03 07:00:00+00:00...2020-08-03 08:00:00+00:00...2020-08-03 09:00:00+00:00...2020-08-03 10:00:00+00:00...2020-08-03 11:00:00+00:00...2020-08-03 12:00:00+00:00...2020-08-03 13:00:00+00:00...2020-08-03 14:00:00+00:00...2020-08-03 15:00:00+00:00...2020-08-03 16:00:00+00:00...2020-08-03 17:00:00+00:00...2020-08-03 18:00:00+00:00...2020-08-03 19:00:00+00:00...2020-08-03 20:00:00+00:00...2020-08-03 21:00:00+00:00...2020-08-03 22:00:00+00:00...2020-08-03 23:00:00+00:00...2020-08-04 00:00:00+00:00...2020-08-04 01:00:00+00:00...2020-08-04 02:00:00+00:00...2020-08-04 03:00:00+00:00...2020-08-04 04:00:00+00:00...2020-08-04 05:00:00+00:00...2020-08-04 06:00:00+00:00...2020-08-04 07:00:00+00:00...2020-08-04 08:00:00+00:00...2020-08-04 09:00:00+00:00...2020-08-04 10:00:00+00:00...2020-08-04 11:00:00+00:00...2020-08-04 12:00:00+00:00...2020-08-04 13:00:00+00:00...2020-08-04 14:00:00+00:00...2020-08-04 15:00:00+00:00...2020-08-04 16:00:00+00:00...2020-08-04 17:00:00+00:00...2020-08-04 18:00:00+00:00...2020-08-04 19:00:00+00:00...2020-08-04 20:00:00+00:00...2020-08-04 21:00:00+00:00...2020-08-04 22:00:00+00:00...2020-08-04 23:00:00+00:00...2020-08-05 00:00:00+00:00...2020-08-05 01:00:00+00:00...2020-08-05 02:00:00+00:00...2020-08-05 03:00:00+00:00...2020-08-05 04:00:00+00:00...2020-08-05 05:00:00+00:00...2020-08-05 06:00:00+00:00...2020-08-05 07:00:00+00:00...2020-08-05 08:00:00+00:00...2020-08-05 09:00:00+00:00...2020-08-05 10:00:00+00:00...2020-08-05 11:00:00+00:00...2020-08-05 12:00:00+00:00...2020-08-05 13:00:00+00:00...2020-08-05 14:00:00+00:00...2020-08-05 15:00:00+00:00...2020-08-05 16:00:00+00:00...2020-08-05 17:00:00+00:00...2020-08-05 18:00:00+00:00...2020-08-05 19:00:00+00:00...2020-08-05 20:00:00+00:00...2020-08-05 21:00:00+00:00...2020-08-05 22:00:00+00:00...2020-08-05 23:00:00+00:00...2020-08-06 00:00:00+00:00...2020-08-06 01:00:00+00:00...2020-08-06 02:00:00+00:00...2020-08-06 03:00:00+00:00...2020-08-06 04:00:00+00:00...2020-08-06 05:00:00+00:00...2020-08-06 06:00:00+00:00...2020-08-06 07:00:00+00:00...2020-08-06 08:00:00+00:00...2020-08-06 09:00:00+00:00...2020-08-06 10:00:00+00:00...2020-08-06 11:00:00+00:00...2020-08-06 12:00:00+00:00...2020-08-06 13:00:00+00:00...2020-08-06 14:00:00+00:00...2020-08-06 15:00:00+00:00...2020-08-06 16:00:00+00:00...2020-08-06 17:00:00+00:00...2020-08-06 18:00:00+00:00...2020-08-06 19:00:00+00:00...2020-08-06 20:00:00+00:00...2020-08-06 21:00:00+00:00...2020-08-06 22:00:00+00:00...2020-08-06 23:00:00+00:00...2020-08-07 00:00:00+00:00...2020-08-07 01:00:00+00:00...2020-08-07 02:00:00+00:00...2020-08-07 03:00:00+00:00...2020-08-07 04:00:00+00:00...2020-08-07 05:00:00+00:00...2020-08-07 06:00:00+00:00...2020-08-07 07:00:00+00:00...2020-08-07 08:00:00+00:00...2020-08-07 09:00:00+00:00...2020-08-07 10:00:00+00:00...2020-08-07 11:00:00+00:00...2020-08-07 12:00:00+00:00...2020-08-07 13:00:00+00:00...2020-08-07 14:00:00+00:00...2020-08-07 15:00:00+00:00...2020-08-07 16:00:00+00:00...2020-08-07 17:00:00+00:00...2020-08-07 18:00:00+00:00...2020-08-07 19:00:00+00:00...2020-08-07 20:00:00+00:00...2020-08-07 21:00:00+00:00...2020-08-07 22:00:00+00:00..."
     ]
    }
   ],
   "source": [
    "hours = all.datetime_utc[(all.datetime_utc < pd.to_datetime(range_end)) & (all.datetime_utc > pd.to_datetime(range_start)) & (all.BA == \"CISO\")]\n",
    "for hour in hours:\n",
    "    print(hour, end=\"...\")\n",
    "    io_toplot = cleaned_io.loc[hour]\n",
    "    toplot = all[all.datetime_utc == hour]\n",
    "    fig = go.Figure()\n",
    "\n",
    "    toplot.loc[toplot.net_generation_mwh < 1, \"net_generation_mwh\"] = 1\n",
    "    sizes = np.log(toplot.net_generation_mwh)/np.log(1.5)\n",
    "    offset = sizes/2.5\n",
    "    fig.add_trace(\n",
    "        go.Scatter(x=toplot.cx, y=toplot.cy, mode=\"markers\", hoverinfo=\"text\", text=toplot.BA, \n",
    "            marker_symbol=\"triangle-ne\",\n",
    "            marker=dict(color=toplot.consumed_co2_rate_lb_per_mwh_for_electricity, size=sizes,\n",
    "                sizemode='diameter', cmin=0, cmax=1800, colorbar=dict(\n",
    "                title=\"Emission rate (lbs/MWh)\", orientation='h'\n",
    "            ),\n",
    "            colorscale=\"YlOrRd\"),\n",
    "            name=\"Consumed\",\n",
    "            \n",
    "        )\n",
    "        \n",
    "    )\n",
    "    fig.add_trace(\n",
    "        go.Scatter(x=toplot.cx-offset, y=toplot.cy+offset, mode=\"markers\", hoverinfo=\"text\", text=toplot.BA, \n",
    "            marker_symbol=\"triangle-sw\", \n",
    "            marker=dict(color=toplot.generated_co2_rate_lb_per_mwh_for_electricity, size=sizes,\n",
    "                sizemode='diameter', cmin=0, cmax=1800,\n",
    "            colorscale=\"YlOrRd\"),\n",
    "            name=\"Generated\"\n",
    "            \n",
    "        )\n",
    "        \n",
    "    )\n",
    "    fig.update_yaxes(range=(550,0)) # autorange=\"reversed\")\n",
    "    fig.update_xaxes(range=(0,800))\n",
    "\n",
    "    # max_width = io_toplot.max()\n",
    "    # width_factor = 8/max_width\n",
    "    width_factor = 1/200\n",
    "    for name, val in io_toplot.iteritems():\n",
    "        if val <= 0: \n",
    "            continue \n",
    "        bas = name.split(\".\")[1].split(\"-\")\n",
    "        (ba1, ba2) = bas\n",
    "\n",
    "        next = False\n",
    "        for ba in bas: \n",
    "            if ba not in ba_coords.index:\n",
    "                next=True\n",
    "        if next:\n",
    "            continue\n",
    "        \n",
    "        # Arrows have to be added separately\n",
    "        line_size = val*width_factor\n",
    "        fig.add_annotation(\n",
    "            x=ba_coords.loc[ba2,\"cx\"],  # arrows' head\n",
    "            y=ba_coords.loc[ba2,\"cy\"],  # arrows' head\n",
    "            ax=ba_coords.loc[ba1,\"cx\"],  # arrows' tail\n",
    "            ay=ba_coords.loc[ba1,\"cy\"],  # arrows' tail\n",
    "            xref='x',\n",
    "            yref='y',\n",
    "            axref='x',\n",
    "            ayref='y',\n",
    "            text='',  # if you want only the arrow\n",
    "            showarrow=True,\n",
    "            arrowhead=1,\n",
    "            arrowsize=1, #max(.3, line_size),\n",
    "            arrowwidth=1,\n",
    "            arrowcolor='royalblue'\n",
    "        )\n",
    "\n",
    "        # Lines on top of arrows \n",
    "        fig.add_trace(\n",
    "            go.Scatter(x = ba_coords.loc[bas,\"cx\"], y = ba_coords.loc[bas,\"cy\"], \n",
    "                mode=\"lines\", line = dict(color='royalblue', width=1), showlegend=False\n",
    "            )\n",
    "        )\n",
    "\n",
    "    # Add images\n",
    "    fig.add_layout_image(\n",
    "            dict(\n",
    "                source=\"../resources/usa.png\",\n",
    "                xref=\"x\",\n",
    "                yref=\"y\",\n",
    "                x=10,\n",
    "                y=0,\n",
    "                sizex=790,\n",
    "                sizey=550,\n",
    "                sizing=\"stretch\",\n",
    "                opacity=0.5,\n",
    "                layer=\"below\")\n",
    "    )\n",
    "\n",
    "    # Set templates\n",
    "    fig.update_layout(template=\"plotly_white\", width=800, height=600)\n",
    "    #fig.show()\n",
    "    pio.write_image(fig, f\"../visualization_output/maps/{hour}.svg\")\n"
   ]
  },
  {
   "cell_type": "code",
   "execution_count": 13,
   "metadata": {},
   "outputs": [],
   "source": [
    "# Now just CISO and neighbors. \n",
    "\n",
    "# Get list of CISO neighbors \n",
    "ciso_interchanges = [c for c in cleaned_io.columns if \"CISO\" in c]\n",
    "ciso_bas = []\n",
    "for ci in ciso_interchanges: \n",
    "    ba1, ba2 = ci.split(\".\")[1].split(\"-\")\n",
    "    if ba1 not in ciso_bas: \n",
    "        ciso_bas.append(ba1)\n",
    "    if ba2 not in ciso_bas:\n",
    "        ciso_bas.append(ba2)\n",
    "\n"
   ]
  },
  {
   "cell_type": "code",
   "execution_count": 14,
   "metadata": {},
   "outputs": [
    {
     "name": "stdout",
     "output_type": "stream",
     "text": [
      "['EBA.AZPS-CISO.ID.H', 'EBA.BANC-CISO.ID.H', 'EBA.BPAT-CISO.ID.H', 'EBA.CEN-CISO.ID.H', 'EBA.CISO-AZPS.ID.H', 'EBA.CISO-BANC.ID.H', 'EBA.CISO-BPAT.ID.H', 'EBA.CISO-CEN.ID.H', 'EBA.CISO-IID.ID.H', 'EBA.CISO-LDWP.ID.H', 'EBA.CISO-NEVP.ID.H', 'EBA.CISO-PACW.ID.H', 'EBA.CISO-SRP.ID.H', 'EBA.CISO-TIDC.ID.H', 'EBA.CISO-WALC.ID.H', 'EBA.IID-CISO.ID.H', 'EBA.LDWP-CISO.ID.H', 'EBA.NEVP-CISO.ID.H', 'EBA.PACW-CISO.ID.H', 'EBA.SRP-CISO.ID.H', 'EBA.TIDC-CISO.ID.H', 'EBA.WALC-CISO.ID.H']\n",
      "['AZPS', 'CISO', 'BANC', 'BPAT', 'CEN', 'IID', 'LDWP', 'NEVP', 'PACW', 'SRP', 'TIDC', 'WALC']\n"
     ]
    }
   ],
   "source": [
    "print(ciso_interchanges)\n",
    "print(ciso_bas)"
   ]
  },
  {
   "cell_type": "code",
   "execution_count": 15,
   "metadata": {},
   "outputs": [],
   "source": [
    "# Hour with max CISO difference generated / consumed \n",
    "hour = '2020-09-25 12:00:00+00:00'"
   ]
  },
  {
   "cell_type": "code",
   "execution_count": 18,
   "metadata": {},
   "outputs": [
    {
     "data": {
      "application/vnd.plotly.v1+json": {
       "config": {
        "plotlyServerURL": "https://plot.ly"
       },
       "data": [
        {
         "hoverinfo": "text",
         "marker": {
          "cmax": 1800,
          "cmin": 0,
          "color": [
           1261.6280870224712,
           591.2313772232422,
           433.4524137097893,
           627.9926607374473,
           479.04315576411415,
           950.6683182206266,
           938.8801339153894,
           712.2984275597189,
           660.6733809875454,
           766.370148148486,
           1075.4777925083408
          ],
          "colorbar": {
           "orientation": "h",
           "title": {
            "text": "Emission rate (lbs/MWh)"
           }
          },
          "colorscale": [
           [
            0,
            "rgb(255,255,204)"
           ],
           [
            0.125,
            "rgb(255,237,160)"
           ],
           [
            0.25,
            "rgb(254,217,118)"
           ],
           [
            0.375,
            "rgb(254,178,76)"
           ],
           [
            0.5,
            "rgb(253,141,60)"
           ],
           [
            0.625,
            "rgb(252,78,42)"
           ],
           [
            0.75,
            "rgb(227,26,28)"
           ],
           [
            0.875,
            "rgb(189,0,38)"
           ],
           [
            1,
            "rgb(128,0,38)"
           ]
          ],
          "size": [
           19.325228272912977,
           16.36314885355879,
           22.59245029954494,
           23.418958255192983,
           15.682376524735092,
           18.61611998400732,
           20.071406755231234,
           16.237026056073457,
           22.348026254531856,
           13.886773891312576,
           17.565260471290816
          ],
          "sizemode": "diameter",
          "symbol": "triangle-ne"
         },
         "mode": "markers+text",
         "name": "Consumed",
         "text": [
          "AZPS",
          "BANC",
          "BPAT",
          "CISO",
          "IID",
          "LDWP",
          "NEVP",
          "PACW",
          "SRP",
          "TIDC",
          "WALC"
         ],
         "type": "scatter",
         "x": [
          156,
          36,
          80,
          60,
          92,
          76,
          96,
          56,
          172,
          44,
          132
         ],
         "y": [
          316,
          204,
          100,
          270,
          334,
          304,
          210,
          130,
          344,
          252,
          290
         ]
        },
        {
         "hoverinfo": "text",
         "marker": {
          "cmax": 1800,
          "cmin": 0,
          "color": [
           2051.357942055572,
           791.7235362136025,
           494.285163780544,
           486.6971936773157,
           468.0531456179542,
           1171.858214304538,
           873.4998685340672,
           725.9808186972756,
           640.9137194410688,
           803.2349460244594,
           742.8031879262338
          ],
          "colorscale": [
           [
            0,
            "rgb(255,255,204)"
           ],
           [
            0.125,
            "rgb(255,237,160)"
           ],
           [
            0.25,
            "rgb(254,217,118)"
           ],
           [
            0.375,
            "rgb(254,178,76)"
           ],
           [
            0.5,
            "rgb(253,141,60)"
           ],
           [
            0.625,
            "rgb(252,78,42)"
           ],
           [
            0.75,
            "rgb(227,26,28)"
           ],
           [
            0.875,
            "rgb(189,0,38)"
           ],
           [
            1,
            "rgb(128,0,38)"
           ]
          ],
          "size": [
           19.325228272912977,
           16.36314885355879,
           22.59245029954494,
           23.418958255192983,
           15.682376524735092,
           18.61611998400732,
           20.071406755231234,
           16.237026056073457,
           22.348026254531856,
           13.886773891312576,
           17.565260471290816
          ],
          "sizemode": "diameter",
          "symbol": "triangle-sw"
         },
         "mode": "markers",
         "name": "Generated",
         "text": [
          "AZPS",
          "BANC",
          "BPAT",
          "CISO",
          "IID",
          "LDWP",
          "NEVP",
          "PACW",
          "SRP",
          "TIDC",
          "WALC"
         ],
         "type": "scatter",
         "x": [
          148.2699086908348,
          29.454740458576484,
          70.96301988018203,
          50.63241669792281,
          85.72704939010596,
          68.55355200639707,
          87.9714372979075,
          49.50518957757062,
          163.06078949818726,
          38.44529044347497,
          124.97389581148367
         ],
         "y": [
          323.7300913091652,
          210.54525954142352,
          109.03698011981797,
          279.3675833020772,
          340.27295060989405,
          311.44644799360293,
          218.0285627020925,
          136.4948104224294,
          352.93921050181274,
          257.55470955652504,
          297.02610418851634
         ]
        },
        {
         "line": {
          "color": "royalblue",
          "width": 1
         },
         "mode": "lines",
         "showlegend": false,
         "type": "scatter",
         "x": [
          156,
          60
         ],
         "y": [
          316,
          270
         ]
        },
        {
         "line": {
          "color": "royalblue",
          "width": 1
         },
         "mode": "lines",
         "showlegend": false,
         "type": "scatter",
         "x": [
          36,
          60
         ],
         "y": [
          204,
          270
         ]
        },
        {
         "line": {
          "color": "royalblue",
          "width": 1
         },
         "mode": "lines",
         "showlegend": false,
         "type": "scatter",
         "x": [
          80,
          60
         ],
         "y": [
          100,
          270
         ]
        },
        {
         "line": {
          "color": "royalblue",
          "width": 1
         },
         "mode": "lines",
         "showlegend": false,
         "type": "scatter",
         "x": [
          60,
          285
         ],
         "y": [
          270,
          455
         ]
        },
        {
         "line": {
          "color": "royalblue",
          "width": 1
         },
         "mode": "lines",
         "showlegend": false,
         "type": "scatter",
         "x": [
          60,
          44
         ],
         "y": [
          270,
          252
         ]
        },
        {
         "line": {
          "color": "royalblue",
          "width": 1
         },
         "mode": "lines",
         "showlegend": false,
         "type": "scatter",
         "x": [
          92,
          60
         ],
         "y": [
          334,
          270
         ]
        },
        {
         "line": {
          "color": "royalblue",
          "width": 1
         },
         "mode": "lines",
         "showlegend": false,
         "type": "scatter",
         "x": [
          76,
          60
         ],
         "y": [
          304,
          270
         ]
        },
        {
         "line": {
          "color": "royalblue",
          "width": 1
         },
         "mode": "lines",
         "showlegend": false,
         "type": "scatter",
         "x": [
          96,
          60
         ],
         "y": [
          210,
          270
         ]
        },
        {
         "line": {
          "color": "royalblue",
          "width": 1
         },
         "mode": "lines",
         "showlegend": false,
         "type": "scatter",
         "x": [
          56,
          60
         ],
         "y": [
          130,
          270
         ]
        },
        {
         "line": {
          "color": "royalblue",
          "width": 1
         },
         "mode": "lines",
         "showlegend": false,
         "type": "scatter",
         "x": [
          172,
          60
         ],
         "y": [
          344,
          270
         ]
        },
        {
         "line": {
          "color": "royalblue",
          "width": 1
         },
         "mode": "lines",
         "showlegend": false,
         "type": "scatter",
         "x": [
          132,
          60
         ],
         "y": [
          290,
          270
         ]
        }
       ],
       "layout": {
        "annotations": [
         {
          "arrowcolor": "royalblue",
          "arrowhead": 1,
          "arrowsize": 1,
          "arrowwidth": 1,
          "ax": 156,
          "axref": "x",
          "ay": 316,
          "ayref": "y",
          "showarrow": true,
          "text": "",
          "x": 60,
          "xref": "x",
          "y": 270,
          "yref": "y"
         },
         {
          "arrowcolor": "royalblue",
          "arrowhead": 1,
          "arrowsize": 1,
          "arrowwidth": 1,
          "ax": 36,
          "axref": "x",
          "ay": 204,
          "ayref": "y",
          "showarrow": true,
          "text": "",
          "x": 60,
          "xref": "x",
          "y": 270,
          "yref": "y"
         },
         {
          "arrowcolor": "royalblue",
          "arrowhead": 1,
          "arrowsize": 1,
          "arrowwidth": 1,
          "ax": 80,
          "axref": "x",
          "ay": 100,
          "ayref": "y",
          "showarrow": true,
          "text": "",
          "x": 60,
          "xref": "x",
          "y": 270,
          "yref": "y"
         },
         {
          "arrowcolor": "royalblue",
          "arrowhead": 1,
          "arrowsize": 1,
          "arrowwidth": 1,
          "ax": 60,
          "axref": "x",
          "ay": 270,
          "ayref": "y",
          "showarrow": true,
          "text": "",
          "x": 285,
          "xref": "x",
          "y": 455,
          "yref": "y"
         },
         {
          "arrowcolor": "royalblue",
          "arrowhead": 1,
          "arrowsize": 1,
          "arrowwidth": 1,
          "ax": 60,
          "axref": "x",
          "ay": 270,
          "ayref": "y",
          "showarrow": true,
          "text": "",
          "x": 44,
          "xref": "x",
          "y": 252,
          "yref": "y"
         },
         {
          "arrowcolor": "royalblue",
          "arrowhead": 1,
          "arrowsize": 1,
          "arrowwidth": 1,
          "ax": 92,
          "axref": "x",
          "ay": 334,
          "ayref": "y",
          "showarrow": true,
          "text": "",
          "x": 60,
          "xref": "x",
          "y": 270,
          "yref": "y"
         },
         {
          "arrowcolor": "royalblue",
          "arrowhead": 1,
          "arrowsize": 1,
          "arrowwidth": 1,
          "ax": 76,
          "axref": "x",
          "ay": 304,
          "ayref": "y",
          "showarrow": true,
          "text": "",
          "x": 60,
          "xref": "x",
          "y": 270,
          "yref": "y"
         },
         {
          "arrowcolor": "royalblue",
          "arrowhead": 1,
          "arrowsize": 1,
          "arrowwidth": 1,
          "ax": 96,
          "axref": "x",
          "ay": 210,
          "ayref": "y",
          "showarrow": true,
          "text": "",
          "x": 60,
          "xref": "x",
          "y": 270,
          "yref": "y"
         },
         {
          "arrowcolor": "royalblue",
          "arrowhead": 1,
          "arrowsize": 1,
          "arrowwidth": 1,
          "ax": 56,
          "axref": "x",
          "ay": 130,
          "ayref": "y",
          "showarrow": true,
          "text": "",
          "x": 60,
          "xref": "x",
          "y": 270,
          "yref": "y"
         },
         {
          "arrowcolor": "royalblue",
          "arrowhead": 1,
          "arrowsize": 1,
          "arrowwidth": 1,
          "ax": 172,
          "axref": "x",
          "ay": 344,
          "ayref": "y",
          "showarrow": true,
          "text": "",
          "x": 60,
          "xref": "x",
          "y": 270,
          "yref": "y"
         },
         {
          "arrowcolor": "royalblue",
          "arrowhead": 1,
          "arrowsize": 1,
          "arrowwidth": 1,
          "ax": 132,
          "axref": "x",
          "ay": 290,
          "ayref": "y",
          "showarrow": true,
          "text": "",
          "x": 60,
          "xref": "x",
          "y": 270,
          "yref": "y"
         }
        ],
        "height": 600,
        "images": [
         {
          "layer": "below",
          "opacity": 0.5,
          "sizex": 790,
          "sizey": 550,
          "sizing": "stretch",
          "source": "../resources/usa.png",
          "x": 10,
          "xref": "x",
          "y": 0,
          "yref": "y"
         }
        ],
        "template": {
         "data": {
          "bar": [
           {
            "error_x": {
             "color": "#2a3f5f"
            },
            "error_y": {
             "color": "#2a3f5f"
            },
            "marker": {
             "line": {
              "color": "white",
              "width": 0.5
             },
             "pattern": {
              "fillmode": "overlay",
              "size": 10,
              "solidity": 0.2
             }
            },
            "type": "bar"
           }
          ],
          "barpolar": [
           {
            "marker": {
             "line": {
              "color": "white",
              "width": 0.5
             },
             "pattern": {
              "fillmode": "overlay",
              "size": 10,
              "solidity": 0.2
             }
            },
            "type": "barpolar"
           }
          ],
          "carpet": [
           {
            "aaxis": {
             "endlinecolor": "#2a3f5f",
             "gridcolor": "#C8D4E3",
             "linecolor": "#C8D4E3",
             "minorgridcolor": "#C8D4E3",
             "startlinecolor": "#2a3f5f"
            },
            "baxis": {
             "endlinecolor": "#2a3f5f",
             "gridcolor": "#C8D4E3",
             "linecolor": "#C8D4E3",
             "minorgridcolor": "#C8D4E3",
             "startlinecolor": "#2a3f5f"
            },
            "type": "carpet"
           }
          ],
          "choropleth": [
           {
            "colorbar": {
             "outlinewidth": 0,
             "ticks": ""
            },
            "type": "choropleth"
           }
          ],
          "contour": [
           {
            "colorbar": {
             "outlinewidth": 0,
             "ticks": ""
            },
            "colorscale": [
             [
              0,
              "#0d0887"
             ],
             [
              0.1111111111111111,
              "#46039f"
             ],
             [
              0.2222222222222222,
              "#7201a8"
             ],
             [
              0.3333333333333333,
              "#9c179e"
             ],
             [
              0.4444444444444444,
              "#bd3786"
             ],
             [
              0.5555555555555556,
              "#d8576b"
             ],
             [
              0.6666666666666666,
              "#ed7953"
             ],
             [
              0.7777777777777778,
              "#fb9f3a"
             ],
             [
              0.8888888888888888,
              "#fdca26"
             ],
             [
              1,
              "#f0f921"
             ]
            ],
            "type": "contour"
           }
          ],
          "contourcarpet": [
           {
            "colorbar": {
             "outlinewidth": 0,
             "ticks": ""
            },
            "type": "contourcarpet"
           }
          ],
          "heatmap": [
           {
            "colorbar": {
             "outlinewidth": 0,
             "ticks": ""
            },
            "colorscale": [
             [
              0,
              "#0d0887"
             ],
             [
              0.1111111111111111,
              "#46039f"
             ],
             [
              0.2222222222222222,
              "#7201a8"
             ],
             [
              0.3333333333333333,
              "#9c179e"
             ],
             [
              0.4444444444444444,
              "#bd3786"
             ],
             [
              0.5555555555555556,
              "#d8576b"
             ],
             [
              0.6666666666666666,
              "#ed7953"
             ],
             [
              0.7777777777777778,
              "#fb9f3a"
             ],
             [
              0.8888888888888888,
              "#fdca26"
             ],
             [
              1,
              "#f0f921"
             ]
            ],
            "type": "heatmap"
           }
          ],
          "heatmapgl": [
           {
            "colorbar": {
             "outlinewidth": 0,
             "ticks": ""
            },
            "colorscale": [
             [
              0,
              "#0d0887"
             ],
             [
              0.1111111111111111,
              "#46039f"
             ],
             [
              0.2222222222222222,
              "#7201a8"
             ],
             [
              0.3333333333333333,
              "#9c179e"
             ],
             [
              0.4444444444444444,
              "#bd3786"
             ],
             [
              0.5555555555555556,
              "#d8576b"
             ],
             [
              0.6666666666666666,
              "#ed7953"
             ],
             [
              0.7777777777777778,
              "#fb9f3a"
             ],
             [
              0.8888888888888888,
              "#fdca26"
             ],
             [
              1,
              "#f0f921"
             ]
            ],
            "type": "heatmapgl"
           }
          ],
          "histogram": [
           {
            "marker": {
             "pattern": {
              "fillmode": "overlay",
              "size": 10,
              "solidity": 0.2
             }
            },
            "type": "histogram"
           }
          ],
          "histogram2d": [
           {
            "colorbar": {
             "outlinewidth": 0,
             "ticks": ""
            },
            "colorscale": [
             [
              0,
              "#0d0887"
             ],
             [
              0.1111111111111111,
              "#46039f"
             ],
             [
              0.2222222222222222,
              "#7201a8"
             ],
             [
              0.3333333333333333,
              "#9c179e"
             ],
             [
              0.4444444444444444,
              "#bd3786"
             ],
             [
              0.5555555555555556,
              "#d8576b"
             ],
             [
              0.6666666666666666,
              "#ed7953"
             ],
             [
              0.7777777777777778,
              "#fb9f3a"
             ],
             [
              0.8888888888888888,
              "#fdca26"
             ],
             [
              1,
              "#f0f921"
             ]
            ],
            "type": "histogram2d"
           }
          ],
          "histogram2dcontour": [
           {
            "colorbar": {
             "outlinewidth": 0,
             "ticks": ""
            },
            "colorscale": [
             [
              0,
              "#0d0887"
             ],
             [
              0.1111111111111111,
              "#46039f"
             ],
             [
              0.2222222222222222,
              "#7201a8"
             ],
             [
              0.3333333333333333,
              "#9c179e"
             ],
             [
              0.4444444444444444,
              "#bd3786"
             ],
             [
              0.5555555555555556,
              "#d8576b"
             ],
             [
              0.6666666666666666,
              "#ed7953"
             ],
             [
              0.7777777777777778,
              "#fb9f3a"
             ],
             [
              0.8888888888888888,
              "#fdca26"
             ],
             [
              1,
              "#f0f921"
             ]
            ],
            "type": "histogram2dcontour"
           }
          ],
          "mesh3d": [
           {
            "colorbar": {
             "outlinewidth": 0,
             "ticks": ""
            },
            "type": "mesh3d"
           }
          ],
          "parcoords": [
           {
            "line": {
             "colorbar": {
              "outlinewidth": 0,
              "ticks": ""
             }
            },
            "type": "parcoords"
           }
          ],
          "pie": [
           {
            "automargin": true,
            "type": "pie"
           }
          ],
          "scatter": [
           {
            "marker": {
             "colorbar": {
              "outlinewidth": 0,
              "ticks": ""
             }
            },
            "type": "scatter"
           }
          ],
          "scatter3d": [
           {
            "line": {
             "colorbar": {
              "outlinewidth": 0,
              "ticks": ""
             }
            },
            "marker": {
             "colorbar": {
              "outlinewidth": 0,
              "ticks": ""
             }
            },
            "type": "scatter3d"
           }
          ],
          "scattercarpet": [
           {
            "marker": {
             "colorbar": {
              "outlinewidth": 0,
              "ticks": ""
             }
            },
            "type": "scattercarpet"
           }
          ],
          "scattergeo": [
           {
            "marker": {
             "colorbar": {
              "outlinewidth": 0,
              "ticks": ""
             }
            },
            "type": "scattergeo"
           }
          ],
          "scattergl": [
           {
            "marker": {
             "colorbar": {
              "outlinewidth": 0,
              "ticks": ""
             }
            },
            "type": "scattergl"
           }
          ],
          "scattermapbox": [
           {
            "marker": {
             "colorbar": {
              "outlinewidth": 0,
              "ticks": ""
             }
            },
            "type": "scattermapbox"
           }
          ],
          "scatterpolar": [
           {
            "marker": {
             "colorbar": {
              "outlinewidth": 0,
              "ticks": ""
             }
            },
            "type": "scatterpolar"
           }
          ],
          "scatterpolargl": [
           {
            "marker": {
             "colorbar": {
              "outlinewidth": 0,
              "ticks": ""
             }
            },
            "type": "scatterpolargl"
           }
          ],
          "scatterternary": [
           {
            "marker": {
             "colorbar": {
              "outlinewidth": 0,
              "ticks": ""
             }
            },
            "type": "scatterternary"
           }
          ],
          "surface": [
           {
            "colorbar": {
             "outlinewidth": 0,
             "ticks": ""
            },
            "colorscale": [
             [
              0,
              "#0d0887"
             ],
             [
              0.1111111111111111,
              "#46039f"
             ],
             [
              0.2222222222222222,
              "#7201a8"
             ],
             [
              0.3333333333333333,
              "#9c179e"
             ],
             [
              0.4444444444444444,
              "#bd3786"
             ],
             [
              0.5555555555555556,
              "#d8576b"
             ],
             [
              0.6666666666666666,
              "#ed7953"
             ],
             [
              0.7777777777777778,
              "#fb9f3a"
             ],
             [
              0.8888888888888888,
              "#fdca26"
             ],
             [
              1,
              "#f0f921"
             ]
            ],
            "type": "surface"
           }
          ],
          "table": [
           {
            "cells": {
             "fill": {
              "color": "#EBF0F8"
             },
             "line": {
              "color": "white"
             }
            },
            "header": {
             "fill": {
              "color": "#C8D4E3"
             },
             "line": {
              "color": "white"
             }
            },
            "type": "table"
           }
          ]
         },
         "layout": {
          "annotationdefaults": {
           "arrowcolor": "#2a3f5f",
           "arrowhead": 0,
           "arrowwidth": 1
          },
          "autotypenumbers": "strict",
          "coloraxis": {
           "colorbar": {
            "outlinewidth": 0,
            "ticks": ""
           }
          },
          "colorscale": {
           "diverging": [
            [
             0,
             "#8e0152"
            ],
            [
             0.1,
             "#c51b7d"
            ],
            [
             0.2,
             "#de77ae"
            ],
            [
             0.3,
             "#f1b6da"
            ],
            [
             0.4,
             "#fde0ef"
            ],
            [
             0.5,
             "#f7f7f7"
            ],
            [
             0.6,
             "#e6f5d0"
            ],
            [
             0.7,
             "#b8e186"
            ],
            [
             0.8,
             "#7fbc41"
            ],
            [
             0.9,
             "#4d9221"
            ],
            [
             1,
             "#276419"
            ]
           ],
           "sequential": [
            [
             0,
             "#0d0887"
            ],
            [
             0.1111111111111111,
             "#46039f"
            ],
            [
             0.2222222222222222,
             "#7201a8"
            ],
            [
             0.3333333333333333,
             "#9c179e"
            ],
            [
             0.4444444444444444,
             "#bd3786"
            ],
            [
             0.5555555555555556,
             "#d8576b"
            ],
            [
             0.6666666666666666,
             "#ed7953"
            ],
            [
             0.7777777777777778,
             "#fb9f3a"
            ],
            [
             0.8888888888888888,
             "#fdca26"
            ],
            [
             1,
             "#f0f921"
            ]
           ],
           "sequentialminus": [
            [
             0,
             "#0d0887"
            ],
            [
             0.1111111111111111,
             "#46039f"
            ],
            [
             0.2222222222222222,
             "#7201a8"
            ],
            [
             0.3333333333333333,
             "#9c179e"
            ],
            [
             0.4444444444444444,
             "#bd3786"
            ],
            [
             0.5555555555555556,
             "#d8576b"
            ],
            [
             0.6666666666666666,
             "#ed7953"
            ],
            [
             0.7777777777777778,
             "#fb9f3a"
            ],
            [
             0.8888888888888888,
             "#fdca26"
            ],
            [
             1,
             "#f0f921"
            ]
           ]
          },
          "colorway": [
           "#636efa",
           "#EF553B",
           "#00cc96",
           "#ab63fa",
           "#FFA15A",
           "#19d3f3",
           "#FF6692",
           "#B6E880",
           "#FF97FF",
           "#FECB52"
          ],
          "font": {
           "color": "#2a3f5f"
          },
          "geo": {
           "bgcolor": "white",
           "lakecolor": "white",
           "landcolor": "white",
           "showlakes": true,
           "showland": true,
           "subunitcolor": "#C8D4E3"
          },
          "hoverlabel": {
           "align": "left"
          },
          "hovermode": "closest",
          "mapbox": {
           "style": "light"
          },
          "paper_bgcolor": "white",
          "plot_bgcolor": "white",
          "polar": {
           "angularaxis": {
            "gridcolor": "#EBF0F8",
            "linecolor": "#EBF0F8",
            "ticks": ""
           },
           "bgcolor": "white",
           "radialaxis": {
            "gridcolor": "#EBF0F8",
            "linecolor": "#EBF0F8",
            "ticks": ""
           }
          },
          "scene": {
           "xaxis": {
            "backgroundcolor": "white",
            "gridcolor": "#DFE8F3",
            "gridwidth": 2,
            "linecolor": "#EBF0F8",
            "showbackground": true,
            "ticks": "",
            "zerolinecolor": "#EBF0F8"
           },
           "yaxis": {
            "backgroundcolor": "white",
            "gridcolor": "#DFE8F3",
            "gridwidth": 2,
            "linecolor": "#EBF0F8",
            "showbackground": true,
            "ticks": "",
            "zerolinecolor": "#EBF0F8"
           },
           "zaxis": {
            "backgroundcolor": "white",
            "gridcolor": "#DFE8F3",
            "gridwidth": 2,
            "linecolor": "#EBF0F8",
            "showbackground": true,
            "ticks": "",
            "zerolinecolor": "#EBF0F8"
           }
          },
          "shapedefaults": {
           "line": {
            "color": "#2a3f5f"
           }
          },
          "ternary": {
           "aaxis": {
            "gridcolor": "#DFE8F3",
            "linecolor": "#A2B1C6",
            "ticks": ""
           },
           "baxis": {
            "gridcolor": "#DFE8F3",
            "linecolor": "#A2B1C6",
            "ticks": ""
           },
           "bgcolor": "white",
           "caxis": {
            "gridcolor": "#DFE8F3",
            "linecolor": "#A2B1C6",
            "ticks": ""
           }
          },
          "title": {
           "x": 0.05
          },
          "xaxis": {
           "automargin": true,
           "gridcolor": "#EBF0F8",
           "linecolor": "#EBF0F8",
           "ticks": "",
           "title": {
            "standoff": 15
           },
           "zerolinecolor": "#EBF0F8",
           "zerolinewidth": 2
          },
          "yaxis": {
           "automargin": true,
           "gridcolor": "#EBF0F8",
           "linecolor": "#EBF0F8",
           "ticks": "",
           "title": {
            "standoff": 15
           },
           "zerolinecolor": "#EBF0F8",
           "zerolinewidth": 2
          }
         }
        },
        "width": 800,
        "xaxis": {
         "range": [
          0,
          800
         ]
        },
        "yaxis": {
         "range": [
          550,
          0
         ]
        }
       }
      }
     },
     "metadata": {},
     "output_type": "display_data"
    }
   ],
   "source": [
    "io_toplot = cleaned_io.loc[hour, ciso_interchanges]\n",
    "toplot = all[all.datetime_utc == hour]\n",
    "toplot = toplot[toplot.BA.isin(ciso_bas)]\n",
    "fig = go.Figure()\n",
    "\n",
    "toplot.loc[toplot.net_generation_mwh < 1, \"net_generation_mwh\"] = 1\n",
    "sizes = np.log(toplot.net_generation_mwh)/np.log(1.5)\n",
    "offset = sizes/2.5\n",
    "fig.add_trace(\n",
    "    go.Scatter(x=toplot.cx, y=toplot.cy, mode=\"markers+text\", hoverinfo=\"text\", text=toplot.BA, \n",
    "        marker_symbol=\"triangle-ne\",\n",
    "        marker=dict(color=toplot.consumed_co2_rate_lb_per_mwh_for_electricity, size=sizes,\n",
    "            sizemode='diameter', cmin=0, cmax=1800, colorbar=dict(\n",
    "            title=\"Emission rate (lbs/MWh)\", orientation='h'\n",
    "        ),\n",
    "        colorscale=\"YlOrRd\"),\n",
    "        name=\"Consumed\",\n",
    "        \n",
    "    )\n",
    "    \n",
    ")\n",
    "fig.add_trace(\n",
    "    go.Scatter(x=toplot.cx-offset, y=toplot.cy+offset, mode=\"markers\", hoverinfo=\"text\", text=toplot.BA, \n",
    "        marker_symbol=\"triangle-sw\", \n",
    "        marker=dict(color=toplot.generated_co2_rate_lb_per_mwh_for_electricity, size=sizes,\n",
    "            sizemode='diameter', cmin=0, cmax=1800,\n",
    "        colorscale=\"YlOrRd\"),\n",
    "        name=\"Generated\"\n",
    "        \n",
    "    )\n",
    "    \n",
    ")\n",
    "fig.update_yaxes(range=(550,0)) # autorange=\"reversed\")\n",
    "fig.update_xaxes(range=(0,800))\n",
    "\n",
    "# max_width = io_toplot.max()\n",
    "# width_factor = 8/max_width\n",
    "width_factor = 1/200\n",
    "for name, val in io_toplot.iteritems():\n",
    "    if val <= 0: \n",
    "        continue \n",
    "    bas = name.split(\".\")[1].split(\"-\")\n",
    "    (ba1, ba2) = bas\n",
    "\n",
    "    next = False\n",
    "    for ba in bas: \n",
    "        if ba not in ba_coords.index:\n",
    "            next=True\n",
    "    if next:\n",
    "        continue\n",
    "    \n",
    "    # Arrows have to be added separately\n",
    "    line_size = val*width_factor\n",
    "    fig.add_annotation(\n",
    "        x=ba_coords.loc[ba2,\"cx\"],  # arrows' head\n",
    "        y=ba_coords.loc[ba2,\"cy\"],  # arrows' head\n",
    "        ax=ba_coords.loc[ba1,\"cx\"],  # arrows' tail\n",
    "        ay=ba_coords.loc[ba1,\"cy\"],  # arrows' tail\n",
    "        xref='x',\n",
    "        yref='y',\n",
    "        axref='x',\n",
    "        ayref='y',\n",
    "        text='',  # if you want only the arrow\n",
    "        showarrow=True,\n",
    "        arrowhead=1,\n",
    "        arrowsize=1, #max(.3, line_size),\n",
    "        arrowwidth=1,\n",
    "        arrowcolor='royalblue'\n",
    "    )\n",
    "\n",
    "    # Lines on top of arrows \n",
    "    fig.add_trace(\n",
    "        go.Scatter(x = ba_coords.loc[bas,\"cx\"], y = ba_coords.loc[bas,\"cy\"], \n",
    "            mode=\"lines\", line = dict(color='royalblue', width=1), showlegend=False\n",
    "        )\n",
    "    )\n",
    "\n",
    "# Add images\n",
    "fig.add_layout_image(\n",
    "        dict(\n",
    "            source=\"../resources/usa.png\",\n",
    "            xref=\"x\",\n",
    "            yref=\"y\",\n",
    "            x=10,\n",
    "            y=0,\n",
    "            sizex=790,\n",
    "            sizey=550,\n",
    "            sizing=\"stretch\",\n",
    "            opacity=0.5,\n",
    "            layer=\"below\")\n",
    ")\n",
    "\n",
    "# Set templates\n",
    "fig.update_layout(template=\"plotly_white\", width=800, height=600)\n",
    "fig.show()\n",
    "pio.write_image(fig, f\"../visualization_output/viz2_label_{hour}.svg\")"
   ]
  },
  {
   "cell_type": "code",
   "execution_count": null,
   "metadata": {},
   "outputs": [],
   "source": []
  }
 ],
 "metadata": {
  "kernelspec": {
   "display_name": "Python 3.10.5 ('hourly_egrid')",
   "language": "python",
   "name": "python3"
  },
  "language_info": {
   "codemirror_mode": {
    "name": "ipython",
    "version": 3
   },
   "file_extension": ".py",
   "mimetype": "text/x-python",
   "name": "python",
   "nbconvert_exporter": "python",
   "pygments_lexer": "ipython3",
   "version": "3.10.5"
  },
  "orig_nbformat": 4,
  "vscode": {
   "interpreter": {
    "hash": "65c02dfd2dc2ef471c0b5088763a28c1faaa7cad28937ca42fadf51e669fd8e8"
   }
  }
 },
 "nbformat": 4,
 "nbformat_minor": 2
}
