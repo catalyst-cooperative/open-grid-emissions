{
 "cells": [
  {
   "cell_type": "code",
   "execution_count": null,
   "metadata": {},
   "outputs": [],
   "source": [
    "# import packages\n",
    "import numpy as np\n",
    "import pandas as pd\n",
    "import plotly.express as px\n",
    "\n",
    "%reload_ext autoreload\n",
    "%autoreload 2\n",
    "\n",
    "# # Tell python where to look for modules.\n",
    "import sys\n",
    "\n",
    "sys.path.append(\"../../hourly-egrid/\")\n",
    "\n",
    "# import local modules\n",
    "import src.data_cleaning as data_cleaning\n",
    "import src.load_data as load_data\n",
    "import src.impute_hourly_profiles as impute_hourly_profiles\n",
    "import src.eia930 as eia930\n",
    "import src.output_data as output_data\n",
    "\n",
    "from src.column_checks import get_dtypes, apply_dtypes\n"
   ]
  },
  {
   "cell_type": "code",
   "execution_count": null,
   "metadata": {},
   "outputs": [],
   "source": [
    "# load data from csv\n",
    "year = 2020\n",
    "path_prefix = ''\n",
    "eia923_allocated = pd.read_csv(f'../data/outputs/{path_prefix}{year}/eia923_allocated_{year}.csv', dtype=get_dtypes(), parse_dates=['report_date'])\n",
    "cems = pd.read_csv(f'../data/outputs/{path_prefix}{year}/cems_{year}.csv', dtype=get_dtypes(), parse_dates=['report_date', 'datetime_utc'])\n",
    "partial_cems_scaled = pd.read_csv(f'../data/outputs/{path_prefix}{year}/partial_cems_scaled_{year}.csv', dtype=get_dtypes(), parse_dates=['report_date'])\n",
    "plant_attributes = pd.read_csv(f\"../data/outputs/{path_prefix}{year}/plant_static_attributes_{year}.csv\")\n",
    "\n",
    "clean_930_file = f\"../data/outputs/{path_prefix}{year}/eia930/eia930_elec.csv\"\n",
    "\n",
    "eia930_data = eia930.load_chalendar_for_pipeline(clean_930_file, year=year)\n",
    "# until we can fix the physics reconciliation, we need to apply some post-processing steps\n",
    "eia930_data = eia930.remove_imputed_ones(eia930_data)\n",
    "eia930_data = eia930.remove_months_with_zero_data(eia930_data)\n",
    "\n",
    "# aggregate cems data to subplant level\n",
    "cems = data_cleaning.aggregate_cems_to_subplant(cems)\n",
    "\n",
    "# drop data from cems that is now in partial_cems\n",
    "cems = data_cleaning.filter_unique_cems_data(cems, partial_cems_scaled)\n",
    "\n",
    "# create a separate dataframe containing only the EIA data that is missing from cems\n",
    "monthly_eia_data_to_shape = eia923_allocated[\n",
    "    (eia923_allocated[\"hourly_data_source\"] == \"eia\")\n",
    "    & ~(eia923_allocated[\"fuel_consumed_mmbtu\"].isna())\n",
    "]\n"
   ]
  },
  {
   "cell_type": "code",
   "execution_count": null,
   "metadata": {},
   "outputs": [],
   "source": [
    "residual_profiles = impute_hourly_profiles.calculate_residual(\n",
    "    cems,\n",
    "    eia930_data,\n",
    "    plant_attributes,\n",
    "    year,\n",
    "    transmission_only=False,\n",
    "    ba_column_name=\"ba_code\",\n",
    ")"
   ]
  },
  {
   "cell_type": "code",
   "execution_count": null,
   "metadata": {},
   "outputs": [],
   "source": [
    "hourly_profiles = impute_hourly_profiles.calculate_hourly_profiles(\n",
    "    cems,\n",
    "    eia930_data,\n",
    "    plant_attributes,\n",
    "    monthly_eia_data_to_shape,\n",
    "    year,\n",
    "    transmission_only=False,\n",
    "    ba_column_name=\"ba_code\",\n",
    ")\n",
    "hourly_profiles = impute_hourly_profiles.convert_profile_to_percent(hourly_profiles)"
   ]
  },
  {
   "cell_type": "code",
   "execution_count": null,
   "metadata": {},
   "outputs": [],
   "source": [
    "fuel = \"nuclear\"\n",
    "ba = \"CISO\"\n",
    "\n",
    "data_to_graph = hourly_profiles[(hourly_profiles[\"fuel_category\"] == fuel) & (hourly_profiles[\"ba_code\"] == ba)]\n",
    "\n",
    "px.line(data_to_graph, x=\"datetime_local\", y=[\"eia930_profile\",\"cems_profile\",\"residual_profile\",\"scaled_residual_profile\",\"shifted_residual_profile\",\"profile\"], title=f\"{ba}, {fuel}\")"
   ]
  },
  {
   "cell_type": "code",
   "execution_count": null,
   "metadata": {},
   "outputs": [],
   "source": [
    "(\n",
    "    monthly_eia_data_to_shape,\n",
    "    plant_attributes,\n",
    ") = impute_hourly_profiles.aggregate_eia_data_to_ba_fuel(\n",
    "    monthly_eia_data_to_shape, plant_attributes\n",
    ")\n",
    "shaped_eia_data = impute_hourly_profiles.shape_monthly_eia_data_as_hourly(\n",
    "    monthly_eia_data_to_shape, hourly_profiles\n",
    ")"
   ]
  },
  {
   "cell_type": "code",
   "execution_count": null,
   "metadata": {},
   "outputs": [],
   "source": [
    "data_to_graph = shaped_eia_data[(shaped_eia_data[\"fuel_category\"] == fuel) & (shaped_eia_data[\"ba_code\"] == ba)]\n",
    "\n",
    "px.line(data_to_graph, x=\"datetime_utc\", y=\"net_generation_mwh\", title=f\"{ba}, {fuel}\")"
   ]
  },
  {
   "cell_type": "markdown",
   "metadata": {},
   "source": [
    "# Validate that the shaping isn't changing the monthly data"
   ]
  },
  {
   "cell_type": "code",
   "execution_count": null,
   "metadata": {},
   "outputs": [],
   "source": [
    "# load the data if necessary\n",
    "\n",
    "shaped_eia_data = pd.read_csv(f'../data/outputs/{path_prefix}{year}/shaped_eia923_data_{year}.csv', dtype=get_dtypes(), parse_dates=['report_date'])\n",
    "eia923_allocated = pd.read_csv(f'../data/outputs/{path_prefix}{year}/eia923_allocated_{year}.csv', dtype=get_dtypes(), parse_dates=['report_date'])\n",
    "# create a separate dataframe containing only the EIA data that is missing from cems\n",
    "monthly_eia_data_to_shape = eia923_allocated[\n",
    "    (eia923_allocated[\"hourly_data_source\"] == \"eia\")\n",
    "    & ~(eia923_allocated[\"fuel_consumed_mmbtu\"].isna())\n",
    "]\n",
    "\n",
    "plant_attributes = pd.read_csv(f\"../data/outputs/{path_prefix}{year}/plant_attributes_with_synthetic_{year}.csv\")\n",
    "monthly_eia_data_to_shape = monthly_eia_data_to_shape.merge(plant_attributes, how='left', on='plant_id_eia')\n"
   ]
  },
  {
   "cell_type": "code",
   "execution_count": null,
   "metadata": {},
   "outputs": [],
   "source": [
    "# aggregate data to ba fuel month\n",
    "shaped_data_agg = shaped_eia_data.groupby([\"ba_code\",\"fuel_category\",\"report_date\"], dropna=False).sum()[[\"net_generation_mwh\",\"fuel_consumed_mmbtu\"]]\n",
    "eia_data_agg = monthly_eia_data_to_shape.groupby([\"ba_code\",\"fuel_category\",\"report_date\"], dropna=False).sum()[[\"net_generation_mwh\",\"fuel_consumed_mmbtu\"]]\n",
    "\n",
    "# calculate the difference between the two datasets\n",
    "compare = (shaped_data_agg - eia_data_agg).round(0)\n",
    "\n",
    "compare.sum().sum()\n"
   ]
  },
  {
   "cell_type": "code",
   "execution_count": null,
   "metadata": {},
   "outputs": [],
   "source": [
    "compare[(compare[\"net_generation_mwh\"] != 0) | (compare[\"fuel_consumed_mmbtu\"] != 0)]"
   ]
  }
 ],
 "metadata": {
  "kernelspec": {
   "display_name": "Python 3.9.12 ('hourly_egrid')",
   "language": "python",
   "name": "python3"
  },
  "language_info": {
   "codemirror_mode": {
    "name": "ipython",
    "version": 3
   },
   "file_extension": ".py",
   "mimetype": "text/x-python",
   "name": "python",
   "nbconvert_exporter": "python",
   "pygments_lexer": "ipython3",
   "version": "3.10.5"
  },
  "orig_nbformat": 4,
  "vscode": {
   "interpreter": {
    "hash": "4103f3cd497821eca917ea303dbe10c590d787eb7d2dc3fd4e15dec0356e7931"
   }
  }
 },
 "nbformat": 4,
 "nbformat_minor": 2
}
