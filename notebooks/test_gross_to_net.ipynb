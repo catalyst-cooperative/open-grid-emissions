{
 "cells": [
  {
   "cell_type": "code",
   "execution_count": null,
   "metadata": {},
   "outputs": [],
   "source": [
    "# Tell python where to look for modules. \n",
    "# Depending on how your jupyter handles working directories, this may not be needed.\n",
    "import sys\n",
    "sys.path.append('../../hourly-egrid/')\n",
    "\n",
    "# import the necessary packages\n",
    "%reload_ext autoreload\n",
    "%autoreload 2\n",
    "\n",
    "# import packages\n",
    "import sqlalchemy as sa\n",
    "from pathlib import Path\n",
    "import pandas as pd\n",
    "import plotly.express as px\n",
    "import numpy as np\n",
    "import statsmodels.formula.api as smf\n",
    "import warnings\n",
    "\n",
    "# PUDL\n",
    "import pudl.analysis.allocate_net_gen as allocate_gen_fuel\n",
    "import pudl.analysis.epa_crosswalk as epa_crosswalk\n",
    "import pudl.output.pudltabl\n",
    "\n",
    "# local packages\n",
    "import src.data_cleaning as data_cleaning\n",
    "from src.gross_to_net_generation import *\n",
    "import src.load_data as load_data\n",
    "\n",
    "from src.column_checks import get_dtypes\n",
    "\n",
    "year = 2020\n"
   ]
  },
  {
   "cell_type": "markdown",
   "metadata": {},
   "source": [
    "# Check emission rates"
   ]
  },
  {
   "cell_type": "code",
   "execution_count": null,
   "metadata": {},
   "outputs": [],
   "source": [
    "cems_output = pd.read_csv(\"../data/outputs/2020/cems_2020.csv\")\n",
    "cems_data = pd.read_csv(\"../data/results/2020/plant_data/hourly/us_units/CEMS_plant_data.csv\")\n",
    "\n",
    "cems_output[\"co2_rate\"] = cems_output[\"co2_mass_lb_for_electricity\"] / cems_output[\"net_generation_mwh\"]\n",
    "cems_data[\"co2_rate\"] = cems_data[\"co2_mass_lb_for_electricity\"] / cems_data[\"net_generation_mwh\"]"
   ]
  },
  {
   "cell_type": "code",
   "execution_count": null,
   "metadata": {},
   "outputs": [],
   "source": [
    "cems_data[cems_data[\"co2_rate\"] < 0]#.plant_id_eia.unique()"
   ]
  },
  {
   "cell_type": "code",
   "execution_count": null,
   "metadata": {},
   "outputs": [],
   "source": [
    "plant_to_graph = 1393\n",
    "\n",
    "to_graph = cems_output[cems_output[\"plant_id_eia\"] == plant_to_graph].groupby([\"plant_id_eia\",\"datetime_utc\"])[\"gross_generation_mwh\",\"net_generation_mwh\",\"co2_mass_lb\"].sum().reset_index()\n",
    "\n",
    "px.line(to_graph, x=\"datetime_utc\", y=[\"gross_generation_mwh\",\"net_generation_mwh\",\"co2_mass_lb\"]) #,\"co2_rate\""
   ]
  },
  {
   "cell_type": "code",
   "execution_count": null,
   "metadata": {},
   "outputs": [],
   "source": [
    "plant_to_graph = 1073\n",
    "\n",
    "#to_graph = cems_output[cems_output[\"plant_id_eia\"] == plant_to_graph].groupby([\"plant_id_eia\",\"datetime_utc\"])[\"gross_generation_mwh\",\"net_generation_mwh\",\"co2_mass_lb\"].sum().reset_index()\n",
    "\n",
    "px.line(cems_output[cems_output[\"plant_id_eia\"] == plant_to_graph], x=\"datetime_utc\", y=[\"fuel_consumed_mmbtu\"], facet_col=\"subplant_id\") #,\"co2_rate\""
   ]
  },
  {
   "cell_type": "code",
   "execution_count": null,
   "metadata": {},
   "outputs": [],
   "source": [
    "plant_to_graph = 1073\n",
    "\n",
    "px.line(cems_data[cems_data[\"plant_id_eia\"] == plant_to_graph], x=\"datetime_utc\", y=[\"net_generation_mwh\",\"co2_mass_lb\",\"co2_rate\"]) #,\"co2_mass_lb\",\"co2_rate\""
   ]
  },
  {
   "cell_type": "markdown",
   "metadata": {},
   "source": [
    "# Test updated approach to GTN conversion"
   ]
  },
  {
   "cell_type": "code",
   "execution_count": null,
   "metadata": {},
   "outputs": [],
   "source": [
    "# load data from csv\n",
    "year = 2020\n",
    "path_prefix = ''\n",
    "\n",
    "cems = pd.read_csv(f'../data/outputs/{path_prefix}{year}/cems_{year}.csv', dtype=get_dtypes(), parse_dates=['datetime_utc', 'report_date'])\n",
    "eia923_allocated = pd.read_csv(f'../data/outputs/{path_prefix}{year}/eia923_allocated_{year}.csv', dtype=get_dtypes(), parse_dates=['report_date'])\n",
    "plant_attributes = pd.read_csv(f\"../data/outputs/{path_prefix}{year}/plant_static_attributes_{year}.csv\")\n"
   ]
  },
  {
   "cell_type": "code",
   "execution_count": null,
   "metadata": {},
   "outputs": [],
   "source": [
    "# validate method\n",
    "\n",
    "# merge together monthly subplant totals from EIA and calculated from CEMS\n",
    "eia_netgen = eia923_allocated.groupby(['plant_id_eia',\"subplant_id\",\"report_date\"], dropna=False).sum(min_count=1)['net_generation_mwh'].reset_index().dropna(subset=\"net_generation_mwh\")\n",
    "calculated_netgen = cems.groupby(['plant_id_eia',\"subplant_id\",\"report_date\"], dropna=False).sum()['net_generation_mwh'].reset_index()\n",
    "validated_ng = eia_netgen.merge(calculated_netgen, how=\"inner\", on=['plant_id_eia',\"subplant_id\",\"report_date\"], suffixes=(\"_eia\",\"_calc\"))\n",
    "\n",
    "validated_ng = validated_ng.round(3)\n",
    "validated_ng = validated_ng[validated_ng[[\"net_generation_mwh_eia\",\"net_generation_mwh_calc\"]].sum(axis=1) != 0]\n",
    "\n",
    "validated_ng['pct_error'] = (validated_ng['net_generation_mwh_calc'] - validated_ng['net_generation_mwh_eia']) / validated_ng['net_generation_mwh_eia']\n",
    "validated_ng.sort_values(by=\"pct_error\")"
   ]
  },
  {
   "cell_type": "code",
   "execution_count": null,
   "metadata": {},
   "outputs": [],
   "source": []
  },
  {
   "cell_type": "code",
   "execution_count": null,
   "metadata": {},
   "outputs": [],
   "source": [
    "validated_ng[validated_ng[\"plant_id_eia\"] == 50397]"
   ]
  },
  {
   "cell_type": "code",
   "execution_count": null,
   "metadata": {},
   "outputs": [],
   "source": [
    "# create a new version of cems before net generation was calculated\n",
    "cems_gross = cems.drop(columns=[\"net_generation_mwh\", \"gtn_method\"])"
   ]
  },
  {
   "cell_type": "code",
   "execution_count": null,
   "metadata": {},
   "outputs": [],
   "source": [
    "gtn_conversions = data_cleaning.calculate_gross_to_net_conversion_factors(\n",
    "        cems_gross, eia923_allocated, plant_attributes\n",
    "    )"
   ]
  },
  {
   "cell_type": "code",
   "execution_count": null,
   "metadata": {},
   "outputs": [],
   "source": [
    "units_in_subplant = (\n",
    "    cems.groupby(\n",
    "        [\"plant_id_eia\", \"subplant_id\", \"report_date\",\"unitid\"], dropna=False\n",
    "    )\n",
    "    .count()\n",
    "    .reset_index()\n",
    "    .rename(columns={\"unitid\": \"units_in_subplant\"})\n",
    ")"
   ]
  },
  {
   "cell_type": "code",
   "execution_count": null,
   "metadata": {},
   "outputs": [],
   "source": [
    "units_in_subplant = cems[\n",
    "    [\"plant_id_eia\", \"subplant_id\", \"report_date\", \"unitid\",\"datetime_utc\"]\n",
    "]\n",
    "# get a count of how many hours are reported in each month for each unit\n",
    "units_in_subplant = (\n",
    "    units_in_subplant.groupby(\n",
    "        [\"plant_id_eia\", \"subplant_id\", \"report_date\",\"unitid\"], dropna=False\n",
    "    )\n",
    "    .count()\n",
    "    .reset_index())\n",
    "# remove any units where there is a single hour reported for a month.\n",
    "# this is likely due to an error in assigning the report date\n",
    "\"\"\"units_in_subplant = units_in_subplant[units_in_subplant[\"datetime_utc\"] > 1]\n",
    "# now get a count of the number of units in each subplant-month\n",
    "units_in_subplant = (\n",
    "    units_in_subplant.groupby(\n",
    "        [\"plant_id_eia\", \"subplant_id\", \"report_date\"], dropna=False\n",
    "    )\n",
    "    .count()\n",
    "    .reset_index()\n",
    "    .rename(columns={\"unitid\": \"units_in_subplant\"})).drop(columns=\"datetime_utc\")\"\"\""
   ]
  },
  {
   "cell_type": "code",
   "execution_count": null,
   "metadata": {},
   "outputs": [],
   "source": [
    "units_in_subplant[units_in_subplant[\"plant_id_eia\"] == 55096]"
   ]
  },
  {
   "cell_type": "code",
   "execution_count": null,
   "metadata": {},
   "outputs": [],
   "source": [
    "gtn_conversions[gtn_conversions[\"plant_id_eia\"] == 50397]"
   ]
  },
  {
   "cell_type": "markdown",
   "metadata": {},
   "source": [
    "## recalculate the net generation"
   ]
  },
  {
   "cell_type": "code",
   "execution_count": null,
   "metadata": {},
   "outputs": [],
   "source": [
    "# load data from csv\n",
    "year = 2020\n",
    "path_prefix = ''\n",
    "\n",
    "cems = pd.read_csv(f'../data/outputs/{path_prefix}{year}/cems_{year}.csv', dtype=get_dtypes(), parse_dates=['datetime_utc', 'report_date'])\n",
    "eia923_allocated = pd.read_csv(f'../data/outputs/{path_prefix}{year}/eia923_allocated_{year}.csv', dtype=get_dtypes(), parse_dates=['report_date'])\n",
    "plant_attributes = pd.read_csv(f\"../data/outputs/{path_prefix}{year}/plant_static_attributes_{year}.csv\")"
   ]
  },
  {
   "cell_type": "code",
   "execution_count": null,
   "metadata": {},
   "outputs": [],
   "source": [
    "# create a new version of cems before net generation was calculated\n",
    "cems_gross = cems.drop(columns=[\"net_generation_mwh\", \"gtn_method\"])\n",
    "\n",
    "cems_gross = data_cleaning.remove_incomplete_unit_months(cems_gross)"
   ]
  },
  {
   "cell_type": "code",
   "execution_count": null,
   "metadata": {},
   "outputs": [],
   "source": [
    "cems, gtn_conversions = data_cleaning.convert_gross_to_net_generation(cems_gross, eia923_allocated, plant_attributes)"
   ]
  },
  {
   "cell_type": "code",
   "execution_count": null,
   "metadata": {},
   "outputs": [],
   "source": [
    "# validate method\n",
    "\n",
    "# merge together monthly subplant totals from EIA and calculated from CEMS\n",
    "eia_netgen = eia923_allocated.groupby(['plant_id_eia',\"subplant_id\",\"report_date\"], dropna=False).sum(min_count=1)['net_generation_mwh'].reset_index().dropna(subset=\"net_generation_mwh\")\n",
    "calculated_netgen = cems.groupby(['plant_id_eia',\"subplant_id\",\"report_date\"], dropna=False).sum()['net_generation_mwh'].reset_index()\n",
    "validated_ng = eia_netgen.merge(calculated_netgen, how=\"inner\", on=['plant_id_eia',\"subplant_id\",\"report_date\"], suffixes=(\"_eia\",\"_calc\"))\n",
    "\n",
    "validated_ng = validated_ng.round(3)\n",
    "validated_ng = validated_ng[validated_ng[[\"net_generation_mwh_eia\",\"net_generation_mwh_calc\"]].sum(axis=1) != 0]\n",
    "\n",
    "validated_ng['pct_error'] = (validated_ng['net_generation_mwh_calc'] - validated_ng['net_generation_mwh_eia']) / validated_ng['net_generation_mwh_eia']\n",
    "validated_ng.sort_values(by=\"pct_error\")"
   ]
  },
  {
   "cell_type": "code",
   "execution_count": null,
   "metadata": {},
   "outputs": [],
   "source": [
    "# what percentage of hours \n",
    "cems.groupby(\"gtn_method\", dropna=False).count()['net_generation_mwh'] / len(cems)"
   ]
  },
  {
   "cell_type": "code",
   "execution_count": null,
   "metadata": {},
   "outputs": [],
   "source": [
    "cems.groupby(\"gtn_method\", dropna=False).sum()['net_generation_mwh'] / cems[['net_generation_mwh']].sum().item()"
   ]
  },
  {
   "cell_type": "code",
   "execution_count": null,
   "metadata": {},
   "outputs": [],
   "source": [
    "gtn_conversions[(gtn_conversions['plant_id_eia'] == 3) & (gtn_conversions['subplant_id'] == 4)]"
   ]
  },
  {
   "cell_type": "code",
   "execution_count": null,
   "metadata": {},
   "outputs": [],
   "source": [
    "cems[(cems['plant_id_eia'] == 60) & (cems['subplant_id'] == 0) & (cems['report_date'] == \"2020-03-01\")]"
   ]
  },
  {
   "cell_type": "code",
   "execution_count": null,
   "metadata": {},
   "outputs": [],
   "source": [
    "data_to_graph = cems[cems['plant_id_eia'] == 2953].groupby([\"plant_id_eia\",\"datetime_utc\"]).sum()[[\"gross_generation_mwh\",\"net_generation_mwh\"]].reset_index()\n",
    "px.line(data_to_graph, x=\"datetime_utc\", y=[\"gross_generation_mwh\",\"net_generation_mwh\"])"
   ]
  },
  {
   "cell_type": "markdown",
   "metadata": {},
   "source": [
    "# Refine Assumption for assumed gross to net generation ratio"
   ]
  },
  {
   "cell_type": "code",
   "execution_count": null,
   "metadata": {},
   "outputs": [],
   "source": [
    "# load data from csv\n",
    "year = 2020\n",
    "path_prefix = ''\n",
    "cems = pd.read_csv(f'../data/outputs/{path_prefix}cems_{year}.csv', dtype=get_dtypes(), parse_dates=['report_date'])\n",
    "plant_attributes = pd.read_csv(f\"../data/outputs/{path_prefix}plant_static_attributes_{year}.csv\", dtype=get_dtypes())"
   ]
  },
  {
   "cell_type": "code",
   "execution_count": null,
   "metadata": {},
   "outputs": [],
   "source": [
    "eia923_allocated = pd.read_csv(f'../data/outputs/{path_prefix}eia923_allocated_{year}.csv', dtype=get_dtypes(), parse_dates=['report_date'])\n",
    "eia_ng_by_plant = eia923_allocated.groupby(['plant_id_eia',\"subplant_id\",\"report_date\"], dropna=False).sum()['net_generation_mwh'].reset_index()"
   ]
  },
  {
   "cell_type": "code",
   "execution_count": null,
   "metadata": {},
   "outputs": [],
   "source": [
    "# remove net generation columns from cems\n",
    "cems = cems.drop(columns=[\"net_generation_mwh\",\"gtn_method\"])\n",
    "cems = data_cleaning.convert_gross_to_net_generation(cems, plant_attributes, year, method_order=[\n",
    "        \"subplant_ratio\",\n",
    "        \"subplant_regression\",\n",
    "        \"plant_ratio\",\n",
    "        \"plant_regression\",\n",
    "    ])\n",
    "\n",
    "cems.groupby(\"gtn_method\").sum()[\"net_generation_mwh\"] / cems[['net_generation_mwh']].sum().item()"
   ]
  },
  {
   "cell_type": "code",
   "execution_count": null,
   "metadata": {},
   "outputs": [],
   "source": [
    "cems.groupby(\"gtn_method\").sum()[\"net_generation_mwh\"] / cems[['net_generation_mwh']].sum().item()"
   ]
  },
  {
   "cell_type": "code",
   "execution_count": null,
   "metadata": {},
   "outputs": [],
   "source": [
    "calculated_ng_by_plant = cems.groupby(['plant_id_eia',\"subplant_id\",\"report_date\",'gtn_method'], dropna=False).sum()['net_generation_mwh'].reset_index()\n",
    "validated_ng = eia_ng_by_plant.merge(calculated_ng_by_plant, how=\"inner\", on=['plant_id_eia',\"report_date\"], suffixes=(\"_eia\",\"_calc\"))\n",
    "validated_ng"
   ]
  },
  {
   "cell_type": "code",
   "execution_count": null,
   "metadata": {},
   "outputs": [],
   "source": [
    "\n",
    "validated_ng['squared_error'] = (validated_ng['net_generation_mwh_eia'] - validated_ng['net_generation_mwh_calc'])**2\n",
    "validated_ng['pct_error'] = (validated_ng['net_generation_mwh_calc'] - validated_ng['net_generation_mwh_eia']) / validated_ng['net_generation_mwh_eia']\n",
    "validated_ng['abs_pct_error'] = abs(validated_ng['pct_error'])\n",
    "validated_ng = validated_ng.round(2)\n",
    "validated_ng[validated_ng['net_generation_mwh_eia'] != 0].mean().round(2)"
   ]
  },
  {
   "cell_type": "code",
   "execution_count": null,
   "metadata": {},
   "outputs": [],
   "source": [
    "validated_ng[validated_ng['net_generation_mwh_eia'] != 0].groupby('gtn_method', dropna=False).mean()"
   ]
  },
  {
   "cell_type": "code",
   "execution_count": null,
   "metadata": {},
   "outputs": [],
   "source": [
    "# remove net generation columns from cems\n",
    "#cems = cems.drop(columns=[\"net_generation_mwh\",\"gtn_method\"])\n",
    "cems = data_cleaning.convert_gross_to_net_generation(cems, plant_attributes, year, method_order=[\n",
    "        \"subplant_ratio\",\n",
    "        \"subplant_regression\",\n",
    "        \"plant_ratio\",\n",
    "        \"plant_regression\",\n",
    "    ])\n",
    "\n",
    "cems.groupby(\"gtn_method\").sum()[\"net_generation_mwh\"] / cems[['net_generation_mwh']].sum().item()"
   ]
  },
  {
   "cell_type": "code",
   "execution_count": null,
   "metadata": {},
   "outputs": [],
   "source": [
    "validated_ng = eia_ng_by_plant.merge(calculated_ng_by_plant, how=\"inner\", on='plant_id_eia', suffixes=(\"_eia\",\"_calc\"))\n",
    "validated_ng['squared_error'] = (validated_ng['net_generation_mwh_eia'] - validated_ng['net_generation_mwh_calc'])**2\n",
    "validated_ng['pct_error'] = (validated_ng['net_generation_mwh_calc'] - validated_ng['net_generation_mwh_eia']) / validated_ng['net_generation_mwh_eia']\n",
    "validated_ng['abs_pct_error'] = abs(validated_ng['pct_error'])\n",
    "validated_ng = validated_ng.round(2)\n",
    "validated_ng[validated_ng['net_generation_mwh_eia'] != 0].mean().round(2)"
   ]
  },
  {
   "cell_type": "code",
   "execution_count": null,
   "metadata": {},
   "outputs": [],
   "source": [
    "# remove net generation columns from cems\n",
    "cems = cems.drop(columns=[\"net_generation_mwh\",\"gtn_method\"])\n",
    "cems = data_cleaning.convert_gross_to_net_generation(cems, plant_attributes, year, method_order=[\n",
    "        \"plant_ratio\",\n",
    "        \"plant_regression\",\n",
    "        \"subplant_ratio\",\n",
    "        \"subplant_regression\",\n",
    "    ])\n",
    "\n",
    "calculated_ng_by_plant = cems.groupby(['plant_id_eia']).sum()['net_generation_mwh'].reset_index()\n",
    "\n",
    "cems.groupby(\"gtn_method\").sum()[\"net_generation_mwh\"] / cems[['net_generation_mwh']].sum().item()"
   ]
  },
  {
   "cell_type": "code",
   "execution_count": null,
   "metadata": {},
   "outputs": [],
   "source": [
    "validated_ng = eia_ng_by_plant.merge(calculated_ng_by_plant, how=\"inner\", on='plant_id_eia', suffixes=(\"_eia\",\"_calc\"))\n",
    "validated_ng['squared_error'] = (validated_ng['net_generation_mwh_eia'] - validated_ng['net_generation_mwh_calc'])**2\n",
    "validated_ng['pct_error'] = (validated_ng['net_generation_mwh_calc'] - validated_ng['net_generation_mwh_eia']) / validated_ng['net_generation_mwh_eia']\n",
    "validated_ng['abs_pct_error'] = abs(validated_ng['pct_error'])\n",
    "validated_ng = validated_ng.round(2)\n",
    "validated_ng[validated_ng['net_generation_mwh_eia'] != 0].mean().round(2)"
   ]
  },
  {
   "cell_type": "code",
   "execution_count": null,
   "metadata": {},
   "outputs": [],
   "source": [
    "# remove net generation columns from cems\n",
    "cems = cems.drop(columns=[\"net_generation_mwh\",\"gtn_method\"])\n",
    "cems = data_cleaning.convert_gross_to_net_generation(cems, plant_attributes, year, method_order=[\n",
    "        \"subplant_ratio\",\n",
    "        \"plant_ratio\",\n",
    "        \"subplant_regression\",\n",
    "        \"plant_regression\",\n",
    "    ])\n",
    "\n",
    "calculated_ng_by_plant = cems.groupby(['plant_id_eia']).sum()['net_generation_mwh'].reset_index()\n",
    "\n",
    "cems.groupby(\"gtn_method\").sum()[\"net_generation_mwh\"] / cems[['net_generation_mwh']].sum().item()"
   ]
  },
  {
   "cell_type": "code",
   "execution_count": null,
   "metadata": {},
   "outputs": [],
   "source": [
    "validated_ng = eia_ng_by_plant.merge(calculated_ng_by_plant, how=\"inner\", on='plant_id_eia', suffixes=(\"_eia\",\"_calc\"))\n",
    "validated_ng['squared_error'] = (validated_ng['net_generation_mwh_eia'] - validated_ng['net_generation_mwh_calc'])**2\n",
    "validated_ng['pct_error'] = (validated_ng['net_generation_mwh_calc'] - validated_ng['net_generation_mwh_eia']) / validated_ng['net_generation_mwh_eia']\n",
    "validated_ng['abs_pct_error'] = abs(validated_ng['pct_error'])\n",
    "validated_ng = validated_ng.round(2)\n",
    "validated_ng[validated_ng['net_generation_mwh_eia'] != 0].mean().round(2)"
   ]
  },
  {
   "cell_type": "markdown",
   "metadata": {},
   "source": [
    "# Perform a regression on gross and net generation data from multiple years\n",
    "\n",
    "We want to run a regression on multiple years of CEMS and EIA data. We can do by month, and also on an annual basis\n",
    "\n",
    "We should probably aggregate by plant-prime mover-environmental equipment.\n",
    "\n",
    "Steps:\n",
    "1. Load and clean gross generation data for multiple years\n",
    "2. Load and distribute net generation data from EIA for multiple years\n",
    "3. Aggregate / map data from both source"
   ]
  },
  {
   "cell_type": "code",
   "execution_count": null,
   "metadata": {},
   "outputs": [],
   "source": [
    "# year = 2020\n",
    "# number_of_years = 2\n",
    "\n",
    "# start_year = year - (number_of_years - 1)\n",
    "# end_year = year\n",
    "start_year = 2001\n",
    "end_year = 2020"
   ]
  },
  {
   "cell_type": "code",
   "execution_count": null,
   "metadata": {},
   "outputs": [],
   "source": [
    "# load 5 years of monthly data from CEMS and EIA-923\n",
    "cems_monthly, gen_fuel_allocated = load_monthly_gross_and_net_generation(\n",
    "    start_year, end_year\n",
    ")\n",
    "\n",
    "# add subplant ids to the data\n",
    "print(\"Creating subplant IDs\")\n",
    "cems_monthly, gen_fuel_allocated = generate_subplant_ids(\n",
    "    start_year, end_year, cems_monthly, gen_fuel_allocated\n",
    ")\n"
   ]
  },
  {
   "cell_type": "code",
   "execution_count": null,
   "metadata": {},
   "outputs": [],
   "source": [
    "gen_data, plant_aggregation_columns = combine_gross_and_net_generation_data(\n",
    "    cems_monthly, gen_fuel_allocated, 'subplant'\n",
    ")\n",
    "\n",
    "# calculate the hourly average generation values\n",
    "gen_data[\"hours_in_month\"] = gen_data[\"report_date\"].dt.daysinmonth * 24\n",
    "gen_data[\"gross_generation_mw\"] = (\n",
    "    gen_data[\"gross_generation_mwh\"] / gen_data[\"hours_in_month\"]\n",
    ")\n",
    "gen_data[\"net_generation_mw\"] = (\n",
    "    gen_data[\"net_generation_mwh\"] / gen_data[\"hours_in_month\"]\n",
    ")\n",
    "\n",
    "gen_data"
   ]
  },
  {
   "cell_type": "code",
   "execution_count": null,
   "metadata": {},
   "outputs": [],
   "source": [
    "# test regression\n",
    "id = 3\n",
    "subplant = 4\n",
    "test_data = gen_data[(gen_data['plant_id_eia'] == id) & (gen_data['subplant_id'] == subplant)]\n",
    "model = smf.ols('net_generation_mw ~ gross_generation_mw -1', data=test_data).fit()\n",
    "outliers = model.outlier_test()\n",
    "model.summary()"
   ]
  },
  {
   "cell_type": "code",
   "execution_count": null,
   "metadata": {},
   "outputs": [],
   "source": [
    "model.params"
   ]
  },
  {
   "cell_type": "code",
   "execution_count": null,
   "metadata": {},
   "outputs": [],
   "source": [
    "# get outputs of final adjusted model\n",
    "slope = model.params[1]\n",
    "intercept = model.params[0]\n",
    "rsquared = model.rsquared\n",
    "rsquared_adj = model.rsquared_adj\n",
    "number_observations = model.nobs"
   ]
  },
  {
   "cell_type": "code",
   "execution_count": null,
   "metadata": {},
   "outputs": [],
   "source": []
  },
  {
   "cell_type": "code",
   "execution_count": null,
   "metadata": {},
   "outputs": [],
   "source": [
    "# calculate the ratio for each plant and create a dataframe\n",
    "gtn_regression = (\n",
    "    gen_data.dropna().groupby(plant_aggregation_columns).apply(model_gross_to_net)\n",
    ")"
   ]
  },
  {
   "cell_type": "markdown",
   "metadata": {},
   "source": [
    "# Load Data\n",
    "We need to load net generation data from EIA-923 and gross generation data from CEMS"
   ]
  },
  {
   "cell_type": "code",
   "execution_count": null,
   "metadata": {},
   "outputs": [],
   "source": [
    "crosswalk = pudl.output.epacems.epa_crosswalk()"
   ]
  },
  {
   "cell_type": "code",
   "execution_count": null,
   "metadata": {},
   "outputs": [],
   "source": [
    "\n",
    "\n",
    "# TODO: move the following code to a separate function so that it does not hold these dataframes in memory after calculation\n",
    "\n",
    "# load 5 years of monthly data from CEMS and EIA-923\n",
    "cems_monthly, gen_fuel_allocated = gross_to_net_generation.load_monthly_gross_and_net_generation(\n",
    "    start_year, end_year\n",
    ")"
   ]
  },
  {
   "cell_type": "markdown",
   "metadata": {},
   "source": [
    "# Test Subplant assignment"
   ]
  },
  {
   "cell_type": "code",
   "execution_count": null,
   "metadata": {},
   "outputs": [],
   "source": [
    "cems_monthly[cems_monthly['plant_id_eia'] == 7063]"
   ]
  },
  {
   "cell_type": "code",
   "execution_count": null,
   "metadata": {},
   "outputs": [],
   "source": [
    "ids = cems_monthly[[\"plant_id_eia\", \"unitid\"]].drop_duplicates()"
   ]
  },
  {
   "cell_type": "code",
   "execution_count": null,
   "metadata": {},
   "outputs": [],
   "source": [
    "ids[ids['plant_id_eia'] == 7063]"
   ]
  },
  {
   "cell_type": "code",
   "execution_count": null,
   "metadata": {},
   "outputs": [],
   "source": [
    "crosswalk = pudl.output.epacems.epa_crosswalk()"
   ]
  },
  {
   "cell_type": "code",
   "execution_count": null,
   "metadata": {},
   "outputs": [],
   "source": [
    "crosswalk[crosswalk['EIA_PLANT_ID'] == 7063]"
   ]
  },
  {
   "cell_type": "code",
   "execution_count": null,
   "metadata": {},
   "outputs": [],
   "source": [
    "# identify epa unit ids missing from the crosswalk\n",
    "\n",
    "ids.merge(crosswalk[['EIA_PLANT_ID','CAMD_UNIT_ID']], how='outer', left_on=['plant_id_eia','unitid'], right_on=['EIA_PLANT_ID','CAMD_UNIT_ID'], indicator='source')"
   ]
  },
  {
   "cell_type": "code",
   "execution_count": null,
   "metadata": {},
   "outputs": [],
   "source": [
    "unique_eia_ids = gen_fuel_allocated[\n",
    "        [\"plant_id_eia\", \"generator_id\"]\n",
    "    ].drop_duplicates()"
   ]
  },
  {
   "cell_type": "code",
   "execution_count": null,
   "metadata": {},
   "outputs": [],
   "source": [
    "unique_eia_ids[unique_eia_ids['plant_id_eia'] == 7063]"
   ]
  },
  {
   "cell_type": "markdown",
   "metadata": {},
   "source": [
    "# Aggregate the data to the monthly level\n",
    "For now we will aggregate to plant-month, but in the future we probably want to aggregate at a sub-plant level"
   ]
  },
  {
   "cell_type": "markdown",
   "metadata": {},
   "source": [
    "## Identify subplants"
   ]
  },
  {
   "cell_type": "code",
   "execution_count": null,
   "metadata": {},
   "outputs": [],
   "source": [
    "subplant_crosswalk = identify_subplants(start_year, end_year, gen_fuel_allocated, cems_monthly)\n",
    "# export the crosswalk to csv\n",
    "subplant_crosswalk.to_csv('../data/outputs/subplant_crosswalk.csv', index=False)\n",
    "subplant_crosswalk"
   ]
  },
  {
   "cell_type": "code",
   "execution_count": null,
   "metadata": {},
   "outputs": [],
   "source": [
    "# merge the subplant ids into each dataframe\n",
    "gen_fuel_allocated = gen_fuel_allocated.merge(subplant_crosswalk[['plant_id_eia','generator_id','subplant_id']], how='left', on=['plant_id_eia','generator_id'])\n",
    "cems_monthly = cems_monthly.merge(subplant_crosswalk[['plant_id_eia','unitid','subplant_id']], how='left', on=['plant_id_eia','unitid'])"
   ]
  },
  {
   "cell_type": "markdown",
   "metadata": {},
   "source": [
    "## Investigate relationships between units and gens\n",
    "This is just exploration and not used in this pipeline"
   ]
  },
  {
   "cell_type": "code",
   "execution_count": null,
   "metadata": {},
   "outputs": [],
   "source": [
    "crosswalk = load_data.load_epa_eia_crosswalk(year=2020)[['plant_id_epa','unitid','plant_id_eia','generator_id']]\n",
    "\n",
    "# drop duplicated rows (might have had multiple entries for boilers, which we do not care about)\n",
    "crosswalk = crosswalk.drop_duplicates()\n",
    "# drop rows with missing crosswalks\n",
    "crosswalk = crosswalk[~crosswalk['plant_id_eia'].isna()]\n",
    "\n",
    "# one-to-one relationships\n",
    "one_to_one = crosswalk.copy()[(~crosswalk.duplicated(subset=['plant_id_epa','unitid'], keep=False)) & (~crosswalk.duplicated(subset=['plant_id_eia','generator_id'], keep=False))]\n",
    "#crosswalk.drop_duplicates(subset=['plant_id_epa','unitid'], keep=False).drop_duplicates(subset=['plant_id_eia','generator_id'], keep=False)\n",
    "one_to_one['relationship'] = '1:1'\n",
    "\n",
    "# many-to-one relationships\n",
    "many_to_one = crosswalk.drop_duplicates(subset=['plant_id_epa','unitid'], keep=False)\n",
    "many_to_one = many_to_one[many_to_one.duplicated(subset=['plant_id_eia','generator_id'], keep=False)]\n",
    "many_to_one['relationship'] = 'm:1'\n",
    "\n",
    "# one_to_many\n",
    "one_to_many = crosswalk.drop_duplicates(subset=['plant_id_eia','generator_id'], keep=False)\n",
    "one_to_many = one_to_many[one_to_many.duplicated(subset=['plant_id_epa','unitid'], keep=False)]\n",
    "one_to_many['relationship'] = '1:m'\n",
    "\n",
    "# many-to-many\n",
    "# NOTE: this isn't working entirely correctly\n",
    "# find all 1:m\n",
    "many_to_many = crosswalk[crosswalk.duplicated(subset=['plant_id_epa','unitid'], keep=False)]\n",
    "# create a dataframe that has all epa plant-units in this list that are associated with multiple generators\n",
    "many_to_many_units = many_to_many[many_to_many.duplicated(subset=['plant_id_eia','generator_id'], keep=False)][['plant_id_epa','unitid']]\n",
    "many_to_many_units['relationship'] = 'm:m'\n",
    "# merge this back into the 1:m frame to identify all plant-units that are m:m\n",
    "many_to_many = many_to_many.merge(many_to_many_units.drop_duplicates(), how='left', on=['plant_id_epa','unitid'])\n",
    "#remove any rows where the relationship column is na (meaning not m:m)\n",
    "many_to_many = many_to_many[many_to_many['relationship'] == 'm:m']\n",
    "\n",
    "relationship = pd.concat([one_to_one,one_to_many,many_to_one,many_to_many], axis=0)\n",
    "\n",
    "missing = crosswalk.merge(relationship, how='left', on=['plant_id_epa','unitid','plant_id_eia','generator_id'])\n",
    "missing[missing['relationship'].isna()]"
   ]
  },
  {
   "cell_type": "code",
   "execution_count": null,
   "metadata": {},
   "outputs": [],
   "source": [
    "missing[missing['relationship'].isna()]"
   ]
  },
  {
   "cell_type": "markdown",
   "metadata": {},
   "source": [
    "## Identify for which months we have complete reporting from all units/generators in a subplant"
   ]
  },
  {
   "cell_type": "code",
   "execution_count": null,
   "metadata": {},
   "outputs": [],
   "source": [
    "# for each subplant-month, get a list of all unitids that reported data in CEMS\n",
    "missing_units_in_subplant = (\n",
    "    cems.sort_values(by=[\"plant_id_eia\", \"subplant_id\", \"unitid\"])\n",
    "    .groupby([\"plant_id_eia\", \"subplant_id\", \"report_date\"])[\"unitid\"]\n",
    "    .unique()\n",
    "    .apply(list)\n",
    "    .reset_index()\n",
    ")\n",
    "# get a complete list of all of the cems units that belong in each subplant\n",
    "units_in_subplant = (\n",
    "    subplant_crosswalk.sort_values(by=[\"plant_id_eia\", \"subplant_id\", \"unitid\"])\n",
    "    .groupby([\"plant_id_eia\", \"subplant_id\"])[\"unitid\"]\n",
    "    .unique()\n",
    "    .apply(list)\n",
    "    .reset_index()\n",
    ")\n",
    "# merge the list of complete units into the list of monthly reporting units\n",
    "missing_units_in_subplant = missing_units_in_subplant.merge(\n",
    "    units_in_subplant,\n",
    "    how=\"left\",\n",
    "    on=[\"plant_id_eia\", \"subplant_id\"],\n",
    "    suffixes=(\"_reported\", \"_complete\"),\n",
    ")\n",
    "# where is there missing unit reporting\n",
    "missing_units_in_subplant = missing_units_in_subplant[\n",
    "    (\n",
    "        missing_units_in_subplant[\"unitid_reported\"]\n",
    "        != missing_units_in_subplant[\"unitid_complete\"]\n",
    "    )\n",
    "    & (missing_units_in_subplant[\"unitid_complete\"].notnull())\n",
    "]\n",
    "missing_units_in_subplant\n"
   ]
  },
  {
   "cell_type": "code",
   "execution_count": null,
   "metadata": {},
   "outputs": [],
   "source": [
    "# remove unit-months where there is incomplete data\n",
    "cems = cems.merge(missing_units_in_subplant[['plant_id_eia','subplant_id','report_date']], how='left', indicator=True)\n",
    "cems = cems[cems['_merge'] != 'both'].drop(columns='_merge')"
   ]
  },
  {
   "cell_type": "code",
   "execution_count": null,
   "metadata": {},
   "outputs": [],
   "source": [
    "# for each subplant-month, get a list of all generator_ids that reported data in CEMS\n",
    "missing_gens_in_subplant = gen_fuel_allocated.sort_values(by=['plant_id_eia','subplant_id','generator_id']).groupby(['plant_id_eia','subplant_id','report_date'])['generator_id'].unique().apply(list).reset_index()\n",
    "# get a complete list of all of the cems units that belong in each subplant\n",
    "units_in_subplant = subplant_crosswalk.sort_values(by=['plant_id_eia','subplant_id','generator_id']).groupby(['plant_id_eia','subplant_id'])['generator_id'].unique().apply(list).reset_index()\n",
    "# merge the list of complete units into the list of monthly reporting units\n",
    "missing_gens_in_subplant = missing_gens_in_subplant.merge(units_in_subplant, how='left', on=['plant_id_eia','subplant_id'], suffixes=('_reported','_complete'))\n",
    "# where is there missing unit reporting\n",
    "missing_gens_in_subplant = missing_gens_in_subplant[(missing_gens_in_subplant['generator_id_reported'] != missing_gens_in_subplant['generator_id_complete']) & (missing_gens_in_subplant['generator_id_complete'].notnull())]\n",
    "missing_gens_in_subplant"
   ]
  },
  {
   "cell_type": "code",
   "execution_count": null,
   "metadata": {},
   "outputs": [],
   "source": [
    "gen_fuel_allocated[(gen_fuel_allocated['plant_id_eia'] == 3982) & (gen_fuel_allocated['generator_id'] == '4')]"
   ]
  },
  {
   "cell_type": "code",
   "execution_count": null,
   "metadata": {},
   "outputs": [],
   "source": [
    "# remove generator-months where there is incomplete data\n",
    "gen_fuel_allocated = gen_fuel_allocated.merge(missing_gens_in_subplant[['plant_id_eia','subplant_id','report_date']], how='left', indicator=True)\n",
    "gen_fuel_allocated = gen_fuel_allocated[gen_fuel_allocated['_merge'] != 'both'].drop(columns='_merge')"
   ]
  },
  {
   "cell_type": "markdown",
   "metadata": {},
   "source": [
    "## Aggregate Data"
   ]
  },
  {
   "cell_type": "code",
   "execution_count": null,
   "metadata": {},
   "outputs": [],
   "source": [
    "groupby_columns = ['plant_id_eia','subplant_id','report_date']\n",
    "\n",
    "net_gen = gen_fuel_allocated.groupby(groupby_columns).sum(min_count=1)['net_generation_mwh'].reset_index()\n",
    "gross_gen = cems_monthly.groupby(groupby_columns).sum()['gross_generation_mwh'].reset_index()\n",
    "gen_data = gross_gen.merge(net_gen, how='outer', on=groupby_columns)\n",
    "\n",
    "# calculate the hourly average generation values\n",
    "gen_data['hours_in_month'] = gen_data['report_date'].dt.daysinmonth * 24\n",
    "gen_data['gross_generation_mw'] = gen_data['gross_generation_mwh'] / gen_data['hours_in_month']\n",
    "gen_data['net_generation_mw'] = gen_data['net_generation_mwh'] / gen_data['hours_in_month']\n",
    "gen_data"
   ]
  },
  {
   "cell_type": "code",
   "execution_count": null,
   "metadata": {},
   "outputs": [],
   "source": [
    "id = 54\n",
    "subplant = 3\n",
    "data_to_plot = gen_data[(gen_data['plant_id_eia'] == id) & (gen_data['subplant_id'] == subplant)]\n",
    "corner_0 = data_to_plot[['gross_generation_mw','net_generation_mw']].min().min()\n",
    "corner_1 = data_to_plot[['gross_generation_mw','net_generation_mw']].max().max()\n",
    "\n",
    "px.scatter(data_to_plot, \n",
    "           x='gross_generation_mw', \n",
    "           y='net_generation_mw',\n",
    "           hover_data=['report_date'],\n",
    "           width=600,\n",
    "           height=600,\n",
    "           trendline='ols').add_shape(type=\"line\", x0=corner_0, y0=corner_0, x1=corner_1, y1=corner_1, line=dict(color=\"Black\", width=1))"
   ]
  },
  {
   "cell_type": "markdown",
   "metadata": {},
   "source": [
    "# Calculate the regressions"
   ]
  },
  {
   "cell_type": "code",
   "execution_count": null,
   "metadata": {},
   "outputs": [],
   "source": [
    "# test regression\n",
    "id = 3\n",
    "subplant = 4\n",
    "test_data = gen_data[(gen_data['plant_id_eia'] == id) & (gen_data['subplant_id'] == subplant)]\n",
    "model = smf.ols('net_generation_mw ~ gross_generation_mw', data=test_data).fit()\n",
    "outliers = model.outlier_test()\n",
    "model.summary()"
   ]
  },
  {
   "cell_type": "code",
   "execution_count": null,
   "metadata": {},
   "outputs": [],
   "source": [
    "def model_gross_to_net(df):\n",
    "    \"\"\"\n",
    "    Performs a linear regression model of monthly gross to net generation.\n",
    "\n",
    "    Performs recursive outlier removal up to two times if the absolute value of \n",
    "    the studentizes residual > 3\n",
    "\n",
    "    Args:\n",
    "        df: dataframe containing all values of gross and net generation that should be regressed\n",
    "    Returns:\n",
    "        various model parameters\n",
    "    \"\"\"\n",
    "    with warnings.catch_warnings():\n",
    "        warnings.simplefilter(\"ignore\")\n",
    "\n",
    "        # get a linear model for the data points\n",
    "        model = smf.ols('net_generation_mw ~ gross_generation_mw', data=df).fit()\n",
    "\n",
    "        # find and remove any outliers recursively up to two times\n",
    "        outliers = model.outlier_test()\n",
    "        if abs(outliers['student_resid']).max() > 3:\n",
    "            # remove any outlier values\n",
    "            df = df[~df.index.isin(outliers[abs(outliers['student_resid']) > 3].index)]\n",
    "\n",
    "            # get a linear model of the corrected data\n",
    "            model = smf.ols(\n",
    "                    'net_generation_mw ~ gross_generation_mw', data=df).fit()\n",
    "            \n",
    "            outliers = model.outlier_test()\n",
    "\n",
    "            # perform this removal one more time in case any outliers were masked by the first outlier(s)\n",
    "            if abs(outliers['student_resid']).max() > 3:\n",
    "                # remove any outlier values\n",
    "                df = df[~df.index.isin(outliers[abs(outliers['student_resid']) > 3].index)]\n",
    "\n",
    "                # get a linear model of the corrected data\n",
    "                try:\n",
    "                    model = smf.ols(\n",
    "                            'net_generation_mw ~ gross_generation_mw', data=df).fit()\n",
    "                except ValueError:\n",
    "                    pass\n",
    "        slope = model.params[1]\n",
    "        intercept = model.params[0]\n",
    "        rsquared = model.rsquared\n",
    "        rsquared_adj = model.rsquared_adj\n",
    "        number_observations = model.nobs\n",
    "\n",
    "    return slope, intercept, rsquared, rsquared_adj, number_observations"
   ]
  },
  {
   "cell_type": "code",
   "execution_count": null,
   "metadata": {},
   "outputs": [],
   "source": [
    "# calculate the ratio for each plant and create a dataframe\n",
    "gtn_regression = gen_data.dropna().groupby(['plant_id_eia','subplant_id']).apply(model_gross_to_net)\n",
    "gtn_regression = pd.DataFrame(gtn_regression.tolist(), index=gtn_regression.index, columns=['slope','intercept', 'rsquared','rsquared_adj','observations']).reset_index()\n",
    "gtn_regression"
   ]
  },
  {
   "cell_type": "code",
   "execution_count": null,
   "metadata": {},
   "outputs": [],
   "source": [
    "gtn_regression[(gtn_regression['rsquared_adj'] < 0.9) & (gtn_regression['rsquared_adj'] > 0.8)]"
   ]
  },
  {
   "cell_type": "code",
   "execution_count": null,
   "metadata": {},
   "outputs": [],
   "source": [
    "# remove results with a negative rsquared adjusted\n",
    "gtn_regression = gtn_regression[gtn_regression['rsquared_adj'] > 0]"
   ]
  },
  {
   "cell_type": "code",
   "execution_count": null,
   "metadata": {},
   "outputs": [],
   "source": [
    "gtn_regression.to_csv('../data/outputs/gross_to_net_regression.csv', index=False)"
   ]
  },
  {
   "cell_type": "code",
   "execution_count": null,
   "metadata": {},
   "outputs": [],
   "source": [
    "gtn_regression.mean().round(2)"
   ]
  },
  {
   "cell_type": "markdown",
   "metadata": {},
   "source": [
    "# Test Applying the values to the hourly CEMS data"
   ]
  },
  {
   "cell_type": "code",
   "execution_count": null,
   "metadata": {},
   "outputs": [],
   "source": [
    "id = 3\n",
    "test_cems = cems[cems['plant_id_eia'] == id]\n",
    "test_cems"
   ]
  },
  {
   "cell_type": "code",
   "execution_count": null,
   "metadata": {},
   "outputs": [],
   "source": [
    "test_cems = test_cems.merge(gtn_regression[['plant_id_eia','subplant_id','slope','intercept']], how='left', on=['plant_id_eia','subplant_id'])\n",
    "# divide the house load by the number of hours in each month\n",
    "#test_cems['intercept'] = test_cems['intercept'] / (test_cems.report_date.dt.daysinmonth * 24)\n",
    "# divide the house load by the number of units in each subplant\n",
    "units_in_subplant = subplant_crosswalk.groupby(['plant_id_eia','subplant_id'])['unitid'].count().reset_index().rename(columns={'unitid':'units_in_subplant'})\n",
    "test_cems = test_cems.merge(units_in_subplant, how='left', on=['plant_id_eia','subplant_id'])\n",
    "test_cems['intercept'] = test_cems['intercept'] / test_cems['units_in_subplant']\n",
    "# calculate net generation\n",
    "test_cems['net_generation_mwh'] = test_cems['gross_generation_mwh'] * test_cems['slope'] + test_cems['intercept']\n",
    "test_cems"
   ]
  },
  {
   "cell_type": "code",
   "execution_count": null,
   "metadata": {},
   "outputs": [],
   "source": [
    "px.line(test_cems, x='datetime_utc', y=['gross_generation_mwh','net_generation_mwh'], facet_col='unitid')"
   ]
  },
  {
   "cell_type": "code",
   "execution_count": null,
   "metadata": {},
   "outputs": [],
   "source": [
    "test_cems.groupby(['plant_id_eia','subplant_id','report_date'])['net_generation_mwh'].sum()"
   ]
  },
  {
   "cell_type": "code",
   "execution_count": null,
   "metadata": {},
   "outputs": [],
   "source": [
    "gf_to_compare = gen_fuel_allocated[gen_fuel_allocated['plant_id_eia'] == 3]\n",
    "gf_to_compare = gf_to_compare.groupby(['plant_id_eia','subplant_id','report_date'])['net_generation_mwh'].sum()\n",
    "gf_to_compare"
   ]
  },
  {
   "cell_type": "markdown",
   "metadata": {},
   "source": [
    "# Old Code for reference"
   ]
  },
  {
   "cell_type": "code",
   "execution_count": null,
   "metadata": {},
   "outputs": [],
   "source": [
    "\n",
    "\n",
    "def convert_gross_to_net_generation(cems, gen_fuel_allocated):\n",
    "    \"\"\"\n",
    "    Converts hourly gross generation in CEMS to hourly net generation by calculating a gross to net generation ratio\n",
    "    Inputs:\n",
    "\n",
    "    Returns: \n",
    "        cems df with an added column for net_generation_mwh and a column indicated the method used to calculate net generation\n",
    "    \"\"\"\n",
    "\n",
    "    # add a placeholder column that assumes a 1:1 gross to net generation ratio\n",
    "    # if for some reason we are not able to calculate a gross to net generation ratio, this will be used as the default assumption\n",
    "    cems['net_generation_mwh'] = cems['gross_generation_mwh']\n",
    "\n",
    "    # load the allocated eia data for each month where there is corresponding cems data\n",
    "    eia_plant_month_net_gen = gen_fuel_allocated[(gen_fuel_allocated['data_source'] == 'cems') & ~(gen_fuel_allocated['net_generation_mwh'].isna())]\n",
    "    # aggregate at the plant month level\n",
    "    eia_plant_month_net_gen = eia_plant_month_net_gen.groupby(['plant_id_eia','report_date']).sum()['net_generation_mwh'].reset_index()\n",
    "\n",
    "    # calculate the total gross generation for each plant month in cems\n",
    "    cems_plant_month_gross_gen = cems.groupby(['plant_id_eia','report_date']).sum()['gross_generation_mwh'].reset_index()\n",
    "\n",
    "    # merge the net generation data into the gross generation data\n",
    "    monthly_gtn_ratio = cems_plant_month_gross_gen.merge(eia_plant_month_net_gen, how='left', on=['plant_id_eia','report_date'])\n",
    "\n",
    "    # calculate the gtn\n",
    "    monthly_gtn_ratio['gross_to_net_ratio'] = monthly_gtn_ratio['net_generation_mwh'] / monthly_gtn_ratio['gross_generation_mwh']\n",
    "\n",
    "    # only keep values where the monthly ratio is greater than zero\n",
    "    monthly_gtn_ratio.loc[(monthly_gtn_ratio['gross_to_net_ratio'] < 0), 'gross_to_net_ratio'] = np.NaN\n",
    "\n",
    "    # Set up the regression analysis for missing values\n",
    "\n",
    "    # only keep values where there are not missing values\n",
    "    gtn_regression = monthly_gtn_ratio.copy()[~(monthly_gtn_ratio['gross_to_net_ratio'].isna())]\n",
    "    # calculate the ratio for each plant and create a dataframe\n",
    "    gtn_regression = gtn_regression.groupby('plant_id_eia').apply(model_gross_to_net)\n",
    "    gtn_regression = pd.DataFrame(gtn_regression.tolist(), index=gtn_regression.index, columns=['gtn_linear', 'rsquared','rsquared_adj','observations']).reset_index()\n",
    "    # only keep the results with adjusted rsquared values greater than 0.70\n",
    "    gtn_regression = gtn_regression[gtn_regression['rsquared_adj'] >= 0.7]\n",
    "\n",
    "    # merge in regression results\n",
    "    monthly_gtn_ratio = monthly_gtn_ratio.merge(gtn_regression[['plant_id_eia','gtn_linear']], how='left', on='plant_id_eia')\n",
    "\n",
    "    # add a status column for how the net generation was calculated \n",
    "    monthly_gtn_ratio['net_gen_method'] = 'monthly_ratio'\n",
    "    monthly_gtn_ratio.loc[(monthly_gtn_ratio['gross_to_net_ratio'].isna()) & ~(monthly_gtn_ratio['gtn_linear'].isna()), 'net_gen_method'] = 'annual_regression'\n",
    "    monthly_gtn_ratio.loc[(monthly_gtn_ratio['gross_to_net_ratio'].isna()) & (monthly_gtn_ratio['gtn_linear'].isna()), 'net_gen_method'] = 'net_equals_gross'\n",
    "\n",
    "    # fill missing values using the ratio from the regression results\n",
    "    monthly_gtn_ratio['gross_to_net_ratio'] = monthly_gtn_ratio['gross_to_net_ratio'].fillna(monthly_gtn_ratio['gtn_linear'])\n",
    "\n",
    "    # merge the gtn ratio into the cems data\n",
    "    cems = cems.merge(monthly_gtn_ratio[['plant_id_eia','report_date','gross_to_net_ratio','net_gen_method']], how='left', on=['plant_id_eia','report_date'])\n",
    "    # calculate hourly net generation\n",
    "    cems['net_generation_mwh_calculated'] = cems['gross_generation_mwh'] * cems['gross_to_net_ratio']\n",
    "    \n",
    "    # update the net generation column using the calculated values\n",
    "    cems['net_generation_mwh'].update(cems['net_generation_mwh_calculated'])\n",
    "\n",
    "    # update the method column to indicate which used the default assumption\n",
    "    cems['net_gen_method'] = cems['net_gen_method'].fillna('net_equals_gross')\n",
    "\n",
    "    # drop the calculated column\n",
    "    cems = cems.drop(columns=['net_generation_mwh_calculated'])\n",
    "\n",
    "    return cems"
   ]
  },
  {
   "cell_type": "code",
   "execution_count": null,
   "metadata": {},
   "outputs": [],
   "source": [
    "# TESTING\n",
    "\n",
    "# 1a: Try monthly GTN by generator\n",
    "# load the allocated eia data for each month where there is corresponding cems data\n",
    "eia_gen_month_net_gen = gen_fuel_allocated[(gen_fuel_allocated['data_source'] == 'cems') & ~(gen_fuel_allocated['net_generation_mwh'].isna())]\n",
    "# aggregate at the generator month level\n",
    "eia_gen_month_net_gen = eia_gen_month_net_gen.groupby(['plant_id_eia','generator_id','report_date']).sum()['net_generation_mwh'].reset_index()\n",
    "\n",
    "# match unit id to generator id\n",
    "cems_gen_month_gross_gen = data_cleaning.crosswalk_epa_unit_to_eia_generator_id(cems, unique_gen_match=True)\n",
    "# drop any observations where there is not a match to a generator id\n",
    "cems_gen_month_gross_gen = cems_gen_month_gross_gen[~cems_gen_month_gross_gen['generator_id'].isna()]\n",
    "\n",
    "# calculate the total gross generation for each generator month in cems\n",
    "cems_gen_month_gross_gen = cems_gen_month_gross_gen.groupby(['plant_id_eia','generator_id','report_date']).sum()['gross_generation_mwh'].reset_index()\n",
    "\n",
    "# merge the net generation data into the gross generation data\n",
    "monthly_gtn_ratio = cems_gen_month_gross_gen.merge(eia_gen_month_net_gen, how='left', on=['plant_id_eia','generator_id','report_date'])\n",
    "\n",
    "# calculate the gtn\n",
    "monthly_gtn_ratio['gtn_ratio_gen_month'] = monthly_gtn_ratio['net_generation_mwh'] / monthly_gtn_ratio['gross_generation_mwh']\n",
    "\n",
    "#### Calculate annual values by gen\n",
    "\n",
    "# identify whether any individual month GTNs are very large\n",
    "annual_gtn_ratio = monthly_gtn_ratio.groupby(['plant_id_eia','generator_id']).max()['gtn_ratio_gen_month'].reset_index()\n",
    "# only keep values for which the maximum GTN values are unrealistic\n",
    "annual_gtn_ratio = annual_gtn_ratio[(annual_gtn_ratio['gtn_ratio_gen_month'] > 1.1) | (annual_gtn_ratio['gtn_ratio_gen_month'] < 0)]\n",
    "\n",
    "# calculate annual net gen values\n",
    "eia_gen_year_net_gen = eia_gen_month_net_gen.groupby(['plant_id_eia','generator_id']).sum().reset_index()\n",
    "cems_gen_year_gross_gen = cems_gen_month_gross_gen.groupby(['plant_id_eia','generator_id']).sum().reset_index()\n",
    "\n",
    "# merge in the annual gross generation and net generation data\n",
    "annual_gtn_ratio = annual_gtn_ratio.merge(cems_gen_year_gross_gen, how='left', on=['plant_id_eia','generator_id'])\n",
    "annual_gtn_ratio = annual_gtn_ratio.merge(eia_gen_year_net_gen, how='left', on=['plant_id_eia','generator_id'])\n",
    "\n",
    "# calculate the gtn\n",
    "annual_gtn_ratio['gtn_ratio_gen_year'] = annual_gtn_ratio['net_generation_mwh'] / annual_gtn_ratio['gross_generation_mwh']\n",
    "\n",
    "# merge this back into the monthly data\n",
    "monthly_gtn_ratio = monthly_gtn_ratio.merge(annual_gtn_ratio[['plant_id_eia','generator_id','gtn_ratio_gen_year']], how='left', on=['plant_id_eia','generator_id'])\n",
    "\n",
    "# NOTE\n",
    "# In some cases, using the annual gtn value may lead to overestimating monthly generation\n",
    "# it might depend on how the generation is getting allocated\n",
    "\n",
    "monthly_gtn_ratio[monthly_gtn_ratio['plant_id_eia'] == 61242]"
   ]
  }
 ],
 "metadata": {
  "interpreter": {
   "hash": "4103f3cd497821eca917ea303dbe10c590d787eb7d2dc3fd4e15dec0356e7931"
  },
  "kernelspec": {
   "display_name": "Python 3 (ipykernel)",
   "language": "python",
   "name": "python3"
  },
  "language_info": {
   "codemirror_mode": {
    "name": "ipython",
    "version": 3
   },
   "file_extension": ".py",
   "mimetype": "text/x-python",
   "name": "python",
   "nbconvert_exporter": "python",
   "pygments_lexer": "ipython3",
   "version": "3.10.5"
  }
 },
 "nbformat": 4,
 "nbformat_minor": 2
}
