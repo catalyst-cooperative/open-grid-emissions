{
 "cells": [
  {
   "cell_type": "markdown",
   "metadata": {},
   "source": [
    "# Perform a regression on gross and net generation data from multiple years\n",
    "\n",
    "We want to run a regression on multiple years of CEMS and EIA data. We can do by month, and also on an annual basis\n",
    "\n",
    "We should probably aggregate by plant-prime mover-environmental equipment.\n",
    "\n",
    "Steps:\n",
    "1. Load and clean gross generation data for multiple years\n",
    "2. Load and distribute net generation data from EIA for multiple years\n",
    "3. Aggregate / map data from both source"
   ]
  },
  {
   "cell_type": "code",
   "execution_count": 70,
   "metadata": {},
   "outputs": [],
   "source": [
    "# Tell python where to look for modules. \n",
    "# Depending on how your jupyter handles working directories, this may not be needed.\n",
    "import sys\n",
    "sys.path.append('../../hourly-egrid/')\n",
    "\n",
    "# import the necessary packages\n",
    "%reload_ext autoreload\n",
    "%autoreload 2\n",
    "\n",
    "# import packages\n",
    "import sqlalchemy as sa\n",
    "from pathlib import Path\n",
    "import pandas as pd\n",
    "import plotly.express as px\n",
    "import numpy as np\n",
    "import statsmodels.formula.api as smf\n",
    "import warnings\n",
    "\n",
    "import pudl.analysis.allocate_net_gen as allocate_gen_fuel\n",
    "import pudl.output.pudltabl\n",
    "\n",
    "import src.data_cleaning as data_cleaning\n",
    "import src.gross_to_net_generation as gross_to_net_generation\n",
    "import src.load_data as load_data\n"
   ]
  },
  {
   "cell_type": "markdown",
   "metadata": {},
   "source": [
    "# Load Data\n",
    "We need to load net generation data from EIA-923 and gross generation data from CEMS"
   ]
  },
  {
   "cell_type": "code",
   "execution_count": 2,
   "metadata": {},
   "outputs": [],
   "source": [
    "# start with only two years to test multi-year functionality\n",
    "start_year = 2019\n",
    "end_year = 2020\n",
    "\n",
    "# create pudl_out\n",
    "pudl_db = \"sqlite:///../data/pudl/pudl_data/sqlite/pudl.sqlite\"\n",
    "pudl_engine = sa.create_engine(pudl_db)\n",
    "pudl_out = pudl.output.pudltabl.PudlTabl(pudl_engine, freq=\"MS\", start_date=f\"{start_year}-01-01\", end_date=f\"{end_year}-12-31\")"
   ]
  },
  {
   "cell_type": "code",
   "execution_count": 3,
   "metadata": {},
   "outputs": [],
   "source": [
    "# allocate net generation and heat input to each generator-fuel grouping\n",
    "gen_fuel_allocated = allocate_gen_fuel.allocate_gen_fuel_by_generator_energy_source(pudl_out, drop_interim_cols=True)\n",
    "# aggregate the allocated data to the generator level\n",
    "gen_fuel_allocated = allocate_gen_fuel.agg_by_generator(gen_fuel_allocated, \n",
    "                                                        sum_cols=[\"net_generation_mwh\"])"
   ]
  },
  {
   "cell_type": "code",
   "execution_count": 13,
   "metadata": {},
   "outputs": [
    {
     "name": "stdout",
     "output_type": "stream",
     "text": [
      "loading 2019\n",
      "loading 2020\n",
      "adding report date\n"
     ]
    }
   ],
   "source": [
    "cems_all = []\n",
    "for year in range(start_year, end_year+1):\n",
    "    print(f'loading {year}')\n",
    "    # specify the path to the CEMS data\n",
    "    cems_path = f\"../data/pudl/pudl_data/parquet/epacems/year={year}\"\n",
    "\n",
    "    # specify the columns to use from the CEMS database\n",
    "    cems_columns = [\n",
    "        \"plant_id_eia\",\n",
    "        \"unitid\",\n",
    "        \"operating_datetime_utc\",\n",
    "        \"operating_time_hours\",\n",
    "        \"gross_load_mw\"]\n",
    "\n",
    "    # load the CEMS data\n",
    "    cems = pd.read_parquet(cems_path, columns=cems_columns)\n",
    "\n",
    "    # only keep observations where gross load is greater than zero\n",
    "    cems = cems[cems['gross_load_mw'] > 0]\n",
    "\n",
    "    # rename cems plant_id_eia to plant_id_epa (PUDL simply renames the ORISPL_CODE column from the raw CEMS data as 'plant_id_eia' without actually crosswalking to the EIA id)\n",
    "    # rename the heat content column to use the convention used in the EIA data\n",
    "    cems = cems.rename(columns={\"plant_id_eia\": \"plant_id_epa\",})\n",
    "\n",
    "    # if the unitid has any leading zeros, remove them\n",
    "    cems[\"unitid\"] = cems[\"unitid\"].str.lstrip(\"0\")\n",
    "\n",
    "    # crosswalk the plant IDs and add a plant_id_eia column\n",
    "    cems = data_cleaning.crosswalk_epa_eia_plant_ids(cems, year)\n",
    "\n",
    "    # fill any missing values for operating time or steam load with zero\n",
    "    cems[\"operating_time_hours\"] = cems[\"operating_time_hours\"].fillna(0)\n",
    "\n",
    "    # calculate gross generation by multiplying gross_load_mw by operating_time_hours\n",
    "    cems[\"gross_generation_mwh\"] = cems[\"gross_load_mw\"] * cems[\"operating_time_hours\"]\n",
    "\n",
    "    cems_all.append(cems)\n",
    "\n",
    "cems = pd.concat(cems_all, axis=0)\n",
    "\n",
    "# add a report date\n",
    "print('adding report date')\n",
    "cems = data_cleaning.add_report_date(cems)"
   ]
  },
  {
   "cell_type": "markdown",
   "metadata": {},
   "source": [
    "# Aggregate the data to the monthly level\n",
    "For now we will aggregate to plant-month, but in the future we probably want to aggregate at a sub-plant level"
   ]
  },
  {
   "cell_type": "code",
   "execution_count": 105,
   "metadata": {},
   "outputs": [],
   "source": [
    "groupby_columns = ['plant_id_eia','report_date']\n",
    "\n",
    "net_gen = gen_fuel_allocated.groupby(groupby_columns).sum(min_count=1)['net_generation_mwh'].reset_index()\n",
    "gross_gen = cems.groupby(groupby_columns).sum()['gross_generation_mwh'].reset_index()\n",
    "gen_data = gross_gen.merge(net_gen, how='outer', on=groupby_columns)\n",
    "# add a column for the number of hours in each month\n",
    "gen_data['hours_in_month'] = gen_data['report_date'].dt.daysinmonth * 24"
   ]
  },
  {
   "cell_type": "code",
   "execution_count": 106,
   "metadata": {},
   "outputs": [
    {
     "data": {
      "text/html": [
       "<div>\n",
       "<style scoped>\n",
       "    .dataframe tbody tr th:only-of-type {\n",
       "        vertical-align: middle;\n",
       "    }\n",
       "\n",
       "    .dataframe tbody tr th {\n",
       "        vertical-align: top;\n",
       "    }\n",
       "\n",
       "    .dataframe thead th {\n",
       "        text-align: right;\n",
       "    }\n",
       "</style>\n",
       "<table border=\"1\" class=\"dataframe\">\n",
       "  <thead>\n",
       "    <tr style=\"text-align: right;\">\n",
       "      <th></th>\n",
       "      <th>plant_id_eia</th>\n",
       "      <th>report_date</th>\n",
       "      <th>gross_generation_mwh</th>\n",
       "      <th>net_generation_mwh</th>\n",
       "      <th>hours_in_month</th>\n",
       "    </tr>\n",
       "  </thead>\n",
       "  <tbody>\n",
       "    <tr>\n",
       "      <th>0</th>\n",
       "      <td>3</td>\n",
       "      <td>2019-01-01</td>\n",
       "      <td>1164732.50</td>\n",
       "      <td>1119662.004</td>\n",
       "      <td>744</td>\n",
       "    </tr>\n",
       "    <tr>\n",
       "      <th>1</th>\n",
       "      <td>3</td>\n",
       "      <td>2019-02-01</td>\n",
       "      <td>1013578.50</td>\n",
       "      <td>978682.003</td>\n",
       "      <td>672</td>\n",
       "    </tr>\n",
       "    <tr>\n",
       "      <th>2</th>\n",
       "      <td>3</td>\n",
       "      <td>2019-03-01</td>\n",
       "      <td>1098591.25</td>\n",
       "      <td>1055741.002</td>\n",
       "      <td>744</td>\n",
       "    </tr>\n",
       "    <tr>\n",
       "      <th>3</th>\n",
       "      <td>3</td>\n",
       "      <td>2019-04-01</td>\n",
       "      <td>896556.00</td>\n",
       "      <td>858151.999</td>\n",
       "      <td>720</td>\n",
       "    </tr>\n",
       "    <tr>\n",
       "      <th>4</th>\n",
       "      <td>3</td>\n",
       "      <td>2019-05-01</td>\n",
       "      <td>1098707.00</td>\n",
       "      <td>1057926.000</td>\n",
       "      <td>744</td>\n",
       "    </tr>\n",
       "    <tr>\n",
       "      <th>...</th>\n",
       "      <td>...</td>\n",
       "      <td>...</td>\n",
       "      <td>...</td>\n",
       "      <td>...</td>\n",
       "      <td>...</td>\n",
       "    </tr>\n",
       "    <tr>\n",
       "      <th>245368</th>\n",
       "      <td>64837</td>\n",
       "      <td>2020-08-01</td>\n",
       "      <td>NaN</td>\n",
       "      <td>NaN</td>\n",
       "      <td>744</td>\n",
       "    </tr>\n",
       "    <tr>\n",
       "      <th>245369</th>\n",
       "      <td>64837</td>\n",
       "      <td>2020-09-01</td>\n",
       "      <td>NaN</td>\n",
       "      <td>NaN</td>\n",
       "      <td>720</td>\n",
       "    </tr>\n",
       "    <tr>\n",
       "      <th>245370</th>\n",
       "      <td>64837</td>\n",
       "      <td>2020-10-01</td>\n",
       "      <td>NaN</td>\n",
       "      <td>NaN</td>\n",
       "      <td>744</td>\n",
       "    </tr>\n",
       "    <tr>\n",
       "      <th>245371</th>\n",
       "      <td>64837</td>\n",
       "      <td>2020-11-01</td>\n",
       "      <td>NaN</td>\n",
       "      <td>NaN</td>\n",
       "      <td>720</td>\n",
       "    </tr>\n",
       "    <tr>\n",
       "      <th>245372</th>\n",
       "      <td>64837</td>\n",
       "      <td>2020-12-01</td>\n",
       "      <td>NaN</td>\n",
       "      <td>NaN</td>\n",
       "      <td>744</td>\n",
       "    </tr>\n",
       "  </tbody>\n",
       "</table>\n",
       "<p>245373 rows × 5 columns</p>\n",
       "</div>"
      ],
      "text/plain": [
       "        plant_id_eia report_date  gross_generation_mwh  net_generation_mwh  hours_in_month\n",
       "0                  3  2019-01-01            1164732.50         1119662.004             744\n",
       "1                  3  2019-02-01            1013578.50          978682.003             672\n",
       "2                  3  2019-03-01            1098591.25         1055741.002             744\n",
       "3                  3  2019-04-01             896556.00          858151.999             720\n",
       "4                  3  2019-05-01            1098707.00         1057926.000             744\n",
       "...              ...         ...                   ...                 ...             ...\n",
       "245368         64837  2020-08-01                   NaN                 NaN             744\n",
       "245369         64837  2020-09-01                   NaN                 NaN             720\n",
       "245370         64837  2020-10-01                   NaN                 NaN             744\n",
       "245371         64837  2020-11-01                   NaN                 NaN             720\n",
       "245372         64837  2020-12-01                   NaN                 NaN             744\n",
       "\n",
       "[245373 rows x 5 columns]"
      ]
     },
     "execution_count": 106,
     "metadata": {},
     "output_type": "execute_result"
    }
   ],
   "source": [
    "gen_data"
   ]
  },
  {
   "cell_type": "code",
   "execution_count": 95,
   "metadata": {},
   "outputs": [
    {
     "data": {
      "application/vnd.plotly.v1+json": {
       "config": {
        "plotlyServerURL": "https://plot.ly"
       },
       "data": [
        {
         "customdata": [
          [
           "2019-08-01T00:00:00"
          ],
          [
           "2019-09-01T00:00:00"
          ],
          [
           "2020-08-01T00:00:00"
          ],
          [
           "2020-09-01T00:00:00"
          ],
          [
           "2019-01-01T00:00:00"
          ],
          [
           "2019-02-01T00:00:00"
          ],
          [
           "2019-03-01T00:00:00"
          ],
          [
           "2019-04-01T00:00:00"
          ],
          [
           "2019-05-01T00:00:00"
          ],
          [
           "2019-06-01T00:00:00"
          ],
          [
           "2019-07-01T00:00:00"
          ],
          [
           "2019-10-01T00:00:00"
          ],
          [
           "2019-11-01T00:00:00"
          ],
          [
           "2019-12-01T00:00:00"
          ],
          [
           "2020-01-01T00:00:00"
          ],
          [
           "2020-02-01T00:00:00"
          ],
          [
           "2020-03-01T00:00:00"
          ],
          [
           "2020-04-01T00:00:00"
          ],
          [
           "2020-05-01T00:00:00"
          ],
          [
           "2020-06-01T00:00:00"
          ],
          [
           "2020-07-01T00:00:00"
          ],
          [
           "2020-10-01T00:00:00"
          ],
          [
           "2020-11-01T00:00:00"
          ],
          [
           "2020-12-01T00:00:00"
          ]
         ],
         "hovertemplate": "gross_generation_mwh=%{x}<br>net_generation_mwh=%{y}<br>report_date=%{customdata[0]}<extra></extra>",
         "legendgroup": "",
         "marker": {
          "color": "#636efa",
          "symbol": "circle"
         },
         "mode": "markers",
         "name": "",
         "orientation": "v",
         "showlegend": false,
         "type": "scatter",
         "x": [
          98,
          308,
          154,
          126,
          null,
          null,
          null,
          null,
          null,
          null,
          null,
          null,
          null,
          null,
          null,
          null,
          null,
          null,
          null,
          null,
          null,
          null,
          null,
          null
         ],
         "xaxis": "x",
         "y": [
          0.378,
          1.662,
          19.266,
          50.07,
          230.071,
          47.599,
          0.785,
          0.394,
          0.626,
          0.414,
          0.199,
          0.439,
          0.865,
          32.568,
          72.391,
          54.277,
          45.964,
          32.659,
          69.051,
          28.626,
          47.606,
          28.625,
          69.279,
          81.186
         ],
         "yaxis": "y"
        },
        {
         "hovertemplate": "<b>OLS trendline</b><br>net_generation_mwh = -0.0914869 * gross_generation_mwh + 33.534<br>R<sup>2</sup>=0.137519<br><br>gross_generation_mwh=%{x}<br>net_generation_mwh=%{y} <b>(trend)</b><extra></extra>",
         "legendgroup": "",
         "marker": {
          "color": "#636efa",
          "symbol": "circle"
         },
         "mode": "lines",
         "name": "",
         "showlegend": false,
         "type": "scatter",
         "x": [
          98,
          126,
          154,
          308
         ],
         "xaxis": "x",
         "y": [
          24.568285714285715,
          22.00665306122449,
          19.445020408163266,
          5.35604081632653
         ],
         "yaxis": "y"
        }
       ],
       "layout": {
        "height": 600,
        "legend": {
         "tracegroupgap": 0
        },
        "margin": {
         "t": 60
        },
        "shapes": [
         {
          "line": {
           "color": "Black",
           "width": 1
          },
          "type": "line",
          "x0": 0.199,
          "x1": 308,
          "y0": 0.199,
          "y1": 308
         }
        ],
        "template": {
         "data": {
          "bar": [
           {
            "error_x": {
             "color": "#2a3f5f"
            },
            "error_y": {
             "color": "#2a3f5f"
            },
            "marker": {
             "line": {
              "color": "#E5ECF6",
              "width": 0.5
             },
             "pattern": {
              "fillmode": "overlay",
              "size": 10,
              "solidity": 0.2
             }
            },
            "type": "bar"
           }
          ],
          "barpolar": [
           {
            "marker": {
             "line": {
              "color": "#E5ECF6",
              "width": 0.5
             },
             "pattern": {
              "fillmode": "overlay",
              "size": 10,
              "solidity": 0.2
             }
            },
            "type": "barpolar"
           }
          ],
          "carpet": [
           {
            "aaxis": {
             "endlinecolor": "#2a3f5f",
             "gridcolor": "white",
             "linecolor": "white",
             "minorgridcolor": "white",
             "startlinecolor": "#2a3f5f"
            },
            "baxis": {
             "endlinecolor": "#2a3f5f",
             "gridcolor": "white",
             "linecolor": "white",
             "minorgridcolor": "white",
             "startlinecolor": "#2a3f5f"
            },
            "type": "carpet"
           }
          ],
          "choropleth": [
           {
            "colorbar": {
             "outlinewidth": 0,
             "ticks": ""
            },
            "type": "choropleth"
           }
          ],
          "contour": [
           {
            "colorbar": {
             "outlinewidth": 0,
             "ticks": ""
            },
            "colorscale": [
             [
              0,
              "#0d0887"
             ],
             [
              0.1111111111111111,
              "#46039f"
             ],
             [
              0.2222222222222222,
              "#7201a8"
             ],
             [
              0.3333333333333333,
              "#9c179e"
             ],
             [
              0.4444444444444444,
              "#bd3786"
             ],
             [
              0.5555555555555556,
              "#d8576b"
             ],
             [
              0.6666666666666666,
              "#ed7953"
             ],
             [
              0.7777777777777778,
              "#fb9f3a"
             ],
             [
              0.8888888888888888,
              "#fdca26"
             ],
             [
              1,
              "#f0f921"
             ]
            ],
            "type": "contour"
           }
          ],
          "contourcarpet": [
           {
            "colorbar": {
             "outlinewidth": 0,
             "ticks": ""
            },
            "type": "contourcarpet"
           }
          ],
          "heatmap": [
           {
            "colorbar": {
             "outlinewidth": 0,
             "ticks": ""
            },
            "colorscale": [
             [
              0,
              "#0d0887"
             ],
             [
              0.1111111111111111,
              "#46039f"
             ],
             [
              0.2222222222222222,
              "#7201a8"
             ],
             [
              0.3333333333333333,
              "#9c179e"
             ],
             [
              0.4444444444444444,
              "#bd3786"
             ],
             [
              0.5555555555555556,
              "#d8576b"
             ],
             [
              0.6666666666666666,
              "#ed7953"
             ],
             [
              0.7777777777777778,
              "#fb9f3a"
             ],
             [
              0.8888888888888888,
              "#fdca26"
             ],
             [
              1,
              "#f0f921"
             ]
            ],
            "type": "heatmap"
           }
          ],
          "heatmapgl": [
           {
            "colorbar": {
             "outlinewidth": 0,
             "ticks": ""
            },
            "colorscale": [
             [
              0,
              "#0d0887"
             ],
             [
              0.1111111111111111,
              "#46039f"
             ],
             [
              0.2222222222222222,
              "#7201a8"
             ],
             [
              0.3333333333333333,
              "#9c179e"
             ],
             [
              0.4444444444444444,
              "#bd3786"
             ],
             [
              0.5555555555555556,
              "#d8576b"
             ],
             [
              0.6666666666666666,
              "#ed7953"
             ],
             [
              0.7777777777777778,
              "#fb9f3a"
             ],
             [
              0.8888888888888888,
              "#fdca26"
             ],
             [
              1,
              "#f0f921"
             ]
            ],
            "type": "heatmapgl"
           }
          ],
          "histogram": [
           {
            "marker": {
             "pattern": {
              "fillmode": "overlay",
              "size": 10,
              "solidity": 0.2
             }
            },
            "type": "histogram"
           }
          ],
          "histogram2d": [
           {
            "colorbar": {
             "outlinewidth": 0,
             "ticks": ""
            },
            "colorscale": [
             [
              0,
              "#0d0887"
             ],
             [
              0.1111111111111111,
              "#46039f"
             ],
             [
              0.2222222222222222,
              "#7201a8"
             ],
             [
              0.3333333333333333,
              "#9c179e"
             ],
             [
              0.4444444444444444,
              "#bd3786"
             ],
             [
              0.5555555555555556,
              "#d8576b"
             ],
             [
              0.6666666666666666,
              "#ed7953"
             ],
             [
              0.7777777777777778,
              "#fb9f3a"
             ],
             [
              0.8888888888888888,
              "#fdca26"
             ],
             [
              1,
              "#f0f921"
             ]
            ],
            "type": "histogram2d"
           }
          ],
          "histogram2dcontour": [
           {
            "colorbar": {
             "outlinewidth": 0,
             "ticks": ""
            },
            "colorscale": [
             [
              0,
              "#0d0887"
             ],
             [
              0.1111111111111111,
              "#46039f"
             ],
             [
              0.2222222222222222,
              "#7201a8"
             ],
             [
              0.3333333333333333,
              "#9c179e"
             ],
             [
              0.4444444444444444,
              "#bd3786"
             ],
             [
              0.5555555555555556,
              "#d8576b"
             ],
             [
              0.6666666666666666,
              "#ed7953"
             ],
             [
              0.7777777777777778,
              "#fb9f3a"
             ],
             [
              0.8888888888888888,
              "#fdca26"
             ],
             [
              1,
              "#f0f921"
             ]
            ],
            "type": "histogram2dcontour"
           }
          ],
          "mesh3d": [
           {
            "colorbar": {
             "outlinewidth": 0,
             "ticks": ""
            },
            "type": "mesh3d"
           }
          ],
          "parcoords": [
           {
            "line": {
             "colorbar": {
              "outlinewidth": 0,
              "ticks": ""
             }
            },
            "type": "parcoords"
           }
          ],
          "pie": [
           {
            "automargin": true,
            "type": "pie"
           }
          ],
          "scatter": [
           {
            "marker": {
             "colorbar": {
              "outlinewidth": 0,
              "ticks": ""
             }
            },
            "type": "scatter"
           }
          ],
          "scatter3d": [
           {
            "line": {
             "colorbar": {
              "outlinewidth": 0,
              "ticks": ""
             }
            },
            "marker": {
             "colorbar": {
              "outlinewidth": 0,
              "ticks": ""
             }
            },
            "type": "scatter3d"
           }
          ],
          "scattercarpet": [
           {
            "marker": {
             "colorbar": {
              "outlinewidth": 0,
              "ticks": ""
             }
            },
            "type": "scattercarpet"
           }
          ],
          "scattergeo": [
           {
            "marker": {
             "colorbar": {
              "outlinewidth": 0,
              "ticks": ""
             }
            },
            "type": "scattergeo"
           }
          ],
          "scattergl": [
           {
            "marker": {
             "colorbar": {
              "outlinewidth": 0,
              "ticks": ""
             }
            },
            "type": "scattergl"
           }
          ],
          "scattermapbox": [
           {
            "marker": {
             "colorbar": {
              "outlinewidth": 0,
              "ticks": ""
             }
            },
            "type": "scattermapbox"
           }
          ],
          "scatterpolar": [
           {
            "marker": {
             "colorbar": {
              "outlinewidth": 0,
              "ticks": ""
             }
            },
            "type": "scatterpolar"
           }
          ],
          "scatterpolargl": [
           {
            "marker": {
             "colorbar": {
              "outlinewidth": 0,
              "ticks": ""
             }
            },
            "type": "scatterpolargl"
           }
          ],
          "scatterternary": [
           {
            "marker": {
             "colorbar": {
              "outlinewidth": 0,
              "ticks": ""
             }
            },
            "type": "scatterternary"
           }
          ],
          "surface": [
           {
            "colorbar": {
             "outlinewidth": 0,
             "ticks": ""
            },
            "colorscale": [
             [
              0,
              "#0d0887"
             ],
             [
              0.1111111111111111,
              "#46039f"
             ],
             [
              0.2222222222222222,
              "#7201a8"
             ],
             [
              0.3333333333333333,
              "#9c179e"
             ],
             [
              0.4444444444444444,
              "#bd3786"
             ],
             [
              0.5555555555555556,
              "#d8576b"
             ],
             [
              0.6666666666666666,
              "#ed7953"
             ],
             [
              0.7777777777777778,
              "#fb9f3a"
             ],
             [
              0.8888888888888888,
              "#fdca26"
             ],
             [
              1,
              "#f0f921"
             ]
            ],
            "type": "surface"
           }
          ],
          "table": [
           {
            "cells": {
             "fill": {
              "color": "#EBF0F8"
             },
             "line": {
              "color": "white"
             }
            },
            "header": {
             "fill": {
              "color": "#C8D4E3"
             },
             "line": {
              "color": "white"
             }
            },
            "type": "table"
           }
          ]
         },
         "layout": {
          "annotationdefaults": {
           "arrowcolor": "#2a3f5f",
           "arrowhead": 0,
           "arrowwidth": 1
          },
          "autotypenumbers": "strict",
          "coloraxis": {
           "colorbar": {
            "outlinewidth": 0,
            "ticks": ""
           }
          },
          "colorscale": {
           "diverging": [
            [
             0,
             "#8e0152"
            ],
            [
             0.1,
             "#c51b7d"
            ],
            [
             0.2,
             "#de77ae"
            ],
            [
             0.3,
             "#f1b6da"
            ],
            [
             0.4,
             "#fde0ef"
            ],
            [
             0.5,
             "#f7f7f7"
            ],
            [
             0.6,
             "#e6f5d0"
            ],
            [
             0.7,
             "#b8e186"
            ],
            [
             0.8,
             "#7fbc41"
            ],
            [
             0.9,
             "#4d9221"
            ],
            [
             1,
             "#276419"
            ]
           ],
           "sequential": [
            [
             0,
             "#0d0887"
            ],
            [
             0.1111111111111111,
             "#46039f"
            ],
            [
             0.2222222222222222,
             "#7201a8"
            ],
            [
             0.3333333333333333,
             "#9c179e"
            ],
            [
             0.4444444444444444,
             "#bd3786"
            ],
            [
             0.5555555555555556,
             "#d8576b"
            ],
            [
             0.6666666666666666,
             "#ed7953"
            ],
            [
             0.7777777777777778,
             "#fb9f3a"
            ],
            [
             0.8888888888888888,
             "#fdca26"
            ],
            [
             1,
             "#f0f921"
            ]
           ],
           "sequentialminus": [
            [
             0,
             "#0d0887"
            ],
            [
             0.1111111111111111,
             "#46039f"
            ],
            [
             0.2222222222222222,
             "#7201a8"
            ],
            [
             0.3333333333333333,
             "#9c179e"
            ],
            [
             0.4444444444444444,
             "#bd3786"
            ],
            [
             0.5555555555555556,
             "#d8576b"
            ],
            [
             0.6666666666666666,
             "#ed7953"
            ],
            [
             0.7777777777777778,
             "#fb9f3a"
            ],
            [
             0.8888888888888888,
             "#fdca26"
            ],
            [
             1,
             "#f0f921"
            ]
           ]
          },
          "colorway": [
           "#636efa",
           "#EF553B",
           "#00cc96",
           "#ab63fa",
           "#FFA15A",
           "#19d3f3",
           "#FF6692",
           "#B6E880",
           "#FF97FF",
           "#FECB52"
          ],
          "font": {
           "color": "#2a3f5f"
          },
          "geo": {
           "bgcolor": "white",
           "lakecolor": "white",
           "landcolor": "#E5ECF6",
           "showlakes": true,
           "showland": true,
           "subunitcolor": "white"
          },
          "hoverlabel": {
           "align": "left"
          },
          "hovermode": "closest",
          "mapbox": {
           "style": "light"
          },
          "paper_bgcolor": "white",
          "plot_bgcolor": "#E5ECF6",
          "polar": {
           "angularaxis": {
            "gridcolor": "white",
            "linecolor": "white",
            "ticks": ""
           },
           "bgcolor": "#E5ECF6",
           "radialaxis": {
            "gridcolor": "white",
            "linecolor": "white",
            "ticks": ""
           }
          },
          "scene": {
           "xaxis": {
            "backgroundcolor": "#E5ECF6",
            "gridcolor": "white",
            "gridwidth": 2,
            "linecolor": "white",
            "showbackground": true,
            "ticks": "",
            "zerolinecolor": "white"
           },
           "yaxis": {
            "backgroundcolor": "#E5ECF6",
            "gridcolor": "white",
            "gridwidth": 2,
            "linecolor": "white",
            "showbackground": true,
            "ticks": "",
            "zerolinecolor": "white"
           },
           "zaxis": {
            "backgroundcolor": "#E5ECF6",
            "gridcolor": "white",
            "gridwidth": 2,
            "linecolor": "white",
            "showbackground": true,
            "ticks": "",
            "zerolinecolor": "white"
           }
          },
          "shapedefaults": {
           "line": {
            "color": "#2a3f5f"
           }
          },
          "ternary": {
           "aaxis": {
            "gridcolor": "white",
            "linecolor": "white",
            "ticks": ""
           },
           "baxis": {
            "gridcolor": "white",
            "linecolor": "white",
            "ticks": ""
           },
           "bgcolor": "#E5ECF6",
           "caxis": {
            "gridcolor": "white",
            "linecolor": "white",
            "ticks": ""
           }
          },
          "title": {
           "x": 0.05
          },
          "xaxis": {
           "automargin": true,
           "gridcolor": "white",
           "linecolor": "white",
           "ticks": "",
           "title": {
            "standoff": 15
           },
           "zerolinecolor": "white",
           "zerolinewidth": 2
          },
          "yaxis": {
           "automargin": true,
           "gridcolor": "white",
           "linecolor": "white",
           "ticks": "",
           "title": {
            "standoff": 15
           },
           "zerolinecolor": "white",
           "zerolinewidth": 2
          }
         }
        },
        "width": 600,
        "xaxis": {
         "anchor": "y",
         "domain": [
          0,
          1
         ],
         "title": {
          "text": "gross_generation_mwh"
         }
        },
        "yaxis": {
         "anchor": "x",
         "domain": [
          0,
          1
         ],
         "title": {
          "text": "net_generation_mwh"
         }
        }
       }
      }
     },
     "metadata": {},
     "output_type": "display_data"
    }
   ],
   "source": [
    "id = 2504\n",
    "data_to_plot = gen_data[gen_data['plant_id_eia'] == id]\n",
    "corner_0 = data_to_plot[['gross_generation_mwh','net_generation_mwh']].min().min()\n",
    "corner_1 = data_to_plot[['gross_generation_mwh','net_generation_mwh']].max().max()\n",
    "\n",
    "px.scatter(data_to_plot, \n",
    "           x='gross_generation_mwh', \n",
    "           y='net_generation_mwh',\n",
    "           hover_data=['report_date'],\n",
    "           width=600,\n",
    "           height=600,\n",
    "           trendline='ols').add_shape(type=\"line\", x0=corner_0, y0=corner_0, x1=corner_1, y1=corner_1, line=dict(color=\"Black\", width=1))"
   ]
  },
  {
   "cell_type": "markdown",
   "metadata": {},
   "source": [
    "# Calculate the regressions"
   ]
  },
  {
   "cell_type": "code",
   "execution_count": 108,
   "metadata": {},
   "outputs": [
    {
     "data": {
      "text/html": [
       "<table class=\"simpletable\">\n",
       "<caption>OLS Regression Results</caption>\n",
       "<tr>\n",
       "  <th>Dep. Variable:</th>    <td>net_generation_mwh</td> <th>  R-squared:         </th> <td>   0.999</td>\n",
       "</tr>\n",
       "<tr>\n",
       "  <th>Model:</th>                    <td>OLS</td>        <th>  Adj. R-squared:    </th> <td>   0.999</td>\n",
       "</tr>\n",
       "<tr>\n",
       "  <th>Method:</th>              <td>Least Squares</td>   <th>  F-statistic:       </th> <td>   7492.</td>\n",
       "</tr>\n",
       "<tr>\n",
       "  <th>Date:</th>              <td>Fri, 06 May 2022</td>  <th>  Prob (F-statistic):</th> <td>1.77e-29</td>\n",
       "</tr>\n",
       "<tr>\n",
       "  <th>Time:</th>                  <td>15:52:22</td>      <th>  Log-Likelihood:    </th> <td> -227.19</td>\n",
       "</tr>\n",
       "<tr>\n",
       "  <th>No. Observations:</th>       <td>    23</td>       <th>  AIC:               </th> <td>   460.4</td>\n",
       "</tr>\n",
       "<tr>\n",
       "  <th>Df Residuals:</th>           <td>    20</td>       <th>  BIC:               </th> <td>   463.8</td>\n",
       "</tr>\n",
       "<tr>\n",
       "  <th>Df Model:</th>               <td>     2</td>       <th>                     </th>     <td> </td>   \n",
       "</tr>\n",
       "<tr>\n",
       "  <th>Covariance Type:</th>       <td>nonrobust</td>     <th>                     </th>     <td> </td>   \n",
       "</tr>\n",
       "</table>\n",
       "<table class=\"simpletable\">\n",
       "<tr>\n",
       "            <td></td>              <th>coef</th>     <th>std err</th>      <th>t</th>      <th>P>|t|</th>  <th>[0.025</th>    <th>0.975]</th>  \n",
       "</tr>\n",
       "<tr>\n",
       "  <th>Intercept</th>            <td> 6.417e+04</td> <td> 4.17e+04</td> <td>    1.539</td> <td> 0.139</td> <td>-2.28e+04</td> <td> 1.51e+05</td>\n",
       "</tr>\n",
       "<tr>\n",
       "  <th>gross_generation_mwh</th> <td>    0.9574</td> <td>    0.008</td> <td>  120.328</td> <td> 0.000</td> <td>    0.941</td> <td>    0.974</td>\n",
       "</tr>\n",
       "<tr>\n",
       "  <th>hours_in_month</th>       <td>  -78.9712</td> <td>   58.157</td> <td>   -1.358</td> <td> 0.190</td> <td> -200.285</td> <td>   42.342</td>\n",
       "</tr>\n",
       "</table>\n",
       "<table class=\"simpletable\">\n",
       "<tr>\n",
       "  <th>Omnibus:</th>       <td> 3.933</td> <th>  Durbin-Watson:     </th> <td>   1.826</td>\n",
       "</tr>\n",
       "<tr>\n",
       "  <th>Prob(Omnibus):</th> <td> 0.140</td> <th>  Jarque-Bera (JB):  </th> <td>   2.263</td>\n",
       "</tr>\n",
       "<tr>\n",
       "  <th>Skew:</th>          <td> 0.722</td> <th>  Prob(JB):          </th> <td>   0.322</td>\n",
       "</tr>\n",
       "<tr>\n",
       "  <th>Kurtosis:</th>      <td> 3.525</td> <th>  Cond. No.          </th> <td>4.13e+07</td>\n",
       "</tr>\n",
       "</table><br/><br/>Notes:<br/>[1] Standard Errors assume that the covariance matrix of the errors is correctly specified.<br/>[2] The condition number is large, 4.13e+07. This might indicate that there are<br/>strong multicollinearity or other numerical problems."
      ],
      "text/plain": [
       "<class 'statsmodels.iolib.summary.Summary'>\n",
       "\"\"\"\n",
       "                            OLS Regression Results                            \n",
       "==============================================================================\n",
       "Dep. Variable:     net_generation_mwh   R-squared:                       0.999\n",
       "Model:                            OLS   Adj. R-squared:                  0.999\n",
       "Method:                 Least Squares   F-statistic:                     7492.\n",
       "Date:                Fri, 06 May 2022   Prob (F-statistic):           1.77e-29\n",
       "Time:                        15:52:22   Log-Likelihood:                -227.19\n",
       "No. Observations:                  23   AIC:                             460.4\n",
       "Df Residuals:                      20   BIC:                             463.8\n",
       "Df Model:                           2                                         \n",
       "Covariance Type:            nonrobust                                         \n",
       "========================================================================================\n",
       "                           coef    std err          t      P>|t|      [0.025      0.975]\n",
       "----------------------------------------------------------------------------------------\n",
       "Intercept             6.417e+04   4.17e+04      1.539      0.139   -2.28e+04    1.51e+05\n",
       "gross_generation_mwh     0.9574      0.008    120.328      0.000       0.941       0.974\n",
       "hours_in_month         -78.9712     58.157     -1.358      0.190    -200.285      42.342\n",
       "==============================================================================\n",
       "Omnibus:                        3.933   Durbin-Watson:                   1.826\n",
       "Prob(Omnibus):                  0.140   Jarque-Bera (JB):                2.263\n",
       "Skew:                           0.722   Prob(JB):                        0.322\n",
       "Kurtosis:                       3.525   Cond. No.                     4.13e+07\n",
       "==============================================================================\n",
       "\n",
       "Notes:\n",
       "[1] Standard Errors assume that the covariance matrix of the errors is correctly specified.\n",
       "[2] The condition number is large, 4.13e+07. This might indicate that there are\n",
       "strong multicollinearity or other numerical problems.\n",
       "\"\"\""
      ]
     },
     "execution_count": 108,
     "metadata": {},
     "output_type": "execute_result"
    }
   ],
   "source": [
    "# test regression\n",
    "id = 3\n",
    "test_data =  gen_data[gen_data['plant_id_eia'] == id]\n",
    "model = smf.ols('net_generation_mwh ~ gross_generation_mwh', data=test_data).fit()\n",
    "model.summary()"
   ]
  },
  {
   "cell_type": "code",
   "execution_count": 71,
   "metadata": {},
   "outputs": [],
   "source": [
    "def model_gross_to_net(df):\n",
    "    \"\"\"\n",
    "    Create a linear regression model of monthly gross to net generation\n",
    "\n",
    "    Args:\n",
    "        arg\n",
    "    Returns:\n",
    "        output\n",
    "    \"\"\"\n",
    "    with warnings.catch_warnings():\n",
    "        warnings.simplefilter(\"ignore\")\n",
    "\n",
    "        # get a linear model for the data points\n",
    "        model = smf.ols('net_generation_mwh ~ gross_generation_mwh', data=df).fit()\n",
    "\n",
    "        # find and remove any outliers\n",
    "        try:\n",
    "            outliers = model.outlier_test()\n",
    "            corrected = df[~df.index.isin(\n",
    "                outliers[outliers['bonf(p)'] < 0.5].index)]\n",
    "\n",
    "            # get a linear model of the corrected data\n",
    "            model = smf.ols(\n",
    "                'net_generation_mwh ~ gross_generation_mwh', data=corrected).fit()\n",
    "        except ValueError:\n",
    "            pass\n",
    "        slope = model.params[1]\n",
    "        intercept = model.params[0]\n",
    "        rsquared = model.rsquared\n",
    "        rsquared_adj = model.rsquared_adj\n",
    "        number_observations = model.nobs\n",
    "\n",
    "    return slope, intercept, rsquared, rsquared_adj, number_observations"
   ]
  },
  {
   "cell_type": "code",
   "execution_count": 75,
   "metadata": {},
   "outputs": [],
   "source": [
    "# calculate the ratio for each plant and create a dataframe\n",
    "gtn_regression = gen_data.dropna().groupby('plant_id_eia').apply(model_gross_to_net)\n",
    "gtn_regression = pd.DataFrame(gtn_regression.tolist(), index=gtn_regression.index, columns=['slope','intercept', 'rsquared','rsquared_adj','observations']).reset_index()"
   ]
  },
  {
   "cell_type": "code",
   "execution_count": 100,
   "metadata": {},
   "outputs": [
    {
     "data": {
      "text/html": [
       "<div>\n",
       "<style scoped>\n",
       "    .dataframe tbody tr th:only-of-type {\n",
       "        vertical-align: middle;\n",
       "    }\n",
       "\n",
       "    .dataframe tbody tr th {\n",
       "        vertical-align: top;\n",
       "    }\n",
       "\n",
       "    .dataframe thead th {\n",
       "        text-align: right;\n",
       "    }\n",
       "</style>\n",
       "<table border=\"1\" class=\"dataframe\">\n",
       "  <thead>\n",
       "    <tr style=\"text-align: right;\">\n",
       "      <th></th>\n",
       "      <th>plant_id_eia</th>\n",
       "      <th>slope</th>\n",
       "      <th>intercept</th>\n",
       "      <th>rsquared</th>\n",
       "      <th>rsquared_adj</th>\n",
       "      <th>observations</th>\n",
       "    </tr>\n",
       "  </thead>\n",
       "  <tbody>\n",
       "    <tr>\n",
       "      <th>657</th>\n",
       "      <td>8008</td>\n",
       "      <td>0.084477</td>\n",
       "      <td>0.001408</td>\n",
       "      <td>-inf</td>\n",
       "      <td>NaN</td>\n",
       "      <td>1.0</td>\n",
       "    </tr>\n",
       "    <tr>\n",
       "      <th>484</th>\n",
       "      <td>6181</td>\n",
       "      <td>-540.621593</td>\n",
       "      <td>-107.266190</td>\n",
       "      <td>-inf</td>\n",
       "      <td>NaN</td>\n",
       "      <td>1.0</td>\n",
       "    </tr>\n",
       "    <tr>\n",
       "      <th>353</th>\n",
       "      <td>3344</td>\n",
       "      <td>0.336085</td>\n",
       "      <td>0.000676</td>\n",
       "      <td>-inf</td>\n",
       "      <td>NaN</td>\n",
       "      <td>1.0</td>\n",
       "    </tr>\n",
       "    <tr>\n",
       "      <th>159</th>\n",
       "      <td>1382</td>\n",
       "      <td>0.772641</td>\n",
       "      <td>0.000044</td>\n",
       "      <td>-inf</td>\n",
       "      <td>NaN</td>\n",
       "      <td>1.0</td>\n",
       "    </tr>\n",
       "    <tr>\n",
       "      <th>1102</th>\n",
       "      <td>56015</td>\n",
       "      <td>0.077852</td>\n",
       "      <td>0.000917</td>\n",
       "      <td>-inf</td>\n",
       "      <td>NaN</td>\n",
       "      <td>1.0</td>\n",
       "    </tr>\n",
       "    <tr>\n",
       "      <th>...</th>\n",
       "      <td>...</td>\n",
       "      <td>...</td>\n",
       "      <td>...</td>\n",
       "      <td>...</td>\n",
       "      <td>...</td>\n",
       "      <td>...</td>\n",
       "    </tr>\n",
       "    <tr>\n",
       "      <th>139</th>\n",
       "      <td>1235</td>\n",
       "      <td>0.877425</td>\n",
       "      <td>-57.755562</td>\n",
       "      <td>1.0</td>\n",
       "      <td>NaN</td>\n",
       "      <td>2.0</td>\n",
       "    </tr>\n",
       "    <tr>\n",
       "      <th>277</th>\n",
       "      <td>2503</td>\n",
       "      <td>0.264500</td>\n",
       "      <td>-4.684000</td>\n",
       "      <td>1.0</td>\n",
       "      <td>NaN</td>\n",
       "      <td>2.0</td>\n",
       "    </tr>\n",
       "    <tr>\n",
       "      <th>697</th>\n",
       "      <td>10350</td>\n",
       "      <td>0.877368</td>\n",
       "      <td>3.055006</td>\n",
       "      <td>1.0</td>\n",
       "      <td>NaN</td>\n",
       "      <td>2.0</td>\n",
       "    </tr>\n",
       "    <tr>\n",
       "      <th>1012</th>\n",
       "      <td>55486</td>\n",
       "      <td>0.871724</td>\n",
       "      <td>682.465537</td>\n",
       "      <td>1.0</td>\n",
       "      <td>NaN</td>\n",
       "      <td>2.0</td>\n",
       "    </tr>\n",
       "    <tr>\n",
       "      <th>1</th>\n",
       "      <td>8</td>\n",
       "      <td>0.944033</td>\n",
       "      <td>-6362.851188</td>\n",
       "      <td>1.0</td>\n",
       "      <td>NaN</td>\n",
       "      <td>2.0</td>\n",
       "    </tr>\n",
       "  </tbody>\n",
       "</table>\n",
       "<p>1272 rows × 6 columns</p>\n",
       "</div>"
      ],
      "text/plain": [
       "      plant_id_eia       slope    intercept  rsquared  rsquared_adj  observations\n",
       "657           8008    0.084477     0.001408      -inf           NaN           1.0\n",
       "484           6181 -540.621593  -107.266190      -inf           NaN           1.0\n",
       "353           3344    0.336085     0.000676      -inf           NaN           1.0\n",
       "159           1382    0.772641     0.000044      -inf           NaN           1.0\n",
       "1102         56015    0.077852     0.000917      -inf           NaN           1.0\n",
       "...            ...         ...          ...       ...           ...           ...\n",
       "139           1235    0.877425   -57.755562       1.0           NaN           2.0\n",
       "277           2503    0.264500    -4.684000       1.0           NaN           2.0\n",
       "697          10350    0.877368     3.055006       1.0           NaN           2.0\n",
       "1012         55486    0.871724   682.465537       1.0           NaN           2.0\n",
       "1                8    0.944033 -6362.851188       1.0           NaN           2.0\n",
       "\n",
       "[1272 rows x 6 columns]"
      ]
     },
     "execution_count": 100,
     "metadata": {},
     "output_type": "execute_result"
    }
   ],
   "source": [
    "gtn_regression.sort_values(by='rsquared')"
   ]
  },
  {
   "cell_type": "code",
   "execution_count": 97,
   "metadata": {},
   "outputs": [
    {
     "data": {
      "text/plain": [
       "plant_id_eia    26565.27\n",
       "slope              49.85\n",
       "intercept        5078.48\n",
       "rsquared            -inf\n",
       "rsquared_adj        0.76\n",
       "observations       19.80\n",
       "dtype: float64"
      ]
     },
     "execution_count": 97,
     "metadata": {},
     "output_type": "execute_result"
    }
   ],
   "source": [
    "gtn_regression.mean().round(2)"
   ]
  },
  {
   "cell_type": "markdown",
   "metadata": {},
   "source": [
    "# Old Code for reference"
   ]
  },
  {
   "cell_type": "code",
   "execution_count": null,
   "metadata": {},
   "outputs": [],
   "source": [
    "\n",
    "\n",
    "def convert_gross_to_net_generation(cems, gen_fuel_allocated):\n",
    "    \"\"\"\n",
    "    Converts hourly gross generation in CEMS to hourly net generation by calculating a gross to net generation ratio\n",
    "    Inputs:\n",
    "\n",
    "    Returns: \n",
    "        cems df with an added column for net_generation_mwh and a column indicated the method used to calculate net generation\n",
    "    \"\"\"\n",
    "\n",
    "    # add a placeholder column that assumes a 1:1 gross to net generation ratio\n",
    "    # if for some reason we are not able to calculate a gross to net generation ratio, this will be used as the default assumption\n",
    "    cems['net_generation_mwh'] = cems['gross_generation_mwh']\n",
    "\n",
    "    # load the allocated eia data for each month where there is corresponding cems data\n",
    "    eia_plant_month_net_gen = gen_fuel_allocated[(gen_fuel_allocated['data_source'] == 'cems') & ~(gen_fuel_allocated['net_generation_mwh'].isna())]\n",
    "    # aggregate at the plant month level\n",
    "    eia_plant_month_net_gen = eia_plant_month_net_gen.groupby(['plant_id_eia','report_date']).sum()['net_generation_mwh'].reset_index()\n",
    "\n",
    "    # calculate the total gross generation for each plant month in cems\n",
    "    cems_plant_month_gross_gen = cems.groupby(['plant_id_eia','report_date']).sum()['gross_generation_mwh'].reset_index()\n",
    "\n",
    "    # merge the net generation data into the gross generation data\n",
    "    monthly_gtn_ratio = cems_plant_month_gross_gen.merge(eia_plant_month_net_gen, how='left', on=['plant_id_eia','report_date'])\n",
    "\n",
    "    # calculate the gtn\n",
    "    monthly_gtn_ratio['gross_to_net_ratio'] = monthly_gtn_ratio['net_generation_mwh'] / monthly_gtn_ratio['gross_generation_mwh']\n",
    "\n",
    "    # only keep values where the monthly ratio is greater than zero\n",
    "    monthly_gtn_ratio.loc[(monthly_gtn_ratio['gross_to_net_ratio'] < 0), 'gross_to_net_ratio'] = np.NaN\n",
    "\n",
    "    # Set up the regression analysis for missing values\n",
    "\n",
    "    # only keep values where there are not missing values\n",
    "    gtn_regression = monthly_gtn_ratio.copy()[~(monthly_gtn_ratio['gross_to_net_ratio'].isna())]\n",
    "    # calculate the ratio for each plant and create a dataframe\n",
    "    gtn_regression = gtn_regression.groupby('plant_id_eia').apply(model_gross_to_net)\n",
    "    gtn_regression = pd.DataFrame(gtn_regression.tolist(), index=gtn_regression.index, columns=['gtn_linear', 'rsquared','rsquared_adj','observations']).reset_index()\n",
    "    # only keep the results with adjusted rsquared values greater than 0.70\n",
    "    gtn_regression = gtn_regression[gtn_regression['rsquared_adj'] >= 0.7]\n",
    "\n",
    "    # merge in regression results\n",
    "    monthly_gtn_ratio = monthly_gtn_ratio.merge(gtn_regression[['plant_id_eia','gtn_linear']], how='left', on='plant_id_eia')\n",
    "\n",
    "    # add a status column for how the net generation was calculated \n",
    "    monthly_gtn_ratio['net_gen_method'] = 'monthly_ratio'\n",
    "    monthly_gtn_ratio.loc[(monthly_gtn_ratio['gross_to_net_ratio'].isna()) & ~(monthly_gtn_ratio['gtn_linear'].isna()), 'net_gen_method'] = 'annual_regression'\n",
    "    monthly_gtn_ratio.loc[(monthly_gtn_ratio['gross_to_net_ratio'].isna()) & (monthly_gtn_ratio['gtn_linear'].isna()), 'net_gen_method'] = 'net_equals_gross'\n",
    "\n",
    "    # fill missing values using the ratio from the regression results\n",
    "    monthly_gtn_ratio['gross_to_net_ratio'] = monthly_gtn_ratio['gross_to_net_ratio'].fillna(monthly_gtn_ratio['gtn_linear'])\n",
    "\n",
    "    # merge the gtn ratio into the cems data\n",
    "    cems = cems.merge(monthly_gtn_ratio[['plant_id_eia','report_date','gross_to_net_ratio','net_gen_method']], how='left', on=['plant_id_eia','report_date'])\n",
    "    # calculate hourly net generation\n",
    "    cems['net_generation_mwh_calculated'] = cems['gross_generation_mwh'] * cems['gross_to_net_ratio']\n",
    "    \n",
    "    # update the net generation column using the calculated values\n",
    "    cems['net_generation_mwh'].update(cems['net_generation_mwh_calculated'])\n",
    "\n",
    "    # update the method column to indicate which used the default assumption\n",
    "    cems['net_gen_method'] = cems['net_gen_method'].fillna('net_equals_gross')\n",
    "\n",
    "    # drop the calculated column\n",
    "    cems = cems.drop(columns=['net_generation_mwh_calculated'])\n",
    "\n",
    "    return cems"
   ]
  },
  {
   "cell_type": "code",
   "execution_count": null,
   "metadata": {},
   "outputs": [],
   "source": [
    "# TESTING\n",
    "\n",
    "# 1a: Try monthly GTN by generator\n",
    "# load the allocated eia data for each month where there is corresponding cems data\n",
    "eia_gen_month_net_gen = gen_fuel_allocated[(gen_fuel_allocated['data_source'] == 'cems') & ~(gen_fuel_allocated['net_generation_mwh'].isna())]\n",
    "# aggregate at the generator month level\n",
    "eia_gen_month_net_gen = eia_gen_month_net_gen.groupby(['plant_id_eia','generator_id','report_date']).sum()['net_generation_mwh'].reset_index()\n",
    "\n",
    "# match unit id to generator id\n",
    "cems_gen_month_gross_gen = data_cleaning.crosswalk_epa_unit_to_eia_generator_id(cems, unique_gen_match=True)\n",
    "# drop any observations where there is not a match to a generator id\n",
    "cems_gen_month_gross_gen = cems_gen_month_gross_gen[~cems_gen_month_gross_gen['generator_id'].isna()]\n",
    "\n",
    "# calculate the total gross generation for each generator month in cems\n",
    "cems_gen_month_gross_gen = cems_gen_month_gross_gen.groupby(['plant_id_eia','generator_id','report_date']).sum()['gross_generation_mwh'].reset_index()\n",
    "\n",
    "# merge the net generation data into the gross generation data\n",
    "monthly_gtn_ratio = cems_gen_month_gross_gen.merge(eia_gen_month_net_gen, how='left', on=['plant_id_eia','generator_id','report_date'])\n",
    "\n",
    "# calculate the gtn\n",
    "monthly_gtn_ratio['gtn_ratio_gen_month'] = monthly_gtn_ratio['net_generation_mwh'] / monthly_gtn_ratio['gross_generation_mwh']\n",
    "\n",
    "#### Calculate annual values by gen\n",
    "\n",
    "# identify whether any individual month GTNs are very large\n",
    "annual_gtn_ratio = monthly_gtn_ratio.groupby(['plant_id_eia','generator_id']).max()['gtn_ratio_gen_month'].reset_index()\n",
    "# only keep values for which the maximum GTN values are unrealistic\n",
    "annual_gtn_ratio = annual_gtn_ratio[(annual_gtn_ratio['gtn_ratio_gen_month'] > 1.1) | (annual_gtn_ratio['gtn_ratio_gen_month'] < 0)]\n",
    "\n",
    "# calculate annual net gen values\n",
    "eia_gen_year_net_gen = eia_gen_month_net_gen.groupby(['plant_id_eia','generator_id']).sum().reset_index()\n",
    "cems_gen_year_gross_gen = cems_gen_month_gross_gen.groupby(['plant_id_eia','generator_id']).sum().reset_index()\n",
    "\n",
    "# merge in the annual gross generation and net generation data\n",
    "annual_gtn_ratio = annual_gtn_ratio.merge(cems_gen_year_gross_gen, how='left', on=['plant_id_eia','generator_id'])\n",
    "annual_gtn_ratio = annual_gtn_ratio.merge(eia_gen_year_net_gen, how='left', on=['plant_id_eia','generator_id'])\n",
    "\n",
    "# calculate the gtn\n",
    "annual_gtn_ratio['gtn_ratio_gen_year'] = annual_gtn_ratio['net_generation_mwh'] / annual_gtn_ratio['gross_generation_mwh']\n",
    "\n",
    "# merge this back into the monthly data\n",
    "monthly_gtn_ratio = monthly_gtn_ratio.merge(annual_gtn_ratio[['plant_id_eia','generator_id','gtn_ratio_gen_year']], how='left', on=['plant_id_eia','generator_id'])\n",
    "\n",
    "# NOTE\n",
    "# In some cases, using the annual gtn value may lead to overestimating monthly generation\n",
    "# it might depend on how the generation is getting allocated\n",
    "\n",
    "monthly_gtn_ratio[monthly_gtn_ratio['plant_id_eia'] == 61242]"
   ]
  }
 ],
 "metadata": {
  "interpreter": {
   "hash": "4103f3cd497821eca917ea303dbe10c590d787eb7d2dc3fd4e15dec0356e7931"
  },
  "kernelspec": {
   "display_name": "Python 3.9.12 ('hourly_egrid')",
   "language": "python",
   "name": "python3"
  },
  "language_info": {
   "codemirror_mode": {
    "name": "ipython",
    "version": 3
   },
   "file_extension": ".py",
   "mimetype": "text/x-python",
   "name": "python",
   "nbconvert_exporter": "python",
   "pygments_lexer": "ipython3",
   "version": "3.9.12"
  },
  "orig_nbformat": 4
 },
 "nbformat": 4,
 "nbformat_minor": 2
}
