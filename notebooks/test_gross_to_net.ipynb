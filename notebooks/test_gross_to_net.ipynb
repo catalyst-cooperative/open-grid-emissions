{
 "cells": [
  {
   "cell_type": "markdown",
   "metadata": {},
   "source": [
    "# Perform a regression on gross and net generation data from multiple years\n",
    "\n",
    "We want to run a regression on multiple years of CEMS and EIA data. We can do by month, and also on an annual basis\n",
    "\n",
    "We should probably aggregate by plant-prime mover-environmental equipment.\n",
    "\n",
    "Steps:\n",
    "1. Load and clean gross generation data for multiple years\n",
    "2. Load and distribute net generation data from EIA for multiple years\n",
    "3. Aggregate / map data from both source"
   ]
  },
  {
   "cell_type": "code",
   "execution_count": 2,
   "metadata": {},
   "outputs": [],
   "source": [
    "# Tell python where to look for modules. \n",
    "# Depending on how your jupyter handles working directories, this may not be needed.\n",
    "import sys\n",
    "sys.path.append('../../hourly-egrid/')\n",
    "\n",
    "# import the necessary packages\n",
    "%reload_ext autoreload\n",
    "%autoreload 2\n",
    "\n",
    "# import packages\n",
    "import sqlalchemy as sa\n",
    "from pathlib import Path\n",
    "import pandas as pd\n",
    "import plotly.express as px\n",
    "import numpy as np\n",
    "import statsmodels.formula.api as smf\n",
    "import warnings\n",
    "\n",
    "# PUDL\n",
    "import pudl.analysis.allocate_net_gen as allocate_gen_fuel\n",
    "import pudl.analysis.epa_crosswalk as epa_crosswalk\n",
    "import pudl.output.pudltabl\n",
    "\n",
    "# local packages\n",
    "import src.data_cleaning as data_cleaning\n",
    "from src.gross_to_net_generation import *\n",
    "import src.load_data as load_data\n"
   ]
  },
  {
   "cell_type": "code",
   "execution_count": 1,
   "metadata": {},
   "outputs": [],
   "source": [
    "year = 2020\n",
    "number_of_years = 2\n",
    "\n",
    "start_year = year - (number_of_years - 1)\n",
    "end_year = year"
   ]
  },
  {
   "cell_type": "code",
   "execution_count": 4,
   "metadata": {},
   "outputs": [
    {
     "name": "stdout",
     "output_type": "stream",
     "text": [
      "loading 2019 CEMS data\n"
     ]
    },
    {
     "name": "stderr",
     "output_type": "stream",
     "text": [
      "a:\\miniconda3\\envs\\hourly_egrid\\lib\\site-packages\\pandas\\core\\arrays\\datetimes.py:1162: UserWarning: Converting to PeriodArray/Index representation will drop timezone information.\n",
      "  warnings.warn(\n"
     ]
    },
    {
     "name": "stdout",
     "output_type": "stream",
     "text": [
      "loading 2020 CEMS data\n"
     ]
    },
    {
     "name": "stderr",
     "output_type": "stream",
     "text": [
      "a:\\miniconda3\\envs\\hourly_egrid\\lib\\site-packages\\pandas\\core\\arrays\\datetimes.py:1162: UserWarning: Converting to PeriodArray/Index representation will drop timezone information.\n",
      "  warnings.warn(\n"
     ]
    },
    {
     "name": "stdout",
     "output_type": "stream",
     "text": [
      "Allocating EIA-923 generation data\n"
     ]
    },
    {
     "name": "stderr",
     "output_type": "stream",
     "text": [
      "a:\\github\\pudl\\src\\pudl\\analysis\\allocate_net_gen.py:190: UserWarning: 2 generators are missing prime mover codes in gens_eia860. This will result in incorrect allocation.\n",
      "  warnings.warn(\n"
     ]
    },
    {
     "name": "stdout",
     "output_type": "stream",
     "text": [
      "Creating subplant IDs\n"
     ]
    }
   ],
   "source": [
    "# load 5 years of monthly data from CEMS and EIA-923\n",
    "cems_monthly, gen_fuel_allocated = load_monthly_gross_and_net_generation(\n",
    "    start_year, end_year\n",
    ")\n",
    "\n",
    "# add subplant ids to the data\n",
    "print(\"Creating subplant IDs\")\n",
    "cems_monthly, gen_fuel_allocated = generate_subplant_ids(\n",
    "    start_year, end_year, cems_monthly, gen_fuel_allocated\n",
    ")\n"
   ]
  },
  {
   "cell_type": "code",
   "execution_count": 5,
   "metadata": {},
   "outputs": [
    {
     "data": {
      "text/html": [
       "<div>\n",
       "<style scoped>\n",
       "    .dataframe tbody tr th:only-of-type {\n",
       "        vertical-align: middle;\n",
       "    }\n",
       "\n",
       "    .dataframe tbody tr th {\n",
       "        vertical-align: top;\n",
       "    }\n",
       "\n",
       "    .dataframe thead th {\n",
       "        text-align: right;\n",
       "    }\n",
       "</style>\n",
       "<table border=\"1\" class=\"dataframe\">\n",
       "  <thead>\n",
       "    <tr style=\"text-align: right;\">\n",
       "      <th></th>\n",
       "      <th>plant_id_eia</th>\n",
       "      <th>subplant_id</th>\n",
       "      <th>report_date</th>\n",
       "      <th>gross_generation_mwh</th>\n",
       "      <th>net_generation_mwh</th>\n",
       "      <th>hours_in_month</th>\n",
       "      <th>gross_generation_mw</th>\n",
       "      <th>net_generation_mw</th>\n",
       "    </tr>\n",
       "  </thead>\n",
       "  <tbody>\n",
       "    <tr>\n",
       "      <th>0</th>\n",
       "      <td>3</td>\n",
       "      <td>0.0</td>\n",
       "      <td>2019-03-01</td>\n",
       "      <td>2128.5</td>\n",
       "      <td>68.032782</td>\n",
       "      <td>744</td>\n",
       "      <td>2.860887</td>\n",
       "      <td>0.091442</td>\n",
       "    </tr>\n",
       "    <tr>\n",
       "      <th>1</th>\n",
       "      <td>3</td>\n",
       "      <td>0.0</td>\n",
       "      <td>2019-05-01</td>\n",
       "      <td>7656.0</td>\n",
       "      <td>480.035503</td>\n",
       "      <td>744</td>\n",
       "      <td>10.290323</td>\n",
       "      <td>0.645209</td>\n",
       "    </tr>\n",
       "    <tr>\n",
       "      <th>2</th>\n",
       "      <td>3</td>\n",
       "      <td>0.0</td>\n",
       "      <td>2019-07-01</td>\n",
       "      <td>4859.0</td>\n",
       "      <td>163.881712</td>\n",
       "      <td>744</td>\n",
       "      <td>6.530914</td>\n",
       "      <td>0.220271</td>\n",
       "    </tr>\n",
       "    <tr>\n",
       "      <th>3</th>\n",
       "      <td>3</td>\n",
       "      <td>0.0</td>\n",
       "      <td>2019-09-01</td>\n",
       "      <td>11188.0</td>\n",
       "      <td>1232.974148</td>\n",
       "      <td>720</td>\n",
       "      <td>15.538889</td>\n",
       "      <td>1.712464</td>\n",
       "    </tr>\n",
       "    <tr>\n",
       "      <th>4</th>\n",
       "      <td>3</td>\n",
       "      <td>0.0</td>\n",
       "      <td>2019-10-01</td>\n",
       "      <td>3586.5</td>\n",
       "      <td>81.273993</td>\n",
       "      <td>744</td>\n",
       "      <td>4.820565</td>\n",
       "      <td>0.109239</td>\n",
       "    </tr>\n",
       "    <tr>\n",
       "      <th>...</th>\n",
       "      <td>...</td>\n",
       "      <td>...</td>\n",
       "      <td>...</td>\n",
       "      <td>...</td>\n",
       "      <td>...</td>\n",
       "      <td>...</td>\n",
       "      <td>...</td>\n",
       "      <td>...</td>\n",
       "    </tr>\n",
       "    <tr>\n",
       "      <th>72275</th>\n",
       "      <td>61242</td>\n",
       "      <td>1.0</td>\n",
       "      <td>2019-05-01</td>\n",
       "      <td>NaN</td>\n",
       "      <td>NaN</td>\n",
       "      <td>744</td>\n",
       "      <td>NaN</td>\n",
       "      <td>NaN</td>\n",
       "    </tr>\n",
       "    <tr>\n",
       "      <th>72276</th>\n",
       "      <td>61242</td>\n",
       "      <td>1.0</td>\n",
       "      <td>2020-09-01</td>\n",
       "      <td>NaN</td>\n",
       "      <td>3359.802500</td>\n",
       "      <td>720</td>\n",
       "      <td>NaN</td>\n",
       "      <td>4.666392</td>\n",
       "    </tr>\n",
       "    <tr>\n",
       "      <th>72277</th>\n",
       "      <td>61242</td>\n",
       "      <td>1.0</td>\n",
       "      <td>2020-10-01</td>\n",
       "      <td>NaN</td>\n",
       "      <td>2905.441500</td>\n",
       "      <td>744</td>\n",
       "      <td>NaN</td>\n",
       "      <td>3.905163</td>\n",
       "    </tr>\n",
       "    <tr>\n",
       "      <th>72278</th>\n",
       "      <td>61242</td>\n",
       "      <td>1.0</td>\n",
       "      <td>2020-11-01</td>\n",
       "      <td>NaN</td>\n",
       "      <td>2275.763500</td>\n",
       "      <td>720</td>\n",
       "      <td>NaN</td>\n",
       "      <td>3.160783</td>\n",
       "    </tr>\n",
       "    <tr>\n",
       "      <th>72279</th>\n",
       "      <td>61242</td>\n",
       "      <td>1.0</td>\n",
       "      <td>2020-12-01</td>\n",
       "      <td>NaN</td>\n",
       "      <td>2501.130000</td>\n",
       "      <td>744</td>\n",
       "      <td>NaN</td>\n",
       "      <td>3.361734</td>\n",
       "    </tr>\n",
       "  </tbody>\n",
       "</table>\n",
       "<p>72280 rows × 8 columns</p>\n",
       "</div>"
      ],
      "text/plain": [
       "       plant_id_eia  subplant_id report_date  gross_generation_mwh  net_generation_mwh  hours_in_month  gross_generation_mw  net_generation_mw\n",
       "0                 3          0.0  2019-03-01                2128.5           68.032782             744             2.860887           0.091442\n",
       "1                 3          0.0  2019-05-01                7656.0          480.035503             744            10.290323           0.645209\n",
       "2                 3          0.0  2019-07-01                4859.0          163.881712             744             6.530914           0.220271\n",
       "3                 3          0.0  2019-09-01               11188.0         1232.974148             720            15.538889           1.712464\n",
       "4                 3          0.0  2019-10-01                3586.5           81.273993             744             4.820565           0.109239\n",
       "...             ...          ...         ...                   ...                 ...             ...                  ...                ...\n",
       "72275         61242          1.0  2019-05-01                   NaN                 NaN             744                  NaN                NaN\n",
       "72276         61242          1.0  2020-09-01                   NaN         3359.802500             720                  NaN           4.666392\n",
       "72277         61242          1.0  2020-10-01                   NaN         2905.441500             744                  NaN           3.905163\n",
       "72278         61242          1.0  2020-11-01                   NaN         2275.763500             720                  NaN           3.160783\n",
       "72279         61242          1.0  2020-12-01                   NaN         2501.130000             744                  NaN           3.361734\n",
       "\n",
       "[72280 rows x 8 columns]"
      ]
     },
     "execution_count": 5,
     "metadata": {},
     "output_type": "execute_result"
    }
   ],
   "source": [
    "gen_data, plant_aggregation_columns = combine_gross_and_net_generation_data(\n",
    "    cems_monthly, gen_fuel_allocated, 'subplant'\n",
    ")\n",
    "\n",
    "# calculate the hourly average generation values\n",
    "gen_data[\"hours_in_month\"] = gen_data[\"report_date\"].dt.daysinmonth * 24\n",
    "gen_data[\"gross_generation_mw\"] = (\n",
    "    gen_data[\"gross_generation_mwh\"] / gen_data[\"hours_in_month\"]\n",
    ")\n",
    "gen_data[\"net_generation_mw\"] = (\n",
    "    gen_data[\"net_generation_mwh\"] / gen_data[\"hours_in_month\"]\n",
    ")\n",
    "\n",
    "gen_data"
   ]
  },
  {
   "cell_type": "code",
   "execution_count": 9,
   "metadata": {},
   "outputs": [
    {
     "data": {
      "text/html": [
       "<table class=\"simpletable\">\n",
       "<caption>OLS Regression Results</caption>\n",
       "<tr>\n",
       "  <th>Dep. Variable:</th>    <td>net_generation_mw</td> <th>  R-squared (uncentered):</th>      <td>   1.000</td> \n",
       "</tr>\n",
       "<tr>\n",
       "  <th>Model:</th>                   <td>OLS</td>        <th>  Adj. R-squared (uncentered):</th> <td>   1.000</td> \n",
       "</tr>\n",
       "<tr>\n",
       "  <th>Method:</th>             <td>Least Squares</td>   <th>  F-statistic:       </th>          <td>1.776e+06</td>\n",
       "</tr>\n",
       "<tr>\n",
       "  <th>Date:</th>             <td>Thu, 26 May 2022</td>  <th>  Prob (F-statistic):</th>          <td>1.77e-55</td> \n",
       "</tr>\n",
       "<tr>\n",
       "  <th>Time:</th>                 <td>17:58:59</td>      <th>  Log-Likelihood:    </th>          <td> -51.245</td> \n",
       "</tr>\n",
       "<tr>\n",
       "  <th>No. Observations:</th>      <td>    23</td>       <th>  AIC:               </th>          <td>   104.5</td> \n",
       "</tr>\n",
       "<tr>\n",
       "  <th>Df Residuals:</th>          <td>    22</td>       <th>  BIC:               </th>          <td>   105.6</td> \n",
       "</tr>\n",
       "<tr>\n",
       "  <th>Df Model:</th>              <td>     1</td>       <th>                     </th>              <td> </td>    \n",
       "</tr>\n",
       "<tr>\n",
       "  <th>Covariance Type:</th>      <td>nonrobust</td>     <th>                     </th>              <td> </td>    \n",
       "</tr>\n",
       "</table>\n",
       "<table class=\"simpletable\">\n",
       "<tr>\n",
       "           <td></td>              <th>coef</th>     <th>std err</th>      <th>t</th>      <th>P>|t|</th>  <th>[0.025</th>    <th>0.975]</th>  \n",
       "</tr>\n",
       "<tr>\n",
       "  <th>gross_generation_mw</th> <td>    0.6590</td> <td>    0.000</td> <td> 1332.688</td> <td> 0.000</td> <td>    0.658</td> <td>    0.660</td>\n",
       "</tr>\n",
       "</table>\n",
       "<table class=\"simpletable\">\n",
       "<tr>\n",
       "  <th>Omnibus:</th>       <td> 5.348</td> <th>  Durbin-Watson:     </th> <td>   1.389</td>\n",
       "</tr>\n",
       "<tr>\n",
       "  <th>Prob(Omnibus):</th> <td> 0.069</td> <th>  Jarque-Bera (JB):  </th> <td>   3.246</td>\n",
       "</tr>\n",
       "<tr>\n",
       "  <th>Skew:</th>          <td>-0.724</td> <th>  Prob(JB):          </th> <td>   0.197</td>\n",
       "</tr>\n",
       "<tr>\n",
       "  <th>Kurtosis:</th>      <td> 4.137</td> <th>  Cond. No.          </th> <td>    1.00</td>\n",
       "</tr>\n",
       "</table><br/><br/>Notes:<br/>[1] R² is computed without centering (uncentered) since the model does not contain a constant.<br/>[2] Standard Errors assume that the covariance matrix of the errors is correctly specified."
      ],
      "text/plain": [
       "<class 'statsmodels.iolib.summary.Summary'>\n",
       "\"\"\"\n",
       "                                 OLS Regression Results                                \n",
       "=======================================================================================\n",
       "Dep. Variable:      net_generation_mw   R-squared (uncentered):                   1.000\n",
       "Model:                            OLS   Adj. R-squared (uncentered):              1.000\n",
       "Method:                 Least Squares   F-statistic:                          1.776e+06\n",
       "Date:                Thu, 26 May 2022   Prob (F-statistic):                    1.77e-55\n",
       "Time:                        17:58:59   Log-Likelihood:                         -51.245\n",
       "No. Observations:                  23   AIC:                                      104.5\n",
       "Df Residuals:                      22   BIC:                                      105.6\n",
       "Df Model:                           1                                                  \n",
       "Covariance Type:            nonrobust                                                  \n",
       "=======================================================================================\n",
       "                          coef    std err          t      P>|t|      [0.025      0.975]\n",
       "---------------------------------------------------------------------------------------\n",
       "gross_generation_mw     0.6590      0.000   1332.688      0.000       0.658       0.660\n",
       "==============================================================================\n",
       "Omnibus:                        5.348   Durbin-Watson:                   1.389\n",
       "Prob(Omnibus):                  0.069   Jarque-Bera (JB):                3.246\n",
       "Skew:                          -0.724   Prob(JB):                        0.197\n",
       "Kurtosis:                       4.137   Cond. No.                         1.00\n",
       "==============================================================================\n",
       "\n",
       "Notes:\n",
       "[1] R² is computed without centering (uncentered) since the model does not contain a constant.\n",
       "[2] Standard Errors assume that the covariance matrix of the errors is correctly specified.\n",
       "\"\"\""
      ]
     },
     "execution_count": 9,
     "metadata": {},
     "output_type": "execute_result"
    }
   ],
   "source": [
    "# test regression\n",
    "id = 3\n",
    "subplant = 4\n",
    "test_data = gen_data[(gen_data['plant_id_eia'] == id) & (gen_data['subplant_id'] == subplant)]\n",
    "model = smf.ols('net_generation_mw ~ gross_generation_mw -1', data=test_data).fit()\n",
    "outliers = model.outlier_test()\n",
    "model.summary()"
   ]
  },
  {
   "cell_type": "code",
   "execution_count": 10,
   "metadata": {},
   "outputs": [
    {
     "data": {
      "text/plain": [
       "gross_generation_mw    0.659006\n",
       "dtype: float64"
      ]
     },
     "execution_count": 10,
     "metadata": {},
     "output_type": "execute_result"
    }
   ],
   "source": [
    "model.params"
   ]
  },
  {
   "cell_type": "code",
   "execution_count": null,
   "metadata": {},
   "outputs": [],
   "source": [
    "# get outputs of final adjusted model\n",
    "slope = model.params[1]\n",
    "intercept = model.params[0]\n",
    "rsquared = model.rsquared\n",
    "rsquared_adj = model.rsquared_adj\n",
    "number_observations = model.nobs"
   ]
  },
  {
   "cell_type": "code",
   "execution_count": null,
   "metadata": {},
   "outputs": [],
   "source": []
  },
  {
   "cell_type": "code",
   "execution_count": null,
   "metadata": {},
   "outputs": [],
   "source": [
    "# calculate the ratio for each plant and create a dataframe\n",
    "gtn_regression = (\n",
    "    gen_data.dropna().groupby(plant_aggregation_columns).apply(model_gross_to_net)\n",
    ")"
   ]
  },
  {
   "cell_type": "markdown",
   "metadata": {},
   "source": [
    "# Load Data\n",
    "We need to load net generation data from EIA-923 and gross generation data from CEMS"
   ]
  },
  {
   "cell_type": "code",
   "execution_count": null,
   "metadata": {},
   "outputs": [],
   "source": [
    "crosswalk = pudl.output.epacems.epa_crosswalk()"
   ]
  },
  {
   "cell_type": "code",
   "execution_count": null,
   "metadata": {},
   "outputs": [],
   "source": [
    "\n",
    "\n",
    "# TODO: move the following code to a separate function so that it does not hold these dataframes in memory after calculation\n",
    "\n",
    "# load 5 years of monthly data from CEMS and EIA-923\n",
    "cems_monthly, gen_fuel_allocated = gross_to_net_generation.load_monthly_gross_and_net_generation(\n",
    "    start_year, end_year\n",
    ")"
   ]
  },
  {
   "cell_type": "markdown",
   "metadata": {},
   "source": [
    "# Test Subplant assignment"
   ]
  },
  {
   "cell_type": "code",
   "execution_count": null,
   "metadata": {},
   "outputs": [],
   "source": [
    "cems_monthly[cems_monthly['plant_id_eia'] == 7063]"
   ]
  },
  {
   "cell_type": "code",
   "execution_count": null,
   "metadata": {},
   "outputs": [],
   "source": [
    "ids = cems_monthly[[\"plant_id_eia\", \"unitid\"]].drop_duplicates()"
   ]
  },
  {
   "cell_type": "code",
   "execution_count": null,
   "metadata": {},
   "outputs": [],
   "source": [
    "ids[ids['plant_id_eia'] == 7063]"
   ]
  },
  {
   "cell_type": "code",
   "execution_count": null,
   "metadata": {},
   "outputs": [],
   "source": [
    "crosswalk = pudl.output.epacems.epa_crosswalk()"
   ]
  },
  {
   "cell_type": "code",
   "execution_count": null,
   "metadata": {},
   "outputs": [],
   "source": [
    "crosswalk[crosswalk['EIA_PLANT_ID'] == 7063]"
   ]
  },
  {
   "cell_type": "code",
   "execution_count": null,
   "metadata": {},
   "outputs": [],
   "source": [
    "# identify epa unit ids missing from the crosswalk\n",
    "\n",
    "ids.merge(crosswalk[['EIA_PLANT_ID','CAMD_UNIT_ID']], how='outer', left_on=['plant_id_eia','unitid'], right_on=['EIA_PLANT_ID','CAMD_UNIT_ID'], indicator='source')"
   ]
  },
  {
   "cell_type": "code",
   "execution_count": null,
   "metadata": {},
   "outputs": [],
   "source": [
    "unique_eia_ids = gen_fuel_allocated[\n",
    "        [\"plant_id_eia\", \"generator_id\"]\n",
    "    ].drop_duplicates()"
   ]
  },
  {
   "cell_type": "code",
   "execution_count": null,
   "metadata": {},
   "outputs": [],
   "source": [
    "unique_eia_ids[unique_eia_ids['plant_id_eia'] == 7063]"
   ]
  },
  {
   "cell_type": "markdown",
   "metadata": {},
   "source": [
    "# Aggregate the data to the monthly level\n",
    "For now we will aggregate to plant-month, but in the future we probably want to aggregate at a sub-plant level"
   ]
  },
  {
   "cell_type": "markdown",
   "metadata": {},
   "source": [
    "## Identify subplants"
   ]
  },
  {
   "cell_type": "code",
   "execution_count": null,
   "metadata": {},
   "outputs": [],
   "source": [
    "subplant_crosswalk = gross_to_net_generation.identify_subplants(start_year, end_year, gen_fuel_allocated, cems_monthly)\n",
    "# export the crosswalk to csv\n",
    "subplant_crosswalk.to_csv('../data/outputs/subplant_crosswalk.csv', index=False)\n",
    "subplant_crosswalk"
   ]
  },
  {
   "cell_type": "code",
   "execution_count": null,
   "metadata": {},
   "outputs": [],
   "source": [
    "# merge the subplant ids into each dataframe\n",
    "gen_fuel_allocated = gen_fuel_allocated.merge(subplant_crosswalk[['plant_id_eia','generator_id','subplant_id']], how='left', on=['plant_id_eia','generator_id'])\n",
    "cems_monthly = cems_monthly.merge(subplant_crosswalk[['plant_id_eia','unitid','subplant_id']], how='left', on=['plant_id_eia','unitid'])"
   ]
  },
  {
   "cell_type": "markdown",
   "metadata": {},
   "source": [
    "## Investigate relationships between units and gens\n",
    "This is just exploration and not used in this pipeline"
   ]
  },
  {
   "cell_type": "code",
   "execution_count": null,
   "metadata": {},
   "outputs": [],
   "source": [
    "crosswalk = load_data.load_epa_eia_crosswalk(year=2020)[['plant_id_epa','unitid','plant_id_eia','generator_id']]\n",
    "\n",
    "# drop duplicated rows (might have had multiple entries for boilers, which we do not care about)\n",
    "crosswalk = crosswalk.drop_duplicates()\n",
    "# drop rows with missing crosswalks\n",
    "crosswalk = crosswalk[~crosswalk['plant_id_eia'].isna()]\n",
    "\n",
    "# one-to-one relationships\n",
    "one_to_one = crosswalk.copy()[(~crosswalk.duplicated(subset=['plant_id_epa','unitid'], keep=False)) & (~crosswalk.duplicated(subset=['plant_id_eia','generator_id'], keep=False))]\n",
    "#crosswalk.drop_duplicates(subset=['plant_id_epa','unitid'], keep=False).drop_duplicates(subset=['plant_id_eia','generator_id'], keep=False)\n",
    "one_to_one['relationship'] = '1:1'\n",
    "\n",
    "# many-to-one relationships\n",
    "many_to_one = crosswalk.drop_duplicates(subset=['plant_id_epa','unitid'], keep=False)\n",
    "many_to_one = many_to_one[many_to_one.duplicated(subset=['plant_id_eia','generator_id'], keep=False)]\n",
    "many_to_one['relationship'] = 'm:1'\n",
    "\n",
    "# one_to_many\n",
    "one_to_many = crosswalk.drop_duplicates(subset=['plant_id_eia','generator_id'], keep=False)\n",
    "one_to_many = one_to_many[one_to_many.duplicated(subset=['plant_id_epa','unitid'], keep=False)]\n",
    "one_to_many['relationship'] = '1:m'\n",
    "\n",
    "# many-to-many\n",
    "# NOTE: this isn't working entirely correctly\n",
    "# find all 1:m\n",
    "many_to_many = crosswalk[crosswalk.duplicated(subset=['plant_id_epa','unitid'], keep=False)]\n",
    "# create a dataframe that has all epa plant-units in this list that are associated with multiple generators\n",
    "many_to_many_units = many_to_many[many_to_many.duplicated(subset=['plant_id_eia','generator_id'], keep=False)][['plant_id_epa','unitid']]\n",
    "many_to_many_units['relationship'] = 'm:m'\n",
    "# merge this back into the 1:m frame to identify all plant-units that are m:m\n",
    "many_to_many = many_to_many.merge(many_to_many_units.drop_duplicates(), how='left', on=['plant_id_epa','unitid'])\n",
    "#remove any rows where the relationship column is na (meaning not m:m)\n",
    "many_to_many = many_to_many[many_to_many['relationship'] == 'm:m']\n",
    "\n",
    "relationship = pd.concat([one_to_one,one_to_many,many_to_one,many_to_many], axis=0)\n",
    "\n",
    "missing = crosswalk.merge(relationship, how='left', on=['plant_id_epa','unitid','plant_id_eia','generator_id'])\n",
    "missing[missing['relationship'].isna()]"
   ]
  },
  {
   "cell_type": "code",
   "execution_count": null,
   "metadata": {},
   "outputs": [],
   "source": [
    "missing[missing['relationship'].isna()]"
   ]
  },
  {
   "cell_type": "markdown",
   "metadata": {},
   "source": [
    "## Identify for which months we have complete reporting from all units/generators in a subplant"
   ]
  },
  {
   "cell_type": "code",
   "execution_count": null,
   "metadata": {},
   "outputs": [],
   "source": [
    "# for each subplant-month, get a list of all unitids that reported data in CEMS\n",
    "missing_units_in_subplant = (\n",
    "    cems.sort_values(by=[\"plant_id_eia\", \"subplant_id\", \"unitid\"])\n",
    "    .groupby([\"plant_id_eia\", \"subplant_id\", \"report_date\"])[\"unitid\"]\n",
    "    .unique()\n",
    "    .apply(list)\n",
    "    .reset_index()\n",
    ")\n",
    "# get a complete list of all of the cems units that belong in each subplant\n",
    "units_in_subplant = (\n",
    "    subplant_crosswalk.sort_values(by=[\"plant_id_eia\", \"subplant_id\", \"unitid\"])\n",
    "    .groupby([\"plant_id_eia\", \"subplant_id\"])[\"unitid\"]\n",
    "    .unique()\n",
    "    .apply(list)\n",
    "    .reset_index()\n",
    ")\n",
    "# merge the list of complete units into the list of monthly reporting units\n",
    "missing_units_in_subplant = missing_units_in_subplant.merge(\n",
    "    units_in_subplant,\n",
    "    how=\"left\",\n",
    "    on=[\"plant_id_eia\", \"subplant_id\"],\n",
    "    suffixes=(\"_reported\", \"_complete\"),\n",
    ")\n",
    "# where is there missing unit reporting\n",
    "missing_units_in_subplant = missing_units_in_subplant[\n",
    "    (\n",
    "        missing_units_in_subplant[\"unitid_reported\"]\n",
    "        != missing_units_in_subplant[\"unitid_complete\"]\n",
    "    )\n",
    "    & (missing_units_in_subplant[\"unitid_complete\"].notnull())\n",
    "]\n",
    "missing_units_in_subplant\n"
   ]
  },
  {
   "cell_type": "code",
   "execution_count": null,
   "metadata": {},
   "outputs": [],
   "source": [
    "# remove unit-months where there is incomplete data\n",
    "cems = cems.merge(missing_units_in_subplant[['plant_id_eia','subplant_id','report_date']], how='left', indicator=True)\n",
    "cems = cems[cems['_merge'] != 'both'].drop(columns='_merge')"
   ]
  },
  {
   "cell_type": "code",
   "execution_count": null,
   "metadata": {},
   "outputs": [],
   "source": [
    "# for each subplant-month, get a list of all generator_ids that reported data in CEMS\n",
    "missing_gens_in_subplant = gen_fuel_allocated.sort_values(by=['plant_id_eia','subplant_id','generator_id']).groupby(['plant_id_eia','subplant_id','report_date'])['generator_id'].unique().apply(list).reset_index()\n",
    "# get a complete list of all of the cems units that belong in each subplant\n",
    "units_in_subplant = subplant_crosswalk.sort_values(by=['plant_id_eia','subplant_id','generator_id']).groupby(['plant_id_eia','subplant_id'])['generator_id'].unique().apply(list).reset_index()\n",
    "# merge the list of complete units into the list of monthly reporting units\n",
    "missing_gens_in_subplant = missing_gens_in_subplant.merge(units_in_subplant, how='left', on=['plant_id_eia','subplant_id'], suffixes=('_reported','_complete'))\n",
    "# where is there missing unit reporting\n",
    "missing_gens_in_subplant = missing_gens_in_subplant[(missing_gens_in_subplant['generator_id_reported'] != missing_gens_in_subplant['generator_id_complete']) & (missing_gens_in_subplant['generator_id_complete'].notnull())]\n",
    "missing_gens_in_subplant"
   ]
  },
  {
   "cell_type": "code",
   "execution_count": null,
   "metadata": {},
   "outputs": [],
   "source": [
    "gen_fuel_allocated[(gen_fuel_allocated['plant_id_eia'] == 3982) & (gen_fuel_allocated['generator_id'] == '4')]"
   ]
  },
  {
   "cell_type": "code",
   "execution_count": null,
   "metadata": {},
   "outputs": [],
   "source": [
    "# remove generator-months where there is incomplete data\n",
    "gen_fuel_allocated = gen_fuel_allocated.merge(missing_gens_in_subplant[['plant_id_eia','subplant_id','report_date']], how='left', indicator=True)\n",
    "gen_fuel_allocated = gen_fuel_allocated[gen_fuel_allocated['_merge'] != 'both'].drop(columns='_merge')"
   ]
  },
  {
   "cell_type": "markdown",
   "metadata": {},
   "source": [
    "## Aggregate Data"
   ]
  },
  {
   "cell_type": "code",
   "execution_count": null,
   "metadata": {},
   "outputs": [],
   "source": [
    "groupby_columns = ['plant_id_eia','subplant_id','report_date']\n",
    "\n",
    "net_gen = gen_fuel_allocated.groupby(groupby_columns).sum(min_count=1)['net_generation_mwh'].reset_index()\n",
    "gross_gen = cems_monthly.groupby(groupby_columns).sum()['gross_generation_mwh'].reset_index()\n",
    "gen_data = gross_gen.merge(net_gen, how='outer', on=groupby_columns)\n",
    "\n",
    "# calculate the hourly average generation values\n",
    "gen_data['hours_in_month'] = gen_data['report_date'].dt.daysinmonth * 24\n",
    "gen_data['gross_generation_mw'] = gen_data['gross_generation_mwh'] / gen_data['hours_in_month']\n",
    "gen_data['net_generation_mw'] = gen_data['net_generation_mwh'] / gen_data['hours_in_month']\n",
    "gen_data"
   ]
  },
  {
   "cell_type": "code",
   "execution_count": null,
   "metadata": {},
   "outputs": [],
   "source": [
    "id = 54\n",
    "subplant = 3\n",
    "data_to_plot = gen_data[(gen_data['plant_id_eia'] == id) & (gen_data['subplant_id'] == subplant)]\n",
    "corner_0 = data_to_plot[['gross_generation_mw','net_generation_mw']].min().min()\n",
    "corner_1 = data_to_plot[['gross_generation_mw','net_generation_mw']].max().max()\n",
    "\n",
    "px.scatter(data_to_plot, \n",
    "           x='gross_generation_mw', \n",
    "           y='net_generation_mw',\n",
    "           hover_data=['report_date'],\n",
    "           width=600,\n",
    "           height=600,\n",
    "           trendline='ols').add_shape(type=\"line\", x0=corner_0, y0=corner_0, x1=corner_1, y1=corner_1, line=dict(color=\"Black\", width=1))"
   ]
  },
  {
   "cell_type": "markdown",
   "metadata": {},
   "source": [
    "# Calculate the regressions"
   ]
  },
  {
   "cell_type": "code",
   "execution_count": null,
   "metadata": {},
   "outputs": [],
   "source": [
    "# test regression\n",
    "id = 3\n",
    "subplant = 4\n",
    "test_data = gen_data[(gen_data['plant_id_eia'] == id) & (gen_data['subplant_id'] == subplant)]\n",
    "model = smf.ols('net_generation_mw ~ gross_generation_mw', data=test_data).fit()\n",
    "outliers = model.outlier_test()\n",
    "model.summary()"
   ]
  },
  {
   "cell_type": "code",
   "execution_count": null,
   "metadata": {},
   "outputs": [],
   "source": [
    "def model_gross_to_net(df):\n",
    "    \"\"\"\n",
    "    Performs a linear regression model of monthly gross to net generation.\n",
    "\n",
    "    Performs recursive outlier removal up to two times if the absolute value of \n",
    "    the studentizes residual > 3\n",
    "\n",
    "    Args:\n",
    "        df: dataframe containing all values of gross and net generation that should be regressed\n",
    "    Returns:\n",
    "        various model parameters\n",
    "    \"\"\"\n",
    "    with warnings.catch_warnings():\n",
    "        warnings.simplefilter(\"ignore\")\n",
    "\n",
    "        # get a linear model for the data points\n",
    "        model = smf.ols('net_generation_mw ~ gross_generation_mw', data=df).fit()\n",
    "\n",
    "        # find and remove any outliers recursively up to two times\n",
    "        outliers = model.outlier_test()\n",
    "        if abs(outliers['student_resid']).max() > 3:\n",
    "            # remove any outlier values\n",
    "            df = df[~df.index.isin(outliers[abs(outliers['student_resid']) > 3].index)]\n",
    "\n",
    "            # get a linear model of the corrected data\n",
    "            model = smf.ols(\n",
    "                    'net_generation_mw ~ gross_generation_mw', data=df).fit()\n",
    "            \n",
    "            outliers = model.outlier_test()\n",
    "\n",
    "            # perform this removal one more time in case any outliers were masked by the first outlier(s)\n",
    "            if abs(outliers['student_resid']).max() > 3:\n",
    "                # remove any outlier values\n",
    "                df = df[~df.index.isin(outliers[abs(outliers['student_resid']) > 3].index)]\n",
    "\n",
    "                # get a linear model of the corrected data\n",
    "                try:\n",
    "                    model = smf.ols(\n",
    "                            'net_generation_mw ~ gross_generation_mw', data=df).fit()\n",
    "                except ValueError:\n",
    "                    pass\n",
    "        slope = model.params[1]\n",
    "        intercept = model.params[0]\n",
    "        rsquared = model.rsquared\n",
    "        rsquared_adj = model.rsquared_adj\n",
    "        number_observations = model.nobs\n",
    "\n",
    "    return slope, intercept, rsquared, rsquared_adj, number_observations"
   ]
  },
  {
   "cell_type": "code",
   "execution_count": null,
   "metadata": {},
   "outputs": [],
   "source": [
    "# calculate the ratio for each plant and create a dataframe\n",
    "gtn_regression = gen_data.dropna().groupby(['plant_id_eia','subplant_id']).apply(model_gross_to_net)\n",
    "gtn_regression = pd.DataFrame(gtn_regression.tolist(), index=gtn_regression.index, columns=['slope','intercept', 'rsquared','rsquared_adj','observations']).reset_index()\n",
    "gtn_regression"
   ]
  },
  {
   "cell_type": "code",
   "execution_count": null,
   "metadata": {},
   "outputs": [],
   "source": [
    "gtn_regression[(gtn_regression['rsquared_adj'] < 0.9) & (gtn_regression['rsquared_adj'] > 0.8)]"
   ]
  },
  {
   "cell_type": "code",
   "execution_count": null,
   "metadata": {},
   "outputs": [],
   "source": [
    "# remove results with a negative rsquared adjusted\n",
    "gtn_regression = gtn_regression[gtn_regression['rsquared_adj'] > 0]"
   ]
  },
  {
   "cell_type": "code",
   "execution_count": null,
   "metadata": {},
   "outputs": [],
   "source": [
    "gtn_regression.to_csv('../data/outputs/gross_to_net_regression.csv', index=False)"
   ]
  },
  {
   "cell_type": "code",
   "execution_count": null,
   "metadata": {},
   "outputs": [],
   "source": [
    "gtn_regression.mean().round(2)"
   ]
  },
  {
   "cell_type": "markdown",
   "metadata": {},
   "source": [
    "# Test Applying the values to the hourly CEMS data"
   ]
  },
  {
   "cell_type": "code",
   "execution_count": null,
   "metadata": {},
   "outputs": [],
   "source": [
    "id = 3\n",
    "test_cems = cems[cems['plant_id_eia'] == id]\n",
    "test_cems"
   ]
  },
  {
   "cell_type": "code",
   "execution_count": null,
   "metadata": {},
   "outputs": [],
   "source": [
    "test_cems = test_cems.merge(gtn_regression[['plant_id_eia','subplant_id','slope','intercept']], how='left', on=['plant_id_eia','subplant_id'])\n",
    "# divide the house load by the number of hours in each month\n",
    "#test_cems['intercept'] = test_cems['intercept'] / (test_cems.report_date.dt.daysinmonth * 24)\n",
    "# divide the house load by the number of units in each subplant\n",
    "units_in_subplant = subplant_crosswalk.groupby(['plant_id_eia','subplant_id'])['unitid'].count().reset_index().rename(columns={'unitid':'units_in_subplant'})\n",
    "test_cems = test_cems.merge(units_in_subplant, how='left', on=['plant_id_eia','subplant_id'])\n",
    "test_cems['intercept'] = test_cems['intercept'] / test_cems['units_in_subplant']\n",
    "# calculate net generation\n",
    "test_cems['net_generation_mwh'] = test_cems['gross_generation_mwh'] * test_cems['slope'] + test_cems['intercept']\n",
    "test_cems"
   ]
  },
  {
   "cell_type": "code",
   "execution_count": null,
   "metadata": {},
   "outputs": [],
   "source": [
    "px.line(test_cems, x='operating_datetime_utc', y=['gross_generation_mwh','net_generation_mwh'], facet_col='unitid')"
   ]
  },
  {
   "cell_type": "code",
   "execution_count": null,
   "metadata": {},
   "outputs": [],
   "source": [
    "test_cems.groupby(['plant_id_eia','subplant_id','report_date'])['net_generation_mwh'].sum()"
   ]
  },
  {
   "cell_type": "code",
   "execution_count": null,
   "metadata": {},
   "outputs": [],
   "source": [
    "gf_to_compare = gen_fuel_allocated[gen_fuel_allocated['plant_id_eia'] == 3]\n",
    "gf_to_compare = gf_to_compare.groupby(['plant_id_eia','subplant_id','report_date'])['net_generation_mwh'].sum()\n",
    "gf_to_compare"
   ]
  },
  {
   "cell_type": "markdown",
   "metadata": {},
   "source": [
    "# Old Code for reference"
   ]
  },
  {
   "cell_type": "code",
   "execution_count": null,
   "metadata": {},
   "outputs": [],
   "source": [
    "\n",
    "\n",
    "def convert_gross_to_net_generation(cems, gen_fuel_allocated):\n",
    "    \"\"\"\n",
    "    Converts hourly gross generation in CEMS to hourly net generation by calculating a gross to net generation ratio\n",
    "    Inputs:\n",
    "\n",
    "    Returns: \n",
    "        cems df with an added column for net_generation_mwh and a column indicated the method used to calculate net generation\n",
    "    \"\"\"\n",
    "\n",
    "    # add a placeholder column that assumes a 1:1 gross to net generation ratio\n",
    "    # if for some reason we are not able to calculate a gross to net generation ratio, this will be used as the default assumption\n",
    "    cems['net_generation_mwh'] = cems['gross_generation_mwh']\n",
    "\n",
    "    # load the allocated eia data for each month where there is corresponding cems data\n",
    "    eia_plant_month_net_gen = gen_fuel_allocated[(gen_fuel_allocated['data_source'] == 'cems') & ~(gen_fuel_allocated['net_generation_mwh'].isna())]\n",
    "    # aggregate at the plant month level\n",
    "    eia_plant_month_net_gen = eia_plant_month_net_gen.groupby(['plant_id_eia','report_date']).sum()['net_generation_mwh'].reset_index()\n",
    "\n",
    "    # calculate the total gross generation for each plant month in cems\n",
    "    cems_plant_month_gross_gen = cems.groupby(['plant_id_eia','report_date']).sum()['gross_generation_mwh'].reset_index()\n",
    "\n",
    "    # merge the net generation data into the gross generation data\n",
    "    monthly_gtn_ratio = cems_plant_month_gross_gen.merge(eia_plant_month_net_gen, how='left', on=['plant_id_eia','report_date'])\n",
    "\n",
    "    # calculate the gtn\n",
    "    monthly_gtn_ratio['gross_to_net_ratio'] = monthly_gtn_ratio['net_generation_mwh'] / monthly_gtn_ratio['gross_generation_mwh']\n",
    "\n",
    "    # only keep values where the monthly ratio is greater than zero\n",
    "    monthly_gtn_ratio.loc[(monthly_gtn_ratio['gross_to_net_ratio'] < 0), 'gross_to_net_ratio'] = np.NaN\n",
    "\n",
    "    # Set up the regression analysis for missing values\n",
    "\n",
    "    # only keep values where there are not missing values\n",
    "    gtn_regression = monthly_gtn_ratio.copy()[~(monthly_gtn_ratio['gross_to_net_ratio'].isna())]\n",
    "    # calculate the ratio for each plant and create a dataframe\n",
    "    gtn_regression = gtn_regression.groupby('plant_id_eia').apply(model_gross_to_net)\n",
    "    gtn_regression = pd.DataFrame(gtn_regression.tolist(), index=gtn_regression.index, columns=['gtn_linear', 'rsquared','rsquared_adj','observations']).reset_index()\n",
    "    # only keep the results with adjusted rsquared values greater than 0.70\n",
    "    gtn_regression = gtn_regression[gtn_regression['rsquared_adj'] >= 0.7]\n",
    "\n",
    "    # merge in regression results\n",
    "    monthly_gtn_ratio = monthly_gtn_ratio.merge(gtn_regression[['plant_id_eia','gtn_linear']], how='left', on='plant_id_eia')\n",
    "\n",
    "    # add a status column for how the net generation was calculated \n",
    "    monthly_gtn_ratio['net_gen_method'] = 'monthly_ratio'\n",
    "    monthly_gtn_ratio.loc[(monthly_gtn_ratio['gross_to_net_ratio'].isna()) & ~(monthly_gtn_ratio['gtn_linear'].isna()), 'net_gen_method'] = 'annual_regression'\n",
    "    monthly_gtn_ratio.loc[(monthly_gtn_ratio['gross_to_net_ratio'].isna()) & (monthly_gtn_ratio['gtn_linear'].isna()), 'net_gen_method'] = 'net_equals_gross'\n",
    "\n",
    "    # fill missing values using the ratio from the regression results\n",
    "    monthly_gtn_ratio['gross_to_net_ratio'] = monthly_gtn_ratio['gross_to_net_ratio'].fillna(monthly_gtn_ratio['gtn_linear'])\n",
    "\n",
    "    # merge the gtn ratio into the cems data\n",
    "    cems = cems.merge(monthly_gtn_ratio[['plant_id_eia','report_date','gross_to_net_ratio','net_gen_method']], how='left', on=['plant_id_eia','report_date'])\n",
    "    # calculate hourly net generation\n",
    "    cems['net_generation_mwh_calculated'] = cems['gross_generation_mwh'] * cems['gross_to_net_ratio']\n",
    "    \n",
    "    # update the net generation column using the calculated values\n",
    "    cems['net_generation_mwh'].update(cems['net_generation_mwh_calculated'])\n",
    "\n",
    "    # update the method column to indicate which used the default assumption\n",
    "    cems['net_gen_method'] = cems['net_gen_method'].fillna('net_equals_gross')\n",
    "\n",
    "    # drop the calculated column\n",
    "    cems = cems.drop(columns=['net_generation_mwh_calculated'])\n",
    "\n",
    "    return cems"
   ]
  },
  {
   "cell_type": "code",
   "execution_count": null,
   "metadata": {},
   "outputs": [],
   "source": [
    "# TESTING\n",
    "\n",
    "# 1a: Try monthly GTN by generator\n",
    "# load the allocated eia data for each month where there is corresponding cems data\n",
    "eia_gen_month_net_gen = gen_fuel_allocated[(gen_fuel_allocated['data_source'] == 'cems') & ~(gen_fuel_allocated['net_generation_mwh'].isna())]\n",
    "# aggregate at the generator month level\n",
    "eia_gen_month_net_gen = eia_gen_month_net_gen.groupby(['plant_id_eia','generator_id','report_date']).sum()['net_generation_mwh'].reset_index()\n",
    "\n",
    "# match unit id to generator id\n",
    "cems_gen_month_gross_gen = data_cleaning.crosswalk_epa_unit_to_eia_generator_id(cems, unique_gen_match=True)\n",
    "# drop any observations where there is not a match to a generator id\n",
    "cems_gen_month_gross_gen = cems_gen_month_gross_gen[~cems_gen_month_gross_gen['generator_id'].isna()]\n",
    "\n",
    "# calculate the total gross generation for each generator month in cems\n",
    "cems_gen_month_gross_gen = cems_gen_month_gross_gen.groupby(['plant_id_eia','generator_id','report_date']).sum()['gross_generation_mwh'].reset_index()\n",
    "\n",
    "# merge the net generation data into the gross generation data\n",
    "monthly_gtn_ratio = cems_gen_month_gross_gen.merge(eia_gen_month_net_gen, how='left', on=['plant_id_eia','generator_id','report_date'])\n",
    "\n",
    "# calculate the gtn\n",
    "monthly_gtn_ratio['gtn_ratio_gen_month'] = monthly_gtn_ratio['net_generation_mwh'] / monthly_gtn_ratio['gross_generation_mwh']\n",
    "\n",
    "#### Calculate annual values by gen\n",
    "\n",
    "# identify whether any individual month GTNs are very large\n",
    "annual_gtn_ratio = monthly_gtn_ratio.groupby(['plant_id_eia','generator_id']).max()['gtn_ratio_gen_month'].reset_index()\n",
    "# only keep values for which the maximum GTN values are unrealistic\n",
    "annual_gtn_ratio = annual_gtn_ratio[(annual_gtn_ratio['gtn_ratio_gen_month'] > 1.1) | (annual_gtn_ratio['gtn_ratio_gen_month'] < 0)]\n",
    "\n",
    "# calculate annual net gen values\n",
    "eia_gen_year_net_gen = eia_gen_month_net_gen.groupby(['plant_id_eia','generator_id']).sum().reset_index()\n",
    "cems_gen_year_gross_gen = cems_gen_month_gross_gen.groupby(['plant_id_eia','generator_id']).sum().reset_index()\n",
    "\n",
    "# merge in the annual gross generation and net generation data\n",
    "annual_gtn_ratio = annual_gtn_ratio.merge(cems_gen_year_gross_gen, how='left', on=['plant_id_eia','generator_id'])\n",
    "annual_gtn_ratio = annual_gtn_ratio.merge(eia_gen_year_net_gen, how='left', on=['plant_id_eia','generator_id'])\n",
    "\n",
    "# calculate the gtn\n",
    "annual_gtn_ratio['gtn_ratio_gen_year'] = annual_gtn_ratio['net_generation_mwh'] / annual_gtn_ratio['gross_generation_mwh']\n",
    "\n",
    "# merge this back into the monthly data\n",
    "monthly_gtn_ratio = monthly_gtn_ratio.merge(annual_gtn_ratio[['plant_id_eia','generator_id','gtn_ratio_gen_year']], how='left', on=['plant_id_eia','generator_id'])\n",
    "\n",
    "# NOTE\n",
    "# In some cases, using the annual gtn value may lead to overestimating monthly generation\n",
    "# it might depend on how the generation is getting allocated\n",
    "\n",
    "monthly_gtn_ratio[monthly_gtn_ratio['plant_id_eia'] == 61242]"
   ]
  }
 ],
 "metadata": {
  "interpreter": {
   "hash": "4103f3cd497821eca917ea303dbe10c590d787eb7d2dc3fd4e15dec0356e7931"
  },
  "kernelspec": {
   "display_name": "Python 3.9.12 ('hourly_egrid')",
   "language": "python",
   "name": "python3"
  },
  "language_info": {
   "codemirror_mode": {
    "name": "ipython",
    "version": 3
   },
   "file_extension": ".py",
   "mimetype": "text/x-python",
   "name": "python",
   "nbconvert_exporter": "python",
   "pygments_lexer": "ipython3",
   "version": "3.9.12"
  },
  "orig_nbformat": 4
 },
 "nbformat": 4,
 "nbformat_minor": 2
}
