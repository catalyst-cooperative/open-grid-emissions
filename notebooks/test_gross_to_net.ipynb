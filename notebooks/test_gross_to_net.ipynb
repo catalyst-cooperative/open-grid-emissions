{
 "cells": [
  {
   "cell_type": "markdown",
   "metadata": {},
   "source": [
    "# Perform a regression on gross and net generation data from multiple years\n",
    "\n",
    "We want to run a regression on multiple years of CEMS and EIA data. We can do by month, and also on an annual basis\n",
    "\n",
    "We should probably aggregate by plant-prime mover-environmental equipment.\n",
    "\n",
    "Steps:\n",
    "1. Load and clean gross generation data for multiple years\n",
    "2. Load and distribute net generation data from EIA for multiple years\n",
    "3. Aggregate / map data from both source"
   ]
  },
  {
   "cell_type": "code",
   "execution_count": 1,
   "metadata": {},
   "outputs": [],
   "source": [
    "# Tell python where to look for modules. \n",
    "# Depending on how your jupyter handles working directories, this may not be needed.\n",
    "import sys\n",
    "sys.path.append('../../hourly-egrid/')\n",
    "\n",
    "# import the necessary packages\n",
    "%reload_ext autoreload\n",
    "%autoreload 2\n",
    "\n",
    "# import packages\n",
    "import sqlalchemy as sa\n",
    "from pathlib import Path\n",
    "import pandas as pd\n",
    "import plotly.express as px\n",
    "import numpy as np\n",
    "import statsmodels.formula.api as smf\n",
    "import warnings\n",
    "\n",
    "# PUDL\n",
    "import pudl.analysis.allocate_net_gen as allocate_gen_fuel\n",
    "import pudl.analysis.epa_crosswalk as epa_crosswalk\n",
    "import pudl.output.pudltabl\n",
    "\n",
    "# local packages\n",
    "import src.data_cleaning as data_cleaning\n",
    "import src.gross_to_net_generation as gross_to_net_generation\n",
    "import src.load_data as load_data\n"
   ]
  },
  {
   "cell_type": "markdown",
   "metadata": {},
   "source": [
    "# Load Data\n",
    "We need to load net generation data from EIA-923 and gross generation data from CEMS"
   ]
  },
  {
   "cell_type": "code",
   "execution_count": 2,
   "metadata": {},
   "outputs": [],
   "source": [
    "year = 2020\n",
    "number_of_years = 5"
   ]
  },
  {
   "cell_type": "code",
   "execution_count": 13,
   "metadata": {},
   "outputs": [],
   "source": [
    "crosswalk = pudl.output.epacems.epa_crosswalk()"
   ]
  },
  {
   "cell_type": "code",
   "execution_count": 3,
   "metadata": {},
   "outputs": [
    {
     "name": "stdout",
     "output_type": "stream",
     "text": [
      "loading 2016 CEMS data\n"
     ]
    },
    {
     "name": "stderr",
     "output_type": "stream",
     "text": [
      "a:\\miniconda3\\envs\\hourly_egrid\\lib\\site-packages\\pandas\\core\\arrays\\datetimes.py:1162: UserWarning: Converting to PeriodArray/Index representation will drop timezone information.\n",
      "  warnings.warn(\n"
     ]
    },
    {
     "name": "stdout",
     "output_type": "stream",
     "text": [
      "loading 2017 CEMS data\n"
     ]
    },
    {
     "name": "stderr",
     "output_type": "stream",
     "text": [
      "a:\\miniconda3\\envs\\hourly_egrid\\lib\\site-packages\\pandas\\core\\arrays\\datetimes.py:1162: UserWarning: Converting to PeriodArray/Index representation will drop timezone information.\n",
      "  warnings.warn(\n"
     ]
    },
    {
     "name": "stdout",
     "output_type": "stream",
     "text": [
      "loading 2018 CEMS data\n"
     ]
    },
    {
     "name": "stderr",
     "output_type": "stream",
     "text": [
      "a:\\miniconda3\\envs\\hourly_egrid\\lib\\site-packages\\pandas\\core\\arrays\\datetimes.py:1162: UserWarning: Converting to PeriodArray/Index representation will drop timezone information.\n",
      "  warnings.warn(\n"
     ]
    },
    {
     "name": "stdout",
     "output_type": "stream",
     "text": [
      "loading 2019 CEMS data\n"
     ]
    },
    {
     "name": "stderr",
     "output_type": "stream",
     "text": [
      "a:\\miniconda3\\envs\\hourly_egrid\\lib\\site-packages\\pandas\\core\\arrays\\datetimes.py:1162: UserWarning: Converting to PeriodArray/Index representation will drop timezone information.\n",
      "  warnings.warn(\n"
     ]
    },
    {
     "name": "stdout",
     "output_type": "stream",
     "text": [
      "loading 2020 CEMS data\n"
     ]
    },
    {
     "name": "stderr",
     "output_type": "stream",
     "text": [
      "a:\\miniconda3\\envs\\hourly_egrid\\lib\\site-packages\\pandas\\core\\arrays\\datetimes.py:1162: UserWarning: Converting to PeriodArray/Index representation will drop timezone information.\n",
      "  warnings.warn(\n"
     ]
    },
    {
     "name": "stdout",
     "output_type": "stream",
     "text": [
      "Allocating EIA-923 generation data\n"
     ]
    },
    {
     "name": "stderr",
     "output_type": "stream",
     "text": [
      "a:\\github\\pudl\\src\\pudl\\analysis\\allocate_net_gen.py:182: UserWarning: 450 generators are missing prime mover codes in gens_eia860. This will result in incorrect allocation.\n",
      "  warnings.warn(\n",
      "a:\\github\\pudl\\src\\pudl\\analysis\\allocate_net_gen.py:189: UserWarning: After manual cleaning, 320 generators are still missing prime mover codes in gens_eia860. This will result in incorrect allocation.\n",
      "  warnings.warn(\n"
     ]
    }
   ],
   "source": [
    "start_year = year - (number_of_years - 1)\n",
    "end_year = year\n",
    "\n",
    "# TODO: move the following code to a separate function so that it does not hold these dataframes in memory after calculation\n",
    "\n",
    "# load 5 years of monthly data from CEMS and EIA-923\n",
    "cems_monthly, gen_fuel_allocated = gross_to_net_generation.load_monthly_gross_and_net_generation(\n",
    "    start_year, end_year\n",
    ")"
   ]
  },
  {
   "cell_type": "markdown",
   "metadata": {},
   "source": [
    "# Test Subplant assignment"
   ]
  },
  {
   "cell_type": "code",
   "execution_count": 13,
   "metadata": {},
   "outputs": [
    {
     "data": {
      "text/html": [
       "<div>\n",
       "<style scoped>\n",
       "    .dataframe tbody tr th:only-of-type {\n",
       "        vertical-align: middle;\n",
       "    }\n",
       "\n",
       "    .dataframe tbody tr th {\n",
       "        vertical-align: top;\n",
       "    }\n",
       "\n",
       "    .dataframe thead th {\n",
       "        text-align: right;\n",
       "    }\n",
       "</style>\n",
       "<table border=\"1\" class=\"dataframe\">\n",
       "  <thead>\n",
       "    <tr style=\"text-align: right;\">\n",
       "      <th></th>\n",
       "      <th>plant_id_eia</th>\n",
       "      <th>unitid</th>\n",
       "      <th>report_date</th>\n",
       "      <th>gross_generation_mwh</th>\n",
       "    </tr>\n",
       "  </thead>\n",
       "  <tbody>\n",
       "    <tr>\n",
       "      <th>16941</th>\n",
       "      <td>7063</td>\n",
       "      <td>**1</td>\n",
       "      <td>2016-01-01</td>\n",
       "      <td>1638.650024</td>\n",
       "    </tr>\n",
       "    <tr>\n",
       "      <th>16942</th>\n",
       "      <td>7063</td>\n",
       "      <td>**1</td>\n",
       "      <td>2016-02-01</td>\n",
       "      <td>648.780029</td>\n",
       "    </tr>\n",
       "    <tr>\n",
       "      <th>16943</th>\n",
       "      <td>7063</td>\n",
       "      <td>**1</td>\n",
       "      <td>2016-03-01</td>\n",
       "      <td>335.130005</td>\n",
       "    </tr>\n",
       "    <tr>\n",
       "      <th>16944</th>\n",
       "      <td>7063</td>\n",
       "      <td>**1</td>\n",
       "      <td>2016-04-01</td>\n",
       "      <td>194.470001</td>\n",
       "    </tr>\n",
       "    <tr>\n",
       "      <th>16945</th>\n",
       "      <td>7063</td>\n",
       "      <td>**1</td>\n",
       "      <td>2016-05-01</td>\n",
       "      <td>524.659973</td>\n",
       "    </tr>\n",
       "    <tr>\n",
       "      <th>...</th>\n",
       "      <td>...</td>\n",
       "      <td>...</td>\n",
       "      <td>...</td>\n",
       "      <td>...</td>\n",
       "    </tr>\n",
       "    <tr>\n",
       "      <th>163185</th>\n",
       "      <td>7063</td>\n",
       "      <td>**5</td>\n",
       "      <td>2020-08-01</td>\n",
       "      <td>25351.130859</td>\n",
       "    </tr>\n",
       "    <tr>\n",
       "      <th>163186</th>\n",
       "      <td>7063</td>\n",
       "      <td>**5</td>\n",
       "      <td>2020-09-01</td>\n",
       "      <td>15059.650391</td>\n",
       "    </tr>\n",
       "    <tr>\n",
       "      <th>163187</th>\n",
       "      <td>7063</td>\n",
       "      <td>**5</td>\n",
       "      <td>2020-10-01</td>\n",
       "      <td>16363.320312</td>\n",
       "    </tr>\n",
       "    <tr>\n",
       "      <th>163188</th>\n",
       "      <td>7063</td>\n",
       "      <td>**5</td>\n",
       "      <td>2020-11-01</td>\n",
       "      <td>10301.599609</td>\n",
       "    </tr>\n",
       "    <tr>\n",
       "      <th>163189</th>\n",
       "      <td>7063</td>\n",
       "      <td>**5</td>\n",
       "      <td>2020-12-01</td>\n",
       "      <td>17999.740234</td>\n",
       "    </tr>\n",
       "  </tbody>\n",
       "</table>\n",
       "<p>271 rows × 4 columns</p>\n",
       "</div>"
      ],
      "text/plain": [
       "        plant_id_eia unitid report_date  gross_generation_mwh\n",
       "16941           7063    **1  2016-01-01           1638.650024\n",
       "16942           7063    **1  2016-02-01            648.780029\n",
       "16943           7063    **1  2016-03-01            335.130005\n",
       "16944           7063    **1  2016-04-01            194.470001\n",
       "16945           7063    **1  2016-05-01            524.659973\n",
       "...              ...    ...         ...                   ...\n",
       "163185          7063    **5  2020-08-01          25351.130859\n",
       "163186          7063    **5  2020-09-01          15059.650391\n",
       "163187          7063    **5  2020-10-01          16363.320312\n",
       "163188          7063    **5  2020-11-01          10301.599609\n",
       "163189          7063    **5  2020-12-01          17999.740234\n",
       "\n",
       "[271 rows x 4 columns]"
      ]
     },
     "execution_count": 13,
     "metadata": {},
     "output_type": "execute_result"
    }
   ],
   "source": [
    "cems_monthly[cems_monthly['plant_id_eia'] == 7063]"
   ]
  },
  {
   "cell_type": "code",
   "execution_count": 14,
   "metadata": {},
   "outputs": [],
   "source": [
    "ids = cems_monthly[[\"plant_id_eia\", \"unitid\"]].drop_duplicates()"
   ]
  },
  {
   "cell_type": "code",
   "execution_count": 15,
   "metadata": {},
   "outputs": [
    {
     "data": {
      "text/html": [
       "<div>\n",
       "<style scoped>\n",
       "    .dataframe tbody tr th:only-of-type {\n",
       "        vertical-align: middle;\n",
       "    }\n",
       "\n",
       "    .dataframe tbody tr th {\n",
       "        vertical-align: top;\n",
       "    }\n",
       "\n",
       "    .dataframe thead th {\n",
       "        text-align: right;\n",
       "    }\n",
       "</style>\n",
       "<table border=\"1\" class=\"dataframe\">\n",
       "  <thead>\n",
       "    <tr style=\"text-align: right;\">\n",
       "      <th></th>\n",
       "      <th>plant_id_eia</th>\n",
       "      <th>unitid</th>\n",
       "    </tr>\n",
       "  </thead>\n",
       "  <tbody>\n",
       "    <tr>\n",
       "      <th>16941</th>\n",
       "      <td>7063</td>\n",
       "      <td>**1</td>\n",
       "    </tr>\n",
       "    <tr>\n",
       "      <th>16953</th>\n",
       "      <td>7063</td>\n",
       "      <td>**2</td>\n",
       "    </tr>\n",
       "    <tr>\n",
       "      <th>16962</th>\n",
       "      <td>7063</td>\n",
       "      <td>**3</td>\n",
       "    </tr>\n",
       "    <tr>\n",
       "      <th>16973</th>\n",
       "      <td>7063</td>\n",
       "      <td>**4</td>\n",
       "    </tr>\n",
       "    <tr>\n",
       "      <th>16984</th>\n",
       "      <td>7063</td>\n",
       "      <td>**5</td>\n",
       "    </tr>\n",
       "  </tbody>\n",
       "</table>\n",
       "</div>"
      ],
      "text/plain": [
       "       plant_id_eia unitid\n",
       "16941          7063    **1\n",
       "16953          7063    **2\n",
       "16962          7063    **3\n",
       "16973          7063    **4\n",
       "16984          7063    **5"
      ]
     },
     "execution_count": 15,
     "metadata": {},
     "output_type": "execute_result"
    }
   ],
   "source": [
    "ids[ids['plant_id_eia'] == 7063]"
   ]
  },
  {
   "cell_type": "code",
   "execution_count": 8,
   "metadata": {},
   "outputs": [],
   "source": [
    "crosswalk = pudl.output.epacems.epa_crosswalk()"
   ]
  },
  {
   "cell_type": "code",
   "execution_count": 16,
   "metadata": {},
   "outputs": [
    {
     "data": {
      "text/html": [
       "<div>\n",
       "<style scoped>\n",
       "    .dataframe tbody tr th:only-of-type {\n",
       "        vertical-align: middle;\n",
       "    }\n",
       "\n",
       "    .dataframe tbody tr th {\n",
       "        vertical-align: top;\n",
       "    }\n",
       "\n",
       "    .dataframe thead th {\n",
       "        text-align: right;\n",
       "    }\n",
       "</style>\n",
       "<table border=\"1\" class=\"dataframe\">\n",
       "  <thead>\n",
       "    <tr style=\"text-align: right;\">\n",
       "      <th></th>\n",
       "      <th>SEQUENCE_NUMBER</th>\n",
       "      <th>CAMD_STATE</th>\n",
       "      <th>CAMD_FACILITY_NAME</th>\n",
       "      <th>CAMD_PLANT_ID</th>\n",
       "      <th>CAMD_UNIT_ID</th>\n",
       "      <th>CAMD_GENERATOR_ID</th>\n",
       "      <th>CAMD_NAMEPLATE_CAPACITY</th>\n",
       "      <th>CAMD_FUEL_TYPE</th>\n",
       "      <th>CAMD_LATITUDE</th>\n",
       "      <th>CAMD_LONGITUDE</th>\n",
       "      <th>CAMD_STATUS</th>\n",
       "      <th>CAMD_STATUS_DATE</th>\n",
       "      <th>CAMD_RETIRE_YEAR</th>\n",
       "      <th>MOD_CAMD_UNIT_ID</th>\n",
       "      <th>MOD_CAMD_GENERATOR_ID</th>\n",
       "      <th>EIA_STATE</th>\n",
       "      <th>EIA_PLANT_NAME</th>\n",
       "      <th>EIA_PLANT_ID</th>\n",
       "      <th>EIA_GENERATOR_ID</th>\n",
       "      <th>EIA_NAMEPLATE_CAPACITY</th>\n",
       "      <th>EIA_BOILER_ID</th>\n",
       "      <th>EIA_UNIT_TYPE</th>\n",
       "      <th>EIA_FUEL_TYPE</th>\n",
       "      <th>EIA_LATITUDE</th>\n",
       "      <th>EIA_LONGITUDE</th>\n",
       "      <th>EIA_RETIRE_YEAR</th>\n",
       "      <th>PLANT_ID_CHANGE_FLAG</th>\n",
       "      <th>MOD_EIA_PLANT_ID</th>\n",
       "      <th>MOD_EIA_BOILER_ID</th>\n",
       "      <th>MOD_EIA_GENERATOR_ID_BOILER</th>\n",
       "      <th>MOD_EIA_GENERATOR_ID_GEN</th>\n",
       "      <th>MATCH_TYPE_GEN</th>\n",
       "      <th>MATCH_TYPE_BOILER</th>\n",
       "    </tr>\n",
       "  </thead>\n",
       "  <tbody>\n",
       "    <tr>\n",
       "      <th>3212</th>\n",
       "      <td>2991.0</td>\n",
       "      <td>AL</td>\n",
       "      <td>McIntosh (7063)</td>\n",
       "      <td>7063</td>\n",
       "      <td>**2</td>\n",
       "      <td>2</td>\n",
       "      <td>113.0</td>\n",
       "      <td>Pipeline Natural Gas</td>\n",
       "      <td>31.2546</td>\n",
       "      <td>-88.0299</td>\n",
       "      <td>OPR</td>\n",
       "      <td>1998-06-18T00:00:00</td>\n",
       "      <td>0</td>\n",
       "      <td>**2</td>\n",
       "      <td>2</td>\n",
       "      <td>AL</td>\n",
       "      <td>McIntosh (AL)</td>\n",
       "      <td>7063.0</td>\n",
       "      <td>2</td>\n",
       "      <td>113.0</td>\n",
       "      <td>NaN</td>\n",
       "      <td>GT</td>\n",
       "      <td>NG</td>\n",
       "      <td>31.2546</td>\n",
       "      <td>-88.0299</td>\n",
       "      <td>0.0</td>\n",
       "      <td>0.0</td>\n",
       "      <td>7063.0</td>\n",
       "      <td>NaN</td>\n",
       "      <td>NaN</td>\n",
       "      <td>2</td>\n",
       "      <td>3_1_Generator (generators) match on plant and ...</td>\n",
       "      <td>NaN</td>\n",
       "    </tr>\n",
       "    <tr>\n",
       "      <th>3213</th>\n",
       "      <td>2992.0</td>\n",
       "      <td>AL</td>\n",
       "      <td>McIntosh (7063)</td>\n",
       "      <td>7063</td>\n",
       "      <td>**3</td>\n",
       "      <td>3</td>\n",
       "      <td>113.0</td>\n",
       "      <td>Pipeline Natural Gas</td>\n",
       "      <td>31.2546</td>\n",
       "      <td>-88.0299</td>\n",
       "      <td>OPR</td>\n",
       "      <td>1998-06-28T00:00:00</td>\n",
       "      <td>0</td>\n",
       "      <td>**3</td>\n",
       "      <td>3</td>\n",
       "      <td>AL</td>\n",
       "      <td>McIntosh (AL)</td>\n",
       "      <td>7063.0</td>\n",
       "      <td>3</td>\n",
       "      <td>113.0</td>\n",
       "      <td>NaN</td>\n",
       "      <td>GT</td>\n",
       "      <td>NG</td>\n",
       "      <td>31.2546</td>\n",
       "      <td>-88.0299</td>\n",
       "      <td>0.0</td>\n",
       "      <td>0.0</td>\n",
       "      <td>7063.0</td>\n",
       "      <td>NaN</td>\n",
       "      <td>NaN</td>\n",
       "      <td>3</td>\n",
       "      <td>3_1_Generator (generators) match on plant and ...</td>\n",
       "      <td>NaN</td>\n",
       "    </tr>\n",
       "    <tr>\n",
       "      <th>3214</th>\n",
       "      <td>2993.0</td>\n",
       "      <td>AL</td>\n",
       "      <td>McIntosh (7063)</td>\n",
       "      <td>7063</td>\n",
       "      <td>**4</td>\n",
       "      <td>4</td>\n",
       "      <td>170.0</td>\n",
       "      <td>Pipeline Natural Gas</td>\n",
       "      <td>31.2546</td>\n",
       "      <td>-88.0299</td>\n",
       "      <td>OPR</td>\n",
       "      <td>2010-08-26T00:00:00</td>\n",
       "      <td>0</td>\n",
       "      <td>**4</td>\n",
       "      <td>4</td>\n",
       "      <td>AL</td>\n",
       "      <td>McIntosh (AL)</td>\n",
       "      <td>7063.0</td>\n",
       "      <td>4</td>\n",
       "      <td>170.0</td>\n",
       "      <td>NaN</td>\n",
       "      <td>GT</td>\n",
       "      <td>NG</td>\n",
       "      <td>31.2546</td>\n",
       "      <td>-88.0299</td>\n",
       "      <td>0.0</td>\n",
       "      <td>0.0</td>\n",
       "      <td>7063.0</td>\n",
       "      <td>NaN</td>\n",
       "      <td>NaN</td>\n",
       "      <td>4</td>\n",
       "      <td>3_1_Generator (generators) match on plant and ...</td>\n",
       "      <td>NaN</td>\n",
       "    </tr>\n",
       "    <tr>\n",
       "      <th>3215</th>\n",
       "      <td>2994.0</td>\n",
       "      <td>AL</td>\n",
       "      <td>McIntosh (7063)</td>\n",
       "      <td>7063</td>\n",
       "      <td>**5</td>\n",
       "      <td>5</td>\n",
       "      <td>170.0</td>\n",
       "      <td>Pipeline Natural Gas</td>\n",
       "      <td>31.2546</td>\n",
       "      <td>-88.0299</td>\n",
       "      <td>OPR</td>\n",
       "      <td>2010-09-08T00:00:00</td>\n",
       "      <td>0</td>\n",
       "      <td>**5</td>\n",
       "      <td>5</td>\n",
       "      <td>AL</td>\n",
       "      <td>McIntosh (AL)</td>\n",
       "      <td>7063.0</td>\n",
       "      <td>5</td>\n",
       "      <td>170.0</td>\n",
       "      <td>NaN</td>\n",
       "      <td>GT</td>\n",
       "      <td>NG</td>\n",
       "      <td>31.2546</td>\n",
       "      <td>-88.0299</td>\n",
       "      <td>0.0</td>\n",
       "      <td>0.0</td>\n",
       "      <td>7063.0</td>\n",
       "      <td>NaN</td>\n",
       "      <td>NaN</td>\n",
       "      <td>5</td>\n",
       "      <td>3_1_Generator (generators) match on plant and ...</td>\n",
       "      <td>NaN</td>\n",
       "    </tr>\n",
       "  </tbody>\n",
       "</table>\n",
       "</div>"
      ],
      "text/plain": [
       "      SEQUENCE_NUMBER CAMD_STATE CAMD_FACILITY_NAME  CAMD_PLANT_ID CAMD_UNIT_ID CAMD_GENERATOR_ID  CAMD_NAMEPLATE_CAPACITY        CAMD_FUEL_TYPE  CAMD_LATITUDE  CAMD_LONGITUDE CAMD_STATUS     CAMD_STATUS_DATE  CAMD_RETIRE_YEAR MOD_CAMD_UNIT_ID MOD_CAMD_GENERATOR_ID EIA_STATE EIA_PLANT_NAME  EIA_PLANT_ID EIA_GENERATOR_ID  EIA_NAMEPLATE_CAPACITY EIA_BOILER_ID EIA_UNIT_TYPE EIA_FUEL_TYPE  EIA_LATITUDE  EIA_LONGITUDE  EIA_RETIRE_YEAR  PLANT_ID_CHANGE_FLAG  MOD_EIA_PLANT_ID MOD_EIA_BOILER_ID MOD_EIA_GENERATOR_ID_BOILER MOD_EIA_GENERATOR_ID_GEN                                     MATCH_TYPE_GEN MATCH_TYPE_BOILER\n",
       "3212           2991.0         AL    McIntosh (7063)           7063          **2                 2                    113.0  Pipeline Natural Gas        31.2546        -88.0299         OPR  1998-06-18T00:00:00                 0              **2                     2        AL  McIntosh (AL)        7063.0                2                   113.0           NaN            GT            NG       31.2546       -88.0299              0.0                   0.0            7063.0               NaN                         NaN                        2  3_1_Generator (generators) match on plant and ...               NaN\n",
       "3213           2992.0         AL    McIntosh (7063)           7063          **3                 3                    113.0  Pipeline Natural Gas        31.2546        -88.0299         OPR  1998-06-28T00:00:00                 0              **3                     3        AL  McIntosh (AL)        7063.0                3                   113.0           NaN            GT            NG       31.2546       -88.0299              0.0                   0.0            7063.0               NaN                         NaN                        3  3_1_Generator (generators) match on plant and ...               NaN\n",
       "3214           2993.0         AL    McIntosh (7063)           7063          **4                 4                    170.0  Pipeline Natural Gas        31.2546        -88.0299         OPR  2010-08-26T00:00:00                 0              **4                     4        AL  McIntosh (AL)        7063.0                4                   170.0           NaN            GT            NG       31.2546       -88.0299              0.0                   0.0            7063.0               NaN                         NaN                        4  3_1_Generator (generators) match on plant and ...               NaN\n",
       "3215           2994.0         AL    McIntosh (7063)           7063          **5                 5                    170.0  Pipeline Natural Gas        31.2546        -88.0299         OPR  2010-09-08T00:00:00                 0              **5                     5        AL  McIntosh (AL)        7063.0                5                   170.0           NaN            GT            NG       31.2546       -88.0299              0.0                   0.0            7063.0               NaN                         NaN                        5  3_1_Generator (generators) match on plant and ...               NaN"
      ]
     },
     "execution_count": 16,
     "metadata": {},
     "output_type": "execute_result"
    }
   ],
   "source": [
    "crosswalk[crosswalk['EIA_PLANT_ID'] == 7063]"
   ]
  },
  {
   "cell_type": "code",
   "execution_count": 20,
   "metadata": {},
   "outputs": [
    {
     "data": {
      "text/html": [
       "<div>\n",
       "<style scoped>\n",
       "    .dataframe tbody tr th:only-of-type {\n",
       "        vertical-align: middle;\n",
       "    }\n",
       "\n",
       "    .dataframe tbody tr th {\n",
       "        vertical-align: top;\n",
       "    }\n",
       "\n",
       "    .dataframe thead th {\n",
       "        text-align: right;\n",
       "    }\n",
       "</style>\n",
       "<table border=\"1\" class=\"dataframe\">\n",
       "  <thead>\n",
       "    <tr style=\"text-align: right;\">\n",
       "      <th></th>\n",
       "      <th>plant_id_eia</th>\n",
       "      <th>unitid</th>\n",
       "      <th>EIA_PLANT_ID</th>\n",
       "      <th>CAMD_UNIT_ID</th>\n",
       "      <th>source</th>\n",
       "    </tr>\n",
       "  </thead>\n",
       "  <tbody>\n",
       "    <tr>\n",
       "      <th>0</th>\n",
       "      <td>3.0</td>\n",
       "      <td>1</td>\n",
       "      <td>3.0</td>\n",
       "      <td>1</td>\n",
       "      <td>both</td>\n",
       "    </tr>\n",
       "    <tr>\n",
       "      <th>1</th>\n",
       "      <td>3.0</td>\n",
       "      <td>2</td>\n",
       "      <td>3.0</td>\n",
       "      <td>2</td>\n",
       "      <td>both</td>\n",
       "    </tr>\n",
       "    <tr>\n",
       "      <th>2</th>\n",
       "      <td>3.0</td>\n",
       "      <td>4</td>\n",
       "      <td>3.0</td>\n",
       "      <td>4</td>\n",
       "      <td>both</td>\n",
       "    </tr>\n",
       "    <tr>\n",
       "      <th>3</th>\n",
       "      <td>3.0</td>\n",
       "      <td>5</td>\n",
       "      <td>3.0</td>\n",
       "      <td>5</td>\n",
       "      <td>both</td>\n",
       "    </tr>\n",
       "    <tr>\n",
       "      <th>4</th>\n",
       "      <td>3.0</td>\n",
       "      <td>6A</td>\n",
       "      <td>3.0</td>\n",
       "      <td>6A</td>\n",
       "      <td>both</td>\n",
       "    </tr>\n",
       "    <tr>\n",
       "      <th>...</th>\n",
       "      <td>...</td>\n",
       "      <td>...</td>\n",
       "      <td>...</td>\n",
       "      <td>...</td>\n",
       "      <td>...</td>\n",
       "    </tr>\n",
       "    <tr>\n",
       "      <th>7142</th>\n",
       "      <td>NaN</td>\n",
       "      <td>NaN</td>\n",
       "      <td>NaN</td>\n",
       "      <td>PB3</td>\n",
       "      <td>right_only</td>\n",
       "    </tr>\n",
       "    <tr>\n",
       "      <th>7143</th>\n",
       "      <td>NaN</td>\n",
       "      <td>NaN</td>\n",
       "      <td>NaN</td>\n",
       "      <td>AB01</td>\n",
       "      <td>right_only</td>\n",
       "    </tr>\n",
       "    <tr>\n",
       "      <th>7144</th>\n",
       "      <td>NaN</td>\n",
       "      <td>NaN</td>\n",
       "      <td>NaN</td>\n",
       "      <td>AB02</td>\n",
       "      <td>right_only</td>\n",
       "    </tr>\n",
       "    <tr>\n",
       "      <th>7145</th>\n",
       "      <td>NaN</td>\n",
       "      <td>NaN</td>\n",
       "      <td>NaN</td>\n",
       "      <td>AB03</td>\n",
       "      <td>right_only</td>\n",
       "    </tr>\n",
       "    <tr>\n",
       "      <th>7146</th>\n",
       "      <td>NaN</td>\n",
       "      <td>NaN</td>\n",
       "      <td>NaN</td>\n",
       "      <td>AB04</td>\n",
       "      <td>right_only</td>\n",
       "    </tr>\n",
       "  </tbody>\n",
       "</table>\n",
       "<p>7147 rows × 5 columns</p>\n",
       "</div>"
      ],
      "text/plain": [
       "      plant_id_eia unitid  EIA_PLANT_ID CAMD_UNIT_ID      source\n",
       "0              3.0      1           3.0            1        both\n",
       "1              3.0      2           3.0            2        both\n",
       "2              3.0      4           3.0            4        both\n",
       "3              3.0      5           3.0            5        both\n",
       "4              3.0     6A           3.0           6A        both\n",
       "...            ...    ...           ...          ...         ...\n",
       "7142           NaN    NaN           NaN          PB3  right_only\n",
       "7143           NaN    NaN           NaN         AB01  right_only\n",
       "7144           NaN    NaN           NaN         AB02  right_only\n",
       "7145           NaN    NaN           NaN         AB03  right_only\n",
       "7146           NaN    NaN           NaN         AB04  right_only\n",
       "\n",
       "[7147 rows x 5 columns]"
      ]
     },
     "execution_count": 20,
     "metadata": {},
     "output_type": "execute_result"
    }
   ],
   "source": [
    "# identify epa unit ids missing from the crosswalk\n",
    "\n",
    "ids.merge(crosswalk[['EIA_PLANT_ID','CAMD_UNIT_ID']], how='outer', left_on=['plant_id_eia','unitid'], right_on=['EIA_PLANT_ID','CAMD_UNIT_ID'], indicator='source')"
   ]
  },
  {
   "cell_type": "code",
   "execution_count": 17,
   "metadata": {},
   "outputs": [],
   "source": [
    "unique_eia_ids = gen_fuel_allocated[\n",
    "        [\"plant_id_eia\", \"generator_id\"]\n",
    "    ].drop_duplicates()"
   ]
  },
  {
   "cell_type": "code",
   "execution_count": 18,
   "metadata": {},
   "outputs": [
    {
     "data": {
      "text/html": [
       "<div>\n",
       "<style scoped>\n",
       "    .dataframe tbody tr th:only-of-type {\n",
       "        vertical-align: middle;\n",
       "    }\n",
       "\n",
       "    .dataframe tbody tr th {\n",
       "        vertical-align: top;\n",
       "    }\n",
       "\n",
       "    .dataframe thead th {\n",
       "        text-align: right;\n",
       "    }\n",
       "</style>\n",
       "<table border=\"1\" class=\"dataframe\">\n",
       "  <thead>\n",
       "    <tr style=\"text-align: right;\">\n",
       "      <th></th>\n",
       "      <th>plant_id_eia</th>\n",
       "      <th>generator_id</th>\n",
       "    </tr>\n",
       "  </thead>\n",
       "  <tbody>\n",
       "    <tr>\n",
       "      <th>7976</th>\n",
       "      <td>7063</td>\n",
       "      <td>1</td>\n",
       "    </tr>\n",
       "    <tr>\n",
       "      <th>7977</th>\n",
       "      <td>7063</td>\n",
       "      <td>2</td>\n",
       "    </tr>\n",
       "    <tr>\n",
       "      <th>7978</th>\n",
       "      <td>7063</td>\n",
       "      <td>3</td>\n",
       "    </tr>\n",
       "    <tr>\n",
       "      <th>7979</th>\n",
       "      <td>7063</td>\n",
       "      <td>4</td>\n",
       "    </tr>\n",
       "    <tr>\n",
       "      <th>7980</th>\n",
       "      <td>7063</td>\n",
       "      <td>5</td>\n",
       "    </tr>\n",
       "  </tbody>\n",
       "</table>\n",
       "</div>"
      ],
      "text/plain": [
       "      plant_id_eia generator_id\n",
       "7976          7063            1\n",
       "7977          7063            2\n",
       "7978          7063            3\n",
       "7979          7063            4\n",
       "7980          7063            5"
      ]
     },
     "execution_count": 18,
     "metadata": {},
     "output_type": "execute_result"
    }
   ],
   "source": [
    "unique_eia_ids[unique_eia_ids['plant_id_eia'] == 7063]"
   ]
  },
  {
   "cell_type": "markdown",
   "metadata": {},
   "source": [
    "# Aggregate the data to the monthly level\n",
    "For now we will aggregate to plant-month, but in the future we probably want to aggregate at a sub-plant level"
   ]
  },
  {
   "cell_type": "markdown",
   "metadata": {},
   "source": [
    "## Identify subplants"
   ]
  },
  {
   "cell_type": "code",
   "execution_count": null,
   "metadata": {},
   "outputs": [],
   "source": [
    "subplant_crosswalk = gross_to_net_generation.identify_subplants(start_year, end_year, gen_fuel_allocated, cems_monthly)\n",
    "# export the crosswalk to csv\n",
    "subplant_crosswalk.to_csv('../data/output/subplant_crosswalk.csv', index=False)\n",
    "subplant_crosswalk"
   ]
  },
  {
   "cell_type": "code",
   "execution_count": null,
   "metadata": {},
   "outputs": [],
   "source": [
    "# merge the subplant ids into each dataframe\n",
    "gen_fuel_allocated = gen_fuel_allocated.merge(subplant_crosswalk[['plant_id_eia','generator_id','subplant_id']], how='left', on=['plant_id_eia','generator_id'])\n",
    "cems_monthly = cems_monthly.merge(subplant_crosswalk[['plant_id_eia','unitid','subplant_id']], how='left', on=['plant_id_eia','unitid'])"
   ]
  },
  {
   "cell_type": "markdown",
   "metadata": {},
   "source": [
    "## Investigate relationships between units and gens\n",
    "This is just exploration and not used in this pipeline"
   ]
  },
  {
   "cell_type": "code",
   "execution_count": null,
   "metadata": {},
   "outputs": [],
   "source": [
    "crosswalk = load_data.load_epa_eia_crosswalk(year=2020)[['plant_id_epa','unitid','plant_id_eia','generator_id']]\n",
    "\n",
    "# drop duplicated rows (might have had multiple entries for boilers, which we do not care about)\n",
    "crosswalk = crosswalk.drop_duplicates()\n",
    "# drop rows with missing crosswalks\n",
    "crosswalk = crosswalk[~crosswalk['plant_id_eia'].isna()]\n",
    "\n",
    "# one-to-one relationships\n",
    "one_to_one = crosswalk.copy()[(~crosswalk.duplicated(subset=['plant_id_epa','unitid'], keep=False)) & (~crosswalk.duplicated(subset=['plant_id_eia','generator_id'], keep=False))]\n",
    "#crosswalk.drop_duplicates(subset=['plant_id_epa','unitid'], keep=False).drop_duplicates(subset=['plant_id_eia','generator_id'], keep=False)\n",
    "one_to_one['relationship'] = '1:1'\n",
    "\n",
    "# many-to-one relationships\n",
    "many_to_one = crosswalk.drop_duplicates(subset=['plant_id_epa','unitid'], keep=False)\n",
    "many_to_one = many_to_one[many_to_one.duplicated(subset=['plant_id_eia','generator_id'], keep=False)]\n",
    "many_to_one['relationship'] = 'm:1'\n",
    "\n",
    "# one_to_many\n",
    "one_to_many = crosswalk.drop_duplicates(subset=['plant_id_eia','generator_id'], keep=False)\n",
    "one_to_many = one_to_many[one_to_many.duplicated(subset=['plant_id_epa','unitid'], keep=False)]\n",
    "one_to_many['relationship'] = '1:m'\n",
    "\n",
    "# many-to-many\n",
    "# NOTE: this isn't working entirely correctly\n",
    "# find all 1:m\n",
    "many_to_many = crosswalk[crosswalk.duplicated(subset=['plant_id_epa','unitid'], keep=False)]\n",
    "# create a dataframe that has all epa plant-units in this list that are associated with multiple generators\n",
    "many_to_many_units = many_to_many[many_to_many.duplicated(subset=['plant_id_eia','generator_id'], keep=False)][['plant_id_epa','unitid']]\n",
    "many_to_many_units['relationship'] = 'm:m'\n",
    "# merge this back into the 1:m frame to identify all plant-units that are m:m\n",
    "many_to_many = many_to_many.merge(many_to_many_units.drop_duplicates(), how='left', on=['plant_id_epa','unitid'])\n",
    "#remove any rows where the relationship column is na (meaning not m:m)\n",
    "many_to_many = many_to_many[many_to_many['relationship'] == 'm:m']\n",
    "\n",
    "relationship = pd.concat([one_to_one,one_to_many,many_to_one,many_to_many], axis=0)\n",
    "\n",
    "missing = crosswalk.merge(relationship, how='left', on=['plant_id_epa','unitid','plant_id_eia','generator_id'])\n",
    "missing[missing['relationship'].isna()]"
   ]
  },
  {
   "cell_type": "code",
   "execution_count": null,
   "metadata": {},
   "outputs": [],
   "source": [
    "missing[missing['relationship'].isna()]"
   ]
  },
  {
   "cell_type": "markdown",
   "metadata": {},
   "source": [
    "## Identify for which months we have complete reporting from all units/generators in a subplant"
   ]
  },
  {
   "cell_type": "code",
   "execution_count": null,
   "metadata": {},
   "outputs": [],
   "source": [
    "# for each subplant-month, get a list of all unitids that reported data in CEMS\n",
    "missing_units_in_subplant = (\n",
    "    cems.sort_values(by=[\"plant_id_eia\", \"subplant_id\", \"unitid\"])\n",
    "    .groupby([\"plant_id_eia\", \"subplant_id\", \"report_date\"])[\"unitid\"]\n",
    "    .unique()\n",
    "    .apply(list)\n",
    "    .reset_index()\n",
    ")\n",
    "# get a complete list of all of the cems units that belong in each subplant\n",
    "units_in_subplant = (\n",
    "    subplant_crosswalk.sort_values(by=[\"plant_id_eia\", \"subplant_id\", \"unitid\"])\n",
    "    .groupby([\"plant_id_eia\", \"subplant_id\"])[\"unitid\"]\n",
    "    .unique()\n",
    "    .apply(list)\n",
    "    .reset_index()\n",
    ")\n",
    "# merge the list of complete units into the list of monthly reporting units\n",
    "missing_units_in_subplant = missing_units_in_subplant.merge(\n",
    "    units_in_subplant,\n",
    "    how=\"left\",\n",
    "    on=[\"plant_id_eia\", \"subplant_id\"],\n",
    "    suffixes=(\"_reported\", \"_complete\"),\n",
    ")\n",
    "# where is there missing unit reporting\n",
    "missing_units_in_subplant = missing_units_in_subplant[\n",
    "    (\n",
    "        missing_units_in_subplant[\"unitid_reported\"]\n",
    "        != missing_units_in_subplant[\"unitid_complete\"]\n",
    "    )\n",
    "    & (missing_units_in_subplant[\"unitid_complete\"].notnull())\n",
    "]\n",
    "missing_units_in_subplant\n"
   ]
  },
  {
   "cell_type": "code",
   "execution_count": null,
   "metadata": {},
   "outputs": [],
   "source": [
    "# remove unit-months where there is incomplete data\n",
    "cems = cems.merge(missing_units_in_subplant[['plant_id_eia','subplant_id','report_date']], how='left', indicator=True)\n",
    "cems = cems[cems['_merge'] != 'both'].drop(columns='_merge')"
   ]
  },
  {
   "cell_type": "code",
   "execution_count": null,
   "metadata": {},
   "outputs": [],
   "source": [
    "# for each subplant-month, get a list of all generator_ids that reported data in CEMS\n",
    "missing_gens_in_subplant = gen_fuel_allocated.sort_values(by=['plant_id_eia','subplant_id','generator_id']).groupby(['plant_id_eia','subplant_id','report_date'])['generator_id'].unique().apply(list).reset_index()\n",
    "# get a complete list of all of the cems units that belong in each subplant\n",
    "units_in_subplant = subplant_crosswalk.sort_values(by=['plant_id_eia','subplant_id','generator_id']).groupby(['plant_id_eia','subplant_id'])['generator_id'].unique().apply(list).reset_index()\n",
    "# merge the list of complete units into the list of monthly reporting units\n",
    "missing_gens_in_subplant = missing_gens_in_subplant.merge(units_in_subplant, how='left', on=['plant_id_eia','subplant_id'], suffixes=('_reported','_complete'))\n",
    "# where is there missing unit reporting\n",
    "missing_gens_in_subplant = missing_gens_in_subplant[(missing_gens_in_subplant['generator_id_reported'] != missing_gens_in_subplant['generator_id_complete']) & (missing_gens_in_subplant['generator_id_complete'].notnull())]\n",
    "missing_gens_in_subplant"
   ]
  },
  {
   "cell_type": "code",
   "execution_count": null,
   "metadata": {},
   "outputs": [],
   "source": [
    "gen_fuel_allocated[(gen_fuel_allocated['plant_id_eia'] == 3982) & (gen_fuel_allocated['generator_id'] == '4')]"
   ]
  },
  {
   "cell_type": "code",
   "execution_count": null,
   "metadata": {},
   "outputs": [],
   "source": [
    "# remove generator-months where there is incomplete data\n",
    "gen_fuel_allocated = gen_fuel_allocated.merge(missing_gens_in_subplant[['plant_id_eia','subplant_id','report_date']], how='left', indicator=True)\n",
    "gen_fuel_allocated = gen_fuel_allocated[gen_fuel_allocated['_merge'] != 'both'].drop(columns='_merge')"
   ]
  },
  {
   "cell_type": "markdown",
   "metadata": {},
   "source": [
    "## Aggregate Data"
   ]
  },
  {
   "cell_type": "code",
   "execution_count": null,
   "metadata": {},
   "outputs": [],
   "source": [
    "groupby_columns = ['plant_id_eia','subplant_id','report_date']\n",
    "\n",
    "net_gen = gen_fuel_allocated.groupby(groupby_columns).sum(min_count=1)['net_generation_mwh'].reset_index()\n",
    "gross_gen = cems_monthly.groupby(groupby_columns).sum()['gross_generation_mwh'].reset_index()\n",
    "gen_data = gross_gen.merge(net_gen, how='outer', on=groupby_columns)\n",
    "\n",
    "# calculate the hourly average generation values\n",
    "gen_data['hours_in_month'] = gen_data['report_date'].dt.daysinmonth * 24\n",
    "gen_data['gross_generation_mw'] = gen_data['gross_generation_mwh'] / gen_data['hours_in_month']\n",
    "gen_data['net_generation_mw'] = gen_data['net_generation_mwh'] / gen_data['hours_in_month']\n",
    "gen_data"
   ]
  },
  {
   "cell_type": "code",
   "execution_count": null,
   "metadata": {},
   "outputs": [],
   "source": [
    "id = 54\n",
    "subplant = 3\n",
    "data_to_plot = gen_data[(gen_data['plant_id_eia'] == id) & (gen_data['subplant_id'] == subplant)]\n",
    "corner_0 = data_to_plot[['gross_generation_mw','net_generation_mw']].min().min()\n",
    "corner_1 = data_to_plot[['gross_generation_mw','net_generation_mw']].max().max()\n",
    "\n",
    "px.scatter(data_to_plot, \n",
    "           x='gross_generation_mw', \n",
    "           y='net_generation_mw',\n",
    "           hover_data=['report_date'],\n",
    "           width=600,\n",
    "           height=600,\n",
    "           trendline='ols').add_shape(type=\"line\", x0=corner_0, y0=corner_0, x1=corner_1, y1=corner_1, line=dict(color=\"Black\", width=1))"
   ]
  },
  {
   "cell_type": "markdown",
   "metadata": {},
   "source": [
    "# Calculate the regressions"
   ]
  },
  {
   "cell_type": "code",
   "execution_count": null,
   "metadata": {},
   "outputs": [],
   "source": [
    "# test regression\n",
    "id = 3\n",
    "subplant = 4\n",
    "test_data = gen_data[(gen_data['plant_id_eia'] == id) & (gen_data['subplant_id'] == subplant)]\n",
    "model = smf.ols('net_generation_mw ~ gross_generation_mw', data=test_data).fit()\n",
    "outliers = model.outlier_test()\n",
    "model.summary()"
   ]
  },
  {
   "cell_type": "code",
   "execution_count": null,
   "metadata": {},
   "outputs": [],
   "source": [
    "def model_gross_to_net(df):\n",
    "    \"\"\"\n",
    "    Performs a linear regression model of monthly gross to net generation.\n",
    "\n",
    "    Performs recursive outlier removal up to two times if the absolute value of \n",
    "    the studentizes residual > 3\n",
    "\n",
    "    Args:\n",
    "        df: dataframe containing all values of gross and net generation that should be regressed\n",
    "    Returns:\n",
    "        various model parameters\n",
    "    \"\"\"\n",
    "    with warnings.catch_warnings():\n",
    "        warnings.simplefilter(\"ignore\")\n",
    "\n",
    "        # get a linear model for the data points\n",
    "        model = smf.ols('net_generation_mw ~ gross_generation_mw', data=df).fit()\n",
    "\n",
    "        # find and remove any outliers recursively up to two times\n",
    "        outliers = model.outlier_test()\n",
    "        if abs(outliers['student_resid']).max() > 3:\n",
    "            # remove any outlier values\n",
    "            df = df[~df.index.isin(outliers[abs(outliers['student_resid']) > 3].index)]\n",
    "\n",
    "            # get a linear model of the corrected data\n",
    "            model = smf.ols(\n",
    "                    'net_generation_mw ~ gross_generation_mw', data=df).fit()\n",
    "            \n",
    "            outliers = model.outlier_test()\n",
    "\n",
    "            # perform this removal one more time in case any outliers were masked by the first outlier(s)\n",
    "            if abs(outliers['student_resid']).max() > 3:\n",
    "                # remove any outlier values\n",
    "                df = df[~df.index.isin(outliers[abs(outliers['student_resid']) > 3].index)]\n",
    "\n",
    "                # get a linear model of the corrected data\n",
    "                try:\n",
    "                    model = smf.ols(\n",
    "                            'net_generation_mw ~ gross_generation_mw', data=df).fit()\n",
    "                except ValueError:\n",
    "                    pass\n",
    "        slope = model.params[1]\n",
    "        intercept = model.params[0]\n",
    "        rsquared = model.rsquared\n",
    "        rsquared_adj = model.rsquared_adj\n",
    "        number_observations = model.nobs\n",
    "\n",
    "    return slope, intercept, rsquared, rsquared_adj, number_observations"
   ]
  },
  {
   "cell_type": "code",
   "execution_count": null,
   "metadata": {},
   "outputs": [],
   "source": [
    "# calculate the ratio for each plant and create a dataframe\n",
    "gtn_regression = gen_data.dropna().groupby(['plant_id_eia','subplant_id']).apply(model_gross_to_net)\n",
    "gtn_regression = pd.DataFrame(gtn_regression.tolist(), index=gtn_regression.index, columns=['slope','intercept', 'rsquared','rsquared_adj','observations']).reset_index()\n",
    "gtn_regression"
   ]
  },
  {
   "cell_type": "code",
   "execution_count": null,
   "metadata": {},
   "outputs": [],
   "source": [
    "gtn_regression[(gtn_regression['rsquared_adj'] < 0.9) & (gtn_regression['rsquared_adj'] > 0.8)]"
   ]
  },
  {
   "cell_type": "code",
   "execution_count": null,
   "metadata": {},
   "outputs": [],
   "source": [
    "# remove results with a negative rsquared adjusted\n",
    "gtn_regression = gtn_regression[gtn_regression['rsquared_adj'] > 0]"
   ]
  },
  {
   "cell_type": "code",
   "execution_count": null,
   "metadata": {},
   "outputs": [],
   "source": [
    "gtn_regression.to_csv('../data/output/gross_to_net_regression.csv', index=False)"
   ]
  },
  {
   "cell_type": "code",
   "execution_count": null,
   "metadata": {},
   "outputs": [],
   "source": [
    "gtn_regression.mean().round(2)"
   ]
  },
  {
   "cell_type": "markdown",
   "metadata": {},
   "source": [
    "# Test Applying the values to the hourly CEMS data"
   ]
  },
  {
   "cell_type": "code",
   "execution_count": null,
   "metadata": {},
   "outputs": [],
   "source": [
    "id = 3\n",
    "test_cems = cems[cems['plant_id_eia'] == id]\n",
    "test_cems"
   ]
  },
  {
   "cell_type": "code",
   "execution_count": null,
   "metadata": {},
   "outputs": [],
   "source": [
    "test_cems = test_cems.merge(gtn_regression[['plant_id_eia','subplant_id','slope','intercept']], how='left', on=['plant_id_eia','subplant_id'])\n",
    "# divide the house load by the number of hours in each month\n",
    "#test_cems['intercept'] = test_cems['intercept'] / (test_cems.report_date.dt.daysinmonth * 24)\n",
    "# divide the house load by the number of units in each subplant\n",
    "units_in_subplant = subplant_crosswalk.groupby(['plant_id_eia','subplant_id'])['unitid'].count().reset_index().rename(columns={'unitid':'units_in_subplant'})\n",
    "test_cems = test_cems.merge(units_in_subplant, how='left', on=['plant_id_eia','subplant_id'])\n",
    "test_cems['intercept'] = test_cems['intercept'] / test_cems['units_in_subplant']\n",
    "# calculate net generation\n",
    "test_cems['net_generation_mwh'] = test_cems['gross_generation_mwh'] * test_cems['slope'] + test_cems['intercept']\n",
    "test_cems"
   ]
  },
  {
   "cell_type": "code",
   "execution_count": null,
   "metadata": {},
   "outputs": [],
   "source": [
    "px.line(test_cems, x='operating_datetime_utc', y=['gross_generation_mwh','net_generation_mwh'], facet_col='unitid')"
   ]
  },
  {
   "cell_type": "code",
   "execution_count": null,
   "metadata": {},
   "outputs": [],
   "source": [
    "test_cems.groupby(['plant_id_eia','subplant_id','report_date'])['net_generation_mwh'].sum()"
   ]
  },
  {
   "cell_type": "code",
   "execution_count": null,
   "metadata": {},
   "outputs": [],
   "source": [
    "gf_to_compare = gen_fuel_allocated[gen_fuel_allocated['plant_id_eia'] == 3]\n",
    "gf_to_compare = gf_to_compare.groupby(['plant_id_eia','subplant_id','report_date'])['net_generation_mwh'].sum()\n",
    "gf_to_compare"
   ]
  },
  {
   "cell_type": "markdown",
   "metadata": {},
   "source": [
    "# Old Code for reference"
   ]
  },
  {
   "cell_type": "code",
   "execution_count": null,
   "metadata": {},
   "outputs": [],
   "source": [
    "\n",
    "\n",
    "def convert_gross_to_net_generation(cems, gen_fuel_allocated):\n",
    "    \"\"\"\n",
    "    Converts hourly gross generation in CEMS to hourly net generation by calculating a gross to net generation ratio\n",
    "    Inputs:\n",
    "\n",
    "    Returns: \n",
    "        cems df with an added column for net_generation_mwh and a column indicated the method used to calculate net generation\n",
    "    \"\"\"\n",
    "\n",
    "    # add a placeholder column that assumes a 1:1 gross to net generation ratio\n",
    "    # if for some reason we are not able to calculate a gross to net generation ratio, this will be used as the default assumption\n",
    "    cems['net_generation_mwh'] = cems['gross_generation_mwh']\n",
    "\n",
    "    # load the allocated eia data for each month where there is corresponding cems data\n",
    "    eia_plant_month_net_gen = gen_fuel_allocated[(gen_fuel_allocated['data_source'] == 'cems') & ~(gen_fuel_allocated['net_generation_mwh'].isna())]\n",
    "    # aggregate at the plant month level\n",
    "    eia_plant_month_net_gen = eia_plant_month_net_gen.groupby(['plant_id_eia','report_date']).sum()['net_generation_mwh'].reset_index()\n",
    "\n",
    "    # calculate the total gross generation for each plant month in cems\n",
    "    cems_plant_month_gross_gen = cems.groupby(['plant_id_eia','report_date']).sum()['gross_generation_mwh'].reset_index()\n",
    "\n",
    "    # merge the net generation data into the gross generation data\n",
    "    monthly_gtn_ratio = cems_plant_month_gross_gen.merge(eia_plant_month_net_gen, how='left', on=['plant_id_eia','report_date'])\n",
    "\n",
    "    # calculate the gtn\n",
    "    monthly_gtn_ratio['gross_to_net_ratio'] = monthly_gtn_ratio['net_generation_mwh'] / monthly_gtn_ratio['gross_generation_mwh']\n",
    "\n",
    "    # only keep values where the monthly ratio is greater than zero\n",
    "    monthly_gtn_ratio.loc[(monthly_gtn_ratio['gross_to_net_ratio'] < 0), 'gross_to_net_ratio'] = np.NaN\n",
    "\n",
    "    # Set up the regression analysis for missing values\n",
    "\n",
    "    # only keep values where there are not missing values\n",
    "    gtn_regression = monthly_gtn_ratio.copy()[~(monthly_gtn_ratio['gross_to_net_ratio'].isna())]\n",
    "    # calculate the ratio for each plant and create a dataframe\n",
    "    gtn_regression = gtn_regression.groupby('plant_id_eia').apply(model_gross_to_net)\n",
    "    gtn_regression = pd.DataFrame(gtn_regression.tolist(), index=gtn_regression.index, columns=['gtn_linear', 'rsquared','rsquared_adj','observations']).reset_index()\n",
    "    # only keep the results with adjusted rsquared values greater than 0.70\n",
    "    gtn_regression = gtn_regression[gtn_regression['rsquared_adj'] >= 0.7]\n",
    "\n",
    "    # merge in regression results\n",
    "    monthly_gtn_ratio = monthly_gtn_ratio.merge(gtn_regression[['plant_id_eia','gtn_linear']], how='left', on='plant_id_eia')\n",
    "\n",
    "    # add a status column for how the net generation was calculated \n",
    "    monthly_gtn_ratio['net_gen_method'] = 'monthly_ratio'\n",
    "    monthly_gtn_ratio.loc[(monthly_gtn_ratio['gross_to_net_ratio'].isna()) & ~(monthly_gtn_ratio['gtn_linear'].isna()), 'net_gen_method'] = 'annual_regression'\n",
    "    monthly_gtn_ratio.loc[(monthly_gtn_ratio['gross_to_net_ratio'].isna()) & (monthly_gtn_ratio['gtn_linear'].isna()), 'net_gen_method'] = 'net_equals_gross'\n",
    "\n",
    "    # fill missing values using the ratio from the regression results\n",
    "    monthly_gtn_ratio['gross_to_net_ratio'] = monthly_gtn_ratio['gross_to_net_ratio'].fillna(monthly_gtn_ratio['gtn_linear'])\n",
    "\n",
    "    # merge the gtn ratio into the cems data\n",
    "    cems = cems.merge(monthly_gtn_ratio[['plant_id_eia','report_date','gross_to_net_ratio','net_gen_method']], how='left', on=['plant_id_eia','report_date'])\n",
    "    # calculate hourly net generation\n",
    "    cems['net_generation_mwh_calculated'] = cems['gross_generation_mwh'] * cems['gross_to_net_ratio']\n",
    "    \n",
    "    # update the net generation column using the calculated values\n",
    "    cems['net_generation_mwh'].update(cems['net_generation_mwh_calculated'])\n",
    "\n",
    "    # update the method column to indicate which used the default assumption\n",
    "    cems['net_gen_method'] = cems['net_gen_method'].fillna('net_equals_gross')\n",
    "\n",
    "    # drop the calculated column\n",
    "    cems = cems.drop(columns=['net_generation_mwh_calculated'])\n",
    "\n",
    "    return cems"
   ]
  },
  {
   "cell_type": "code",
   "execution_count": null,
   "metadata": {},
   "outputs": [],
   "source": [
    "# TESTING\n",
    "\n",
    "# 1a: Try monthly GTN by generator\n",
    "# load the allocated eia data for each month where there is corresponding cems data\n",
    "eia_gen_month_net_gen = gen_fuel_allocated[(gen_fuel_allocated['data_source'] == 'cems') & ~(gen_fuel_allocated['net_generation_mwh'].isna())]\n",
    "# aggregate at the generator month level\n",
    "eia_gen_month_net_gen = eia_gen_month_net_gen.groupby(['plant_id_eia','generator_id','report_date']).sum()['net_generation_mwh'].reset_index()\n",
    "\n",
    "# match unit id to generator id\n",
    "cems_gen_month_gross_gen = data_cleaning.crosswalk_epa_unit_to_eia_generator_id(cems, unique_gen_match=True)\n",
    "# drop any observations where there is not a match to a generator id\n",
    "cems_gen_month_gross_gen = cems_gen_month_gross_gen[~cems_gen_month_gross_gen['generator_id'].isna()]\n",
    "\n",
    "# calculate the total gross generation for each generator month in cems\n",
    "cems_gen_month_gross_gen = cems_gen_month_gross_gen.groupby(['plant_id_eia','generator_id','report_date']).sum()['gross_generation_mwh'].reset_index()\n",
    "\n",
    "# merge the net generation data into the gross generation data\n",
    "monthly_gtn_ratio = cems_gen_month_gross_gen.merge(eia_gen_month_net_gen, how='left', on=['plant_id_eia','generator_id','report_date'])\n",
    "\n",
    "# calculate the gtn\n",
    "monthly_gtn_ratio['gtn_ratio_gen_month'] = monthly_gtn_ratio['net_generation_mwh'] / monthly_gtn_ratio['gross_generation_mwh']\n",
    "\n",
    "#### Calculate annual values by gen\n",
    "\n",
    "# identify whether any individual month GTNs are very large\n",
    "annual_gtn_ratio = monthly_gtn_ratio.groupby(['plant_id_eia','generator_id']).max()['gtn_ratio_gen_month'].reset_index()\n",
    "# only keep values for which the maximum GTN values are unrealistic\n",
    "annual_gtn_ratio = annual_gtn_ratio[(annual_gtn_ratio['gtn_ratio_gen_month'] > 1.1) | (annual_gtn_ratio['gtn_ratio_gen_month'] < 0)]\n",
    "\n",
    "# calculate annual net gen values\n",
    "eia_gen_year_net_gen = eia_gen_month_net_gen.groupby(['plant_id_eia','generator_id']).sum().reset_index()\n",
    "cems_gen_year_gross_gen = cems_gen_month_gross_gen.groupby(['plant_id_eia','generator_id']).sum().reset_index()\n",
    "\n",
    "# merge in the annual gross generation and net generation data\n",
    "annual_gtn_ratio = annual_gtn_ratio.merge(cems_gen_year_gross_gen, how='left', on=['plant_id_eia','generator_id'])\n",
    "annual_gtn_ratio = annual_gtn_ratio.merge(eia_gen_year_net_gen, how='left', on=['plant_id_eia','generator_id'])\n",
    "\n",
    "# calculate the gtn\n",
    "annual_gtn_ratio['gtn_ratio_gen_year'] = annual_gtn_ratio['net_generation_mwh'] / annual_gtn_ratio['gross_generation_mwh']\n",
    "\n",
    "# merge this back into the monthly data\n",
    "monthly_gtn_ratio = monthly_gtn_ratio.merge(annual_gtn_ratio[['plant_id_eia','generator_id','gtn_ratio_gen_year']], how='left', on=['plant_id_eia','generator_id'])\n",
    "\n",
    "# NOTE\n",
    "# In some cases, using the annual gtn value may lead to overestimating monthly generation\n",
    "# it might depend on how the generation is getting allocated\n",
    "\n",
    "monthly_gtn_ratio[monthly_gtn_ratio['plant_id_eia'] == 61242]"
   ]
  }
 ],
 "metadata": {
  "interpreter": {
   "hash": "4103f3cd497821eca917ea303dbe10c590d787eb7d2dc3fd4e15dec0356e7931"
  },
  "kernelspec": {
   "display_name": "Python 3.9.12 ('hourly_egrid')",
   "language": "python",
   "name": "python3"
  },
  "language_info": {
   "codemirror_mode": {
    "name": "ipython",
    "version": 3
   },
   "file_extension": ".py",
   "mimetype": "text/x-python",
   "name": "python",
   "nbconvert_exporter": "python",
   "pygments_lexer": "ipython3",
   "version": "3.9.12"
  },
  "orig_nbformat": 4
 },
 "nbformat": 4,
 "nbformat_minor": 2
}
