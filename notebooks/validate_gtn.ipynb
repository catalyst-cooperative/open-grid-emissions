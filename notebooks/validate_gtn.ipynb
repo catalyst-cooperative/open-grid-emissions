{
 "cells": [
  {
   "cell_type": "code",
   "execution_count": null,
   "metadata": {},
   "outputs": [],
   "source": [
    "# import packages\n",
    "import numpy as np\n",
    "import pandas as pd\n",
    "import argparse\n",
    "import os\n",
    "\n",
    "%reload_ext autoreload\n",
    "%autoreload 2\n",
    "\n",
    "# # Tell python where to look for modules.\n",
    "import sys\n",
    "\n",
    "sys.path.append(\"../../hourly-egrid/\")\n",
    "\n",
    "# import local modules\n",
    "import src.data_cleaning as data_cleaning\n",
    "import src.load_data as load_data\n",
    "import src.impute_hourly_profiles as impute_hourly_profiles\n",
    "import src.eia930 as eia930\n",
    "import src.output_data as output_data\n",
    "\n",
    "from src.column_checks import get_dtypes, apply_dtypes\n",
    "\n",
    "year = 2020"
   ]
  },
  {
   "cell_type": "markdown",
   "metadata": {},
   "source": [
    "# Identify where net generation"
   ]
  },
  {
   "cell_type": "code",
   "execution_count": null,
   "metadata": {},
   "outputs": [],
   "source": [
    "# 6. Convert CEMS Hourly Gross Generation to Hourly Net Generation\n",
    "print(\"6. Converting CEMS gross generation to net generation\")\n",
    "cems, gtn_conversions = data_cleaning.convert_gross_to_net_generation(\n",
    "    cems, eia923_allocated, plant_attributes\n",
    ")"
   ]
  }
 ],
 "metadata": {
  "language_info": {
   "name": "python"
  },
  "orig_nbformat": 4
 },
 "nbformat": 4,
 "nbformat_minor": 2
}
