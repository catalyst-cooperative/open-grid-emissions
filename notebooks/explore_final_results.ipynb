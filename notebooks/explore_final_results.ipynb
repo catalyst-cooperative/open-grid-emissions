{
 "cells": [
  {
   "cell_type": "code",
   "execution_count": null,
   "metadata": {},
   "outputs": [],
   "source": []
  },
  {
   "cell_type": "code",
   "execution_count": null,
   "metadata": {},
   "outputs": [],
   "source": [
    "def graph_hourly_data_by_fuel_category(hourly_data, ba, column_name, fuel_category_name, plot_type):\n",
    "    fuel_color = {'natural_gas':'sienna',\n",
    "              'coal':'black',\n",
    "              'nuclear':'red',\n",
    "              'biomass':'green',\n",
    "              'geothermal':'orange',\n",
    "              'wind':'blue',\n",
    "              'solar':'gold',\n",
    "              'petroleum':'purple',\n",
    "              'hydro':'skyblue',\n",
    "              'other':'lightgrey',\n",
    "              'waste':'pink'}\n",
    "\n",
    "    fuel_order = ['nuclear','geothermal','hydro','other','coal','biomass','petroleum','waste','solar','wind','natural_gas']\n",
    "\n",
    "    data_to_graph = hourly_data[hourly_data['ba_code'] == ba]\n",
    "    #data_to_graph = data_to_graph.groupby(['datetime_utc','fuel_category','data_source']).sum().reset_index()\n",
    "\n",
    "    if plot_type == 'area':\n",
    "        plot = px.area(data_to_graph, \n",
    "                x='datetime_utc', \n",
    "                y=column_name, \n",
    "                color=fuel_category_name, \n",
    "                color_discrete_map=fuel_color, \n",
    "                facet_col='data_source', \n",
    "                template='plotly_white',\n",
    "                title=f'Hourly {column_name} data for {ba} by fuel type',\n",
    "                category_orders={fuel_category_name:fuel_order}).update_traces(line={'width':0})\n",
    "    elif plot_type == 'line':\n",
    "        plot = px.line(data_to_graph, \n",
    "                x='datetime_utc', \n",
    "                y=column_name, \n",
    "                color=fuel_category_name, \n",
    "                color_discrete_map=fuel_color, \n",
    "                facet_col='data_source', \n",
    "                template='plotly_white',\n",
    "                title=f'Hourly {column_name} data for {ba} by fuel type',\n",
    "                category_orders={fuel_category_name:fuel_order}).update_traces(line={'width':0})\n",
    "    \n",
    "    return plot\n",
    "        "
   ]
  },
  {
   "cell_type": "code",
   "execution_count": null,
   "metadata": {},
   "outputs": [],
   "source": [
    "ba = 'CISO'\n",
    "\n",
    "graph_hourly_data_by_fuel_category(hourly_data=combined_data, ba=ba, column_name='net_generation_mwh', fuel_category_name='fuel_category', plot_type='area')"
   ]
  },
  {
   "cell_type": "code",
   "execution_count": null,
   "metadata": {},
   "outputs": [],
   "source": [
    "graph_hourly_data_by_fuel_category(hourly_data=combined_data, ba=ba, column_name='co2_mass_lb', fuel_category_name='fuel_category', plot_type='area')"
   ]
  }
 ],
 "metadata": {
  "language_info": {
   "name": "python"
  },
  "orig_nbformat": 4
 },
 "nbformat": 4,
 "nbformat_minor": 2
}
