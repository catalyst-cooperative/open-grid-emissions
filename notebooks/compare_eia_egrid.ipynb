{
 "cells": [
  {
   "cell_type": "code",
   "execution_count": null,
   "metadata": {},
   "outputs": [],
   "source": [
    "# Tell python where to look for modules. \n",
    "# Depending on how your jupyter handles working directories, this may not be needed.\n",
    "import sys\n",
    "sys.path.append('../../hourly-egrid/')\n",
    "\n",
    "# import the necessary packages\n",
    "%reload_ext autoreload\n",
    "%autoreload 2\n",
    "\n",
    "# import packages\n",
    "import os\n",
    "import requests\n",
    "import tarfile\n",
    "import sqlalchemy as sa\n",
    "from pathlib import Path\n",
    "import pandas as pd\n",
    "import plotly.express as px\n",
    "import numpy as np\n",
    "\n",
    "import src.data_cleaning as data_cleaning\n",
    "import src.load_data as load_data"
   ]
  },
  {
   "cell_type": "code",
   "execution_count": null,
   "metadata": {},
   "outputs": [],
   "source": [
    "# add code to download eia data"
   ]
  },
  {
   "cell_type": "code",
   "execution_count": null,
   "metadata": {},
   "outputs": [],
   "source": [
    "year = 2020"
   ]
  },
  {
   "cell_type": "code",
   "execution_count": null,
   "metadata": {},
   "outputs": [],
   "source": [
    "# load plant level data from egrid\n",
    "egrid_plant = pd.read_excel(f'../data/egrid/egrid{year}_data.xlsx', \n",
    "                            sheet_name=f'PLNT{str(year)[-2:]}', \n",
    "                            header=1, \n",
    "                            usecols=['BACODE','PSTATABB', 'ORISPL', 'PNAME','PLGENATN', 'PLGENATR', 'PLHTIANT','UNCO2','PLCO2AN'])\n",
    "# calculate total net generation\n",
    "egrid_plant['net_generation_mwh'] = egrid_plant['PLGENATN'] + egrid_plant['PLGENATR']\n",
    "egrid_plant = egrid_plant.drop(columns=['PLGENATN', 'PLGENATR'])\n",
    "# rename the columns\n",
    "egrid_plant = egrid_plant.rename(columns={'BACODE':'ba_code',\n",
    "                                          'PSTATABB':'state',\n",
    "                                          'ORISPL':'plant_id_eia',\n",
    "                                          'PNAME':'plant_name',\n",
    "                                          'PLHTIANT':'heat_input_mmbtu',\n",
    "                                          'UNCO2':'co2_mass_tons_unadjusted',\n",
    "                                          'PLCO2AN':'co2_mass_tons'})\n",
    "# reorder the columns                                         \n",
    "egrid_plant = egrid_plant[['ba_code', 'state', 'plant_id_eia', 'plant_name', 'net_generation_mwh', 'heat_input_mmbtu', 'co2_mass_tons', 'co2_mass_tons_unadjusted']]"
   ]
  },
  {
   "cell_type": "code",
   "execution_count": null,
   "metadata": {},
   "outputs": [],
   "source": [
    "egrid_plant"
   ]
  },
  {
   "cell_type": "code",
   "execution_count": null,
   "metadata": {},
   "outputs": [],
   "source": [
    "eia_emissions = pd.read_excel(f'../data/eia/emissions{year}.xlsx', \n",
    "                                sheet_name='CO2', \n",
    "                                header=1, \n",
    "                                skipfooter=2,\n",
    "                                usecols=['Plant Code','Plant Name','State', 'Generation (kWh)','Total Fuel Consumption (MMBtu)', 'Tons of CO2 Emissions','Balancing Authority Code'])\n",
    "\n",
    "eia_emissions = eia_emissions.rename(columns={'Plant Code':'plant_id_eia',\n",
    "                                              'Plant Name':'plant_name',\n",
    "                                              'State':'state', \n",
    "                                              'Generation (kWh)':'net_generation_mwh',\n",
    "                                              'Total Fuel Consumption (MMBtu)':'heat_input_mmbtu', \n",
    "                                              'Tons of CO2 Emissions':'co2_mass_tons_unadjusted',\n",
    "                                              'Balancing Authority Code':'ba_code'})\n",
    "\n",
    "eia_emissions['net_generation_mwh'] = eia_emissions['net_generation_mwh'] / 1000\n",
    "\n",
    "eia_emissions = eia_emissions.groupby(['ba_code','state','plant_id_eia','plant_name'], dropna=False).sum().reset_index()\n",
    "\n",
    "eia_emissions"
   ]
  },
  {
   "cell_type": "code",
   "execution_count": null,
   "metadata": {},
   "outputs": [],
   "source": [
    "plants_not_in_eia = list(set(egrid_plant['plant_id_eia'].unique()) - set(eia_emissions['plant_id_eia'].unique()))\n",
    "plants_not_in_egrid = list(set(eia_emissions['plant_id_eia'].unique()) - set(egrid_plant['plant_id_eia'].unique()))"
   ]
  },
  {
   "cell_type": "code",
   "execution_count": null,
   "metadata": {},
   "outputs": [],
   "source": [
    "egrid_plant[(egrid_plant['plant_id_eia'].isin(plants_not_in_eia)) & (egrid_plant['co2_mass_tons_unadjusted'] > 0)]"
   ]
  },
  {
   "cell_type": "code",
   "execution_count": null,
   "metadata": {},
   "outputs": [],
   "source": [
    "eia_emissions[(eia_emissions['plant_id_eia'].isin(plants_not_in_egrid))]"
   ]
  },
  {
   "cell_type": "code",
   "execution_count": null,
   "metadata": {},
   "outputs": [],
   "source": [
    "percent_diff = eia_emissions[['plant_id_eia','co2_mass_tons_unadjusted']].merge(egrid_plant[['plant_id_eia','co2_mass_tons_unadjusted']], how='outer', on='plant_id_eia', suffixes=('_eia','_egrid')).fillna(0)\n",
    "percent_diff['percent_diff'] = (percent_diff['co2_mass_tons_unadjusted_eia'] - percent_diff['co2_mass_tons_unadjusted_egrid']) / percent_diff['co2_mass_tons_unadjusted_egrid']\n",
    "percent_diff = percent_diff.replace(np.inf,1)\n",
    "percent_diff.loc[percent_diff['percent_diff'] > 1, 'percent_diff'] = 1\n",
    "percent_diff"
   ]
  },
  {
   "cell_type": "code",
   "execution_count": null,
   "metadata": {},
   "outputs": [],
   "source": [
    "px.histogram(percent_diff, x='percent_diff', nbins=40, range_x=[-1,1], width=800, title='Number of plants by percent difference between EIA and eGRID').update_xaxes(dtick=0.1, tick0=0.05).add_vline(x=0)"
   ]
  },
  {
   "cell_type": "code",
   "execution_count": null,
   "metadata": {},
   "outputs": [],
   "source": [
    "eia_emissions.groupby('ba_code').sum()['co2_mass_tons_unadjusted']"
   ]
  },
  {
   "cell_type": "code",
   "execution_count": null,
   "metadata": {},
   "outputs": [],
   "source": [
    "percent_diff_ba = eia_emissions.groupby('ba_code', dropna=False).sum()['co2_mass_tons_unadjusted'].reset_index().merge(egrid_plant.groupby('ba_code', dropna=False).sum()['co2_mass_tons_unadjusted'].reset_index(), how='outer', on='ba_code', suffixes=('_eia','_egrid'))\n",
    "percent_diff_ba = percent_diff_ba.set_index('ba_code')\n",
    "percent_diff_ba = percent_diff_ba.fillna(0)\n",
    "percent_diff_ba['percent_diff'] = (percent_diff_ba['co2_mass_tons_unadjusted_eia'] - percent_diff_ba['co2_mass_tons_unadjusted_egrid']) / percent_diff_ba['co2_mass_tons_unadjusted_egrid']\n",
    "percent_diff_ba = percent_diff_ba.replace(np.inf,1)\n",
    "percent_diff_ba.loc[percent_diff_ba['percent_diff'] > 1, 'percent_diff'] = 1\n",
    "percent_diff_ba"
   ]
  },
  {
   "cell_type": "code",
   "execution_count": null,
   "metadata": {},
   "outputs": [],
   "source": [
    "px.histogram(percent_diff_ba, x='percent_diff', nbins=40, range_x=[-1,1], width=800, title='Number of BAs by percent difference between EIA and eGRID').update_xaxes(dtick=0.1, tick0=0.05).add_vline(x=0)"
   ]
  }
 ],
 "metadata": {
  "interpreter": {
   "hash": "63ead4a831a0927b94476de0b94e8dbe43b96c6f2f397f09f5f56bace396c9f6"
  },
  "kernelspec": {
   "display_name": "Python 3.9.7 ('hourly_egrid')",
   "language": "python",
   "name": "python3"
  },
  "language_info": {
   "codemirror_mode": {
    "name": "ipython",
    "version": 3
   },
   "file_extension": ".py",
   "mimetype": "text/x-python",
   "name": "python",
   "nbconvert_exporter": "python",
   "pygments_lexer": "ipython3",
   "version": "3.9.7"
  },
  "orig_nbformat": 4
 },
 "nbformat": 4,
 "nbformat_minor": 2
}
