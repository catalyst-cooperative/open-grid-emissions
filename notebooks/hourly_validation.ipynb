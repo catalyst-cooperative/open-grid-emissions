{
 "cells": [
  {
   "cell_type": "markdown",
   "metadata": {},
   "source": [
    "# Validate EIA-930 data against net generation outputs"
   ]
  },
  {
   "cell_type": "code",
   "execution_count": null,
   "metadata": {},
   "outputs": [],
   "source": [
    "import pandas as pd\n",
    "import numpy as np\n",
    "import os\n",
    "\n",
    "import plotly.express as px"
   ]
  },
  {
   "cell_type": "code",
   "execution_count": null,
   "metadata": {},
   "outputs": [],
   "source": [
    "year = 2020"
   ]
  },
  {
   "cell_type": "code",
   "execution_count": null,
   "metadata": {},
   "outputs": [],
   "source": [
    "# EIA-930 data after timestamp adjustments but no cleaning\n",
    "raw = pd.read_csv(\"../data/outputs/2020/eia930/eia930_raw.csv\", index_col=0, parse_dates=True)"
   ]
  },
  {
   "cell_type": "code",
   "execution_count": null,
   "metadata": {},
   "outputs": [],
   "source": [
    "GEN_ID = \"EBA.{}-ALL.NG.H\"\n",
    "path = f\"../data/results/{year}/power_sector_data/hourly/us_units/\"\n",
    "cors = {}\n",
    "percent_difs = {}\n",
    "annual_gen = {}\n",
    "for ba_f in os.listdir(path):\n",
    "    ba = ba_f.replace(\".csv\", \"\")\n",
    "    print(ba, end=\"...\")\n",
    "    col_name = GEN_ID.format(ba)\n",
    "    if col_name not in raw.columns: \n",
    "        continue\n",
    "    else:\n",
    "        dat = pd.read_csv(path+ba_f, parse_dates=[\"datetime_utc\"])\n",
    "        dat = dat[dat.fuel_category==\"total\"]\n",
    "        dat = dat.merge(raw[ col_name], left_on=\"datetime_utc\", right_index=True)\n",
    "        c = dat[[\"net_generation_mwh\", col_name]].corr().to_numpy()[0,1]\n",
    "        cors[ba] = c\n",
    "        difs = (dat[col_name]-dat[\"net_generation_mwh\"])/dat[\"net_generation_mwh\"]\n",
    "        difs = difs.replace(np.inf, np.nan)\n",
    "        percent_difs[ba] = difs.median()\n",
    "        annual_gen[ba] = dat[\"net_generation_mwh\"].sum()"
   ]
  },
  {
   "cell_type": "code",
   "execution_count": null,
   "metadata": {},
   "outputs": [],
   "source": [
    "out = pd.DataFrame(data={\"Difference as percent of hourly-egrid\":percent_difs, \"Correlation\":cors, \"Annual BA generation\":annual_gen})\n",
    "out = out.sort_values(\"Annual BA generation\", ascending=False)\n",
    "out.to_csv(f\"../data/results/{year}/validation_metrics/us_units/compare_930_hourlyegrid.csv\")"
   ]
  },
  {
   "cell_type": "markdown",
   "metadata": {},
   "source": [
    "# Visualize BA of interest"
   ]
  },
  {
   "cell_type": "code",
   "execution_count": null,
   "metadata": {},
   "outputs": [],
   "source": [
    "ba = \"ERCO\"\n",
    "col_name = GEN_ID.format(ba)\n",
    "dat = pd.read_csv(path+ba+\".csv\", parse_dates=[\"datetime_utc\"])\n",
    "dat = dat[dat.fuel_category==\"total\"]\n",
    "dat = dat.merge(raw[ col_name], left_on=\"datetime_utc\", right_index=True)\n",
    "\n",
    "px.line(dat, x=\"datetime_utc\", y=[\"net_generation_mwh\", col_name])"
   ]
  },
  {
   "cell_type": "code",
   "execution_count": null,
   "metadata": {},
   "outputs": [],
   "source": []
  }
 ],
 "metadata": {
  "interpreter": {
   "hash": "65c02dfd2dc2ef471c0b5088763a28c1faaa7cad28937ca42fadf51e669fd8e8"
  },
  "kernelspec": {
   "display_name": "Python 3.9.12 ('hourly_egrid')",
   "language": "python",
   "name": "python3"
  },
  "language_info": {
   "codemirror_mode": {
    "name": "ipython",
    "version": 3
   },
   "file_extension": ".py",
   "mimetype": "text/x-python",
   "name": "python",
   "nbconvert_exporter": "python",
   "pygments_lexer": "ipython3",
   "version": "3.9.13"
  },
  "orig_nbformat": 4
 },
 "nbformat": 4,
 "nbformat_minor": 2
}
