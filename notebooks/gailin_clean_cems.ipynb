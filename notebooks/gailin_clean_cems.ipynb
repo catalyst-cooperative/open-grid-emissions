{
 "cells": [
  {
   "cell_type": "markdown",
   "metadata": {},
   "source": [
    "# Clean cems\n",
    "\n",
    "Temporary notebook for cleaning cems using 860 net capacity \n",
    "\n",
    "Notes: \n",
    "* CEMS data is per smokestack/EPA unit: https://catalystcoop-pudl.readthedocs.io/en/latest/data_sources/epacems.html, while 860 capacity is per generator. So need to use crosswalk to sum generators to EPA units before checking against CEMS \n",
    "* Some CEMS spikes will be short enough to interpolate, while some won't. What's the cutoff? And when we don't interpolate, do we want to trash the whole month and use the residual, or just fill in the residual during missing times? "
   ]
  },
  {
   "cell_type": "code",
   "execution_count": 1,
   "metadata": {},
   "outputs": [],
   "source": [
    "import pandas as pd\n",
    "import numpy as np\n",
    "import plotly.express as px"
   ]
  },
  {
   "cell_type": "code",
   "execution_count": 2,
   "metadata": {},
   "outputs": [],
   "source": [
    "%reload_ext autoreload\n",
    "%autoreload 2\n",
    "\n",
    "# # Tell python where to look for modules.\n",
    "import sys\n",
    "\n",
    "sys.path.append(\"../../hourly-egrid/\")\n",
    "\n",
    "# import local modules\n",
    "import src.load_data as load_data"
   ]
  },
  {
   "cell_type": "code",
   "execution_count": 3,
   "metadata": {},
   "outputs": [],
   "source": [
    "year = 2020"
   ]
  },
  {
   "cell_type": "code",
   "execution_count": 4,
   "metadata": {},
   "outputs": [],
   "source": [
    "cems = pd.read_csv(f\"../data/outputs/{year}/cems_{year}.csv\", parse_dates=[\"datetime_utc\"])"
   ]
  },
  {
   "cell_type": "code",
   "execution_count": null,
   "metadata": {},
   "outputs": [],
   "source": [
    "cems[(cems.datetime_utc==\"2020-09-30T17:00:00+00:00\") & (cems.plant_id_eia==3)]"
   ]
  },
  {
   "cell_type": "code",
   "execution_count": null,
   "metadata": {},
   "outputs": [],
   "source": [
    "px.scatter(cems[cems.plant_id_eia==3], x=\"datetime_utc\", y=\"net_generation_mwh\", color=\"unitid\")"
   ]
  },
  {
   "cell_type": "code",
   "execution_count": null,
   "metadata": {},
   "outputs": [],
   "source": [
    "pudl_dat = load_data.initialize_pudl_out(year=year)"
   ]
  },
  {
   "cell_type": "code",
   "execution_count": null,
   "metadata": {},
   "outputs": [],
   "source": [
    "gens_pudl = pudl_dat.gens_eia860()"
   ]
  },
  {
   "cell_type": "code",
   "execution_count": null,
   "metadata": {},
   "outputs": [],
   "source": [
    "# Table is unique by plant ID, generator ID \n",
    "gens = gens_pudl.copy(deep=True)\n",
    "gens[\"net_capacity_mw\"] = gens.winter_capacity_mw.combine(gens.summer_capacity_mw, max)\n",
    "gens = gens.loc[:,[\"plant_id_eia\",\"generator_id\",\"net_capacity_mw\"]]"
   ]
  },
  {
   "cell_type": "code",
   "execution_count": null,
   "metadata": {},
   "outputs": [],
   "source": [
    "# Subplants are defined on \"plant_id_eia\", largest of (\"unitid\", \"generator_id\")\n",
    "subplant_crosswalk = pd.read_csv(f\"../data/outputs/{year}/subplant_crosswalk.csv\")"
   ]
  },
  {
   "cell_type": "code",
   "execution_count": null,
   "metadata": {},
   "outputs": [],
   "source": [
    "gens_unit = gens.merge(subplant_crosswalk, how='left', on=['plant_id_eia','generator_id'])\n",
    "print(f\"Setting {sum(gens_unit.subplant_id.isna())} NaN subplants to 1 in 860 data\")\n",
    "gens_unit.loc[gens_unit.subplant_id.isna()] = 1"
   ]
  },
  {
   "cell_type": "code",
   "execution_count": null,
   "metadata": {},
   "outputs": [],
   "source": [
    "cems_subplant = cems.merge(subplant_crosswalk[[\"plant_id_eia\", \"unitid\"]], how=\"left\", on=[\"plant_id_eia\", \"unitid\"])"
   ]
  },
  {
   "cell_type": "code",
   "execution_count": null,
   "metadata": {},
   "outputs": [],
   "source": [
    "print(f\"Setting {sum(cems_subplant.subplant_id.isna())} NaN subplants to 1 in CEMS data\")\n",
    "cems_subplant.loc[cems_subplant.subplant_id.isna()] = 1"
   ]
  },
  {
   "cell_type": "code",
   "execution_count": null,
   "metadata": {},
   "outputs": [],
   "source": [
    "# Group gens by subplant \n",
    "gens_per_sub = gens_unit.groupby([\"plant_id_eia\", \"subplant_id\"]).sum().reset_index()"
   ]
  },
  {
   "cell_type": "code",
   "execution_count": null,
   "metadata": {},
   "outputs": [],
   "source": [
    "cems_cap = cems_subplant.merge(gens_per_sub[[\"plant_id_eia\", \"subplant_id\", \"net_capacity_mw\"]], how='left', on=[\"plant_id_eia\", \"subplant_id\"])"
   ]
  },
  {
   "cell_type": "code",
   "execution_count": null,
   "metadata": {},
   "outputs": [],
   "source": [
    "# TODO: here we're assuming that all columns are bad if net gen is bad, and that all bad rows have bad net gen. \n",
    "dat_cols = ['gross_generation_mwh', 'steam_load_1000_lb', 'fuel_consumed_mmbtu', 'co2_mass_lb', 'nox_mass_lb', 'so2_mass_lb', 'plant_id_epa', 'co2_mass_measurement_code', 'nox_mass_measurement_code', 'so2_mass_measurement_code', 'report_date', 'energy_source_code', 'ch4_mass_lb', 'n2o_mass_lb', 'fuel_consumed_for_electricity_mmbtu', 'co2_mass_lb_for_electricity', 'ch4_mass_lb_for_electricity', 'n2o_mass_lb_for_electricity', 'nox_mass_lb_for_electricity', 'so2_mass_lb_for_electricity', 'co2_mass_lb_adjusted', 'ch4_mass_lb_adjusted', 'n2o_mass_lb_adjusted', 'nox_mass_lb_adjusted', 'so2_mass_lb_adjusted','net_generation_mwh']\n",
    "bad = cems_cap.net_generation_mwh > cems_cap.net_capacity_mw\n",
    "cems_cap.loc[bad,dat_cols] = np.nan"
   ]
  },
  {
   "cell_type": "code",
   "execution_count": null,
   "metadata": {},
   "outputs": [],
   "source": [
    "cems_cap[bad]"
   ]
  },
  {
   "cell_type": "code",
   "execution_count": null,
   "metadata": {},
   "outputs": [],
   "source": [
    "plant = 3\n",
    "\n",
    "print(gens_unit.loc[gens_unit.plant_id_eia==plant,[\"plant_id_eia\", \"subplant_id\", \"generator_id\",\"net_capacity_mw\"]])\n",
    "\n",
    "px.line(cems_cap[cems_cap.plant_id_eia==plant], x=\"datetime_utc\", y=\"net_generation_mwh\", color=\"subplant_id\")"
   ]
  },
  {
   "cell_type": "code",
   "execution_count": null,
   "metadata": {},
   "outputs": [],
   "source": [
    "cems_subplant[(cems_subplant.plant_id_eia==533) & (cems_subplant.generator_id==\"1\")]"
   ]
  },
  {
   "cell_type": "code",
   "execution_count": null,
   "metadata": {},
   "outputs": [],
   "source": [
    "# Example plant/unit with generation > capacity\n",
    "\n",
    "eg_unit = cems_subplant[(cems_subplant.plant_id_eia==3) & (cems_subplant.generator_id==\"A2C2\")]\n",
    "lims = gens_pudl[(gens_pudl.plant_id_eia==3) & (gens_pudl.generator_id==\"A2C2\")]\n",
    "\n",
    "plt = px.line(eg_unit, x=\"datetime_utc\",y=\"net_generation_mwh\", color=\"generator_id\")\n",
    "plt.add_hline(lims.capacity_mw.values[0])\n",
    "plt.add_hline(lims.winter_capacity_mw.values[0])\n",
    "plt.add_hline(lims.summer_capacity_mw.values[0])\n"
   ]
  },
  {
   "cell_type": "code",
   "execution_count": null,
   "metadata": {},
   "outputs": [],
   "source": [
    "lims.summer_capacity_mw.values"
   ]
  },
  {
   "cell_type": "code",
   "execution_count": null,
   "metadata": {},
   "outputs": [],
   "source": [
    "gens[gens.plant_id_eia==3]"
   ]
  },
  {
   "cell_type": "code",
   "execution_count": null,
   "metadata": {},
   "outputs": [],
   "source": [
    "cems_cap[cems_cap.net_generation_mwh.isna()]"
   ]
  },
  {
   "cell_type": "code",
   "execution_count": null,
   "metadata": {},
   "outputs": [],
   "source": [
    "plant_attributes = pd.read_csv(\"../data/results/2020/plant_data/plant_static_attributes.csv\")"
   ]
  },
  {
   "cell_type": "code",
   "execution_count": null,
   "metadata": {},
   "outputs": [],
   "source": [
    "plants = plant_attributes[(plant_attributes.ba_code==\"SWPP\") & (plant_attributes.data_availability==\"cems_and_eia\")].plant_id_eia\n",
    "\n",
    "swpp_cems = cems[cems.plant_id_eia.isin(plants)]\n",
    "\n",
    "px.line(swpp_cems, x=\"datetime_utc\", y=\"net_generation_mwh\", color=\"plant_id_eia\")"
   ]
  },
  {
   "cell_type": "code",
   "execution_count": null,
   "metadata": {},
   "outputs": [],
   "source": [
    "plant_attributes.data_availability.unique()"
   ]
  },
  {
   "cell_type": "markdown",
   "metadata": {},
   "source": [
    "# What's really the problem here \n",
    "\n",
    "* Looking at plant-level hourly data in SWPP, where do the spikes actually show up? "
   ]
  },
  {
   "cell_type": "code",
   "execution_count": null,
   "metadata": {},
   "outputs": [],
   "source": [
    "synthetic = pd.read_csv(\"../data/results/2020/plant_data/hourly/us_units/synthetic_plant_data.csv\", parse_dates=[\"datetime_utc\"])\n",
    "synthetic = synthetic.merge(plant_attributes, how='left', on='plant_id_eia')"
   ]
  },
  {
   "cell_type": "code",
   "execution_count": null,
   "metadata": {},
   "outputs": [],
   "source": [
    "synthetic"
   ]
  },
  {
   "cell_type": "code",
   "execution_count": null,
   "metadata": {},
   "outputs": [],
   "source": [
    "px.line(synthetic[synthetic.ba_code==\"SWPP\"], x=\"datetime_utc\", y=\"net_generation_mwh\", color=\"plant_id_eia\")"
   ]
  },
  {
   "cell_type": "code",
   "execution_count": null,
   "metadata": {},
   "outputs": [],
   "source": [
    "plant_attributes[plant_attributes.plant_id_eia==918601]"
   ]
  },
  {
   "cell_type": "code",
   "execution_count": null,
   "metadata": {},
   "outputs": [],
   "source": [
    "profiles = pd.read_csv(\"../data/outputs/2020/hourly_profiles_2020.csv\", parse_dates=[\"datetime_utc\"])"
   ]
  },
  {
   "cell_type": "code",
   "execution_count": null,
   "metadata": {},
   "outputs": [],
   "source": [
    "profiles.head()"
   ]
  },
  {
   "cell_type": "code",
   "execution_count": null,
   "metadata": {},
   "outputs": [],
   "source": [
    "profiles[(profiles.ba_code==\"SWPP\") & (profiles.fuel_category==\"biomass\")]"
   ]
  },
  {
   "cell_type": "code",
   "execution_count": null,
   "metadata": {},
   "outputs": [],
   "source": [
    "px.line(profiles[(profiles.ba_code==\"SWPP\") & (profiles.fuel_category==\"biomass\")], x=\"datetime_utc\", y=\"profile\", color=\"profile_method\")"
   ]
  },
  {
   "cell_type": "code",
   "execution_count": null,
   "metadata": {},
   "outputs": [],
   "source": [
    "profiles[(profiles.ba_code==\"SWPP\") & (profiles.fuel_category==\"biomass\")].sum()"
   ]
  },
  {
   "cell_type": "code",
   "execution_count": null,
   "metadata": {},
   "outputs": [],
   "source": [
    "cems = cems.merge(plant_attributes, how='left', on='plant_id_eia')"
   ]
  },
  {
   "cell_type": "code",
   "execution_count": null,
   "metadata": {},
   "outputs": [],
   "source": [
    "px.line(cems[(cems.fuel_category==\"biomass\") & (cems.ba_code==\"SWPP\")], x=\"datetime_utc\", y=[\"gross_generation_mwh\", \"net_generation_mwh\"])"
   ]
  },
  {
   "cell_type": "code",
   "execution_count": null,
   "metadata": {},
   "outputs": [],
   "source": [
    "cems[(cems.fuel_category==\"biomass\") & (cems.ba_code==\"SWPP\")].plant_id_eia.unique()"
   ]
  },
  {
   "cell_type": "markdown",
   "metadata": {},
   "source": [
    "# Median/IQR cleaning \n",
    "\n",
    "### Advantages over capacity cleaning: \n",
    "Works consistantly for all data types, and isn't sensitive to plants occasionally producing over capacity"
   ]
  },
  {
   "cell_type": "code",
   "execution_count": null,
   "metadata": {},
   "outputs": [],
   "source": []
  },
  {
   "cell_type": "code",
   "execution_count": 40,
   "metadata": {},
   "outputs": [],
   "source": [
    "# Get per-plant, per-variable median and IQR \n",
    "numeric_cols = ['gross_generation_mwh', 'steam_load_1000_lb', 'fuel_consumed_mmbtu', 'co2_mass_lb', 'ch4_mass_lb', 'n2o_mass_lb', 'nox_mass_lb', 'so2_mass_lb', 'co2_mass_lb_adjusted', 'ch4_mass_lb_adjusted', 'n2o_mass_lb_adjusted', 'nox_mass_lb_adjusted', 'so2_mass_lb_adjusted', 'net_generation_mwh', 'fuel_consumed_for_electricity_mmbtu', 'co2_mass_lb_for_electricity', 'co2_mass_lb_for_electricity_adjusted', 'ch4_mass_lb_for_electricity', 'ch4_mass_lb_for_electricity_adjusted', 'n2o_mass_lb_for_electricity', 'n2o_mass_lb_for_electricity_adjusted', 'nox_mass_lb_for_electricity', 'nox_mass_lb_for_electricity_adjusted', 'so2_mass_lb_for_electricity', 'so2_mass_lb_for_electricity_adjusted', 'co2e_mass_lb', 'co2e_mass_lb_adjusted', 'co2e_mass_lb_for_electricity', 'co2e_mass_lb_for_electricity_adjusted']\n",
    "iqr = cems.groupby([\"plant_id_eia\", \"subplant_id\"])[numeric_cols].quantile(.75) - cems.groupby([\"plant_id_eia\",\"subplant_id\"])[numeric_cols].quantile(.25)"
   ]
  },
  {
   "cell_type": "code",
   "execution_count": 41,
   "metadata": {},
   "outputs": [],
   "source": [
    "median = cems.groupby([\"plant_id_eia\",\"subplant_id\"]).median()"
   ]
  },
  {
   "cell_type": "code",
   "execution_count": 42,
   "metadata": {},
   "outputs": [],
   "source": [
    "lower_bound = median + (iqr * -3)\n",
    "upper_bound = median + (iqr * 3)"
   ]
  },
  {
   "cell_type": "code",
   "execution_count": 43,
   "metadata": {},
   "outputs": [],
   "source": [
    "cems_filtered = cems.copy()\n",
    "#for plant in cems_filtered.plant_id_eia.unique():\n",
    "    "
   ]
  },
  {
   "cell_type": "code",
   "execution_count": 44,
   "metadata": {},
   "outputs": [],
   "source": [
    "cems_filtered = cems_filtered.set_index([\"plant_id_eia\",\"subplant_id\"])"
   ]
  },
  {
   "cell_type": "code",
   "execution_count": 45,
   "metadata": {},
   "outputs": [
    {
     "name": "stderr",
     "output_type": "stream",
     "text": [
      "/var/folders/mr/3dcnnc3153j6s05bmdwr0r0h0000gq/T/ipykernel_7747/3589450752.py:1: PerformanceWarning: indexing past lexsort depth may impact performance.\n",
      "  cems_filtered.loc[(3,1)]\n"
     ]
    },
    {
     "data": {
      "text/html": [
       "<div>\n",
       "<style scoped>\n",
       "    .dataframe tbody tr th:only-of-type {\n",
       "        vertical-align: middle;\n",
       "    }\n",
       "\n",
       "    .dataframe tbody tr th {\n",
       "        vertical-align: top;\n",
       "    }\n",
       "\n",
       "    .dataframe thead th {\n",
       "        text-align: right;\n",
       "    }\n",
       "</style>\n",
       "<table border=\"1\" class=\"dataframe\">\n",
       "  <thead>\n",
       "    <tr style=\"text-align: right;\">\n",
       "      <th></th>\n",
       "      <th></th>\n",
       "      <th>datetime_utc</th>\n",
       "      <th>report_date</th>\n",
       "      <th>gross_generation_mwh</th>\n",
       "      <th>steam_load_1000_lb</th>\n",
       "      <th>fuel_consumed_mmbtu</th>\n",
       "      <th>co2_mass_lb</th>\n",
       "      <th>ch4_mass_lb</th>\n",
       "      <th>n2o_mass_lb</th>\n",
       "      <th>nox_mass_lb</th>\n",
       "      <th>so2_mass_lb</th>\n",
       "      <th>co2_mass_lb_adjusted</th>\n",
       "      <th>ch4_mass_lb_adjusted</th>\n",
       "      <th>n2o_mass_lb_adjusted</th>\n",
       "      <th>nox_mass_lb_adjusted</th>\n",
       "      <th>so2_mass_lb_adjusted</th>\n",
       "      <th>gtn_method</th>\n",
       "      <th>net_generation_mwh</th>\n",
       "      <th>fuel_consumed_for_electricity_mmbtu</th>\n",
       "      <th>co2_mass_lb_for_electricity</th>\n",
       "      <th>co2_mass_lb_for_electricity_adjusted</th>\n",
       "      <th>ch4_mass_lb_for_electricity</th>\n",
       "      <th>ch4_mass_lb_for_electricity_adjusted</th>\n",
       "      <th>n2o_mass_lb_for_electricity</th>\n",
       "      <th>n2o_mass_lb_for_electricity_adjusted</th>\n",
       "      <th>nox_mass_lb_for_electricity</th>\n",
       "      <th>nox_mass_lb_for_electricity_adjusted</th>\n",
       "      <th>so2_mass_lb_for_electricity</th>\n",
       "      <th>so2_mass_lb_for_electricity_adjusted</th>\n",
       "      <th>co2e_mass_lb</th>\n",
       "      <th>co2e_mass_lb_adjusted</th>\n",
       "      <th>co2e_mass_lb_for_electricity</th>\n",
       "      <th>co2e_mass_lb_for_electricity_adjusted</th>\n",
       "    </tr>\n",
       "    <tr>\n",
       "      <th>plant_id_eia</th>\n",
       "      <th>subplant_id</th>\n",
       "      <th></th>\n",
       "      <th></th>\n",
       "      <th></th>\n",
       "      <th></th>\n",
       "      <th></th>\n",
       "      <th></th>\n",
       "      <th></th>\n",
       "      <th></th>\n",
       "      <th></th>\n",
       "      <th></th>\n",
       "      <th></th>\n",
       "      <th></th>\n",
       "      <th></th>\n",
       "      <th></th>\n",
       "      <th></th>\n",
       "      <th></th>\n",
       "      <th></th>\n",
       "      <th></th>\n",
       "      <th></th>\n",
       "      <th></th>\n",
       "      <th></th>\n",
       "      <th></th>\n",
       "      <th></th>\n",
       "      <th></th>\n",
       "      <th></th>\n",
       "      <th></th>\n",
       "      <th></th>\n",
       "      <th></th>\n",
       "      <th></th>\n",
       "      <th></th>\n",
       "      <th></th>\n",
       "      <th></th>\n",
       "    </tr>\n",
       "  </thead>\n",
       "  <tbody>\n",
       "    <tr>\n",
       "      <th rowspan=\"11\" valign=\"top\">3</th>\n",
       "      <th>1.0</th>\n",
       "      <td>2020-01-01 06:00:00+00:00</td>\n",
       "      <td>2020-01-01</td>\n",
       "      <td>0.0</td>\n",
       "      <td>0.0</td>\n",
       "      <td>0.0</td>\n",
       "      <td>0.0</td>\n",
       "      <td>0.0</td>\n",
       "      <td>0.0</td>\n",
       "      <td>0.0</td>\n",
       "      <td>0.0</td>\n",
       "      <td>0.0</td>\n",
       "      <td>0.0</td>\n",
       "      <td>0.0</td>\n",
       "      <td>0.0</td>\n",
       "      <td>0.0</td>\n",
       "      <td>3_annual_plant_shift_factor</td>\n",
       "      <td>-12.572257</td>\n",
       "      <td>0.0</td>\n",
       "      <td>0.0</td>\n",
       "      <td>0.0</td>\n",
       "      <td>0.0</td>\n",
       "      <td>0.0</td>\n",
       "      <td>0.0</td>\n",
       "      <td>0.0</td>\n",
       "      <td>0.0</td>\n",
       "      <td>0.0</td>\n",
       "      <td>0.0</td>\n",
       "      <td>0.0</td>\n",
       "      <td>0.0</td>\n",
       "      <td>0.0</td>\n",
       "      <td>0.0</td>\n",
       "      <td>0.0</td>\n",
       "    </tr>\n",
       "    <tr>\n",
       "      <th>1.0</th>\n",
       "      <td>2020-01-01 07:00:00+00:00</td>\n",
       "      <td>2020-01-01</td>\n",
       "      <td>0.0</td>\n",
       "      <td>0.0</td>\n",
       "      <td>0.0</td>\n",
       "      <td>0.0</td>\n",
       "      <td>0.0</td>\n",
       "      <td>0.0</td>\n",
       "      <td>0.0</td>\n",
       "      <td>0.0</td>\n",
       "      <td>0.0</td>\n",
       "      <td>0.0</td>\n",
       "      <td>0.0</td>\n",
       "      <td>0.0</td>\n",
       "      <td>0.0</td>\n",
       "      <td>3_annual_plant_shift_factor</td>\n",
       "      <td>-12.572257</td>\n",
       "      <td>0.0</td>\n",
       "      <td>0.0</td>\n",
       "      <td>0.0</td>\n",
       "      <td>0.0</td>\n",
       "      <td>0.0</td>\n",
       "      <td>0.0</td>\n",
       "      <td>0.0</td>\n",
       "      <td>0.0</td>\n",
       "      <td>0.0</td>\n",
       "      <td>0.0</td>\n",
       "      <td>0.0</td>\n",
       "      <td>0.0</td>\n",
       "      <td>0.0</td>\n",
       "      <td>0.0</td>\n",
       "      <td>0.0</td>\n",
       "    </tr>\n",
       "    <tr>\n",
       "      <th>1.0</th>\n",
       "      <td>2020-01-01 08:00:00+00:00</td>\n",
       "      <td>2020-01-01</td>\n",
       "      <td>0.0</td>\n",
       "      <td>0.0</td>\n",
       "      <td>0.0</td>\n",
       "      <td>0.0</td>\n",
       "      <td>0.0</td>\n",
       "      <td>0.0</td>\n",
       "      <td>0.0</td>\n",
       "      <td>0.0</td>\n",
       "      <td>0.0</td>\n",
       "      <td>0.0</td>\n",
       "      <td>0.0</td>\n",
       "      <td>0.0</td>\n",
       "      <td>0.0</td>\n",
       "      <td>3_annual_plant_shift_factor</td>\n",
       "      <td>-12.572257</td>\n",
       "      <td>0.0</td>\n",
       "      <td>0.0</td>\n",
       "      <td>0.0</td>\n",
       "      <td>0.0</td>\n",
       "      <td>0.0</td>\n",
       "      <td>0.0</td>\n",
       "      <td>0.0</td>\n",
       "      <td>0.0</td>\n",
       "      <td>0.0</td>\n",
       "      <td>0.0</td>\n",
       "      <td>0.0</td>\n",
       "      <td>0.0</td>\n",
       "      <td>0.0</td>\n",
       "      <td>0.0</td>\n",
       "      <td>0.0</td>\n",
       "    </tr>\n",
       "    <tr>\n",
       "      <th>1.0</th>\n",
       "      <td>2020-01-01 09:00:00+00:00</td>\n",
       "      <td>2020-01-01</td>\n",
       "      <td>0.0</td>\n",
       "      <td>0.0</td>\n",
       "      <td>0.0</td>\n",
       "      <td>0.0</td>\n",
       "      <td>0.0</td>\n",
       "      <td>0.0</td>\n",
       "      <td>0.0</td>\n",
       "      <td>0.0</td>\n",
       "      <td>0.0</td>\n",
       "      <td>0.0</td>\n",
       "      <td>0.0</td>\n",
       "      <td>0.0</td>\n",
       "      <td>0.0</td>\n",
       "      <td>3_annual_plant_shift_factor</td>\n",
       "      <td>-12.572257</td>\n",
       "      <td>0.0</td>\n",
       "      <td>0.0</td>\n",
       "      <td>0.0</td>\n",
       "      <td>0.0</td>\n",
       "      <td>0.0</td>\n",
       "      <td>0.0</td>\n",
       "      <td>0.0</td>\n",
       "      <td>0.0</td>\n",
       "      <td>0.0</td>\n",
       "      <td>0.0</td>\n",
       "      <td>0.0</td>\n",
       "      <td>0.0</td>\n",
       "      <td>0.0</td>\n",
       "      <td>0.0</td>\n",
       "      <td>0.0</td>\n",
       "    </tr>\n",
       "    <tr>\n",
       "      <th>1.0</th>\n",
       "      <td>2020-01-01 10:00:00+00:00</td>\n",
       "      <td>2020-01-01</td>\n",
       "      <td>0.0</td>\n",
       "      <td>0.0</td>\n",
       "      <td>0.0</td>\n",
       "      <td>0.0</td>\n",
       "      <td>0.0</td>\n",
       "      <td>0.0</td>\n",
       "      <td>0.0</td>\n",
       "      <td>0.0</td>\n",
       "      <td>0.0</td>\n",
       "      <td>0.0</td>\n",
       "      <td>0.0</td>\n",
       "      <td>0.0</td>\n",
       "      <td>0.0</td>\n",
       "      <td>3_annual_plant_shift_factor</td>\n",
       "      <td>-12.572257</td>\n",
       "      <td>0.0</td>\n",
       "      <td>0.0</td>\n",
       "      <td>0.0</td>\n",
       "      <td>0.0</td>\n",
       "      <td>0.0</td>\n",
       "      <td>0.0</td>\n",
       "      <td>0.0</td>\n",
       "      <td>0.0</td>\n",
       "      <td>0.0</td>\n",
       "      <td>0.0</td>\n",
       "      <td>0.0</td>\n",
       "      <td>0.0</td>\n",
       "      <td>0.0</td>\n",
       "      <td>0.0</td>\n",
       "      <td>0.0</td>\n",
       "    </tr>\n",
       "    <tr>\n",
       "      <th>...</th>\n",
       "      <td>...</td>\n",
       "      <td>...</td>\n",
       "      <td>...</td>\n",
       "      <td>...</td>\n",
       "      <td>...</td>\n",
       "      <td>...</td>\n",
       "      <td>...</td>\n",
       "      <td>...</td>\n",
       "      <td>...</td>\n",
       "      <td>...</td>\n",
       "      <td>...</td>\n",
       "      <td>...</td>\n",
       "      <td>...</td>\n",
       "      <td>...</td>\n",
       "      <td>...</td>\n",
       "      <td>...</td>\n",
       "      <td>...</td>\n",
       "      <td>...</td>\n",
       "      <td>...</td>\n",
       "      <td>...</td>\n",
       "      <td>...</td>\n",
       "      <td>...</td>\n",
       "      <td>...</td>\n",
       "      <td>...</td>\n",
       "      <td>...</td>\n",
       "      <td>...</td>\n",
       "      <td>...</td>\n",
       "      <td>...</td>\n",
       "      <td>...</td>\n",
       "      <td>...</td>\n",
       "      <td>...</td>\n",
       "      <td>...</td>\n",
       "    </tr>\n",
       "    <tr>\n",
       "      <th>1.0</th>\n",
       "      <td>2020-02-01 01:00:00+00:00</td>\n",
       "      <td>2020-01-01</td>\n",
       "      <td>0.0</td>\n",
       "      <td>0.0</td>\n",
       "      <td>0.0</td>\n",
       "      <td>0.0</td>\n",
       "      <td>0.0</td>\n",
       "      <td>0.0</td>\n",
       "      <td>0.0</td>\n",
       "      <td>0.0</td>\n",
       "      <td>0.0</td>\n",
       "      <td>0.0</td>\n",
       "      <td>0.0</td>\n",
       "      <td>0.0</td>\n",
       "      <td>0.0</td>\n",
       "      <td>3_annual_plant_shift_factor</td>\n",
       "      <td>-12.572257</td>\n",
       "      <td>0.0</td>\n",
       "      <td>0.0</td>\n",
       "      <td>0.0</td>\n",
       "      <td>0.0</td>\n",
       "      <td>0.0</td>\n",
       "      <td>0.0</td>\n",
       "      <td>0.0</td>\n",
       "      <td>0.0</td>\n",
       "      <td>0.0</td>\n",
       "      <td>0.0</td>\n",
       "      <td>0.0</td>\n",
       "      <td>0.0</td>\n",
       "      <td>0.0</td>\n",
       "      <td>0.0</td>\n",
       "      <td>0.0</td>\n",
       "    </tr>\n",
       "    <tr>\n",
       "      <th>1.0</th>\n",
       "      <td>2020-02-01 02:00:00+00:00</td>\n",
       "      <td>2020-01-01</td>\n",
       "      <td>0.0</td>\n",
       "      <td>0.0</td>\n",
       "      <td>0.0</td>\n",
       "      <td>0.0</td>\n",
       "      <td>0.0</td>\n",
       "      <td>0.0</td>\n",
       "      <td>0.0</td>\n",
       "      <td>0.0</td>\n",
       "      <td>0.0</td>\n",
       "      <td>0.0</td>\n",
       "      <td>0.0</td>\n",
       "      <td>0.0</td>\n",
       "      <td>0.0</td>\n",
       "      <td>3_annual_plant_shift_factor</td>\n",
       "      <td>-12.572257</td>\n",
       "      <td>0.0</td>\n",
       "      <td>0.0</td>\n",
       "      <td>0.0</td>\n",
       "      <td>0.0</td>\n",
       "      <td>0.0</td>\n",
       "      <td>0.0</td>\n",
       "      <td>0.0</td>\n",
       "      <td>0.0</td>\n",
       "      <td>0.0</td>\n",
       "      <td>0.0</td>\n",
       "      <td>0.0</td>\n",
       "      <td>0.0</td>\n",
       "      <td>0.0</td>\n",
       "      <td>0.0</td>\n",
       "      <td>0.0</td>\n",
       "    </tr>\n",
       "    <tr>\n",
       "      <th>1.0</th>\n",
       "      <td>2020-02-01 03:00:00+00:00</td>\n",
       "      <td>2020-01-01</td>\n",
       "      <td>0.0</td>\n",
       "      <td>0.0</td>\n",
       "      <td>0.0</td>\n",
       "      <td>0.0</td>\n",
       "      <td>0.0</td>\n",
       "      <td>0.0</td>\n",
       "      <td>0.0</td>\n",
       "      <td>0.0</td>\n",
       "      <td>0.0</td>\n",
       "      <td>0.0</td>\n",
       "      <td>0.0</td>\n",
       "      <td>0.0</td>\n",
       "      <td>0.0</td>\n",
       "      <td>3_annual_plant_shift_factor</td>\n",
       "      <td>-12.572257</td>\n",
       "      <td>0.0</td>\n",
       "      <td>0.0</td>\n",
       "      <td>0.0</td>\n",
       "      <td>0.0</td>\n",
       "      <td>0.0</td>\n",
       "      <td>0.0</td>\n",
       "      <td>0.0</td>\n",
       "      <td>0.0</td>\n",
       "      <td>0.0</td>\n",
       "      <td>0.0</td>\n",
       "      <td>0.0</td>\n",
       "      <td>0.0</td>\n",
       "      <td>0.0</td>\n",
       "      <td>0.0</td>\n",
       "      <td>0.0</td>\n",
       "    </tr>\n",
       "    <tr>\n",
       "      <th>1.0</th>\n",
       "      <td>2020-02-01 04:00:00+00:00</td>\n",
       "      <td>2020-01-01</td>\n",
       "      <td>0.0</td>\n",
       "      <td>0.0</td>\n",
       "      <td>0.0</td>\n",
       "      <td>0.0</td>\n",
       "      <td>0.0</td>\n",
       "      <td>0.0</td>\n",
       "      <td>0.0</td>\n",
       "      <td>0.0</td>\n",
       "      <td>0.0</td>\n",
       "      <td>0.0</td>\n",
       "      <td>0.0</td>\n",
       "      <td>0.0</td>\n",
       "      <td>0.0</td>\n",
       "      <td>3_annual_plant_shift_factor</td>\n",
       "      <td>-12.572257</td>\n",
       "      <td>0.0</td>\n",
       "      <td>0.0</td>\n",
       "      <td>0.0</td>\n",
       "      <td>0.0</td>\n",
       "      <td>0.0</td>\n",
       "      <td>0.0</td>\n",
       "      <td>0.0</td>\n",
       "      <td>0.0</td>\n",
       "      <td>0.0</td>\n",
       "      <td>0.0</td>\n",
       "      <td>0.0</td>\n",
       "      <td>0.0</td>\n",
       "      <td>0.0</td>\n",
       "      <td>0.0</td>\n",
       "      <td>0.0</td>\n",
       "    </tr>\n",
       "    <tr>\n",
       "      <th>1.0</th>\n",
       "      <td>2020-02-01 05:00:00+00:00</td>\n",
       "      <td>2020-01-01</td>\n",
       "      <td>0.0</td>\n",
       "      <td>0.0</td>\n",
       "      <td>0.0</td>\n",
       "      <td>0.0</td>\n",
       "      <td>0.0</td>\n",
       "      <td>0.0</td>\n",
       "      <td>0.0</td>\n",
       "      <td>0.0</td>\n",
       "      <td>0.0</td>\n",
       "      <td>0.0</td>\n",
       "      <td>0.0</td>\n",
       "      <td>0.0</td>\n",
       "      <td>0.0</td>\n",
       "      <td>3_annual_plant_shift_factor</td>\n",
       "      <td>-12.572257</td>\n",
       "      <td>0.0</td>\n",
       "      <td>0.0</td>\n",
       "      <td>0.0</td>\n",
       "      <td>0.0</td>\n",
       "      <td>0.0</td>\n",
       "      <td>0.0</td>\n",
       "      <td>0.0</td>\n",
       "      <td>0.0</td>\n",
       "      <td>0.0</td>\n",
       "      <td>0.0</td>\n",
       "      <td>0.0</td>\n",
       "      <td>0.0</td>\n",
       "      <td>0.0</td>\n",
       "      <td>0.0</td>\n",
       "      <td>0.0</td>\n",
       "    </tr>\n",
       "  </tbody>\n",
       "</table>\n",
       "<p>744 rows × 32 columns</p>\n",
       "</div>"
      ],
      "text/plain": [
       "                                      datetime_utc report_date  gross_generation_mwh  steam_load_1000_lb  fuel_consumed_mmbtu  co2_mass_lb  ch4_mass_lb  n2o_mass_lb  nox_mass_lb  so2_mass_lb  co2_mass_lb_adjusted  ch4_mass_lb_adjusted  n2o_mass_lb_adjusted  nox_mass_lb_adjusted  so2_mass_lb_adjusted                   gtn_method  net_generation_mwh  fuel_consumed_for_electricity_mmbtu  co2_mass_lb_for_electricity  co2_mass_lb_for_electricity_adjusted  ch4_mass_lb_for_electricity  ch4_mass_lb_for_electricity_adjusted  n2o_mass_lb_for_electricity  n2o_mass_lb_for_electricity_adjusted  nox_mass_lb_for_electricity  nox_mass_lb_for_electricity_adjusted  so2_mass_lb_for_electricity  so2_mass_lb_for_electricity_adjusted  co2e_mass_lb  co2e_mass_lb_adjusted  co2e_mass_lb_for_electricity  co2e_mass_lb_for_electricity_adjusted\n",
       "plant_id_eia subplant_id                                                                                                                                                                                                                                                                                                                                                                                                                                                                                                                                                                                                                                                                                                                                                                                                                                   \n",
       "3            1.0         2020-01-01 06:00:00+00:00  2020-01-01                   0.0                 0.0                  0.0          0.0          0.0          0.0          0.0          0.0                   0.0                   0.0                   0.0                   0.0                   0.0  3_annual_plant_shift_factor          -12.572257                                  0.0                          0.0                                   0.0                          0.0                                   0.0                          0.0                                   0.0                          0.0                                   0.0                          0.0                                   0.0           0.0                    0.0                           0.0                                    0.0\n",
       "             1.0         2020-01-01 07:00:00+00:00  2020-01-01                   0.0                 0.0                  0.0          0.0          0.0          0.0          0.0          0.0                   0.0                   0.0                   0.0                   0.0                   0.0  3_annual_plant_shift_factor          -12.572257                                  0.0                          0.0                                   0.0                          0.0                                   0.0                          0.0                                   0.0                          0.0                                   0.0                          0.0                                   0.0           0.0                    0.0                           0.0                                    0.0\n",
       "             1.0         2020-01-01 08:00:00+00:00  2020-01-01                   0.0                 0.0                  0.0          0.0          0.0          0.0          0.0          0.0                   0.0                   0.0                   0.0                   0.0                   0.0  3_annual_plant_shift_factor          -12.572257                                  0.0                          0.0                                   0.0                          0.0                                   0.0                          0.0                                   0.0                          0.0                                   0.0                          0.0                                   0.0           0.0                    0.0                           0.0                                    0.0\n",
       "             1.0         2020-01-01 09:00:00+00:00  2020-01-01                   0.0                 0.0                  0.0          0.0          0.0          0.0          0.0          0.0                   0.0                   0.0                   0.0                   0.0                   0.0  3_annual_plant_shift_factor          -12.572257                                  0.0                          0.0                                   0.0                          0.0                                   0.0                          0.0                                   0.0                          0.0                                   0.0                          0.0                                   0.0           0.0                    0.0                           0.0                                    0.0\n",
       "             1.0         2020-01-01 10:00:00+00:00  2020-01-01                   0.0                 0.0                  0.0          0.0          0.0          0.0          0.0          0.0                   0.0                   0.0                   0.0                   0.0                   0.0  3_annual_plant_shift_factor          -12.572257                                  0.0                          0.0                                   0.0                          0.0                                   0.0                          0.0                                   0.0                          0.0                                   0.0                          0.0                                   0.0           0.0                    0.0                           0.0                                    0.0\n",
       "...                                            ...         ...                   ...                 ...                  ...          ...          ...          ...          ...          ...                   ...                   ...                   ...                   ...                   ...                          ...                 ...                                  ...                          ...                                   ...                          ...                                   ...                          ...                                   ...                          ...                                   ...                          ...                                   ...           ...                    ...                           ...                                    ...\n",
       "             1.0         2020-02-01 01:00:00+00:00  2020-01-01                   0.0                 0.0                  0.0          0.0          0.0          0.0          0.0          0.0                   0.0                   0.0                   0.0                   0.0                   0.0  3_annual_plant_shift_factor          -12.572257                                  0.0                          0.0                                   0.0                          0.0                                   0.0                          0.0                                   0.0                          0.0                                   0.0                          0.0                                   0.0           0.0                    0.0                           0.0                                    0.0\n",
       "             1.0         2020-02-01 02:00:00+00:00  2020-01-01                   0.0                 0.0                  0.0          0.0          0.0          0.0          0.0          0.0                   0.0                   0.0                   0.0                   0.0                   0.0  3_annual_plant_shift_factor          -12.572257                                  0.0                          0.0                                   0.0                          0.0                                   0.0                          0.0                                   0.0                          0.0                                   0.0                          0.0                                   0.0           0.0                    0.0                           0.0                                    0.0\n",
       "             1.0         2020-02-01 03:00:00+00:00  2020-01-01                   0.0                 0.0                  0.0          0.0          0.0          0.0          0.0          0.0                   0.0                   0.0                   0.0                   0.0                   0.0  3_annual_plant_shift_factor          -12.572257                                  0.0                          0.0                                   0.0                          0.0                                   0.0                          0.0                                   0.0                          0.0                                   0.0                          0.0                                   0.0           0.0                    0.0                           0.0                                    0.0\n",
       "             1.0         2020-02-01 04:00:00+00:00  2020-01-01                   0.0                 0.0                  0.0          0.0          0.0          0.0          0.0          0.0                   0.0                   0.0                   0.0                   0.0                   0.0  3_annual_plant_shift_factor          -12.572257                                  0.0                          0.0                                   0.0                          0.0                                   0.0                          0.0                                   0.0                          0.0                                   0.0                          0.0                                   0.0           0.0                    0.0                           0.0                                    0.0\n",
       "             1.0         2020-02-01 05:00:00+00:00  2020-01-01                   0.0                 0.0                  0.0          0.0          0.0          0.0          0.0          0.0                   0.0                   0.0                   0.0                   0.0                   0.0  3_annual_plant_shift_factor          -12.572257                                  0.0                          0.0                                   0.0                          0.0                                   0.0                          0.0                                   0.0                          0.0                                   0.0                          0.0                                   0.0           0.0                    0.0                           0.0                                    0.0\n",
       "\n",
       "[744 rows x 32 columns]"
      ]
     },
     "execution_count": 45,
     "metadata": {},
     "output_type": "execute_result"
    }
   ],
   "source": [
    "cems_filtered.loc[(3,1)]"
   ]
  },
  {
   "cell_type": "code",
   "execution_count": 47,
   "metadata": {},
   "outputs": [
    {
     "name": "stderr",
     "output_type": "stream",
     "text": [
      "/var/folders/mr/3dcnnc3153j6s05bmdwr0r0h0000gq/T/ipykernel_7747/2356260591.py:1: PerformanceWarning: indexing past lexsort depth may impact performance.\n",
      "  checked = (cems_filtered.loc[(3,1), lower_bound.columns] < lower_bound.loc[(3,1)]) | (cems_filtered.loc[(3,1), lower_bound.columns] > upper_bound.loc[(3, 1)])\n"
     ]
    }
   ],
   "source": [
    "checked = (cems_filtered.loc[(3,1), lower_bound.columns] < lower_bound.loc[(3,1)]) | (cems_filtered.loc[(3,1), lower_bound.columns] > upper_bound.loc[(3, 1)])"
   ]
  },
  {
   "cell_type": "code",
   "execution_count": 49,
   "metadata": {},
   "outputs": [
    {
     "data": {
      "text/plain": [
       "gross_generation_mwh                      77\n",
       "steam_load_1000_lb                         0\n",
       "fuel_consumed_mmbtu                      118\n",
       "co2_mass_lb                              118\n",
       "ch4_mass_lb                              118\n",
       "n2o_mass_lb                              118\n",
       "nox_mass_lb                              118\n",
       "so2_mass_lb                              117\n",
       "co2_mass_lb_adjusted                     118\n",
       "ch4_mass_lb_adjusted                     118\n",
       "n2o_mass_lb_adjusted                     118\n",
       "nox_mass_lb_adjusted                     118\n",
       "so2_mass_lb_adjusted                     117\n",
       "net_generation_mwh                        77\n",
       "fuel_consumed_for_electricity_mmbtu      118\n",
       "co2_mass_lb_for_electricity              118\n",
       "co2_mass_lb_for_electricity_adjusted     118\n",
       "ch4_mass_lb_for_electricity              118\n",
       "ch4_mass_lb_for_electricity_adjusted     118\n",
       "n2o_mass_lb_for_electricity              118\n",
       "n2o_mass_lb_for_electricity_adjusted     118\n",
       "nox_mass_lb_for_electricity              118\n",
       "nox_mass_lb_for_electricity_adjusted     118\n",
       "so2_mass_lb_for_electricity              117\n",
       "so2_mass_lb_for_electricity_adjusted     117\n",
       "co2e_mass_lb                             118\n",
       "co2e_mass_lb_adjusted                    118\n",
       "co2e_mass_lb_for_electricity             118\n",
       "co2e_mass_lb_for_electricity_adjusted    118\n",
       "dtype: int64"
      ]
     },
     "execution_count": 49,
     "metadata": {},
     "output_type": "execute_result"
    }
   ],
   "source": [
    "checked.sum()"
   ]
  },
  {
   "cell_type": "code",
   "execution_count": 52,
   "metadata": {},
   "outputs": [
    {
     "name": "stderr",
     "output_type": "stream",
     "text": [
      "/var/folders/mr/3dcnnc3153j6s05bmdwr0r0h0000gq/T/ipykernel_7747/2682650370.py:1: PerformanceWarning:\n",
      "\n",
      "indexing past lexsort depth may impact performance.\n",
      "\n"
     ]
    },
    {
     "data": {
      "application/vnd.plotly.v1+json": {
       "config": {
        "plotlyServerURL": "https://plot.ly"
       },
       "data": [
        {
         "hovertemplate": "color=False<br>datetime_utc=%{x}<br>fuel_consumed_mmbtu=%{y}<extra></extra>",
         "legendgroup": "False",
         "marker": {
          "color": "#636efa",
          "symbol": "circle"
         },
         "mode": "markers",
         "name": "False",
         "orientation": "v",
         "showlegend": true,
         "type": "scatter",
         "x": [
          "2020-01-01T06:00:00+00:00",
          "2020-01-01T07:00:00+00:00",
          "2020-01-01T08:00:00+00:00",
          "2020-01-01T09:00:00+00:00",
          "2020-01-01T10:00:00+00:00",
          "2020-01-01T11:00:00+00:00",
          "2020-01-01T12:00:00+00:00",
          "2020-01-01T13:00:00+00:00",
          "2020-01-01T14:00:00+00:00",
          "2020-01-01T15:00:00+00:00",
          "2020-01-01T16:00:00+00:00",
          "2020-01-01T17:00:00+00:00",
          "2020-01-01T18:00:00+00:00",
          "2020-01-01T19:00:00+00:00",
          "2020-01-01T20:00:00+00:00",
          "2020-01-01T21:00:00+00:00",
          "2020-01-01T22:00:00+00:00",
          "2020-01-01T23:00:00+00:00",
          "2020-01-02T00:00:00+00:00",
          "2020-01-02T01:00:00+00:00",
          "2020-01-02T02:00:00+00:00",
          "2020-01-02T03:00:00+00:00",
          "2020-01-02T04:00:00+00:00",
          "2020-01-02T05:00:00+00:00",
          "2020-01-02T06:00:00+00:00",
          "2020-01-02T07:00:00+00:00",
          "2020-01-02T08:00:00+00:00",
          "2020-01-02T09:00:00+00:00",
          "2020-01-02T10:00:00+00:00",
          "2020-01-02T11:00:00+00:00",
          "2020-01-02T12:00:00+00:00",
          "2020-01-02T13:00:00+00:00",
          "2020-01-02T14:00:00+00:00",
          "2020-01-02T15:00:00+00:00",
          "2020-01-02T16:00:00+00:00",
          "2020-01-02T17:00:00+00:00",
          "2020-01-02T18:00:00+00:00",
          "2020-01-02T19:00:00+00:00",
          "2020-01-02T20:00:00+00:00",
          "2020-01-02T21:00:00+00:00",
          "2020-01-02T22:00:00+00:00",
          "2020-01-02T23:00:00+00:00",
          "2020-01-03T00:00:00+00:00",
          "2020-01-03T01:00:00+00:00",
          "2020-01-03T02:00:00+00:00",
          "2020-01-03T03:00:00+00:00",
          "2020-01-03T04:00:00+00:00",
          "2020-01-03T05:00:00+00:00",
          "2020-01-03T06:00:00+00:00",
          "2020-01-03T07:00:00+00:00",
          "2020-01-03T08:00:00+00:00",
          "2020-01-03T09:00:00+00:00",
          "2020-01-03T10:00:00+00:00",
          "2020-01-03T11:00:00+00:00",
          "2020-01-03T12:00:00+00:00",
          "2020-01-03T13:00:00+00:00",
          "2020-01-03T14:00:00+00:00",
          "2020-01-03T15:00:00+00:00",
          "2020-01-03T16:00:00+00:00",
          "2020-01-03T17:00:00+00:00",
          "2020-01-03T23:00:00+00:00",
          "2020-01-04T00:00:00+00:00",
          "2020-01-04T01:00:00+00:00",
          "2020-01-04T02:00:00+00:00",
          "2020-01-04T03:00:00+00:00",
          "2020-01-04T04:00:00+00:00",
          "2020-01-04T05:00:00+00:00",
          "2020-01-04T06:00:00+00:00",
          "2020-01-04T07:00:00+00:00",
          "2020-01-04T08:00:00+00:00",
          "2020-01-04T09:00:00+00:00",
          "2020-01-04T10:00:00+00:00",
          "2020-01-04T11:00:00+00:00",
          "2020-01-04T12:00:00+00:00",
          "2020-01-04T13:00:00+00:00",
          "2020-01-04T14:00:00+00:00",
          "2020-01-04T15:00:00+00:00",
          "2020-01-04T16:00:00+00:00",
          "2020-01-04T17:00:00+00:00",
          "2020-01-04T18:00:00+00:00",
          "2020-01-04T19:00:00+00:00",
          "2020-01-04T20:00:00+00:00",
          "2020-01-04T21:00:00+00:00",
          "2020-01-04T22:00:00+00:00",
          "2020-01-04T23:00:00+00:00",
          "2020-01-05T00:00:00+00:00",
          "2020-01-05T01:00:00+00:00",
          "2020-01-05T02:00:00+00:00",
          "2020-01-05T03:00:00+00:00",
          "2020-01-05T04:00:00+00:00",
          "2020-01-05T05:00:00+00:00",
          "2020-01-05T06:00:00+00:00",
          "2020-01-05T07:00:00+00:00",
          "2020-01-05T08:00:00+00:00",
          "2020-01-05T09:00:00+00:00",
          "2020-01-05T10:00:00+00:00",
          "2020-01-05T11:00:00+00:00",
          "2020-01-05T12:00:00+00:00",
          "2020-01-05T13:00:00+00:00",
          "2020-01-05T14:00:00+00:00",
          "2020-01-05T15:00:00+00:00",
          "2020-01-05T16:00:00+00:00",
          "2020-01-05T17:00:00+00:00",
          "2020-01-05T18:00:00+00:00",
          "2020-01-05T19:00:00+00:00",
          "2020-01-05T20:00:00+00:00",
          "2020-01-05T21:00:00+00:00",
          "2020-01-05T22:00:00+00:00",
          "2020-01-05T23:00:00+00:00",
          "2020-01-06T00:00:00+00:00",
          "2020-01-06T01:00:00+00:00",
          "2020-01-06T02:00:00+00:00",
          "2020-01-06T03:00:00+00:00",
          "2020-01-06T04:00:00+00:00",
          "2020-01-06T05:00:00+00:00",
          "2020-01-06T06:00:00+00:00",
          "2020-01-06T07:00:00+00:00",
          "2020-01-06T08:00:00+00:00",
          "2020-01-06T09:00:00+00:00",
          "2020-01-06T10:00:00+00:00",
          "2020-01-06T11:00:00+00:00",
          "2020-01-06T12:00:00+00:00",
          "2020-01-06T13:00:00+00:00",
          "2020-01-06T14:00:00+00:00",
          "2020-01-06T15:00:00+00:00",
          "2020-01-06T16:00:00+00:00",
          "2020-01-06T17:00:00+00:00",
          "2020-01-06T18:00:00+00:00",
          "2020-01-06T19:00:00+00:00",
          "2020-01-06T20:00:00+00:00",
          "2020-01-06T21:00:00+00:00",
          "2020-01-06T22:00:00+00:00",
          "2020-01-06T23:00:00+00:00",
          "2020-01-07T00:00:00+00:00",
          "2020-01-07T01:00:00+00:00",
          "2020-01-07T02:00:00+00:00",
          "2020-01-07T03:00:00+00:00",
          "2020-01-07T04:00:00+00:00",
          "2020-01-07T05:00:00+00:00",
          "2020-01-07T06:00:00+00:00",
          "2020-01-07T07:00:00+00:00",
          "2020-01-07T08:00:00+00:00",
          "2020-01-07T09:00:00+00:00",
          "2020-01-07T10:00:00+00:00",
          "2020-01-07T11:00:00+00:00",
          "2020-01-07T12:00:00+00:00",
          "2020-01-07T13:00:00+00:00",
          "2020-01-07T14:00:00+00:00",
          "2020-01-07T15:00:00+00:00",
          "2020-01-07T16:00:00+00:00",
          "2020-01-07T17:00:00+00:00",
          "2020-01-07T18:00:00+00:00",
          "2020-01-07T19:00:00+00:00",
          "2020-01-07T20:00:00+00:00",
          "2020-01-07T21:00:00+00:00",
          "2020-01-07T22:00:00+00:00",
          "2020-01-07T23:00:00+00:00",
          "2020-01-08T00:00:00+00:00",
          "2020-01-08T01:00:00+00:00",
          "2020-01-08T02:00:00+00:00",
          "2020-01-08T03:00:00+00:00",
          "2020-01-08T04:00:00+00:00",
          "2020-01-08T05:00:00+00:00",
          "2020-01-08T06:00:00+00:00",
          "2020-01-08T07:00:00+00:00",
          "2020-01-08T08:00:00+00:00",
          "2020-01-08T09:00:00+00:00",
          "2020-01-08T10:00:00+00:00",
          "2020-01-08T11:00:00+00:00",
          "2020-01-08T12:00:00+00:00",
          "2020-01-08T13:00:00+00:00",
          "2020-01-08T14:00:00+00:00",
          "2020-01-08T15:00:00+00:00",
          "2020-01-08T16:00:00+00:00",
          "2020-01-08T17:00:00+00:00",
          "2020-01-08T18:00:00+00:00",
          "2020-01-08T19:00:00+00:00",
          "2020-01-08T20:00:00+00:00",
          "2020-01-08T21:00:00+00:00",
          "2020-01-08T22:00:00+00:00",
          "2020-01-08T23:00:00+00:00",
          "2020-01-09T00:00:00+00:00",
          "2020-01-09T01:00:00+00:00",
          "2020-01-09T02:00:00+00:00",
          "2020-01-09T03:00:00+00:00",
          "2020-01-09T04:00:00+00:00",
          "2020-01-09T05:00:00+00:00",
          "2020-01-09T06:00:00+00:00",
          "2020-01-09T07:00:00+00:00",
          "2020-01-09T08:00:00+00:00",
          "2020-01-09T09:00:00+00:00",
          "2020-01-09T10:00:00+00:00",
          "2020-01-09T11:00:00+00:00",
          "2020-01-09T12:00:00+00:00",
          "2020-01-09T13:00:00+00:00",
          "2020-01-09T14:00:00+00:00",
          "2020-01-09T15:00:00+00:00",
          "2020-01-09T16:00:00+00:00",
          "2020-01-09T17:00:00+00:00",
          "2020-01-09T18:00:00+00:00",
          "2020-01-09T19:00:00+00:00",
          "2020-01-09T20:00:00+00:00",
          "2020-01-09T21:00:00+00:00",
          "2020-01-09T22:00:00+00:00",
          "2020-01-09T23:00:00+00:00",
          "2020-01-10T00:00:00+00:00",
          "2020-01-10T01:00:00+00:00",
          "2020-01-10T02:00:00+00:00",
          "2020-01-10T03:00:00+00:00",
          "2020-01-10T04:00:00+00:00",
          "2020-01-10T05:00:00+00:00",
          "2020-01-10T06:00:00+00:00",
          "2020-01-10T07:00:00+00:00",
          "2020-01-10T08:00:00+00:00",
          "2020-01-10T09:00:00+00:00",
          "2020-01-10T10:00:00+00:00",
          "2020-01-10T11:00:00+00:00",
          "2020-01-10T12:00:00+00:00",
          "2020-01-10T13:00:00+00:00",
          "2020-01-10T14:00:00+00:00",
          "2020-01-10T15:00:00+00:00",
          "2020-01-10T16:00:00+00:00",
          "2020-01-10T17:00:00+00:00",
          "2020-01-10T18:00:00+00:00",
          "2020-01-10T19:00:00+00:00",
          "2020-01-10T20:00:00+00:00",
          "2020-01-10T21:00:00+00:00",
          "2020-01-10T22:00:00+00:00",
          "2020-01-10T23:00:00+00:00",
          "2020-01-11T00:00:00+00:00",
          "2020-01-11T01:00:00+00:00",
          "2020-01-11T02:00:00+00:00",
          "2020-01-11T03:00:00+00:00",
          "2020-01-11T04:00:00+00:00",
          "2020-01-11T05:00:00+00:00",
          "2020-01-11T06:00:00+00:00",
          "2020-01-11T07:00:00+00:00",
          "2020-01-11T08:00:00+00:00",
          "2020-01-11T09:00:00+00:00",
          "2020-01-11T10:00:00+00:00",
          "2020-01-11T11:00:00+00:00",
          "2020-01-11T12:00:00+00:00",
          "2020-01-11T13:00:00+00:00",
          "2020-01-11T14:00:00+00:00",
          "2020-01-11T15:00:00+00:00",
          "2020-01-11T16:00:00+00:00",
          "2020-01-11T17:00:00+00:00",
          "2020-01-11T18:00:00+00:00",
          "2020-01-11T19:00:00+00:00",
          "2020-01-11T20:00:00+00:00",
          "2020-01-11T21:00:00+00:00",
          "2020-01-11T22:00:00+00:00",
          "2020-01-11T23:00:00+00:00",
          "2020-01-12T00:00:00+00:00",
          "2020-01-12T01:00:00+00:00",
          "2020-01-12T02:00:00+00:00",
          "2020-01-12T03:00:00+00:00",
          "2020-01-12T04:00:00+00:00",
          "2020-01-12T05:00:00+00:00",
          "2020-01-12T06:00:00+00:00",
          "2020-01-12T07:00:00+00:00",
          "2020-01-12T08:00:00+00:00",
          "2020-01-12T09:00:00+00:00",
          "2020-01-12T10:00:00+00:00",
          "2020-01-12T11:00:00+00:00",
          "2020-01-12T12:00:00+00:00",
          "2020-01-12T13:00:00+00:00",
          "2020-01-12T14:00:00+00:00",
          "2020-01-12T15:00:00+00:00",
          "2020-01-12T16:00:00+00:00",
          "2020-01-12T17:00:00+00:00",
          "2020-01-12T18:00:00+00:00",
          "2020-01-12T19:00:00+00:00",
          "2020-01-12T20:00:00+00:00",
          "2020-01-12T21:00:00+00:00",
          "2020-01-12T22:00:00+00:00",
          "2020-01-12T23:00:00+00:00",
          "2020-01-13T00:00:00+00:00",
          "2020-01-13T01:00:00+00:00",
          "2020-01-13T02:00:00+00:00",
          "2020-01-13T03:00:00+00:00",
          "2020-01-13T04:00:00+00:00",
          "2020-01-13T05:00:00+00:00",
          "2020-01-13T06:00:00+00:00",
          "2020-01-13T07:00:00+00:00",
          "2020-01-13T08:00:00+00:00",
          "2020-01-13T09:00:00+00:00",
          "2020-01-13T10:00:00+00:00",
          "2020-01-13T11:00:00+00:00",
          "2020-01-13T12:00:00+00:00",
          "2020-01-13T13:00:00+00:00",
          "2020-01-13T14:00:00+00:00",
          "2020-01-13T15:00:00+00:00",
          "2020-01-13T16:00:00+00:00",
          "2020-01-13T17:00:00+00:00",
          "2020-01-13T18:00:00+00:00",
          "2020-01-13T19:00:00+00:00",
          "2020-01-13T20:00:00+00:00",
          "2020-01-13T21:00:00+00:00",
          "2020-01-13T22:00:00+00:00",
          "2020-01-13T23:00:00+00:00",
          "2020-01-14T00:00:00+00:00",
          "2020-01-14T01:00:00+00:00",
          "2020-01-14T02:00:00+00:00",
          "2020-01-14T03:00:00+00:00",
          "2020-01-14T04:00:00+00:00",
          "2020-01-14T05:00:00+00:00",
          "2020-01-14T06:00:00+00:00",
          "2020-01-14T07:00:00+00:00",
          "2020-01-14T08:00:00+00:00",
          "2020-01-14T09:00:00+00:00",
          "2020-01-14T10:00:00+00:00",
          "2020-01-14T11:00:00+00:00",
          "2020-01-14T12:00:00+00:00",
          "2020-01-14T13:00:00+00:00",
          "2020-01-14T14:00:00+00:00",
          "2020-01-14T15:00:00+00:00",
          "2020-01-14T16:00:00+00:00",
          "2020-01-14T17:00:00+00:00",
          "2020-01-14T18:00:00+00:00",
          "2020-01-14T19:00:00+00:00",
          "2020-01-14T20:00:00+00:00",
          "2020-01-14T21:00:00+00:00",
          "2020-01-14T22:00:00+00:00",
          "2020-01-14T23:00:00+00:00",
          "2020-01-15T00:00:00+00:00",
          "2020-01-15T01:00:00+00:00",
          "2020-01-15T02:00:00+00:00",
          "2020-01-15T03:00:00+00:00",
          "2020-01-15T04:00:00+00:00",
          "2020-01-15T05:00:00+00:00",
          "2020-01-15T06:00:00+00:00",
          "2020-01-15T07:00:00+00:00",
          "2020-01-15T08:00:00+00:00",
          "2020-01-15T09:00:00+00:00",
          "2020-01-15T10:00:00+00:00",
          "2020-01-15T11:00:00+00:00",
          "2020-01-15T12:00:00+00:00",
          "2020-01-15T13:00:00+00:00",
          "2020-01-15T14:00:00+00:00",
          "2020-01-15T15:00:00+00:00",
          "2020-01-15T16:00:00+00:00",
          "2020-01-15T17:00:00+00:00",
          "2020-01-15T18:00:00+00:00",
          "2020-01-15T19:00:00+00:00",
          "2020-01-15T20:00:00+00:00",
          "2020-01-15T21:00:00+00:00",
          "2020-01-15T22:00:00+00:00",
          "2020-01-15T23:00:00+00:00",
          "2020-01-16T00:00:00+00:00",
          "2020-01-16T01:00:00+00:00",
          "2020-01-16T02:00:00+00:00",
          "2020-01-16T03:00:00+00:00",
          "2020-01-16T04:00:00+00:00",
          "2020-01-16T05:00:00+00:00",
          "2020-01-16T06:00:00+00:00",
          "2020-01-16T07:00:00+00:00",
          "2020-01-16T08:00:00+00:00",
          "2020-01-16T09:00:00+00:00",
          "2020-01-16T10:00:00+00:00",
          "2020-01-16T11:00:00+00:00",
          "2020-01-16T12:00:00+00:00",
          "2020-01-16T13:00:00+00:00",
          "2020-01-16T14:00:00+00:00",
          "2020-01-16T15:00:00+00:00",
          "2020-01-16T16:00:00+00:00",
          "2020-01-16T17:00:00+00:00",
          "2020-01-16T18:00:00+00:00",
          "2020-01-16T19:00:00+00:00",
          "2020-01-16T20:00:00+00:00",
          "2020-01-16T21:00:00+00:00",
          "2020-01-16T22:00:00+00:00",
          "2020-01-16T23:00:00+00:00",
          "2020-01-17T00:00:00+00:00",
          "2020-01-17T01:00:00+00:00",
          "2020-01-17T02:00:00+00:00",
          "2020-01-17T03:00:00+00:00",
          "2020-01-17T04:00:00+00:00",
          "2020-01-17T05:00:00+00:00",
          "2020-01-17T06:00:00+00:00",
          "2020-01-17T07:00:00+00:00",
          "2020-01-17T08:00:00+00:00",
          "2020-01-17T09:00:00+00:00",
          "2020-01-17T10:00:00+00:00",
          "2020-01-17T11:00:00+00:00",
          "2020-01-17T12:00:00+00:00",
          "2020-01-17T13:00:00+00:00",
          "2020-01-17T14:00:00+00:00",
          "2020-01-17T15:00:00+00:00",
          "2020-01-17T16:00:00+00:00",
          "2020-01-17T17:00:00+00:00",
          "2020-01-17T18:00:00+00:00",
          "2020-01-17T19:00:00+00:00",
          "2020-01-17T20:00:00+00:00",
          "2020-01-17T21:00:00+00:00",
          "2020-01-17T22:00:00+00:00",
          "2020-01-17T23:00:00+00:00",
          "2020-01-18T00:00:00+00:00",
          "2020-01-18T01:00:00+00:00",
          "2020-01-18T02:00:00+00:00",
          "2020-01-18T03:00:00+00:00",
          "2020-01-18T04:00:00+00:00",
          "2020-01-18T05:00:00+00:00",
          "2020-01-18T06:00:00+00:00",
          "2020-01-18T07:00:00+00:00",
          "2020-01-18T08:00:00+00:00",
          "2020-01-18T09:00:00+00:00",
          "2020-01-18T10:00:00+00:00",
          "2020-01-18T11:00:00+00:00",
          "2020-01-18T12:00:00+00:00",
          "2020-01-18T13:00:00+00:00",
          "2020-01-18T14:00:00+00:00",
          "2020-01-18T15:00:00+00:00",
          "2020-01-18T16:00:00+00:00",
          "2020-01-18T17:00:00+00:00",
          "2020-01-18T18:00:00+00:00",
          "2020-01-18T19:00:00+00:00",
          "2020-01-18T20:00:00+00:00",
          "2020-01-18T21:00:00+00:00",
          "2020-01-18T22:00:00+00:00",
          "2020-01-18T23:00:00+00:00",
          "2020-01-19T00:00:00+00:00",
          "2020-01-19T01:00:00+00:00",
          "2020-01-19T02:00:00+00:00",
          "2020-01-19T03:00:00+00:00",
          "2020-01-19T04:00:00+00:00",
          "2020-01-19T05:00:00+00:00",
          "2020-01-19T06:00:00+00:00",
          "2020-01-19T07:00:00+00:00",
          "2020-01-19T08:00:00+00:00",
          "2020-01-19T09:00:00+00:00",
          "2020-01-19T10:00:00+00:00",
          "2020-01-19T11:00:00+00:00",
          "2020-01-19T12:00:00+00:00",
          "2020-01-19T13:00:00+00:00",
          "2020-01-19T14:00:00+00:00",
          "2020-01-19T15:00:00+00:00",
          "2020-01-19T16:00:00+00:00",
          "2020-01-19T17:00:00+00:00",
          "2020-01-19T18:00:00+00:00",
          "2020-01-19T19:00:00+00:00",
          "2020-01-19T20:00:00+00:00",
          "2020-01-19T21:00:00+00:00",
          "2020-01-19T22:00:00+00:00",
          "2020-01-19T23:00:00+00:00",
          "2020-01-20T00:00:00+00:00",
          "2020-01-20T01:00:00+00:00",
          "2020-01-20T02:00:00+00:00",
          "2020-01-20T03:00:00+00:00",
          "2020-01-20T04:00:00+00:00",
          "2020-01-20T05:00:00+00:00",
          "2020-01-20T06:00:00+00:00",
          "2020-01-20T07:00:00+00:00",
          "2020-01-20T08:00:00+00:00",
          "2020-01-20T09:00:00+00:00",
          "2020-01-20T10:00:00+00:00",
          "2020-01-20T11:00:00+00:00",
          "2020-01-20T12:00:00+00:00",
          "2020-01-20T13:00:00+00:00",
          "2020-01-20T14:00:00+00:00",
          "2020-01-20T15:00:00+00:00",
          "2020-01-20T16:00:00+00:00",
          "2020-01-20T17:00:00+00:00",
          "2020-01-20T18:00:00+00:00",
          "2020-01-20T19:00:00+00:00",
          "2020-01-20T20:00:00+00:00",
          "2020-01-20T21:00:00+00:00",
          "2020-01-20T22:00:00+00:00",
          "2020-01-20T23:00:00+00:00",
          "2020-01-21T00:00:00+00:00",
          "2020-01-21T01:00:00+00:00",
          "2020-01-21T02:00:00+00:00",
          "2020-01-21T03:00:00+00:00",
          "2020-01-21T04:00:00+00:00",
          "2020-01-21T05:00:00+00:00",
          "2020-01-21T06:00:00+00:00",
          "2020-01-21T07:00:00+00:00",
          "2020-01-21T08:00:00+00:00",
          "2020-01-21T09:00:00+00:00",
          "2020-01-21T10:00:00+00:00",
          "2020-01-21T11:00:00+00:00",
          "2020-01-21T12:00:00+00:00",
          "2020-01-21T13:00:00+00:00",
          "2020-01-21T14:00:00+00:00",
          "2020-01-21T15:00:00+00:00",
          "2020-01-21T16:00:00+00:00",
          "2020-01-21T17:00:00+00:00",
          "2020-01-21T18:00:00+00:00",
          "2020-01-21T19:00:00+00:00",
          "2020-01-21T20:00:00+00:00",
          "2020-01-21T21:00:00+00:00",
          "2020-01-21T22:00:00+00:00",
          "2020-01-21T23:00:00+00:00",
          "2020-01-22T00:00:00+00:00",
          "2020-01-22T01:00:00+00:00",
          "2020-01-22T02:00:00+00:00",
          "2020-01-22T03:00:00+00:00",
          "2020-01-22T04:00:00+00:00",
          "2020-01-22T05:00:00+00:00",
          "2020-01-22T06:00:00+00:00",
          "2020-01-22T07:00:00+00:00",
          "2020-01-22T08:00:00+00:00",
          "2020-01-22T09:00:00+00:00",
          "2020-01-22T10:00:00+00:00",
          "2020-01-22T11:00:00+00:00",
          "2020-01-22T12:00:00+00:00",
          "2020-01-22T13:00:00+00:00",
          "2020-01-22T14:00:00+00:00",
          "2020-01-22T15:00:00+00:00",
          "2020-01-22T16:00:00+00:00",
          "2020-01-22T17:00:00+00:00",
          "2020-01-22T18:00:00+00:00",
          "2020-01-22T19:00:00+00:00",
          "2020-01-22T20:00:00+00:00",
          "2020-01-22T21:00:00+00:00",
          "2020-01-22T22:00:00+00:00",
          "2020-01-22T23:00:00+00:00",
          "2020-01-23T00:00:00+00:00",
          "2020-01-23T01:00:00+00:00",
          "2020-01-23T02:00:00+00:00",
          "2020-01-23T03:00:00+00:00",
          "2020-01-23T04:00:00+00:00",
          "2020-01-23T05:00:00+00:00",
          "2020-01-23T06:00:00+00:00",
          "2020-01-23T07:00:00+00:00",
          "2020-01-23T08:00:00+00:00",
          "2020-01-23T09:00:00+00:00",
          "2020-01-23T10:00:00+00:00",
          "2020-01-23T11:00:00+00:00",
          "2020-01-23T12:00:00+00:00",
          "2020-01-23T13:00:00+00:00",
          "2020-01-23T14:00:00+00:00",
          "2020-01-23T15:00:00+00:00",
          "2020-01-23T16:00:00+00:00",
          "2020-01-23T17:00:00+00:00",
          "2020-01-23T18:00:00+00:00",
          "2020-01-23T19:00:00+00:00",
          "2020-01-23T20:00:00+00:00",
          "2020-01-23T21:00:00+00:00",
          "2020-01-23T22:00:00+00:00",
          "2020-01-23T23:00:00+00:00",
          "2020-01-24T00:00:00+00:00",
          "2020-01-24T01:00:00+00:00",
          "2020-01-24T02:00:00+00:00",
          "2020-01-24T03:00:00+00:00",
          "2020-01-24T04:00:00+00:00",
          "2020-01-24T05:00:00+00:00",
          "2020-01-24T06:00:00+00:00",
          "2020-01-24T07:00:00+00:00",
          "2020-01-24T08:00:00+00:00",
          "2020-01-24T09:00:00+00:00",
          "2020-01-24T10:00:00+00:00",
          "2020-01-24T11:00:00+00:00",
          "2020-01-24T12:00:00+00:00",
          "2020-01-24T13:00:00+00:00",
          "2020-01-24T14:00:00+00:00",
          "2020-01-24T15:00:00+00:00",
          "2020-01-24T16:00:00+00:00",
          "2020-01-24T17:00:00+00:00",
          "2020-01-24T18:00:00+00:00",
          "2020-01-24T19:00:00+00:00",
          "2020-01-24T20:00:00+00:00",
          "2020-01-24T21:00:00+00:00",
          "2020-01-24T22:00:00+00:00",
          "2020-01-24T23:00:00+00:00",
          "2020-01-25T00:00:00+00:00",
          "2020-01-25T01:00:00+00:00",
          "2020-01-25T02:00:00+00:00",
          "2020-01-25T03:00:00+00:00",
          "2020-01-25T04:00:00+00:00",
          "2020-01-25T05:00:00+00:00",
          "2020-01-25T06:00:00+00:00",
          "2020-01-25T07:00:00+00:00",
          "2020-01-25T08:00:00+00:00",
          "2020-01-25T09:00:00+00:00",
          "2020-01-25T10:00:00+00:00",
          "2020-01-25T11:00:00+00:00",
          "2020-01-25T12:00:00+00:00",
          "2020-01-25T13:00:00+00:00",
          "2020-01-25T14:00:00+00:00",
          "2020-01-25T15:00:00+00:00",
          "2020-01-25T16:00:00+00:00",
          "2020-01-25T17:00:00+00:00",
          "2020-01-25T18:00:00+00:00",
          "2020-01-25T19:00:00+00:00",
          "2020-01-26T20:00:00+00:00",
          "2020-01-26T21:00:00+00:00",
          "2020-01-26T22:00:00+00:00",
          "2020-01-26T23:00:00+00:00",
          "2020-01-27T00:00:00+00:00",
          "2020-01-30T18:00:00+00:00",
          "2020-01-30T19:00:00+00:00",
          "2020-01-30T20:00:00+00:00",
          "2020-01-30T21:00:00+00:00",
          "2020-01-30T22:00:00+00:00",
          "2020-01-30T23:00:00+00:00",
          "2020-01-31T00:00:00+00:00",
          "2020-01-31T01:00:00+00:00",
          "2020-01-31T02:00:00+00:00",
          "2020-01-31T03:00:00+00:00",
          "2020-01-31T04:00:00+00:00",
          "2020-01-31T05:00:00+00:00",
          "2020-01-31T06:00:00+00:00",
          "2020-01-31T07:00:00+00:00",
          "2020-01-31T08:00:00+00:00",
          "2020-01-31T09:00:00+00:00",
          "2020-01-31T10:00:00+00:00",
          "2020-01-31T11:00:00+00:00",
          "2020-01-31T12:00:00+00:00",
          "2020-01-31T13:00:00+00:00",
          "2020-01-31T14:00:00+00:00",
          "2020-01-31T15:00:00+00:00",
          "2020-01-31T16:00:00+00:00",
          "2020-01-31T17:00:00+00:00",
          "2020-01-31T18:00:00+00:00",
          "2020-01-31T19:00:00+00:00",
          "2020-01-31T20:00:00+00:00",
          "2020-01-31T21:00:00+00:00",
          "2020-01-31T22:00:00+00:00",
          "2020-01-31T23:00:00+00:00",
          "2020-02-01T00:00:00+00:00",
          "2020-02-01T01:00:00+00:00",
          "2020-02-01T02:00:00+00:00",
          "2020-02-01T03:00:00+00:00",
          "2020-02-01T04:00:00+00:00",
          "2020-02-01T05:00:00+00:00"
         ],
         "xaxis": "x",
         "y": [
          0,
          0,
          0,
          0,
          0,
          0,
          0,
          0,
          0,
          0,
          0,
          0,
          0,
          0,
          0,
          0,
          0,
          0,
          0,
          0,
          0,
          0,
          0,
          0,
          0,
          0,
          0,
          0,
          0,
          0,
          0,
          0,
          0,
          0,
          0,
          0,
          0,
          0,
          0,
          0,
          0,
          0,
          0,
          0,
          0,
          0,
          0,
          0,
          0,
          0,
          0,
          0,
          0,
          0,
          0,
          0,
          0,
          0,
          0,
          0,
          0,
          0,
          0,
          0,
          0,
          0,
          0,
          0,
          0,
          0,
          0,
          0,
          0,
          0,
          0,
          0,
          0,
          0,
          0,
          0,
          0,
          0,
          0,
          0,
          0,
          0,
          0,
          0,
          0,
          0,
          0,
          0,
          0,
          0,
          0,
          0,
          0,
          0,
          0,
          0,
          0,
          0,
          0,
          0,
          0,
          0,
          0,
          0,
          0,
          0,
          0,
          0,
          0,
          0,
          0,
          0,
          0,
          0,
          0,
          0,
          0,
          0,
          0,
          0,
          0,
          0,
          0,
          0,
          0,
          0,
          0,
          0,
          0,
          0,
          0,
          0,
          0,
          0,
          0,
          0,
          0,
          0,
          0,
          0,
          0,
          0,
          0,
          0,
          0,
          0,
          0,
          0,
          0,
          0,
          0,
          0,
          0,
          0,
          0,
          0,
          0,
          0,
          0,
          0,
          0,
          0,
          0,
          0,
          0,
          0,
          0,
          0,
          0,
          0,
          0,
          0,
          0,
          0,
          0,
          0,
          0,
          0,
          0,
          0,
          0,
          0,
          0,
          0,
          0,
          0,
          0,
          0,
          0,
          0,
          0,
          0,
          0,
          0,
          0,
          0,
          0,
          0,
          0,
          0,
          0,
          0,
          0,
          0,
          0,
          0,
          0,
          0,
          0,
          0,
          0,
          0,
          0,
          0,
          0,
          0,
          0,
          0,
          0,
          0,
          0,
          0,
          0,
          0,
          0,
          0,
          0,
          0,
          0,
          0,
          0,
          0,
          0,
          0,
          0,
          0,
          0,
          0,
          0,
          0,
          0,
          0,
          0,
          0,
          0,
          0,
          0,
          0,
          0,
          0,
          0,
          0,
          0,
          0,
          0,
          0,
          0,
          0,
          0,
          0,
          0,
          0,
          0,
          0,
          0,
          0,
          0,
          0,
          0,
          0,
          0,
          0,
          0,
          0,
          0,
          0,
          0,
          0,
          0,
          0,
          0,
          0,
          0,
          0,
          0,
          0,
          0,
          0,
          0,
          0,
          0,
          0,
          0,
          0,
          0,
          0,
          0,
          0,
          0,
          0,
          0,
          0,
          0,
          0,
          0,
          0,
          0,
          0,
          0,
          0,
          0,
          0,
          0,
          0,
          0,
          0,
          0,
          0,
          0,
          0,
          0,
          0,
          0,
          0,
          0,
          0,
          0,
          0,
          0,
          0,
          0,
          0,
          0,
          0,
          0,
          0,
          0,
          0,
          0,
          0,
          0,
          0,
          0,
          0,
          0,
          0,
          0,
          0,
          0,
          0,
          0,
          0,
          0,
          0,
          0,
          0,
          0,
          0,
          0,
          0,
          0,
          0,
          0,
          0,
          0,
          0,
          0,
          0,
          0,
          0,
          0,
          0,
          0,
          0,
          0,
          0,
          0,
          0,
          0,
          0,
          0,
          0,
          0,
          0,
          0,
          0,
          0,
          0,
          0,
          0,
          0,
          0,
          0,
          0,
          0,
          0,
          0,
          0,
          0,
          0,
          0,
          0,
          0,
          0,
          0,
          0,
          0,
          0,
          0,
          0,
          0,
          0,
          0,
          0,
          0,
          0,
          0,
          0,
          0,
          0,
          0,
          0,
          0,
          0,
          0,
          0,
          0,
          0,
          0,
          0,
          0,
          0,
          0,
          0,
          0,
          0,
          0,
          0,
          0,
          0,
          0,
          0,
          0,
          0,
          0,
          0,
          0,
          0,
          0,
          0,
          0,
          0,
          0,
          0,
          0,
          0,
          0,
          0,
          0,
          0,
          0,
          0,
          0,
          0,
          0,
          0,
          0,
          0,
          0,
          0,
          0,
          0,
          0,
          0,
          0,
          0,
          0,
          0,
          0,
          0,
          0,
          0,
          0,
          0,
          0,
          0,
          0,
          0,
          0,
          0,
          0,
          0,
          0,
          0,
          0,
          0,
          0,
          0,
          0,
          0,
          0,
          0,
          0,
          0,
          0,
          0,
          0,
          0,
          0,
          0,
          0,
          0,
          0,
          0,
          0,
          0,
          0,
          0,
          0,
          0,
          0,
          0,
          0,
          0,
          0,
          0,
          0,
          0,
          0,
          0,
          0,
          0,
          0,
          0,
          0,
          0,
          0,
          0,
          0,
          0,
          0,
          0,
          0,
          0,
          0,
          0,
          0,
          0,
          0,
          0,
          0,
          0,
          0,
          0,
          0,
          0,
          0,
          0,
          0,
          0,
          0,
          0,
          0,
          0,
          0,
          0,
          0,
          0,
          0,
          0,
          0,
          0,
          0,
          0,
          0,
          0,
          0,
          0,
          0,
          0,
          0,
          0,
          0,
          0,
          0,
          0,
          0,
          0,
          0,
          0,
          0,
          0,
          0,
          0,
          0,
          0,
          0,
          0,
          0,
          0,
          0,
          0,
          0,
          0,
          0,
          0,
          0,
          0,
          0,
          0,
          0,
          0,
          0,
          0,
          0,
          0,
          0,
          0,
          0,
          0,
          0,
          0
         ],
         "yaxis": "y"
        },
        {
         "hovertemplate": "color=True<br>datetime_utc=%{x}<br>fuel_consumed_mmbtu=%{y}<extra></extra>",
         "legendgroup": "True",
         "marker": {
          "color": "#EF553B",
          "symbol": "circle"
         },
         "mode": "markers",
         "name": "True",
         "orientation": "v",
         "showlegend": true,
         "type": "scatter",
         "x": [
          "2020-01-03T18:00:00+00:00",
          "2020-01-03T19:00:00+00:00",
          "2020-01-03T20:00:00+00:00",
          "2020-01-03T21:00:00+00:00",
          "2020-01-03T22:00:00+00:00",
          "2020-01-25T20:00:00+00:00",
          "2020-01-25T21:00:00+00:00",
          "2020-01-25T22:00:00+00:00",
          "2020-01-25T23:00:00+00:00",
          "2020-01-26T00:00:00+00:00",
          "2020-01-26T01:00:00+00:00",
          "2020-01-26T02:00:00+00:00",
          "2020-01-26T03:00:00+00:00",
          "2020-01-26T04:00:00+00:00",
          "2020-01-26T05:00:00+00:00",
          "2020-01-26T06:00:00+00:00",
          "2020-01-26T07:00:00+00:00",
          "2020-01-26T08:00:00+00:00",
          "2020-01-26T09:00:00+00:00",
          "2020-01-26T10:00:00+00:00",
          "2020-01-26T11:00:00+00:00",
          "2020-01-26T12:00:00+00:00",
          "2020-01-26T13:00:00+00:00",
          "2020-01-26T14:00:00+00:00",
          "2020-01-26T15:00:00+00:00",
          "2020-01-26T16:00:00+00:00",
          "2020-01-26T17:00:00+00:00",
          "2020-01-26T18:00:00+00:00",
          "2020-01-26T19:00:00+00:00",
          "2020-01-27T01:00:00+00:00",
          "2020-01-27T02:00:00+00:00",
          "2020-01-27T03:00:00+00:00",
          "2020-01-27T04:00:00+00:00",
          "2020-01-27T05:00:00+00:00",
          "2020-01-27T06:00:00+00:00",
          "2020-01-27T07:00:00+00:00",
          "2020-01-27T08:00:00+00:00",
          "2020-01-27T09:00:00+00:00",
          "2020-01-27T10:00:00+00:00",
          "2020-01-27T11:00:00+00:00",
          "2020-01-27T12:00:00+00:00",
          "2020-01-27T13:00:00+00:00",
          "2020-01-27T14:00:00+00:00",
          "2020-01-27T15:00:00+00:00",
          "2020-01-27T16:00:00+00:00",
          "2020-01-27T17:00:00+00:00",
          "2020-01-27T18:00:00+00:00",
          "2020-01-27T19:00:00+00:00",
          "2020-01-27T20:00:00+00:00",
          "2020-01-27T21:00:00+00:00",
          "2020-01-27T22:00:00+00:00",
          "2020-01-27T23:00:00+00:00",
          "2020-01-28T00:00:00+00:00",
          "2020-01-28T01:00:00+00:00",
          "2020-01-28T02:00:00+00:00",
          "2020-01-28T03:00:00+00:00",
          "2020-01-28T04:00:00+00:00",
          "2020-01-28T05:00:00+00:00",
          "2020-01-28T06:00:00+00:00",
          "2020-01-28T07:00:00+00:00",
          "2020-01-28T08:00:00+00:00",
          "2020-01-28T09:00:00+00:00",
          "2020-01-28T10:00:00+00:00",
          "2020-01-28T11:00:00+00:00",
          "2020-01-28T12:00:00+00:00",
          "2020-01-28T13:00:00+00:00",
          "2020-01-28T14:00:00+00:00",
          "2020-01-28T15:00:00+00:00",
          "2020-01-28T16:00:00+00:00",
          "2020-01-28T17:00:00+00:00",
          "2020-01-28T18:00:00+00:00",
          "2020-01-28T19:00:00+00:00",
          "2020-01-28T20:00:00+00:00",
          "2020-01-28T21:00:00+00:00",
          "2020-01-28T22:00:00+00:00",
          "2020-01-28T23:00:00+00:00",
          "2020-01-29T00:00:00+00:00",
          "2020-01-29T01:00:00+00:00",
          "2020-01-29T02:00:00+00:00",
          "2020-01-29T03:00:00+00:00",
          "2020-01-29T04:00:00+00:00",
          "2020-01-29T05:00:00+00:00",
          "2020-01-29T06:00:00+00:00",
          "2020-01-29T07:00:00+00:00",
          "2020-01-29T08:00:00+00:00",
          "2020-01-29T09:00:00+00:00",
          "2020-01-29T10:00:00+00:00",
          "2020-01-29T11:00:00+00:00",
          "2020-01-29T12:00:00+00:00",
          "2020-01-29T13:00:00+00:00",
          "2020-01-29T14:00:00+00:00",
          "2020-01-29T15:00:00+00:00",
          "2020-01-29T16:00:00+00:00",
          "2020-01-29T17:00:00+00:00",
          "2020-01-29T18:00:00+00:00",
          "2020-01-29T19:00:00+00:00",
          "2020-01-29T20:00:00+00:00",
          "2020-01-29T21:00:00+00:00",
          "2020-01-29T22:00:00+00:00",
          "2020-01-29T23:00:00+00:00",
          "2020-01-30T00:00:00+00:00",
          "2020-01-30T01:00:00+00:00",
          "2020-01-30T02:00:00+00:00",
          "2020-01-30T03:00:00+00:00",
          "2020-01-30T04:00:00+00:00",
          "2020-01-30T05:00:00+00:00",
          "2020-01-30T06:00:00+00:00",
          "2020-01-30T07:00:00+00:00",
          "2020-01-30T08:00:00+00:00",
          "2020-01-30T09:00:00+00:00",
          "2020-01-30T10:00:00+00:00",
          "2020-01-30T11:00:00+00:00",
          "2020-01-30T12:00:00+00:00",
          "2020-01-30T13:00:00+00:00",
          "2020-01-30T14:00:00+00:00",
          "2020-01-30T15:00:00+00:00",
          "2020-01-30T16:00:00+00:00",
          "2020-01-30T17:00:00+00:00"
         ],
         "xaxis": "x",
         "y": [
          27.11250114440918,
          68.5999984741211,
          81.19999694824219,
          122.3000030517578,
          7.925000190734863,
          32.099998474121094,
          32.29999923706055,
          57.29999923706055,
          57.400001525878906,
          89.9000015258789,
          115.5999984741211,
          113.0999984741211,
          115.6999969482422,
          115.5999984741211,
          115.5,
          115.8000030517578,
          115.9000015258789,
          109.4000015258789,
          85.19999694824219,
          115.9000015258789,
          115.6999969482422,
          115.6999969482422,
          115.5,
          115.0999984741211,
          114.8000030517578,
          143.6999969482422,
          220.8999938964844,
          248,
          170.6999969482422,
          22.200000762939453,
          136.1999969482422,
          136.10000610351562,
          135.89999389648438,
          141,
          170.89999389648438,
          169,
          93.5999984741211,
          173.60000610351562,
          176.6999969482422,
          235.3999938964844,
          275.79998779296875,
          17.231250762939453,
          26.662498474121094,
          180.6000061035156,
          284,
          285.70001220703125,
          326,
          313.79998779296875,
          277.8999938964844,
          278.20001220703125,
          278.70001220703125,
          289.70001220703125,
          314.29998779296875,
          316.1000061035156,
          316.8999938964844,
          317.5,
          317.8999938964844,
          318.20001220703125,
          318.70001220703125,
          318.8999938964844,
          319.1000061035156,
          323.70001220703125,
          333.3999938964844,
          333.8999938964844,
          333.70001220703125,
          333.5,
          333.6000061035156,
          333.20001220703125,
          331.8999938964844,
          331.70001220703125,
          331.6000061035156,
          331.20001220703125,
          329,
          330.1000061035156,
          331.3999938964844,
          332.79998779296875,
          333.5,
          333.79998779296875,
          334.20001220703125,
          333.70001220703125,
          334,
          334.20001220703125,
          333.5,
          333.1000061035156,
          333.20001220703125,
          332.3999938964844,
          331.3999938964844,
          331.5,
          333.29998779296875,
          331.70001220703125,
          332.29998779296875,
          332,
          331.79998779296875,
          331.6000061035156,
          330.6000061035156,
          331.1000061035156,
          331.5,
          335.29998779296875,
          335.20001220703125,
          334.79998779296875,
          334.70001220703125,
          333.79998779296875,
          335.79998779296875,
          334.1000061035156,
          332.6000061035156,
          336,
          337.5,
          337.79998779296875,
          336.79998779296875,
          338.3999938964844,
          338.70001220703125,
          339.70001220703125,
          347.20001220703125,
          346.8999938964844,
          196.08750915527344,
          0.03125,
          94.3000030517578,
          31.625
         ],
         "yaxis": "y"
        }
       ],
       "layout": {
        "legend": {
         "title": {
          "text": "color"
         },
         "tracegroupgap": 0
        },
        "margin": {
         "t": 60
        },
        "template": {
         "data": {
          "bar": [
           {
            "error_x": {
             "color": "#2a3f5f"
            },
            "error_y": {
             "color": "#2a3f5f"
            },
            "marker": {
             "line": {
              "color": "#E5ECF6",
              "width": 0.5
             },
             "pattern": {
              "fillmode": "overlay",
              "size": 10,
              "solidity": 0.2
             }
            },
            "type": "bar"
           }
          ],
          "barpolar": [
           {
            "marker": {
             "line": {
              "color": "#E5ECF6",
              "width": 0.5
             },
             "pattern": {
              "fillmode": "overlay",
              "size": 10,
              "solidity": 0.2
             }
            },
            "type": "barpolar"
           }
          ],
          "carpet": [
           {
            "aaxis": {
             "endlinecolor": "#2a3f5f",
             "gridcolor": "white",
             "linecolor": "white",
             "minorgridcolor": "white",
             "startlinecolor": "#2a3f5f"
            },
            "baxis": {
             "endlinecolor": "#2a3f5f",
             "gridcolor": "white",
             "linecolor": "white",
             "minorgridcolor": "white",
             "startlinecolor": "#2a3f5f"
            },
            "type": "carpet"
           }
          ],
          "choropleth": [
           {
            "colorbar": {
             "outlinewidth": 0,
             "ticks": ""
            },
            "type": "choropleth"
           }
          ],
          "contour": [
           {
            "colorbar": {
             "outlinewidth": 0,
             "ticks": ""
            },
            "colorscale": [
             [
              0,
              "#0d0887"
             ],
             [
              0.1111111111111111,
              "#46039f"
             ],
             [
              0.2222222222222222,
              "#7201a8"
             ],
             [
              0.3333333333333333,
              "#9c179e"
             ],
             [
              0.4444444444444444,
              "#bd3786"
             ],
             [
              0.5555555555555556,
              "#d8576b"
             ],
             [
              0.6666666666666666,
              "#ed7953"
             ],
             [
              0.7777777777777778,
              "#fb9f3a"
             ],
             [
              0.8888888888888888,
              "#fdca26"
             ],
             [
              1,
              "#f0f921"
             ]
            ],
            "type": "contour"
           }
          ],
          "contourcarpet": [
           {
            "colorbar": {
             "outlinewidth": 0,
             "ticks": ""
            },
            "type": "contourcarpet"
           }
          ],
          "heatmap": [
           {
            "colorbar": {
             "outlinewidth": 0,
             "ticks": ""
            },
            "colorscale": [
             [
              0,
              "#0d0887"
             ],
             [
              0.1111111111111111,
              "#46039f"
             ],
             [
              0.2222222222222222,
              "#7201a8"
             ],
             [
              0.3333333333333333,
              "#9c179e"
             ],
             [
              0.4444444444444444,
              "#bd3786"
             ],
             [
              0.5555555555555556,
              "#d8576b"
             ],
             [
              0.6666666666666666,
              "#ed7953"
             ],
             [
              0.7777777777777778,
              "#fb9f3a"
             ],
             [
              0.8888888888888888,
              "#fdca26"
             ],
             [
              1,
              "#f0f921"
             ]
            ],
            "type": "heatmap"
           }
          ],
          "heatmapgl": [
           {
            "colorbar": {
             "outlinewidth": 0,
             "ticks": ""
            },
            "colorscale": [
             [
              0,
              "#0d0887"
             ],
             [
              0.1111111111111111,
              "#46039f"
             ],
             [
              0.2222222222222222,
              "#7201a8"
             ],
             [
              0.3333333333333333,
              "#9c179e"
             ],
             [
              0.4444444444444444,
              "#bd3786"
             ],
             [
              0.5555555555555556,
              "#d8576b"
             ],
             [
              0.6666666666666666,
              "#ed7953"
             ],
             [
              0.7777777777777778,
              "#fb9f3a"
             ],
             [
              0.8888888888888888,
              "#fdca26"
             ],
             [
              1,
              "#f0f921"
             ]
            ],
            "type": "heatmapgl"
           }
          ],
          "histogram": [
           {
            "marker": {
             "pattern": {
              "fillmode": "overlay",
              "size": 10,
              "solidity": 0.2
             }
            },
            "type": "histogram"
           }
          ],
          "histogram2d": [
           {
            "colorbar": {
             "outlinewidth": 0,
             "ticks": ""
            },
            "colorscale": [
             [
              0,
              "#0d0887"
             ],
             [
              0.1111111111111111,
              "#46039f"
             ],
             [
              0.2222222222222222,
              "#7201a8"
             ],
             [
              0.3333333333333333,
              "#9c179e"
             ],
             [
              0.4444444444444444,
              "#bd3786"
             ],
             [
              0.5555555555555556,
              "#d8576b"
             ],
             [
              0.6666666666666666,
              "#ed7953"
             ],
             [
              0.7777777777777778,
              "#fb9f3a"
             ],
             [
              0.8888888888888888,
              "#fdca26"
             ],
             [
              1,
              "#f0f921"
             ]
            ],
            "type": "histogram2d"
           }
          ],
          "histogram2dcontour": [
           {
            "colorbar": {
             "outlinewidth": 0,
             "ticks": ""
            },
            "colorscale": [
             [
              0,
              "#0d0887"
             ],
             [
              0.1111111111111111,
              "#46039f"
             ],
             [
              0.2222222222222222,
              "#7201a8"
             ],
             [
              0.3333333333333333,
              "#9c179e"
             ],
             [
              0.4444444444444444,
              "#bd3786"
             ],
             [
              0.5555555555555556,
              "#d8576b"
             ],
             [
              0.6666666666666666,
              "#ed7953"
             ],
             [
              0.7777777777777778,
              "#fb9f3a"
             ],
             [
              0.8888888888888888,
              "#fdca26"
             ],
             [
              1,
              "#f0f921"
             ]
            ],
            "type": "histogram2dcontour"
           }
          ],
          "mesh3d": [
           {
            "colorbar": {
             "outlinewidth": 0,
             "ticks": ""
            },
            "type": "mesh3d"
           }
          ],
          "parcoords": [
           {
            "line": {
             "colorbar": {
              "outlinewidth": 0,
              "ticks": ""
             }
            },
            "type": "parcoords"
           }
          ],
          "pie": [
           {
            "automargin": true,
            "type": "pie"
           }
          ],
          "scatter": [
           {
            "marker": {
             "colorbar": {
              "outlinewidth": 0,
              "ticks": ""
             }
            },
            "type": "scatter"
           }
          ],
          "scatter3d": [
           {
            "line": {
             "colorbar": {
              "outlinewidth": 0,
              "ticks": ""
             }
            },
            "marker": {
             "colorbar": {
              "outlinewidth": 0,
              "ticks": ""
             }
            },
            "type": "scatter3d"
           }
          ],
          "scattercarpet": [
           {
            "marker": {
             "colorbar": {
              "outlinewidth": 0,
              "ticks": ""
             }
            },
            "type": "scattercarpet"
           }
          ],
          "scattergeo": [
           {
            "marker": {
             "colorbar": {
              "outlinewidth": 0,
              "ticks": ""
             }
            },
            "type": "scattergeo"
           }
          ],
          "scattergl": [
           {
            "marker": {
             "colorbar": {
              "outlinewidth": 0,
              "ticks": ""
             }
            },
            "type": "scattergl"
           }
          ],
          "scattermapbox": [
           {
            "marker": {
             "colorbar": {
              "outlinewidth": 0,
              "ticks": ""
             }
            },
            "type": "scattermapbox"
           }
          ],
          "scatterpolar": [
           {
            "marker": {
             "colorbar": {
              "outlinewidth": 0,
              "ticks": ""
             }
            },
            "type": "scatterpolar"
           }
          ],
          "scatterpolargl": [
           {
            "marker": {
             "colorbar": {
              "outlinewidth": 0,
              "ticks": ""
             }
            },
            "type": "scatterpolargl"
           }
          ],
          "scatterternary": [
           {
            "marker": {
             "colorbar": {
              "outlinewidth": 0,
              "ticks": ""
             }
            },
            "type": "scatterternary"
           }
          ],
          "surface": [
           {
            "colorbar": {
             "outlinewidth": 0,
             "ticks": ""
            },
            "colorscale": [
             [
              0,
              "#0d0887"
             ],
             [
              0.1111111111111111,
              "#46039f"
             ],
             [
              0.2222222222222222,
              "#7201a8"
             ],
             [
              0.3333333333333333,
              "#9c179e"
             ],
             [
              0.4444444444444444,
              "#bd3786"
             ],
             [
              0.5555555555555556,
              "#d8576b"
             ],
             [
              0.6666666666666666,
              "#ed7953"
             ],
             [
              0.7777777777777778,
              "#fb9f3a"
             ],
             [
              0.8888888888888888,
              "#fdca26"
             ],
             [
              1,
              "#f0f921"
             ]
            ],
            "type": "surface"
           }
          ],
          "table": [
           {
            "cells": {
             "fill": {
              "color": "#EBF0F8"
             },
             "line": {
              "color": "white"
             }
            },
            "header": {
             "fill": {
              "color": "#C8D4E3"
             },
             "line": {
              "color": "white"
             }
            },
            "type": "table"
           }
          ]
         },
         "layout": {
          "annotationdefaults": {
           "arrowcolor": "#2a3f5f",
           "arrowhead": 0,
           "arrowwidth": 1
          },
          "autotypenumbers": "strict",
          "coloraxis": {
           "colorbar": {
            "outlinewidth": 0,
            "ticks": ""
           }
          },
          "colorscale": {
           "diverging": [
            [
             0,
             "#8e0152"
            ],
            [
             0.1,
             "#c51b7d"
            ],
            [
             0.2,
             "#de77ae"
            ],
            [
             0.3,
             "#f1b6da"
            ],
            [
             0.4,
             "#fde0ef"
            ],
            [
             0.5,
             "#f7f7f7"
            ],
            [
             0.6,
             "#e6f5d0"
            ],
            [
             0.7,
             "#b8e186"
            ],
            [
             0.8,
             "#7fbc41"
            ],
            [
             0.9,
             "#4d9221"
            ],
            [
             1,
             "#276419"
            ]
           ],
           "sequential": [
            [
             0,
             "#0d0887"
            ],
            [
             0.1111111111111111,
             "#46039f"
            ],
            [
             0.2222222222222222,
             "#7201a8"
            ],
            [
             0.3333333333333333,
             "#9c179e"
            ],
            [
             0.4444444444444444,
             "#bd3786"
            ],
            [
             0.5555555555555556,
             "#d8576b"
            ],
            [
             0.6666666666666666,
             "#ed7953"
            ],
            [
             0.7777777777777778,
             "#fb9f3a"
            ],
            [
             0.8888888888888888,
             "#fdca26"
            ],
            [
             1,
             "#f0f921"
            ]
           ],
           "sequentialminus": [
            [
             0,
             "#0d0887"
            ],
            [
             0.1111111111111111,
             "#46039f"
            ],
            [
             0.2222222222222222,
             "#7201a8"
            ],
            [
             0.3333333333333333,
             "#9c179e"
            ],
            [
             0.4444444444444444,
             "#bd3786"
            ],
            [
             0.5555555555555556,
             "#d8576b"
            ],
            [
             0.6666666666666666,
             "#ed7953"
            ],
            [
             0.7777777777777778,
             "#fb9f3a"
            ],
            [
             0.8888888888888888,
             "#fdca26"
            ],
            [
             1,
             "#f0f921"
            ]
           ]
          },
          "colorway": [
           "#636efa",
           "#EF553B",
           "#00cc96",
           "#ab63fa",
           "#FFA15A",
           "#19d3f3",
           "#FF6692",
           "#B6E880",
           "#FF97FF",
           "#FECB52"
          ],
          "font": {
           "color": "#2a3f5f"
          },
          "geo": {
           "bgcolor": "white",
           "lakecolor": "white",
           "landcolor": "#E5ECF6",
           "showlakes": true,
           "showland": true,
           "subunitcolor": "white"
          },
          "hoverlabel": {
           "align": "left"
          },
          "hovermode": "closest",
          "mapbox": {
           "style": "light"
          },
          "paper_bgcolor": "white",
          "plot_bgcolor": "#E5ECF6",
          "polar": {
           "angularaxis": {
            "gridcolor": "white",
            "linecolor": "white",
            "ticks": ""
           },
           "bgcolor": "#E5ECF6",
           "radialaxis": {
            "gridcolor": "white",
            "linecolor": "white",
            "ticks": ""
           }
          },
          "scene": {
           "xaxis": {
            "backgroundcolor": "#E5ECF6",
            "gridcolor": "white",
            "gridwidth": 2,
            "linecolor": "white",
            "showbackground": true,
            "ticks": "",
            "zerolinecolor": "white"
           },
           "yaxis": {
            "backgroundcolor": "#E5ECF6",
            "gridcolor": "white",
            "gridwidth": 2,
            "linecolor": "white",
            "showbackground": true,
            "ticks": "",
            "zerolinecolor": "white"
           },
           "zaxis": {
            "backgroundcolor": "#E5ECF6",
            "gridcolor": "white",
            "gridwidth": 2,
            "linecolor": "white",
            "showbackground": true,
            "ticks": "",
            "zerolinecolor": "white"
           }
          },
          "shapedefaults": {
           "line": {
            "color": "#2a3f5f"
           }
          },
          "ternary": {
           "aaxis": {
            "gridcolor": "white",
            "linecolor": "white",
            "ticks": ""
           },
           "baxis": {
            "gridcolor": "white",
            "linecolor": "white",
            "ticks": ""
           },
           "bgcolor": "#E5ECF6",
           "caxis": {
            "gridcolor": "white",
            "linecolor": "white",
            "ticks": ""
           }
          },
          "title": {
           "x": 0.05
          },
          "xaxis": {
           "automargin": true,
           "gridcolor": "white",
           "linecolor": "white",
           "ticks": "",
           "title": {
            "standoff": 15
           },
           "zerolinecolor": "white",
           "zerolinewidth": 2
          },
          "yaxis": {
           "automargin": true,
           "gridcolor": "white",
           "linecolor": "white",
           "ticks": "",
           "title": {
            "standoff": 15
           },
           "zerolinecolor": "white",
           "zerolinewidth": 2
          }
         }
        },
        "xaxis": {
         "anchor": "y",
         "domain": [
          0,
          1
         ],
         "title": {
          "text": "datetime_utc"
         }
        },
        "yaxis": {
         "anchor": "x",
         "domain": [
          0,
          1
         ],
         "title": {
          "text": "fuel_consumed_mmbtu"
         }
        }
       }
      }
     },
     "metadata": {},
     "output_type": "display_data"
    }
   ],
   "source": [
    "toplot = cems_filtered.loc[(3,1)]\n",
    "px.scatter(toplot, x=\"datetime_utc\", y=\"fuel_consumed_mmbtu\", color=checked[\"fuel_consumed_mmbtu\"])"
   ]
  },
  {
   "cell_type": "code",
   "execution_count": 55,
   "metadata": {},
   "outputs": [
    {
     "data": {
      "text/plain": [
       "gross_generation_mwh                      0.000000\n",
       "steam_load_1000_lb                        0.000000\n",
       "fuel_consumed_mmbtu                       0.000000\n",
       "co2_mass_lb                               0.000000\n",
       "ch4_mass_lb                               0.000000\n",
       "n2o_mass_lb                               0.000000\n",
       "nox_mass_lb                               0.000000\n",
       "so2_mass_lb                               0.000000\n",
       "co2_mass_lb_adjusted                      0.000000\n",
       "ch4_mass_lb_adjusted                      0.000000\n",
       "n2o_mass_lb_adjusted                      0.000000\n",
       "nox_mass_lb_adjusted                      0.000000\n",
       "so2_mass_lb_adjusted                      0.000000\n",
       "net_generation_mwh                      -12.572257\n",
       "fuel_consumed_for_electricity_mmbtu       0.000000\n",
       "co2_mass_lb_for_electricity               0.000000\n",
       "co2_mass_lb_for_electricity_adjusted      0.000000\n",
       "ch4_mass_lb_for_electricity               0.000000\n",
       "ch4_mass_lb_for_electricity_adjusted      0.000000\n",
       "n2o_mass_lb_for_electricity               0.000000\n",
       "n2o_mass_lb_for_electricity_adjusted      0.000000\n",
       "nox_mass_lb_for_electricity               0.000000\n",
       "nox_mass_lb_for_electricity_adjusted      0.000000\n",
       "so2_mass_lb_for_electricity               0.000000\n",
       "so2_mass_lb_for_electricity_adjusted      0.000000\n",
       "co2e_mass_lb                              0.000000\n",
       "co2e_mass_lb_adjusted                     0.000000\n",
       "co2e_mass_lb_for_electricity              0.000000\n",
       "co2e_mass_lb_for_electricity_adjusted     0.000000\n",
       "Name: (3, 1.0), dtype: float64"
      ]
     },
     "execution_count": 55,
     "metadata": {},
     "output_type": "execute_result"
    }
   ],
   "source": [
    "median.loc[(3,1)]"
   ]
  },
  {
   "cell_type": "code",
   "execution_count": null,
   "metadata": {},
   "outputs": [],
   "source": []
  }
 ],
 "metadata": {
  "kernelspec": {
   "display_name": "Python 3.9.13 ('hourly_egrid')",
   "language": "python",
   "name": "python3"
  },
  "language_info": {
   "codemirror_mode": {
    "name": "ipython",
    "version": 3
   },
   "file_extension": ".py",
   "mimetype": "text/x-python",
   "name": "python",
   "nbconvert_exporter": "python",
   "pygments_lexer": "ipython3",
   "version": "3.10.5"
  },
  "orig_nbformat": 4,
  "vscode": {
   "interpreter": {
    "hash": "65c02dfd2dc2ef471c0b5088763a28c1faaa7cad28937ca42fadf51e669fd8e8"
   }
  }
 },
 "nbformat": 4,
 "nbformat_minor": 2
}
