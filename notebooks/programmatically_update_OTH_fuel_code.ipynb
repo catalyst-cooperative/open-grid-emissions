{
 "cells": [
  {
   "cell_type": "code",
   "execution_count": null,
   "metadata": {},
   "outputs": [],
   "source": [
    "%reload_ext autoreload\n",
    "%autoreload 2\n",
    "\n",
    "import sys\n",
    "sys.path.append('../../hourly-egrid/')\n",
    "\n",
    "# Useful high-level external modules.\n",
    "import numpy as np\n",
    "import pandas as pd\n",
    "import plotly.express as px\n",
    "\n",
    "import src.data_cleaning as data_cleaning\n",
    "import src.load_data as load_data\n",
    "\n"
   ]
  },
  {
   "cell_type": "code",
   "execution_count": null,
   "metadata": {},
   "outputs": [],
   "source": [
    "year = 2020\n",
    "pudl_out = load_data.initialize_pudl_out(year=year)"
   ]
  },
  {
   "cell_type": "code",
   "execution_count": null,
   "metadata": {},
   "outputs": [],
   "source": [
    "# load the fuel content data and visualize the distribution by fuel\n",
    "fuel_heat_content = pudl_out.gf_eia923()[[\"report_date\",\"energy_source_code\",\"fuel_mmbtu_per_unit\"]]\n",
    "fuel_heat_content = fuel_heat_content.replace([np.inf, -np.inf], np.nan)\n",
    "fuel_heat_content = fuel_heat_content.dropna()\n",
    "px.box(fuel_heat_content.sort_values(by=\"fuel_mmbtu_per_unit\"), x=\"energy_source_code\", y=\"fuel_mmbtu_per_unit\")"
   ]
  },
  {
   "cell_type": "code",
   "execution_count": null,
   "metadata": {},
   "outputs": [],
   "source": [
    "# load EPA fuel type data\n",
    "epa_fuel_types = data_cleaning.get_epa_unit_fuel_types(year)\n",
    "epa_fuel_types[epa_fuel_types[\"energy_source_code\"] == \"OTH\"]"
   ]
  },
  {
   "cell_type": "code",
   "execution_count": null,
   "metadata": {},
   "outputs": [],
   "source": [
    "# Load EIA-860 to examine whether a plant is retired\n",
    "gens_860 = pudl_out.gens_eia860()\n",
    "gens_860[gens_860[\"plant_id_eia\"] == 60670]"
   ]
  }
 ],
 "metadata": {
  "language_info": {
   "name": "python"
  },
  "orig_nbformat": 4
 },
 "nbformat": 4,
 "nbformat_minor": 2
}
