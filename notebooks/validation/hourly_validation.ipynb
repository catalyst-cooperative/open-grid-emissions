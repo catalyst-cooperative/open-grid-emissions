{
 "cells": [
  {
   "cell_type": "markdown",
   "metadata": {},
   "source": [
    "# Validate EIA-930 data against net generation outputs"
   ]
  },
  {
   "cell_type": "code",
   "execution_count": null,
   "metadata": {},
   "outputs": [],
   "source": [
    "import pandas as pd\n",
    "import numpy as np\n",
    "import os\n",
    "\n",
    "import plotly.express as px\n",
    "import plotly.io as pio\n",
    "from datetime import datetime\n",
    "from datetime import timedelta\n",
    "import json\n",
    "\n",
    "import requests"
   ]
  },
  {
   "cell_type": "code",
   "execution_count": null,
   "metadata": {},
   "outputs": [],
   "source": [
    "import sys\n",
    "sys.path.append(\"../../\")\n",
    "\n",
    "import src.load_data as load_data"
   ]
  },
  {
   "cell_type": "code",
   "execution_count": null,
   "metadata": {},
   "outputs": [],
   "source": [
    "year = 2020"
   ]
  },
  {
   "cell_type": "code",
   "execution_count": null,
   "metadata": {},
   "outputs": [],
   "source": [
    "# EIA-930 data after timestamp adjustments but no cleaning\n",
    "raw = pd.read_csv(f\"{load_data.data_folder()}/outputs/2020/eia930/eia930_raw.csv\", index_col=0, parse_dates=True)"
   ]
  },
  {
   "cell_type": "code",
   "execution_count": null,
   "metadata": {},
   "outputs": [],
   "source": [
    "GEN_ID = \"EBA.{}-ALL.NG.H\"\n",
    "path = f\"{load_data.data_folder()}/results/{year}/power_sector_data/hourly/us_units/\"\n",
    "cors = {}\n",
    "percent_difs = {}\n",
    "annual_gen = {}\n",
    "for ba_f in os.listdir(path):\n",
    "    ba = ba_f.replace(\".csv\", \"\")\n",
    "    print(ba, end=\"...\")\n",
    "    col_name = GEN_ID.format(ba)\n",
    "    if col_name not in raw.columns: \n",
    "        continue\n",
    "    else:\n",
    "        dat = pd.read_csv(path+ba_f, parse_dates=[\"datetime_utc\"])\n",
    "        dat = dat[dat.fuel_category==\"total\"]\n",
    "        dat = dat.merge(raw[ col_name], left_on=\"datetime_utc\", right_index=True)\n",
    "        c = dat[[\"net_generation_mwh\", col_name]].corr().to_numpy()[0,1]\n",
    "        cors[ba] = c\n",
    "        difs = (dat[col_name]-dat[\"net_generation_mwh\"])/dat[\"net_generation_mwh\"]\n",
    "        difs = difs.replace(np.inf, np.nan)\n",
    "        percent_difs[ba] = difs.median()\n",
    "        annual_gen[ba] = dat[\"net_generation_mwh\"].sum()"
   ]
  },
  {
   "cell_type": "code",
   "execution_count": null,
   "metadata": {},
   "outputs": [],
   "source": [
    "out = pd.DataFrame(data={\"Difference as percent of hourly-egrid\":percent_difs, \"Correlation\":cors, \"Annual BA generation\":annual_gen})\n",
    "out = out.sort_values(\"Annual BA generation\", ascending=False)\n",
    "out.to_csv(f\"{load_data.data_folder()}/results/{year}/validation_metrics/us_units/compare_930_hourlyegrid.csv\")"
   ]
  },
  {
   "cell_type": "markdown",
   "metadata": {},
   "source": [
    "# Visualize BA of interest"
   ]
  },
  {
   "cell_type": "code",
   "execution_count": null,
   "metadata": {},
   "outputs": [],
   "source": [
    "ba = \"BPAT\"\n",
    "col_name = GEN_ID.format(ba)\n",
    "dat = pd.read_csv(path+ba+\".csv\", parse_dates=[\"datetime_utc\"])\n",
    "dat = dat[dat.fuel_category==\"total\"]\n",
    "dat = dat.merge(raw[ col_name], left_on=\"datetime_utc\", right_index=True)\n",
    "\n",
    "px.line(dat, x=\"datetime_utc\", y=[\"net_generation_mwh\", col_name])"
   ]
  },
  {
   "cell_type": "markdown",
   "metadata": {},
   "source": [
    "# Calculate real-time-rates from 930 + eGRID"
   ]
  },
  {
   "cell_type": "code",
   "execution_count": null,
   "metadata": {},
   "outputs": [],
   "source": [
    "eia930 = pd.read_csv(f\"../data/outputs/{year}/eia930/eia930_raw.csv\", parse_dates=True, index_col=0)"
   ]
  },
  {
   "cell_type": "code",
   "execution_count": null,
   "metadata": {},
   "outputs": [],
   "source": [
    "## Load factors from Singularity API\n",
    "\n",
    "# Use last year's egrid because that's all we have in real time\n",
    "# TODO: could expand to other pollutants if we use eGRID download \n",
    "url = f\"https://api.singularity.energy/v1/emissions/\" \n",
    "egrid_year = str(year-1) # use last year as eGRID year\n",
    "\n",
    "headers = {\n",
    "    'X-Api-Key': os.environ['SINGULARITY_API_KEY'],\n",
    "}\n",
    "\n",
    "factors = {}\n",
    "\n",
    "for adjustment in [\"adjusted\", \"unadjusted\"]: \n",
    "    adjusted = adjustment == \"adjusted\"\n",
    "    key = f\"EGRID_{egrid_year}\" if adjusted else f\"EGRID_u{egrid_year}\"\n",
    "    response = requests.request(\"GET\", url+key, headers=headers)\n",
    "    factors[adjustment] = json.loads(response.content)[\"data\"]\n"
   ]
  },
  {
   "cell_type": "code",
   "execution_count": null,
   "metadata": {},
   "outputs": [],
   "source": [
    "## For each BA, use singularity factors to calculate emission rate \n",
    "bas_to_calc = [ba.replace(\".csv\", \"\") for ba in os.listdir(\"../data/results/2020/power_sector_data/hourly/us_units/\")]\n",
    "\n",
    "fuel_categories = {\n",
    "    \"coal\":\"COL\",\n",
    "    \"natural_gas\":\"NG\",\n",
    "    \"other\":\"OTH\",\n",
    "    \"hydro\":\"WAT\",\n",
    "    \"wind\":\"WND\",\n",
    "    \"solar\":\"SUN\",\n",
    "    \"nuclear\":\"NUC\",\n",
    "    \"petroleum\":\"OIL\"\n",
    "}\n",
    "\n",
    "for ba in bas_to_calc:\n",
    "    singularity_ba = \"EIA.\" + ba if ba in EIA_REGIONS else ba\n",
    "    if singularity_ba not in factors[adjustment].keys():\n",
    "        print(f\"missing ba {singularity_ba}\")\n",
    "        continue\n",
    "\n",
    "    out = pd.DataFrame(index=eia930.index, columns=[\"adjusted_carbon\",\"unajusted_carbon\", \"adjusted_rate\", \"unadjusted_rate\"])\n",
    "\n",
    "    for adjustment in [\"adjusted\", \"unadjusted\"]:\n",
    "        s_fuels = list(factors[adjustment][singularity_ba].keys())\n",
    "        s_factors = [factors[adjustment][singularity_ba][f]['value'] for f in s_fuels]\n",
    "        fuels = [fuel_categories[f] for f in s_fuels]\n",
    "        generation_labels = [f\"EBA.{ba}-ALL.NG.{f}.H\" for f in fuels]\n",
    "\n",
    "        out.loc[:,f\"{adjustment}_carbon\"] = eia930[generation_labels].mul(s_factors, axis='columns').sum(axis='columns')\n",
    "        out.loc[:,f\"{adjustment}_rate\"] = out.loc[:,f\"{adjustment}_carbon\"] / eia930.loc[:,f\"EBA.{ba}-ALL.NG.H\"]\n",
    "\n",
    "    os.makedirs(f\"{load_data.data_folder()}/outputs/{year}/validation/real_time_rate/\", exist_ok=True)\n",
    "    out.to_csv(f\"{load_data.data_folder()}/outputs/{year}/validation/real_time_rate/{ba}.csv\")\n"
   ]
  },
  {
   "cell_type": "markdown",
   "metadata": {},
   "source": [
    "# Rate: correlations and percent differences\n",
    "\n",
    "Evaluation of rates"
   ]
  },
  {
   "cell_type": "code",
   "execution_count": null,
   "metadata": {},
   "outputs": [],
   "source": [
    "gen_path = f\"{load_data.data_folder()}/results/{year}/power_sector_data/hourly/us_units/\"\n",
    "consumed_path = f\"{load_data.data_folder()}/results/{year}/carbon_accounting/hourly/us_units/\""
   ]
  },
  {
   "cell_type": "code",
   "execution_count": null,
   "metadata": {},
   "outputs": [],
   "source": [
    "year = 2020"
   ]
  },
  {
   "cell_type": "code",
   "execution_count": null,
   "metadata": {},
   "outputs": [],
   "source": [
    "percent_difs = {}\n",
    "cors = {}\n",
    "for ba in os.listdir(f\"{load_data.data_folder()}/outputs/{year}/validation/real_time_rate/\"):\n",
    "    if ba == \".DS_Store\": # just some os stuff\n",
    "        continue \n",
    "    ba = ba.replace(\".csv\", \"\")\n",
    "    singularity_dat = pd.read_csv(f\"{load_data.data_folder()}/outputs/{year}/validation/real_time_rate/{ba}.csv\", index_col=0, parse_dates=True)\n",
    "    # hourly_consumed = pd.read_csv(consumed_path+ba+\".csv\",\n",
    "    #     usecols=[\"datetime_utc\", \"consumed_co2_rate_lb_per_mwh_for_electricity\", \"consumed_co2_rate_lb_per_mwh_adjusted\"], \n",
    "    #     index_col=\"datetime_utc\", parse_dates=True)\n",
    "    hourly_generated = pd.read_csv(gen_path+ba+\".csv\", \n",
    "        usecols=[\"datetime_utc\", \"generated_co2_rate_lb_per_mwh_for_electricity\", \"generated_co2_rate_lb_per_mwh_for_electricity_adjusted\", \"co2_mass_lb\", \"fuel_category\"], \n",
    "        index_col=\"datetime_utc\", parse_dates=True)\n",
    "    hourly_generated = hourly_generated.loc[hourly_generated.fuel_category==\"total\"]\n",
    "    hourly_generated = hourly_generated.sort_index()\n",
    "    all_dat = pd.concat([singularity_dat, hourly_generated], axis='columns')\n",
    "    all_dat = all_dat.sort_index()\n",
    "    cors[ba] = all_dat[[\"generated_co2_rate_lb_per_mwh_for_electricity_adjusted\", \"adjusted_rate\"]].corr().to_numpy()[0,1]\n",
    "    percent_difs[ba] = ((all_dat[\"adjusted_rate\"] - all_dat[\"generated_co2_rate_lb_per_mwh_for_electricity_adjusted\"])/all_dat[\"generated_co2_rate_lb_per_mwh_for_electricity_adjusted\"]).median()\n",
    "\n"
   ]
  },
  {
   "cell_type": "code",
   "execution_count": null,
   "metadata": {},
   "outputs": [],
   "source": [
    "out = pd.DataFrame(data={\"Difference as percent of OGE\":percent_difs, \"Correlation\":cors, \"Annual BA generation\":annual_gen})\n",
    "out = out.sort_values(\"Annual BA generation\", ascending=False)\n",
    "out.to_csv(f\"{load_data.data_folder()}/results/{year}/validation_metrics/us_units/compare_real_time_rates.csv\")"
   ]
  },
  {
   "cell_type": "code",
   "execution_count": null,
   "metadata": {},
   "outputs": [],
   "source": [
    "out.head()"
   ]
  },
  {
   "cell_type": "markdown",
   "metadata": {},
   "source": [
    "# Visualize emission rate differences"
   ]
  },
  {
   "cell_type": "code",
   "execution_count": null,
   "metadata": {},
   "outputs": [],
   "source": [
    "# For one-off interactive plotting\n",
    "ba_of_interest = \"DEAA\"\n",
    "\n",
    "real_time = pd.read_csv(f\"{load_data.data_folder()}/outputs/{year}/validation/real_time_rate/{ba_of_interest}.csv\", index_col=0, parse_dates=True)\n",
    "real_time = real_time[\"2020-01-01T00:00\":]\n",
    "\n",
    "hourly_consumed = pd.read_csv(consumed_path+ba_of_interest+\".csv\",\n",
    "    usecols=[\"datetime_utc\", \"consumed_co2_rate_lb_per_mwh_for_electricity\", \"consumed_co2_rate_lb_per_mwh_for_electricity_adjusted\"], \n",
    "    index_col=\"datetime_utc\", parse_dates=True)\n",
    "hourly_generated = pd.read_csv(gen_path+ba_of_interest+\".csv\", \n",
    "    usecols=[\"datetime_utc\", \"generated_co2_rate_lb_per_mwh_for_electricity\", \"generated_co2_rate_lb_per_mwh_for_electricity_adjusted\", \"co2_mass_lb\", \"fuel_category\"], \n",
    "    index_col=\"datetime_utc\", parse_dates=True)\n",
    "\n",
    "all_dat = pd.concat([real_time, hourly_consumed, hourly_generated.loc[hourly_generated.fuel_category==\"total\"]], axis='columns')\n",
    "all_dat = all_dat.sort_index()\n",
    "\n",
    "fig = px.line(all_dat, x=all_dat.index, y=[\"generated_co2_rate_lb_per_mwh_for_electricity\", \"adjusted_rate\"], \n",
    "    title=f\"{ba_of_interest} rate comparison\",\n",
    "    labels={\n",
    "        \"value\":\"Adjsuted CO2 emission rate (lb/mwh)\",\n",
    "        \"index\":\"Hour\"\n",
    "    })\n",
    "\n",
    "newnames = {'generated_co2_rate_lb_per_mwh_for_electricity': 'Our data', 'adjusted_rate': 'Real-time data'}\n",
    "fig.for_each_trace(lambda t: t.update(name = newnames[t.name]))"
   ]
  },
  {
   "cell_type": "code",
   "execution_count": null,
   "metadata": {},
   "outputs": [],
   "source": [
    "# What's happening Jun 16? \n",
    "to_investigate = pd.read_csv(gen_path+ba_of_interest+\".csv\", \n",
    "    index_col=\"datetime_utc\", parse_dates=True)"
   ]
  },
  {
   "cell_type": "code",
   "execution_count": null,
   "metadata": {},
   "outputs": [],
   "source": [
    "to_investigate.loc[\"2020-06-16T14:00\"].to_csv(\"~/Desktop/plant_\")"
   ]
  },
  {
   "cell_type": "markdown",
   "metadata": {},
   "source": [
    "# Outputs"
   ]
  },
  {
   "cell_type": "code",
   "execution_count": null,
   "metadata": {},
   "outputs": [],
   "source": [
    "# Plot and save all BAs \n",
    "for ba_of_interest in os.listdir(\"{load_data.data_folder()}/outputs/2020/validation/real_time_rate/\"):\n",
    "    ba_of_interest = ba_of_interest.replace(\".csv\", \"\")\n",
    "    if \".DS_\" in ba_of_interest:\n",
    "        continue\n",
    "    \n",
    "    real_time = pd.read_csv(f\"{load_data.data_folder()}/outputs/{year}/validation/real_time_rate/{ba_of_interest}.csv\", index_col=0, parse_dates=True)\n",
    "    real_time = real_time[\"2020-01-01T00:00\":]\n",
    "\n",
    "    hourly_consumed = pd.read_csv(consumed_path+ba_of_interest+\".csv\",\n",
    "        usecols=[\"datetime_utc\", \"consumed_co2_rate_lb_per_mwh_for_electricity\", \"consumed_co2_rate_lb_per_mwh_for_electricity_adjusted\"], \n",
    "        index_col=\"datetime_utc\", parse_dates=True)\n",
    "    hourly_generated = pd.read_csv(gen_path+ba_of_interest+\".csv\", \n",
    "        usecols=[\"datetime_utc\", \"generated_co2_rate_lb_per_mwh_for_electricity\", \"generated_co2_rate_lb_per_mwh_for_electricity_adjusted\", \"co2_mass_lb\", \"fuel_category\"], \n",
    "        index_col=\"datetime_utc\", parse_dates=True)\n",
    "\n",
    "    all_dat = pd.concat([real_time, hourly_consumed, hourly_generated.loc[hourly_generated.fuel_category==\"total\"]], axis='columns')\n",
    "    all_dat = all_dat.sort_index()\n",
    "\n",
    "    fig = px.line(all_dat, x=all_dat.index, y=[\"generated_co2_rate_lb_per_mwh_for_electricity\", \"adjusted_rate\"], \n",
    "        title=f\"{ba_of_interest} rate comparison\",\n",
    "        labels={\n",
    "            \"value\":\"Adjsuted CO2 emission rate (lb/mwh)\",\n",
    "            \"index\":\"Hour\"\n",
    "        })\n",
    "\n",
    "    newnames = {'generated_co2_rate_lb_per_mwh_for_electricity': 'Our data', 'adjusted_rate': 'Real-time data'}\n",
    "    fig.for_each_trace(lambda t: t.update(name = newnames[t.name]))\n",
    "    pio.write_image(fig, f\"{load_data.data_folder()}/outputs/viz/{ba_of_interest}.jpg\", width=1000, height=400, scale=3)"
   ]
  },
  {
   "cell_type": "code",
   "execution_count": null,
   "metadata": {},
   "outputs": [],
   "source": []
  }
 ],
 "metadata": {
  "interpreter": {
   "hash": "65c02dfd2dc2ef471c0b5088763a28c1faaa7cad28937ca42fadf51e669fd8e8"
  },
  "kernelspec": {
   "display_name": "Python 3.9.12 ('hourly_egrid')",
   "language": "python",
   "name": "python3"
  },
  "language_info": {
   "codemirror_mode": {
    "name": "ipython",
    "version": 3
   },
   "file_extension": ".py",
   "mimetype": "text/x-python",
   "name": "python",
   "nbconvert_exporter": "python",
   "pygments_lexer": "ipython3",
   "version": "3.10.5"
  },
  "orig_nbformat": 4
 },
 "nbformat": 4,
 "nbformat_minor": 2
}
