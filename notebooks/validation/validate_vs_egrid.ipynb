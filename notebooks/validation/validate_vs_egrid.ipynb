{
 "cells": [
  {
   "cell_type": "code",
   "execution_count": 7,
   "metadata": {},
   "outputs": [],
   "source": [
    "# import packages\n",
    "import numpy as np\n",
    "import pandas as pd\n",
    "import os\n",
    "import plotly.express as px\n",
    "from IPython.display import display\n",
    "\n",
    "%reload_ext autoreload\n",
    "%autoreload 2\n",
    "\n",
    "# Tell python where to look for modules. \n",
    "import sys\n",
    "sys.path.append('../../../open-grid-emissions/src/')\n",
    "\n",
    "# import local modules\n",
    "import load_data\n",
    "import validation\n",
    "from filepaths import *\n",
    "\n",
    "from column_checks import get_dtypes"
   ]
  },
  {
   "cell_type": "markdown",
   "metadata": {},
   "source": [
    "# Specify the year for validation"
   ]
  },
  {
   "cell_type": "code",
   "execution_count": 8,
   "metadata": {},
   "outputs": [],
   "source": [
    "year = 2020"
   ]
  },
  {
   "cell_type": "markdown",
   "metadata": {},
   "source": [
    "## Compare Our Results to eGRID"
   ]
  },
  {
   "cell_type": "code",
   "execution_count": 18,
   "metadata": {},
   "outputs": [],
   "source": [
    "# load our annual plant level data\n",
    "annual_plant_results = pd.read_csv(\n",
    "    f\"{results_folder()}{year}/plant_data/annual/us_units/plant_data.csv\",\n",
    "    dtype=get_dtypes(),\n",
    ")\n",
    "plant_attributes = pd.read_csv(\n",
    "    f\"{outputs_folder()}{year}/plant_static_attributes_{year}.csv\", dtype=get_dtypes()\n",
    ")\n",
    "annual_plant_results = annual_plant_results.merge(\n",
    "    plant_attributes, how=\"left\", on=\"plant_id_eia\"\n",
    ")\n",
    "\n",
    "# add a egrid id\n",
    "annual_plant_results = validation.add_egrid_plant_id(\n",
    "    annual_plant_results, from_id=\"eia\", to_id=\"egrid\"\n",
    ")\n",
    "\n",
    "# Load the eGRID plant table\n",
    "egrid_plant = validation.load_egrid_plant_file(year)"
   ]
  },
  {
   "cell_type": "markdown",
   "metadata": {},
   "source": [
    "### Identify plants missing from our results that exist in eGRID\n"
   ]
  },
  {
   "cell_type": "code",
   "execution_count": 19,
   "metadata": {},
   "outputs": [
    {
     "data": {
      "text/html": [
       "<div>\n",
       "<style scoped>\n",
       "    .dataframe tbody tr th:only-of-type {\n",
       "        vertical-align: middle;\n",
       "    }\n",
       "\n",
       "    .dataframe tbody tr th {\n",
       "        vertical-align: top;\n",
       "    }\n",
       "\n",
       "    .dataframe thead th {\n",
       "        text-align: right;\n",
       "    }\n",
       "</style>\n",
       "<table border=\"1\" class=\"dataframe\">\n",
       "  <thead>\n",
       "    <tr style=\"text-align: right;\">\n",
       "      <th></th>\n",
       "      <th>ba_code</th>\n",
       "      <th>state</th>\n",
       "      <th>plant_id_egrid</th>\n",
       "      <th>plant_name</th>\n",
       "      <th>plant_primary_fuel</th>\n",
       "      <th>chp_flag</th>\n",
       "      <th>net_generation_mwh</th>\n",
       "      <th>fuel_consumed_mmbtu</th>\n",
       "      <th>fuel_consumed_for_electricity_mmbtu</th>\n",
       "      <th>co2_mass_lb</th>\n",
       "      <th>co2_mass_lb_adjusted</th>\n",
       "      <th>fuel_consumed_mmbtu_ozone_season</th>\n",
       "      <th>fuel_data_source_annual</th>\n",
       "      <th>fuel_data_source_ozone</th>\n",
       "      <th>plant_id_eia</th>\n",
       "    </tr>\n",
       "  </thead>\n",
       "  <tbody>\n",
       "    <tr>\n",
       "      <th>0</th>\n",
       "      <td>NaN</td>\n",
       "      <td>AK</td>\n",
       "      <td>60814</td>\n",
       "      <td>7-Mile Ridge Wind Project</td>\n",
       "      <td>WND</td>\n",
       "      <td>NaN</td>\n",
       "      <td>NaN</td>\n",
       "      <td>NaN</td>\n",
       "      <td>NaN</td>\n",
       "      <td>0.0</td>\n",
       "      <td>0.0</td>\n",
       "      <td>NaN</td>\n",
       "      <td>NaN</td>\n",
       "      <td>NaN</td>\n",
       "      <td>60814</td>\n",
       "    </tr>\n",
       "    <tr>\n",
       "      <th>1</th>\n",
       "      <td>NaN</td>\n",
       "      <td>AK</td>\n",
       "      <td>54452</td>\n",
       "      <td>Agrium Kenai Nitrogen Operations</td>\n",
       "      <td>NG</td>\n",
       "      <td>Yes</td>\n",
       "      <td>NaN</td>\n",
       "      <td>NaN</td>\n",
       "      <td>NaN</td>\n",
       "      <td>NaN</td>\n",
       "      <td>NaN</td>\n",
       "      <td>NaN</td>\n",
       "      <td>NaN</td>\n",
       "      <td>NaN</td>\n",
       "      <td>54452</td>\n",
       "    </tr>\n",
       "    <tr>\n",
       "      <th>2</th>\n",
       "      <td>NaN</td>\n",
       "      <td>AK</td>\n",
       "      <td>57053</td>\n",
       "      <td>Alakanuk</td>\n",
       "      <td>DFO</td>\n",
       "      <td>Yes</td>\n",
       "      <td>0.0</td>\n",
       "      <td>NaN</td>\n",
       "      <td>NaN</td>\n",
       "      <td>NaN</td>\n",
       "      <td>NaN</td>\n",
       "      <td>NaN</td>\n",
       "      <td>NaN</td>\n",
       "      <td>NaN</td>\n",
       "      <td>57053</td>\n",
       "    </tr>\n",
       "    <tr>\n",
       "      <th>18</th>\n",
       "      <td>NaN</td>\n",
       "      <td>AK</td>\n",
       "      <td>93</td>\n",
       "      <td>Blue Lake Hydro</td>\n",
       "      <td>WAT</td>\n",
       "      <td>NaN</td>\n",
       "      <td>NaN</td>\n",
       "      <td>NaN</td>\n",
       "      <td>NaN</td>\n",
       "      <td>0.0</td>\n",
       "      <td>0.0</td>\n",
       "      <td>NaN</td>\n",
       "      <td>NaN</td>\n",
       "      <td>NaN</td>\n",
       "      <td>93</td>\n",
       "    </tr>\n",
       "    <tr>\n",
       "      <th>49</th>\n",
       "      <td>NaN</td>\n",
       "      <td>AK</td>\n",
       "      <td>313</td>\n",
       "      <td>Green Lake</td>\n",
       "      <td>WAT</td>\n",
       "      <td>NaN</td>\n",
       "      <td>NaN</td>\n",
       "      <td>NaN</td>\n",
       "      <td>NaN</td>\n",
       "      <td>0.0</td>\n",
       "      <td>0.0</td>\n",
       "      <td>NaN</td>\n",
       "      <td>NaN</td>\n",
       "      <td>NaN</td>\n",
       "      <td>313</td>\n",
       "    </tr>\n",
       "    <tr>\n",
       "      <th>...</th>\n",
       "      <td>...</td>\n",
       "      <td>...</td>\n",
       "      <td>...</td>\n",
       "      <td>...</td>\n",
       "      <td>...</td>\n",
       "      <td>...</td>\n",
       "      <td>...</td>\n",
       "      <td>...</td>\n",
       "      <td>...</td>\n",
       "      <td>...</td>\n",
       "      <td>...</td>\n",
       "      <td>...</td>\n",
       "      <td>...</td>\n",
       "      <td>...</td>\n",
       "      <td>...</td>\n",
       "    </tr>\n",
       "    <tr>\n",
       "      <th>12642</th>\n",
       "      <td>WAUW</td>\n",
       "      <td>WY</td>\n",
       "      <td>674</td>\n",
       "      <td>Pilot Butte</td>\n",
       "      <td>WAT</td>\n",
       "      <td>NaN</td>\n",
       "      <td>NaN</td>\n",
       "      <td>NaN</td>\n",
       "      <td>NaN</td>\n",
       "      <td>0.0</td>\n",
       "      <td>0.0</td>\n",
       "      <td>NaN</td>\n",
       "      <td>NaN</td>\n",
       "      <td>NaN</td>\n",
       "      <td>674</td>\n",
       "    </tr>\n",
       "    <tr>\n",
       "      <th>12644</th>\n",
       "      <td>WACM</td>\n",
       "      <td>WY</td>\n",
       "      <td>64847</td>\n",
       "      <td>Rail Tie Wind</td>\n",
       "      <td>WND</td>\n",
       "      <td>NaN</td>\n",
       "      <td>NaN</td>\n",
       "      <td>NaN</td>\n",
       "      <td>NaN</td>\n",
       "      <td>0.0</td>\n",
       "      <td>0.0</td>\n",
       "      <td>NaN</td>\n",
       "      <td>NaN</td>\n",
       "      <td>NaN</td>\n",
       "      <td>64847</td>\n",
       "    </tr>\n",
       "    <tr>\n",
       "      <th>12659</th>\n",
       "      <td>PACE</td>\n",
       "      <td>WY</td>\n",
       "      <td>62516</td>\n",
       "      <td>TB Flats</td>\n",
       "      <td>WND</td>\n",
       "      <td>NaN</td>\n",
       "      <td>NaN</td>\n",
       "      <td>NaN</td>\n",
       "      <td>NaN</td>\n",
       "      <td>0.0</td>\n",
       "      <td>0.0</td>\n",
       "      <td>NaN</td>\n",
       "      <td>NaN</td>\n",
       "      <td>NaN</td>\n",
       "      <td>62516</td>\n",
       "    </tr>\n",
       "    <tr>\n",
       "      <th>12662</th>\n",
       "      <td>PACE</td>\n",
       "      <td>WY</td>\n",
       "      <td>63972</td>\n",
       "      <td>Two Rivers Wind Facility</td>\n",
       "      <td>WND</td>\n",
       "      <td>NaN</td>\n",
       "      <td>NaN</td>\n",
       "      <td>NaN</td>\n",
       "      <td>NaN</td>\n",
       "      <td>0.0</td>\n",
       "      <td>0.0</td>\n",
       "      <td>NaN</td>\n",
       "      <td>NaN</td>\n",
       "      <td>NaN</td>\n",
       "      <td>63972</td>\n",
       "    </tr>\n",
       "    <tr>\n",
       "      <th>12663</th>\n",
       "      <td>WACM</td>\n",
       "      <td>WY</td>\n",
       "      <td>57967</td>\n",
       "      <td>Western Sugar Coop - Torrington</td>\n",
       "      <td>NG</td>\n",
       "      <td>NaN</td>\n",
       "      <td>NaN</td>\n",
       "      <td>NaN</td>\n",
       "      <td>NaN</td>\n",
       "      <td>NaN</td>\n",
       "      <td>NaN</td>\n",
       "      <td>NaN</td>\n",
       "      <td>NaN</td>\n",
       "      <td>NaN</td>\n",
       "      <td>57967</td>\n",
       "    </tr>\n",
       "  </tbody>\n",
       "</table>\n",
       "<p>2209 rows × 15 columns</p>\n",
       "</div>"
      ],
      "text/plain": [
       "      ba_code state  plant_id_egrid                        plant_name plant_primary_fuel chp_flag  net_generation_mwh  fuel_consumed_mmbtu  fuel_consumed_for_electricity_mmbtu  co2_mass_lb  co2_mass_lb_adjusted  fuel_consumed_mmbtu_ozone_season fuel_data_source_annual fuel_data_source_ozone  plant_id_eia\n",
       "0         NaN    AK           60814         7-Mile Ridge Wind Project                WND      NaN                 NaN                  NaN                                  NaN          0.0                   0.0                               NaN                     NaN                    NaN         60814\n",
       "1         NaN    AK           54452  Agrium Kenai Nitrogen Operations                 NG      Yes                 NaN                  NaN                                  NaN          NaN                   NaN                               NaN                     NaN                    NaN         54452\n",
       "2         NaN    AK           57053                          Alakanuk                DFO      Yes                 0.0                  NaN                                  NaN          NaN                   NaN                               NaN                     NaN                    NaN         57053\n",
       "18        NaN    AK              93                   Blue Lake Hydro                WAT      NaN                 NaN                  NaN                                  NaN          0.0                   0.0                               NaN                     NaN                    NaN            93\n",
       "49        NaN    AK             313                        Green Lake                WAT      NaN                 NaN                  NaN                                  NaN          0.0                   0.0                               NaN                     NaN                    NaN           313\n",
       "...       ...   ...             ...                               ...                ...      ...                 ...                  ...                                  ...          ...                   ...                               ...                     ...                    ...           ...\n",
       "12642    WAUW    WY             674                       Pilot Butte                WAT      NaN                 NaN                  NaN                                  NaN          0.0                   0.0                               NaN                     NaN                    NaN           674\n",
       "12644    WACM    WY           64847                     Rail Tie Wind                WND      NaN                 NaN                  NaN                                  NaN          0.0                   0.0                               NaN                     NaN                    NaN         64847\n",
       "12659    PACE    WY           62516                          TB Flats                WND      NaN                 NaN                  NaN                                  NaN          0.0                   0.0                               NaN                     NaN                    NaN         62516\n",
       "12662    PACE    WY           63972          Two Rivers Wind Facility                WND      NaN                 NaN                  NaN                                  NaN          0.0                   0.0                               NaN                     NaN                    NaN         63972\n",
       "12663    WACM    WY           57967   Western Sugar Coop - Torrington                 NG      NaN                 NaN                  NaN                                  NaN          NaN                   NaN                               NaN                     NaN                    NaN         57967\n",
       "\n",
       "[2209 rows x 15 columns]"
      ]
     },
     "execution_count": 19,
     "metadata": {},
     "output_type": "execute_result"
    }
   ],
   "source": [
    "missing_from_calc, PLANTS_MISSING_FROM_CALCULATION = validation.identify_plants_missing_from_our_calculations(egrid_plant, annual_plant_results, year)\n",
    "missing_from_calc"
   ]
  },
  {
   "cell_type": "markdown",
   "metadata": {},
   "source": [
    "### Identify plants missing from eGRID that are in our calculations"
   ]
  },
  {
   "cell_type": "code",
   "execution_count": 20,
   "metadata": {},
   "outputs": [
    {
     "data": {
      "text/html": [
       "<div>\n",
       "<style scoped>\n",
       "    .dataframe tbody tr th:only-of-type {\n",
       "        vertical-align: middle;\n",
       "    }\n",
       "\n",
       "    .dataframe tbody tr th {\n",
       "        vertical-align: top;\n",
       "    }\n",
       "\n",
       "    .dataframe thead th {\n",
       "        text-align: right;\n",
       "    }\n",
       "</style>\n",
       "<table border=\"1\" class=\"dataframe\">\n",
       "  <thead>\n",
       "    <tr style=\"text-align: right;\">\n",
       "      <th></th>\n",
       "      <th>ba_code</th>\n",
       "      <th>state</th>\n",
       "      <th>plant_id_egrid</th>\n",
       "      <th>plant_name</th>\n",
       "      <th>plant_primary_fuel</th>\n",
       "      <th>chp_flag</th>\n",
       "      <th>net_generation_mwh</th>\n",
       "      <th>fuel_consumed_mmbtu</th>\n",
       "      <th>fuel_consumed_for_electricity_mmbtu</th>\n",
       "      <th>co2_mass_lb</th>\n",
       "      <th>co2_mass_lb_adjusted</th>\n",
       "      <th>fuel_consumed_mmbtu_ozone_season</th>\n",
       "      <th>fuel_data_source_annual</th>\n",
       "      <th>fuel_data_source_ozone</th>\n",
       "      <th>plant_id_eia</th>\n",
       "    </tr>\n",
       "  </thead>\n",
       "  <tbody>\n",
       "    <tr>\n",
       "      <th>3463</th>\n",
       "      <td>MISO</td>\n",
       "      <td>IA</td>\n",
       "      <td>1146</td>\n",
       "      <td>Harlan</td>\n",
       "      <td>DFO</td>\n",
       "      <td>NaN</td>\n",
       "      <td>0.0</td>\n",
       "      <td>NaN</td>\n",
       "      <td>NaN</td>\n",
       "      <td>NaN</td>\n",
       "      <td>NaN</td>\n",
       "      <td>NaN</td>\n",
       "      <td>NaN</td>\n",
       "      <td>NaN</td>\n",
       "      <td>1146</td>\n",
       "    </tr>\n",
       "  </tbody>\n",
       "</table>\n",
       "</div>"
      ],
      "text/plain": [
       "     ba_code state  plant_id_egrid plant_name plant_primary_fuel chp_flag  net_generation_mwh  fuel_consumed_mmbtu  fuel_consumed_for_electricity_mmbtu  co2_mass_lb  co2_mass_lb_adjusted  fuel_consumed_mmbtu_ozone_season fuel_data_source_annual fuel_data_source_ozone  plant_id_eia\n",
       "3463    MISO    IA            1146     Harlan                DFO      NaN                 0.0                  NaN                                  NaN          NaN                   NaN                               NaN                     NaN                    NaN          1146"
      ]
     },
     "execution_count": 20,
     "metadata": {},
     "output_type": "execute_result"
    }
   ],
   "source": [
    "egrid_plant[egrid_plant[\"plant_id_egrid\"] == 1146]"
   ]
  },
  {
   "cell_type": "code",
   "execution_count": 21,
   "metadata": {},
   "outputs": [
    {
     "data": {
      "text/html": [
       "<div>\n",
       "<style scoped>\n",
       "    .dataframe tbody tr th:only-of-type {\n",
       "        vertical-align: middle;\n",
       "    }\n",
       "\n",
       "    .dataframe tbody tr th {\n",
       "        vertical-align: top;\n",
       "    }\n",
       "\n",
       "    .dataframe thead th {\n",
       "        text-align: right;\n",
       "    }\n",
       "</style>\n",
       "<table border=\"1\" class=\"dataframe\">\n",
       "  <thead>\n",
       "    <tr style=\"text-align: right;\">\n",
       "      <th></th>\n",
       "      <th>plant_id_eia</th>\n",
       "      <th>plant_name_eia</th>\n",
       "      <th>plant_primary_fuel</th>\n",
       "      <th>net_generation_mwh</th>\n",
       "      <th>fuel_consumed_for_electricity_mmbtu</th>\n",
       "      <th>fuel_consumed_mmbtu</th>\n",
       "    </tr>\n",
       "  </thead>\n",
       "  <tbody>\n",
       "    <tr>\n",
       "      <th>0</th>\n",
       "      <td>52106</td>\n",
       "      <td>Philadelphia Refinery</td>\n",
       "      <td>PRG</td>\n",
       "      <td>0.0</td>\n",
       "      <td>2380168.6</td>\n",
       "      <td>2380168.6</td>\n",
       "    </tr>\n",
       "  </tbody>\n",
       "</table>\n",
       "</div>"
      ],
      "text/plain": [
       "   plant_id_eia         plant_name_eia plant_primary_fuel  net_generation_mwh  fuel_consumed_for_electricity_mmbtu  fuel_consumed_mmbtu\n",
       "0         52106  Philadelphia Refinery                PRG                 0.0                            2380168.6            2380168.6"
      ]
     },
     "execution_count": 21,
     "metadata": {},
     "output_type": "execute_result"
    }
   ],
   "source": [
    "missing_from_egrid, PLANTS_MISSING_FROM_EGRID = validation.identify_plants_missing_from_egrid(egrid_plant, annual_plant_results)\n",
    "\n",
    "# how many of the plants missing from egrid have non-zero data\n",
    "missing_from_egrid.loc[missing_from_egrid[\"fuel_consumed_mmbtu\"] != 0, [\"plant_id_eia\",\"plant_name_eia\",\"plant_primary_fuel\",\"net_generation_mwh\",\"fuel_consumed_for_electricity_mmbtu\",\"fuel_consumed_mmbtu\"]]"
   ]
  },
  {
   "cell_type": "markdown",
   "metadata": {},
   "source": [
    "### Compare whether totals for plants with EPA IDs that differ from EIA IDs match"
   ]
  },
  {
   "cell_type": "code",
   "execution_count": null,
   "metadata": {},
   "outputs": [],
   "source": [
    "annual_plant_results[\n",
    "    annual_plant_results[\"plant_id_egrid\"].duplicated(keep=False)\n",
    "].groupby([\"plant_id_egrid\",\"plant_id_eia\"]).sum()"
   ]
  },
  {
   "cell_type": "code",
   "execution_count": null,
   "metadata": {},
   "outputs": [],
   "source": [
    "# identify where there is a single egrid plant id for multiple eia plant ids\n",
    "double_ids = annual_plant_results[\n",
    "    annual_plant_results[\"plant_id_egrid\"].duplicated(keep=False)\n",
    "]\n",
    "double_ids = (\n",
    "    double_ids.groupby(\"plant_id_egrid\").sum()[\"net_generation_mwh\"].reset_index()\n",
    ")  # focus on net generation for now\n",
    "# merge the egrid data\n",
    "double_ids = double_ids.merge(\n",
    "    egrid_plant[[\"plant_id_egrid\", \"net_generation_mwh\"]],\n",
    "    how=\"left\",\n",
    "    on=\"plant_id_egrid\",\n",
    "    suffixes=(\"_calc\", \"_egrid\"),\n",
    ")\n",
    "double_ids[\"percent_diff\"] = (\n",
    "    (double_ids[\"net_generation_mwh_calc\"] - double_ids[\"net_generation_mwh_egrid\"])\n",
    "    / double_ids[\"net_generation_mwh_egrid\"]\n",
    ").round(3)\n",
    "double_ids\n"
   ]
  },
  {
   "cell_type": "markdown",
   "metadata": {},
   "source": [
    "### Identify plants where our BA assignment does not match eGRID"
   ]
  },
  {
   "cell_type": "code",
   "execution_count": null,
   "metadata": {},
   "outputs": [],
   "source": [
    "ba_code_match = egrid_plant.set_index(\"plant_id_eia\")[[\"plant_name\", \"ba_code\"]].merge(\n",
    "    annual_plant_results.set_index(\"plant_id_eia\")[[\"ba_code\"]],\n",
    "    how=\"inner\",\n",
    "    left_index=True,\n",
    "    right_index=True,\n",
    "    suffixes=(\"_egrid\", \"_calc\"),\n",
    ")\n",
    "\n",
    "# plants with missing ba code\n",
    "# ba_code_match[(ba_code_match['ba_code_calc'].isna()) & ~(ba_code_match['ba_code_egrid'].isna())]\n",
    "ba_code_match[ba_code_match[\"ba_code_calc\"] != ba_code_match[\"ba_code_egrid\"]]"
   ]
  },
  {
   "cell_type": "code",
   "execution_count": null,
   "metadata": {},
   "outputs": [],
   "source": [
    "# how many of these mismatches are for non-missing bas\n",
    "ba_code_match[\n",
    "    (ba_code_match[\"ba_code_calc\"] != ba_code_match[\"ba_code_egrid\"])\n",
    "    & ~(ba_code_match[\"ba_code_egrid\"].isna())\n",
    "]"
   ]
  },
  {
   "cell_type": "markdown",
   "metadata": {},
   "source": [
    "### Identify whether the fuel codes of each plant match"
   ]
  },
  {
   "cell_type": "code",
   "execution_count": null,
   "metadata": {},
   "outputs": [],
   "source": [
    "fuel_match = egrid_plant.set_index(\"plant_id_eia\")[\n",
    "    [\"plant_name\", \"plant_primary_fuel\"]\n",
    "].merge(\n",
    "    annual_plant_results.set_index(\"plant_id_eia\")[[\"plant_primary_fuel\"]],\n",
    "    how=\"inner\",\n",
    "    left_index=True,\n",
    "    right_index=True,\n",
    "    suffixes=(\"_egrid\", \"_calc\"),\n",
    ")\n",
    "\n",
    "fuel_match[\n",
    "    fuel_match[\"plant_primary_fuel_egrid\"] != fuel_match[\"plant_primary_fuel_calc\"]\n",
    "]\n",
    "\n"
   ]
  },
  {
   "cell_type": "markdown",
   "metadata": {},
   "source": [
    "# Split data into different groups based on known discrepencies\n",
    "\n",
    "There are certain classes of plants where there are known issues that we know will prevent the totals from matching:\n",
    "- There are certain power plants that are missing altogether from eGRID\n",
    "- Geothermal power plants: EGRID sometimes has incorrect geotypes that may lead to different emissions estimates\n",
    "- Nuclear power plants: eGRID is generally missing fuel consumption data\n",
    "- Fuel cells are assumed by eGRID to have zero emissions\n",
    "- Plants that only report CEMS data for part of the year are sometimes missing data for the rest of the year in eGRID\n",
    "- CHP plants use a slightly different methodology\n",
    "- plants that report data to the bf table or gen table in EIA-923 may be missing data from teh generation and fuel table.\n",
    "\n",
    "\n",
    "We could identify plants where the total fuel doesn't match EIA-923, but matches the total fuel for a subset of prime movers"
   ]
  },
  {
   "cell_type": "code",
   "execution_count": null,
   "metadata": {},
   "outputs": [],
   "source": [
    "pudl_out = load_data.initialize_pudl_out(year)\n",
    "eia923_allocated = pd.read_csv(\n",
    "    f\"{outputs_folder()}{year}/eia923_allocated_{year}.csv\",\n",
    "    dtype=get_dtypes(),\n",
    "    parse_dates=[\"report_date\"],\n",
    ")\n",
    "\n",
    "annual_plant_results_segmented = validation.segment_plants_by_known_issues(annual_plant_results, egrid_plant, eia923_allocated, pudl_out, PLANTS_MISSING_FROM_EGRID)\n"
   ]
  },
  {
   "cell_type": "markdown",
   "metadata": {},
   "source": [
    "## Plant Metric"
   ]
  },
  {
   "cell_type": "code",
   "execution_count": null,
   "metadata": {},
   "outputs": [],
   "source": [
    "flag_columns = ['flag_missing_egrid', 'flag_geothermal','flag_nuclear', 'flag_fuel_cell', 'flag_partial_year', 'flag_chp', 'flag_bf_gen_reporter']\n",
    "\n",
    "# all data without known issues\n",
    "segment_to_compare = annual_plant_results_segmented[annual_plant_results_segmented[flag_columns].sum(axis=1) == 0]\n",
    "\n",
    "comparison_count, compared = validation.compare_plant_level_results_to_egrid(\n",
    "    segment_to_compare, egrid_plant, PLANTS_MISSING_FROM_EGRID\n",
    ")\n",
    "comparison_count\n"
   ]
  },
  {
   "cell_type": "code",
   "execution_count": null,
   "metadata": {},
   "outputs": [],
   "source": [
    "validation.compare_egrid_fuel_total(segment_to_compare, egrid_plant).sum()\n"
   ]
  },
  {
   "cell_type": "markdown",
   "metadata": {},
   "source": [
    "### Explore a specific set of plants"
   ]
  },
  {
   "cell_type": "code",
   "execution_count": null,
   "metadata": {},
   "outputs": [],
   "source": [
    "# specify the dataframe, metric, and status to explore\n",
    "comparison_df = compared\n",
    "metric = \"fuel_consumed_for_electricity_mmbtu\"\n",
    "status = \"-50% to -10%\"\n",
    "\n",
    "# show the data\n",
    "columns_to_show = [\"plant_name\",\"ba_code\",\"state\", metric, f\"{metric}_status\"]\n",
    "comparison_df.loc[(comparison_df[f\"{metric}_status\"] == status), columns_to_show]"
   ]
  },
  {
   "cell_type": "markdown",
   "metadata": {},
   "source": [
    "## Compare Annual BA values to eGRID BA file"
   ]
  },
  {
   "cell_type": "code",
   "execution_count": null,
   "metadata": {},
   "outputs": [],
   "source": [
    "year = 2020\n",
    "path_prefix = year\n",
    "\n",
    "# Load the eGRID plant table\n",
    "egrid_plant = validation.load_egrid_plant_file(year)\n",
    "\n",
    "egrid_ba = validation.load_egrid_ba_file(year)\n",
    "\n",
    "# aggregate the plant data up to the BA level\n",
    "data_columns = [\n",
    "    \"net_generation_mwh\",\n",
    "    \"fuel_consumed_mmbtu\",\n",
    "    \"fuel_consumed_for_electricity_mmbtu\",\n",
    "    \"co2_mass_lb\",\n",
    "    \"co2_mass_lb_adjusted\",\n",
    "]\n",
    "egrid_plant_ba_agg = egrid_plant.groupby([\"ba_code\"]).sum()[data_columns].reset_index()\n",
    "\n"
   ]
  },
  {
   "cell_type": "code",
   "execution_count": null,
   "metadata": {},
   "outputs": [],
   "source": [
    "# load our annual ba data\n",
    "DATA_COLUMNS = [\n",
    "    \"net_generation_mwh\",\n",
    "    \"fuel_consumed_mmbtu\",\n",
    "    \"fuel_consumed_for_electricity_mmbtu\",\n",
    "    \"co2_mass_lb\",\n",
    "    \"co2_mass_lb_adjusted\",\n",
    "]\n",
    "\n",
    "calculated_ba = []\n",
    "\n",
    "for filename in os.listdir(\n",
    "    f\"{results_folder()}{path_prefix}/power_sector_data/annual/us_units/\"\n",
    "):\n",
    "    ba = filename.split(\".\")[0]\n",
    "    ba_data = pd.read_csv(\n",
    "        f\"{results_folder()}{path_prefix}/power_sector_data/annual/us_units/{filename}\",\n",
    "        usecols=([\"fuel_category\"] + DATA_COLUMNS),\n",
    "    )\n",
    "    ba_data = ba_data[ba_data[\"fuel_category\"] == \"total\"].drop(\n",
    "        columns=[\"fuel_category\"]\n",
    "    )\n",
    "    ba_data[\"ba_code\"] = ba\n",
    "    ba_data = ba_data[[\"ba_code\"] + DATA_COLUMNS]\n",
    "    calculated_ba.append(ba_data)\n",
    "\n",
    "calculated_ba = pd.concat(calculated_ba, axis=0)\n"
   ]
  },
  {
   "cell_type": "code",
   "execution_count": null,
   "metadata": {},
   "outputs": [],
   "source": [
    "percent_diff_from_egrid = (\n",
    "    (\n",
    "        calculated_ba.set_index(\"ba_code\").replace(0, 0.1)\n",
    "        - egrid_plant_ba_agg.set_index(\"ba_code\").replace(0, 0.1)\n",
    "    )\n",
    "    / egrid_plant_ba_agg.set_index(\"ba_code\").replace(0, 0.1)\n",
    ").round(2)"
   ]
  },
  {
   "cell_type": "code",
   "execution_count": null,
   "metadata": {},
   "outputs": [],
   "source": [
    "percent_diff_from_egrid.sort_values(by=\"net_generation_mwh\")"
   ]
  },
  {
   "cell_type": "code",
   "execution_count": null,
   "metadata": {},
   "outputs": [],
   "source": [
    "# divide our calculation by the BA totals from eGRID\n",
    "# if there are 0 values, replace with 0.1, so that div by zero doesn't return missing value\n",
    "ba_metric = (\n",
    "    calculated_ba.replace(0, 0.1)\n",
    "    .set_index(\"ba_code\")\n",
    "    .div(egrid_plant_ba_agg.set_index(\"ba_code\").replace(0, 0.1))\n",
    "    .sort_values(by=\"co2_mass_lb\")\n",
    "    .round(3)\n",
    ")\n",
    "\n",
    "total = pd.DataFrame(\n",
    "    calculated_ba[data_columns]\n",
    "    .sum()\n",
    "    .div(egrid_plant_ba_agg[data_columns].sum())\n",
    "    .rename(\"Total\")\n",
    ").T\n",
    "\n",
    "# calculate the difference in the number of plants in each region\n",
    "# plant_count = (plant_annual_total.groupby('ba_code', dropna=False).count()['plant_id_egrid'] - egrid_plant.groupby('ba_code', dropna=False).count()['plant_id_egrid']).rename('num_plants')\n",
    "# ba_metric = ba_metric.merge(plant_count, how='left', left_index=True, right_index=True).drop(columns=['plant_id_egrid']).sort_index()\n",
    "\n",
    "ba_metric = pd.concat([ba_metric, total], axis=0).round(2)\n",
    "\n",
    "ba_metric = ba_metric[data_columns]\n",
    "\n",
    "columns_to_check = [\n",
    "    \"net_generation_mwh\",\n",
    "    \"fuel_consumed_mmbtu\",\n",
    "    \"fuel_consumed_for_electricity_mmbtu\",\n",
    "    \"co2_mass_lb\",\n",
    "]\n",
    "\n",
    "with pd.option_context(\"display.max_rows\", None, \"display.max_columns\", None):\n",
    "    display(ba_metric[~(ba_metric[columns_to_check] == 1).all(axis=1)])\n"
   ]
  },
  {
   "cell_type": "markdown",
   "metadata": {},
   "source": [
    "## Explore specific plants\n",
    "\n",
    "### Notes\n",
    "\n",
    "BA Totals\n",
    " - TEPC and SRP are off because the Gila River Generator is shared between SRP and TEPC, and eGRID reports all generation from this project belonging to TEPC\n"
   ]
  },
  {
   "cell_type": "code",
   "execution_count": null,
   "metadata": {},
   "outputs": [],
   "source": [
    "plant_to_explore = 58223\n"
   ]
  },
  {
   "cell_type": "code",
   "execution_count": null,
   "metadata": {},
   "outputs": [],
   "source": [
    "egrid_plant[egrid_plant[\"plant_id_eia\"] == plant_to_explore]"
   ]
  },
  {
   "cell_type": "code",
   "execution_count": null,
   "metadata": {},
   "outputs": [],
   "source": [
    "annual_plant_results[annual_plant_results[\"plant_id_eia\"] == plant_to_explore]"
   ]
  },
  {
   "cell_type": "code",
   "execution_count": null,
   "metadata": {},
   "outputs": [],
   "source": [
    "eia923_allocated[eia923_allocated[\"plant_id_eia\"] == plant_to_explore]"
   ]
  },
  {
   "cell_type": "code",
   "execution_count": null,
   "metadata": {},
   "outputs": [],
   "source": [
    "eia923_allocated.loc[eia923_allocated[\"plant_id_eia\"] == plant_to_explore, [\"generator_id\",\"subplant_id\"]].drop_duplicates()"
   ]
  }
 ],
 "metadata": {
  "interpreter": {
   "hash": "4103f3cd497821eca917ea303dbe10c590d787eb7d2dc3fd4e15dec0356e7931"
  },
  "kernelspec": {
   "display_name": "Python 3.9.12 ('hourly_egrid')",
   "language": "python",
   "name": "python3"
  },
  "language_info": {
   "codemirror_mode": {
    "name": "ipython",
    "version": 3
   },
   "file_extension": ".py",
   "mimetype": "text/x-python",
   "name": "python",
   "nbconvert_exporter": "python",
   "pygments_lexer": "ipython3",
   "version": "3.10.5"
  }
 },
 "nbformat": 4,
 "nbformat_minor": 2
}
