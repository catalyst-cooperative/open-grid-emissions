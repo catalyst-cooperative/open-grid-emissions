{
 "cells": [
  {
   "cell_type": "markdown",
   "metadata": {},
   "source": [
    "# Cleaning of 930, analyze how cleaning affects residual profile"
   ]
  },
  {
   "cell_type": "code",
   "execution_count": null,
   "metadata": {},
   "outputs": [],
   "source": [
    "# data source https://gridemissions.s3.us-east-2.amazonaws.com/EBA_elec.csv.gz"
   ]
  },
  {
   "cell_type": "code",
   "execution_count": null,
   "metadata": {},
   "outputs": [],
   "source": [
    "import numpy as np\n",
    "import pandas as pd\n",
    "\n",
    "import plotly.express as px\n",
    "import plotly.graph_objects as go\n",
    "\n",
    "import datetime as dt"
   ]
  },
  {
   "cell_type": "code",
   "execution_count": null,
   "metadata": {},
   "outputs": [],
   "source": [
    "%reload_ext autoreload\n",
    "%autoreload 2\n",
    "\n",
    "# Tell python where to look for modules. \n",
    "# Depending on how your jupyter handles working directories, this may not be needed.\n",
    "import sys\n",
    "sys.path.append('../../hourly-egrid/')\n",
    "\n",
    "from src.visualization import day_hour_heatmap\n",
    "from src.eia930 import fuel_code_map, reformat_chalendar, load_chalendar, load_chalendar_for_pipeline\n",
    "from src.load_data import download_chalendar_files"
   ]
  },
  {
   "cell_type": "code",
   "execution_count": null,
   "metadata": {},
   "outputs": [],
   "source": [
    "year = 2020"
   ]
  },
  {
   "cell_type": "code",
   "execution_count": null,
   "metadata": {},
   "outputs": [],
   "source": [
    "# Download data if not exists\n",
    "download_chalendar_files()"
   ]
  },
  {
   "cell_type": "code",
   "execution_count": null,
   "metadata": {},
   "outputs": [],
   "source": [
    "original = load_chalendar_for_pipeline(\n",
    "    \"../data/outputs/EBA_adjusted_rolling.csv\", year=year\n",
    ")\n",
    "original.head(5)\n"
   ]
  },
  {
   "cell_type": "code",
   "execution_count": null,
   "metadata": {},
   "outputs": [],
   "source": [
    "cleaned = load_chalendar_for_pipeline(\n",
    "    \"../data/outputs/EBA_adjusted_elec.csv\", year=year\n",
    ")\n",
    "cleaned.head(5)\n"
   ]
  },
  {
   "cell_type": "code",
   "execution_count": null,
   "metadata": {},
   "outputs": [],
   "source": [
    "# load hourly CEMS data outputted from main data pipeline\n",
    "cems = pd.read_csv(\n",
    "    f\"../data/outputs/cems_{year}.csv\",\n",
    "    parse_dates=[\"operating_datetime_utc\"],\n",
    ")\n",
    "# filter the data\n",
    "cems= cems.loc[cems[['co2_mass_lb_for_electricity','gross_generation_mwh','fuel_consumed_for_electricity_mmbtu']].sum(axis=1) > 0, ['ba_code', 'ba_code_physical',\n",
    "       'energy_source_code','plant_primary_fuel','fuel_category_eia930','distribution_flag',\n",
    "       'plant_id_eia', 'unitid', 'operating_datetime_utc',\n",
    "       'net_generation_mwh']]\n",
    "\n",
    "cems = cems.rename(columns={\"operating_datetime_utc\": \"datetime_utc\"})\n",
    "cems.head(5)\n"
   ]
  },
  {
   "cell_type": "markdown",
   "metadata": {},
   "source": [
    "# Aggregate CEMS data and merge with EIA-930 data"
   ]
  },
  {
   "cell_type": "code",
   "execution_count": null,
   "metadata": {},
   "outputs": [],
   "source": [
    "# combine original and cleaned EIA-930 data\n",
    "combined_data = cleaned.merge(\n",
    "    original[[\"ba_code\", \"fuel_category\", \"datetime_utc\", \"net_generation_mwh_930\"]],\n",
    "    how=\"left\",\n",
    "    on=[\"ba_code\", \"fuel_category\", \"datetime_utc\"],\n",
    "    suffixes=(\"_clean\", \"_orig\"),\n",
    ")\n",
    "combined_data\n"
   ]
  },
  {
   "cell_type": "code",
   "execution_count": null,
   "metadata": {},
   "outputs": [],
   "source": [
    "# perform different groupby operations so that we can compare different ways of aggregating the cems data\n",
    "\n",
    "# aggregate all generation by commercial BA\n",
    "cems_bac_all = (\n",
    "    cems.groupby([\"ba_code\", \"fuel_category_eia930\", \"datetime_utc\"])[\n",
    "        \"net_generation_mwh\"\n",
    "    ]\n",
    "    .sum()\n",
    "    .reset_index()\n",
    "    .rename(\n",
    "        columns={\n",
    "            \"fuel_category_eia930\": \"fuel_category\",\n",
    "            \"net_generation_mwh\": \"net_generation_mwh_bac_all\",\n",
    "        }\n",
    "    )\n",
    ")\n",
    "\n",
    "# aggregate all generation by physical BA\n",
    "cems_bap_all = (\n",
    "    cems.groupby([\"ba_code_physical\", \"fuel_category_eia930\", \"datetime_utc\"])[\n",
    "        \"net_generation_mwh\"\n",
    "    ]\n",
    "    .sum()\n",
    "    .reset_index()\n",
    "    .rename(\n",
    "        columns={\n",
    "            \"fuel_category_eia930\": \"fuel_category\",\n",
    "            \"ba_code_physical\": \"ba_code\",\n",
    "            \"net_generation_mwh\": \"net_generation_mwh_bap_all\",\n",
    "        }\n",
    "    )\n",
    ")\n",
    "\n",
    "# Aggregate transmission-connected generation by commercial BA\n",
    "cems_bac_trans = (\n",
    "    cems[cems[\"distribution_flag\"] == False]\n",
    "    .groupby([\"ba_code\", \"fuel_category_eia930\", \"datetime_utc\"])[\"net_generation_mwh\"]\n",
    "    .sum()\n",
    "    .reset_index()\n",
    "    .rename(\n",
    "        columns={\n",
    "            \"fuel_category_eia930\": \"fuel_category\",\n",
    "            \"net_generation_mwh\": \"net_generation_mwh_bac_trans\",\n",
    "        }\n",
    "    )\n",
    ")\n",
    "\n",
    "# Aggregate transmission-connected generation by physical BA\n",
    "cems_bap_trans = (\n",
    "    cems[cems[\"distribution_flag\"] == False]\n",
    "    .groupby([\"ba_code_physical\", \"fuel_category_eia930\", \"datetime_utc\"])[\n",
    "        \"net_generation_mwh\"\n",
    "    ]\n",
    "    .sum()\n",
    "    .reset_index()\n",
    "    .rename(\n",
    "        columns={\n",
    "            \"fuel_category_eia930\": \"fuel_category\",\n",
    "            \"ba_code_physical\": \"ba_code\",\n",
    "            \"net_generation_mwh\": \"net_generation_mwh_bap_trans\",\n",
    "        }\n",
    "    )\n",
    ")\n",
    "\n"
   ]
  },
  {
   "cell_type": "code",
   "execution_count": null,
   "metadata": {},
   "outputs": [],
   "source": [
    "# merge the aggregated data into the EIA data\n",
    "combined_data = combined_data.merge(\n",
    "    cems_bac_all, how=\"left\", on=[\"ba_code\", \"fuel_category\", \"datetime_utc\"]\n",
    ").fillna(0)\n",
    "combined_data = combined_data.merge(\n",
    "    cems_bap_all, how=\"left\", on=[\"ba_code\", \"fuel_category\", \"datetime_utc\"]\n",
    ").fillna(0)\n",
    "combined_data = combined_data.merge(\n",
    "    cems_bac_trans, how=\"left\", on=[\"ba_code\", \"fuel_category\", \"datetime_utc\"]\n",
    ").fillna(0)\n",
    "combined_data = combined_data.merge(\n",
    "    cems_bap_trans, how=\"left\", on=[\"ba_code\", \"fuel_category\", \"datetime_utc\"]\n",
    ").fillna(0)\n",
    "combined_data\n"
   ]
  },
  {
   "cell_type": "code",
   "execution_count": null,
   "metadata": {},
   "outputs": [],
   "source": [
    "# only keep rows where local datetime is in the current year\n",
    "combined_data = combined_data[combined_data['datetime_local'].apply(lambda x: x.year) == year]"
   ]
  },
  {
   "cell_type": "markdown",
   "metadata": {},
   "source": [
    "# Visualize net generation data from each source in a single BA\n",
    "Only visualize non-renewable data"
   ]
  },
  {
   "cell_type": "code",
   "execution_count": null,
   "metadata": {},
   "outputs": [],
   "source": [
    "ba = \"MISO\"\n",
    "\n",
    "data_to_visualize = combined_data[\n",
    "    (combined_data[\"ba_code\"] == ba)\n",
    "    & (~combined_data[\"fuel_category\"].isin([\"hydro\", \"solar\", \"wind\"]))\n",
    "]\n",
    "\n",
    "px.line(\n",
    "    data_to_visualize,\n",
    "    x=\"datetime_local\",\n",
    "    y=[\n",
    "        \"net_generation_mwh_930_clean\",\n",
    "        \"net_generation_mwh_930_orig\",\n",
    "        \"net_generation_mwh_bac_all\",\n",
    "        \"net_generation_mwh_bap_all\",\n",
    "        \"net_generation_mwh_bac_trans\",\n",
    "        \"net_generation_mwh_bap_trans\",\n",
    "    ],\n",
    "    facet_col=\"fuel_category\",\n",
    "    height=1000,\n",
    "    facet_col_wrap=1,\n",
    ").update_yaxes(matches=None)\n",
    "\n"
   ]
  },
  {
   "cell_type": "markdown",
   "metadata": {},
   "source": [
    "# Calculate the residual based on a single CEMS aggregation"
   ]
  },
  {
   "cell_type": "code",
   "execution_count": null,
   "metadata": {},
   "outputs": [],
   "source": [
    "# for now, let's pick a single cems aggregation to use to calculate a residual\n",
    "cems_data_column = \"net_generation_mwh_bac_all\"\n",
    "\n",
    "combined_data[\"residual\"] = (\n",
    "    combined_data[\"net_generation_mwh_930_clean\"] - combined_data[cems_data_column]\n",
    ")"
   ]
  },
  {
   "cell_type": "markdown",
   "metadata": {},
   "source": [
    "# Visualize residual for the BA"
   ]
  },
  {
   "cell_type": "code",
   "execution_count": null,
   "metadata": {},
   "outputs": [],
   "source": [
    "data_to_visualize = combined_data[\n",
    "    (combined_data[\"ba_code\"] == ba)\n",
    "    & (~combined_data[\"fuel_category\"].isin([\"hydro\", \"solar\", \"wind\"]))\n",
    "]\n",
    "\n",
    "px.line(\n",
    "    data_to_visualize,\n",
    "    x=\"datetime_local\",\n",
    "    y=[\"net_generation_mwh_930_clean\", cems_data_column, \"residual\"],\n",
    "    facet_col=\"fuel_category\",\n",
    "    height=1000,\n",
    "    facet_col_wrap=1,\n",
    ").update_yaxes(matches=None)"
   ]
  },
  {
   "cell_type": "markdown",
   "metadata": {},
   "source": [
    "# Test Scaling Strategy\n",
    "If the residual is ever negative, we want to scale the cems net generation data to always be less than or equal to the 930 net generation. \n",
    "\n",
    "To do this, we'll try scaling the data as a percentage:\n",
    "1. For each hour, calculate the ratio between 930 NG and CEMS NG.\n",
    "2. For each BA-fuel, find the minimum ratio. If the minimum ratio is >= 1, it means that 930 is always greater than CEMS and doesn't need to be scaled. For any BA-fuels where the ratio is < 1, we will use this as a scaling factor to scale the CEMS data such that the scaled data is always <= the 930 data\n",
    "3. Multiply all hourly CEMS values by the scaling factor"
   ]
  },
  {
   "cell_type": "code",
   "execution_count": null,
   "metadata": {},
   "outputs": [],
   "source": [
    "# only keep data where the cems data is greater than zero\n",
    "scaling_factors = combined_data.copy()[combined_data[cems_data_column] != 0]\n",
    "\n",
    "# calculate the ratio of 930 net generation to cems net generation\n",
    "# if correct, ratio should be >=1\n",
    "scaling_factors['scaling_factor'] = (scaling_factors[\"net_generation_mwh_930_clean\"] / scaling_factors[cems_data_column])\n",
    "\n",
    "# find the minimum ratio for each ba-fuel\n",
    "scaling_factors = scaling_factors.groupby(['ba_code','fuel_category'])['scaling_factor'].min().reset_index()\n",
    "scaling_factors"
   ]
  },
  {
   "cell_type": "code",
   "execution_count": null,
   "metadata": {},
   "outputs": [],
   "source": [
    "# merge the scaling factor into the combined data\n",
    "# for any BA-fuels without a scaling factor, fill with 1 (scale to 100% of the origina data)\n",
    "combined_data = combined_data.merge(scaling_factors, how='left', on=['ba_code','fuel_category']).fillna(1)\n",
    "\n",
    "# calculate the scaled cems data\n",
    "combined_data['cems_scaled'] = combined_data[cems_data_column] * combined_data['scaling_factor']\n",
    "\n",
    "# calculate a scaled residual\n",
    "combined_data[\"residual_scaled\"] = (\n",
    "    combined_data[\"net_generation_mwh_930_clean\"] - combined_data[\"cems_scaled\"]\n",
    ")"
   ]
  },
  {
   "cell_type": "markdown",
   "metadata": {},
   "source": [
    "# Plot scaled residuals"
   ]
  },
  {
   "cell_type": "code",
   "execution_count": null,
   "metadata": {},
   "outputs": [],
   "source": [
    "ba = \"MISO\"\n",
    "\n",
    "data_to_visualize = combined_data[\n",
    "    (combined_data[\"ba_code\"] == ba)\n",
    "    & (~combined_data[\"fuel_category\"].isin([\"hydro\", \"solar\", \"wind\"]))\n",
    "]\n",
    "\n",
    "px.line(\n",
    "    data_to_visualize,\n",
    "    x=\"datetime_local\",\n",
    "    y=[\n",
    "        \"net_generation_mwh_930_clean\",\n",
    "        cems_data_column,\n",
    "        \"cems_scaled\",\n",
    "        \"residual\",\n",
    "        \"residual_scaled\",\n",
    "    ],\n",
    "    facet_col=\"fuel_category\",\n",
    "    height=1000,\n",
    "    facet_col_wrap=1,\n",
    ").update_yaxes(matches=None)"
   ]
  },
  {
   "cell_type": "code",
   "execution_count": null,
   "metadata": {},
   "outputs": [],
   "source": [
    "ba = 'MISO'\n",
    "fuel = 'natural_gas'\n",
    "\n",
    "data_to_visualize = combined_data.copy()[(combined_data['ba_code'] == ba) & (combined_data['fuel_category'] == fuel)]\n",
    "data_to_visualize['datetime_local'] = pd.to_datetime(data_to_visualize['datetime_local'])\n",
    "data_to_visualize['date'] = data_to_visualize['datetime_local'].dt.date\n",
    "data_to_visualize['hour'] = data_to_visualize['datetime_local'].dt.hour\n",
    "\n",
    "data_to_visualize = data_to_visualize.pivot(index='hour', columns='date', values='residual_scaled')\n",
    "\n",
    "px.imshow(data_to_visualize, color_continuous_scale=\"RdBu\", width=1000, height=400, color_continuous_midpoint=0,)"
   ]
  },
  {
   "cell_type": "markdown",
   "metadata": {},
   "source": [
    "# Export the profile"
   ]
  },
  {
   "cell_type": "code",
   "execution_count": null,
   "metadata": {},
   "outputs": [],
   "source": [
    "data_to_export = combined_data[['ba_code','fuel_category','datetime_utc','datetime_local','report_date','residual_scaled']]\n",
    "data_to_export.to_csv('../data/outputs/residual_profiles.csv', index=False)"
   ]
  }
 ],
 "metadata": {
  "interpreter": {
   "hash": "4103f3cd497821eca917ea303dbe10c590d787eb7d2dc3fd4e15dec0356e7931"
  },
  "kernelspec": {
   "display_name": "Python 3.9.12 ('hourly_egrid')",
   "language": "python",
   "name": "python3"
  },
  "language_info": {
   "codemirror_mode": {
    "name": "ipython",
    "version": 3
   },
   "file_extension": ".py",
   "mimetype": "text/x-python",
   "name": "python",
   "nbconvert_exporter": "python",
   "pygments_lexer": "ipython3",
   "version": "3.9.12"
  },
  "orig_nbformat": 4
 },
 "nbformat": 4,
 "nbformat_minor": 2
}
