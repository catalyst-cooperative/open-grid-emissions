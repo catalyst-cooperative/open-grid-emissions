{
 "cells": [
  {
   "cell_type": "markdown",
   "metadata": {},
   "source": [
    "# Maps for announcement blog post\n",
    "\n",
    "Visualization 2: The carbon intensity of consumed electricity differs from generated electricity\n",
    "* Show a static carbon flow map focused on a single BA plus all directly-interconnected BAs\n",
    "* Pick an hour when there is some particularly dirty electricity getting imported\n",
    "* Each BA would be represented by a bubble, where the color changes based on carbon intensity, and carbon flows would be represented by colored arrows between the bubbles. \n",
    "* To illustrate the difference between produced and consumed, we might want to have a pair of bubbles for each BA - one that shows the produced CI and one that shows the consumed CI. If we do this, we probably don’t want to vary the size of each bubble based on total generation. Or maybe we could do a split bubble - the top half shows produced CI and the bottom shows consumed CI.\n",
    "\n",
    "\n",
    "Visualization 3: Animating hourly and consumed emissions for the whole county\n",
    "* This animation should put the previous two concepts together and show how carbon flows and how CI changes across the entire country for a single day (or a week?)\n",
    "* We could also potentially have two maps side by side: one that shows annual averages in bubbles (with no carbon flow), and one that shows the animated hourly flow (to really draw the distinction between annual and hourly datasets)\n",
    "\n",
    "\n",
    "### Ref for making gif: \n",
    "`https://stackoverflow.com/questions/753190/programmatically-generate-video-or-animated-gif-in-python`"
   ]
  },
  {
   "cell_type": "code",
   "execution_count": 129,
   "metadata": {},
   "outputs": [],
   "source": [
    "import plotly.express as px\n",
    "import plotly.graph_objects as go\n",
    "from plotly.colors import * \n",
    "import plotly.io as pio\n",
    "import os\n",
    "import pandas as pd\n",
    "import numpy as np\n",
    "from PIL import Image\n",
    "import imageio"
   ]
  },
  {
   "cell_type": "code",
   "execution_count": 92,
   "metadata": {},
   "outputs": [],
   "source": [
    "%reload_ext autoreload\n",
    "%autoreload 2\n",
    "\n",
    "# # Tell python where to look for modules.\n",
    "import sys\n",
    "\n",
    "sys.path.append(\"../../src/\")\n",
    "\n",
    "import output_data"
   ]
  },
  {
   "cell_type": "code",
   "execution_count": 93,
   "metadata": {},
   "outputs": [],
   "source": [
    "ba_coords = pd.read_csv(\"resources/ba_coords.csv\", index_col=0, dtype={\"cx\":np.float64, \"cy\":np.float64})\n",
    "ba_meta = pd.read_csv(\"../../data/manual/ba_reference.csv\", index_col=0)"
   ]
  },
  {
   "cell_type": "code",
   "execution_count": 94,
   "metadata": {},
   "outputs": [],
   "source": [
    "# Note: 150+ BAs are not in ba_coords\n",
    "ba_list = ba_meta[(ba_meta.ba_category != \"misellaneous\") & (ba_meta.us_ba) & (ba_meta.index.isin(ba_coords.index))].index\n",
    "ba_list = [ba for ba in ba_list if (f\"{ba}.csv\" in os.listdir(\"../../data/results/2020/power_sector_data/hourly/us_units/\"))]"
   ]
  },
  {
   "cell_type": "code",
   "execution_count": 161,
   "metadata": {},
   "outputs": [],
   "source": [
    "range_start = \"2020-08-01T04:00+00\"\n",
    "range_end = \"2020-08-3T04:00+00\""
   ]
  },
  {
   "cell_type": "code",
   "execution_count": 96,
   "metadata": {},
   "outputs": [],
   "source": [
    "cleaned_io = pd.read_csv(\"../../data/outputs/2020/eia930/eia930_elec.csv\", index_col=0, parse_dates=True)\n",
    "cleaned_io = cleaned_io[[c for c in cleaned_io.columns if \".ID.\" in c]]"
   ]
  },
  {
   "cell_type": "code",
   "execution_count": 97,
   "metadata": {},
   "outputs": [],
   "source": [
    "ID_COL = \"EBA.%s-%s.ID.H\""
   ]
  },
  {
   "cell_type": "code",
   "execution_count": 98,
   "metadata": {},
   "outputs": [],
   "source": [
    "all = []\n",
    "for ba in ba_list:\n",
    "    produced = pd.read_csv(f\"../../data/results/2020/power_sector_data/hourly/us_units/{ba}.csv\", index_col=\"datetime_utc\", parse_dates=True, usecols=[\"datetime_utc\",\"fuel_category\", \"net_generation_mwh\", \"generated_co2_rate_lb_per_mwh_for_electricity\"])\n",
    "    produced = produced[produced.fuel_category == \"total\"]\n",
    "    produced = produced.drop(columns=[\"fuel_category\"])\n",
    "    \n",
    "    if ba_meta.loc[ba,\"ba_category\"] == \"generation_only\":\n",
    "        consumed = pd.DataFrame(index=produced.index, columns=[[\"consumed_co2_rate_lb_per_mwh_for_electricity\"]], dtype=np.float64)\n",
    "    else:\n",
    "        consumed = pd.read_csv(f\"../../data/results/2020/carbon_accounting/hourly/us_units/{ba}.csv\", index_col=\"datetime_utc\", parse_dates=True, usecols=[\"datetime_utc\", \"consumed_co2_rate_lb_per_mwh_for_electricity\"])\n",
    "    consumed.columns = consumed.columns.get_level_values(0)\n",
    "\n",
    "    both = pd.concat([produced, consumed], axis='columns')\n",
    "    #both = both.loc[range_start:range_end]\n",
    "    both = both.reset_index()\n",
    "    both[\"BA\"] = ba\n",
    "    all.append(both)\n",
    "\n",
    "all = pd.concat(all)"
   ]
  },
  {
   "cell_type": "code",
   "execution_count": 99,
   "metadata": {},
   "outputs": [],
   "source": [
    "# Add coordinates\n",
    "all = all.merge(ba_coords, how='left', validate='many_to_one', left_on=\"BA\", right_index=True)"
   ]
  },
  {
   "cell_type": "code",
   "execution_count": 100,
   "metadata": {},
   "outputs": [
    {
     "data": {
      "text/html": [
       "<div>\n",
       "<style scoped>\n",
       "    .dataframe tbody tr th:only-of-type {\n",
       "        vertical-align: middle;\n",
       "    }\n",
       "\n",
       "    .dataframe tbody tr th {\n",
       "        vertical-align: top;\n",
       "    }\n",
       "\n",
       "    .dataframe thead th {\n",
       "        text-align: right;\n",
       "    }\n",
       "</style>\n",
       "<table border=\"1\" class=\"dataframe\">\n",
       "  <thead>\n",
       "    <tr style=\"text-align: right;\">\n",
       "      <th></th>\n",
       "      <th>datetime_utc</th>\n",
       "      <th>net_generation_mwh</th>\n",
       "      <th>generated_co2_rate_lb_per_mwh_for_electricity</th>\n",
       "      <th>consumed_co2_rate_lb_per_mwh_for_electricity</th>\n",
       "      <th>BA</th>\n",
       "      <th>cx</th>\n",
       "      <th>cy</th>\n",
       "      <th>difference</th>\n",
       "    </tr>\n",
       "  </thead>\n",
       "  <tbody>\n",
       "    <tr>\n",
       "      <th>195</th>\n",
       "      <td>2020-01-09 11:00:00+00:00</td>\n",
       "      <td>13151.14</td>\n",
       "      <td>485.225459</td>\n",
       "      <td>628.245034</td>\n",
       "      <td>CISO</td>\n",
       "      <td>60.0</td>\n",
       "      <td>270.0</td>\n",
       "      <td>143.019575</td>\n",
       "    </tr>\n",
       "  </tbody>\n",
       "</table>\n",
       "</div>"
      ],
      "text/plain": [
       "                 datetime_utc  net_generation_mwh  generated_co2_rate_lb_per_mwh_for_electricity  consumed_co2_rate_lb_per_mwh_for_electricity    BA    cx     cy  difference\n",
       "195 2020-01-09 11:00:00+00:00            13151.14                                     485.225459                                    628.245034  CISO  60.0  270.0  143.019575"
      ]
     },
     "execution_count": 100,
     "metadata": {},
     "output_type": "execute_result"
    }
   ],
   "source": [
    "tester = (all[all.BA==\"CISO\"]).copy()\n",
    "tester[\"difference\"] = tester.consumed_co2_rate_lb_per_mwh_for_electricity - tester.generated_co2_rate_lb_per_mwh_for_electricity\n",
    "tester.difference.abs().max()\n",
    "tester[tester.difference == tester.difference.abs().max()]"
   ]
  },
  {
   "cell_type": "code",
   "execution_count": 101,
   "metadata": {},
   "outputs": [],
   "source": [
    "# Hour with max CISO difference \n",
    "hour = '2020-09-25 12:00:00+00:00'"
   ]
  },
  {
   "cell_type": "code",
   "execution_count": 162,
   "metadata": {},
   "outputs": [
    {
     "name": "stdout",
     "output_type": "stream",
     "text": [
      "2020-08-01 05:00:00+00:00...2020-08-01 06:00:00+00:00...2020-08-01 07:00:00+00:00...2020-08-01 08:00:00+00:00...2020-08-01 09:00:00+00:00...2020-08-01 10:00:00+00:00...2020-08-01 11:00:00+00:00...2020-08-01 12:00:00+00:00...2020-08-01 13:00:00+00:00...2020-08-01 14:00:00+00:00...2020-08-01 15:00:00+00:00...2020-08-01 16:00:00+00:00...2020-08-01 17:00:00+00:00...2020-08-01 18:00:00+00:00...2020-08-01 19:00:00+00:00...2020-08-01 20:00:00+00:00...2020-08-01 21:00:00+00:00...2020-08-01 22:00:00+00:00...2020-08-01 23:00:00+00:00...2020-08-02 00:00:00+00:00...2020-08-02 01:00:00+00:00...2020-08-02 02:00:00+00:00...2020-08-02 03:00:00+00:00...2020-08-02 04:00:00+00:00...2020-08-02 05:00:00+00:00...2020-08-02 06:00:00+00:00...2020-08-02 07:00:00+00:00...2020-08-02 08:00:00+00:00...2020-08-02 09:00:00+00:00...2020-08-02 10:00:00+00:00...2020-08-02 11:00:00+00:00...2020-08-02 12:00:00+00:00...2020-08-02 13:00:00+00:00...2020-08-02 14:00:00+00:00...2020-08-02 15:00:00+00:00...2020-08-02 16:00:00+00:00...2020-08-02 17:00:00+00:00...2020-08-02 18:00:00+00:00...2020-08-02 19:00:00+00:00...2020-08-02 20:00:00+00:00...2020-08-02 21:00:00+00:00...2020-08-02 22:00:00+00:00...2020-08-02 23:00:00+00:00...2020-08-03 00:00:00+00:00...2020-08-03 01:00:00+00:00...2020-08-03 02:00:00+00:00...2020-08-03 03:00:00+00:00..."
     ]
    }
   ],
   "source": [
    "c_max = 2200 #np.floor(all.generated_co2_rate_lb_per_mwh_for_electricity.max() + 100)\n",
    "\n",
    "hours = all.datetime_utc[(all.datetime_utc < pd.to_datetime(range_end)) & (all.datetime_utc > pd.to_datetime(range_start)) & (all.BA == \"CISO\")]\n",
    "for hour in hours:\n",
    "    print(hour, end=\"...\")\n",
    "    io_toplot = cleaned_io.loc[hour]\n",
    "    toplot = all[all.datetime_utc == hour]\n",
    "    fig = go.Figure()\n",
    "\n",
    "    toplot.loc[toplot.net_generation_mwh < 1, \"net_generation_mwh\"] = 1\n",
    "    sizes = np.log(toplot.net_generation_mwh)/np.log(1.5)\n",
    "    offset = sizes/2.5\n",
    "\n",
    "    colorscale = diverging.RdYlGn_r\n",
    "    #colorscale = cmocean.solar_r\n",
    "\n",
    "    ### From when \n",
    "    # max_width = io_toplot.max()\n",
    "    # width_factor = 8/max_width\n",
    "    #width_factor = 1/200\n",
    "    for name, val in io_toplot.iteritems():\n",
    "        if val <= 0: \n",
    "            continue \n",
    "        bas = name.split(\".\")[1].split(\"-\")\n",
    "        (ba1, ba2) = bas\n",
    "\n",
    "        next = False\n",
    "        for ba in bas: \n",
    "            if ba not in ba_coords.index:\n",
    "                next=True\n",
    "            if ba not in toplot.BA.unique():\n",
    "                next=True\n",
    "        if next:\n",
    "            continue\n",
    "\n",
    "        color = toplot.loc[toplot.BA == ba1, \"generated_co2_rate_lb_per_mwh_for_electricity\"].to_numpy()[0]\n",
    "\n",
    "        fig.add_trace(\n",
    "            go.Scatter(x = ba_coords.loc[bas,\"cx\"], y = ba_coords.loc[bas,\"cy\"], opacity=1.0,\n",
    "                mode=\"lines\", line = dict(color=get_color_for_val(color, 0, c_max, colorscale), width=2), showlegend=False\n",
    "            )\n",
    "        )\n",
    "\n",
    "    ################################# Plot BAs \n",
    "    toplot.loc[toplot.net_generation_mwh < 1, \"net_generation_mwh\"] = 1\n",
    "    sizes = np.log(toplot.net_generation_mwh)/np.log(1.5)\n",
    "    offset = sizes/1.6\n",
    "    fig.add_trace(\n",
    "        go.Scatter(x=toplot.cx, y=toplot.cy, mode=\"markers\", hoverinfo=\"text\", text=toplot.BA, \n",
    "            marker_symbol=\"triangle-up\", \n",
    "            opacity=1.0,\n",
    "            marker=dict(color=toplot.generated_co2_rate_lb_per_mwh_for_electricity, size=sizes,\n",
    "                sizemode='diameter', cmin=0, cmax=c_max, opacity=1.0,\n",
    "            colorscale=\"rdylgn_r\"),\n",
    "            name=\"Generated\",   \n",
    "            showlegend=False\n",
    "        )\n",
    "    )\n",
    "    consumed_toplot = ~toplot.consumed_co2_rate_lb_per_mwh_for_electricity.isna()\n",
    "    fig.add_trace(\n",
    "        go.Scatter(x=toplot.loc[consumed_toplot,\"cx\"], y=toplot.loc[consumed_toplot,\"cy\"]+offset[consumed_toplot], mode=\"markers\", \n",
    "            hoverinfo=\"text\", text=toplot.loc[consumed_toplot,\"BA\"], \n",
    "            marker_symbol=\"triangle-down\",\n",
    "            marker=dict(color=toplot.loc[consumed_toplot,\"consumed_co2_rate_lb_per_mwh_for_electricity\"], \n",
    "                size=sizes[consumed_toplot], opacity=1.0,\n",
    "                sizemode='diameter', cmin=0, cmax=c_max, colorbar=dict(\n",
    "                title=\"Emission rate<br>(lbs/MWh)\", orientation='v', len=.8, \n",
    "                thickness=20, yanchor='bottom', y=0, xpad=20\n",
    "            ),\n",
    "            colorscale=\"rdylgn_r\"),\n",
    "            name=\"Consumed\", \n",
    "            showlegend=False  \n",
    "        )\n",
    "    )\n",
    "\n",
    "    # Legends: don't want colored markers\n",
    "    fig.add_trace(\n",
    "        go.Scatter(x=[-10], y=[-10], mode=\"markers\", \n",
    "            marker_symbol=\"triangle-up\",\n",
    "            marker=dict(color='white', line=dict(width=2, color='DarkSlateGrey'), size=10),\n",
    "            name=\"Generated\",   \n",
    "        )\n",
    "    )\n",
    "    fig.add_trace(\n",
    "        go.Scatter(x=[-10], y=[-10], mode=\"markers\", \n",
    "            marker_symbol=\"triangle-down\",\n",
    "            marker=dict(color='white', line=dict(width=2, color='DarkSlateGrey'), size=10),\n",
    "            name=\"Consumed\",   \n",
    "        )\n",
    "    )\n",
    "    fig.update_yaxes(range=(550,0)) # autorange=\"reversed\")\n",
    "    fig.update_xaxes(range=(0,800))\n",
    "\n",
    "    # Add images\n",
    "    fig.add_layout_image(\n",
    "            dict(\n",
    "                source=Image.open(\"resources/usa.png\"),\n",
    "                xref=\"x\",\n",
    "                yref=\"y\",\n",
    "                x=10,\n",
    "                y=0,\n",
    "                sizex=790,\n",
    "                sizey=550,\n",
    "                sizing=\"stretch\",\n",
    "                opacity=0.5,\n",
    "                layer=\"below\")\n",
    "    )\n",
    "\n",
    "    # Set templates\n",
    "    fig.update_layout(template=\"plotly_white\", width=800, height=600, \n",
    "        yaxis_visible=False, xaxis_visible=False,\n",
    "        title=hour.tz_convert(\"US/Eastern\").strftime(\"%B %-d, %Y -- %I:00 %p ET\"))\n",
    "    #fig.show()\n",
    "    fig.write_image(f\"outputs/maps/{hour}.png\", scale=2)\n"
   ]
  },
  {
   "cell_type": "code",
   "execution_count": 146,
   "metadata": {},
   "outputs": [
    {
     "data": {
      "text/plain": [
       "'August 2, 2020 -- 06:00 PM EST'"
      ]
     },
     "execution_count": 146,
     "metadata": {},
     "output_type": "execute_result"
    }
   ],
   "source": [
    "hour.tz_convert(\"US/Eastern\").strftime(\"%B %-d, %Y -- %I:00 %p EST\")"
   ]
  },
  {
   "cell_type": "code",
   "execution_count": 163,
   "metadata": {},
   "outputs": [
    {
     "name": "stderr",
     "output_type": "stream",
     "text": [
      "/var/folders/mr/3dcnnc3153j6s05bmdwr0r0h0000gq/T/ipykernel_60611/3308845353.py:6: DeprecationWarning:\n",
      "\n",
      "Starting with ImageIO v3 the behavior of this function will switch to that of iio.v3.imread. To keep the current behavior (and make this warning dissapear) use `import imageio.v2 as imageio` or call `imageio.v2.imread` directly.\n",
      "\n"
     ]
    }
   ],
   "source": [
    "## Make gif \n",
    "images = []\n",
    "files = [f for f in os.listdir(\"outputs/maps/\") if \".png\" in f]\n",
    "files.sort()\n",
    "for f in files:\n",
    "    images.append(imageio.imread(\"outputs/maps/\"+f))\n",
    "imageio.mimsave(\"outputs/movie.gif\", images)"
   ]
  },
  {
   "cell_type": "code",
   "execution_count": 102,
   "metadata": {},
   "outputs": [],
   "source": [
    "# Now just CISO and neighbors. \n",
    "\n",
    "# Get list of CISO neighbors \n",
    "ciso_interchanges = [c for c in cleaned_io.columns if \"CISO\" in c]\n",
    "ciso_bas = []\n",
    "for ci in ciso_interchanges: \n",
    "    ba1, ba2 = ci.split(\".\")[1].split(\"-\")\n",
    "    if ba1 not in ciso_bas: \n",
    "        ciso_bas.append(ba1)\n",
    "    if ba2 not in ciso_bas:\n",
    "        ciso_bas.append(ba2)\n",
    "\n"
   ]
  },
  {
   "cell_type": "code",
   "execution_count": 103,
   "metadata": {},
   "outputs": [
    {
     "name": "stdout",
     "output_type": "stream",
     "text": [
      "['EBA.AZPS-CISO.ID.H', 'EBA.BANC-CISO.ID.H', 'EBA.BPAT-CISO.ID.H', 'EBA.CEN-CISO.ID.H', 'EBA.CISO-AZPS.ID.H', 'EBA.CISO-BANC.ID.H', 'EBA.CISO-BPAT.ID.H', 'EBA.CISO-CEN.ID.H', 'EBA.CISO-IID.ID.H', 'EBA.CISO-LDWP.ID.H', 'EBA.CISO-NEVP.ID.H', 'EBA.CISO-PACW.ID.H', 'EBA.CISO-SRP.ID.H', 'EBA.CISO-TIDC.ID.H', 'EBA.CISO-WALC.ID.H', 'EBA.IID-CISO.ID.H', 'EBA.LDWP-CISO.ID.H', 'EBA.NEVP-CISO.ID.H', 'EBA.PACW-CISO.ID.H', 'EBA.SRP-CISO.ID.H', 'EBA.TIDC-CISO.ID.H', 'EBA.WALC-CISO.ID.H']\n",
      "['AZPS', 'CISO', 'BANC', 'BPAT', 'CEN', 'IID', 'LDWP', 'NEVP', 'PACW', 'SRP', 'TIDC', 'WALC']\n"
     ]
    }
   ],
   "source": [
    "print(ciso_interchanges)\n",
    "print(ciso_bas)"
   ]
  },
  {
   "cell_type": "code",
   "execution_count": 151,
   "metadata": {},
   "outputs": [],
   "source": [
    "# Hour with max CISO difference generated / consumed \n",
    "hour = '2020-09-25 12:00:00+00:00'"
   ]
  },
  {
   "cell_type": "code",
   "execution_count": 152,
   "metadata": {},
   "outputs": [],
   "source": [
    "# src: https://community.plotly.com/t/how-to-include-a-colorscale-for-color-of-line-graphs/38002/3 \n",
    "from ast import literal_eval\n",
    "def get_color_for_val(val, vmin, vmax, pl_colors):\n",
    "    if pl_colors[0][:3] != 'rgb':\n",
    "        raise ValueError('This function works only with Plotly  rgb-colorscales')\n",
    "    if vmin >= vmax:\n",
    "        raise ValueError('vmin should be < vmax')\n",
    "\n",
    "    scale = [round(k / (len(pl_colors)), 3) for k in range(len(pl_colors) + 1)]\n",
    "\n",
    "    colors_01 = np.array([literal_eval(color[3:]) for color in pl_colors]) / 255  # color codes in [0,1]\n",
    "\n",
    "    v = (val - vmin) / (vmax - vmin)  # val is mapped to v in [0,1]\n",
    "    # find two consecutive values in plotly_scale such that   v is in  the corresponding interval\n",
    "    idx = 0\n",
    "\n",
    "    while (v > scale[idx + 1]):\n",
    "        idx += 1\n",
    "\n",
    "    vv = (v - scale[idx]) / (scale[idx + 1] - scale[idx])\n",
    "\n",
    "    # get   [0,1]-valued color code representing the rgb color corresponding to val\n",
    "    if idx == len(pl_colors)-1: # Make this work when some values exceed range\n",
    "        val_color01 = colors_01[idx] # color by last color \n",
    "    else: \n",
    "        val_color01 = colors_01[idx] + vv * (colors_01[idx + 1] - colors_01[idx])\n",
    "\n",
    "    val_color_0255 = (255 * val_color01 + 0.5).astype(int)\n",
    "    return f'rgb{str(tuple(val_color_0255))}'"
   ]
  },
  {
   "cell_type": "code",
   "execution_count": 158,
   "metadata": {},
   "outputs": [
    {
     "name": "stdout",
     "output_type": "stream",
     "text": [
      "2051.357942055572\n",
      "791.7235362136025\n",
      "494.285163780544\n",
      "486.6971936773157\n",
      "468.0531456179542\n",
      "1171.858214304538\n",
      "873.4998685340672\n",
      "725.9808186972756\n",
      "640.9137194410688\n",
      "742.8031879262338\n"
     ]
    },
    {
     "data": {
      "application/vnd.plotly.v1+json": {
       "config": {
        "plotlyServerURL": "https://plot.ly"
       },
       "data": [
        {
         "line": {
          "color": "rgb(165, 0, 38)",
          "width": 2
         },
         "mode": "lines",
         "opacity": 1,
         "showlegend": false,
         "type": "scatter",
         "x": [
          156,
          60
         ],
         "y": [
          316,
          270
         ]
        },
        {
         "line": {
          "color": "rgb(219, 240, 141)",
          "width": 2
         },
         "mode": "lines",
         "opacity": 1,
         "showlegend": false,
         "type": "scatter",
         "x": [
          36,
          60
         ],
         "y": [
          204,
          270
         ]
        },
        {
         "line": {
          "color": "rgb(136, 204, 103)",
          "width": 2
         },
         "mode": "lines",
         "opacity": 1,
         "showlegend": false,
         "type": "scatter",
         "x": [
          80,
          60
         ],
         "y": [
          100,
          270
         ]
        },
        {
         "line": {
          "color": "rgb(133, 203, 102)",
          "width": 2
         },
         "mode": "lines",
         "opacity": 1,
         "showlegend": false,
         "type": "scatter",
         "x": [
          60,
          44
         ],
         "y": [
          270,
          252
         ]
        },
        {
         "line": {
          "color": "rgb(127, 200, 102)",
          "width": 2
         },
         "mode": "lines",
         "opacity": 1,
         "showlegend": false,
         "type": "scatter",
         "x": [
          92,
          60
         ],
         "y": [
          334,
          270
         ]
        },
        {
         "line": {
          "color": "rgb(254, 224, 139)",
          "width": 2
         },
         "mode": "lines",
         "opacity": 1,
         "showlegend": false,
         "type": "scatter",
         "x": [
          76,
          60
         ],
         "y": [
          304,
          270
         ]
        },
        {
         "line": {
          "color": "rgb(235, 246, 163)",
          "width": 2
         },
         "mode": "lines",
         "opacity": 1,
         "showlegend": false,
         "type": "scatter",
         "x": [
          96,
          60
         ],
         "y": [
          210,
          270
         ]
        },
        {
         "line": {
          "color": "rgb(202, 233, 129)",
          "width": 2
         },
         "mode": "lines",
         "opacity": 1,
         "showlegend": false,
         "type": "scatter",
         "x": [
          56,
          60
         ],
         "y": [
          130,
          270
         ]
        },
        {
         "line": {
          "color": "rgb(180, 223, 115)",
          "width": 2
         },
         "mode": "lines",
         "opacity": 1,
         "showlegend": false,
         "type": "scatter",
         "x": [
          172,
          60
         ],
         "y": [
          344,
          270
         ]
        },
        {
         "line": {
          "color": "rgb(207, 234, 132)",
          "width": 2
         },
         "mode": "lines",
         "opacity": 1,
         "showlegend": false,
         "type": "scatter",
         "x": [
          132,
          60
         ],
         "y": [
          290,
          270
         ]
        },
        {
         "hoverinfo": "text",
         "marker": {
          "cmax": 2151,
          "cmin": 0,
          "color": [
           2051.357942055572,
           791.7235362136025,
           494.285163780544,
           486.6971936773157,
           468.0531456179542,
           1171.858214304538,
           873.4998685340672,
           725.9808186972756,
           640.9137194410688,
           803.2349460244594,
           742.8031879262338
          ],
          "colorscale": [
           [
            0,
            "rgb(0,104,55)"
           ],
           [
            0.1,
            "rgb(26,152,80)"
           ],
           [
            0.2,
            "rgb(102,189,99)"
           ],
           [
            0.3,
            "rgb(166,217,106)"
           ],
           [
            0.4,
            "rgb(217,239,139)"
           ],
           [
            0.5,
            "rgb(255,255,191)"
           ],
           [
            0.6,
            "rgb(254,224,139)"
           ],
           [
            0.7,
            "rgb(253,174,97)"
           ],
           [
            0.8,
            "rgb(244,109,67)"
           ],
           [
            0.9,
            "rgb(215,48,39)"
           ],
           [
            1,
            "rgb(165,0,38)"
           ]
          ],
          "opacity": 1,
          "size": [
           19.325228272912977,
           16.36314885355879,
           22.59245029954494,
           23.418958255192983,
           15.682376524735092,
           18.61611998400732,
           20.071406755231234,
           16.237026056073457,
           22.348026254531856,
           13.886773891312576,
           17.565260471290816
          ],
          "sizemode": "diameter",
          "symbol": "triangle-up"
         },
         "mode": "markers",
         "name": "Generated",
         "opacity": 1,
         "showlegend": false,
         "text": [
          "AZPS",
          "BANC",
          "BPAT",
          "CISO",
          "IID",
          "LDWP",
          "NEVP",
          "PACW",
          "SRP",
          "TIDC",
          "WALC"
         ],
         "type": "scatter",
         "x": [
          156,
          36,
          80,
          60,
          92,
          76,
          96,
          56,
          172,
          44,
          132
         ],
         "y": [
          303.9217323294294,
          193.77303196652576,
          85.87971856278442,
          255.36315109050437,
          324.1985146720406,
          292.36492500999543,
          197.45537077798048,
          119.85185871495409,
          330.0324835909176,
          243.32076631792964,
          279.02171220544324
         ]
        },
        {
         "hoverinfo": "text",
         "marker": {
          "cmax": 2151,
          "cmin": 0,
          "color": [
           1267.5099268580736,
           599.5962386106388,
           439.17378088067727,
           623.8642669291678,
           475.3662646734514,
           935.8739739952548,
           937.6182516410256,
           717.9423448955406,
           656.1877863245174,
           764.2868097927897,
           1064.4899431056056
          ],
          "colorbar": {
           "len": 0.8,
           "orientation": "v",
           "thickness": 20,
           "title": {
            "text": "Emission rate<br>(lbs/MWh)"
           },
           "xpad": 20,
           "y": 0,
           "yanchor": "bottom"
          },
          "colorscale": [
           [
            0,
            "rgb(0,104,55)"
           ],
           [
            0.1,
            "rgb(26,152,80)"
           ],
           [
            0.2,
            "rgb(102,189,99)"
           ],
           [
            0.3,
            "rgb(166,217,106)"
           ],
           [
            0.4,
            "rgb(217,239,139)"
           ],
           [
            0.5,
            "rgb(255,255,191)"
           ],
           [
            0.6,
            "rgb(254,224,139)"
           ],
           [
            0.7,
            "rgb(253,174,97)"
           ],
           [
            0.8,
            "rgb(244,109,67)"
           ],
           [
            0.9,
            "rgb(215,48,39)"
           ],
           [
            1,
            "rgb(165,0,38)"
           ]
          ],
          "opacity": 1,
          "size": [
           19.325228272912977,
           16.36314885355879,
           22.59245029954494,
           23.418958255192983,
           15.682376524735092,
           18.61611998400732,
           20.071406755231234,
           16.237026056073457,
           22.348026254531856,
           13.886773891312576,
           17.565260471290816
          ],
          "sizemode": "diameter",
          "symbol": "triangle-down"
         },
         "mode": "markers",
         "name": "Consumed",
         "showlegend": false,
         "text": [
          "AZPS",
          "BANC",
          "BPAT",
          "CISO",
          "IID",
          "LDWP",
          "NEVP",
          "PACW",
          "SRP",
          "TIDC",
          "WALC"
         ],
         "type": "scatter",
         "x": [
          156,
          36,
          80,
          60,
          92,
          76,
          96,
          56,
          172,
          44,
          132
         ],
         "y": [
          316,
          204,
          100,
          270,
          334,
          304,
          210,
          130,
          344,
          252,
          290
         ]
        },
        {
         "marker": {
          "color": "white",
          "line": {
           "color": "DarkSlateGrey",
           "width": 2
          },
          "size": 10,
          "symbol": "triangle-up"
         },
         "mode": "markers",
         "name": "Generated",
         "type": "scatter",
         "x": [
          -10
         ],
         "y": [
          -10
         ]
        },
        {
         "marker": {
          "color": "white",
          "line": {
           "color": "DarkSlateGrey",
           "width": 2
          },
          "size": 10,
          "symbol": "triangle-down"
         },
         "mode": "markers",
         "name": "Consumed",
         "type": "scatter",
         "x": [
          -10
         ],
         "y": [
          -10
         ]
        }
       ],
       "layout": {
        "annotations": [
         {
          "showarrow": false,
          "text": "AZPS",
          "x": 168,
          "xanchor": "left",
          "y": 316
         },
         {
          "showarrow": false,
          "text": "BANC",
          "x": 24,
          "xanchor": "right",
          "y": 204
         },
         {
          "showarrow": false,
          "text": "BPAT",
          "x": 92,
          "xanchor": "left",
          "y": 100
         },
         {
          "showarrow": false,
          "text": "CISO",
          "x": 48,
          "xanchor": "right",
          "y": 270
         },
         {
          "showarrow": false,
          "text": "IID",
          "x": 80,
          "xanchor": "right",
          "y": 334
         },
         {
          "showarrow": false,
          "text": "LDWP",
          "x": 64,
          "xanchor": "right",
          "y": 304
         },
         {
          "showarrow": false,
          "text": "NEVP",
          "x": 108,
          "xanchor": "left",
          "y": 210
         },
         {
          "showarrow": false,
          "text": "PACW",
          "x": 68,
          "xanchor": "left",
          "y": 130
         },
         {
          "showarrow": false,
          "text": "SRP",
          "x": 184,
          "xanchor": "left",
          "y": 344
         },
         {
          "showarrow": false,
          "text": "TIDC",
          "x": 32,
          "xanchor": "right",
          "y": 252
         },
         {
          "showarrow": false,
          "text": "WALC",
          "x": 144,
          "xanchor": "left",
          "y": 290
         }
        ],
        "height": 500,
        "images": [
         {
          "layer": "below",
          "opacity": 0.5,
          "sizex": 790,
          "sizey": 550,
          "sizing": "stretch",
          "source": "data:image/png;base64,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",
          "x": 10,
          "xref": "x",
          "y": 0,
          "yref": "y"
         }
        ],
        "template": {
         "data": {
          "bar": [
           {
            "error_x": {
             "color": "#2a3f5f"
            },
            "error_y": {
             "color": "#2a3f5f"
            },
            "marker": {
             "line": {
              "color": "white",
              "width": 0.5
             },
             "pattern": {
              "fillmode": "overlay",
              "size": 10,
              "solidity": 0.2
             }
            },
            "type": "bar"
           }
          ],
          "barpolar": [
           {
            "marker": {
             "line": {
              "color": "white",
              "width": 0.5
             },
             "pattern": {
              "fillmode": "overlay",
              "size": 10,
              "solidity": 0.2
             }
            },
            "type": "barpolar"
           }
          ],
          "carpet": [
           {
            "aaxis": {
             "endlinecolor": "#2a3f5f",
             "gridcolor": "#C8D4E3",
             "linecolor": "#C8D4E3",
             "minorgridcolor": "#C8D4E3",
             "startlinecolor": "#2a3f5f"
            },
            "baxis": {
             "endlinecolor": "#2a3f5f",
             "gridcolor": "#C8D4E3",
             "linecolor": "#C8D4E3",
             "minorgridcolor": "#C8D4E3",
             "startlinecolor": "#2a3f5f"
            },
            "type": "carpet"
           }
          ],
          "choropleth": [
           {
            "colorbar": {
             "outlinewidth": 0,
             "ticks": ""
            },
            "type": "choropleth"
           }
          ],
          "contour": [
           {
            "colorbar": {
             "outlinewidth": 0,
             "ticks": ""
            },
            "colorscale": [
             [
              0,
              "#0d0887"
             ],
             [
              0.1111111111111111,
              "#46039f"
             ],
             [
              0.2222222222222222,
              "#7201a8"
             ],
             [
              0.3333333333333333,
              "#9c179e"
             ],
             [
              0.4444444444444444,
              "#bd3786"
             ],
             [
              0.5555555555555556,
              "#d8576b"
             ],
             [
              0.6666666666666666,
              "#ed7953"
             ],
             [
              0.7777777777777778,
              "#fb9f3a"
             ],
             [
              0.8888888888888888,
              "#fdca26"
             ],
             [
              1,
              "#f0f921"
             ]
            ],
            "type": "contour"
           }
          ],
          "contourcarpet": [
           {
            "colorbar": {
             "outlinewidth": 0,
             "ticks": ""
            },
            "type": "contourcarpet"
           }
          ],
          "heatmap": [
           {
            "colorbar": {
             "outlinewidth": 0,
             "ticks": ""
            },
            "colorscale": [
             [
              0,
              "#0d0887"
             ],
             [
              0.1111111111111111,
              "#46039f"
             ],
             [
              0.2222222222222222,
              "#7201a8"
             ],
             [
              0.3333333333333333,
              "#9c179e"
             ],
             [
              0.4444444444444444,
              "#bd3786"
             ],
             [
              0.5555555555555556,
              "#d8576b"
             ],
             [
              0.6666666666666666,
              "#ed7953"
             ],
             [
              0.7777777777777778,
              "#fb9f3a"
             ],
             [
              0.8888888888888888,
              "#fdca26"
             ],
             [
              1,
              "#f0f921"
             ]
            ],
            "type": "heatmap"
           }
          ],
          "heatmapgl": [
           {
            "colorbar": {
             "outlinewidth": 0,
             "ticks": ""
            },
            "colorscale": [
             [
              0,
              "#0d0887"
             ],
             [
              0.1111111111111111,
              "#46039f"
             ],
             [
              0.2222222222222222,
              "#7201a8"
             ],
             [
              0.3333333333333333,
              "#9c179e"
             ],
             [
              0.4444444444444444,
              "#bd3786"
             ],
             [
              0.5555555555555556,
              "#d8576b"
             ],
             [
              0.6666666666666666,
              "#ed7953"
             ],
             [
              0.7777777777777778,
              "#fb9f3a"
             ],
             [
              0.8888888888888888,
              "#fdca26"
             ],
             [
              1,
              "#f0f921"
             ]
            ],
            "type": "heatmapgl"
           }
          ],
          "histogram": [
           {
            "marker": {
             "pattern": {
              "fillmode": "overlay",
              "size": 10,
              "solidity": 0.2
             }
            },
            "type": "histogram"
           }
          ],
          "histogram2d": [
           {
            "colorbar": {
             "outlinewidth": 0,
             "ticks": ""
            },
            "colorscale": [
             [
              0,
              "#0d0887"
             ],
             [
              0.1111111111111111,
              "#46039f"
             ],
             [
              0.2222222222222222,
              "#7201a8"
             ],
             [
              0.3333333333333333,
              "#9c179e"
             ],
             [
              0.4444444444444444,
              "#bd3786"
             ],
             [
              0.5555555555555556,
              "#d8576b"
             ],
             [
              0.6666666666666666,
              "#ed7953"
             ],
             [
              0.7777777777777778,
              "#fb9f3a"
             ],
             [
              0.8888888888888888,
              "#fdca26"
             ],
             [
              1,
              "#f0f921"
             ]
            ],
            "type": "histogram2d"
           }
          ],
          "histogram2dcontour": [
           {
            "colorbar": {
             "outlinewidth": 0,
             "ticks": ""
            },
            "colorscale": [
             [
              0,
              "#0d0887"
             ],
             [
              0.1111111111111111,
              "#46039f"
             ],
             [
              0.2222222222222222,
              "#7201a8"
             ],
             [
              0.3333333333333333,
              "#9c179e"
             ],
             [
              0.4444444444444444,
              "#bd3786"
             ],
             [
              0.5555555555555556,
              "#d8576b"
             ],
             [
              0.6666666666666666,
              "#ed7953"
             ],
             [
              0.7777777777777778,
              "#fb9f3a"
             ],
             [
              0.8888888888888888,
              "#fdca26"
             ],
             [
              1,
              "#f0f921"
             ]
            ],
            "type": "histogram2dcontour"
           }
          ],
          "mesh3d": [
           {
            "colorbar": {
             "outlinewidth": 0,
             "ticks": ""
            },
            "type": "mesh3d"
           }
          ],
          "parcoords": [
           {
            "line": {
             "colorbar": {
              "outlinewidth": 0,
              "ticks": ""
             }
            },
            "type": "parcoords"
           }
          ],
          "pie": [
           {
            "automargin": true,
            "type": "pie"
           }
          ],
          "scatter": [
           {
            "marker": {
             "colorbar": {
              "outlinewidth": 0,
              "ticks": ""
             }
            },
            "type": "scatter"
           }
          ],
          "scatter3d": [
           {
            "line": {
             "colorbar": {
              "outlinewidth": 0,
              "ticks": ""
             }
            },
            "marker": {
             "colorbar": {
              "outlinewidth": 0,
              "ticks": ""
             }
            },
            "type": "scatter3d"
           }
          ],
          "scattercarpet": [
           {
            "marker": {
             "colorbar": {
              "outlinewidth": 0,
              "ticks": ""
             }
            },
            "type": "scattercarpet"
           }
          ],
          "scattergeo": [
           {
            "marker": {
             "colorbar": {
              "outlinewidth": 0,
              "ticks": ""
             }
            },
            "type": "scattergeo"
           }
          ],
          "scattergl": [
           {
            "marker": {
             "colorbar": {
              "outlinewidth": 0,
              "ticks": ""
             }
            },
            "type": "scattergl"
           }
          ],
          "scattermapbox": [
           {
            "marker": {
             "colorbar": {
              "outlinewidth": 0,
              "ticks": ""
             }
            },
            "type": "scattermapbox"
           }
          ],
          "scatterpolar": [
           {
            "marker": {
             "colorbar": {
              "outlinewidth": 0,
              "ticks": ""
             }
            },
            "type": "scatterpolar"
           }
          ],
          "scatterpolargl": [
           {
            "marker": {
             "colorbar": {
              "outlinewidth": 0,
              "ticks": ""
             }
            },
            "type": "scatterpolargl"
           }
          ],
          "scatterternary": [
           {
            "marker": {
             "colorbar": {
              "outlinewidth": 0,
              "ticks": ""
             }
            },
            "type": "scatterternary"
           }
          ],
          "surface": [
           {
            "colorbar": {
             "outlinewidth": 0,
             "ticks": ""
            },
            "colorscale": [
             [
              0,
              "#0d0887"
             ],
             [
              0.1111111111111111,
              "#46039f"
             ],
             [
              0.2222222222222222,
              "#7201a8"
             ],
             [
              0.3333333333333333,
              "#9c179e"
             ],
             [
              0.4444444444444444,
              "#bd3786"
             ],
             [
              0.5555555555555556,
              "#d8576b"
             ],
             [
              0.6666666666666666,
              "#ed7953"
             ],
             [
              0.7777777777777778,
              "#fb9f3a"
             ],
             [
              0.8888888888888888,
              "#fdca26"
             ],
             [
              1,
              "#f0f921"
             ]
            ],
            "type": "surface"
           }
          ],
          "table": [
           {
            "cells": {
             "fill": {
              "color": "#EBF0F8"
             },
             "line": {
              "color": "white"
             }
            },
            "header": {
             "fill": {
              "color": "#C8D4E3"
             },
             "line": {
              "color": "white"
             }
            },
            "type": "table"
           }
          ]
         },
         "layout": {
          "annotationdefaults": {
           "arrowcolor": "#2a3f5f",
           "arrowhead": 0,
           "arrowwidth": 1
          },
          "autotypenumbers": "strict",
          "coloraxis": {
           "colorbar": {
            "outlinewidth": 0,
            "ticks": ""
           }
          },
          "colorscale": {
           "diverging": [
            [
             0,
             "#8e0152"
            ],
            [
             0.1,
             "#c51b7d"
            ],
            [
             0.2,
             "#de77ae"
            ],
            [
             0.3,
             "#f1b6da"
            ],
            [
             0.4,
             "#fde0ef"
            ],
            [
             0.5,
             "#f7f7f7"
            ],
            [
             0.6,
             "#e6f5d0"
            ],
            [
             0.7,
             "#b8e186"
            ],
            [
             0.8,
             "#7fbc41"
            ],
            [
             0.9,
             "#4d9221"
            ],
            [
             1,
             "#276419"
            ]
           ],
           "sequential": [
            [
             0,
             "#0d0887"
            ],
            [
             0.1111111111111111,
             "#46039f"
            ],
            [
             0.2222222222222222,
             "#7201a8"
            ],
            [
             0.3333333333333333,
             "#9c179e"
            ],
            [
             0.4444444444444444,
             "#bd3786"
            ],
            [
             0.5555555555555556,
             "#d8576b"
            ],
            [
             0.6666666666666666,
             "#ed7953"
            ],
            [
             0.7777777777777778,
             "#fb9f3a"
            ],
            [
             0.8888888888888888,
             "#fdca26"
            ],
            [
             1,
             "#f0f921"
            ]
           ],
           "sequentialminus": [
            [
             0,
             "#0d0887"
            ],
            [
             0.1111111111111111,
             "#46039f"
            ],
            [
             0.2222222222222222,
             "#7201a8"
            ],
            [
             0.3333333333333333,
             "#9c179e"
            ],
            [
             0.4444444444444444,
             "#bd3786"
            ],
            [
             0.5555555555555556,
             "#d8576b"
            ],
            [
             0.6666666666666666,
             "#ed7953"
            ],
            [
             0.7777777777777778,
             "#fb9f3a"
            ],
            [
             0.8888888888888888,
             "#fdca26"
            ],
            [
             1,
             "#f0f921"
            ]
           ]
          },
          "colorway": [
           "#636efa",
           "#EF553B",
           "#00cc96",
           "#ab63fa",
           "#FFA15A",
           "#19d3f3",
           "#FF6692",
           "#B6E880",
           "#FF97FF",
           "#FECB52"
          ],
          "font": {
           "color": "#2a3f5f"
          },
          "geo": {
           "bgcolor": "white",
           "lakecolor": "white",
           "landcolor": "white",
           "showlakes": true,
           "showland": true,
           "subunitcolor": "#C8D4E3"
          },
          "hoverlabel": {
           "align": "left"
          },
          "hovermode": "closest",
          "mapbox": {
           "style": "light"
          },
          "paper_bgcolor": "white",
          "plot_bgcolor": "white",
          "polar": {
           "angularaxis": {
            "gridcolor": "#EBF0F8",
            "linecolor": "#EBF0F8",
            "ticks": ""
           },
           "bgcolor": "white",
           "radialaxis": {
            "gridcolor": "#EBF0F8",
            "linecolor": "#EBF0F8",
            "ticks": ""
           }
          },
          "scene": {
           "xaxis": {
            "backgroundcolor": "white",
            "gridcolor": "#DFE8F3",
            "gridwidth": 2,
            "linecolor": "#EBF0F8",
            "showbackground": true,
            "ticks": "",
            "zerolinecolor": "#EBF0F8"
           },
           "yaxis": {
            "backgroundcolor": "white",
            "gridcolor": "#DFE8F3",
            "gridwidth": 2,
            "linecolor": "#EBF0F8",
            "showbackground": true,
            "ticks": "",
            "zerolinecolor": "#EBF0F8"
           },
           "zaxis": {
            "backgroundcolor": "white",
            "gridcolor": "#DFE8F3",
            "gridwidth": 2,
            "linecolor": "#EBF0F8",
            "showbackground": true,
            "ticks": "",
            "zerolinecolor": "#EBF0F8"
           }
          },
          "shapedefaults": {
           "line": {
            "color": "#2a3f5f"
           }
          },
          "ternary": {
           "aaxis": {
            "gridcolor": "#DFE8F3",
            "linecolor": "#A2B1C6",
            "ticks": ""
           },
           "baxis": {
            "gridcolor": "#DFE8F3",
            "linecolor": "#A2B1C6",
            "ticks": ""
           },
           "bgcolor": "white",
           "caxis": {
            "gridcolor": "#DFE8F3",
            "linecolor": "#A2B1C6",
            "ticks": ""
           }
          },
          "title": {
           "x": 0.05
          },
          "xaxis": {
           "automargin": true,
           "gridcolor": "#EBF0F8",
           "linecolor": "#EBF0F8",
           "ticks": "",
           "title": {
            "standoff": 15
           },
           "zerolinecolor": "#EBF0F8",
           "zerolinewidth": 2
          },
          "yaxis": {
           "automargin": true,
           "gridcolor": "#EBF0F8",
           "linecolor": "#EBF0F8",
           "ticks": "",
           "title": {
            "standoff": 15
           },
           "zerolinecolor": "#EBF0F8",
           "zerolinewidth": 2
          }
         }
        },
        "title": {
         "text": "September 25, 2020 -- 05:00 AM PT"
        },
        "width": 400,
        "xaxis": {
         "range": [
          0,
          200
         ],
         "visible": false
        },
        "yaxis": {
         "range": [
          420,
          0
         ],
         "visible": false
        }
       }
      }
     },
     "metadata": {},
     "output_type": "display_data"
    }
   ],
   "source": [
    "io_toplot = cleaned_io.loc[hour, ciso_interchanges]\n",
    "toplot = all[all.datetime_utc == hour]\n",
    "toplot = toplot[toplot.BA.isin(ciso_bas)]\n",
    "fig = go.Figure()\n",
    "\n",
    "colorscale = diverging.RdYlGn_r\n",
    "#colorscale = cmocean.solar_r\n",
    "\n",
    "c_max = np.floor(toplot.generated_co2_rate_lb_per_mwh_for_electricity.max() + 100)\n",
    "\n",
    "### From when \n",
    "# max_width = io_toplot.max()\n",
    "# width_factor = 8/max_width\n",
    "#width_factor = 1/200\n",
    "for name, val in io_toplot.iteritems():\n",
    "    if val <= 0: \n",
    "        continue \n",
    "    bas = name.split(\".\")[1].split(\"-\")\n",
    "    (ba1, ba2) = bas\n",
    "\n",
    "    next = False\n",
    "    for ba in bas: \n",
    "        if ba not in ba_coords.index:\n",
    "            next=True\n",
    "        if ba not in toplot.BA.unique():\n",
    "            next=True\n",
    "    if next:\n",
    "        continue\n",
    "\n",
    "    color = toplot.loc[toplot.BA == ba1, \"generated_co2_rate_lb_per_mwh_for_electricity\"].to_numpy()[0]\n",
    "    print(color)\n",
    "\n",
    "    fig.add_trace(\n",
    "        go.Scatter(x = ba_coords.loc[bas,\"cx\"], y = ba_coords.loc[bas,\"cy\"], opacity=1.0,\n",
    "            mode=\"lines\", line = dict(color=get_color_for_val(color, 0, c_max, colorscale), width=2), showlegend=False\n",
    "        )\n",
    "    )\n",
    "\n",
    "################################# Plot BAs \n",
    "toplot.loc[toplot.net_generation_mwh < 1, \"net_generation_mwh\"] = 1\n",
    "sizes = np.log(toplot.net_generation_mwh)/np.log(1.5)\n",
    "offset = sizes/1.6\n",
    "fig.add_trace(\n",
    "    go.Scatter(x=toplot.cx, y=toplot.cy-offset, mode=\"markers\", hoverinfo=\"text\", text=toplot.BA, \n",
    "        marker_symbol=\"triangle-up\", \n",
    "        opacity=1.0,\n",
    "        marker=dict(color=toplot.generated_co2_rate_lb_per_mwh_for_electricity, size=sizes,\n",
    "            sizemode='diameter', cmin=0, cmax=c_max, opacity=1.0,\n",
    "        colorscale=\"rdylgn_r\"),\n",
    "        name=\"Generated\",   \n",
    "        showlegend=False\n",
    "    )\n",
    ")\n",
    "fig.add_trace(\n",
    "    go.Scatter(x=toplot.cx, y=toplot.cy, mode=\"markers\", hoverinfo=\"text\", text=toplot.BA, \n",
    "        marker_symbol=\"triangle-down\",\n",
    "        marker=dict(color=toplot.consumed_co2_rate_lb_per_mwh_for_electricity, size=sizes, opacity=1.0,\n",
    "            sizemode='diameter', cmin=0, cmax=c_max, colorbar=dict(\n",
    "            title=\"Emission rate<br>(lbs/MWh)\", orientation='v', len=.8, thickness=20, yanchor='bottom', y=0, xpad=20\n",
    "        ),\n",
    "        colorscale=\"rdylgn_r\"),\n",
    "        name=\"Consumed\", \n",
    "        showlegend=False  \n",
    "    )\n",
    ")\n",
    "\n",
    "\n",
    "# Legends: don't want colored markers\n",
    "# Legends: don't want colored markers\n",
    "fig.add_trace(\n",
    "    go.Scatter(x=[-10], y=[-10], mode=\"markers\", \n",
    "        marker_symbol=\"triangle-up\",\n",
    "        marker=dict(color='white', line=dict(width=2, color='DarkSlateGrey'), size=10),\n",
    "        name=\"Generated\",   \n",
    "    )\n",
    ")\n",
    "fig.add_trace(\n",
    "    go.Scatter(x=[-10], y=[-10], mode=\"markers\", \n",
    "        marker_symbol=\"triangle-down\",\n",
    "        marker=dict(color='white', line=dict(width=2, color='DarkSlateGrey'), size=10),\n",
    "        name=\"Consumed\",   \n",
    "    )\n",
    ")\n",
    "fig.update_yaxes(range=(420,0)) # autorange=\"reversed\")\n",
    "fig.update_xaxes(range=(0,200))\n",
    "\n",
    "## loop through the labels and add them as annotations\n",
    "for x in zip(toplot.BA, toplot.cx, toplot.cy):\n",
    "    left_bas = [\"BANC\",\"TIDC\",\"CISO\",\"LDWP\",\"IID\"]\n",
    "    delta = (-12 if x[0] in left_bas else 12)\n",
    "    fig.add_annotation(\n",
    "        x=x[1] + delta,\n",
    "        y=x[2],\n",
    "        text=x[0],\n",
    "        showarrow=False,\n",
    "        xanchor=('right' if x[0] in left_bas else 'left')\n",
    "    )\n",
    "\n",
    "# Add images\n",
    "fig.add_layout_image(\n",
    "        dict(\n",
    "            source=Image.open(\"resources/usa.png\"),\n",
    "            xref=\"x\",\n",
    "            yref=\"y\",\n",
    "            x=10,\n",
    "            y=0,\n",
    "            sizex=790,\n",
    "            sizey=550,\n",
    "            sizing=\"stretch\",\n",
    "            opacity=0.5,\n",
    "            layer=\"below\")\n",
    ")\n",
    "\n",
    "# Set templates\n",
    "fig.update_layout(template=\"plotly_white\", width=400, height=500,\n",
    "    yaxis_visible=False, xaxis_visible=False,\n",
    "    title=pd.to_datetime(hour).tz_convert(\"US/Pacific\").strftime(\"%B %-d, %Y -- %I:00 %p PT\")\n",
    ")\n",
    "fig.show()\n",
    "fig.write_image(f\"outputs/viz2.png\", scale=3) "
   ]
  },
  {
   "cell_type": "code",
   "execution_count": null,
   "metadata": {},
   "outputs": [],
   "source": [
    "diverging.RdYlGn_r"
   ]
  },
  {
   "cell_type": "code",
   "execution_count": null,
   "metadata": {},
   "outputs": [],
   "source": [
    "import kaleido"
   ]
  },
  {
   "cell_type": "code",
   "execution_count": null,
   "metadata": {},
   "outputs": [],
   "source": [
    "### Old code for arrows\n",
    "    # # Arrows have to be added separately\n",
    "    # line_size = val*width_factor\n",
    "    # fig.add_annotation(\n",
    "    #     x=ba_coords.loc[ba2,\"cx\"],  # arrows' head\n",
    "    #     y=ba_coords.loc[ba2,\"cy\"],  # arrows' head\n",
    "    #     ax=ba_coords.loc[ba1,\"cx\"],  # arrows' tail\n",
    "    #     ay=ba_coords.loc[ba1,\"cy\"],  # arrows' tail\n",
    "    #     xref='x',\n",
    "    #     yref='y',\n",
    "    #     axref='x',\n",
    "    #     ayref='y',\n",
    "    #     text='',  # if you want only the arrow\n",
    "    #     showarrow=True,\n",
    "    #     arrowhead=1,\n",
    "    #     arrowsize=1, #max(.3, line_size),\n",
    "    #     arrowwidth=1,\n",
    "    #     arrowcolor='royalblue'\n",
    "    # )"
   ]
  },
  {
   "cell_type": "code",
   "execution_count": null,
   "metadata": {},
   "outputs": [],
   "source": []
  }
 ],
 "metadata": {
  "kernelspec": {
   "display_name": "Python 3.10.5 ('hourly_egrid')",
   "language": "python",
   "name": "python3"
  },
  "language_info": {
   "codemirror_mode": {
    "name": "ipython",
    "version": 3
   },
   "file_extension": ".py",
   "mimetype": "text/x-python",
   "name": "python",
   "nbconvert_exporter": "python",
   "pygments_lexer": "ipython3",
   "version": "3.10.5"
  },
  "orig_nbformat": 4,
  "vscode": {
   "interpreter": {
    "hash": "65c02dfd2dc2ef471c0b5088763a28c1faaa7cad28937ca42fadf51e669fd8e8"
   }
  }
 },
 "nbformat": 4,
 "nbformat_minor": 2
}
