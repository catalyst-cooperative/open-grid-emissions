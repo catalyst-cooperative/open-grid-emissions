{
 "cells": [
  {
   "cell_type": "markdown",
   "metadata": {},
   "source": [
    "# Maps for announcement blog post\n",
    "\n",
    "Visualization 2: The carbon intensity of consumed electricity differs from generated electricity\n",
    "* Show a static carbon flow map focused on a single BA plus all directly-interconnected BAs\n",
    "* Pick an hour when there is some particularly dirty electricity getting imported\n",
    "* Each BA would be represented by a bubble, where the color changes based on carbon intensity, and carbon flows would be represented by colored arrows between the bubbles. \n",
    "* To illustrate the difference between produced and consumed, we might want to have a pair of bubbles for each BA - one that shows the produced CI and one that shows the consumed CI. If we do this, we probably don’t want to vary the size of each bubble based on total generation. Or maybe we could do a split bubble - the top half shows produced CI and the bottom shows consumed CI.\n",
    "\n",
    "\n",
    "Visualization 3: Animating hourly and consumed emissions for the whole county\n",
    "* This animation should put the previous two concepts together and show how carbon flows and how CI changes across the entire country for a single day (or a week?)\n",
    "* We could also potentially have two maps side by side: one that shows annual averages in bubbles (with no carbon flow), and one that shows the animated hourly flow (to really draw the distinction between annual and hourly datasets)\n",
    "\n",
    "\n",
    "### Ref for making gif: \n",
    "`https://stackoverflow.com/questions/753190/programmatically-generate-video-or-animated-gif-in-python`"
   ]
  },
  {
   "cell_type": "code",
   "execution_count": 2,
   "metadata": {},
   "outputs": [],
   "source": [
    "import plotly.express as px\n",
    "import plotly.graph_objects as go\n",
    "from plotly.colors import * \n",
    "import plotly.io as pio\n",
    "import os\n",
    "import pandas as pd\n",
    "import numpy as np\n"
   ]
  },
  {
   "cell_type": "code",
   "execution_count": 3,
   "metadata": {},
   "outputs": [],
   "source": [
    "%reload_ext autoreload\n",
    "%autoreload 2\n",
    "\n",
    "# # Tell python where to look for modules.\n",
    "import sys\n",
    "\n",
    "sys.path.append(\"../../src/\")\n",
    "\n",
    "import output_data"
   ]
  },
  {
   "cell_type": "code",
   "execution_count": 4,
   "metadata": {},
   "outputs": [],
   "source": [
    "ba_coords = pd.read_csv(\"resources/ba_coords.csv\", index_col=0, dtype={\"cx\":np.float64, \"cy\":np.float64})\n",
    "ba_meta = pd.read_csv(\"../../data/manual/ba_reference.csv\", index_col=0)"
   ]
  },
  {
   "cell_type": "code",
   "execution_count": 5,
   "metadata": {},
   "outputs": [],
   "source": [
    "# Note: 150+ BAs are not in ba_coords\n",
    "ba_list = ba_meta[(ba_meta.ba_category != \"misellaneous\") & (ba_meta.us_ba) & (ba_meta.index.isin(ba_coords.index))].index\n",
    "ba_list = [ba for ba in ba_list if (f\"{ba}.csv\" in os.listdir(\"../../data/results/2020/power_sector_data/hourly/us_units/\"))]"
   ]
  },
  {
   "cell_type": "code",
   "execution_count": 6,
   "metadata": {},
   "outputs": [],
   "source": [
    "hour = \"2020-08-01T00:00+00\"\n",
    "range_start = \"2020-08-01T00:00+00\"\n",
    "range_end = \"2020-08-7T23:00+00\""
   ]
  },
  {
   "cell_type": "code",
   "execution_count": 7,
   "metadata": {},
   "outputs": [],
   "source": [
    "cleaned_io = pd.read_csv(\"../../data/outputs/2020/eia930/eia930_elec.csv\", index_col=0, parse_dates=True)\n",
    "cleaned_io = cleaned_io[[c for c in cleaned_io.columns if \".ID.\" in c]]"
   ]
  },
  {
   "cell_type": "code",
   "execution_count": 8,
   "metadata": {},
   "outputs": [],
   "source": [
    "ID_COL = \"EBA.%s-%s.ID.H\""
   ]
  },
  {
   "cell_type": "code",
   "execution_count": 9,
   "metadata": {},
   "outputs": [],
   "source": [
    "all = []\n",
    "for ba in ba_list:\n",
    "    produced = pd.read_csv(f\"../../data/results/2020/power_sector_data/hourly/us_units/{ba}.csv\", index_col=\"datetime_utc\", parse_dates=True, usecols=[\"datetime_utc\",\"fuel_category\", \"net_generation_mwh\", \"generated_co2_rate_lb_per_mwh_for_electricity\"])\n",
    "    produced = produced[produced.fuel_category == \"total\"]\n",
    "    produced = produced.drop(columns=[\"fuel_category\"])\n",
    "    \n",
    "    if ba_meta.loc[ba,\"ba_category\"] == \"generation_only\":\n",
    "        consumed = pd.DataFrame(index=produced.index, columns=[[\"consumed_co2_rate_lb_per_mwh_for_electricity\"]], dtype=np.float64)\n",
    "    else:\n",
    "        consumed = pd.read_csv(f\"../../data/results/2020/carbon_accounting/hourly/us_units/{ba}.csv\", index_col=\"datetime_utc\", parse_dates=True, usecols=[\"datetime_utc\", \"consumed_co2_rate_lb_per_mwh_for_electricity\"])\n",
    "    consumed.columns = consumed.columns.get_level_values(0)\n",
    "\n",
    "    both = pd.concat([produced, consumed], axis='columns')\n",
    "    #both = both.loc[range_start:range_end]\n",
    "    both = both.reset_index()\n",
    "    both[\"BA\"] = ba\n",
    "    all.append(both)\n",
    "\n",
    "all = pd.concat(all)"
   ]
  },
  {
   "cell_type": "code",
   "execution_count": 10,
   "metadata": {},
   "outputs": [],
   "source": [
    "# Add coordinates\n",
    "all = all.merge(ba_coords, how='left', validate='many_to_one', left_on=\"BA\", right_index=True)"
   ]
  },
  {
   "cell_type": "code",
   "execution_count": 11,
   "metadata": {},
   "outputs": [
    {
     "data": {
      "text/html": [
       "<div>\n",
       "<style scoped>\n",
       "    .dataframe tbody tr th:only-of-type {\n",
       "        vertical-align: middle;\n",
       "    }\n",
       "\n",
       "    .dataframe tbody tr th {\n",
       "        vertical-align: top;\n",
       "    }\n",
       "\n",
       "    .dataframe thead th {\n",
       "        text-align: right;\n",
       "    }\n",
       "</style>\n",
       "<table border=\"1\" class=\"dataframe\">\n",
       "  <thead>\n",
       "    <tr style=\"text-align: right;\">\n",
       "      <th></th>\n",
       "      <th>datetime_utc</th>\n",
       "      <th>net_generation_mwh</th>\n",
       "      <th>generated_co2_rate_lb_per_mwh_for_electricity</th>\n",
       "      <th>consumed_co2_rate_lb_per_mwh_for_electricity</th>\n",
       "      <th>BA</th>\n",
       "      <th>cx</th>\n",
       "      <th>cy</th>\n",
       "      <th>difference</th>\n",
       "    </tr>\n",
       "  </thead>\n",
       "  <tbody>\n",
       "    <tr>\n",
       "      <th>195</th>\n",
       "      <td>2020-01-09 11:00:00+00:00</td>\n",
       "      <td>13151.14</td>\n",
       "      <td>485.225459</td>\n",
       "      <td>628.245034</td>\n",
       "      <td>CISO</td>\n",
       "      <td>60.0</td>\n",
       "      <td>270.0</td>\n",
       "      <td>143.019575</td>\n",
       "    </tr>\n",
       "  </tbody>\n",
       "</table>\n",
       "</div>"
      ],
      "text/plain": [
       "                 datetime_utc  net_generation_mwh  generated_co2_rate_lb_per_mwh_for_electricity  consumed_co2_rate_lb_per_mwh_for_electricity    BA    cx     cy  difference\n",
       "195 2020-01-09 11:00:00+00:00            13151.14                                     485.225459                                    628.245034  CISO  60.0  270.0  143.019575"
      ]
     },
     "execution_count": 11,
     "metadata": {},
     "output_type": "execute_result"
    }
   ],
   "source": [
    "tester = (all[all.BA==\"CISO\"]).copy()\n",
    "tester[\"difference\"] = tester.consumed_co2_rate_lb_per_mwh_for_electricity - tester.generated_co2_rate_lb_per_mwh_for_electricity\n",
    "tester.difference.abs().max()\n",
    "tester[tester.difference == tester.difference.abs().max()]"
   ]
  },
  {
   "cell_type": "code",
   "execution_count": 12,
   "metadata": {},
   "outputs": [],
   "source": [
    "# Hour with max CISO difference \n",
    "hour = '2020-09-25 12:00:00+00:00'"
   ]
  },
  {
   "cell_type": "code",
   "execution_count": 13,
   "metadata": {},
   "outputs": [
    {
     "name": "stdout",
     "output_type": "stream",
     "text": [
      "2020-08-01 01:00:00+00:00...2020-08-01 02:00:00+00:00...2020-08-01 03:00:00+00:00...2020-08-01 04:00:00+00:00...2020-08-01 05:00:00+00:00...2020-08-01 06:00:00+00:00...2020-08-01 07:00:00+00:00...2020-08-01 08:00:00+00:00...2020-08-01 09:00:00+00:00...2020-08-01 10:00:00+00:00...2020-08-01 11:00:00+00:00...2020-08-01 12:00:00+00:00...2020-08-01 13:00:00+00:00...2020-08-01 14:00:00+00:00...2020-08-01 15:00:00+00:00...2020-08-01 16:00:00+00:00...2020-08-01 17:00:00+00:00...2020-08-01 18:00:00+00:00...2020-08-01 19:00:00+00:00...2020-08-01 20:00:00+00:00...2020-08-01 21:00:00+00:00...2020-08-01 22:00:00+00:00...2020-08-01 23:00:00+00:00...2020-08-02 00:00:00+00:00...2020-08-02 01:00:00+00:00...2020-08-02 02:00:00+00:00...2020-08-02 03:00:00+00:00...2020-08-02 04:00:00+00:00...2020-08-02 05:00:00+00:00...2020-08-02 06:00:00+00:00...2020-08-02 07:00:00+00:00...2020-08-02 08:00:00+00:00...2020-08-02 09:00:00+00:00...2020-08-02 10:00:00+00:00...2020-08-02 11:00:00+00:00...2020-08-02 12:00:00+00:00...2020-08-02 13:00:00+00:00...2020-08-02 14:00:00+00:00...2020-08-02 15:00:00+00:00...2020-08-02 16:00:00+00:00...2020-08-02 17:00:00+00:00...2020-08-02 18:00:00+00:00...2020-08-02 19:00:00+00:00...2020-08-02 20:00:00+00:00...2020-08-02 21:00:00+00:00...2020-08-02 22:00:00+00:00...2020-08-02 23:00:00+00:00...2020-08-03 00:00:00+00:00...2020-08-03 01:00:00+00:00...2020-08-03 02:00:00+00:00...2020-08-03 03:00:00+00:00...2020-08-03 04:00:00+00:00...2020-08-03 05:00:00+00:00...2020-08-03 06:00:00+00:00...2020-08-03 07:00:00+00:00...2020-08-03 08:00:00+00:00...2020-08-03 09:00:00+00:00...2020-08-03 10:00:00+00:00...2020-08-03 11:00:00+00:00...2020-08-03 12:00:00+00:00...2020-08-03 13:00:00+00:00...2020-08-03 14:00:00+00:00...2020-08-03 15:00:00+00:00...2020-08-03 16:00:00+00:00...2020-08-03 17:00:00+00:00...2020-08-03 18:00:00+00:00...2020-08-03 19:00:00+00:00...2020-08-03 20:00:00+00:00...2020-08-03 21:00:00+00:00...2020-08-03 22:00:00+00:00...2020-08-03 23:00:00+00:00...2020-08-04 00:00:00+00:00...2020-08-04 01:00:00+00:00...2020-08-04 02:00:00+00:00...2020-08-04 03:00:00+00:00...2020-08-04 04:00:00+00:00...2020-08-04 05:00:00+00:00...2020-08-04 06:00:00+00:00...2020-08-04 07:00:00+00:00...2020-08-04 08:00:00+00:00...2020-08-04 09:00:00+00:00...2020-08-04 10:00:00+00:00...2020-08-04 11:00:00+00:00...2020-08-04 12:00:00+00:00...2020-08-04 13:00:00+00:00...2020-08-04 14:00:00+00:00...2020-08-04 15:00:00+00:00...2020-08-04 16:00:00+00:00...2020-08-04 17:00:00+00:00...2020-08-04 18:00:00+00:00...2020-08-04 19:00:00+00:00...2020-08-04 20:00:00+00:00...2020-08-04 21:00:00+00:00...2020-08-04 22:00:00+00:00...2020-08-04 23:00:00+00:00...2020-08-05 00:00:00+00:00...2020-08-05 01:00:00+00:00...2020-08-05 02:00:00+00:00...2020-08-05 03:00:00+00:00...2020-08-05 04:00:00+00:00...2020-08-05 05:00:00+00:00...2020-08-05 06:00:00+00:00...2020-08-05 07:00:00+00:00...2020-08-05 08:00:00+00:00...2020-08-05 09:00:00+00:00...2020-08-05 10:00:00+00:00...2020-08-05 11:00:00+00:00...2020-08-05 12:00:00+00:00...2020-08-05 13:00:00+00:00...2020-08-05 14:00:00+00:00...2020-08-05 15:00:00+00:00...2020-08-05 16:00:00+00:00...2020-08-05 17:00:00+00:00...2020-08-05 18:00:00+00:00...2020-08-05 19:00:00+00:00...2020-08-05 20:00:00+00:00...2020-08-05 21:00:00+00:00...2020-08-05 22:00:00+00:00...2020-08-05 23:00:00+00:00...2020-08-06 00:00:00+00:00...2020-08-06 01:00:00+00:00...2020-08-06 02:00:00+00:00...2020-08-06 03:00:00+00:00...2020-08-06 04:00:00+00:00...2020-08-06 05:00:00+00:00...2020-08-06 06:00:00+00:00...2020-08-06 07:00:00+00:00...2020-08-06 08:00:00+00:00...2020-08-06 09:00:00+00:00...2020-08-06 10:00:00+00:00...2020-08-06 11:00:00+00:00...2020-08-06 12:00:00+00:00...2020-08-06 13:00:00+00:00...2020-08-06 14:00:00+00:00...2020-08-06 15:00:00+00:00...2020-08-06 16:00:00+00:00...2020-08-06 17:00:00+00:00...2020-08-06 18:00:00+00:00...2020-08-06 19:00:00+00:00...2020-08-06 20:00:00+00:00...2020-08-06 21:00:00+00:00...2020-08-06 22:00:00+00:00...2020-08-06 23:00:00+00:00...2020-08-07 00:00:00+00:00...2020-08-07 01:00:00+00:00...2020-08-07 02:00:00+00:00...2020-08-07 03:00:00+00:00...2020-08-07 04:00:00+00:00...2020-08-07 05:00:00+00:00...2020-08-07 06:00:00+00:00...2020-08-07 07:00:00+00:00...2020-08-07 08:00:00+00:00...2020-08-07 09:00:00+00:00...2020-08-07 10:00:00+00:00...2020-08-07 11:00:00+00:00...2020-08-07 12:00:00+00:00...2020-08-07 13:00:00+00:00...2020-08-07 14:00:00+00:00...2020-08-07 15:00:00+00:00...2020-08-07 16:00:00+00:00...2020-08-07 17:00:00+00:00...2020-08-07 18:00:00+00:00...2020-08-07 19:00:00+00:00...2020-08-07 20:00:00+00:00...2020-08-07 21:00:00+00:00...2020-08-07 22:00:00+00:00..."
     ]
    }
   ],
   "source": [
    "hours = all.datetime_utc[(all.datetime_utc < pd.to_datetime(range_end)) & (all.datetime_utc > pd.to_datetime(range_start)) & (all.BA == \"CISO\")]\n",
    "for hour in hours:\n",
    "    print(hour, end=\"...\")\n",
    "    io_toplot = cleaned_io.loc[hour]\n",
    "    toplot = all[all.datetime_utc == hour]\n",
    "    fig = go.Figure()\n",
    "\n",
    "    toplot.loc[toplot.net_generation_mwh < 1, \"net_generation_mwh\"] = 1\n",
    "    sizes = np.log(toplot.net_generation_mwh)/np.log(1.5)\n",
    "    offset = sizes/2.5\n",
    "    fig.add_trace(\n",
    "        go.Scatter(x=toplot.cx, y=toplot.cy, mode=\"markers\", hoverinfo=\"text\", text=toplot.BA, \n",
    "            marker_symbol=\"triangle-ne\",\n",
    "            marker=dict(color=toplot.consumed_co2_rate_lb_per_mwh_for_electricity, size=sizes,\n",
    "                sizemode='diameter', cmin=0, cmax=1800, colorbar=dict(\n",
    "                title=\"Emission rate (lbs/MWh)\", orientation='h'\n",
    "            ),\n",
    "            colorscale=\"YlOrRd\"),\n",
    "            name=\"Consumed\",\n",
    "            \n",
    "        )\n",
    "        \n",
    "    )\n",
    "    fig.add_trace(\n",
    "        go.Scatter(x=toplot.cx-offset, y=toplot.cy+offset, mode=\"markers\", hoverinfo=\"text\", text=toplot.BA, \n",
    "            marker_symbol=\"triangle-sw\", \n",
    "            marker=dict(color=toplot.generated_co2_rate_lb_per_mwh_for_electricity, size=sizes,\n",
    "                sizemode='diameter', cmin=0, cmax=1800,\n",
    "            colorscale=\"YlOrRd\"),\n",
    "            name=\"Generated\"\n",
    "            \n",
    "        )\n",
    "        \n",
    "    )\n",
    "    fig.update_yaxes(range=(550,0)) # autorange=\"reversed\")\n",
    "    fig.update_xaxes(range=(0,800))\n",
    "\n",
    "    # max_width = io_toplot.max()\n",
    "    # width_factor = 8/max_width\n",
    "    width_factor = 1/200\n",
    "    for name, val in io_toplot.iteritems():\n",
    "        if val <= 0: \n",
    "            continue \n",
    "        bas = name.split(\".\")[1].split(\"-\")\n",
    "        (ba1, ba2) = bas\n",
    "\n",
    "        next = False\n",
    "        for ba in bas: \n",
    "            if ba not in ba_coords.index:\n",
    "                next=True\n",
    "        if next:\n",
    "            continue\n",
    "        \n",
    "        # Arrows have to be added separately\n",
    "        line_size = val*width_factor\n",
    "        fig.add_annotation(\n",
    "            x=ba_coords.loc[ba2,\"cx\"],  # arrows' head\n",
    "            y=ba_coords.loc[ba2,\"cy\"],  # arrows' head\n",
    "            ax=ba_coords.loc[ba1,\"cx\"],  # arrows' tail\n",
    "            ay=ba_coords.loc[ba1,\"cy\"],  # arrows' tail\n",
    "            xref='x',\n",
    "            yref='y',\n",
    "            axref='x',\n",
    "            ayref='y',\n",
    "            text='',  # if you want only the arrow\n",
    "            showarrow=True,\n",
    "            arrowhead=1,\n",
    "            arrowsize=1, #max(.3, line_size),\n",
    "            arrowwidth=1,\n",
    "            arrowcolor='royalblue'\n",
    "        )\n",
    "\n",
    "        # Lines on top of arrows \n",
    "        fig.add_trace(\n",
    "            go.Scatter(x = ba_coords.loc[bas,\"cx\"], y = ba_coords.loc[bas,\"cy\"], \n",
    "                mode=\"lines\", line = dict(color='royalblue', width=1), showlegend=False\n",
    "            )\n",
    "        )\n",
    "\n",
    "    # Add images\n",
    "    fig.add_layout_image(\n",
    "            dict(\n",
    "                source=\"resources/usa.png\",\n",
    "                xref=\"x\",\n",
    "                yref=\"y\",\n",
    "                x=10,\n",
    "                y=0,\n",
    "                sizex=790,\n",
    "                sizey=550,\n",
    "                sizing=\"stretch\",\n",
    "                opacity=0.5,\n",
    "                layer=\"below\")\n",
    "    )\n",
    "\n",
    "    # Set templates\n",
    "    fig.update_layout(template=\"plotly_white\", width=800, height=600)\n",
    "    #fig.show()\n",
    "    pio.write_image(fig, f\"outputs/maps/{hour}.png\")\n"
   ]
  },
  {
   "cell_type": "code",
   "execution_count": 14,
   "metadata": {},
   "outputs": [],
   "source": [
    "# Now just CISO and neighbors. \n",
    "\n",
    "# Get list of CISO neighbors \n",
    "ciso_interchanges = [c for c in cleaned_io.columns if \"CISO\" in c]\n",
    "ciso_bas = []\n",
    "for ci in ciso_interchanges: \n",
    "    ba1, ba2 = ci.split(\".\")[1].split(\"-\")\n",
    "    if ba1 not in ciso_bas: \n",
    "        ciso_bas.append(ba1)\n",
    "    if ba2 not in ciso_bas:\n",
    "        ciso_bas.append(ba2)\n",
    "\n"
   ]
  },
  {
   "cell_type": "code",
   "execution_count": 15,
   "metadata": {},
   "outputs": [
    {
     "name": "stdout",
     "output_type": "stream",
     "text": [
      "['EBA.AZPS-CISO.ID.H', 'EBA.BANC-CISO.ID.H', 'EBA.BPAT-CISO.ID.H', 'EBA.CEN-CISO.ID.H', 'EBA.CISO-AZPS.ID.H', 'EBA.CISO-BANC.ID.H', 'EBA.CISO-BPAT.ID.H', 'EBA.CISO-CEN.ID.H', 'EBA.CISO-IID.ID.H', 'EBA.CISO-LDWP.ID.H', 'EBA.CISO-NEVP.ID.H', 'EBA.CISO-PACW.ID.H', 'EBA.CISO-SRP.ID.H', 'EBA.CISO-TIDC.ID.H', 'EBA.CISO-WALC.ID.H', 'EBA.IID-CISO.ID.H', 'EBA.LDWP-CISO.ID.H', 'EBA.NEVP-CISO.ID.H', 'EBA.PACW-CISO.ID.H', 'EBA.SRP-CISO.ID.H', 'EBA.TIDC-CISO.ID.H', 'EBA.WALC-CISO.ID.H']\n",
      "['AZPS', 'CISO', 'BANC', 'BPAT', 'CEN', 'IID', 'LDWP', 'NEVP', 'PACW', 'SRP', 'TIDC', 'WALC']\n"
     ]
    }
   ],
   "source": [
    "print(ciso_interchanges)\n",
    "print(ciso_bas)"
   ]
  },
  {
   "cell_type": "code",
   "execution_count": 16,
   "metadata": {},
   "outputs": [],
   "source": [
    "# Hour with max CISO difference generated / consumed \n",
    "hour = '2020-09-25 12:00:00+00:00'"
   ]
  },
  {
   "cell_type": "code",
   "execution_count": 31,
   "metadata": {},
   "outputs": [],
   "source": [
    "# src: https://community.plotly.com/t/how-to-include-a-colorscale-for-color-of-line-graphs/38002/3 \n",
    "from ast import literal_eval\n",
    "def get_color_for_val(val, vmin, vmax, pl_colors):\n",
    "    if pl_colors[0][:3] != 'rgb':\n",
    "        raise ValueError('This function works only with Plotly  rgb-colorscales')\n",
    "    if vmin >= vmax:\n",
    "        raise ValueError('vmin should be < vmax')\n",
    "\n",
    "    scale = [round(k / (len(pl_colors)), 3) for k in range(len(pl_colors) + 1)]\n",
    "\n",
    "    colors_01 = np.array([literal_eval(color[3:]) for color in pl_colors]) / 255  # color codes in [0,1]\n",
    "\n",
    "    v = (val - vmin) / (vmax - vmin)  # val is mapped to v in [0,1]\n",
    "    # find two consecutive values in plotly_scale such that   v is in  the corresponding interval\n",
    "    idx = 0\n",
    "\n",
    "    while (v > scale[idx + 1]):\n",
    "        idx += 1\n",
    "\n",
    "    vv = (v - scale[idx]) / (scale[idx + 1] - scale[idx])\n",
    "\n",
    "    # get   [0,1]-valued color code representing the rgb color corresponding to val\n",
    "    if idx == len(pl_colors)-1: # Make this work when some values exceed range\n",
    "        val_color01 = colors_01[idx] # color by last color \n",
    "    else: \n",
    "        val_color01 = colors_01[idx] + vv * (colors_01[idx + 1] - colors_01[idx])\n",
    "\n",
    "    val_color_0255 = (255 * val_color01 + 0.5).astype(int)\n",
    "    return f'rgb{str(tuple(val_color_0255))}'"
   ]
  },
  {
   "cell_type": "code",
   "execution_count": 62,
   "metadata": {},
   "outputs": [
    {
     "data": {
      "text/plain": [
       "['aggrnyl',\n",
       " 'agsunset',\n",
       " 'blackbody',\n",
       " 'bluered',\n",
       " 'blues',\n",
       " 'blugrn',\n",
       " 'bluyl',\n",
       " 'brwnyl',\n",
       " 'bugn',\n",
       " 'bupu',\n",
       " 'burg',\n",
       " 'burgyl',\n",
       " 'cividis',\n",
       " 'darkmint',\n",
       " 'electric',\n",
       " 'emrld',\n",
       " 'gnbu',\n",
       " 'greens',\n",
       " 'greys',\n",
       " 'hot',\n",
       " 'inferno',\n",
       " 'jet',\n",
       " 'magenta',\n",
       " 'magma',\n",
       " 'mint',\n",
       " 'orrd',\n",
       " 'oranges',\n",
       " 'oryel',\n",
       " 'peach',\n",
       " 'pinkyl',\n",
       " 'plasma',\n",
       " 'plotly3',\n",
       " 'pubu',\n",
       " 'pubugn',\n",
       " 'purd',\n",
       " 'purp',\n",
       " 'purples',\n",
       " 'purpor',\n",
       " 'rainbow',\n",
       " 'rdbu',\n",
       " 'rdpu',\n",
       " 'redor',\n",
       " 'reds',\n",
       " 'sunset',\n",
       " 'sunsetdark',\n",
       " 'teal',\n",
       " 'tealgrn',\n",
       " 'turbo',\n",
       " 'viridis',\n",
       " 'ylgn',\n",
       " 'ylgnbu',\n",
       " 'ylorbr',\n",
       " 'ylorrd',\n",
       " 'algae',\n",
       " 'amp',\n",
       " 'deep',\n",
       " 'dense',\n",
       " 'gray',\n",
       " 'haline',\n",
       " 'ice',\n",
       " 'matter',\n",
       " 'solar',\n",
       " 'speed',\n",
       " 'tempo',\n",
       " 'thermal',\n",
       " 'turbid',\n",
       " 'armyrose',\n",
       " 'brbg',\n",
       " 'earth',\n",
       " 'fall',\n",
       " 'geyser',\n",
       " 'prgn',\n",
       " 'piyg',\n",
       " 'picnic',\n",
       " 'portland',\n",
       " 'puor',\n",
       " 'rdgy',\n",
       " 'rdylbu',\n",
       " 'rdylgn',\n",
       " 'spectral',\n",
       " 'tealrose',\n",
       " 'temps',\n",
       " 'tropic',\n",
       " 'balance',\n",
       " 'curl',\n",
       " 'delta',\n",
       " 'oxy',\n",
       " 'edge',\n",
       " 'hsv',\n",
       " 'icefire',\n",
       " 'phase',\n",
       " 'twilight',\n",
       " 'mrybm',\n",
       " 'mygbm']"
      ]
     },
     "execution_count": 62,
     "metadata": {},
     "output_type": "execute_result"
    }
   ],
   "source": [
    "named_colorscales()"
   ]
  },
  {
   "cell_type": "code",
   "execution_count": 86,
   "metadata": {},
   "outputs": [
    {
     "name": "stdout",
     "output_type": "stream",
     "text": [
      "2051.357942055572\n",
      "791.7235362136025\n",
      "494.285163780544\n",
      "486.6971936773157\n",
      "468.0531456179542\n",
      "1171.858214304538\n",
      "873.4998685340672\n",
      "725.9808186972756\n",
      "640.9137194410688\n",
      "742.8031879262338\n"
     ]
    },
    {
     "data": {
      "application/vnd.plotly.v1+json": {
       "config": {
        "plotlyServerURL": "https://plot.ly"
       },
       "data": [
        {
         "line": {
          "color": "rgb(165, 0, 38)",
          "width": 2
         },
         "mode": "lines",
         "opacity": 1,
         "showlegend": false,
         "type": "scatter",
         "x": [
          156,
          60
         ],
         "y": [
          316,
          270
         ]
        },
        {
         "line": {
          "color": "rgb(219, 240, 141)",
          "width": 2
         },
         "mode": "lines",
         "opacity": 1,
         "showlegend": false,
         "type": "scatter",
         "x": [
          36,
          60
         ],
         "y": [
          204,
          270
         ]
        },
        {
         "line": {
          "color": "rgb(136, 204, 103)",
          "width": 2
         },
         "mode": "lines",
         "opacity": 1,
         "showlegend": false,
         "type": "scatter",
         "x": [
          80,
          60
         ],
         "y": [
          100,
          270
         ]
        },
        {
         "line": {
          "color": "rgb(133, 203, 102)",
          "width": 2
         },
         "mode": "lines",
         "opacity": 1,
         "showlegend": false,
         "type": "scatter",
         "x": [
          60,
          44
         ],
         "y": [
          270,
          252
         ]
        },
        {
         "line": {
          "color": "rgb(127, 200, 102)",
          "width": 2
         },
         "mode": "lines",
         "opacity": 1,
         "showlegend": false,
         "type": "scatter",
         "x": [
          92,
          60
         ],
         "y": [
          334,
          270
         ]
        },
        {
         "line": {
          "color": "rgb(254, 224, 139)",
          "width": 2
         },
         "mode": "lines",
         "opacity": 1,
         "showlegend": false,
         "type": "scatter",
         "x": [
          76,
          60
         ],
         "y": [
          304,
          270
         ]
        },
        {
         "line": {
          "color": "rgb(235, 246, 163)",
          "width": 2
         },
         "mode": "lines",
         "opacity": 1,
         "showlegend": false,
         "type": "scatter",
         "x": [
          96,
          60
         ],
         "y": [
          210,
          270
         ]
        },
        {
         "line": {
          "color": "rgb(202, 233, 129)",
          "width": 2
         },
         "mode": "lines",
         "opacity": 1,
         "showlegend": false,
         "type": "scatter",
         "x": [
          56,
          60
         ],
         "y": [
          130,
          270
         ]
        },
        {
         "line": {
          "color": "rgb(180, 223, 115)",
          "width": 2
         },
         "mode": "lines",
         "opacity": 1,
         "showlegend": false,
         "type": "scatter",
         "x": [
          172,
          60
         ],
         "y": [
          344,
          270
         ]
        },
        {
         "line": {
          "color": "rgb(207, 234, 132)",
          "width": 2
         },
         "mode": "lines",
         "opacity": 1,
         "showlegend": false,
         "type": "scatter",
         "x": [
          132,
          60
         ],
         "y": [
          290,
          270
         ]
        },
        {
         "hoverinfo": "text",
         "marker": {
          "cmax": 2151,
          "cmin": 0,
          "color": [
           2051.357942055572,
           791.7235362136025,
           494.285163780544,
           486.6971936773157,
           468.0531456179542,
           1171.858214304538,
           873.4998685340672,
           725.9808186972756,
           640.9137194410688,
           803.2349460244594,
           742.8031879262338
          ],
          "colorscale": [
           [
            0,
            "rgb(0,104,55)"
           ],
           [
            0.1,
            "rgb(26,152,80)"
           ],
           [
            0.2,
            "rgb(102,189,99)"
           ],
           [
            0.3,
            "rgb(166,217,106)"
           ],
           [
            0.4,
            "rgb(217,239,139)"
           ],
           [
            0.5,
            "rgb(255,255,191)"
           ],
           [
            0.6,
            "rgb(254,224,139)"
           ],
           [
            0.7,
            "rgb(253,174,97)"
           ],
           [
            0.8,
            "rgb(244,109,67)"
           ],
           [
            0.9,
            "rgb(215,48,39)"
           ],
           [
            1,
            "rgb(165,0,38)"
           ]
          ],
          "opacity": 1,
          "size": [
           19.325228272912977,
           16.36314885355879,
           22.59245029954494,
           23.418958255192983,
           15.682376524735092,
           18.61611998400732,
           20.071406755231234,
           16.237026056073457,
           22.348026254531856,
           13.886773891312576,
           17.565260471290816
          ],
          "sizemode": "diameter",
          "symbol": "triangle-up"
         },
         "mode": "markers",
         "name": "Generated",
         "opacity": 1,
         "showlegend": false,
         "text": [
          "AZPS",
          "BANC",
          "BPAT",
          "CISO",
          "IID",
          "LDWP",
          "NEVP",
          "PACW",
          "SRP",
          "TIDC",
          "WALC"
         ],
         "type": "scatter",
         "x": [
          156,
          36,
          80,
          60,
          92,
          76,
          96,
          56,
          172,
          44,
          132
         ],
         "y": [
          303.9217323294294,
          193.77303196652576,
          85.87971856278442,
          255.36315109050437,
          324.1985146720406,
          292.36492500999543,
          197.45537077798048,
          119.85185871495409,
          330.0324835909176,
          243.32076631792964,
          279.02171220544324
         ]
        },
        {
         "hoverinfo": "text",
         "marker": {
          "cmax": 2151,
          "cmin": 0,
          "color": [
           1267.5099268580736,
           599.5962386106388,
           439.17378088067727,
           623.8642669291678,
           475.3662646734514,
           935.8739739952548,
           937.6182516410256,
           717.9423448955406,
           656.1877863245174,
           764.2868097927897,
           1064.4899431056056
          ],
          "colorbar": {
           "len": 0.8,
           "orientation": "v",
           "thickness": 20,
           "title": {
            "text": "Emission rate (lbs/MWh)"
           },
           "xpad": 20,
           "y": 0,
           "yanchor": "bottom"
          },
          "colorscale": [
           [
            0,
            "rgb(0,104,55)"
           ],
           [
            0.1,
            "rgb(26,152,80)"
           ],
           [
            0.2,
            "rgb(102,189,99)"
           ],
           [
            0.3,
            "rgb(166,217,106)"
           ],
           [
            0.4,
            "rgb(217,239,139)"
           ],
           [
            0.5,
            "rgb(255,255,191)"
           ],
           [
            0.6,
            "rgb(254,224,139)"
           ],
           [
            0.7,
            "rgb(253,174,97)"
           ],
           [
            0.8,
            "rgb(244,109,67)"
           ],
           [
            0.9,
            "rgb(215,48,39)"
           ],
           [
            1,
            "rgb(165,0,38)"
           ]
          ],
          "opacity": 1,
          "size": [
           19.325228272912977,
           16.36314885355879,
           22.59245029954494,
           23.418958255192983,
           15.682376524735092,
           18.61611998400732,
           20.071406755231234,
           16.237026056073457,
           22.348026254531856,
           13.886773891312576,
           17.565260471290816
          ],
          "sizemode": "diameter",
          "symbol": "triangle-down"
         },
         "mode": "markers",
         "name": "Consumed",
         "showlegend": false,
         "text": [
          "AZPS",
          "BANC",
          "BPAT",
          "CISO",
          "IID",
          "LDWP",
          "NEVP",
          "PACW",
          "SRP",
          "TIDC",
          "WALC"
         ],
         "type": "scatter",
         "x": [
          156,
          36,
          80,
          60,
          92,
          76,
          96,
          56,
          172,
          44,
          132
         ],
         "y": [
          316,
          204,
          100,
          270,
          334,
          304,
          210,
          130,
          344,
          252,
          290
         ]
        },
        {
         "marker": {
          "color": "white",
          "line": {
           "color": "DarkSlateGrey",
           "width": 2
          },
          "size": 10,
          "symbol": "triangle-up"
         },
         "mode": "markers",
         "name": "Generated",
         "type": "scatter",
         "x": [
          -10
         ],
         "y": [
          -10
         ]
        },
        {
         "marker": {
          "color": "white",
          "line": {
           "color": "DarkSlateGrey",
           "width": 2
          },
          "size": 10,
          "symbol": "triangle-down"
         },
         "mode": "markers",
         "name": "Consumed",
         "type": "scatter",
         "x": [
          -10
         ],
         "y": [
          -10
         ]
        }
       ],
       "layout": {
        "annotations": [
         {
          "showarrow": false,
          "text": "AZPS",
          "x": 168,
          "xanchor": "left",
          "y": 316
         },
         {
          "showarrow": false,
          "text": "BANC",
          "x": 24,
          "xanchor": "right",
          "y": 204
         },
         {
          "showarrow": false,
          "text": "BPAT",
          "x": 92,
          "xanchor": "left",
          "y": 100
         },
         {
          "showarrow": false,
          "text": "CISO",
          "x": 48,
          "xanchor": "right",
          "y": 270
         },
         {
          "showarrow": false,
          "text": "IID",
          "x": 80,
          "xanchor": "right",
          "y": 334
         },
         {
          "showarrow": false,
          "text": "LDWP",
          "x": 64,
          "xanchor": "right",
          "y": 304
         },
         {
          "showarrow": false,
          "text": "NEVP",
          "x": 108,
          "xanchor": "left",
          "y": 210
         },
         {
          "showarrow": false,
          "text": "PACW",
          "x": 68,
          "xanchor": "left",
          "y": 130
         },
         {
          "showarrow": false,
          "text": "SRP",
          "x": 184,
          "xanchor": "left",
          "y": 344
         },
         {
          "showarrow": false,
          "text": "TIDC",
          "x": 32,
          "xanchor": "right",
          "y": 252
         },
         {
          "showarrow": false,
          "text": "WALC",
          "x": 144,
          "xanchor": "left",
          "y": 290
         }
        ],
        "height": 500,
        "images": [
         {
          "layer": "below",
          "opacity": 1,
          "sizex": 790,
          "sizey": 550,
          "sizing": "stretch",
          "source": "resources/usa.png",
          "x": 10,
          "xref": "x",
          "y": 0,
          "yref": "y"
         }
        ],
        "template": {
         "data": {
          "bar": [
           {
            "error_x": {
             "color": "#2a3f5f"
            },
            "error_y": {
             "color": "#2a3f5f"
            },
            "marker": {
             "line": {
              "color": "white",
              "width": 0.5
             },
             "pattern": {
              "fillmode": "overlay",
              "size": 10,
              "solidity": 0.2
             }
            },
            "type": "bar"
           }
          ],
          "barpolar": [
           {
            "marker": {
             "line": {
              "color": "white",
              "width": 0.5
             },
             "pattern": {
              "fillmode": "overlay",
              "size": 10,
              "solidity": 0.2
             }
            },
            "type": "barpolar"
           }
          ],
          "carpet": [
           {
            "aaxis": {
             "endlinecolor": "#2a3f5f",
             "gridcolor": "#C8D4E3",
             "linecolor": "#C8D4E3",
             "minorgridcolor": "#C8D4E3",
             "startlinecolor": "#2a3f5f"
            },
            "baxis": {
             "endlinecolor": "#2a3f5f",
             "gridcolor": "#C8D4E3",
             "linecolor": "#C8D4E3",
             "minorgridcolor": "#C8D4E3",
             "startlinecolor": "#2a3f5f"
            },
            "type": "carpet"
           }
          ],
          "choropleth": [
           {
            "colorbar": {
             "outlinewidth": 0,
             "ticks": ""
            },
            "type": "choropleth"
           }
          ],
          "contour": [
           {
            "colorbar": {
             "outlinewidth": 0,
             "ticks": ""
            },
            "colorscale": [
             [
              0,
              "#0d0887"
             ],
             [
              0.1111111111111111,
              "#46039f"
             ],
             [
              0.2222222222222222,
              "#7201a8"
             ],
             [
              0.3333333333333333,
              "#9c179e"
             ],
             [
              0.4444444444444444,
              "#bd3786"
             ],
             [
              0.5555555555555556,
              "#d8576b"
             ],
             [
              0.6666666666666666,
              "#ed7953"
             ],
             [
              0.7777777777777778,
              "#fb9f3a"
             ],
             [
              0.8888888888888888,
              "#fdca26"
             ],
             [
              1,
              "#f0f921"
             ]
            ],
            "type": "contour"
           }
          ],
          "contourcarpet": [
           {
            "colorbar": {
             "outlinewidth": 0,
             "ticks": ""
            },
            "type": "contourcarpet"
           }
          ],
          "heatmap": [
           {
            "colorbar": {
             "outlinewidth": 0,
             "ticks": ""
            },
            "colorscale": [
             [
              0,
              "#0d0887"
             ],
             [
              0.1111111111111111,
              "#46039f"
             ],
             [
              0.2222222222222222,
              "#7201a8"
             ],
             [
              0.3333333333333333,
              "#9c179e"
             ],
             [
              0.4444444444444444,
              "#bd3786"
             ],
             [
              0.5555555555555556,
              "#d8576b"
             ],
             [
              0.6666666666666666,
              "#ed7953"
             ],
             [
              0.7777777777777778,
              "#fb9f3a"
             ],
             [
              0.8888888888888888,
              "#fdca26"
             ],
             [
              1,
              "#f0f921"
             ]
            ],
            "type": "heatmap"
           }
          ],
          "heatmapgl": [
           {
            "colorbar": {
             "outlinewidth": 0,
             "ticks": ""
            },
            "colorscale": [
             [
              0,
              "#0d0887"
             ],
             [
              0.1111111111111111,
              "#46039f"
             ],
             [
              0.2222222222222222,
              "#7201a8"
             ],
             [
              0.3333333333333333,
              "#9c179e"
             ],
             [
              0.4444444444444444,
              "#bd3786"
             ],
             [
              0.5555555555555556,
              "#d8576b"
             ],
             [
              0.6666666666666666,
              "#ed7953"
             ],
             [
              0.7777777777777778,
              "#fb9f3a"
             ],
             [
              0.8888888888888888,
              "#fdca26"
             ],
             [
              1,
              "#f0f921"
             ]
            ],
            "type": "heatmapgl"
           }
          ],
          "histogram": [
           {
            "marker": {
             "pattern": {
              "fillmode": "overlay",
              "size": 10,
              "solidity": 0.2
             }
            },
            "type": "histogram"
           }
          ],
          "histogram2d": [
           {
            "colorbar": {
             "outlinewidth": 0,
             "ticks": ""
            },
            "colorscale": [
             [
              0,
              "#0d0887"
             ],
             [
              0.1111111111111111,
              "#46039f"
             ],
             [
              0.2222222222222222,
              "#7201a8"
             ],
             [
              0.3333333333333333,
              "#9c179e"
             ],
             [
              0.4444444444444444,
              "#bd3786"
             ],
             [
              0.5555555555555556,
              "#d8576b"
             ],
             [
              0.6666666666666666,
              "#ed7953"
             ],
             [
              0.7777777777777778,
              "#fb9f3a"
             ],
             [
              0.8888888888888888,
              "#fdca26"
             ],
             [
              1,
              "#f0f921"
             ]
            ],
            "type": "histogram2d"
           }
          ],
          "histogram2dcontour": [
           {
            "colorbar": {
             "outlinewidth": 0,
             "ticks": ""
            },
            "colorscale": [
             [
              0,
              "#0d0887"
             ],
             [
              0.1111111111111111,
              "#46039f"
             ],
             [
              0.2222222222222222,
              "#7201a8"
             ],
             [
              0.3333333333333333,
              "#9c179e"
             ],
             [
              0.4444444444444444,
              "#bd3786"
             ],
             [
              0.5555555555555556,
              "#d8576b"
             ],
             [
              0.6666666666666666,
              "#ed7953"
             ],
             [
              0.7777777777777778,
              "#fb9f3a"
             ],
             [
              0.8888888888888888,
              "#fdca26"
             ],
             [
              1,
              "#f0f921"
             ]
            ],
            "type": "histogram2dcontour"
           }
          ],
          "mesh3d": [
           {
            "colorbar": {
             "outlinewidth": 0,
             "ticks": ""
            },
            "type": "mesh3d"
           }
          ],
          "parcoords": [
           {
            "line": {
             "colorbar": {
              "outlinewidth": 0,
              "ticks": ""
             }
            },
            "type": "parcoords"
           }
          ],
          "pie": [
           {
            "automargin": true,
            "type": "pie"
           }
          ],
          "scatter": [
           {
            "marker": {
             "colorbar": {
              "outlinewidth": 0,
              "ticks": ""
             }
            },
            "type": "scatter"
           }
          ],
          "scatter3d": [
           {
            "line": {
             "colorbar": {
              "outlinewidth": 0,
              "ticks": ""
             }
            },
            "marker": {
             "colorbar": {
              "outlinewidth": 0,
              "ticks": ""
             }
            },
            "type": "scatter3d"
           }
          ],
          "scattercarpet": [
           {
            "marker": {
             "colorbar": {
              "outlinewidth": 0,
              "ticks": ""
             }
            },
            "type": "scattercarpet"
           }
          ],
          "scattergeo": [
           {
            "marker": {
             "colorbar": {
              "outlinewidth": 0,
              "ticks": ""
             }
            },
            "type": "scattergeo"
           }
          ],
          "scattergl": [
           {
            "marker": {
             "colorbar": {
              "outlinewidth": 0,
              "ticks": ""
             }
            },
            "type": "scattergl"
           }
          ],
          "scattermapbox": [
           {
            "marker": {
             "colorbar": {
              "outlinewidth": 0,
              "ticks": ""
             }
            },
            "type": "scattermapbox"
           }
          ],
          "scatterpolar": [
           {
            "marker": {
             "colorbar": {
              "outlinewidth": 0,
              "ticks": ""
             }
            },
            "type": "scatterpolar"
           }
          ],
          "scatterpolargl": [
           {
            "marker": {
             "colorbar": {
              "outlinewidth": 0,
              "ticks": ""
             }
            },
            "type": "scatterpolargl"
           }
          ],
          "scatterternary": [
           {
            "marker": {
             "colorbar": {
              "outlinewidth": 0,
              "ticks": ""
             }
            },
            "type": "scatterternary"
           }
          ],
          "surface": [
           {
            "colorbar": {
             "outlinewidth": 0,
             "ticks": ""
            },
            "colorscale": [
             [
              0,
              "#0d0887"
             ],
             [
              0.1111111111111111,
              "#46039f"
             ],
             [
              0.2222222222222222,
              "#7201a8"
             ],
             [
              0.3333333333333333,
              "#9c179e"
             ],
             [
              0.4444444444444444,
              "#bd3786"
             ],
             [
              0.5555555555555556,
              "#d8576b"
             ],
             [
              0.6666666666666666,
              "#ed7953"
             ],
             [
              0.7777777777777778,
              "#fb9f3a"
             ],
             [
              0.8888888888888888,
              "#fdca26"
             ],
             [
              1,
              "#f0f921"
             ]
            ],
            "type": "surface"
           }
          ],
          "table": [
           {
            "cells": {
             "fill": {
              "color": "#EBF0F8"
             },
             "line": {
              "color": "white"
             }
            },
            "header": {
             "fill": {
              "color": "#C8D4E3"
             },
             "line": {
              "color": "white"
             }
            },
            "type": "table"
           }
          ]
         },
         "layout": {
          "annotationdefaults": {
           "arrowcolor": "#2a3f5f",
           "arrowhead": 0,
           "arrowwidth": 1
          },
          "autotypenumbers": "strict",
          "coloraxis": {
           "colorbar": {
            "outlinewidth": 0,
            "ticks": ""
           }
          },
          "colorscale": {
           "diverging": [
            [
             0,
             "#8e0152"
            ],
            [
             0.1,
             "#c51b7d"
            ],
            [
             0.2,
             "#de77ae"
            ],
            [
             0.3,
             "#f1b6da"
            ],
            [
             0.4,
             "#fde0ef"
            ],
            [
             0.5,
             "#f7f7f7"
            ],
            [
             0.6,
             "#e6f5d0"
            ],
            [
             0.7,
             "#b8e186"
            ],
            [
             0.8,
             "#7fbc41"
            ],
            [
             0.9,
             "#4d9221"
            ],
            [
             1,
             "#276419"
            ]
           ],
           "sequential": [
            [
             0,
             "#0d0887"
            ],
            [
             0.1111111111111111,
             "#46039f"
            ],
            [
             0.2222222222222222,
             "#7201a8"
            ],
            [
             0.3333333333333333,
             "#9c179e"
            ],
            [
             0.4444444444444444,
             "#bd3786"
            ],
            [
             0.5555555555555556,
             "#d8576b"
            ],
            [
             0.6666666666666666,
             "#ed7953"
            ],
            [
             0.7777777777777778,
             "#fb9f3a"
            ],
            [
             0.8888888888888888,
             "#fdca26"
            ],
            [
             1,
             "#f0f921"
            ]
           ],
           "sequentialminus": [
            [
             0,
             "#0d0887"
            ],
            [
             0.1111111111111111,
             "#46039f"
            ],
            [
             0.2222222222222222,
             "#7201a8"
            ],
            [
             0.3333333333333333,
             "#9c179e"
            ],
            [
             0.4444444444444444,
             "#bd3786"
            ],
            [
             0.5555555555555556,
             "#d8576b"
            ],
            [
             0.6666666666666666,
             "#ed7953"
            ],
            [
             0.7777777777777778,
             "#fb9f3a"
            ],
            [
             0.8888888888888888,
             "#fdca26"
            ],
            [
             1,
             "#f0f921"
            ]
           ]
          },
          "colorway": [
           "#636efa",
           "#EF553B",
           "#00cc96",
           "#ab63fa",
           "#FFA15A",
           "#19d3f3",
           "#FF6692",
           "#B6E880",
           "#FF97FF",
           "#FECB52"
          ],
          "font": {
           "color": "#2a3f5f"
          },
          "geo": {
           "bgcolor": "white",
           "lakecolor": "white",
           "landcolor": "white",
           "showlakes": true,
           "showland": true,
           "subunitcolor": "#C8D4E3"
          },
          "hoverlabel": {
           "align": "left"
          },
          "hovermode": "closest",
          "mapbox": {
           "style": "light"
          },
          "paper_bgcolor": "white",
          "plot_bgcolor": "white",
          "polar": {
           "angularaxis": {
            "gridcolor": "#EBF0F8",
            "linecolor": "#EBF0F8",
            "ticks": ""
           },
           "bgcolor": "white",
           "radialaxis": {
            "gridcolor": "#EBF0F8",
            "linecolor": "#EBF0F8",
            "ticks": ""
           }
          },
          "scene": {
           "xaxis": {
            "backgroundcolor": "white",
            "gridcolor": "#DFE8F3",
            "gridwidth": 2,
            "linecolor": "#EBF0F8",
            "showbackground": true,
            "ticks": "",
            "zerolinecolor": "#EBF0F8"
           },
           "yaxis": {
            "backgroundcolor": "white",
            "gridcolor": "#DFE8F3",
            "gridwidth": 2,
            "linecolor": "#EBF0F8",
            "showbackground": true,
            "ticks": "",
            "zerolinecolor": "#EBF0F8"
           },
           "zaxis": {
            "backgroundcolor": "white",
            "gridcolor": "#DFE8F3",
            "gridwidth": 2,
            "linecolor": "#EBF0F8",
            "showbackground": true,
            "ticks": "",
            "zerolinecolor": "#EBF0F8"
           }
          },
          "shapedefaults": {
           "line": {
            "color": "#2a3f5f"
           }
          },
          "ternary": {
           "aaxis": {
            "gridcolor": "#DFE8F3",
            "linecolor": "#A2B1C6",
            "ticks": ""
           },
           "baxis": {
            "gridcolor": "#DFE8F3",
            "linecolor": "#A2B1C6",
            "ticks": ""
           },
           "bgcolor": "white",
           "caxis": {
            "gridcolor": "#DFE8F3",
            "linecolor": "#A2B1C6",
            "ticks": ""
           }
          },
          "title": {
           "x": 0.05
          },
          "xaxis": {
           "automargin": true,
           "gridcolor": "#EBF0F8",
           "linecolor": "#EBF0F8",
           "ticks": "",
           "title": {
            "standoff": 15
           },
           "zerolinecolor": "#EBF0F8",
           "zerolinewidth": 2
          },
          "yaxis": {
           "automargin": true,
           "gridcolor": "#EBF0F8",
           "linecolor": "#EBF0F8",
           "ticks": "",
           "title": {
            "standoff": 15
           },
           "zerolinecolor": "#EBF0F8",
           "zerolinewidth": 2
          }
         }
        },
        "width": 450,
        "xaxis": {
         "range": [
          0,
          200
         ],
         "visible": false
        },
        "yaxis": {
         "range": [
          420,
          0
         ],
         "visible": false
        }
       }
      }
     },
     "metadata": {},
     "output_type": "display_data"
    }
   ],
   "source": [
    "io_toplot = cleaned_io.loc[hour, ciso_interchanges]\n",
    "toplot = all[all.datetime_utc == hour]\n",
    "toplot = toplot[toplot.BA.isin(ciso_bas)]\n",
    "fig = go.Figure()\n",
    "\n",
    "colorscale = diverging.RdYlGn_r\n",
    "#colorscale = cmocean.solar_r\n",
    "\n",
    "c_max = np.floor(toplot.generated_co2_rate_lb_per_mwh_for_electricity.max() + 100)\n",
    "\n",
    "### From when \n",
    "# max_width = io_toplot.max()\n",
    "# width_factor = 8/max_width\n",
    "#width_factor = 1/200\n",
    "for name, val in io_toplot.iteritems():\n",
    "    if val <= 0: \n",
    "        continue \n",
    "    bas = name.split(\".\")[1].split(\"-\")\n",
    "    (ba1, ba2) = bas\n",
    "\n",
    "    next = False\n",
    "    for ba in bas: \n",
    "        if ba not in ba_coords.index:\n",
    "            next=True\n",
    "        if ba not in toplot.BA.unique():\n",
    "            next=True\n",
    "    if next:\n",
    "        continue\n",
    "\n",
    "    color = toplot.loc[toplot.BA == ba1, \"generated_co2_rate_lb_per_mwh_for_electricity\"].to_numpy()[0]\n",
    "    print(color)\n",
    "\n",
    "    fig.add_trace(\n",
    "        go.Scatter(x = ba_coords.loc[bas,\"cx\"], y = ba_coords.loc[bas,\"cy\"], opacity=1.0,\n",
    "            mode=\"lines\", line = dict(color=get_color_for_val(color, 0, c_max, colorscale), width=2), showlegend=False\n",
    "        )\n",
    "    )\n",
    "\n",
    "################################# Plot BAs \n",
    "toplot.loc[toplot.net_generation_mwh < 1, \"net_generation_mwh\"] = 1\n",
    "sizes = np.log(toplot.net_generation_mwh)/np.log(1.5)\n",
    "offset = sizes/1.6\n",
    "fig.add_trace(\n",
    "    go.Scatter(x=toplot.cx, y=toplot.cy-offset, mode=\"markers\", hoverinfo=\"text\", text=toplot.BA, \n",
    "        marker_symbol=\"triangle-up\", \n",
    "        opacity=1.0,\n",
    "        marker=dict(color=toplot.generated_co2_rate_lb_per_mwh_for_electricity, size=sizes,\n",
    "            sizemode='diameter', cmin=0, cmax=c_max, opacity=1.0,\n",
    "        colorscale=\"rdylgn_r\"),\n",
    "        name=\"Generated\",   \n",
    "        showlegend=False\n",
    "    )\n",
    ")\n",
    "fig.add_trace(\n",
    "    go.Scatter(x=toplot.cx, y=toplot.cy, mode=\"markers\", hoverinfo=\"text\", text=toplot.BA, \n",
    "        marker_symbol=\"triangle-down\",\n",
    "        marker=dict(color=toplot.consumed_co2_rate_lb_per_mwh_for_electricity, size=sizes, opacity=1.0,\n",
    "            sizemode='diameter', cmin=0, cmax=c_max, colorbar=dict(\n",
    "            title=\"Emission rate (lbs/MWh)\", orientation='v', len=.8, thickness=20, yanchor='bottom', y=0, xpad=20\n",
    "        ),\n",
    "        colorscale=\"rdylgn_r\"),\n",
    "        name=\"Consumed\", \n",
    "        showlegend=False  \n",
    "    )\n",
    ")\n",
    "\n",
    "\n",
    "# Legends: don't want colored markers\n",
    "# Legends: don't want colored markers\n",
    "fig.add_trace(\n",
    "    go.Scatter(x=[-10], y=[-10], mode=\"markers\", \n",
    "        marker_symbol=\"triangle-up\",\n",
    "        marker=dict(color='white', line=dict(width=2, color='DarkSlateGrey'), size=10),\n",
    "        name=\"Generated\",   \n",
    "    )\n",
    ")\n",
    "fig.add_trace(\n",
    "    go.Scatter(x=[-10], y=[-10], mode=\"markers\", \n",
    "        marker_symbol=\"triangle-down\",\n",
    "        marker=dict(color='white', line=dict(width=2, color='DarkSlateGrey'), size=10),\n",
    "        name=\"Consumed\",   \n",
    "    )\n",
    ")\n",
    "fig.update_yaxes(range=(420,0)) # autorange=\"reversed\")\n",
    "fig.update_xaxes(range=(0,200))\n",
    "\n",
    "## loop through the labels and add them as annotations\n",
    "for x in zip(toplot.BA, toplot.cx, toplot.cy):\n",
    "    left_bas = [\"BANC\",\"TIDC\",\"CISO\",\"LDWP\",\"IID\"]\n",
    "    delta = (-12 if x[0] in left_bas else 12)\n",
    "    fig.add_annotation(\n",
    "        x=x[1] + delta,\n",
    "        y=x[2],\n",
    "        text=x[0],\n",
    "        showarrow=False,\n",
    "        xanchor=('right' if x[0] in left_bas else 'left')\n",
    "    )\n",
    "\n",
    "# Add images\n",
    "fig.add_layout_image(\n",
    "        dict(\n",
    "            source=\"resources/usa.png\",\n",
    "            xref=\"x\",\n",
    "            yref=\"y\",\n",
    "            x=10,\n",
    "            y=0,\n",
    "            sizex=790,\n",
    "            sizey=550,\n",
    "            sizing=\"stretch\",\n",
    "            opacity=1.0,\n",
    "            layer=\"below\")\n",
    ")\n",
    "\n",
    "# Set templates\n",
    "fig.update_layout(template=\"plotly_white\", width=450, height=500,\n",
    "    yaxis_visible=False, xaxis_visible=False\n",
    ")\n",
    "fig.show()\n",
    "fig.write_image(f\"outputs/viz2_label_{hour}.png\") "
   ]
  },
  {
   "cell_type": "code",
   "execution_count": 76,
   "metadata": {},
   "outputs": [
    {
     "data": {
      "text/plain": [
       "['rgb(0,104,55)',\n",
       " 'rgb(26,152,80)',\n",
       " 'rgb(102,189,99)',\n",
       " 'rgb(166,217,106)',\n",
       " 'rgb(217,239,139)',\n",
       " 'rgb(255,255,191)',\n",
       " 'rgb(254,224,139)',\n",
       " 'rgb(253,174,97)',\n",
       " 'rgb(244,109,67)',\n",
       " 'rgb(215,48,39)',\n",
       " 'rgb(165,0,38)']"
      ]
     },
     "execution_count": 76,
     "metadata": {},
     "output_type": "execute_result"
    }
   ],
   "source": [
    "diverging.RdYlGn_r"
   ]
  },
  {
   "cell_type": "code",
   "execution_count": 87,
   "metadata": {},
   "outputs": [],
   "source": [
    "import kaleido"
   ]
  },
  {
   "cell_type": "code",
   "execution_count": null,
   "metadata": {},
   "outputs": [],
   "source": [
    "### Old code for arrows\n",
    "    # # Arrows have to be added separately\n",
    "    # line_size = val*width_factor\n",
    "    # fig.add_annotation(\n",
    "    #     x=ba_coords.loc[ba2,\"cx\"],  # arrows' head\n",
    "    #     y=ba_coords.loc[ba2,\"cy\"],  # arrows' head\n",
    "    #     ax=ba_coords.loc[ba1,\"cx\"],  # arrows' tail\n",
    "    #     ay=ba_coords.loc[ba1,\"cy\"],  # arrows' tail\n",
    "    #     xref='x',\n",
    "    #     yref='y',\n",
    "    #     axref='x',\n",
    "    #     ayref='y',\n",
    "    #     text='',  # if you want only the arrow\n",
    "    #     showarrow=True,\n",
    "    #     arrowhead=1,\n",
    "    #     arrowsize=1, #max(.3, line_size),\n",
    "    #     arrowwidth=1,\n",
    "    #     arrowcolor='royalblue'\n",
    "    # )"
   ]
  },
  {
   "cell_type": "code",
   "execution_count": 32,
   "metadata": {},
   "outputs": [
    {
     "name": "stderr",
     "output_type": "stream",
     "text": [
      "/var/folders/mr/3dcnnc3153j6s05bmdwr0r0h0000gq/T/ipykernel_4357/4049740564.py:6: DeprecationWarning:\n",
      "\n",
      "Starting with ImageIO v3 the behavior of this function will switch to that of iio.v3.imread. To keep the current behavior (and make this warning dissapear) use `import imageio.v2 as imageio` or call `imageio.v2.imread` directly.\n",
      "\n"
     ]
    }
   ],
   "source": [
    "import imageio\n",
    "images = []\n",
    "for f in os.listdir(\"../visualization_output/maps/\"):\n",
    "    if \".png\" not in f:\n",
    "        continue\n",
    "    images.append(imageio.imread(\"../visualization_output/maps/\"+f))\n",
    "imageio.mimsave(\"../visualization_output/movie.gif\", images)"
   ]
  },
  {
   "cell_type": "code",
   "execution_count": null,
   "metadata": {},
   "outputs": [],
   "source": []
  }
 ],
 "metadata": {
  "kernelspec": {
   "display_name": "Python 3.10.5 ('hourly_egrid')",
   "language": "python",
   "name": "python3"
  },
  "language_info": {
   "codemirror_mode": {
    "name": "ipython",
    "version": 3
   },
   "file_extension": ".py",
   "mimetype": "text/x-python",
   "name": "python",
   "nbconvert_exporter": "python",
   "pygments_lexer": "ipython3",
   "version": "3.10.5"
  },
  "orig_nbformat": 4,
  "vscode": {
   "interpreter": {
    "hash": "65c02dfd2dc2ef471c0b5088763a28c1faaa7cad28937ca42fadf51e669fd8e8"
   }
  }
 },
 "nbformat": 4,
 "nbformat_minor": 2
}
