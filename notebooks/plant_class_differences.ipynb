{
 "cells": [
  {
   "cell_type": "markdown",
   "metadata": {},
   "source": [
    "# Differences between CEMS-reporting and non-CEMS-reporting plants\n",
    "\n",
    "Some key characteristics (from Greg):\n",
    "* Nameplate capacity\n",
    "* Capacity factor\n",
    "* Primary fuel type\n",
    "* Heat rate\n",
    "* Prime mover type, esp for natural gas plants"
   ]
  },
  {
   "cell_type": "code",
   "execution_count": null,
   "metadata": {},
   "outputs": [],
   "source": [
    "import pandas as pd\n",
    "import numpy as np\n",
    "\n",
    "import plotly.express as px"
   ]
  },
  {
   "cell_type": "code",
   "execution_count": null,
   "metadata": {},
   "outputs": [],
   "source": [
    "%reload_ext autoreload\n",
    "%autoreload 2\n",
    "\n",
    "# Tell python where to look for modules. \n",
    "# Depending on how your jupyter handles working directories, this may not be needed.\n",
    "import sys\n",
    "sys.path.append('../../hourly-egrid/')\n",
    "\n",
    "from src.load_data import load_pudl_table"
   ]
  },
  {
   "cell_type": "code",
   "execution_count": null,
   "metadata": {},
   "outputs": [],
   "source": [
    "year = 2020"
   ]
  },
  {
   "cell_type": "code",
   "execution_count": null,
   "metadata": {},
   "outputs": [],
   "source": [
    "# gather plant IDs of reporting plants from cems data\n",
    "\n",
    "cems = pd.read_csv(f\"../data/outputs/cems_{year}_cleaned_20220415.csv\")"
   ]
  },
  {
   "cell_type": "code",
   "execution_count": null,
   "metadata": {},
   "outputs": [],
   "source": [
    "# load 890 data, 923 data\n",
    "\n",
    "eia890 = load_pudl_table(\"generators_eia860\", year=year)\n",
    "eia923 = load_pudl_table(\"generation_fuel_eia923\", year=year)\n",
    "gen923 = load_pudl_table(\"generation_eia923\", year=year)"
   ]
  },
  {
   "cell_type": "code",
   "execution_count": null,
   "metadata": {},
   "outputs": [],
   "source": [
    "eia890.c"
   ]
  },
  {
   "cell_type": "code",
   "execution_count": null,
   "metadata": {},
   "outputs": [],
   "source": []
  },
  {
   "cell_type": "code",
   "execution_count": null,
   "metadata": {},
   "outputs": [],
   "source": [
    "all_ids = set(eia890.plant_id_eia.unique())\n",
    "all_ids.update(set(eia923.plant_id_eia.unique()))\n",
    "all_ids.update(set(cems.plant_id_eia.unique()))"
   ]
  },
  {
   "cell_type": "code",
   "execution_count": null,
   "metadata": {},
   "outputs": [],
   "source": [
    "plants = pd.DataFrame(index = all_ids)\n",
    "plants[\"in_CEMS\"] = False\n",
    "plants.loc[cems.plant_id_eia.unique(),\"in_CEMS\"] = True"
   ]
  },
  {
   "cell_type": "code",
   "execution_count": null,
   "metadata": {},
   "outputs": [],
   "source": [
    "px.pie(plants, names=\"in_CEMS\")"
   ]
  },
  {
   "cell_type": "markdown",
   "metadata": {},
   "source": [
    "# Capacity"
   ]
  },
  {
   "cell_type": "code",
   "execution_count": null,
   "metadata": {},
   "outputs": [],
   "source": [
    "plants[\"capacity\"] = eia890.groupby(\"plant_id_eia\").sum().capacity_mw"
   ]
  },
  {
   "cell_type": "code",
   "execution_count": null,
   "metadata": {},
   "outputs": [],
   "source": [
    "fig = px.histogram(plants, x=\"capacity\", color=\"in_CEMS\", log_y=True)\n",
    "# Overlay both histograms\n",
    "fig.update_layout(barmode='overlay')\n",
    "# Reduce opacity to see both histograms\n",
    "fig.update_traces(opacity=0.75)"
   ]
  },
  {
   "cell_type": "markdown",
   "metadata": {},
   "source": [
    "# Generation, capacity factor"
   ]
  },
  {
   "cell_type": "code",
   "execution_count": null,
   "metadata": {},
   "outputs": [],
   "source": [
    "plants[\"generation\"] = eia923.groupby(\"plant_id_eia\").sum().net_generation_mwh"
   ]
  },
  {
   "cell_type": "code",
   "execution_count": null,
   "metadata": {},
   "outputs": [],
   "source": [
    "fig = px.histogram(plants, x=\"generation\", color=\"in_CEMS\", log_y=True)\n",
    "# Overlay both histograms\n",
    "fig.update_layout(barmode='overlay')\n",
    "# Reduce opacity to see both histograms\n",
    "fig.update_traces(opacity=0.75)"
   ]
  },
  {
   "cell_type": "code",
   "execution_count": null,
   "metadata": {},
   "outputs": [],
   "source": [
    "# todo I'm sure there's a built in python function for this\n",
    "if year%4 == 0: \n",
    "    n_hours = 366*24\n",
    "else:\n",
    "    n_hours = 365*24\n",
    "\n",
    "plants[\"capacity_factor\"] = (plants[\"generation\"]/n_hours)/plants[\"capacity\"]"
   ]
  },
  {
   "cell_type": "code",
   "execution_count": null,
   "metadata": {},
   "outputs": [],
   "source": [
    "fig = px.histogram(plants, x=\"capacity_factor\", color=\"in_CEMS\")\n",
    "# Overlay both histograms\n",
    "fig.update_layout(barmode='overlay')\n",
    "# Reduce opacity to see both histograms\n",
    "fig.update_traces(opacity=0.75)"
   ]
  },
  {
   "cell_type": "code",
   "execution_count": null,
   "metadata": {},
   "outputs": [],
   "source": [
    "plants"
   ]
  },
  {
   "cell_type": "markdown",
   "metadata": {},
   "source": [
    "# Heat rate\n",
    "\n",
    "Heat rate = energy consumed / generation, in mmBtu/MWh"
   ]
  },
  {
   "cell_type": "code",
   "execution_count": null,
   "metadata": {},
   "outputs": [],
   "source": [
    "plants[\"fuel_consumed\"] = eia923.groupby(\"plant_id_eia\").sum().fuel_consumed_mmbtu\n",
    "plants[\"heat_rate\"] = plants[\"fuel_consumed\"]/plants[\"generation\"]\n",
    "# assume heat_rate = 0 should be NaN, these are plants that didn't consume anything\n",
    "plants.loc[plants[\"heat_rate\"]==0,\"heat_rate\"] = np.nan"
   ]
  },
  {
   "cell_type": "code",
   "execution_count": null,
   "metadata": {},
   "outputs": [],
   "source": [
    "fig = px.histogram(plants, x=\"heat_rate\", color=\"in_CEMS\", log_y=True)\n",
    "# Overlay both histograms\n",
    "fig.update_layout(barmode='overlay')\n",
    "# Reduce opacity to see both histograms\n",
    "fig.update_traces(opacity=0.75)"
   ]
  },
  {
   "cell_type": "markdown",
   "metadata": {},
   "source": [
    "# Use eGRID \n",
    "\n",
    "This avoids potential data issues with 860, 923 that are fixed by eGRID"
   ]
  },
  {
   "cell_type": "code",
   "execution_count": null,
   "metadata": {},
   "outputs": [],
   "source": [
    "egrid_plant = pd.read_excel(f'../data/downloads/egrid/egrid{year}_data.xlsx', \n",
    "                            sheet_name=f'PLNT{str(year)[-2:]}', \n",
    "                            header=1, \n",
    "                            usecols=[\"ORISPL\", # Plant code\n",
    "                            \"PLHTRT\", # heat rate\n",
    "                             \"CAPFAC\",# capacity factor\n",
    "                             \"NAMEPCAP\",# nameplate capacity\n",
    "                             \"CHPFLAG\", # combined heat and power\n",
    "                             \"ELCALLOC\", # CHP electric allocation factor\n",
    "                             \"PLCO2AN\", # annual CO2 emissions (tons)\n",
    "                             \"PLPRMFL\", # plant primary fuel\n",
    "                             \"PLFUELCT\", # plant fuel category \n",
    "                             \"NUMUNT\", # number of units\n",
    "                             \"NUMGEN\", # number of generators\n",
    "                             \"PLNGENAN\"]) # annual generation \n"
   ]
  },
  {
   "cell_type": "code",
   "execution_count": null,
   "metadata": {},
   "outputs": [],
   "source": [
    "# Fix eGRID IDs\n",
    "# TODO move into helper function, this code is reused between here and data_pipeline\n",
    "\n",
    "egrid_crosswalk = pd.read_csv('../data/manual/egrid_static_tables/table_C5_crosswalk_of_EIA_ID_to_EPA_ID.csv')\n",
    "epaid_to_eiaid = dict(zip(list(egrid_crosswalk['EGRID ID']), list(egrid_crosswalk['EIA ID'])))\n",
    "print(f\" Updatating {len(egrid_plant[egrid_plant['ORISPL'].isin(list(egrid_crosswalk['EGRID ID']))])} plant codes from eGRID\")\n",
    "\n",
    "egrid_plant['plant_id_eia'] = egrid_plant['ORISPL'].map(lambda x: epaid_to_eiaid.get(x, x))\n",
    "egrid_plant = egrid_plant.set_index(\"plant_id_eia\")"
   ]
  },
  {
   "cell_type": "code",
   "execution_count": null,
   "metadata": {},
   "outputs": [],
   "source": [
    "cems_reporters = cems.plant_id_eia.unique()\n",
    "print(f\"{len(set(cems_reporters).difference(egrid_plant.index.unique()))} CEMS plants not in eGRID\")\n",
    "cems_reporters = list(set(cems_reporters).intersection(egrid_plant.index.unique()))\n",
    "\n",
    "egrid_plant[\"in_CEMS\"] = False\n",
    "egrid_plant.loc[cems_reporters, \"in_CEMS\"] = True"
   ]
  },
  {
   "cell_type": "code",
   "execution_count": null,
   "metadata": {},
   "outputs": [],
   "source": [
    "px.pie(egrid_plant, names=\"in_CEMS\")"
   ]
  },
  {
   "cell_type": "code",
   "execution_count": null,
   "metadata": {},
   "outputs": [],
   "source": [
    "fig = px.histogram(egrid_plant, x=\"NAMEPCAP\", color=\"in_CEMS\", log_y=False, title=\"Capacity\", histnorm='probability')\n",
    "# Overlay both histograms\n",
    "fig.update_layout(barmode='overlay')\n",
    "# Reduce opacity to see both histograms\n",
    "fig.update_traces(opacity=0.75)"
   ]
  },
  {
   "cell_type": "code",
   "execution_count": null,
   "metadata": {},
   "outputs": [],
   "source": [
    "fig = px.histogram(egrid_plant, x=\"CAPFAC\", color=\"in_CEMS\", log_y=False, title=\"Capacity factor\", histnorm='probability')\n",
    "# Overlay both histograms\n",
    "fig.update_layout(barmode='overlay')\n",
    "# Reduce opacity to see both histograms\n",
    "fig.update_traces(opacity=0.75)"
   ]
  },
  {
   "cell_type": "code",
   "execution_count": null,
   "metadata": {},
   "outputs": [],
   "source": [
    "#px.bar(egrid_plant,color=\"PLPRMFL\", x=\"in_CEMS\")"
   ]
  },
  {
   "cell_type": "code",
   "execution_count": null,
   "metadata": {},
   "outputs": [],
   "source": [
    "egrid_plant.PLPRMFL"
   ]
  },
  {
   "cell_type": "code",
   "execution_count": null,
   "metadata": {},
   "outputs": [],
   "source": []
  }
 ],
 "metadata": {
  "interpreter": {
   "hash": "92b0b2e6ebfed447d155e0cb5647230f92a19c4ba775addd42c9f077f0696b86"
  },
  "kernelspec": {
   "display_name": "Python 3.10.1 ('hourly-egrid')",
   "language": "python",
   "name": "python3"
  },
  "language_info": {
   "codemirror_mode": {
    "name": "ipython",
    "version": 3
   },
   "file_extension": ".py",
   "mimetype": "text/x-python",
   "name": "python",
   "nbconvert_exporter": "python",
   "pygments_lexer": "ipython3",
   "version": "3.10.1"
  },
  "orig_nbformat": 4
 },
 "nbformat": 4,
 "nbformat_minor": 2
}
