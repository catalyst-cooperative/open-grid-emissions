{
 "cells": [
  {
   "cell_type": "markdown",
   "metadata": {},
   "source": [
    "# About this notebook\n",
    "\n",
    "This notebook is for test running the data pipeline and  as a sandbox for testing new functions that we are adding to data pipeline."
   ]
  },
  {
   "cell_type": "code",
   "execution_count": 1,
   "metadata": {},
   "outputs": [],
   "source": [
    "# import packages\n",
    "import numpy as np\n",
    "import pandas as pd\n",
    "import argparse\n",
    "import os\n",
    "\n",
    "%reload_ext autoreload\n",
    "%autoreload 2\n",
    "\n",
    "# # Tell python where to look for modules.\n",
    "import sys\n",
    "\n",
    "sys.path.append(\"../../hourly-egrid/\")\n",
    "\n",
    "# import local modules\n",
    "import src.data_cleaning as data_cleaning\n",
    "import src.gross_to_net_generation as gross_to_net_generation\n",
    "import src.load_data as load_data\n",
    "import src.residual as residual"
   ]
  },
  {
   "cell_type": "markdown",
   "metadata": {},
   "source": [
    "# Run the pipeline"
   ]
  },
  {
   "cell_type": "code",
   "execution_count": 124,
   "metadata": {},
   "outputs": [
    {
     "name": "stdout",
     "output_type": "stream",
     "text": [
      "a:\\GitHub\\hourly-egrid\\src\n",
      "PUDL data already downloaded\n",
      "egrid2019_data.xlsx already downloaded\n",
      "egrid2020_data.xlsx already downloaded\n",
      "2020_Jan_Jun data already downloaded\n",
      "2020_Jul_Dec data already downloaded\n",
      "EBA_elec.csv already downloaded\n",
      "EBA_raw.csv already downloaded\n",
      "epa_eia_crosswalk.csv already downloaded\n",
      "Cleaning EIA-923 data\n"
     ]
    },
    {
     "name": "stderr",
     "output_type": "stream",
     "text": [
      "a:\\github\\pudl\\src\\pudl\\analysis\\allocate_net_gen.py:190: UserWarning: 1 generators are missing prime mover codes in gens_eia860. This will result in incorrect allocation.\n",
      "  warnings.warn(\n"
     ]
    },
    {
     "name": "stdout",
     "output_type": "stream",
     "text": [
      "Randomly selecting 5% of plants for faster test run.\n",
      "Removing 0 plants that are not grid-connected\n",
      "Removing 0 plants located in the following states: ['PR']\n",
      "Cleaning CEMS data\n",
      "Randomly selecting 5% of plants for faster test run.\n",
      "Removing 3 plants that are not grid-connected\n",
      "Removing 0 plants located in the following states: ['PR']\n",
      "Removing 3 units that only produce steam and do not report to EIA\n"
     ]
    },
    {
     "name": "stderr",
     "output_type": "stream",
     "text": [
      "a:\\miniconda3\\envs\\hourly_egrid\\lib\\site-packages\\pandas\\core\\arrays\\datetimes.py:1162: UserWarning: Converting to PeriodArray/Index representation will drop timezone information.\n",
      "  warnings.warn(\n"
     ]
    },
    {
     "name": "stdout",
     "output_type": "stream",
     "text": [
      "removing 315978 observations from cems for unit-months where no data reported\n",
      "Converting CEMS gross generation to net generation\n",
      "Identifying source for hourly data\n",
      "Scaling partial CEMS data\n",
      "Exporting intermediate output files\n",
      "Cleaning EIA-930 data\n",
      "Calculating residual net generation profiles from EIA-930\n",
      "Assigning hourly profile to monthly EIA-923 data\n",
      "Adding flat profile for SOCO biomass\n",
      "Adding flat profile for SPA petroleum\n",
      "Adding flat profile for WACM other\n",
      "Adding flat profile for ISNE waste\n",
      "Adding flat profile for PJM biomass\n",
      "Adding flat profile for HECO petroleum\n",
      "Adding flat profile for HECO biomass\n",
      "Adding flat profile for HECO solar\n",
      "Adding flat profile for MISO biomass\n",
      "Adding flat profile for SWPP biomass\n",
      "Adding flat profile for NEVP geothermal\n",
      "Adding flat profile for NYIS waste\n",
      "Adding flat profile for DUK petroleum\n",
      "Adding flat profile for DUK biomass\n",
      "Adding flat profile for ERCO petroleum\n",
      "Adding flat profile for PNM petroleum\n",
      "Adding flat profile for AVA biomass\n",
      "Adding flat profile for IID geothermal\n",
      "Adding flat profile for PACW biomass\n",
      "Adding flat profile for SCL biomass\n",
      "Adding flat profile for CPLE biomass\n",
      "Adding flat profile for AECI petroleum\n",
      "Adding flat profile for GVL biomass\n",
      "Adding flat profile for CEA wind\n",
      "Adding flat profile for PGE solar\n",
      "Adding flat profile for PGE biomass\n",
      "Outputting final results\n"
     ]
    }
   ],
   "source": [
    "%cd ../src\n",
    "%run data_pipeline --small SMALL"
   ]
  }
 ],
 "metadata": {
  "interpreter": {
   "hash": "4103f3cd497821eca917ea303dbe10c590d787eb7d2dc3fd4e15dec0356e7931"
  },
  "kernelspec": {
   "display_name": "Python 3.9.12 ('hourly_egrid')",
   "language": "python",
   "name": "python3"
  },
  "language_info": {
   "codemirror_mode": {
    "name": "ipython",
    "version": 3
   },
   "file_extension": ".py",
   "mimetype": "text/x-python",
   "name": "python",
   "nbconvert_exporter": "python",
   "pygments_lexer": "ipython3",
   "version": "3.9.12"
  },
  "orig_nbformat": 4
 },
 "nbformat": 4,
 "nbformat_minor": 2
}
