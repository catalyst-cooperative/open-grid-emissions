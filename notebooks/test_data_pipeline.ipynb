{
 "cells": [
  {
   "cell_type": "markdown",
   "metadata": {},
   "source": [
    "# About this notebook\n",
    "\n",
    "This notebook is for test running the data pipeline and  as a sandbox for testing new functions that we are adding to data pipeline."
   ]
  },
  {
   "cell_type": "code",
   "execution_count": 1,
   "metadata": {},
   "outputs": [],
   "source": [
    "# import packages\n",
    "import numpy as np\n",
    "import pandas as pd\n",
    "import argparse\n",
    "import os\n",
    "\n",
    "%reload_ext autoreload\n",
    "%autoreload 2\n",
    "\n",
    "# # Tell python where to look for modules.\n",
    "import sys\n",
    "\n",
    "sys.path.append(\"../../hourly-egrid/\")\n",
    "\n",
    "# import local modules\n",
    "import src.data_cleaning as data_cleaning\n",
    "import src.load_data as load_data\n",
    "import src.impute_hourly_profiles as impute_hourly_profiles\n",
    "import src.eia930 as eia930\n",
    "import src.output_data as output_data\n",
    "\n",
    "from src.column_checks import get_dtypes, apply_dtypes\n",
    "\n",
    "year = 2020"
   ]
  },
  {
   "cell_type": "markdown",
   "metadata": {},
   "source": [
    "# Run the Pipeline"
   ]
  },
  {
   "cell_type": "code",
   "execution_count": 3,
   "metadata": {},
   "outputs": [
    {
     "name": "stdout",
     "output_type": "stream",
     "text": [
      "a:\\GitHub\\hourly-egrid\\src\n",
      "1. Downloading data\n",
      "   PUDL data already downloaded\n",
      "   egrid2019_data.xlsx already downloaded\n",
      "   egrid2020_data.xlsx already downloaded\n",
      "   EBA_elec.csv already downloaded\n",
      "   EBA_raw.csv already downloaded\n",
      "   BALANCE_2020_Jan_Jun data already downloaded\n",
      "   BALANCE_2020_Jul_Dec data already downloaded\n",
      "   INTERCHANGE_2020_Jan_Jun data already downloaded\n",
      "   INTERCHANGE_2020_Jul_Dec data already downloaded\n",
      "   BALANCE_2019_Jan_Jun data already downloaded\n",
      "   BALANCE_2019_Jul_Dec data already downloaded\n",
      "   INTERCHANGE_2019_Jan_Jun data already downloaded\n",
      "   INTERCHANGE_2019_Jul_Dec data already downloaded\n",
      "   epa_eia_crosswalk.csv already downloaded\n",
      "2. Identifying subplant IDs\n",
      "   Subplant IDs already created\n",
      "3. Cleaning EIA-923 data\n"
     ]
    },
    {
     "name": "stderr",
     "output_type": "stream",
     "text": [
      "a:\\miniconda3\\envs\\hourly_egrid\\lib\\site-packages\\pudl\\analysis\\allocate_net_gen.py:190: UserWarning: 1 generators are missing prime mover codes in gens_eia860. This will result in incorrect allocation.\n",
      "  warnings.warn(\n"
     ]
    },
    {
     "name": "stdout",
     "output_type": "stream",
     "text": [
      "   Removing 0 plants that are not grid-connected\n",
      "   Removing 0 plants located in the following states: ['PR']\n",
      "4. Cleaning CEMS data\n",
      "   Removing 45 plants that are not grid-connected\n",
      "   Removing 0 plants located in the following states: ['PR']\n",
      "   Removing 3 units that only produce steam and do not report to EIA\n",
      "   Removing 7254921 observations from cems for unit-months where no data reported\n",
      "5. Loading plant static attributes\n",
      "   Exporting plant_static_attributes to data/outputs\n",
      "   Exporting plant_static_attributes to data/results/2020/plant_data/\n",
      "6. Converting CEMS gross generation to net generation\n",
      "   Exporting gross_to_net_conversions to data/outputs\n",
      "   Exporting cems to data/outputs\n",
      "7. Identifying source for hourly data\n",
      "8. Scaling partial CEMS data\n",
      "   Exporting eia923_allocated to data/outputs\n",
      "   Exporting partial_cems_scaled to data/outputs\n",
      "9. Exporting monthly and annual plant-level results\n",
      "   Exporting plant_data to data/results/2020/plant_data/monthly/\n",
      "   Exporting plant_data to data/results/2020/plant_data/annual/\n",
      "10. Cleaning EIA-930 data\n",
      "    Not re-running 930 cleaning. If you'd like to re-run, please delete data/outputs/2020//eia930/\n"
     ]
    },
    {
     "name": "stderr",
     "output_type": "stream",
     "text": [
      "a:\\GitHub\\hourly-egrid\\notebooks\\../../hourly-egrid\\src\\eia930.py:250: FutureWarning: Setitem-like behavior with mismatched timezones is deprecated and will change in a future version. Instead of raising (or for Index, Series, and DataFrame methods, coercing to object dtype), the value being set (or passed as a fill_value, or inserted) will be cast to the existing DatetimeArray/DatetimeIndex/Series/DataFrame column's timezone. To retain the old behavior, explicitly cast to object dtype before the operation.\n",
      "  data.loc[data.ba_code == ba, \"datetime_local\"] = data.loc[\n"
     ]
    },
    {
     "name": "stdout",
     "output_type": "stream",
     "text": [
      "replacing 3233955 imputed 1 values with 0\n",
      "11. Estimating hourly residual generation profiles\n",
      "Summary of methods used to estimate missing hourly profiles:\n",
      "                report_date                                                                                                    \n",
      "profile_method DIBA_average assumed_flat cems_profile eia930_profile national_average residual_profile shifted_residual_profile\n",
      "fuel_category                                                                                                                  \n",
      "biomass                   0          433           96              0                0                0                        0\n",
      "coal                      0           47            1             55                0              201                      244\n",
      "geothermal                0          108            0              0                0                0                        0\n",
      "hydro                     0           83            0              0                0              573                        0\n",
      "natural_gas               0           76           12             78                0              108                      446\n",
      "nuclear                   0            0            0              0                0              322                        0\n",
      "other                     0           55            0             24                0              458                       20\n",
      "petroleum                 0          230            3             61                0              235                       18\n",
      "solar                    55            0            0              0               38              513                       12\n",
      "waste                     0          156            0              0                0                0                        0\n",
      "wind                     58            0            0              0               84              387                        0\n",
      "   Exporting hourly_profiles to data/outputs\n",
      "12. Assigning hourly profile to monthly EIA-923 data\n",
      "   Exporting shaped_eia923_data to data/outputs\n",
      "   Exporting plant_attributes_with_synthetic to data/outputs\n",
      "13. Combining and exporting plant-level hourly results\n",
      "   Exporting plant_metadata to data/results/2020/plant_data/\n",
      "   Exporting synthetic_plant_data to data/results/2020/plant_data/hourly/\n",
      "   Exporting CEMS_plant_data to data/results/2020/plant_data/hourly/\n",
      "14. Creating and exporting BA-level power sector results\n",
      "   Exporting annual_generation_averages_by_fuel to data/outputs\n",
      "   Exporting AEC to data/results/2020/power_sector_data/hourly/\n",
      "   Exporting AEC to data/results/2020/power_sector_data/monthly/\n",
      "   Exporting AEC to data/results/2020/power_sector_data/annual/\n",
      "   Exporting AECI to data/results/2020/power_sector_data/hourly/\n",
      "   Exporting AECI to data/results/2020/power_sector_data/monthly/\n",
      "   Exporting AECI to data/results/2020/power_sector_data/annual/\n",
      "   Exporting AKMS to data/results/2020/power_sector_data/hourly/\n",
      "   Exporting AKMS to data/results/2020/power_sector_data/monthly/\n",
      "   Exporting AKMS to data/results/2020/power_sector_data/annual/\n",
      "   Exporting AMPL to data/results/2020/power_sector_data/hourly/\n",
      "   Exporting AMPL to data/results/2020/power_sector_data/monthly/\n",
      "   Exporting AMPL to data/results/2020/power_sector_data/annual/\n",
      "   Exporting AVA to data/results/2020/power_sector_data/hourly/\n",
      "   Exporting AVA to data/results/2020/power_sector_data/monthly/\n",
      "   Exporting AVA to data/results/2020/power_sector_data/annual/\n",
      "   Exporting AVRN to data/results/2020/power_sector_data/hourly/\n",
      "   Exporting AVRN to data/results/2020/power_sector_data/monthly/\n",
      "   Exporting AVRN to data/results/2020/power_sector_data/annual/\n",
      "   Exporting AZPS to data/results/2020/power_sector_data/hourly/\n",
      "   Exporting AZPS to data/results/2020/power_sector_data/monthly/\n",
      "   Exporting AZPS to data/results/2020/power_sector_data/annual/\n",
      "   Exporting BANC to data/results/2020/power_sector_data/hourly/\n",
      "   Exporting BANC to data/results/2020/power_sector_data/monthly/\n",
      "   Exporting BANC to data/results/2020/power_sector_data/annual/\n",
      "   Exporting BPAT to data/results/2020/power_sector_data/hourly/\n",
      "   Exporting BPAT to data/results/2020/power_sector_data/monthly/\n",
      "   Exporting BPAT to data/results/2020/power_sector_data/annual/\n",
      "   Exporting CEA to data/results/2020/power_sector_data/hourly/\n",
      "   Exporting CEA to data/results/2020/power_sector_data/monthly/\n",
      "   Exporting CEA to data/results/2020/power_sector_data/annual/\n",
      "   Exporting CHPD to data/results/2020/power_sector_data/hourly/\n",
      "   Exporting CHPD to data/results/2020/power_sector_data/monthly/\n",
      "   Exporting CHPD to data/results/2020/power_sector_data/annual/\n",
      "   Exporting CISO to data/results/2020/power_sector_data/hourly/\n",
      "   Exporting CISO to data/results/2020/power_sector_data/monthly/\n",
      "   Exporting CISO to data/results/2020/power_sector_data/annual/\n",
      "   Exporting CPLE to data/results/2020/power_sector_data/hourly/\n",
      "   Exporting CPLE to data/results/2020/power_sector_data/monthly/\n",
      "   Exporting CPLE to data/results/2020/power_sector_data/annual/\n",
      "   Exporting CPLW to data/results/2020/power_sector_data/hourly/\n",
      "   Exporting CPLW to data/results/2020/power_sector_data/monthly/\n",
      "   Exporting CPLW to data/results/2020/power_sector_data/annual/\n",
      "   Exporting CSTO to data/results/2020/power_sector_data/hourly/\n",
      "   Exporting CSTO to data/results/2020/power_sector_data/monthly/\n",
      "   Exporting CSTO to data/results/2020/power_sector_data/annual/\n",
      "   Exporting DEAA to data/results/2020/power_sector_data/hourly/\n",
      "   Exporting DEAA to data/results/2020/power_sector_data/monthly/\n",
      "   Exporting DEAA to data/results/2020/power_sector_data/annual/\n",
      "   Exporting DOPD to data/results/2020/power_sector_data/hourly/\n",
      "   Exporting DOPD to data/results/2020/power_sector_data/monthly/\n",
      "   Exporting DOPD to data/results/2020/power_sector_data/annual/\n",
      "   Exporting DUK to data/results/2020/power_sector_data/hourly/\n",
      "   Exporting DUK to data/results/2020/power_sector_data/monthly/\n",
      "   Exporting DUK to data/results/2020/power_sector_data/annual/\n",
      "   Exporting EEI to data/results/2020/power_sector_data/hourly/\n",
      "   Exporting EEI to data/results/2020/power_sector_data/monthly/\n",
      "   Exporting EEI to data/results/2020/power_sector_data/annual/\n",
      "   Exporting EPE to data/results/2020/power_sector_data/hourly/\n",
      "   Exporting EPE to data/results/2020/power_sector_data/monthly/\n",
      "   Exporting EPE to data/results/2020/power_sector_data/annual/\n",
      "   Exporting ERCO to data/results/2020/power_sector_data/hourly/\n",
      "   Exporting ERCO to data/results/2020/power_sector_data/monthly/\n",
      "   Exporting ERCO to data/results/2020/power_sector_data/annual/\n",
      "   Exporting FMPP to data/results/2020/power_sector_data/hourly/\n",
      "   Exporting FMPP to data/results/2020/power_sector_data/monthly/\n",
      "   Exporting FMPP to data/results/2020/power_sector_data/annual/\n",
      "   Exporting FPC to data/results/2020/power_sector_data/hourly/\n",
      "   Exporting FPC to data/results/2020/power_sector_data/monthly/\n",
      "   Exporting FPC to data/results/2020/power_sector_data/annual/\n",
      "   Exporting FPL to data/results/2020/power_sector_data/hourly/\n",
      "   Exporting FPL to data/results/2020/power_sector_data/monthly/\n",
      "   Exporting FPL to data/results/2020/power_sector_data/annual/\n",
      "   Exporting GCPD to data/results/2020/power_sector_data/hourly/\n",
      "   Exporting GCPD to data/results/2020/power_sector_data/monthly/\n",
      "   Exporting GCPD to data/results/2020/power_sector_data/annual/\n",
      "   Exporting GRIF to data/results/2020/power_sector_data/hourly/\n",
      "   Exporting GRIF to data/results/2020/power_sector_data/monthly/\n",
      "   Exporting GRIF to data/results/2020/power_sector_data/annual/\n",
      "   Exporting GRIS to data/results/2020/power_sector_data/hourly/\n",
      "   Exporting GRIS to data/results/2020/power_sector_data/monthly/\n",
      "   Exporting GRIS to data/results/2020/power_sector_data/annual/\n",
      "   Exporting GVL to data/results/2020/power_sector_data/hourly/\n",
      "   Exporting GVL to data/results/2020/power_sector_data/monthly/\n",
      "   Exporting GVL to data/results/2020/power_sector_data/annual/\n",
      "   Exporting GWA to data/results/2020/power_sector_data/hourly/\n",
      "   Exporting GWA to data/results/2020/power_sector_data/monthly/\n",
      "   Exporting GWA to data/results/2020/power_sector_data/annual/\n",
      "   Exporting HECO to data/results/2020/power_sector_data/hourly/\n",
      "   Exporting HECO to data/results/2020/power_sector_data/monthly/\n",
      "   Exporting HECO to data/results/2020/power_sector_data/annual/\n",
      "   Exporting HGMA to data/results/2020/power_sector_data/hourly/\n",
      "   Exporting HGMA to data/results/2020/power_sector_data/monthly/\n",
      "   Exporting HGMA to data/results/2020/power_sector_data/annual/\n",
      "   Exporting HIMS to data/results/2020/power_sector_data/hourly/\n",
      "   Exporting HIMS to data/results/2020/power_sector_data/monthly/\n",
      "   Exporting HIMS to data/results/2020/power_sector_data/annual/\n",
      "   Exporting HST to data/results/2020/power_sector_data/hourly/\n",
      "   Exporting HST to data/results/2020/power_sector_data/monthly/\n",
      "   Exporting HST to data/results/2020/power_sector_data/annual/\n",
      "   Exporting IID to data/results/2020/power_sector_data/hourly/\n",
      "   Exporting IID to data/results/2020/power_sector_data/monthly/\n",
      "   Exporting IID to data/results/2020/power_sector_data/annual/\n",
      "   Exporting IPCO to data/results/2020/power_sector_data/hourly/\n",
      "   Exporting IPCO to data/results/2020/power_sector_data/monthly/\n",
      "   Exporting IPCO to data/results/2020/power_sector_data/annual/\n",
      "   Exporting ISNE to data/results/2020/power_sector_data/hourly/\n",
      "   Exporting ISNE to data/results/2020/power_sector_data/monthly/\n",
      "   Exporting ISNE to data/results/2020/power_sector_data/annual/\n",
      "   Exporting JEA to data/results/2020/power_sector_data/hourly/\n",
      "   Exporting JEA to data/results/2020/power_sector_data/monthly/\n",
      "   Exporting JEA to data/results/2020/power_sector_data/annual/\n",
      "   Exporting LDWP to data/results/2020/power_sector_data/hourly/\n",
      "   Exporting LDWP to data/results/2020/power_sector_data/monthly/\n",
      "   Exporting LDWP to data/results/2020/power_sector_data/annual/\n",
      "   Exporting LGEE to data/results/2020/power_sector_data/hourly/\n",
      "   Exporting LGEE to data/results/2020/power_sector_data/monthly/\n",
      "   Exporting LGEE to data/results/2020/power_sector_data/annual/\n",
      "   Exporting MISO to data/results/2020/power_sector_data/hourly/\n",
      "   Exporting MISO to data/results/2020/power_sector_data/monthly/\n",
      "   Exporting MISO to data/results/2020/power_sector_data/annual/\n",
      "   Exporting NBSO to data/results/2020/power_sector_data/hourly/\n",
      "   Exporting NBSO to data/results/2020/power_sector_data/monthly/\n",
      "   Exporting NBSO to data/results/2020/power_sector_data/annual/\n",
      "   Exporting NEVP to data/results/2020/power_sector_data/hourly/\n",
      "   Exporting NEVP to data/results/2020/power_sector_data/monthly/\n",
      "   Exporting NEVP to data/results/2020/power_sector_data/annual/\n",
      "   Exporting NSB to data/results/2020/power_sector_data/hourly/\n",
      "   Exporting NSB to data/results/2020/power_sector_data/monthly/\n",
      "   Exporting NSB to data/results/2020/power_sector_data/annual/\n",
      "   Exporting NWMT to data/results/2020/power_sector_data/hourly/\n",
      "   Exporting NWMT to data/results/2020/power_sector_data/monthly/\n",
      "   Exporting NWMT to data/results/2020/power_sector_data/annual/\n",
      "   Exporting NYIS to data/results/2020/power_sector_data/hourly/\n",
      "   Exporting NYIS to data/results/2020/power_sector_data/monthly/\n",
      "   Exporting NYIS to data/results/2020/power_sector_data/annual/\n",
      "   Exporting OVEC to data/results/2020/power_sector_data/hourly/\n",
      "   Exporting OVEC to data/results/2020/power_sector_data/monthly/\n",
      "   Exporting OVEC to data/results/2020/power_sector_data/annual/\n",
      "   Exporting PACE to data/results/2020/power_sector_data/hourly/\n",
      "   Exporting PACE to data/results/2020/power_sector_data/monthly/\n",
      "   Exporting PACE to data/results/2020/power_sector_data/annual/\n",
      "   Exporting PACW to data/results/2020/power_sector_data/hourly/\n",
      "   Exporting PACW to data/results/2020/power_sector_data/monthly/\n",
      "   Exporting PACW to data/results/2020/power_sector_data/annual/\n",
      "   Exporting PGE to data/results/2020/power_sector_data/hourly/\n",
      "   Exporting PGE to data/results/2020/power_sector_data/monthly/\n",
      "   Exporting PGE to data/results/2020/power_sector_data/annual/\n",
      "   Exporting PJM to data/results/2020/power_sector_data/hourly/\n",
      "   Exporting PJM to data/results/2020/power_sector_data/monthly/\n",
      "   Exporting PJM to data/results/2020/power_sector_data/annual/\n",
      "   Exporting PNM to data/results/2020/power_sector_data/hourly/\n",
      "   Exporting PNM to data/results/2020/power_sector_data/monthly/\n",
      "   Exporting PNM to data/results/2020/power_sector_data/annual/\n",
      "   Exporting PSCO to data/results/2020/power_sector_data/hourly/\n",
      "   Exporting PSCO to data/results/2020/power_sector_data/monthly/\n",
      "   Exporting PSCO to data/results/2020/power_sector_data/annual/\n",
      "   Exporting PSEI to data/results/2020/power_sector_data/hourly/\n",
      "   Exporting PSEI to data/results/2020/power_sector_data/monthly/\n",
      "   Exporting PSEI to data/results/2020/power_sector_data/annual/\n",
      "   Exporting RIMS to data/results/2020/power_sector_data/hourly/\n",
      "   Exporting RIMS to data/results/2020/power_sector_data/monthly/\n",
      "   Exporting RIMS to data/results/2020/power_sector_data/annual/\n",
      "   Exporting SC to data/results/2020/power_sector_data/hourly/\n",
      "   Exporting SC to data/results/2020/power_sector_data/monthly/\n",
      "   Exporting SC to data/results/2020/power_sector_data/annual/\n",
      "   Exporting SCEG to data/results/2020/power_sector_data/hourly/\n",
      "   Exporting SCEG to data/results/2020/power_sector_data/monthly/\n",
      "   Exporting SCEG to data/results/2020/power_sector_data/annual/\n",
      "   Exporting SCL to data/results/2020/power_sector_data/hourly/\n",
      "   Exporting SCL to data/results/2020/power_sector_data/monthly/\n",
      "   Exporting SCL to data/results/2020/power_sector_data/annual/\n",
      "   Exporting SEC to data/results/2020/power_sector_data/hourly/\n",
      "   Exporting SEC to data/results/2020/power_sector_data/monthly/\n",
      "   Exporting SEC to data/results/2020/power_sector_data/annual/\n",
      "   Exporting SEPA to data/results/2020/power_sector_data/hourly/\n",
      "   Exporting SEPA to data/results/2020/power_sector_data/monthly/\n",
      "   Exporting SEPA to data/results/2020/power_sector_data/annual/\n",
      "   Exporting SOCO to data/results/2020/power_sector_data/hourly/\n",
      "   Exporting SOCO to data/results/2020/power_sector_data/monthly/\n",
      "   Exporting SOCO to data/results/2020/power_sector_data/annual/\n",
      "   Exporting SPA to data/results/2020/power_sector_data/hourly/\n",
      "   Exporting SPA to data/results/2020/power_sector_data/monthly/\n",
      "   Exporting SPA to data/results/2020/power_sector_data/annual/\n",
      "   Exporting SRP to data/results/2020/power_sector_data/hourly/\n",
      "   Exporting SRP to data/results/2020/power_sector_data/monthly/\n",
      "   Exporting SRP to data/results/2020/power_sector_data/annual/\n",
      "   Exporting SWPP to data/results/2020/power_sector_data/hourly/\n",
      "   Exporting SWPP to data/results/2020/power_sector_data/monthly/\n",
      "   Exporting SWPP to data/results/2020/power_sector_data/annual/\n",
      "   Exporting TAL to data/results/2020/power_sector_data/hourly/\n",
      "   Exporting TAL to data/results/2020/power_sector_data/monthly/\n",
      "   Exporting TAL to data/results/2020/power_sector_data/annual/\n",
      "   Exporting TEC to data/results/2020/power_sector_data/hourly/\n",
      "   Exporting TEC to data/results/2020/power_sector_data/monthly/\n",
      "   Exporting TEC to data/results/2020/power_sector_data/annual/\n",
      "   Exporting TEPC to data/results/2020/power_sector_data/hourly/\n",
      "   Exporting TEPC to data/results/2020/power_sector_data/monthly/\n",
      "   Exporting TEPC to data/results/2020/power_sector_data/annual/\n",
      "   Exporting TIDC to data/results/2020/power_sector_data/hourly/\n",
      "   Exporting TIDC to data/results/2020/power_sector_data/monthly/\n",
      "   Exporting TIDC to data/results/2020/power_sector_data/annual/\n",
      "   Exporting TPWR to data/results/2020/power_sector_data/hourly/\n",
      "   Exporting TPWR to data/results/2020/power_sector_data/monthly/\n",
      "   Exporting TPWR to data/results/2020/power_sector_data/annual/\n",
      "   Exporting TVA to data/results/2020/power_sector_data/hourly/\n",
      "   Exporting TVA to data/results/2020/power_sector_data/monthly/\n",
      "   Exporting TVA to data/results/2020/power_sector_data/annual/\n",
      "   Exporting WACM to data/results/2020/power_sector_data/hourly/\n",
      "   Exporting WACM to data/results/2020/power_sector_data/monthly/\n",
      "   Exporting WACM to data/results/2020/power_sector_data/annual/\n",
      "   Exporting WALC to data/results/2020/power_sector_data/hourly/\n",
      "   Exporting WALC to data/results/2020/power_sector_data/monthly/\n",
      "   Exporting WALC to data/results/2020/power_sector_data/annual/\n",
      "   Exporting WAUW to data/results/2020/power_sector_data/hourly/\n",
      "   Exporting WAUW to data/results/2020/power_sector_data/monthly/\n",
      "   Exporting WAUW to data/results/2020/power_sector_data/annual/\n",
      "   Exporting WWA to data/results/2020/power_sector_data/hourly/\n",
      "   Exporting WWA to data/results/2020/power_sector_data/monthly/\n",
      "   Exporting WWA to data/results/2020/power_sector_data/annual/\n",
      "   Exporting YAD to data/results/2020/power_sector_data/hourly/\n",
      "   Exporting YAD to data/results/2020/power_sector_data/monthly/\n",
      "   Exporting YAD to data/results/2020/power_sector_data/annual/\n",
      "15. Calculating and exporting consumption-based results\n",
      "Running adjusted, CO2\n",
      "2022-06-29 21:49:41,029 - clean - INFO - Running BaDataEmissionsCalc for 8784 rows\n",
      "2022-06-29 21:49:41,034 - clean - WARNING - Setting 64 NaNs to zero\n",
      "2022-06-29 21:49:41,940 - clean - INFO - Calculating consumption emissions...\n",
      "2022-06-29 21:50:50,262 - clean - INFO - Elapsed time was 68.3221 seconds\n",
      "2022-06-29 21:50:55,700 - clean - WARNING - Consumption calcs - unimplemented balance check!\n",
      "dropping cols\n",
      "Running for_electricity, CO2\n",
      "2022-06-29 21:50:55,913 - clean - INFO - Running BaDataEmissionsCalc for 8784 rows\n",
      "2022-06-29 21:50:55,919 - clean - WARNING - Setting 64 NaNs to zero\n",
      "2022-06-29 21:50:56,837 - clean - INFO - Calculating consumption emissions...\n",
      "2022-06-29 21:52:05,718 - clean - INFO - Elapsed time was 68.8807 seconds\n",
      "2022-06-29 21:52:11,184 - clean - WARNING - Consumption calcs - unimplemented balance check!\n",
      "dropping cols\n",
      "Running adjusted, CH4\n",
      "2022-06-29 21:52:11,430 - clean - INFO - Running BaDataEmissionsCalc for 8784 rows\n",
      "2022-06-29 21:52:11,435 - clean - WARNING - Setting 64 NaNs to zero\n",
      "2022-06-29 21:52:12,534 - clean - INFO - Calculating consumption emissions...\n",
      "2022-06-29 21:53:22,347 - clean - INFO - Elapsed time was 69.8119 seconds\n",
      "2022-06-29 21:53:27,797 - clean - WARNING - Consumption calcs - unimplemented balance check!\n",
      "dropping cols\n",
      "Running for_electricity, CH4\n",
      "2022-06-29 21:53:28,007 - clean - INFO - Running BaDataEmissionsCalc for 8784 rows\n",
      "2022-06-29 21:53:28,012 - clean - WARNING - Setting 64 NaNs to zero\n",
      "2022-06-29 21:53:28,941 - clean - INFO - Calculating consumption emissions...\n",
      "2022-06-29 21:54:37,429 - clean - INFO - Elapsed time was 68.4869 seconds\n",
      "2022-06-29 21:54:43,054 - clean - WARNING - Consumption calcs - unimplemented balance check!\n",
      "dropping cols\n",
      "Running adjusted, N2O\n",
      "2022-06-29 21:54:43,238 - clean - INFO - Running BaDataEmissionsCalc for 8784 rows\n",
      "2022-06-29 21:54:43,243 - clean - WARNING - Setting 64 NaNs to zero\n",
      "2022-06-29 21:54:44,165 - clean - INFO - Calculating consumption emissions...\n",
      "2022-06-29 21:55:53,812 - clean - INFO - Elapsed time was 69.6465 seconds\n",
      "2022-06-29 21:55:59,260 - clean - WARNING - Consumption calcs - unimplemented balance check!\n",
      "dropping cols\n",
      "Running for_electricity, N2O\n",
      "2022-06-29 21:55:59,393 - clean - INFO - Running BaDataEmissionsCalc for 8784 rows\n",
      "2022-06-29 21:55:59,398 - clean - WARNING - Setting 64 NaNs to zero\n",
      "2022-06-29 21:56:00,364 - clean - INFO - Calculating consumption emissions...\n",
      "2022-06-29 21:57:10,121 - clean - INFO - Elapsed time was 69.757 seconds\n",
      "2022-06-29 21:57:15,615 - clean - WARNING - Consumption calcs - unimplemented balance check!\n",
      "dropping cols\n",
      "Running adjusted, NOX\n",
      "2022-06-29 21:57:15,742 - clean - INFO - Running BaDataEmissionsCalc for 8784 rows\n",
      "2022-06-29 21:57:15,747 - clean - WARNING - Setting 64 NaNs to zero\n",
      "2022-06-29 21:57:16,668 - clean - INFO - Calculating consumption emissions...\n",
      "2022-06-29 21:58:25,867 - clean - INFO - Elapsed time was 69.1983 seconds\n",
      "2022-06-29 21:58:31,755 - clean - WARNING - Consumption calcs - unimplemented balance check!\n",
      "dropping cols\n",
      "Running for_electricity, NOX\n",
      "2022-06-29 21:58:31,868 - clean - INFO - Running BaDataEmissionsCalc for 8784 rows\n",
      "2022-06-29 21:58:31,872 - clean - WARNING - Setting 64 NaNs to zero\n",
      "2022-06-29 21:58:32,839 - clean - INFO - Calculating consumption emissions...\n",
      "2022-06-29 21:59:43,856 - clean - INFO - Elapsed time was 71.0158 seconds\n",
      "2022-06-29 21:59:49,621 - clean - WARNING - Consumption calcs - unimplemented balance check!\n",
      "dropping cols\n",
      "Running adjusted, SO2\n",
      "2022-06-29 21:59:49,731 - clean - INFO - Running BaDataEmissionsCalc for 8784 rows\n",
      "2022-06-29 21:59:49,736 - clean - WARNING - Setting 64 NaNs to zero\n",
      "2022-06-29 21:59:50,748 - clean - INFO - Calculating consumption emissions...\n",
      "2022-06-29 22:01:00,134 - clean - INFO - Elapsed time was 69.3847 seconds\n",
      "2022-06-29 22:01:05,651 - clean - WARNING - Consumption calcs - unimplemented balance check!\n",
      "dropping cols\n",
      "Running for_electricity, SO2\n",
      "2022-06-29 22:01:05,760 - clean - INFO - Running BaDataEmissionsCalc for 8784 rows\n",
      "2022-06-29 22:01:05,765 - clean - WARNING - Setting 64 NaNs to zero\n",
      "2022-06-29 22:01:06,687 - clean - INFO - Calculating consumption emissions...\n",
      "2022-06-29 22:02:16,548 - clean - INFO - Elapsed time was 69.8601 seconds\n",
      "2022-06-29 22:02:22,095 - clean - WARNING - Consumption calcs - unimplemented balance check!\n",
      "dropping cols\n",
      "   Exporting AVRN to data/results/2020/carbon_accounting/hourly/\n",
      "   Exporting AVRN to data/results/2020/carbon_accounting/monthly/\n",
      "   Exporting AVRN to data/results/2020/carbon_accounting/annual/\n",
      "   Exporting BPAT to data/results/2020/carbon_accounting/hourly/\n",
      "   Exporting BPAT to data/results/2020/carbon_accounting/monthly/\n",
      "   Exporting BPAT to data/results/2020/carbon_accounting/annual/\n",
      "   Exporting PACW to data/results/2020/carbon_accounting/hourly/\n",
      "   Exporting PACW to data/results/2020/carbon_accounting/monthly/\n",
      "   Exporting PACW to data/results/2020/carbon_accounting/annual/\n",
      "   Exporting CHPD to data/results/2020/carbon_accounting/hourly/\n",
      "   Exporting CHPD to data/results/2020/carbon_accounting/monthly/\n",
      "   Exporting CHPD to data/results/2020/carbon_accounting/annual/\n",
      "   Exporting TVA to data/results/2020/carbon_accounting/hourly/\n",
      "   Exporting TVA to data/results/2020/carbon_accounting/monthly/\n",
      "   Exporting TVA to data/results/2020/carbon_accounting/annual/\n",
      "   Exporting HGMA to data/results/2020/carbon_accounting/hourly/\n",
      "   Exporting HGMA to data/results/2020/carbon_accounting/monthly/\n",
      "   Exporting HGMA to data/results/2020/carbon_accounting/annual/\n",
      "   Exporting PACE to data/results/2020/carbon_accounting/hourly/\n",
      "   Exporting PACE to data/results/2020/carbon_accounting/monthly/\n",
      "   Exporting PACE to data/results/2020/carbon_accounting/annual/\n",
      "   Exporting AZPS to data/results/2020/carbon_accounting/hourly/\n",
      "   Exporting AZPS to data/results/2020/carbon_accounting/monthly/\n",
      "   Exporting AZPS to data/results/2020/carbon_accounting/annual/\n",
      "   Exporting AVA to data/results/2020/carbon_accounting/hourly/\n",
      "   Exporting AVA to data/results/2020/carbon_accounting/monthly/\n",
      "   Exporting AVA to data/results/2020/carbon_accounting/annual/\n",
      "   Exporting EPE to data/results/2020/carbon_accounting/hourly/\n",
      "   Exporting EPE to data/results/2020/carbon_accounting/monthly/\n",
      "   Exporting EPE to data/results/2020/carbon_accounting/annual/\n",
      "   Exporting SRP to data/results/2020/carbon_accounting/hourly/\n",
      "   Exporting SRP to data/results/2020/carbon_accounting/monthly/\n",
      "   Exporting SRP to data/results/2020/carbon_accounting/annual/\n",
      "   Exporting GCPD to data/results/2020/carbon_accounting/hourly/\n",
      "   Exporting GCPD to data/results/2020/carbon_accounting/monthly/\n",
      "   Exporting GCPD to data/results/2020/carbon_accounting/annual/\n",
      "   Exporting IPCO to data/results/2020/carbon_accounting/hourly/\n",
      "   Exporting IPCO to data/results/2020/carbon_accounting/monthly/\n",
      "   Exporting IPCO to data/results/2020/carbon_accounting/annual/\n",
      "   Exporting HST to data/results/2020/carbon_accounting/hourly/\n",
      "   Exporting HST to data/results/2020/carbon_accounting/monthly/\n",
      "   Exporting HST to data/results/2020/carbon_accounting/annual/\n",
      "   Exporting SEPA to data/results/2020/carbon_accounting/hourly/\n",
      "   Exporting SEPA to data/results/2020/carbon_accounting/monthly/\n",
      "   Exporting SEPA to data/results/2020/carbon_accounting/annual/\n",
      "   Exporting SCEG to data/results/2020/carbon_accounting/hourly/\n",
      "   Exporting SCEG to data/results/2020/carbon_accounting/monthly/\n",
      "   Exporting SCEG to data/results/2020/carbon_accounting/annual/\n",
      "   Exporting JEA to data/results/2020/carbon_accounting/hourly/\n",
      "   Exporting JEA to data/results/2020/carbon_accounting/monthly/\n",
      "   Exporting JEA to data/results/2020/carbon_accounting/annual/\n",
      "   Exporting NEVP to data/results/2020/carbon_accounting/hourly/\n",
      "   Exporting NEVP to data/results/2020/carbon_accounting/monthly/\n",
      "   Exporting NEVP to data/results/2020/carbon_accounting/annual/\n",
      "   Exporting GVL to data/results/2020/carbon_accounting/hourly/\n",
      "   Exporting GVL to data/results/2020/carbon_accounting/monthly/\n",
      "   Exporting GVL to data/results/2020/carbon_accounting/annual/\n",
      "   Exporting IID to data/results/2020/carbon_accounting/hourly/\n",
      "   Exporting IID to data/results/2020/carbon_accounting/monthly/\n",
      "   Exporting IID to data/results/2020/carbon_accounting/annual/\n",
      "   Exporting PJM to data/results/2020/carbon_accounting/hourly/\n",
      "   Exporting PJM to data/results/2020/carbon_accounting/monthly/\n",
      "   Exporting PJM to data/results/2020/carbon_accounting/annual/\n",
      "   Exporting MISO to data/results/2020/carbon_accounting/hourly/\n",
      "   Exporting MISO to data/results/2020/carbon_accounting/monthly/\n",
      "   Exporting MISO to data/results/2020/carbon_accounting/annual/\n",
      "   Exporting SEC to data/results/2020/carbon_accounting/hourly/\n",
      "   Exporting SEC to data/results/2020/carbon_accounting/monthly/\n",
      "   Exporting SEC to data/results/2020/carbon_accounting/annual/\n",
      "   Exporting ISNE to data/results/2020/carbon_accounting/hourly/\n",
      "   Exporting ISNE to data/results/2020/carbon_accounting/monthly/\n",
      "   Exporting ISNE to data/results/2020/carbon_accounting/annual/\n",
      "   Exporting PSCO to data/results/2020/carbon_accounting/hourly/\n",
      "   Exporting PSCO to data/results/2020/carbon_accounting/monthly/\n",
      "   Exporting PSCO to data/results/2020/carbon_accounting/annual/\n",
      "   Exporting DOPD to data/results/2020/carbon_accounting/hourly/\n",
      "   Exporting DOPD to data/results/2020/carbon_accounting/monthly/\n",
      "   Exporting DOPD to data/results/2020/carbon_accounting/annual/\n",
      "   Exporting NWMT to data/results/2020/carbon_accounting/hourly/\n",
      "   Exporting NWMT to data/results/2020/carbon_accounting/monthly/\n",
      "   Exporting NWMT to data/results/2020/carbon_accounting/annual/\n",
      "   Exporting SOCO to data/results/2020/carbon_accounting/hourly/\n",
      "   Exporting SOCO to data/results/2020/carbon_accounting/monthly/\n",
      "   Exporting SOCO to data/results/2020/carbon_accounting/annual/\n",
      "   Exporting TAL to data/results/2020/carbon_accounting/hourly/\n",
      "   Exporting TAL to data/results/2020/carbon_accounting/monthly/\n",
      "   Exporting TAL to data/results/2020/carbon_accounting/annual/\n",
      "   Exporting NBSO to data/results/2020/carbon_accounting/hourly/\n",
      "   Exporting NBSO to data/results/2020/carbon_accounting/monthly/\n",
      "   Exporting NBSO to data/results/2020/carbon_accounting/annual/\n",
      "   Exporting DEAA to data/results/2020/carbon_accounting/hourly/\n",
      "   Exporting DEAA to data/results/2020/carbon_accounting/monthly/\n",
      "   Exporting DEAA to data/results/2020/carbon_accounting/annual/\n",
      "   Exporting CPLW to data/results/2020/carbon_accounting/hourly/\n",
      "   Exporting CPLW to data/results/2020/carbon_accounting/monthly/\n",
      "   Exporting CPLW to data/results/2020/carbon_accounting/annual/\n",
      "   Exporting ERCO to data/results/2020/carbon_accounting/hourly/\n",
      "   Exporting ERCO to data/results/2020/carbon_accounting/monthly/\n",
      "   Exporting ERCO to data/results/2020/carbon_accounting/annual/\n",
      "   Exporting WWA to data/results/2020/carbon_accounting/hourly/\n",
      "   Exporting WWA to data/results/2020/carbon_accounting/monthly/\n",
      "   Exporting WWA to data/results/2020/carbon_accounting/annual/\n",
      "   Exporting TEPC to data/results/2020/carbon_accounting/hourly/\n",
      "   Exporting TEPC to data/results/2020/carbon_accounting/monthly/\n",
      "   Exporting TEPC to data/results/2020/carbon_accounting/annual/\n",
      "   Exporting AECI to data/results/2020/carbon_accounting/hourly/\n",
      "   Exporting AECI to data/results/2020/carbon_accounting/monthly/\n",
      "   Exporting AECI to data/results/2020/carbon_accounting/annual/\n",
      "   Exporting CPLE to data/results/2020/carbon_accounting/hourly/\n",
      "   Exporting CPLE to data/results/2020/carbon_accounting/monthly/\n",
      "   Exporting CPLE to data/results/2020/carbon_accounting/annual/\n",
      "   Exporting PSEI to data/results/2020/carbon_accounting/hourly/\n",
      "   Exporting PSEI to data/results/2020/carbon_accounting/monthly/\n",
      "   Exporting PSEI to data/results/2020/carbon_accounting/annual/\n",
      "   Exporting WALC to data/results/2020/carbon_accounting/hourly/\n",
      "   Exporting WALC to data/results/2020/carbon_accounting/monthly/\n",
      "   Exporting WALC to data/results/2020/carbon_accounting/annual/\n",
      "   Exporting FMPP to data/results/2020/carbon_accounting/hourly/\n",
      "   Exporting FMPP to data/results/2020/carbon_accounting/monthly/\n",
      "   Exporting FMPP to data/results/2020/carbon_accounting/annual/\n",
      "   Exporting TIDC to data/results/2020/carbon_accounting/hourly/\n",
      "   Exporting TIDC to data/results/2020/carbon_accounting/monthly/\n",
      "   Exporting TIDC to data/results/2020/carbon_accounting/annual/\n",
      "   Exporting PNM to data/results/2020/carbon_accounting/hourly/\n",
      "   Exporting PNM to data/results/2020/carbon_accounting/monthly/\n",
      "   Exporting PNM to data/results/2020/carbon_accounting/annual/\n",
      "   Exporting CISO to data/results/2020/carbon_accounting/hourly/\n",
      "   Exporting CISO to data/results/2020/carbon_accounting/monthly/\n",
      "   Exporting CISO to data/results/2020/carbon_accounting/annual/\n",
      "   Exporting NSB to data/results/2020/carbon_accounting/hourly/\n",
      "   Exporting NSB to data/results/2020/carbon_accounting/monthly/\n",
      "   Exporting NSB to data/results/2020/carbon_accounting/annual/\n",
      "   Exporting WACM to data/results/2020/carbon_accounting/hourly/\n",
      "   Exporting WACM to data/results/2020/carbon_accounting/monthly/\n",
      "   Exporting WACM to data/results/2020/carbon_accounting/annual/\n",
      "   Exporting LDWP to data/results/2020/carbon_accounting/hourly/\n",
      "   Exporting LDWP to data/results/2020/carbon_accounting/monthly/\n",
      "   Exporting LDWP to data/results/2020/carbon_accounting/annual/\n",
      "   Exporting SC to data/results/2020/carbon_accounting/hourly/\n",
      "   Exporting SC to data/results/2020/carbon_accounting/monthly/\n",
      "   Exporting SC to data/results/2020/carbon_accounting/annual/\n",
      "   Exporting SWPP to data/results/2020/carbon_accounting/hourly/\n",
      "   Exporting SWPP to data/results/2020/carbon_accounting/monthly/\n",
      "   Exporting SWPP to data/results/2020/carbon_accounting/annual/\n",
      "   Exporting YAD to data/results/2020/carbon_accounting/hourly/\n",
      "   Exporting YAD to data/results/2020/carbon_accounting/monthly/\n",
      "   Exporting YAD to data/results/2020/carbon_accounting/annual/\n",
      "   Exporting FPL to data/results/2020/carbon_accounting/hourly/\n",
      "   Exporting FPL to data/results/2020/carbon_accounting/monthly/\n",
      "   Exporting FPL to data/results/2020/carbon_accounting/annual/\n",
      "   Exporting TPWR to data/results/2020/carbon_accounting/hourly/\n",
      "   Exporting TPWR to data/results/2020/carbon_accounting/monthly/\n",
      "   Exporting TPWR to data/results/2020/carbon_accounting/annual/\n",
      "   Exporting BANC to data/results/2020/carbon_accounting/hourly/\n",
      "   Exporting BANC to data/results/2020/carbon_accounting/monthly/\n",
      "   Exporting BANC to data/results/2020/carbon_accounting/annual/\n",
      "   Exporting FPC to data/results/2020/carbon_accounting/hourly/\n",
      "   Exporting FPC to data/results/2020/carbon_accounting/monthly/\n",
      "   Exporting FPC to data/results/2020/carbon_accounting/annual/\n",
      "   Exporting NYIS to data/results/2020/carbon_accounting/hourly/\n",
      "   Exporting NYIS to data/results/2020/carbon_accounting/monthly/\n",
      "   Exporting NYIS to data/results/2020/carbon_accounting/annual/\n",
      "   Exporting PGE to data/results/2020/carbon_accounting/hourly/\n",
      "   Exporting PGE to data/results/2020/carbon_accounting/monthly/\n",
      "   Exporting PGE to data/results/2020/carbon_accounting/annual/\n",
      "   Exporting AEC to data/results/2020/carbon_accounting/hourly/\n",
      "   Exporting AEC to data/results/2020/carbon_accounting/monthly/\n",
      "   Exporting AEC to data/results/2020/carbon_accounting/annual/\n",
      "   Exporting DUK to data/results/2020/carbon_accounting/hourly/\n",
      "   Exporting DUK to data/results/2020/carbon_accounting/monthly/\n",
      "   Exporting DUK to data/results/2020/carbon_accounting/annual/\n",
      "   Exporting EEI to data/results/2020/carbon_accounting/hourly/\n",
      "   Exporting EEI to data/results/2020/carbon_accounting/monthly/\n",
      "   Exporting EEI to data/results/2020/carbon_accounting/annual/\n",
      "   Exporting TEC to data/results/2020/carbon_accounting/hourly/\n",
      "   Exporting TEC to data/results/2020/carbon_accounting/monthly/\n",
      "   Exporting TEC to data/results/2020/carbon_accounting/annual/\n",
      "   Exporting LGEE to data/results/2020/carbon_accounting/hourly/\n",
      "   Exporting LGEE to data/results/2020/carbon_accounting/monthly/\n",
      "   Exporting LGEE to data/results/2020/carbon_accounting/annual/\n",
      "   Exporting SCL to data/results/2020/carbon_accounting/hourly/\n",
      "   Exporting SCL to data/results/2020/carbon_accounting/monthly/\n",
      "   Exporting SCL to data/results/2020/carbon_accounting/annual/\n",
      "   Exporting SPA to data/results/2020/carbon_accounting/hourly/\n",
      "   Exporting SPA to data/results/2020/carbon_accounting/monthly/\n",
      "   Exporting SPA to data/results/2020/carbon_accounting/annual/\n",
      "   Exporting WAUW to data/results/2020/carbon_accounting/hourly/\n",
      "   Exporting WAUW to data/results/2020/carbon_accounting/monthly/\n",
      "   Exporting WAUW to data/results/2020/carbon_accounting/annual/\n",
      "   Exporting GRIF to data/results/2020/carbon_accounting/hourly/\n",
      "   Exporting GRIF to data/results/2020/carbon_accounting/monthly/\n",
      "   Exporting GRIF to data/results/2020/carbon_accounting/annual/\n",
      "   Exporting GWA to data/results/2020/carbon_accounting/hourly/\n",
      "   Exporting GWA to data/results/2020/carbon_accounting/monthly/\n",
      "   Exporting GWA to data/results/2020/carbon_accounting/annual/\n"
     ]
    }
   ],
   "source": [
    "%cd ../src\n",
    "%run data_pipeline --year 2020"
   ]
  },
  {
   "cell_type": "code",
   "execution_count": null,
   "metadata": {},
   "outputs": [],
   "source": [
    "%cd ../src\n",
    "%run data_pipeline --small SMALL --year 2020"
   ]
  },
  {
   "cell_type": "markdown",
   "metadata": {},
   "source": [
    "# Functions for loading intermediate outputs"
   ]
  },
  {
   "cell_type": "code",
   "execution_count": null,
   "metadata": {},
   "outputs": [],
   "source": [
    "\n",
    "# load data from csv\n",
    "year = 2020\n",
    "path_prefix = ''\n",
    "\n",
    "cems = pd.read_csv(f'../data/outputs/{path_prefix}{year}/cems_{year}.csv', dtype=get_dtypes(), parse_dates=['datetime_utc', 'report_date'])\n",
    "partial_cems_scaled = pd.read_csv(f'../data/outputs/{path_prefix}{year}/partial_cems_scaled_{year}.csv', dtype=get_dtypes(), parse_dates=['datetime_utc', 'report_date'])\n",
    "eia923_allocated = pd.read_csv(f'../data/outputs/{path_prefix}{year}/eia923_allocated_{year}.csv', dtype=get_dtypes(), parse_dates=['report_date'])\n",
    "plant_attributes = pd.read_csv(f\"../data/outputs/{path_prefix}{year}/plant_static_attributes_{year}.csv\")\n",
    "primary_fuel_table = plant_attributes.drop_duplicates(subset=\"plant_id_eia\")[[\"plant_id_eia\", \"plant_primary_fuel\"]]\n",
    "residual_profiles = pd.read_csv(f\"../data/outputs/{path_prefix}{year}/residual_profiles_{year}.csv\")"
   ]
  },
  {
   "cell_type": "markdown",
   "metadata": {},
   "source": [
    "# TODO: Add output metrics back in"
   ]
  },
  {
   "cell_type": "code",
   "execution_count": null,
   "metadata": {},
   "outputs": [],
   "source": [
    "# output data quality metrics\n",
    "output_data.output_to_results(\n",
    "    validation.co2_source_metric(cems, partial_cems_scaled, monthly_eia_data_to_shape),\n",
    "    \"co2_measurement_source\",\n",
    "    \"validation_metrics/\",\n",
    "    path_prefix,\n",
    ")\n",
    "output_data.output_to_results(\n",
    "    validation.net_generation_method_metric(\n",
    "        cems, partial_cems_scaled, monthly_eia_data_to_shape\n",
    "    ),\n",
    "    \"net_generation_method\",\n",
    "    \"validation_metrics/\",\n",
    "    path_prefix,\n",
    ")\n",
    "\n",
    "output_data.output_to_results(\n",
    "    validation.hourly_profile_source_metric(\n",
    "        cems, partial_cems_scaled, monthly_eia_data_to_shape\n",
    "    ),\n",
    "    \"hourly_profile_method\",\n",
    "    \"validation_metrics/\",\n",
    "    path_prefix,\n",
    ")"
   ]
  },
  {
   "cell_type": "markdown",
   "metadata": {},
   "source": [
    "# Run EIA-930 cleaning"
   ]
  },
  {
   "cell_type": "code",
   "execution_count": null,
   "metadata": {},
   "outputs": [],
   "source": [
    "from gridemissions.workflows import make_dataset\n",
    "\n",
    "year=2020\n",
    "\n",
    "data_folder = \"../data/downloads/eia930/\"\n",
    "\n",
    "# if not small, scrape 2 months before start of year for rolling window cleaning\n",
    "start = f\"{year-1}1001T00Z\"\n",
    "# Scrape 1 week if small, else 1 year\n",
    "end = f\"{year}1231T23Z\"\n",
    "\n",
    "make_dataset(\n",
    "            start,\n",
    "            end,\n",
    "            file_name=\"EBA\",\n",
    "            tmp_folder=data_folder,\n",
    "            folder_hist=data_folder,\n",
    "            scrape=False,\n",
    "            add_ca_fuels=False,\n",
    "            calc_consumed=False,\n",
    "        )"
   ]
  },
  {
   "cell_type": "markdown",
   "metadata": {},
   "source": [
    "# Test Scaled Residuals\n",
    "\n",
    "- [ ] Issue 1: if there are any hours in the 930 net generation data that drop down close to zero (it seems like it never goes to zero, but instead drops to 1.0... not sure if that's part of the 930 data cleaning process?) the scaling factor that gets calculated is very small, meaning that the CEMS profile essentially goes to zero, which is not what we want.\n",
    "- [ ] Issue 2: In some cases, the scaled residual is turning out negative, which it should not be\n",
    "- [ ] Make sure the residual scaling is consistent with new methods\n",
    "\n",
    "To start:\n",
    "- load residual profiles and impute profile as new column\n",
    "\n",
    "TODO:\n",
    "- [x] Add profiles for non-EIA fuel categories to the residual profile table\n",
    "- [x] Ensure complete hourly timeseries especially for cems only profiles\n",
    "- [ ] Maybe rename the residual profiles hourly profiles and add new columns for the imputed values\n",
    "- [ ] Flag where EIA-930 data is potentially missing so we can use CEMS data\n",
    "- [ ] When calculating the profile as a percent, if the profile goes negative, we want to calculate based on the absolute value. \n",
    "\n",
    "\n",
    "\n"
   ]
  },
  {
   "cell_type": "code",
   "execution_count": null,
   "metadata": {},
   "outputs": [],
   "source": [
    "from src.impute_hourly_profiles import *\n",
    "import plotly.express as px"
   ]
  },
  {
   "cell_type": "code",
   "execution_count": null,
   "metadata": {},
   "outputs": [],
   "source": [
    "# load data from csv\n",
    "year = 2020\n",
    "path_prefix = ''\n",
    "cems = pd.read_csv(f'../data/outputs/{path_prefix}{year}/cems_{year}.csv', dtype=get_dtypes(), parse_dates=['report_date', 'datetime_utc'])\n",
    "partial_cems_scaled = pd.read_csv(f'../data/outputs/{path_prefix}{year}/partial_cems_scaled_{year}.csv', dtype=get_dtypes(), parse_dates=['report_date'])\n",
    "plant_attributes = pd.read_csv(f\"../data/outputs/{path_prefix}{year}/plant_static_attributes_{year}.csv\")\n",
    "\n",
    "# aggregate cems data to subplant level\n",
    "cems = data_cleaning.aggregate_cems_to_subplant(cems)\n",
    "# drop data from cems that is now in partial_cems\n",
    "cems = data_cleaning.filter_unique_cems_data(cems, partial_cems_scaled)"
   ]
  },
  {
   "cell_type": "code",
   "execution_count": null,
   "metadata": {},
   "outputs": [],
   "source": [
    "clean_930_file = \"../data/downloads/eia930/EBA_elec.csv\"\n",
    "eia930_data = eia930.load_chalendar_for_pipeline(clean_930_file, year=year)"
   ]
  },
  {
   "cell_type": "code",
   "execution_count": null,
   "metadata": {},
   "outputs": [],
   "source": [
    "# Name column same as 930, hourly_profiles.\n",
    "cems = cems.merge(plant_attributes, how=\"left\", on=\"plant_id_eia\")\n",
    "\n",
    "cems_agg = aggregate_for_residual(\n",
    "    cems,\n",
    "    plant_attributes,\n",
    "    \"datetime_utc\",\n",
    "    \"ba_code\",\n",
    "    False,\n",
    ")"
   ]
  },
  {
   "cell_type": "code",
   "execution_count": null,
   "metadata": {},
   "outputs": [],
   "source": [
    "residual_profiles  = impute_hourly_profiles.calculate_residual(\n",
    "    cems,\n",
    "    eia930_data,\n",
    "    plant_attributes,\n",
    "    year,\n",
    "    transmission_only=False,\n",
    "    ba_column_name=\"ba_code\",\n",
    ")"
   ]
  },
  {
   "cell_type": "code",
   "execution_count": null,
   "metadata": {},
   "outputs": [],
   "source": [
    "output_data.output_intermediate_data(\n",
    "        residual_profiles, \"residual_profiles\", path_prefix, year\n",
    "    )"
   ]
  },
  {
   "cell_type": "code",
   "execution_count": null,
   "metadata": {},
   "outputs": [],
   "source": [
    "test_data = residual_profiles[(residual_profiles['ba_code'] == 'CISO') & (residual_profiles['fuel_category'] == 'natural_gas')]"
   ]
  },
  {
   "cell_type": "code",
   "execution_count": null,
   "metadata": {},
   "outputs": [],
   "source": [
    "px.line(test_data, x='datetime_utc', y=[\"eia930_profile\",\"cems_profile\",\"residual_profile\",\"scaled_residual_profile\"])"
   ]
  },
  {
   "cell_type": "markdown",
   "metadata": {},
   "source": [
    "# Test Hourly Profiles"
   ]
  },
  {
   "cell_type": "code",
   "execution_count": null,
   "metadata": {},
   "outputs": [],
   "source": [
    "# load data from csv\n",
    "year = 2020\n",
    "path_prefix = ''\n",
    "\n",
    "eia923_allocated = pd.read_csv(f'../data/outputs/{path_prefix}{year}/eia923_allocated_{year}.csv', dtype=get_dtypes(), parse_dates=['report_date'])\n",
    "\n",
    "cems = pd.read_csv(f'../data/outputs/{path_prefix}{year}/cems_{year}.csv', dtype=get_dtypes(), parse_dates=['report_date', 'datetime_utc'])\n",
    "partial_cems_scaled = pd.read_csv(f'../data/outputs/{path_prefix}{year}/partial_cems_scaled_{year}.csv', dtype=get_dtypes(), parse_dates=['report_date'])\n",
    "plant_attributes = pd.read_csv(f\"../data/outputs/{path_prefix}{year}/plant_static_attributes_{year}.csv\")\n",
    "\n",
    "# aggregate cems data to subplant level\n",
    "cems = data_cleaning.aggregate_cems_to_subplant(cems)\n",
    "# drop data from cems that is now in partial_cems\n",
    "cems = data_cleaning.filter_unique_cems_data(cems, partial_cems_scaled)"
   ]
  },
  {
   "cell_type": "code",
   "execution_count": null,
   "metadata": {},
   "outputs": [],
   "source": [
    "# create a separate dataframe containing only the EIA data that is missing from cems\n",
    "monthly_eia_data_to_shape = eia923_allocated[\n",
    "    (eia923_allocated[\"hourly_data_source\"] == \"eia\")\n",
    "    & ~(eia923_allocated[\"fuel_consumed_mmbtu\"].isna())\n",
    "]"
   ]
  },
  {
   "cell_type": "code",
   "execution_count": null,
   "metadata": {},
   "outputs": [],
   "source": [
    "clean_930_file = \"../data/downloads/eia930/EBA_elec.csv\"\n",
    "\n",
    "eia930_data = eia930.load_chalendar_for_pipeline(clean_930_file, year=year)"
   ]
  },
  {
   "cell_type": "code",
   "execution_count": null,
   "metadata": {},
   "outputs": [],
   "source": [
    "hourly_profiles = impute_hourly_profiles.calculate_hourly_profiles(\n",
    "    cems,\n",
    "    eia930_data,\n",
    "    plant_attributes,\n",
    "    monthly_eia_data_to_shape,\n",
    "    year,\n",
    "    transmission_only=False,\n",
    "    ba_column_name=\"ba_code\",\n",
    ")"
   ]
  },
  {
   "cell_type": "code",
   "execution_count": null,
   "metadata": {},
   "outputs": [],
   "source": [
    "output_data.output_intermediate_data(\n",
    "        hourly_profiles, \"hourly_profiles\", path_prefix, year\n",
    "    )"
   ]
  },
  {
   "cell_type": "markdown",
   "metadata": {},
   "source": [
    "# Shape the monthly data"
   ]
  },
  {
   "cell_type": "code",
   "execution_count": null,
   "metadata": {},
   "outputs": [],
   "source": [
    "year = 2020\n",
    "path_prefix = ''\n",
    "\n",
    "hourly_profiles = pd.read_csv(f'../data/outputs/{path_prefix}{year}/hourly_profiles_{year}.csv', dtype=get_dtypes(), parse_dates=['report_date'])\n",
    "eia923_allocated = pd.read_csv(f'../data/outputs/{path_prefix}{year}/eia923_allocated_{year}.csv', dtype=get_dtypes(), parse_dates=['report_date'])\n",
    "plant_attributes = pd.read_csv(f\"../data/outputs/{path_prefix}{year}/plant_static_attributes_{year}.csv\")\n",
    "# create a separate dataframe containing only the EIA data that is missing from cems\n",
    "monthly_eia_data_to_shape = eia923_allocated[\n",
    "    (eia923_allocated[\"hourly_data_source\"] == \"eia\")\n",
    "    & ~(eia923_allocated[\"fuel_consumed_mmbtu\"].isna())\n",
    "]\n",
    "\n",
    "(\n",
    "    monthly_eia_data_to_shape,\n",
    "    plant_attributes,\n",
    ") = impute_hourly_profiles.aggregate_eia_data_to_ba_fuel(\n",
    "    monthly_eia_data_to_shape, plant_attributes\n",
    ")"
   ]
  },
  {
   "cell_type": "code",
   "execution_count": null,
   "metadata": {},
   "outputs": [],
   "source": [
    "hourly_profiles[\"flat_profile\"] = 1.0"
   ]
  },
  {
   "cell_type": "code",
   "execution_count": null,
   "metadata": {},
   "outputs": [],
   "source": [
    "hourly_profiles = impute_hourly_profiles.convert_profile_to_percent(hourly_profiles)\n",
    "hourly_profiles"
   ]
  },
  {
   "cell_type": "code",
   "execution_count": null,
   "metadata": {},
   "outputs": [],
   "source": [
    "hourly_profiles"
   ]
  },
  {
   "cell_type": "code",
   "execution_count": null,
   "metadata": {},
   "outputs": [],
   "source": [
    "shaped_eia_data = impute_hourly_profiles.shape_monthly_eia_data_as_hourly(monthly_eia_data_to_shape, hourly_profiles)"
   ]
  },
  {
   "cell_type": "code",
   "execution_count": null,
   "metadata": {},
   "outputs": [],
   "source": [
    "# identify all months where there is misisng eia930 data (which is filled in with 1.0)\n",
    "hours_with_missing_930_data = hourly_profiles[hourly_profiles['eia930_profile'] == 1].groupby([\"ba_code\",\"fuel_category\",\"report_date\"]).count()[\"eia930_profile\"].reset_index()\n",
    "# keep the months where there are more than 24 hours of missing data\n",
    "hours_with_missing_930_data = hours_with_missing_930_data[hours_with_missing_930_data[\"eia930_profile\"] > 24]\n",
    "\n",
    "hourly_profiles = hourly_profiles.merge(hours_with_missing_930_data[[\"ba_code\",\"fuel_category\",\"report_date\"]], how=\"outer\", on=[\"ba_code\",\"fuel_category\",\"report_date\"], indicator=\"missing_930\")\n",
    "hourly_profiles[\"eia930_profile_filtered\"] = hourly_profiles[\"eia930_profile\"]\n",
    "hourly_profiles.loc[hourly_profiles[\"missing_930\"] == \"both\", \"eia930_profile_filtered\"] = np.NaN\n",
    "hourly_profiles = hourly_profiles.drop(columns=[\"negative_month\"])"
   ]
  },
  {
   "cell_type": "code",
   "execution_count": null,
   "metadata": {},
   "outputs": [],
   "source": [
    "# keep the months where there are more than 24 hours of missing data\n",
    "hours_with_missing_930_data = hours_with_missing_930_data[\n",
    "    hours_with_missing_930_data[\"eia930_profile\"] > 24\n",
    "]\n",
    "hourly_profiles = hourly_profiles.merge(\n",
    "    hours_with_missing_930_data[[\"ba_code\", \"fuel_category\", \"report_date\"]],\n",
    "    how=\"outer\",\n",
    "    on=[\"ba_code\", \"fuel_category\", \"report_date\"],\n",
    "    indicator=\"missing_930\",\n",
    ")\n",
    "hourly_profiles[\"eia930_profile_filtered\"] = hourly_profiles[\"eia930_profile\"]\n",
    "hourly_profiles.loc[\n",
    "    hourly_profiles[\"missing_930\"] == \"both\", \"eia930_profile_filtered\"\n",
    "] = np.NaN\n",
    "hourly_profiles = hourly_profiles.drop(columns=[\"missing_930\"])"
   ]
  },
  {
   "cell_type": "code",
   "execution_count": null,
   "metadata": {},
   "outputs": [],
   "source": [
    "hourly_profiles"
   ]
  },
  {
   "cell_type": "code",
   "execution_count": null,
   "metadata": {},
   "outputs": [],
   "source": [
    "test_data = hourly_profiles[(hourly_profiles[\"ba_code\"] == \"WALC\") & (hourly_profiles[\"fuel_category\"] == \"natural_gas\")]"
   ]
  },
  {
   "cell_type": "code",
   "execution_count": null,
   "metadata": {},
   "outputs": [],
   "source": [
    "import plotly.express as px"
   ]
  },
  {
   "cell_type": "code",
   "execution_count": null,
   "metadata": {},
   "outputs": [],
   "source": [
    "px.line(test_data, x='datetime_utc', y=[\"eia930_profile\",\"cems_profile\",\"residual_profile\",\"scaled_residual_profile\",\"profile\"])"
   ]
  },
  {
   "cell_type": "code",
   "execution_count": null,
   "metadata": {},
   "outputs": [],
   "source": [
    "monthly_eia_data_to_shape[(monthly_eia_data_to_shape[\"ba_code\"] == \"WALC\") & (monthly_eia_data_to_shape[\"fuel_category\"] == \"natural_gas\")]"
   ]
  },
  {
   "cell_type": "code",
   "execution_count": null,
   "metadata": {},
   "outputs": [],
   "source": [
    "hourly_profiles = impute_hourly_profiles.convert_profile_to_percent(hourly_profiles)"
   ]
  },
  {
   "cell_type": "code",
   "execution_count": null,
   "metadata": {},
   "outputs": [],
   "source": [
    "hourly_profiles"
   ]
  },
  {
   "cell_type": "code",
   "execution_count": null,
   "metadata": {},
   "outputs": [],
   "source": [
    "# where the monthly total is negative, first multiply the profile\n",
    "# then multiply by -1 to invert the shape\n",
    "# then shift the profile"
   ]
  },
  {
   "cell_type": "markdown",
   "metadata": {},
   "source": [
    "# Test combining data"
   ]
  },
  {
   "cell_type": "code",
   "execution_count": null,
   "metadata": {},
   "outputs": [],
   "source": [
    "# load data from csv\n",
    "year = 2020\n",
    "path_prefix = ''\n",
    "\n",
    "eia923_allocated = pd.read_csv(f'../data/outputs/{path_prefix}{year}/eia923_allocated_{year}.csv', dtype=get_dtypes(), parse_dates=['report_date'])\n",
    "\n",
    "cems = pd.read_csv(f'../data/outputs/{path_prefix}{year}/cems_{year}.csv', dtype=get_dtypes(), parse_dates=['report_date', 'datetime_utc'])\n",
    "partial_cems_scaled = pd.read_csv(f'../data/outputs/{path_prefix}{year}/partial_cems_scaled_{year}.csv', dtype=get_dtypes(), parse_dates=['report_date'])\n",
    "plant_attributes = pd.read_csv(f\"../data/outputs/{path_prefix}{year}/plant_static_attributes_{year}.csv\")\n",
    "\n",
    "# aggregate cems data to subplant level\n",
    "cems = data_cleaning.aggregate_cems_to_subplant(cems)\n",
    "# drop data from cems that is now in partial_cems\n",
    "cems = data_cleaning.filter_unique_cems_data(cems, partial_cems_scaled)"
   ]
  },
  {
   "cell_type": "code",
   "execution_count": null,
   "metadata": {},
   "outputs": [],
   "source": [
    "partial_cems_scaled"
   ]
  },
  {
   "cell_type": "code",
   "execution_count": null,
   "metadata": {},
   "outputs": [],
   "source": [
    "shaped_eia_data"
   ]
  },
  {
   "cell_type": "code",
   "execution_count": null,
   "metadata": {},
   "outputs": [],
   "source": [
    "cems, partial_cems_scaled, shaped_eia_data = output_data.write_plant_metadata(\n",
    "        cems, partial_cems_scaled, shaped_eia_data, path_prefix, year\n",
    "    )"
   ]
  },
  {
   "cell_type": "code",
   "execution_count": null,
   "metadata": {},
   "outputs": [],
   "source": [
    "combined_plant_data = data_cleaning.combine_plant_data(\n",
    "        cems, partial_cems_scaled, shaped_eia_data\n",
    "    )"
   ]
  },
  {
   "cell_type": "code",
   "execution_count": null,
   "metadata": {},
   "outputs": [],
   "source": [
    "combined_plant_data"
   ]
  },
  {
   "cell_type": "markdown",
   "metadata": {},
   "source": [
    "# Investigate missing data"
   ]
  },
  {
   "cell_type": "code",
   "execution_count": null,
   "metadata": {},
   "outputs": [],
   "source": [
    "year = 2020\n",
    "path_prefix = ''\n",
    "eia923_allocated = pd.read_csv(f'../data/outputs/{path_prefix}eia923_allocated_{year}.csv', parse_dates=['report_date'])\n",
    "plant_frame = pd.read_csv(f\"../data/outputs/{path_prefix}plant_static_attributes_{year}.csv\")\n",
    "residual_profiles = pd.read_csv(f\"../data/outputs/{path_prefix}residual_profiles_{year}.csv\")\n",
    "eia923_allocated = eia923_allocated.merge(plant_frame, how='left', on='plant_id_eia')"
   ]
  },
  {
   "cell_type": "code",
   "execution_count": null,
   "metadata": {},
   "outputs": [],
   "source": [
    "# 11. Assign hourly profile to monthly data\n",
    "print(\"Assigning hourly profile to monthly EIA-923 data\")\n",
    "# create a separate dataframe containing only the generators for which we do not have CEMS data\n",
    "monthly_eia_data_to_shape = eia923_allocated[\n",
    "    (eia923_allocated[\"hourly_data_source\"] == \"eia\")\n",
    "    & ~(eia923_allocated[\"fuel_consumed_mmbtu\"].isna())\n",
    "]"
   ]
  },
  {
   "cell_type": "code",
   "execution_count": null,
   "metadata": {},
   "outputs": [],
   "source": [
    "monthly_data_to_shape[monthly_data_to_shape['energy_source_code'] == 'SUN']"
   ]
  },
  {
   "cell_type": "code",
   "execution_count": null,
   "metadata": {},
   "outputs": [],
   "source": [
    "hourly_profiles = impute_hourly_profiles.impute_missing_hourly_profiles(\n",
    "    monthly_eia_data_to_shape, residual_profiles, year\n",
    ")"
   ]
  },
  {
   "cell_type": "code",
   "execution_count": null,
   "metadata": {},
   "outputs": [],
   "source": [
    "hourly_profiles['report_date'] = pd.to_datetime(hourly_profiles['report_date'])"
   ]
  },
  {
   "cell_type": "code",
   "execution_count": null,
   "metadata": {},
   "outputs": [],
   "source": [
    "hourly_profiles[(hourly_profiles['fuel_category'] == 'solar') & (hourly_profiles['ba_code'] == 'ISNE')]"
   ]
  },
  {
   "cell_type": "code",
   "execution_count": null,
   "metadata": {},
   "outputs": [],
   "source": [
    "px.line(hourly_profiles[hourly_profiles['fuel_category'] == 'solar'], x='datetime_local', y='profile', color='ba_code')"
   ]
  },
  {
   "cell_type": "code",
   "execution_count": null,
   "metadata": {},
   "outputs": [],
   "source": [
    "hourly_profiles = impute_hourly_profiles.convert_profile_to_percent(hourly_profiles)"
   ]
  },
  {
   "cell_type": "code",
   "execution_count": null,
   "metadata": {},
   "outputs": [],
   "source": [
    "px.line(hourly_profiles[hourly_profiles['fuel_category'] == 'solar'], x='datetime_local', y='profile', color='ba_code')"
   ]
  },
  {
   "cell_type": "code",
   "execution_count": null,
   "metadata": {},
   "outputs": [],
   "source": [
    "\n",
    "shaped_eia_data = impute_hourly_profiles.shape_monthly_eia_data_as_hourly(\n",
    "    monthly_eia_data_to_shape, hourly_profiles\n",
    ")"
   ]
  },
  {
   "cell_type": "code",
   "execution_count": null,
   "metadata": {},
   "outputs": [],
   "source": [
    "# specify columns containing monthly data that should be distributed to hourly\n",
    "columns_to_shape = [\n",
    "    \"net_generation_mwh\",\n",
    "    \"fuel_consumed_mmbtu\",\n",
    "    \"fuel_consumed_for_electricity_mmbtu\",\n",
    "    \"co2_mass_lb\",\n",
    "    \"ch4_mass_lb\",\n",
    "    \"n2o_mass_lb\",\n",
    "    \"nox_mass_lb\",\n",
    "    \"so2_mass_lb\",\n",
    "    \"co2_mass_lb_for_electricity\",\n",
    "    \"ch4_mass_lb_for_electricity\",\n",
    "    \"n2o_mass_lb_for_electricity\",\n",
    "    \"nox_mass_lb_for_electricity\",\n",
    "    \"so2_mass_lb_for_electricity\",\n",
    "    \"co2_mass_lb_adjusted\",\n",
    "    \"ch4_mass_lb_adjusted\",\n",
    "    \"n2o_mass_lb_adjusted\",\n",
    "    \"nox_mass_lb_adjusted\",\n",
    "    \"so2_mass_lb_adjusted\",\n",
    "]\n",
    "\n",
    "# group eia data by plant\n",
    "shaped_monthly_data = (\n",
    "    monthly_eia_data_to_shape.groupby(\n",
    "        [\n",
    "            \"plant_id_eia\",\n",
    "            \"subplant_id\",\n",
    "            \"report_date\",\n",
    "            \"plant_primary_fuel\",\n",
    "            \"hourly_data_source\",\n",
    "            \"fuel_category\",\n",
    "            \"fuel_category_eia930\",\n",
    "            \"ba_code\",\n",
    "            \"ba_code_physical\",\n",
    "            \"state\",\n",
    "            \"distribution_flag\",\n",
    "        ],dropna=False)\n",
    "    .sum()\n",
    "    .reset_index()\n",
    ")"
   ]
  },
  {
   "cell_type": "code",
   "execution_count": null,
   "metadata": {},
   "outputs": [],
   "source": [
    "monthly_eia_data_to_shape.plant_primary_fuel.unique()"
   ]
  },
  {
   "cell_type": "code",
   "execution_count": null,
   "metadata": {},
   "outputs": [],
   "source": [
    "shaped_monthly_data.plant_primary_fuel.unique()"
   ]
  },
  {
   "cell_type": "code",
   "execution_count": null,
   "metadata": {},
   "outputs": [],
   "source": [
    "\n",
    "\n",
    "# merge the hourly profiles into each plant-month\n",
    "shaped_monthly_data = shaped_monthly_data.merge(\n",
    "    hourly_profiles, how=\"left\", on=[\"report_date\", \"fuel_category\", \"ba_code\"]\n",
    ")\n",
    "\n",
    "# plant-months where there is negative net generation, assign a flat profile\n",
    "shaped_monthly_data.loc[\n",
    "    shaped_monthly_data[\"net_generation_mwh\"] < 0, \"profile\"\n",
    "] = 1 / (shaped_monthly_data[\"report_date\"].dt.daysinmonth * 24)\n",
    "shaped_monthly_data.loc[\n",
    "    shaped_monthly_data[\"net_generation_mwh\"] < 0, \"profile_method\"\n",
    "] = \"flat_negative_generation\"\n",
    "\n",
    "# shape the data\n",
    "for column in columns_to_shape:\n",
    "    shaped_monthly_data[column] = (\n",
    "        shaped_monthly_data[column] * shaped_monthly_data[\"profile\"]\n",
    "    )\n",
    "shaped_monthly_data = shaped_monthly_data.drop(columns=[\"profile\"])\n",
    "\n",
    "# re order the columns\n",
    "column_order = [\n",
    "    \"plant_id_eia\",\n",
    "    \"subplant_id\",\n",
    "    \"datetime_local\",\n",
    "    \"datetime_utc\",\n",
    "    \"report_date\",\n",
    "    \"net_generation_mwh\",\n",
    "    \"fuel_consumed_mmbtu\",\n",
    "    \"fuel_consumed_for_electricity_mmbtu\",\n",
    "    \"co2_mass_lb\",\n",
    "    \"ch4_mass_lb\",\n",
    "    \"n2o_mass_lb\",\n",
    "    \"nox_mass_lb\",\n",
    "    \"so2_mass_lb\",\n",
    "    \"co2_mass_lb_for_electricity\",\n",
    "    \"ch4_mass_lb_for_electricity\",\n",
    "    \"n2o_mass_lb_for_electricity\",\n",
    "    \"nox_mass_lb_for_electricity\",\n",
    "    \"so2_mass_lb_for_electricity\",\n",
    "    \"co2_mass_lb_adjusted\",\n",
    "    \"ch4_mass_lb_adjusted\",\n",
    "    \"n2o_mass_lb_adjusted\",\n",
    "    \"nox_mass_lb_adjusted\",\n",
    "    \"so2_mass_lb_adjusted\",\n",
    "    \"profile_method\",\n",
    "    \"hourly_data_source\",\n",
    "]\n",
    "shaped_monthly_data = shaped_monthly_data[column_order]"
   ]
  },
  {
   "cell_type": "code",
   "execution_count": null,
   "metadata": {},
   "outputs": [],
   "source": [
    "shaped_eia_data[(shaped_eia_data['fuel_category'] == 'solar')]"
   ]
  },
  {
   "cell_type": "markdown",
   "metadata": {},
   "source": [
    "# Combine all plant data together"
   ]
  },
  {
   "cell_type": "code",
   "execution_count": null,
   "metadata": {},
   "outputs": [],
   "source": [
    "# load data from csv\n",
    "year = 2020\n",
    "path_prefix = ''\n",
    "cems = pd.read_csv(f'../data/outputs/{path_prefix}cems_{year}.csv')\n",
    "partial_cems = pd.read_csv(f'../data/outputs/{path_prefix}partial_cems_scaled_{year}.csv')\n",
    "shaped_eia_data = pd.read_csv(f'../data/outputs/{path_prefix}shaped_eia923_data{year}.csv')\n",
    "plant_frame = pd.read_csv(f\"../data/outputs/{path_prefix}plant_static_attributes.csv\")\n"
   ]
  },
  {
   "cell_type": "code",
   "execution_count": null,
   "metadata": {},
   "outputs": [],
   "source": [
    "# check that none of the sources have overlapping subplant-months\n",
    "columns_to_check_for_duplicates = ['plant_id_eia','subplant_id','report_date']\n",
    "cems_subplant_months = cems[columns_to_check_for_duplicates].drop_duplicates()\n",
    "cems_subplant_months['cems'] = 1\n",
    "partial_cems_subplant_months = partial_cems[columns_to_check_for_duplicates].drop_duplicates()\n",
    "partial_cems_subplant_months['partial_cems'] = 1\n",
    "shaped_eia_subplant_months = shaped_eia_data[columns_to_check_for_duplicates].drop_duplicates()\n",
    "shaped_eia_subplant_months['shaped_eia'] = 1\n",
    "\n",
    "data_source_overlap = cems_subplant_months.merge(partial_cems_subplant_months, how='outer',on=columns_to_check_for_duplicates).merge(shaped_eia_subplant_months, how='outer',on=columns_to_check_for_duplicates).fillna(0)\n",
    "data_source_overlap\n",
    "\n",
    "# check that there is no overlap between shaped eia and cems data\n",
    "data_source_overlap[(data_source_overlap.shaped_eia == 1) & ((data_source_overlap.cems == 1) | (data_source_overlap.partial_cems == 1))]\n",
    "\n",
    "# check for overlap between cems and partial cems data\n",
    "data_source_overlap[(data_source_overlap.cems == 1) & (data_source_overlap.partial_cems == 1)]"
   ]
  },
  {
   "cell_type": "code",
   "execution_count": null,
   "metadata": {},
   "outputs": [],
   "source": [
    "cems = data_cleaning.filter_unique_cems_data(cems, partial_cems)"
   ]
  },
  {
   "cell_type": "code",
   "execution_count": null,
   "metadata": {},
   "outputs": [],
   "source": [
    "combined_plant_data = data_cleaning.combine_subplant_data(cems, partial_cems, shaped_eia_data)\n",
    "combined_plant_data"
   ]
  },
  {
   "cell_type": "code",
   "execution_count": null,
   "metadata": {},
   "outputs": [],
   "source": [
    "ba_tz = load_data.load_ba_reference()[[\"ba_code\", \"timezone_local\"]]\n"
   ]
  },
  {
   "cell_type": "code",
   "execution_count": null,
   "metadata": {},
   "outputs": [],
   "source": [
    "ba_table.columns"
   ]
  },
  {
   "cell_type": "code",
   "execution_count": null,
   "metadata": {},
   "outputs": [],
   "source": [
    "ba_tz = load_data.load_ba_reference()[[\"ba_code\", \"timezone_local\"]]\n",
    "generated_emission_rate_columns = [\n",
    "    \"generated_co2_rate_lb_per_mwh_for_electricity\",\n",
    "    \"generated_ch4_rate_lb_per_mwh_for_electricity\",\n",
    "    \"generated_n2o_rate_lb_per_mwh_for_electricity\",\n",
    "    \"generated_nox_rate_lb_per_mwh_for_electricity\",\n",
    "    \"generated_so2_rate_lb_per_mwh_for_electricity\",\n",
    "    \"generated_co2_rate_lb_per_mwh_adjusted\",\n",
    "    \"generated_ch4_rate_lb_per_mwh_adjusted\",\n",
    "    \"generated_n2o_rate_lb_per_mwh_adjusted\",\n",
    "    \"generated_nox_rate_lb_per_mwh_adjusted\",\n",
    "    \"generated_so2_rate_lb_per_mwh_adjusted\",\n",
    "]\n",
    "\n",
    "for ba in list(ba_fuel_data.ba_code.unique()):\n",
    "\n",
    "    # filter the data for a single BA\n",
    "    ba_table = ba_fuel_data[ba_fuel_data[\"ba_code\"] == ba].drop(columns=\"ba_code\")\n",
    "\n",
    "    # convert the datetime_utc column back to a datetime\n",
    "    ba_table[\"datetime_utc\"] = pd.to_datetime(ba_table[\"datetime_utc\"], utc=True)\n",
    "\n",
    "    # calculate a total for the BA\n",
    "    ba_total = ba_table.groupby([\"datetime_utc\"]).sum()[data_columns].reset_index()\n",
    "    ba_total[\"fuel_category\"] = \"total\"\n",
    "\n",
    "    # concat the totals to the fuel-specific totals\n",
    "    ba_table = pd.concat([ba_table, ba_total], axis=0, ignore_index=True)\n",
    "\n",
    "    # round all values to one decimal place\n",
    "    ba_table = ba_table.round(2)\n",
    "\n",
    "    for emission_type in [\"_for_electricity\", \"_adjusted\"]:\n",
    "        for emission in [\"co2\", \"ch4\", \"n2o\", \"nox\", \"so2\"]:\n",
    "            ba_table[f\"generated_{emission}_rate_lb_per_mwh{emission_type}\"] = (\n",
    "                (\n",
    "                    ba_table[f\"{emission}_mass_lb{emission_type}\"]\n",
    "                    / ba_table[\"net_generation_mwh\"]\n",
    "                )\n",
    "                .fillna(0)\n",
    "                .replace(np.inf, np.NaN)\n",
    "                .replace(-np.inf, np.NaN)\n",
    "            )\n",
    "\n",
    "    # create a local datetime column\n",
    "    local_tz = ba_tz.loc[ba_tz[\"ba_code\"] == ba, \"timezone_local\"].item()\n",
    "    ba_table[\"datetime_local\"] = ba_table[\"datetime_utc\"].dt.tz_convert(local_tz)\n",
    "\n",
    "    # re-order columns\n",
    "    ba_table = ba_table[['fuel_category','datetime_local','datetime_utc'] + data_columns + generated_emission_rate_columns]\n",
    "\n",
    "    # export to a csv\n",
    "    ba_table.to_csv(\n",
    "        f\"../data/results/{path_prefix}power_sector_data/{ba}.csv\", index=False\n",
    "    )\n",
    "\n"
   ]
  },
  {
   "cell_type": "code",
   "execution_count": null,
   "metadata": {},
   "outputs": [],
   "source": [
    "for ba in list(ba_fuel_data.ba_code.unique()):\n",
    "\n",
    "    # filter the data for a single BA\n",
    "    ba_table = ba_fuel_data[ba_fuel_data[\"ba_code\"] == ba].drop(columns=\"ba_code\")\n",
    "\n",
    "    # convert the datetime_utc column back to a datetime\n",
    "    ba_table[\"datetime_utc\"] = pd.to_datetime(ba_table[\"datetime_utc\"], utc=True)\n",
    "\n",
    "    # calculate a total for the BA\n",
    "    ba_total = (\n",
    "        ba_table.groupby([\"datetime_utc\"])\n",
    "        .sum()[data_columns]\n",
    "        .reset_index()\n",
    "    )\n",
    "    ba_total[\"fuel_category\"] = \"total\"\n",
    "\n",
    "    # concat the totals to the fuel-specific totals\n",
    "    ba_table = pd.concat([ba_table, ba_total], axis=0, ignore_index=True)\n",
    "\n",
    "    # round all values to one decimal place\n",
    "    ba_table = ba_table.round(1)\n",
    "\n",
    "    for emission_type in ['_for_electricity','_adjusted']:\n",
    "        for emission in ['co2','ch4','n2o','nox','so2']:\n",
    "            ba_table[f\"generated_{emission}_rate_lb_per_mwh{emission_type}\"] = (\n",
    "                    (ba_table[f\"{emission}_mass_lb{emission_type}\"] / ba_table[\"net_generation_mwh\"])\n",
    "                    .fillna(0)\n",
    "                    .replace(np.inf, np.NaN).replace(-np.inf, np.NaN)\n",
    "                )\n",
    "\n",
    "    # export to a csv\n",
    "    ba_table.to_csv(f\"../data/results/{path_prefix}power_sector_data/{ba}.csv\")"
   ]
  },
  {
   "cell_type": "markdown",
   "metadata": {},
   "source": [
    "# Test new functions"
   ]
  },
  {
   "cell_type": "code",
   "execution_count": null,
   "metadata": {},
   "outputs": [],
   "source": [
    "year = 2020\n",
    "path_prefix = ''\n",
    "cems = pd.read_csv(f'../data/outputs/{path_prefix}cems_{year}.csv', parse_dates=['operating_datetime_utc','report_date'])\n",
    "eia923_allocated = pd.read_csv(f'../data/outputs/{path_prefix}eia923_allocated_{year}.csv', parse_dates=['report_date'])"
   ]
  },
  {
   "cell_type": "code",
   "execution_count": null,
   "metadata": {},
   "outputs": [],
   "source": [
    "cems.energy_source_code.unique()"
   ]
  },
  {
   "cell_type": "code",
   "execution_count": null,
   "metadata": {},
   "outputs": [],
   "source": [
    "cems[cems['energy_source_code'] == 'MSW']"
   ]
  },
  {
   "cell_type": "code",
   "execution_count": null,
   "metadata": {},
   "outputs": [],
   "source": [
    "\n",
    "px.line(cems[cems['energy_source_code'] == 'BLQ'], x='operating_datetime_utc', y='fuel_consumed_mmbtu', color='cems_id')"
   ]
  },
  {
   "cell_type": "code",
   "execution_count": null,
   "metadata": {},
   "outputs": [],
   "source": [
    "plant_frame = pd.read_csv(f\"../data/outputs/{path_prefix}plant_static_attributes.csv\")\n",
    "eia923_allocated = eia923_allocated.merge(plant_frame, how='left', on='plant_id_eia')"
   ]
  },
  {
   "cell_type": "code",
   "execution_count": null,
   "metadata": {},
   "outputs": [],
   "source": [
    "# 11. Assign hourly profile to monthly data\n",
    "print('Assigning hourly profile to monthly EIA-923 data')\n",
    "# create a separate dataframe containing only the generators for which we do not have CEMS data\n",
    "monthly_eia_data_to_distribute = eia923_allocated[\n",
    "    (eia923_allocated[\"hourly_data_source\"] == \"eia\")\n",
    "    & ~(eia923_allocated[\"fuel_consumed_mmbtu\"].isna())\n",
    "]\n",
    "# load profile data and format for use in the pipeline\n",
    "# TODO: once this is in the pipeline (step 10), may not need to read file\n",
    "hourly_profiles = pd.read_csv(\n",
    "    \"../data/outputs/residual_profiles.csv\", parse_dates=[\"report_date\"]\n",
    ")\n"
   ]
  },
  {
   "cell_type": "code",
   "execution_count": null,
   "metadata": {},
   "outputs": [],
   "source": [
    "available_profiles = hourly_profiles[['ba_code','fuel_category']].drop_duplicates()\n",
    "ba_fuel_to_distribute = monthly_eia_data_to_distribute[['ba_code','fuel_category']].drop_duplicates().dropna()\n",
    "missing_profiles = ba_fuel_to_distribute.merge(available_profiles, how='outer', on=['ba_code','fuel_category'], indicator='source')\n",
    "missing_profiles = missing_profiles[missing_profiles.source == 'left_only']\n",
    "missing_profiles.sort_values(by=['fuel_category','ba_code'])"
   ]
  },
  {
   "cell_type": "code",
   "execution_count": null,
   "metadata": {},
   "outputs": [],
   "source": [
    "hourly_profiles = hourly_profiles.load_hourly_profiles(monthly_eia_data_to_distribute, year)"
   ]
  },
  {
   "cell_type": "code",
   "execution_count": null,
   "metadata": {},
   "outputs": [],
   "source": [
    "print(hourly_profiles[['ba_code','fuel_category','profile_method']].drop_duplicates().pivot_table(index='fuel_category',columns='profile_method', aggfunc='count').fillna(0).astype(int))"
   ]
  },
  {
   "cell_type": "markdown",
   "metadata": {},
   "source": [
    "# investigate profile shapes"
   ]
  },
  {
   "cell_type": "code",
   "execution_count": null,
   "metadata": {},
   "outputs": [],
   "source": [
    "import plotly.express as px\n",
    "import src.eia930 as eia930"
   ]
  },
  {
   "cell_type": "code",
   "execution_count": null,
   "metadata": {},
   "outputs": [],
   "source": [
    "hydro_demand = load_data.load_raw_eia930_data(year, 'BALANCE')\n",
    "hydro_demand = hydro_demand[[\"Balancing Authority\",\"datetime_utc\",\"Demand (MW)\",\"Net Generation (MW)\",\"Net Generation (MW) from Hydropower and Pumped Storage\",]]"
   ]
  },
  {
   "cell_type": "code",
   "execution_count": null,
   "metadata": {},
   "outputs": [],
   "source": [
    "bas_with_no_hydro = hydro_demand.groupby(\"Balancing Authority\").sum().reset_index()\n",
    "bas_with_no_hydro = list(bas_with_no_hydro.loc[(bas_with_no_hydro[\"Net Generation (MW) from Hydropower and Pumped Storage\"] == 0),\"Balancing Authority\"])"
   ]
  },
  {
   "cell_type": "code",
   "execution_count": null,
   "metadata": {},
   "outputs": [],
   "source": [
    "hydro_demand = hydro_demand[~hydro_demand['Balancing Authority'].isin(bas_with_no_hydro)]"
   ]
  },
  {
   "cell_type": "code",
   "execution_count": null,
   "metadata": {},
   "outputs": [],
   "source": [
    "px.line(hydro_demand, x='datetime_utc', y='Net Generation (MW) from Hydropower and Pumped Storage', color='Balancing Authority')"
   ]
  },
  {
   "cell_type": "code",
   "execution_count": null,
   "metadata": {},
   "outputs": [],
   "source": [
    "hydro_corr = hydro_demand.groupby(\"Balancing Authority\")[[\"Demand (MW)\",\"Net Generation (MW) from Hydropower and Pumped Storage\"]].corr().reset_index()\n",
    "hydro_corr = hydro_corr[hydro_corr['level_1'] == 'Demand (MW)'].drop(columns=[\"Demand (MW)\",\"level_1\"])\n",
    "hydro_corr"
   ]
  },
  {
   "cell_type": "code",
   "execution_count": null,
   "metadata": {},
   "outputs": [],
   "source": []
  },
  {
   "cell_type": "code",
   "execution_count": null,
   "metadata": {},
   "outputs": [],
   "source": [
    "cleaned_930 = eia930.load_chalendar_for_pipeline(\n",
    "    \"../data/outputs/EBA_adjusted_elec.csv\", year=year\n",
    ")"
   ]
  },
  {
   "cell_type": "code",
   "execution_count": null,
   "metadata": {},
   "outputs": [],
   "source": [
    "cleaned_930.fuel_category.unique()"
   ]
  },
  {
   "cell_type": "code",
   "execution_count": null,
   "metadata": {},
   "outputs": [],
   "source": [
    "fuel = 'other'\n",
    "\n",
    "data_to_plot = cleaned_930[cleaned_930['fuel_category'] == fuel]\n",
    "\n",
    "px.line(data_to_plot, x='datetime_local', y='net_generation_mwh_930', color='ba_code')"
   ]
  },
  {
   "cell_type": "code",
   "execution_count": null,
   "metadata": {},
   "outputs": [],
   "source": [
    "data_to_plot"
   ]
  },
  {
   "cell_type": "code",
   "execution_count": null,
   "metadata": {},
   "outputs": [],
   "source": [
    "data_to_plot.pivot(index='datetime_local', columns='ba_code', values='net_generation_mwh_930').corr()"
   ]
  }
 ],
 "metadata": {
  "kernelspec": {
   "display_name": "Python 3.9.12 ('hourly_egrid')",
   "language": "python",
   "name": "python3"
  },
  "language_info": {
   "codemirror_mode": {
    "name": "ipython",
    "version": 3
   },
   "file_extension": ".py",
   "mimetype": "text/x-python",
   "name": "python",
   "nbconvert_exporter": "python",
   "pygments_lexer": "ipython3",
   "version": "3.9.12"
  },
  "orig_nbformat": 4,
  "vscode": {
   "interpreter": {
    "hash": "4103f3cd497821eca917ea303dbe10c590d787eb7d2dc3fd4e15dec0356e7931"
   }
  }
 },
 "nbformat": 4,
 "nbformat_minor": 2
}
