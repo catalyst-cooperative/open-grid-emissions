{
 "cells": [
  {
   "cell_type": "markdown",
   "metadata": {},
   "source": [
    "# About this notebook\n",
    "\n",
    "This notebook is for test running the data pipeline and  as a sandbox for testing new functions that we are adding to data pipeline."
   ]
  },
  {
   "cell_type": "code",
   "execution_count": 1,
   "metadata": {},
   "outputs": [],
   "source": [
    "# import packages\n",
    "import numpy as np\n",
    "import pandas as pd\n",
    "import argparse\n",
    "import os\n",
    "\n",
    "%reload_ext autoreload\n",
    "%autoreload 2\n",
    "\n",
    "# # Tell python where to look for modules.\n",
    "import sys\n",
    "\n",
    "sys.path.append(\"../../hourly-egrid/\")\n",
    "\n",
    "# import local modules\n",
    "import src.data_cleaning as data_cleaning\n",
    "import src.load_data as load_data\n",
    "import src.impute_hourly_profiles as impute_hourly_profiles\n",
    "import src.eia930 as eia930\n",
    "import src.output_data as output_data\n",
    "\n",
    "from src.column_checks import get_dtypes, apply_dtypes"
   ]
  },
  {
   "cell_type": "markdown",
   "metadata": {},
   "source": [
    "# Run the Pipeline"
   ]
  },
  {
   "cell_type": "code",
   "execution_count": null,
   "metadata": {},
   "outputs": [],
   "source": [
    "%cd ../src\n",
    "%run data_pipeline --year 2020"
   ]
  },
  {
   "cell_type": "code",
   "execution_count": null,
   "metadata": {},
   "outputs": [],
   "source": [
    "%cd ../src\n",
    "%run data_pipeline --small SMALL --year 2020"
   ]
  },
  {
   "cell_type": "markdown",
   "metadata": {},
   "source": [
    "# Functions for loading intermediate outputs"
   ]
  },
  {
   "cell_type": "code",
   "execution_count": null,
   "metadata": {},
   "outputs": [],
   "source": [
    "\n",
    "# load data from csv\n",
    "year = 2020\n",
    "path_prefix = ''\n",
    "\n",
    "cems = pd.read_csv(f'../data/outputs/{path_prefix}{year}/cems_{year}.csv', dtype=get_dtypes(), parse_dates=['datetime_utc', 'report_date'])\n",
    "partial_cems_scaled = pd.read_csv(f'../data/outputs/{path_prefix}{year}/partial_cems_scaled_{year}.csv', dtype=get_dtypes(), parse_dates=['datetime_utc', 'report_date'])\n",
    "eia923_allocated = pd.read_csv(f'../data/outputs/{path_prefix}{year}/eia923_allocated_{year}.csv', dtype=get_dtypes(), parse_dates=['report_date'])\n",
    "plant_attributes = pd.read_csv(f\"../data/outputs/{path_prefix}{year}/plant_static_attributes_{year}.csv\")\n",
    "primary_fuel_table = plant_attributes.drop_duplicates(subset=\"plant_id_eia\")[[\"plant_id_eia\", \"plant_primary_fuel\"]]\n",
    "residual_profiles = pd.read_csv(f\"../data/outputs/{path_prefix}{year}/residual_profiles_{year}.csv\")"
   ]
  },
  {
   "cell_type": "markdown",
   "metadata": {},
   "source": [
    "# TODO: Add output metrics back in"
   ]
  },
  {
   "cell_type": "code",
   "execution_count": null,
   "metadata": {},
   "outputs": [],
   "source": [
    "# output data quality metrics\n",
    "output_data.output_to_results(\n",
    "    validation.co2_source_metric(cems, partial_cems_scaled, monthly_eia_data_to_shape),\n",
    "    \"co2_measurement_source\",\n",
    "    \"validation_metrics/\",\n",
    "    path_prefix,\n",
    ")\n",
    "output_data.output_to_results(\n",
    "    validation.net_generation_method_metric(\n",
    "        cems, partial_cems_scaled, monthly_eia_data_to_shape\n",
    "    ),\n",
    "    \"net_generation_method\",\n",
    "    \"validation_metrics/\",\n",
    "    path_prefix,\n",
    ")\n",
    "\n",
    "output_data.output_to_results(\n",
    "    validation.hourly_profile_source_metric(\n",
    "        cems, partial_cems_scaled, monthly_eia_data_to_shape\n",
    "    ),\n",
    "    \"hourly_profile_method\",\n",
    "    \"validation_metrics/\",\n",
    "    path_prefix,\n",
    ")"
   ]
  },
  {
   "cell_type": "markdown",
   "metadata": {},
   "source": [
    "# Test Scaled Residuals\n",
    "\n",
    "- [ ] Issue 1: if there are any hours in the 930 net generation data that drop down close to zero (it seems like it never goes to zero, but instead drops to 1.0... not sure if that's part of the 930 data cleaning process?) the scaling factor that gets calculated is very small, meaning that the CEMS profile essentially goes to zero, which is not what we want.\n",
    "- [ ] Issue 2: In some cases, the scaled residual is turning out negative, which it should not be\n",
    "- [ ] Make sure the residual scaling is consistent with new methods\n"
   ]
  },
  {
   "cell_type": "code",
   "execution_count": 2,
   "metadata": {},
   "outputs": [],
   "source": [
    "from src.impute_hourly_profiles import *\n",
    "import plotly.express as px"
   ]
  },
  {
   "cell_type": "code",
   "execution_count": 3,
   "metadata": {},
   "outputs": [],
   "source": [
    "# load data from csv\n",
    "year = 2020\n",
    "path_prefix = ''\n",
    "cems = pd.read_csv(f'../data/outputs/{path_prefix}cems_{year}.csv', dtype=get_dtypes(), parse_dates=['report_date'])\n",
    "partial_cems_scaled = pd.read_csv(f'../data/outputs/{path_prefix}partial_cems_scaled_{year}.csv', dtype=get_dtypes(), parse_dates=['report_date'])\n",
    "plant_attributes = pd.read_csv(f\"../data/outputs/{path_prefix}{year}/plant_static_attributes_{year}.csv\")"
   ]
  },
  {
   "cell_type": "code",
   "execution_count": 4,
   "metadata": {},
   "outputs": [
    {
     "name": "stdout",
     "output_type": "stream",
     "text": [
      "10. Calculating residual net generation profiles from EIA-930\n"
     ]
    }
   ],
   "source": [
    "# 10. Calculate Residual Net Generation Profile\n",
    "print(\"10. Calculating residual net generation profiles from EIA-930\")\n",
    "\n",
    "# aggregate cems data to subplant level\n",
    "cems = data_cleaning.aggregate_cems_to_subplant(cems)\n",
    "\n",
    "# drop data from cems that is now in partial_cems\n",
    "cems = data_cleaning.filter_unique_cems_data(cems, partial_cems_scaled)"
   ]
  },
  {
   "cell_type": "code",
   "execution_count": 5,
   "metadata": {},
   "outputs": [
    {
     "name": "stderr",
     "output_type": "stream",
     "text": [
      "a:\\GitHub\\hourly-egrid\\notebooks\\../../hourly-egrid\\src\\eia930.py:173: FutureWarning: Setitem-like behavior with mismatched timezones is deprecated and will change in a future version. Instead of raising (or for Index, Series, and DataFrame methods, coercing to object dtype), the value being set (or passed as a fill_value, or inserted) will be cast to the existing DatetimeArray/DatetimeIndex/Series/DataFrame column's timezone. To retain the old behavior, explicitly cast to object dtype before the operation.\n",
      "  data.loc[data.ba_code == ba, \"datetime_local\"] = data.loc[\n"
     ]
    }
   ],
   "source": [
    "clean_930_file = \"../data/downloads/eia930/chalendar/EBA_elec.csv\"\n",
    "eia930_data = eia930.load_chalendar_for_pipeline(clean_930_file, year=year)"
   ]
  },
  {
   "cell_type": "code",
   "execution_count": 7,
   "metadata": {},
   "outputs": [],
   "source": [
    "cems['datetime_utc'] = pd.to_datetime(cems['datetime_utc'])"
   ]
  },
  {
   "cell_type": "code",
   "execution_count": null,
   "metadata": {},
   "outputs": [],
   "source": [
    "residual_profiles = impute_hourly_profiles.calculate_residual(\n",
    "    cems, eia930_data, plant_attributes, year\n",
    ")"
   ]
  },
  {
   "cell_type": "code",
   "execution_count": null,
   "metadata": {},
   "outputs": [],
   "source": [
    "residual_profiles"
   ]
  },
  {
   "cell_type": "code",
   "execution_count": null,
   "metadata": {},
   "outputs": [],
   "source": [
    "# Options for how to group. Could make command line arguments if needed.\n",
    "# transmission = True and physical BA code is based on EIA-930 instructions\n",
    "TRANSMISSION = False  # use only transmission-level connections?\n",
    "BA_CODE = \"ba_code\"  # ba_code or ba_code_physical?\n",
    "\n",
    "# Name column same as 930, hourly_profiles.\n",
    "cems = cems.merge(plant_attributes, how=\"left\", on=\"plant_id_eia\")\n",
    "\n",
    "cems = aggregate_for_residual(\n",
    "    cems, \"datetime_utc\", BA_CODE, transmission=TRANSMISSION\n",
    ")\n",
    "combined_data = eia930_data.merge(\n",
    "    cems, how=\"left\", on=[\"ba_code\", \"fuel_category_eia930\", \"datetime_utc\"]\n",
    ")\n",
    "\n",
    "# only keep rows where local datetime is in the current year\n",
    "combined_data = combined_data[\n",
    "    combined_data[\"datetime_local\"].apply(lambda x: x.year) == year\n",
    "]\n",
    "\n",
    "# if there is no cems data for a ba-fuel, replace missing values with zero\n",
    "combined_data[\"net_generation_mwh\"] = combined_data[\"net_generation_mwh\"].fillna(0)"
   ]
  },
  {
   "cell_type": "code",
   "execution_count": null,
   "metadata": {},
   "outputs": [],
   "source": [
    "test_data = combined_data[(combined_data['ba_code'] == 'BANC') & (combined_data['fuel_category_eia930'] == 'natural_gas')]"
   ]
  },
  {
   "cell_type": "code",
   "execution_count": null,
   "metadata": {},
   "outputs": [],
   "source": [
    "test_data['net_generation_mwh'] = test_data['net_generation_mwh'].shift(periods=1)"
   ]
  },
  {
   "cell_type": "code",
   "execution_count": null,
   "metadata": {},
   "outputs": [],
   "source": [
    "test_data['residual'] = test_data[\"net_generation_mwh_930\"] - test_data['net_generation_mwh']"
   ]
  },
  {
   "cell_type": "code",
   "execution_count": null,
   "metadata": {},
   "outputs": [],
   "source": [
    "px.line(test_data, x='datetime_utc', y=['net_generation_mwh_930','net_generation_mwh',\"residual\"])"
   ]
  },
  {
   "cell_type": "markdown",
   "metadata": {},
   "source": [
    "# Test Hourly Profiles"
   ]
  },
  {
   "cell_type": "code",
   "execution_count": null,
   "metadata": {},
   "outputs": [],
   "source": [
    "# load data from csv\n",
    "year = 2020\n",
    "path_prefix = ''\n",
    "eia923_allocated = pd.read_csv(f'../data/outputs/{path_prefix}eia923_allocated_{year}.csv', dtype=get_dtypes(), parse_dates=['report_date'])\n",
    "plant_attributes = pd.read_csv(f\"../data/outputs/{path_prefix}plant_static_attributes_{year}.csv\")\n",
    "primary_fuel_table = plant_attributes.drop_duplicates(subset=\"plant_id_eia\")[[\"plant_id_eia\", \"plant_primary_fuel\"]]\n",
    "residual_profiles = pd.read_csv(f'../data/outputs/{path_prefix}residual_profiles_{year}.csv', dtype=get_dtypes(), parse_dates=['report_date'])\n"
   ]
  },
  {
   "cell_type": "code",
   "execution_count": null,
   "metadata": {},
   "outputs": [],
   "source": [
    "monthly_eia_data_to_shape = eia923_allocated[\n",
    "        (eia923_allocated[\"hourly_data_source\"] == \"eia\")\n",
    "        & ~(eia923_allocated[\"fuel_consumed_mmbtu\"].isna())\n",
    "    ]"
   ]
  },
  {
   "cell_type": "code",
   "execution_count": null,
   "metadata": {},
   "outputs": [],
   "source": [
    "plant_attributes['ba_code'] = plant_attributes['ba_code'].fillna('RIMS')"
   ]
  },
  {
   "cell_type": "code",
   "execution_count": null,
   "metadata": {},
   "outputs": [],
   "source": [
    "\n",
    "hourly_profiles = impute_hourly_profiles.impute_missing_hourly_profiles(\n",
    "    monthly_eia_data_to_shape, residual_profiles, plant_attributes, year\n",
    ")\n"
   ]
  },
  {
   "cell_type": "code",
   "execution_count": null,
   "metadata": {},
   "outputs": [],
   "source": [
    "# make sure there is no duplicated data\n",
    "hourly_profiles[hourly_profiles.duplicated(subset=[\"ba_code\",\"fuel_category\",\"datetime_local\"])]"
   ]
  },
  {
   "cell_type": "code",
   "execution_count": null,
   "metadata": {},
   "outputs": [],
   "source": [
    "hourly_profiles[(hourly_profiles['ba_code'] == 'AVRN') & (hourly_profiles['fuel_category'] == 'solar') & (hourly_profiles['report_date'] == '2020-01-01')]"
   ]
  },
  {
   "cell_type": "code",
   "execution_count": null,
   "metadata": {},
   "outputs": [],
   "source": [
    "# make sure there is no na or inf data\n",
    "hourly_profiles[hourly_profiles.isna().any(axis=1)]"
   ]
  },
  {
   "cell_type": "code",
   "execution_count": null,
   "metadata": {},
   "outputs": [],
   "source": [
    "# validate hourly profiles\n",
    "# make sure that no profiles are negative\n",
    "hourly_profiles[(hourly_profiles['profile'] < 0)]"
   ]
  },
  {
   "cell_type": "code",
   "execution_count": null,
   "metadata": {},
   "outputs": [],
   "source": [
    "hourly_profiles"
   ]
  },
  {
   "cell_type": "code",
   "execution_count": null,
   "metadata": {},
   "outputs": [],
   "source": [
    "hourly_profiles = impute_hourly_profiles.convert_profile_to_percent(hourly_profiles)"
   ]
  },
  {
   "cell_type": "code",
   "execution_count": null,
   "metadata": {},
   "outputs": [],
   "source": [
    "# make sure there is no na or inf data\n",
    "hourly_profiles[hourly_profiles.isna().any(axis=1)]"
   ]
  },
  {
   "cell_type": "code",
   "execution_count": null,
   "metadata": {},
   "outputs": [],
   "source": [
    "hourly_profiles[(hourly_profiles['profile'] == np.inf)]"
   ]
  },
  {
   "cell_type": "code",
   "execution_count": null,
   "metadata": {},
   "outputs": [],
   "source": [
    "monthly_eia_data_to_shape_ba = monthly_eia_data_to_shape.merge(\n",
    "        plant_attributes[[\"plant_id_eia\", \"ba_code\", \"fuel_category\"]],\n",
    "        how=\"left\",\n",
    "        on=\"plant_id_eia\",\n",
    "    )"
   ]
  },
  {
   "cell_type": "code",
   "execution_count": null,
   "metadata": {},
   "outputs": [],
   "source": [
    "# Aggregate EIA data to BA/fuel/month, then assign hourly profile per BA/fuel\n",
    "monthly_eia_data_to_shape_agg = impute_hourly_profiles.aggregate_eia_data_to_ba_fuel(\n",
    "    monthly_eia_data_to_shape, plant_attributes\n",
    ")"
   ]
  },
  {
   "cell_type": "code",
   "execution_count": null,
   "metadata": {},
   "outputs": [],
   "source": [
    "hourly_profiles[(hourly_profiles['ba_code'] == 'AEC') & (hourly_profiles['fuel_category'] == 'hydro') & (hourly_profiles['report_date'] == '2020-4-01')]"
   ]
  },
  {
   "cell_type": "code",
   "execution_count": null,
   "metadata": {},
   "outputs": [],
   "source": [
    "shaped_eia_data = impute_hourly_profiles.shape_monthly_eia_data_as_hourly(\n",
    "        monthly_eia_data_to_shape_agg, hourly_profiles\n",
    "    )"
   ]
  },
  {
   "cell_type": "code",
   "execution_count": null,
   "metadata": {},
   "outputs": [],
   "source": [
    "shaped_eia_data[(shaped_eia_data['ba_code'] == 'SWPP') & (shaped_eia_data['fuel_category'] == 'solar') & (hourly_profiles['report_date'] == '2020-4-01')]"
   ]
  },
  {
   "cell_type": "markdown",
   "metadata": {},
   "source": [
    "# Investigate missing data"
   ]
  },
  {
   "cell_type": "code",
   "execution_count": null,
   "metadata": {},
   "outputs": [],
   "source": [
    "year = 2020\n",
    "path_prefix = ''\n",
    "eia923_allocated = pd.read_csv(f'../data/outputs/{path_prefix}eia923_allocated_{year}.csv', parse_dates=['report_date'])\n",
    "plant_frame = pd.read_csv(f\"../data/outputs/{path_prefix}plant_static_attributes_{year}.csv\")\n",
    "residual_profiles = pd.read_csv(f\"../data/outputs/{path_prefix}residual_profiles_{year}.csv\")\n",
    "eia923_allocated = eia923_allocated.merge(plant_frame, how='left', on='plant_id_eia')"
   ]
  },
  {
   "cell_type": "code",
   "execution_count": null,
   "metadata": {},
   "outputs": [],
   "source": [
    "# 11. Assign hourly profile to monthly data\n",
    "print(\"Assigning hourly profile to monthly EIA-923 data\")\n",
    "# create a separate dataframe containing only the generators for which we do not have CEMS data\n",
    "monthly_eia_data_to_shape = eia923_allocated[\n",
    "    (eia923_allocated[\"hourly_data_source\"] == \"eia\")\n",
    "    & ~(eia923_allocated[\"fuel_consumed_mmbtu\"].isna())\n",
    "]"
   ]
  },
  {
   "cell_type": "code",
   "execution_count": null,
   "metadata": {},
   "outputs": [],
   "source": [
    "monthly_data_to_shape[monthly_data_to_shape['energy_source_code'] == 'SUN']"
   ]
  },
  {
   "cell_type": "code",
   "execution_count": null,
   "metadata": {},
   "outputs": [],
   "source": [
    "hourly_profiles = impute_hourly_profiles.impute_missing_hourly_profiles(\n",
    "    monthly_eia_data_to_shape, residual_profiles, year\n",
    ")"
   ]
  },
  {
   "cell_type": "code",
   "execution_count": null,
   "metadata": {},
   "outputs": [],
   "source": [
    "hourly_profiles['report_date'] = pd.to_datetime(hourly_profiles['report_date'])"
   ]
  },
  {
   "cell_type": "code",
   "execution_count": null,
   "metadata": {},
   "outputs": [],
   "source": [
    "hourly_profiles[(hourly_profiles['fuel_category'] == 'solar') & (hourly_profiles['ba_code'] == 'ISNE')]"
   ]
  },
  {
   "cell_type": "code",
   "execution_count": null,
   "metadata": {},
   "outputs": [],
   "source": [
    "px.line(hourly_profiles[hourly_profiles['fuel_category'] == 'solar'], x='datetime_local', y='profile', color='ba_code')"
   ]
  },
  {
   "cell_type": "code",
   "execution_count": null,
   "metadata": {},
   "outputs": [],
   "source": [
    "hourly_profiles = impute_hourly_profiles.convert_profile_to_percent(hourly_profiles)"
   ]
  },
  {
   "cell_type": "code",
   "execution_count": null,
   "metadata": {},
   "outputs": [],
   "source": [
    "px.line(hourly_profiles[hourly_profiles['fuel_category'] == 'solar'], x='datetime_local', y='profile', color='ba_code')"
   ]
  },
  {
   "cell_type": "code",
   "execution_count": null,
   "metadata": {},
   "outputs": [],
   "source": [
    "\n",
    "shaped_eia_data = impute_hourly_profiles.shape_monthly_eia_data_as_hourly(\n",
    "    monthly_eia_data_to_shape, hourly_profiles\n",
    ")"
   ]
  },
  {
   "cell_type": "code",
   "execution_count": null,
   "metadata": {},
   "outputs": [],
   "source": [
    "# specify columns containing monthly data that should be distributed to hourly\n",
    "columns_to_shape = [\n",
    "    \"net_generation_mwh\",\n",
    "    \"fuel_consumed_mmbtu\",\n",
    "    \"fuel_consumed_for_electricity_mmbtu\",\n",
    "    \"co2_mass_lb\",\n",
    "    \"ch4_mass_lb\",\n",
    "    \"n2o_mass_lb\",\n",
    "    \"nox_mass_lb\",\n",
    "    \"so2_mass_lb\",\n",
    "    \"co2_mass_lb_for_electricity\",\n",
    "    \"ch4_mass_lb_for_electricity\",\n",
    "    \"n2o_mass_lb_for_electricity\",\n",
    "    \"nox_mass_lb_for_electricity\",\n",
    "    \"so2_mass_lb_for_electricity\",\n",
    "    \"co2_mass_lb_adjusted\",\n",
    "    \"ch4_mass_lb_adjusted\",\n",
    "    \"n2o_mass_lb_adjusted\",\n",
    "    \"nox_mass_lb_adjusted\",\n",
    "    \"so2_mass_lb_adjusted\",\n",
    "]\n",
    "\n",
    "# group eia data by plant\n",
    "shaped_monthly_data = (\n",
    "    monthly_eia_data_to_shape.groupby(\n",
    "        [\n",
    "            \"plant_id_eia\",\n",
    "            \"subplant_id\",\n",
    "            \"report_date\",\n",
    "            \"plant_primary_fuel\",\n",
    "            \"hourly_data_source\",\n",
    "            \"fuel_category\",\n",
    "            \"fuel_category_eia930\",\n",
    "            \"ba_code\",\n",
    "            \"ba_code_physical\",\n",
    "            \"state\",\n",
    "            \"distribution_flag\",\n",
    "        ],dropna=False)\n",
    "    .sum()\n",
    "    .reset_index()\n",
    ")"
   ]
  },
  {
   "cell_type": "code",
   "execution_count": null,
   "metadata": {},
   "outputs": [],
   "source": [
    "monthly_eia_data_to_shape.plant_primary_fuel.unique()"
   ]
  },
  {
   "cell_type": "code",
   "execution_count": null,
   "metadata": {},
   "outputs": [],
   "source": [
    "shaped_monthly_data.plant_primary_fuel.unique()"
   ]
  },
  {
   "cell_type": "code",
   "execution_count": null,
   "metadata": {},
   "outputs": [],
   "source": [
    "\n",
    "\n",
    "# merge the hourly profiles into each plant-month\n",
    "shaped_monthly_data = shaped_monthly_data.merge(\n",
    "    hourly_profiles, how=\"left\", on=[\"report_date\", \"fuel_category\", \"ba_code\"]\n",
    ")\n",
    "\n",
    "# plant-months where there is negative net generation, assign a flat profile\n",
    "shaped_monthly_data.loc[\n",
    "    shaped_monthly_data[\"net_generation_mwh\"] < 0, \"profile\"\n",
    "] = 1 / (shaped_monthly_data[\"report_date\"].dt.daysinmonth * 24)\n",
    "shaped_monthly_data.loc[\n",
    "    shaped_monthly_data[\"net_generation_mwh\"] < 0, \"profile_method\"\n",
    "] = \"flat_negative_generation\"\n",
    "\n",
    "# shape the data\n",
    "for column in columns_to_shape:\n",
    "    shaped_monthly_data[column] = (\n",
    "        shaped_monthly_data[column] * shaped_monthly_data[\"profile\"]\n",
    "    )\n",
    "shaped_monthly_data = shaped_monthly_data.drop(columns=[\"profile\"])\n",
    "\n",
    "# re order the columns\n",
    "column_order = [\n",
    "    \"plant_id_eia\",\n",
    "    \"subplant_id\",\n",
    "    \"datetime_local\",\n",
    "    \"datetime_utc\",\n",
    "    \"report_date\",\n",
    "    \"net_generation_mwh\",\n",
    "    \"fuel_consumed_mmbtu\",\n",
    "    \"fuel_consumed_for_electricity_mmbtu\",\n",
    "    \"co2_mass_lb\",\n",
    "    \"ch4_mass_lb\",\n",
    "    \"n2o_mass_lb\",\n",
    "    \"nox_mass_lb\",\n",
    "    \"so2_mass_lb\",\n",
    "    \"co2_mass_lb_for_electricity\",\n",
    "    \"ch4_mass_lb_for_electricity\",\n",
    "    \"n2o_mass_lb_for_electricity\",\n",
    "    \"nox_mass_lb_for_electricity\",\n",
    "    \"so2_mass_lb_for_electricity\",\n",
    "    \"co2_mass_lb_adjusted\",\n",
    "    \"ch4_mass_lb_adjusted\",\n",
    "    \"n2o_mass_lb_adjusted\",\n",
    "    \"nox_mass_lb_adjusted\",\n",
    "    \"so2_mass_lb_adjusted\",\n",
    "    \"profile_method\",\n",
    "    \"hourly_data_source\",\n",
    "]\n",
    "shaped_monthly_data = shaped_monthly_data[column_order]"
   ]
  },
  {
   "cell_type": "code",
   "execution_count": null,
   "metadata": {},
   "outputs": [],
   "source": [
    "shaped_eia_data[(shaped_eia_data['fuel_category'] == 'solar')]"
   ]
  },
  {
   "cell_type": "markdown",
   "metadata": {},
   "source": [
    "# Combine all plant data together"
   ]
  },
  {
   "cell_type": "code",
   "execution_count": null,
   "metadata": {},
   "outputs": [],
   "source": [
    "# load data from csv\n",
    "year = 2020\n",
    "path_prefix = ''\n",
    "cems = pd.read_csv(f'../data/outputs/{path_prefix}cems_{year}.csv')\n",
    "partial_cems = pd.read_csv(f'../data/outputs/{path_prefix}partial_cems_scaled_{year}.csv')\n",
    "shaped_eia_data = pd.read_csv(f'../data/outputs/{path_prefix}shaped_eia923_data{year}.csv')\n",
    "plant_frame = pd.read_csv(f\"../data/outputs/{path_prefix}plant_static_attributes.csv\")\n"
   ]
  },
  {
   "cell_type": "code",
   "execution_count": null,
   "metadata": {},
   "outputs": [],
   "source": [
    "# check that none of the sources have overlapping subplant-months\n",
    "columns_to_check_for_duplicates = ['plant_id_eia','subplant_id','report_date']\n",
    "cems_subplant_months = cems[columns_to_check_for_duplicates].drop_duplicates()\n",
    "cems_subplant_months['cems'] = 1\n",
    "partial_cems_subplant_months = partial_cems[columns_to_check_for_duplicates].drop_duplicates()\n",
    "partial_cems_subplant_months['partial_cems'] = 1\n",
    "shaped_eia_subplant_months = shaped_eia_data[columns_to_check_for_duplicates].drop_duplicates()\n",
    "shaped_eia_subplant_months['shaped_eia'] = 1\n",
    "\n",
    "data_source_overlap = cems_subplant_months.merge(partial_cems_subplant_months, how='outer',on=columns_to_check_for_duplicates).merge(shaped_eia_subplant_months, how='outer',on=columns_to_check_for_duplicates).fillna(0)\n",
    "data_source_overlap\n",
    "\n",
    "# check that there is no overlap between shaped eia and cems data\n",
    "data_source_overlap[(data_source_overlap.shaped_eia == 1) & ((data_source_overlap.cems == 1) | (data_source_overlap.partial_cems == 1))]\n",
    "\n",
    "# check for overlap between cems and partial cems data\n",
    "data_source_overlap[(data_source_overlap.cems == 1) & (data_source_overlap.partial_cems == 1)]"
   ]
  },
  {
   "cell_type": "code",
   "execution_count": null,
   "metadata": {},
   "outputs": [],
   "source": [
    "cems = data_cleaning.filter_unique_cems_data(cems, partial_cems)"
   ]
  },
  {
   "cell_type": "code",
   "execution_count": null,
   "metadata": {},
   "outputs": [],
   "source": [
    "combined_plant_data = data_cleaning.combine_subplant_data(cems, partial_cems, shaped_eia_data)\n",
    "combined_plant_data"
   ]
  },
  {
   "cell_type": "code",
   "execution_count": null,
   "metadata": {},
   "outputs": [],
   "source": [
    "ba_tz = load_data.load_ba_reference()[[\"ba_code\", \"timezone_local\"]]\n"
   ]
  },
  {
   "cell_type": "code",
   "execution_count": null,
   "metadata": {},
   "outputs": [],
   "source": [
    "ba_table.columns"
   ]
  },
  {
   "cell_type": "code",
   "execution_count": null,
   "metadata": {},
   "outputs": [],
   "source": [
    "ba_tz = load_data.load_ba_reference()[[\"ba_code\", \"timezone_local\"]]\n",
    "generated_emission_rate_columns = [\n",
    "    \"generated_co2_rate_lb_per_mwh_for_electricity\",\n",
    "    \"generated_ch4_rate_lb_per_mwh_for_electricity\",\n",
    "    \"generated_n2o_rate_lb_per_mwh_for_electricity\",\n",
    "    \"generated_nox_rate_lb_per_mwh_for_electricity\",\n",
    "    \"generated_so2_rate_lb_per_mwh_for_electricity\",\n",
    "    \"generated_co2_rate_lb_per_mwh_adjusted\",\n",
    "    \"generated_ch4_rate_lb_per_mwh_adjusted\",\n",
    "    \"generated_n2o_rate_lb_per_mwh_adjusted\",\n",
    "    \"generated_nox_rate_lb_per_mwh_adjusted\",\n",
    "    \"generated_so2_rate_lb_per_mwh_adjusted\",\n",
    "]\n",
    "\n",
    "for ba in list(ba_fuel_data.ba_code.unique()):\n",
    "\n",
    "    # filter the data for a single BA\n",
    "    ba_table = ba_fuel_data[ba_fuel_data[\"ba_code\"] == ba].drop(columns=\"ba_code\")\n",
    "\n",
    "    # convert the datetime_utc column back to a datetime\n",
    "    ba_table[\"datetime_utc\"] = pd.to_datetime(ba_table[\"datetime_utc\"], utc=True)\n",
    "\n",
    "    # calculate a total for the BA\n",
    "    ba_total = ba_table.groupby([\"datetime_utc\"]).sum()[data_columns].reset_index()\n",
    "    ba_total[\"fuel_category\"] = \"total\"\n",
    "\n",
    "    # concat the totals to the fuel-specific totals\n",
    "    ba_table = pd.concat([ba_table, ba_total], axis=0, ignore_index=True)\n",
    "\n",
    "    # round all values to one decimal place\n",
    "    ba_table = ba_table.round(2)\n",
    "\n",
    "    for emission_type in [\"_for_electricity\", \"_adjusted\"]:\n",
    "        for emission in [\"co2\", \"ch4\", \"n2o\", \"nox\", \"so2\"]:\n",
    "            ba_table[f\"generated_{emission}_rate_lb_per_mwh{emission_type}\"] = (\n",
    "                (\n",
    "                    ba_table[f\"{emission}_mass_lb{emission_type}\"]\n",
    "                    / ba_table[\"net_generation_mwh\"]\n",
    "                )\n",
    "                .fillna(0)\n",
    "                .replace(np.inf, np.NaN)\n",
    "                .replace(-np.inf, np.NaN)\n",
    "            )\n",
    "\n",
    "    # create a local datetime column\n",
    "    local_tz = ba_tz.loc[ba_tz[\"ba_code\"] == ba, \"timezone_local\"].item()\n",
    "    ba_table[\"datetime_local\"] = ba_table[\"datetime_utc\"].dt.tz_convert(local_tz)\n",
    "\n",
    "    # re-order columns\n",
    "    ba_table = ba_table[['fuel_category','datetime_local','datetime_utc'] + data_columns + generated_emission_rate_columns]\n",
    "\n",
    "    # export to a csv\n",
    "    ba_table.to_csv(\n",
    "        f\"../data/results/{path_prefix}power_sector_data/{ba}.csv\", index=False\n",
    "    )\n",
    "\n"
   ]
  },
  {
   "cell_type": "code",
   "execution_count": null,
   "metadata": {},
   "outputs": [],
   "source": [
    "for ba in list(ba_fuel_data.ba_code.unique()):\n",
    "\n",
    "    # filter the data for a single BA\n",
    "    ba_table = ba_fuel_data[ba_fuel_data[\"ba_code\"] == ba].drop(columns=\"ba_code\")\n",
    "\n",
    "    # convert the datetime_utc column back to a datetime\n",
    "    ba_table[\"datetime_utc\"] = pd.to_datetime(ba_table[\"datetime_utc\"], utc=True)\n",
    "\n",
    "    # calculate a total for the BA\n",
    "    ba_total = (\n",
    "        ba_table.groupby([\"datetime_utc\"])\n",
    "        .sum()[data_columns]\n",
    "        .reset_index()\n",
    "    )\n",
    "    ba_total[\"fuel_category\"] = \"total\"\n",
    "\n",
    "    # concat the totals to the fuel-specific totals\n",
    "    ba_table = pd.concat([ba_table, ba_total], axis=0, ignore_index=True)\n",
    "\n",
    "    # round all values to one decimal place\n",
    "    ba_table = ba_table.round(1)\n",
    "\n",
    "    for emission_type in ['_for_electricity','_adjusted']:\n",
    "        for emission in ['co2','ch4','n2o','nox','so2']:\n",
    "            ba_table[f\"generated_{emission}_rate_lb_per_mwh{emission_type}\"] = (\n",
    "                    (ba_table[f\"{emission}_mass_lb{emission_type}\"] / ba_table[\"net_generation_mwh\"])\n",
    "                    .fillna(0)\n",
    "                    .replace(np.inf, np.NaN).replace(-np.inf, np.NaN)\n",
    "                )\n",
    "\n",
    "    # export to a csv\n",
    "    ba_table.to_csv(f\"../data/results/{path_prefix}power_sector_data/{ba}.csv\")"
   ]
  },
  {
   "cell_type": "markdown",
   "metadata": {},
   "source": [
    "# Test new functions"
   ]
  },
  {
   "cell_type": "code",
   "execution_count": null,
   "metadata": {},
   "outputs": [],
   "source": [
    "year = 2020\n",
    "path_prefix = ''\n",
    "cems = pd.read_csv(f'../data/outputs/{path_prefix}cems_{year}.csv', parse_dates=['operating_datetime_utc','report_date'])\n",
    "eia923_allocated = pd.read_csv(f'../data/outputs/{path_prefix}eia923_allocated_{year}.csv', parse_dates=['report_date'])"
   ]
  },
  {
   "cell_type": "code",
   "execution_count": null,
   "metadata": {},
   "outputs": [],
   "source": [
    "cems.energy_source_code.unique()"
   ]
  },
  {
   "cell_type": "code",
   "execution_count": null,
   "metadata": {},
   "outputs": [],
   "source": [
    "cems[cems['energy_source_code'] == 'MSW']"
   ]
  },
  {
   "cell_type": "code",
   "execution_count": null,
   "metadata": {},
   "outputs": [],
   "source": [
    "\n",
    "px.line(cems[cems['energy_source_code'] == 'BLQ'], x='operating_datetime_utc', y='fuel_consumed_mmbtu', color='cems_id')"
   ]
  },
  {
   "cell_type": "code",
   "execution_count": null,
   "metadata": {},
   "outputs": [],
   "source": [
    "plant_frame = pd.read_csv(f\"../data/outputs/{path_prefix}plant_static_attributes.csv\")\n",
    "eia923_allocated = eia923_allocated.merge(plant_frame, how='left', on='plant_id_eia')"
   ]
  },
  {
   "cell_type": "code",
   "execution_count": null,
   "metadata": {},
   "outputs": [],
   "source": [
    "# 11. Assign hourly profile to monthly data\n",
    "print('Assigning hourly profile to monthly EIA-923 data')\n",
    "# create a separate dataframe containing only the generators for which we do not have CEMS data\n",
    "monthly_eia_data_to_distribute = eia923_allocated[\n",
    "    (eia923_allocated[\"hourly_data_source\"] == \"eia\")\n",
    "    & ~(eia923_allocated[\"fuel_consumed_mmbtu\"].isna())\n",
    "]\n",
    "# load profile data and format for use in the pipeline\n",
    "# TODO: once this is in the pipeline (step 10), may not need to read file\n",
    "hourly_profiles = pd.read_csv(\n",
    "    \"../data/outputs/residual_profiles.csv\", parse_dates=[\"report_date\"]\n",
    ")\n"
   ]
  },
  {
   "cell_type": "code",
   "execution_count": null,
   "metadata": {},
   "outputs": [],
   "source": [
    "available_profiles = hourly_profiles[['ba_code','fuel_category']].drop_duplicates()\n",
    "ba_fuel_to_distribute = monthly_eia_data_to_distribute[['ba_code','fuel_category']].drop_duplicates().dropna()\n",
    "missing_profiles = ba_fuel_to_distribute.merge(available_profiles, how='outer', on=['ba_code','fuel_category'], indicator='source')\n",
    "missing_profiles = missing_profiles[missing_profiles.source == 'left_only']\n",
    "missing_profiles.sort_values(by=['fuel_category','ba_code'])"
   ]
  },
  {
   "cell_type": "code",
   "execution_count": null,
   "metadata": {},
   "outputs": [],
   "source": [
    "hourly_profiles = hourly_profiles.load_hourly_profiles(monthly_eia_data_to_distribute, year)"
   ]
  },
  {
   "cell_type": "code",
   "execution_count": null,
   "metadata": {},
   "outputs": [],
   "source": [
    "print(hourly_profiles[['ba_code','fuel_category','profile_method']].drop_duplicates().pivot_table(index='fuel_category',columns='profile_method', aggfunc='count').fillna(0).astype(int))"
   ]
  },
  {
   "cell_type": "markdown",
   "metadata": {},
   "source": [
    "# investigate profile shapes"
   ]
  },
  {
   "cell_type": "code",
   "execution_count": null,
   "metadata": {},
   "outputs": [],
   "source": [
    "import plotly.express as px\n",
    "import src.eia930 as eia930"
   ]
  },
  {
   "cell_type": "code",
   "execution_count": null,
   "metadata": {},
   "outputs": [],
   "source": [
    "hydro_demand = load_data.load_raw_eia930_data(year, 'BALANCE')\n",
    "hydro_demand = hydro_demand[[\"Balancing Authority\",\"datetime_utc\",\"Demand (MW)\",\"Net Generation (MW)\",\"Net Generation (MW) from Hydropower and Pumped Storage\",]]"
   ]
  },
  {
   "cell_type": "code",
   "execution_count": null,
   "metadata": {},
   "outputs": [],
   "source": [
    "bas_with_no_hydro = hydro_demand.groupby(\"Balancing Authority\").sum().reset_index()\n",
    "bas_with_no_hydro = list(bas_with_no_hydro.loc[(bas_with_no_hydro[\"Net Generation (MW) from Hydropower and Pumped Storage\"] == 0),\"Balancing Authority\"])"
   ]
  },
  {
   "cell_type": "code",
   "execution_count": null,
   "metadata": {},
   "outputs": [],
   "source": [
    "hydro_demand = hydro_demand[~hydro_demand['Balancing Authority'].isin(bas_with_no_hydro)]"
   ]
  },
  {
   "cell_type": "code",
   "execution_count": null,
   "metadata": {},
   "outputs": [],
   "source": [
    "px.line(hydro_demand, x='datetime_utc', y='Net Generation (MW) from Hydropower and Pumped Storage', color='Balancing Authority')"
   ]
  },
  {
   "cell_type": "code",
   "execution_count": null,
   "metadata": {},
   "outputs": [],
   "source": [
    "hydro_corr = hydro_demand.groupby(\"Balancing Authority\")[[\"Demand (MW)\",\"Net Generation (MW) from Hydropower and Pumped Storage\"]].corr().reset_index()\n",
    "hydro_corr = hydro_corr[hydro_corr['level_1'] == 'Demand (MW)'].drop(columns=[\"Demand (MW)\",\"level_1\"])\n",
    "hydro_corr"
   ]
  },
  {
   "cell_type": "code",
   "execution_count": null,
   "metadata": {},
   "outputs": [],
   "source": []
  },
  {
   "cell_type": "code",
   "execution_count": null,
   "metadata": {},
   "outputs": [],
   "source": [
    "cleaned_930 = eia930.load_chalendar_for_pipeline(\n",
    "    \"../data/outputs/EBA_adjusted_elec.csv\", year=year\n",
    ")"
   ]
  },
  {
   "cell_type": "code",
   "execution_count": null,
   "metadata": {},
   "outputs": [],
   "source": [
    "cleaned_930.fuel_category.unique()"
   ]
  },
  {
   "cell_type": "code",
   "execution_count": null,
   "metadata": {},
   "outputs": [],
   "source": [
    "fuel = 'other'\n",
    "\n",
    "data_to_plot = cleaned_930[cleaned_930['fuel_category'] == fuel]\n",
    "\n",
    "px.line(data_to_plot, x='datetime_local', y='net_generation_mwh_930', color='ba_code')"
   ]
  },
  {
   "cell_type": "code",
   "execution_count": null,
   "metadata": {},
   "outputs": [],
   "source": [
    "data_to_plot"
   ]
  },
  {
   "cell_type": "code",
   "execution_count": null,
   "metadata": {},
   "outputs": [],
   "source": [
    "data_to_plot.pivot(index='datetime_local', columns='ba_code', values='net_generation_mwh_930').corr()"
   ]
  }
 ],
 "metadata": {
  "interpreter": {
   "hash": "4103f3cd497821eca917ea303dbe10c590d787eb7d2dc3fd4e15dec0356e7931"
  },
  "kernelspec": {
   "display_name": "Python 3.9.12 ('hourly_egrid')",
   "language": "python",
   "name": "python3"
  },
  "language_info": {
   "codemirror_mode": {
    "name": "ipython",
    "version": 3
   },
   "file_extension": ".py",
   "mimetype": "text/x-python",
   "name": "python",
   "nbconvert_exporter": "python",
   "pygments_lexer": "ipython3",
   "version": "3.9.12"
  },
  "orig_nbformat": 4
 },
 "nbformat": 4,
 "nbformat_minor": 2
}
